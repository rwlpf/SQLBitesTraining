{
    "metadata": {
        "kernelspec": {
            "name": "SQL",
            "display_name": "SQL",
            "language": "sql"
        },
        "language_info": {
            "name": "sql",
            "version": ""
        }
    },
    "nbformat_minor": 2,
    "nbformat": 4,
    "cells": [
        {
            "cell_type": "markdown",
            "source": "## Microsoft book online describes the APPLY keyword allow a query to invoke a table value function.  This is only one of the uses of the APPLY keyword. \r\n\r\n## First lets look at the basic syntax using Cross Apply\r\n\r\n#\r\n\r\n<h1> SELECT </br>\r\n * </br>\r\nFROM Table AS T</br>\r\nCROSS APPLY </br>\r\n[dbo].[exampleTVF] (T.fk) AS CA</br>\r\n\r\n<h1> SELECT </br>\r\n * </br>\r\nFROM Table AS T</br>\r\nOUTER APPLY </br>\r\n[dbo].[exampleTVF] (T.fk) AS CA</br>",
            "metadata": {}
        },
        {
            "cell_type": "code",
            "source": "SELECT \r\n*\r\nFROM Table AS T\r\nCROSS APPLY \r\n[dbo].[exampleTVF](T.fk) AS CA\r\n",
            "metadata": {},
            "outputs": [
                {
                    "output_type": "error",
                    "ename": "",
                    "evalue": "Msg 156, Level 15, State 1, Line 3\r\nIncorrect syntax near the keyword 'Table'.",
                    "traceback": []
                },
                {
                    "output_type": "display_data",
                    "data": {
                        "text/html": "Total execution time: 00:00:00.015"
                    },
                    "metadata": {}
                }
            ],
            "execution_count": 2
        },
        {
            "cell_type": "markdown",
            "source": "## In what way are CROSS and OUTER different from each other? \r\n\r\n## CROSS APPLY - can be considered the equivalent of an inner join it will only return a record if the recordset has records from both tables \r\n\r\n## OUTER APPLY - can be considered the equivalent of an left join it will return all the records for the left table even if the function or query does not return any records.\r\n\r\nNow let's look at what this means in practice\r\n\r\n![sad panda](./Figure1.jpg \"Figure 1 - returns a list of products from the Product table\")</br>\r\nFigure 1 - returns a list of products from the Product table\r\n",
            "metadata": {}
        },
        {
            "cell_type": "code",
            "source": "SELECT [P].[ProductID],\r\n       [P].[Name],\r\n       [P].[ProductNumber]\r\nFROM [Production].[Product] AS [P]\r\nWHERE [P].[FinishedGoodsFlag] = 1;",
            "metadata": {},
            "outputs": [
                {
                    "output_type": "display_data",
                    "data": {
                        "text/html": "(295 rows affected)"
                    },
                    "metadata": {}
                },
                {
                    "output_type": "display_data",
                    "data": {
                        "text/html": "Total execution time: 00:00:00.457"
                    },
                    "metadata": {}
                },
                {
                    "output_type": "execute_result",
                    "execution_count": 3,
                    "data": {
                        "application/vnd.dataresource+json": {
                            "schema": {
                                "fields": [
                                    {
                                        "name": "ProductID"
                                    },
                                    {
                                        "name": "Name"
                                    },
                                    {
                                        "name": "ProductNumber"
                                    }
                                ]
                            },
                            "data": [
                                {
                                    "0": "680",
                                    "1": "HL Road Frame - Black, 58",
                                    "2": "FR-R92B-58"
                                },
                                {
                                    "0": "706",
                                    "1": "HL Road Frame - Red, 58",
                                    "2": "FR-R92R-58"
                                },
                                {
                                    "0": "707",
                                    "1": "Sport-100 Helmet, Red",
                                    "2": "HL-U509-R"
                                },
                                {
                                    "0": "708",
                                    "1": "Sport-100 Helmet, Black",
                                    "2": "HL-U509"
                                },
                                {
                                    "0": "709",
                                    "1": "Mountain Bike Socks, M",
                                    "2": "SO-B909-M"
                                },
                                {
                                    "0": "710",
                                    "1": "Mountain Bike Socks, L",
                                    "2": "SO-B909-L"
                                },
                                {
                                    "0": "711",
                                    "1": "Sport-100 Helmet, Blue",
                                    "2": "HL-U509-B"
                                },
                                {
                                    "0": "712",
                                    "1": "AWC Logo Cap",
                                    "2": "CA-1098"
                                },
                                {
                                    "0": "713",
                                    "1": "Long-Sleeve Logo Jersey, S",
                                    "2": "LJ-0192-S"
                                },
                                {
                                    "0": "714",
                                    "1": "Long-Sleeve Logo Jersey, M",
                                    "2": "LJ-0192-M"
                                },
                                {
                                    "0": "715",
                                    "1": "Long-Sleeve Logo Jersey, L",
                                    "2": "LJ-0192-L"
                                },
                                {
                                    "0": "716",
                                    "1": "Long-Sleeve Logo Jersey, XL",
                                    "2": "LJ-0192-X"
                                },
                                {
                                    "0": "717",
                                    "1": "HL Road Frame - Red, 62",
                                    "2": "FR-R92R-62"
                                },
                                {
                                    "0": "718",
                                    "1": "HL Road Frame - Red, 44",
                                    "2": "FR-R92R-44"
                                },
                                {
                                    "0": "719",
                                    "1": "HL Road Frame - Red, 48",
                                    "2": "FR-R92R-48"
                                },
                                {
                                    "0": "720",
                                    "1": "HL Road Frame - Red, 52",
                                    "2": "FR-R92R-52"
                                },
                                {
                                    "0": "721",
                                    "1": "HL Road Frame - Red, 56",
                                    "2": "FR-R92R-56"
                                },
                                {
                                    "0": "722",
                                    "1": "LL Road Frame - Black, 58",
                                    "2": "FR-R38B-58"
                                },
                                {
                                    "0": "723",
                                    "1": "LL Road Frame - Black, 60",
                                    "2": "FR-R38B-60"
                                },
                                {
                                    "0": "724",
                                    "1": "LL Road Frame - Black, 62",
                                    "2": "FR-R38B-62"
                                },
                                {
                                    "0": "725",
                                    "1": "LL Road Frame - Red, 44",
                                    "2": "FR-R38R-44"
                                },
                                {
                                    "0": "726",
                                    "1": "LL Road Frame - Red, 48",
                                    "2": "FR-R38R-48"
                                },
                                {
                                    "0": "727",
                                    "1": "LL Road Frame - Red, 52",
                                    "2": "FR-R38R-52"
                                },
                                {
                                    "0": "728",
                                    "1": "LL Road Frame - Red, 58",
                                    "2": "FR-R38R-58"
                                },
                                {
                                    "0": "729",
                                    "1": "LL Road Frame - Red, 60",
                                    "2": "FR-R38R-60"
                                },
                                {
                                    "0": "730",
                                    "1": "LL Road Frame - Red, 62",
                                    "2": "FR-R38R-62"
                                },
                                {
                                    "0": "731",
                                    "1": "ML Road Frame - Red, 44",
                                    "2": "FR-R72R-44"
                                },
                                {
                                    "0": "732",
                                    "1": "ML Road Frame - Red, 48",
                                    "2": "FR-R72R-48"
                                },
                                {
                                    "0": "733",
                                    "1": "ML Road Frame - Red, 52",
                                    "2": "FR-R72R-52"
                                },
                                {
                                    "0": "734",
                                    "1": "ML Road Frame - Red, 58",
                                    "2": "FR-R72R-58"
                                },
                                {
                                    "0": "735",
                                    "1": "ML Road Frame - Red, 60",
                                    "2": "FR-R72R-60"
                                },
                                {
                                    "0": "736",
                                    "1": "LL Road Frame - Black, 44",
                                    "2": "FR-R38B-44"
                                },
                                {
                                    "0": "737",
                                    "1": "LL Road Frame - Black, 48",
                                    "2": "FR-R38B-48"
                                },
                                {
                                    "0": "738",
                                    "1": "LL Road Frame - Black, 52",
                                    "2": "FR-R38B-52"
                                },
                                {
                                    "0": "739",
                                    "1": "HL Mountain Frame - Silver, 42",
                                    "2": "FR-M94S-42"
                                },
                                {
                                    "0": "740",
                                    "1": "HL Mountain Frame - Silver, 44",
                                    "2": "FR-M94S-44"
                                },
                                {
                                    "0": "741",
                                    "1": "HL Mountain Frame - Silver, 48",
                                    "2": "FR-M94S-52"
                                },
                                {
                                    "0": "742",
                                    "1": "HL Mountain Frame - Silver, 46",
                                    "2": "FR-M94S-46"
                                },
                                {
                                    "0": "743",
                                    "1": "HL Mountain Frame - Black, 42",
                                    "2": "FR-M94B-42"
                                },
                                {
                                    "0": "744",
                                    "1": "HL Mountain Frame - Black, 44",
                                    "2": "FR-M94B-44"
                                },
                                {
                                    "0": "745",
                                    "1": "HL Mountain Frame - Black, 48",
                                    "2": "FR-M94B-48"
                                },
                                {
                                    "0": "746",
                                    "1": "HL Mountain Frame - Black, 46",
                                    "2": "FR-M94B-46"
                                },
                                {
                                    "0": "747",
                                    "1": "HL Mountain Frame - Black, 38",
                                    "2": "FR-M94B-38"
                                },
                                {
                                    "0": "748",
                                    "1": "HL Mountain Frame - Silver, 38",
                                    "2": "FR-M94S-38"
                                },
                                {
                                    "0": "749",
                                    "1": "Road-150 Red, 62",
                                    "2": "BK-R93R-62"
                                },
                                {
                                    "0": "750",
                                    "1": "Road-150 Red, 44",
                                    "2": "BK-R93R-44"
                                },
                                {
                                    "0": "751",
                                    "1": "Road-150 Red, 48",
                                    "2": "BK-R93R-48"
                                },
                                {
                                    "0": "752",
                                    "1": "Road-150 Red, 52",
                                    "2": "BK-R93R-52"
                                },
                                {
                                    "0": "753",
                                    "1": "Road-150 Red, 56",
                                    "2": "BK-R93R-56"
                                },
                                {
                                    "0": "754",
                                    "1": "Road-450 Red, 58",
                                    "2": "BK-R68R-58"
                                },
                                {
                                    "0": "755",
                                    "1": "Road-450 Red, 60",
                                    "2": "BK-R68R-60"
                                },
                                {
                                    "0": "756",
                                    "1": "Road-450 Red, 44",
                                    "2": "BK-R68R-44"
                                },
                                {
                                    "0": "757",
                                    "1": "Road-450 Red, 48",
                                    "2": "BK-R68R-48"
                                },
                                {
                                    "0": "758",
                                    "1": "Road-450 Red, 52",
                                    "2": "BK-R68R-52"
                                },
                                {
                                    "0": "759",
                                    "1": "Road-650 Red, 58",
                                    "2": "BK-R50R-58"
                                },
                                {
                                    "0": "760",
                                    "1": "Road-650 Red, 60",
                                    "2": "BK-R50R-60"
                                },
                                {
                                    "0": "761",
                                    "1": "Road-650 Red, 62",
                                    "2": "BK-R50R-62"
                                },
                                {
                                    "0": "762",
                                    "1": "Road-650 Red, 44",
                                    "2": "BK-R50R-44"
                                },
                                {
                                    "0": "763",
                                    "1": "Road-650 Red, 48",
                                    "2": "BK-R50R-48"
                                },
                                {
                                    "0": "764",
                                    "1": "Road-650 Red, 52",
                                    "2": "BK-R50R-52"
                                },
                                {
                                    "0": "765",
                                    "1": "Road-650 Black, 58",
                                    "2": "BK-R50B-58"
                                },
                                {
                                    "0": "766",
                                    "1": "Road-650 Black, 60",
                                    "2": "BK-R50B-60"
                                },
                                {
                                    "0": "767",
                                    "1": "Road-650 Black, 62",
                                    "2": "BK-R50B-62"
                                },
                                {
                                    "0": "768",
                                    "1": "Road-650 Black, 44",
                                    "2": "BK-R50B-44"
                                },
                                {
                                    "0": "769",
                                    "1": "Road-650 Black, 48",
                                    "2": "BK-R50B-48"
                                },
                                {
                                    "0": "770",
                                    "1": "Road-650 Black, 52",
                                    "2": "BK-R50B-52"
                                },
                                {
                                    "0": "771",
                                    "1": "Mountain-100 Silver, 38",
                                    "2": "BK-M82S-38"
                                },
                                {
                                    "0": "772",
                                    "1": "Mountain-100 Silver, 42",
                                    "2": "BK-M82S-42"
                                },
                                {
                                    "0": "773",
                                    "1": "Mountain-100 Silver, 44",
                                    "2": "BK-M82S-44"
                                },
                                {
                                    "0": "774",
                                    "1": "Mountain-100 Silver, 48",
                                    "2": "BK-M82S-48"
                                },
                                {
                                    "0": "775",
                                    "1": "Mountain-100 Black, 38",
                                    "2": "BK-M82B-38"
                                },
                                {
                                    "0": "776",
                                    "1": "Mountain-100 Black, 42",
                                    "2": "BK-M82B-42"
                                },
                                {
                                    "0": "777",
                                    "1": "Mountain-100 Black, 44",
                                    "2": "BK-M82B-44"
                                },
                                {
                                    "0": "778",
                                    "1": "Mountain-100 Black, 48",
                                    "2": "BK-M82B-48"
                                },
                                {
                                    "0": "779",
                                    "1": "Mountain-200 Silver, 38",
                                    "2": "BK-M68S-38"
                                },
                                {
                                    "0": "780",
                                    "1": "Mountain-200 Silver, 42",
                                    "2": "BK-M68S-42"
                                },
                                {
                                    "0": "781",
                                    "1": "Mountain-200 Silver, 46",
                                    "2": "BK-M68S-46"
                                },
                                {
                                    "0": "782",
                                    "1": "Mountain-200 Black, 38",
                                    "2": "BK-M68B-38"
                                },
                                {
                                    "0": "783",
                                    "1": "Mountain-200 Black, 42",
                                    "2": "BK-M68B-42"
                                },
                                {
                                    "0": "784",
                                    "1": "Mountain-200 Black, 46",
                                    "2": "BK-M68B-46"
                                },
                                {
                                    "0": "785",
                                    "1": "Mountain-300 Black, 38",
                                    "2": "BK-M47B-38"
                                },
                                {
                                    "0": "786",
                                    "1": "Mountain-300 Black, 40",
                                    "2": "BK-M47B-40"
                                },
                                {
                                    "0": "787",
                                    "1": "Mountain-300 Black, 44",
                                    "2": "BK-M47B-44"
                                },
                                {
                                    "0": "788",
                                    "1": "Mountain-300 Black, 48",
                                    "2": "BK-M47B-48"
                                },
                                {
                                    "0": "789",
                                    "1": "Road-250 Red, 44",
                                    "2": "BK-R89R-44"
                                },
                                {
                                    "0": "790",
                                    "1": "Road-250 Red, 48",
                                    "2": "BK-R89R-48"
                                },
                                {
                                    "0": "791",
                                    "1": "Road-250 Red, 52",
                                    "2": "BK-R89R-52"
                                },
                                {
                                    "0": "792",
                                    "1": "Road-250 Red, 58",
                                    "2": "BK-R89R-58"
                                },
                                {
                                    "0": "793",
                                    "1": "Road-250 Black, 44",
                                    "2": "BK-R89B-44"
                                },
                                {
                                    "0": "794",
                                    "1": "Road-250 Black, 48",
                                    "2": "BK-R89B-48"
                                },
                                {
                                    "0": "795",
                                    "1": "Road-250 Black, 52",
                                    "2": "BK-R89B-52"
                                },
                                {
                                    "0": "796",
                                    "1": "Road-250 Black, 58",
                                    "2": "BK-R89B-58"
                                },
                                {
                                    "0": "797",
                                    "1": "Road-550-W Yellow, 38",
                                    "2": "BK-R64Y-38"
                                },
                                {
                                    "0": "798",
                                    "1": "Road-550-W Yellow, 40",
                                    "2": "BK-R64Y-40"
                                },
                                {
                                    "0": "799",
                                    "1": "Road-550-W Yellow, 42",
                                    "2": "BK-R64Y-42"
                                },
                                {
                                    "0": "800",
                                    "1": "Road-550-W Yellow, 44",
                                    "2": "BK-R64Y-44"
                                },
                                {
                                    "0": "801",
                                    "1": "Road-550-W Yellow, 48",
                                    "2": "BK-R64Y-48"
                                },
                                {
                                    "0": "802",
                                    "1": "LL Fork",
                                    "2": "FK-1639"
                                },
                                {
                                    "0": "803",
                                    "1": "ML Fork",
                                    "2": "FK-5136"
                                },
                                {
                                    "0": "804",
                                    "1": "HL Fork",
                                    "2": "FK-9939"
                                },
                                {
                                    "0": "805",
                                    "1": "LL Headset",
                                    "2": "HS-0296"
                                },
                                {
                                    "0": "806",
                                    "1": "ML Headset",
                                    "2": "HS-2451"
                                },
                                {
                                    "0": "807",
                                    "1": "HL Headset",
                                    "2": "HS-3479"
                                },
                                {
                                    "0": "808",
                                    "1": "LL Mountain Handlebars",
                                    "2": "HB-M243"
                                },
                                {
                                    "0": "809",
                                    "1": "ML Mountain Handlebars",
                                    "2": "HB-M763"
                                },
                                {
                                    "0": "810",
                                    "1": "HL Mountain Handlebars",
                                    "2": "HB-M918"
                                },
                                {
                                    "0": "811",
                                    "1": "LL Road Handlebars",
                                    "2": "HB-R504"
                                },
                                {
                                    "0": "812",
                                    "1": "ML Road Handlebars",
                                    "2": "HB-R720"
                                },
                                {
                                    "0": "813",
                                    "1": "HL Road Handlebars",
                                    "2": "HB-R956"
                                },
                                {
                                    "0": "814",
                                    "1": "ML Mountain Frame - Black, 38",
                                    "2": "FR-M63B-38"
                                },
                                {
                                    "0": "815",
                                    "1": "LL Mountain Front Wheel",
                                    "2": "FW-M423"
                                },
                                {
                                    "0": "816",
                                    "1": "ML Mountain Front Wheel",
                                    "2": "FW-M762"
                                },
                                {
                                    "0": "817",
                                    "1": "HL Mountain Front Wheel",
                                    "2": "FW-M928"
                                },
                                {
                                    "0": "818",
                                    "1": "LL Road Front Wheel",
                                    "2": "FW-R623"
                                },
                                {
                                    "0": "819",
                                    "1": "ML Road Front Wheel",
                                    "2": "FW-R762"
                                },
                                {
                                    "0": "820",
                                    "1": "HL Road Front Wheel",
                                    "2": "FW-R820"
                                },
                                {
                                    "0": "821",
                                    "1": "Touring Front Wheel",
                                    "2": "FW-T905"
                                },
                                {
                                    "0": "822",
                                    "1": "ML Road Frame-W - Yellow, 38",
                                    "2": "FR-R72Y-38"
                                },
                                {
                                    "0": "823",
                                    "1": "LL Mountain Rear Wheel",
                                    "2": "RW-M423"
                                },
                                {
                                    "0": "824",
                                    "1": "ML Mountain Rear Wheel",
                                    "2": "RW-M762"
                                },
                                {
                                    "0": "825",
                                    "1": "HL Mountain Rear Wheel",
                                    "2": "RW-M928"
                                },
                                {
                                    "0": "826",
                                    "1": "LL Road Rear Wheel",
                                    "2": "RW-R623"
                                },
                                {
                                    "0": "827",
                                    "1": "ML Road Rear Wheel",
                                    "2": "RW-R762"
                                },
                                {
                                    "0": "828",
                                    "1": "HL Road Rear Wheel",
                                    "2": "RW-R820"
                                },
                                {
                                    "0": "829",
                                    "1": "Touring Rear Wheel",
                                    "2": "RW-T905"
                                },
                                {
                                    "0": "830",
                                    "1": "ML Mountain Frame - Black, 40",
                                    "2": "FR-M63B-40"
                                },
                                {
                                    "0": "831",
                                    "1": "ML Mountain Frame - Black, 44",
                                    "2": "FR-M63B-44"
                                },
                                {
                                    "0": "832",
                                    "1": "ML Mountain Frame - Black, 48",
                                    "2": "FR-M63B-48"
                                },
                                {
                                    "0": "833",
                                    "1": "ML Road Frame-W - Yellow, 40",
                                    "2": "FR-R72Y-40"
                                },
                                {
                                    "0": "834",
                                    "1": "ML Road Frame-W - Yellow, 42",
                                    "2": "FR-R72Y-42"
                                },
                                {
                                    "0": "835",
                                    "1": "ML Road Frame-W - Yellow, 44",
                                    "2": "FR-R72Y-44"
                                },
                                {
                                    "0": "836",
                                    "1": "ML Road Frame-W - Yellow, 48",
                                    "2": "FR-R72Y-48"
                                },
                                {
                                    "0": "837",
                                    "1": "HL Road Frame - Black, 62",
                                    "2": "FR-R92B-62"
                                },
                                {
                                    "0": "838",
                                    "1": "HL Road Frame - Black, 44",
                                    "2": "FR-R92B-44"
                                },
                                {
                                    "0": "839",
                                    "1": "HL Road Frame - Black, 48",
                                    "2": "FR-R92B-48"
                                },
                                {
                                    "0": "840",
                                    "1": "HL Road Frame - Black, 52",
                                    "2": "FR-R92B-52"
                                },
                                {
                                    "0": "841",
                                    "1": "Men's Sports Shorts, S",
                                    "2": "SH-M897-S"
                                },
                                {
                                    "0": "842",
                                    "1": "Touring-Panniers, Large",
                                    "2": "PA-T100"
                                },
                                {
                                    "0": "843",
                                    "1": "Cable Lock",
                                    "2": "LO-C100"
                                },
                                {
                                    "0": "844",
                                    "1": "Minipump",
                                    "2": "PU-0452"
                                },
                                {
                                    "0": "845",
                                    "1": "Mountain Pump",
                                    "2": "PU-M044"
                                },
                                {
                                    "0": "846",
                                    "1": "Taillights - Battery-Powered",
                                    "2": "LT-T990"
                                },
                                {
                                    "0": "847",
                                    "1": "Headlights - Dual-Beam",
                                    "2": "LT-H902"
                                },
                                {
                                    "0": "848",
                                    "1": "Headlights - Weatherproof",
                                    "2": "LT-H903"
                                },
                                {
                                    "0": "849",
                                    "1": "Men's Sports Shorts, M",
                                    "2": "SH-M897-M"
                                },
                                {
                                    "0": "850",
                                    "1": "Men's Sports Shorts, L",
                                    "2": "SH-M897-L"
                                },
                                {
                                    "0": "851",
                                    "1": "Men's Sports Shorts, XL",
                                    "2": "SH-M897-X"
                                },
                                {
                                    "0": "852",
                                    "1": "Women's Tights, S",
                                    "2": "TG-W091-S"
                                },
                                {
                                    "0": "853",
                                    "1": "Women's Tights, M",
                                    "2": "TG-W091-M"
                                },
                                {
                                    "0": "854",
                                    "1": "Women's Tights, L",
                                    "2": "TG-W091-L"
                                },
                                {
                                    "0": "855",
                                    "1": "Men's Bib-Shorts, S",
                                    "2": "SB-M891-S"
                                },
                                {
                                    "0": "856",
                                    "1": "Men's Bib-Shorts, M",
                                    "2": "SB-M891-M"
                                },
                                {
                                    "0": "857",
                                    "1": "Men's Bib-Shorts, L",
                                    "2": "SB-M891-L"
                                },
                                {
                                    "0": "858",
                                    "1": "Half-Finger Gloves, S",
                                    "2": "GL-H102-S"
                                },
                                {
                                    "0": "859",
                                    "1": "Half-Finger Gloves, M",
                                    "2": "GL-H102-M"
                                },
                                {
                                    "0": "860",
                                    "1": "Half-Finger Gloves, L",
                                    "2": "GL-H102-L"
                                },
                                {
                                    "0": "861",
                                    "1": "Full-Finger Gloves, S",
                                    "2": "GL-F110-S"
                                },
                                {
                                    "0": "862",
                                    "1": "Full-Finger Gloves, M",
                                    "2": "GL-F110-M"
                                },
                                {
                                    "0": "863",
                                    "1": "Full-Finger Gloves, L",
                                    "2": "GL-F110-L"
                                },
                                {
                                    "0": "864",
                                    "1": "Classic Vest, S",
                                    "2": "VE-C304-S"
                                },
                                {
                                    "0": "865",
                                    "1": "Classic Vest, M",
                                    "2": "VE-C304-M"
                                },
                                {
                                    "0": "866",
                                    "1": "Classic Vest, L",
                                    "2": "VE-C304-L"
                                },
                                {
                                    "0": "867",
                                    "1": "Women's Mountain Shorts, S",
                                    "2": "SH-W890-S"
                                },
                                {
                                    "0": "868",
                                    "1": "Women's Mountain Shorts, M",
                                    "2": "SH-W890-M"
                                },
                                {
                                    "0": "869",
                                    "1": "Women's Mountain Shorts, L",
                                    "2": "SH-W890-L"
                                },
                                {
                                    "0": "870",
                                    "1": "Water Bottle - 30 oz.",
                                    "2": "WB-H098"
                                },
                                {
                                    "0": "871",
                                    "1": "Mountain Bottle Cage",
                                    "2": "BC-M005"
                                },
                                {
                                    "0": "872",
                                    "1": "Road Bottle Cage",
                                    "2": "BC-R205"
                                },
                                {
                                    "0": "873",
                                    "1": "Patch Kit/8 Patches",
                                    "2": "PK-7098"
                                },
                                {
                                    "0": "874",
                                    "1": "Racing Socks, M",
                                    "2": "SO-R809-M"
                                },
                                {
                                    "0": "875",
                                    "1": "Racing Socks, L",
                                    "2": "SO-R809-L"
                                },
                                {
                                    "0": "876",
                                    "1": "Hitch Rack - 4-Bike",
                                    "2": "RA-H123"
                                },
                                {
                                    "0": "877",
                                    "1": "Bike Wash - Dissolver",
                                    "2": "CL-9009"
                                },
                                {
                                    "0": "878",
                                    "1": "Fender Set - Mountain",
                                    "2": "FE-6654"
                                },
                                {
                                    "0": "879",
                                    "1": "All-Purpose Bike Stand",
                                    "2": "ST-1401"
                                },
                                {
                                    "0": "880",
                                    "1": "Hydration Pack - 70 oz.",
                                    "2": "HY-1023-70"
                                },
                                {
                                    "0": "881",
                                    "1": "Short-Sleeve Classic Jersey, S",
                                    "2": "SJ-0194-S"
                                },
                                {
                                    "0": "882",
                                    "1": "Short-Sleeve Classic Jersey, M",
                                    "2": "SJ-0194-M"
                                },
                                {
                                    "0": "883",
                                    "1": "Short-Sleeve Classic Jersey, L",
                                    "2": "SJ-0194-L"
                                },
                                {
                                    "0": "884",
                                    "1": "Short-Sleeve Classic Jersey, XL",
                                    "2": "SJ-0194-X"
                                },
                                {
                                    "0": "885",
                                    "1": "HL Touring Frame - Yellow, 60",
                                    "2": "FR-T98Y-60"
                                },
                                {
                                    "0": "886",
                                    "1": "LL Touring Frame - Yellow, 62",
                                    "2": "FR-T67Y-62"
                                },
                                {
                                    "0": "887",
                                    "1": "HL Touring Frame - Yellow, 46",
                                    "2": "FR-T98Y-46"
                                },
                                {
                                    "0": "888",
                                    "1": "HL Touring Frame - Yellow, 50",
                                    "2": "FR-T98Y-50"
                                },
                                {
                                    "0": "889",
                                    "1": "HL Touring Frame - Yellow, 54",
                                    "2": "FR-T98Y-54"
                                },
                                {
                                    "0": "890",
                                    "1": "HL Touring Frame - Blue, 46",
                                    "2": "FR-T98U-46"
                                },
                                {
                                    "0": "891",
                                    "1": "HL Touring Frame - Blue, 50",
                                    "2": "FR-T98U-50"
                                },
                                {
                                    "0": "892",
                                    "1": "HL Touring Frame - Blue, 54",
                                    "2": "FR-T98U-54"
                                },
                                {
                                    "0": "893",
                                    "1": "HL Touring Frame - Blue, 60",
                                    "2": "FR-T98U-60"
                                },
                                {
                                    "0": "894",
                                    "1": "Rear Derailleur",
                                    "2": "RD-2308"
                                },
                                {
                                    "0": "895",
                                    "1": "LL Touring Frame - Blue, 50",
                                    "2": "FR-T67U-50"
                                },
                                {
                                    "0": "896",
                                    "1": "LL Touring Frame - Blue, 54",
                                    "2": "FR-T67U-54"
                                },
                                {
                                    "0": "897",
                                    "1": "LL Touring Frame - Blue, 58",
                                    "2": "FR-T67U-58"
                                },
                                {
                                    "0": "898",
                                    "1": "LL Touring Frame - Blue, 62",
                                    "2": "FR-T67U-62"
                                },
                                {
                                    "0": "899",
                                    "1": "LL Touring Frame - Yellow, 44",
                                    "2": "FR-T67Y-44"
                                },
                                {
                                    "0": "900",
                                    "1": "LL Touring Frame - Yellow, 50",
                                    "2": "FR-T67Y-50"
                                },
                                {
                                    "0": "901",
                                    "1": "LL Touring Frame - Yellow, 54",
                                    "2": "FR-T67Y-54"
                                },
                                {
                                    "0": "902",
                                    "1": "LL Touring Frame - Yellow, 58",
                                    "2": "FR-T67Y-58"
                                },
                                {
                                    "0": "903",
                                    "1": "LL Touring Frame - Blue, 44",
                                    "2": "FR-T67U-44"
                                },
                                {
                                    "0": "904",
                                    "1": "ML Mountain Frame-W - Silver, 40",
                                    "2": "FR-M63S-40"
                                },
                                {
                                    "0": "905",
                                    "1": "ML Mountain Frame-W - Silver, 42",
                                    "2": "FR-M63S-42"
                                },
                                {
                                    "0": "906",
                                    "1": "ML Mountain Frame-W - Silver, 46",
                                    "2": "FR-M63S-46"
                                },
                                {
                                    "0": "907",
                                    "1": "Rear Brakes",
                                    "2": "RB-9231"
                                },
                                {
                                    "0": "908",
                                    "1": "LL Mountain Seat/Saddle",
                                    "2": "SE-M236"
                                },
                                {
                                    "0": "909",
                                    "1": "ML Mountain Seat/Saddle",
                                    "2": "SE-M798"
                                },
                                {
                                    "0": "910",
                                    "1": "HL Mountain Seat/Saddle",
                                    "2": "SE-M940"
                                },
                                {
                                    "0": "911",
                                    "1": "LL Road Seat/Saddle",
                                    "2": "SE-R581"
                                },
                                {
                                    "0": "912",
                                    "1": "ML Road Seat/Saddle",
                                    "2": "SE-R908"
                                },
                                {
                                    "0": "913",
                                    "1": "HL Road Seat/Saddle",
                                    "2": "SE-R995"
                                },
                                {
                                    "0": "914",
                                    "1": "LL Touring Seat/Saddle",
                                    "2": "SE-T312"
                                },
                                {
                                    "0": "915",
                                    "1": "ML Touring Seat/Saddle",
                                    "2": "SE-T762"
                                },
                                {
                                    "0": "916",
                                    "1": "HL Touring Seat/Saddle",
                                    "2": "SE-T924"
                                },
                                {
                                    "0": "917",
                                    "1": "LL Mountain Frame - Silver, 42",
                                    "2": "FR-M21S-42"
                                },
                                {
                                    "0": "918",
                                    "1": "LL Mountain Frame - Silver, 44",
                                    "2": "FR-M21S-44"
                                },
                                {
                                    "0": "919",
                                    "1": "LL Mountain Frame - Silver, 48",
                                    "2": "FR-M21S-48"
                                },
                                {
                                    "0": "920",
                                    "1": "LL Mountain Frame - Silver, 52",
                                    "2": "FR-M21S-52"
                                },
                                {
                                    "0": "921",
                                    "1": "Mountain Tire Tube",
                                    "2": "TT-M928"
                                },
                                {
                                    "0": "922",
                                    "1": "Road Tire Tube",
                                    "2": "TT-R982"
                                },
                                {
                                    "0": "923",
                                    "1": "Touring Tire Tube",
                                    "2": "TT-T092"
                                },
                                {
                                    "0": "924",
                                    "1": "LL Mountain Frame - Black, 42",
                                    "2": "FR-M21B-42"
                                },
                                {
                                    "0": "925",
                                    "1": "LL Mountain Frame - Black, 44",
                                    "2": "FR-M21B-44"
                                },
                                {
                                    "0": "926",
                                    "1": "LL Mountain Frame - Black, 48",
                                    "2": "FR-M21B-48"
                                },
                                {
                                    "0": "927",
                                    "1": "LL Mountain Frame - Black, 52",
                                    "2": "FR-M21B-52"
                                },
                                {
                                    "0": "928",
                                    "1": "LL Mountain Tire",
                                    "2": "TI-M267"
                                },
                                {
                                    "0": "929",
                                    "1": "ML Mountain Tire",
                                    "2": "TI-M602"
                                },
                                {
                                    "0": "930",
                                    "1": "HL Mountain Tire",
                                    "2": "TI-M823"
                                },
                                {
                                    "0": "931",
                                    "1": "LL Road Tire",
                                    "2": "TI-R092"
                                },
                                {
                                    "0": "932",
                                    "1": "ML Road Tire",
                                    "2": "TI-R628"
                                },
                                {
                                    "0": "933",
                                    "1": "HL Road Tire",
                                    "2": "TI-R982"
                                },
                                {
                                    "0": "934",
                                    "1": "Touring Tire",
                                    "2": "TI-T723"
                                },
                                {
                                    "0": "935",
                                    "1": "LL Mountain Pedal",
                                    "2": "PD-M282"
                                },
                                {
                                    "0": "936",
                                    "1": "ML Mountain Pedal",
                                    "2": "PD-M340"
                                },
                                {
                                    "0": "937",
                                    "1": "HL Mountain Pedal",
                                    "2": "PD-M562"
                                },
                                {
                                    "0": "938",
                                    "1": "LL Road Pedal",
                                    "2": "PD-R347"
                                },
                                {
                                    "0": "939",
                                    "1": "ML Road Pedal",
                                    "2": "PD-R563"
                                },
                                {
                                    "0": "940",
                                    "1": "HL Road Pedal",
                                    "2": "PD-R853"
                                },
                                {
                                    "0": "941",
                                    "1": "Touring Pedal",
                                    "2": "PD-T852"
                                },
                                {
                                    "0": "942",
                                    "1": "ML Mountain Frame-W - Silver, 38",
                                    "2": "FR-M63S-38"
                                },
                                {
                                    "0": "943",
                                    "1": "LL Mountain Frame - Black, 40",
                                    "2": "FR-M21B-40"
                                },
                                {
                                    "0": "944",
                                    "1": "LL Mountain Frame - Silver, 40",
                                    "2": "FR-M21S-40"
                                },
                                {
                                    "0": "945",
                                    "1": "Front Derailleur",
                                    "2": "FD-2342"
                                },
                                {
                                    "0": "946",
                                    "1": "LL Touring Handlebars",
                                    "2": "HB-T721"
                                },
                                {
                                    "0": "947",
                                    "1": "HL Touring Handlebars",
                                    "2": "HB-T928"
                                },
                                {
                                    "0": "948",
                                    "1": "Front Brakes",
                                    "2": "FB-9873"
                                },
                                {
                                    "0": "949",
                                    "1": "LL Crankset",
                                    "2": "CS-4759"
                                },
                                {
                                    "0": "950",
                                    "1": "ML Crankset",
                                    "2": "CS-6583"
                                },
                                {
                                    "0": "951",
                                    "1": "HL Crankset",
                                    "2": "CS-9183"
                                },
                                {
                                    "0": "952",
                                    "1": "Chain",
                                    "2": "CH-0234"
                                },
                                {
                                    "0": "953",
                                    "1": "Touring-2000 Blue, 60",
                                    "2": "BK-T44U-60"
                                },
                                {
                                    "0": "954",
                                    "1": "Touring-1000 Yellow, 46",
                                    "2": "BK-T79Y-46"
                                },
                                {
                                    "0": "955",
                                    "1": "Touring-1000 Yellow, 50",
                                    "2": "BK-T79Y-50"
                                },
                                {
                                    "0": "956",
                                    "1": "Touring-1000 Yellow, 54",
                                    "2": "BK-T79Y-54"
                                },
                                {
                                    "0": "957",
                                    "1": "Touring-1000 Yellow, 60",
                                    "2": "BK-T79Y-60"
                                },
                                {
                                    "0": "958",
                                    "1": "Touring-3000 Blue, 54",
                                    "2": "BK-T18U-54"
                                },
                                {
                                    "0": "959",
                                    "1": "Touring-3000 Blue, 58",
                                    "2": "BK-T18U-58"
                                },
                                {
                                    "0": "960",
                                    "1": "Touring-3000 Blue, 62",
                                    "2": "BK-T18U-62"
                                },
                                {
                                    "0": "961",
                                    "1": "Touring-3000 Yellow, 44",
                                    "2": "BK-T18Y-44"
                                },
                                {
                                    "0": "962",
                                    "1": "Touring-3000 Yellow, 50",
                                    "2": "BK-T18Y-50"
                                },
                                {
                                    "0": "963",
                                    "1": "Touring-3000 Yellow, 54",
                                    "2": "BK-T18Y-54"
                                },
                                {
                                    "0": "964",
                                    "1": "Touring-3000 Yellow, 58",
                                    "2": "BK-T18Y-58"
                                },
                                {
                                    "0": "965",
                                    "1": "Touring-3000 Yellow, 62",
                                    "2": "BK-T18Y-62"
                                },
                                {
                                    "0": "966",
                                    "1": "Touring-1000 Blue, 46",
                                    "2": "BK-T79U-46"
                                },
                                {
                                    "0": "967",
                                    "1": "Touring-1000 Blue, 50",
                                    "2": "BK-T79U-50"
                                },
                                {
                                    "0": "968",
                                    "1": "Touring-1000 Blue, 54",
                                    "2": "BK-T79U-54"
                                },
                                {
                                    "0": "969",
                                    "1": "Touring-1000 Blue, 60",
                                    "2": "BK-T79U-60"
                                },
                                {
                                    "0": "970",
                                    "1": "Touring-2000 Blue, 46",
                                    "2": "BK-T44U-46"
                                },
                                {
                                    "0": "971",
                                    "1": "Touring-2000 Blue, 50",
                                    "2": "BK-T44U-50"
                                },
                                {
                                    "0": "972",
                                    "1": "Touring-2000 Blue, 54",
                                    "2": "BK-T44U-54"
                                },
                                {
                                    "0": "973",
                                    "1": "Road-350-W Yellow, 40",
                                    "2": "BK-R79Y-40"
                                },
                                {
                                    "0": "974",
                                    "1": "Road-350-W Yellow, 42",
                                    "2": "BK-R79Y-42"
                                },
                                {
                                    "0": "975",
                                    "1": "Road-350-W Yellow, 44",
                                    "2": "BK-R79Y-44"
                                },
                                {
                                    "0": "976",
                                    "1": "Road-350-W Yellow, 48",
                                    "2": "BK-R79Y-48"
                                },
                                {
                                    "0": "977",
                                    "1": "Road-750 Black, 58",
                                    "2": "BK-R19B-58"
                                },
                                {
                                    "0": "978",
                                    "1": "Touring-3000 Blue, 44",
                                    "2": "BK-T18U-44"
                                },
                                {
                                    "0": "979",
                                    "1": "Touring-3000 Blue, 50",
                                    "2": "BK-T18U-50"
                                },
                                {
                                    "0": "980",
                                    "1": "Mountain-400-W Silver, 38",
                                    "2": "BK-M38S-38"
                                },
                                {
                                    "0": "981",
                                    "1": "Mountain-400-W Silver, 40",
                                    "2": "BK-M38S-40"
                                },
                                {
                                    "0": "982",
                                    "1": "Mountain-400-W Silver, 42",
                                    "2": "BK-M38S-42"
                                },
                                {
                                    "0": "983",
                                    "1": "Mountain-400-W Silver, 46",
                                    "2": "BK-M38S-46"
                                },
                                {
                                    "0": "984",
                                    "1": "Mountain-500 Silver, 40",
                                    "2": "BK-M18S-40"
                                },
                                {
                                    "0": "985",
                                    "1": "Mountain-500 Silver, 42",
                                    "2": "BK-M18S-42"
                                },
                                {
                                    "0": "986",
                                    "1": "Mountain-500 Silver, 44",
                                    "2": "BK-M18S-44"
                                },
                                {
                                    "0": "987",
                                    "1": "Mountain-500 Silver, 48",
                                    "2": "BK-M18S-48"
                                },
                                {
                                    "0": "988",
                                    "1": "Mountain-500 Silver, 52",
                                    "2": "BK-M18S-52"
                                },
                                {
                                    "0": "989",
                                    "1": "Mountain-500 Black, 40",
                                    "2": "BK-M18B-40"
                                },
                                {
                                    "0": "990",
                                    "1": "Mountain-500 Black, 42",
                                    "2": "BK-M18B-42"
                                },
                                {
                                    "0": "991",
                                    "1": "Mountain-500 Black, 44",
                                    "2": "BK-M18B-44"
                                },
                                {
                                    "0": "992",
                                    "1": "Mountain-500 Black, 48",
                                    "2": "BK-M18B-48"
                                },
                                {
                                    "0": "993",
                                    "1": "Mountain-500 Black, 52",
                                    "2": "BK-M18B-52"
                                },
                                {
                                    "0": "994",
                                    "1": "LL Bottom Bracket",
                                    "2": "BB-7421"
                                },
                                {
                                    "0": "995",
                                    "1": "ML Bottom Bracket",
                                    "2": "BB-8107"
                                },
                                {
                                    "0": "996",
                                    "1": "HL Bottom Bracket",
                                    "2": "BB-9108"
                                },
                                {
                                    "0": "997",
                                    "1": "Road-750 Black, 44",
                                    "2": "BK-R19B-44"
                                },
                                {
                                    "0": "998",
                                    "1": "Road-750 Black, 48",
                                    "2": "BK-R19B-48"
                                },
                                {
                                    "0": "999",
                                    "1": "Road-750 Black, 52",
                                    "2": "BK-R19B-52"
                                }
                            ]
                        },
                        "text/html": "<table><tr><th>ProductID</th><th>Name</th><th>ProductNumber</th></tr><tr><td>680</td><td>HL Road Frame - Black, 58</td><td>FR-R92B-58</td></tr><tr><td>706</td><td>HL Road Frame - Red, 58</td><td>FR-R92R-58</td></tr><tr><td>707</td><td>Sport-100 Helmet, Red</td><td>HL-U509-R</td></tr><tr><td>708</td><td>Sport-100 Helmet, Black</td><td>HL-U509</td></tr><tr><td>709</td><td>Mountain Bike Socks, M</td><td>SO-B909-M</td></tr><tr><td>710</td><td>Mountain Bike Socks, L</td><td>SO-B909-L</td></tr><tr><td>711</td><td>Sport-100 Helmet, Blue</td><td>HL-U509-B</td></tr><tr><td>712</td><td>AWC Logo Cap</td><td>CA-1098</td></tr><tr><td>713</td><td>Long-Sleeve Logo Jersey, S</td><td>LJ-0192-S</td></tr><tr><td>714</td><td>Long-Sleeve Logo Jersey, M</td><td>LJ-0192-M</td></tr><tr><td>715</td><td>Long-Sleeve Logo Jersey, L</td><td>LJ-0192-L</td></tr><tr><td>716</td><td>Long-Sleeve Logo Jersey, XL</td><td>LJ-0192-X</td></tr><tr><td>717</td><td>HL Road Frame - Red, 62</td><td>FR-R92R-62</td></tr><tr><td>718</td><td>HL Road Frame - Red, 44</td><td>FR-R92R-44</td></tr><tr><td>719</td><td>HL Road Frame - Red, 48</td><td>FR-R92R-48</td></tr><tr><td>720</td><td>HL Road Frame - Red, 52</td><td>FR-R92R-52</td></tr><tr><td>721</td><td>HL Road Frame - Red, 56</td><td>FR-R92R-56</td></tr><tr><td>722</td><td>LL Road Frame - Black, 58</td><td>FR-R38B-58</td></tr><tr><td>723</td><td>LL Road Frame - Black, 60</td><td>FR-R38B-60</td></tr><tr><td>724</td><td>LL Road Frame - Black, 62</td><td>FR-R38B-62</td></tr><tr><td>725</td><td>LL Road Frame - Red, 44</td><td>FR-R38R-44</td></tr><tr><td>726</td><td>LL Road Frame - Red, 48</td><td>FR-R38R-48</td></tr><tr><td>727</td><td>LL Road Frame - Red, 52</td><td>FR-R38R-52</td></tr><tr><td>728</td><td>LL Road Frame - Red, 58</td><td>FR-R38R-58</td></tr><tr><td>729</td><td>LL Road Frame - Red, 60</td><td>FR-R38R-60</td></tr><tr><td>730</td><td>LL Road Frame - Red, 62</td><td>FR-R38R-62</td></tr><tr><td>731</td><td>ML Road Frame - Red, 44</td><td>FR-R72R-44</td></tr><tr><td>732</td><td>ML Road Frame - Red, 48</td><td>FR-R72R-48</td></tr><tr><td>733</td><td>ML Road Frame - Red, 52</td><td>FR-R72R-52</td></tr><tr><td>734</td><td>ML Road Frame - Red, 58</td><td>FR-R72R-58</td></tr><tr><td>735</td><td>ML Road Frame - Red, 60</td><td>FR-R72R-60</td></tr><tr><td>736</td><td>LL Road Frame - Black, 44</td><td>FR-R38B-44</td></tr><tr><td>737</td><td>LL Road Frame - Black, 48</td><td>FR-R38B-48</td></tr><tr><td>738</td><td>LL Road Frame - Black, 52</td><td>FR-R38B-52</td></tr><tr><td>739</td><td>HL Mountain Frame - Silver, 42</td><td>FR-M94S-42</td></tr><tr><td>740</td><td>HL Mountain Frame - Silver, 44</td><td>FR-M94S-44</td></tr><tr><td>741</td><td>HL Mountain Frame - Silver, 48</td><td>FR-M94S-52</td></tr><tr><td>742</td><td>HL Mountain Frame - Silver, 46</td><td>FR-M94S-46</td></tr><tr><td>743</td><td>HL Mountain Frame - Black, 42</td><td>FR-M94B-42</td></tr><tr><td>744</td><td>HL Mountain Frame - Black, 44</td><td>FR-M94B-44</td></tr><tr><td>745</td><td>HL Mountain Frame - Black, 48</td><td>FR-M94B-48</td></tr><tr><td>746</td><td>HL Mountain Frame - Black, 46</td><td>FR-M94B-46</td></tr><tr><td>747</td><td>HL Mountain Frame - Black, 38</td><td>FR-M94B-38</td></tr><tr><td>748</td><td>HL Mountain Frame - Silver, 38</td><td>FR-M94S-38</td></tr><tr><td>749</td><td>Road-150 Red, 62</td><td>BK-R93R-62</td></tr><tr><td>750</td><td>Road-150 Red, 44</td><td>BK-R93R-44</td></tr><tr><td>751</td><td>Road-150 Red, 48</td><td>BK-R93R-48</td></tr><tr><td>752</td><td>Road-150 Red, 52</td><td>BK-R93R-52</td></tr><tr><td>753</td><td>Road-150 Red, 56</td><td>BK-R93R-56</td></tr><tr><td>754</td><td>Road-450 Red, 58</td><td>BK-R68R-58</td></tr><tr><td>755</td><td>Road-450 Red, 60</td><td>BK-R68R-60</td></tr><tr><td>756</td><td>Road-450 Red, 44</td><td>BK-R68R-44</td></tr><tr><td>757</td><td>Road-450 Red, 48</td><td>BK-R68R-48</td></tr><tr><td>758</td><td>Road-450 Red, 52</td><td>BK-R68R-52</td></tr><tr><td>759</td><td>Road-650 Red, 58</td><td>BK-R50R-58</td></tr><tr><td>760</td><td>Road-650 Red, 60</td><td>BK-R50R-60</td></tr><tr><td>761</td><td>Road-650 Red, 62</td><td>BK-R50R-62</td></tr><tr><td>762</td><td>Road-650 Red, 44</td><td>BK-R50R-44</td></tr><tr><td>763</td><td>Road-650 Red, 48</td><td>BK-R50R-48</td></tr><tr><td>764</td><td>Road-650 Red, 52</td><td>BK-R50R-52</td></tr><tr><td>765</td><td>Road-650 Black, 58</td><td>BK-R50B-58</td></tr><tr><td>766</td><td>Road-650 Black, 60</td><td>BK-R50B-60</td></tr><tr><td>767</td><td>Road-650 Black, 62</td><td>BK-R50B-62</td></tr><tr><td>768</td><td>Road-650 Black, 44</td><td>BK-R50B-44</td></tr><tr><td>769</td><td>Road-650 Black, 48</td><td>BK-R50B-48</td></tr><tr><td>770</td><td>Road-650 Black, 52</td><td>BK-R50B-52</td></tr><tr><td>771</td><td>Mountain-100 Silver, 38</td><td>BK-M82S-38</td></tr><tr><td>772</td><td>Mountain-100 Silver, 42</td><td>BK-M82S-42</td></tr><tr><td>773</td><td>Mountain-100 Silver, 44</td><td>BK-M82S-44</td></tr><tr><td>774</td><td>Mountain-100 Silver, 48</td><td>BK-M82S-48</td></tr><tr><td>775</td><td>Mountain-100 Black, 38</td><td>BK-M82B-38</td></tr><tr><td>776</td><td>Mountain-100 Black, 42</td><td>BK-M82B-42</td></tr><tr><td>777</td><td>Mountain-100 Black, 44</td><td>BK-M82B-44</td></tr><tr><td>778</td><td>Mountain-100 Black, 48</td><td>BK-M82B-48</td></tr><tr><td>779</td><td>Mountain-200 Silver, 38</td><td>BK-M68S-38</td></tr><tr><td>780</td><td>Mountain-200 Silver, 42</td><td>BK-M68S-42</td></tr><tr><td>781</td><td>Mountain-200 Silver, 46</td><td>BK-M68S-46</td></tr><tr><td>782</td><td>Mountain-200 Black, 38</td><td>BK-M68B-38</td></tr><tr><td>783</td><td>Mountain-200 Black, 42</td><td>BK-M68B-42</td></tr><tr><td>784</td><td>Mountain-200 Black, 46</td><td>BK-M68B-46</td></tr><tr><td>785</td><td>Mountain-300 Black, 38</td><td>BK-M47B-38</td></tr><tr><td>786</td><td>Mountain-300 Black, 40</td><td>BK-M47B-40</td></tr><tr><td>787</td><td>Mountain-300 Black, 44</td><td>BK-M47B-44</td></tr><tr><td>788</td><td>Mountain-300 Black, 48</td><td>BK-M47B-48</td></tr><tr><td>789</td><td>Road-250 Red, 44</td><td>BK-R89R-44</td></tr><tr><td>790</td><td>Road-250 Red, 48</td><td>BK-R89R-48</td></tr><tr><td>791</td><td>Road-250 Red, 52</td><td>BK-R89R-52</td></tr><tr><td>792</td><td>Road-250 Red, 58</td><td>BK-R89R-58</td></tr><tr><td>793</td><td>Road-250 Black, 44</td><td>BK-R89B-44</td></tr><tr><td>794</td><td>Road-250 Black, 48</td><td>BK-R89B-48</td></tr><tr><td>795</td><td>Road-250 Black, 52</td><td>BK-R89B-52</td></tr><tr><td>796</td><td>Road-250 Black, 58</td><td>BK-R89B-58</td></tr><tr><td>797</td><td>Road-550-W Yellow, 38</td><td>BK-R64Y-38</td></tr><tr><td>798</td><td>Road-550-W Yellow, 40</td><td>BK-R64Y-40</td></tr><tr><td>799</td><td>Road-550-W Yellow, 42</td><td>BK-R64Y-42</td></tr><tr><td>800</td><td>Road-550-W Yellow, 44</td><td>BK-R64Y-44</td></tr><tr><td>801</td><td>Road-550-W Yellow, 48</td><td>BK-R64Y-48</td></tr><tr><td>802</td><td>LL Fork</td><td>FK-1639</td></tr><tr><td>803</td><td>ML Fork</td><td>FK-5136</td></tr><tr><td>804</td><td>HL Fork</td><td>FK-9939</td></tr><tr><td>805</td><td>LL Headset</td><td>HS-0296</td></tr><tr><td>806</td><td>ML Headset</td><td>HS-2451</td></tr><tr><td>807</td><td>HL Headset</td><td>HS-3479</td></tr><tr><td>808</td><td>LL Mountain Handlebars</td><td>HB-M243</td></tr><tr><td>809</td><td>ML Mountain Handlebars</td><td>HB-M763</td></tr><tr><td>810</td><td>HL Mountain Handlebars</td><td>HB-M918</td></tr><tr><td>811</td><td>LL Road Handlebars</td><td>HB-R504</td></tr><tr><td>812</td><td>ML Road Handlebars</td><td>HB-R720</td></tr><tr><td>813</td><td>HL Road Handlebars</td><td>HB-R956</td></tr><tr><td>814</td><td>ML Mountain Frame - Black, 38</td><td>FR-M63B-38</td></tr><tr><td>815</td><td>LL Mountain Front Wheel</td><td>FW-M423</td></tr><tr><td>816</td><td>ML Mountain Front Wheel</td><td>FW-M762</td></tr><tr><td>817</td><td>HL Mountain Front Wheel</td><td>FW-M928</td></tr><tr><td>818</td><td>LL Road Front Wheel</td><td>FW-R623</td></tr><tr><td>819</td><td>ML Road Front Wheel</td><td>FW-R762</td></tr><tr><td>820</td><td>HL Road Front Wheel</td><td>FW-R820</td></tr><tr><td>821</td><td>Touring Front Wheel</td><td>FW-T905</td></tr><tr><td>822</td><td>ML Road Frame-W - Yellow, 38</td><td>FR-R72Y-38</td></tr><tr><td>823</td><td>LL Mountain Rear Wheel</td><td>RW-M423</td></tr><tr><td>824</td><td>ML Mountain Rear Wheel</td><td>RW-M762</td></tr><tr><td>825</td><td>HL Mountain Rear Wheel</td><td>RW-M928</td></tr><tr><td>826</td><td>LL Road Rear Wheel</td><td>RW-R623</td></tr><tr><td>827</td><td>ML Road Rear Wheel</td><td>RW-R762</td></tr><tr><td>828</td><td>HL Road Rear Wheel</td><td>RW-R820</td></tr><tr><td>829</td><td>Touring Rear Wheel</td><td>RW-T905</td></tr><tr><td>830</td><td>ML Mountain Frame - Black, 40</td><td>FR-M63B-40</td></tr><tr><td>831</td><td>ML Mountain Frame - Black, 44</td><td>FR-M63B-44</td></tr><tr><td>832</td><td>ML Mountain Frame - Black, 48</td><td>FR-M63B-48</td></tr><tr><td>833</td><td>ML Road Frame-W - Yellow, 40</td><td>FR-R72Y-40</td></tr><tr><td>834</td><td>ML Road Frame-W - Yellow, 42</td><td>FR-R72Y-42</td></tr><tr><td>835</td><td>ML Road Frame-W - Yellow, 44</td><td>FR-R72Y-44</td></tr><tr><td>836</td><td>ML Road Frame-W - Yellow, 48</td><td>FR-R72Y-48</td></tr><tr><td>837</td><td>HL Road Frame - Black, 62</td><td>FR-R92B-62</td></tr><tr><td>838</td><td>HL Road Frame - Black, 44</td><td>FR-R92B-44</td></tr><tr><td>839</td><td>HL Road Frame - Black, 48</td><td>FR-R92B-48</td></tr><tr><td>840</td><td>HL Road Frame - Black, 52</td><td>FR-R92B-52</td></tr><tr><td>841</td><td>Men's Sports Shorts, S</td><td>SH-M897-S</td></tr><tr><td>842</td><td>Touring-Panniers, Large</td><td>PA-T100</td></tr><tr><td>843</td><td>Cable Lock</td><td>LO-C100</td></tr><tr><td>844</td><td>Minipump</td><td>PU-0452</td></tr><tr><td>845</td><td>Mountain Pump</td><td>PU-M044</td></tr><tr><td>846</td><td>Taillights - Battery-Powered</td><td>LT-T990</td></tr><tr><td>847</td><td>Headlights - Dual-Beam</td><td>LT-H902</td></tr><tr><td>848</td><td>Headlights - Weatherproof</td><td>LT-H903</td></tr><tr><td>849</td><td>Men's Sports Shorts, M</td><td>SH-M897-M</td></tr><tr><td>850</td><td>Men's Sports Shorts, L</td><td>SH-M897-L</td></tr><tr><td>851</td><td>Men's Sports Shorts, XL</td><td>SH-M897-X</td></tr><tr><td>852</td><td>Women's Tights, S</td><td>TG-W091-S</td></tr><tr><td>853</td><td>Women's Tights, M</td><td>TG-W091-M</td></tr><tr><td>854</td><td>Women's Tights, L</td><td>TG-W091-L</td></tr><tr><td>855</td><td>Men's Bib-Shorts, S</td><td>SB-M891-S</td></tr><tr><td>856</td><td>Men's Bib-Shorts, M</td><td>SB-M891-M</td></tr><tr><td>857</td><td>Men's Bib-Shorts, L</td><td>SB-M891-L</td></tr><tr><td>858</td><td>Half-Finger Gloves, S</td><td>GL-H102-S</td></tr><tr><td>859</td><td>Half-Finger Gloves, M</td><td>GL-H102-M</td></tr><tr><td>860</td><td>Half-Finger Gloves, L</td><td>GL-H102-L</td></tr><tr><td>861</td><td>Full-Finger Gloves, S</td><td>GL-F110-S</td></tr><tr><td>862</td><td>Full-Finger Gloves, M</td><td>GL-F110-M</td></tr><tr><td>863</td><td>Full-Finger Gloves, L</td><td>GL-F110-L</td></tr><tr><td>864</td><td>Classic Vest, S</td><td>VE-C304-S</td></tr><tr><td>865</td><td>Classic Vest, M</td><td>VE-C304-M</td></tr><tr><td>866</td><td>Classic Vest, L</td><td>VE-C304-L</td></tr><tr><td>867</td><td>Women's Mountain Shorts, S</td><td>SH-W890-S</td></tr><tr><td>868</td><td>Women's Mountain Shorts, M</td><td>SH-W890-M</td></tr><tr><td>869</td><td>Women's Mountain Shorts, L</td><td>SH-W890-L</td></tr><tr><td>870</td><td>Water Bottle - 30 oz.</td><td>WB-H098</td></tr><tr><td>871</td><td>Mountain Bottle Cage</td><td>BC-M005</td></tr><tr><td>872</td><td>Road Bottle Cage</td><td>BC-R205</td></tr><tr><td>873</td><td>Patch Kit/8 Patches</td><td>PK-7098</td></tr><tr><td>874</td><td>Racing Socks, M</td><td>SO-R809-M</td></tr><tr><td>875</td><td>Racing Socks, L</td><td>SO-R809-L</td></tr><tr><td>876</td><td>Hitch Rack - 4-Bike</td><td>RA-H123</td></tr><tr><td>877</td><td>Bike Wash - Dissolver</td><td>CL-9009</td></tr><tr><td>878</td><td>Fender Set - Mountain</td><td>FE-6654</td></tr><tr><td>879</td><td>All-Purpose Bike Stand</td><td>ST-1401</td></tr><tr><td>880</td><td>Hydration Pack - 70 oz.</td><td>HY-1023-70</td></tr><tr><td>881</td><td>Short-Sleeve Classic Jersey, S</td><td>SJ-0194-S</td></tr><tr><td>882</td><td>Short-Sleeve Classic Jersey, M</td><td>SJ-0194-M</td></tr><tr><td>883</td><td>Short-Sleeve Classic Jersey, L</td><td>SJ-0194-L</td></tr><tr><td>884</td><td>Short-Sleeve Classic Jersey, XL</td><td>SJ-0194-X</td></tr><tr><td>885</td><td>HL Touring Frame - Yellow, 60</td><td>FR-T98Y-60</td></tr><tr><td>886</td><td>LL Touring Frame - Yellow, 62</td><td>FR-T67Y-62</td></tr><tr><td>887</td><td>HL Touring Frame - Yellow, 46</td><td>FR-T98Y-46</td></tr><tr><td>888</td><td>HL Touring Frame - Yellow, 50</td><td>FR-T98Y-50</td></tr><tr><td>889</td><td>HL Touring Frame - Yellow, 54</td><td>FR-T98Y-54</td></tr><tr><td>890</td><td>HL Touring Frame - Blue, 46</td><td>FR-T98U-46</td></tr><tr><td>891</td><td>HL Touring Frame - Blue, 50</td><td>FR-T98U-50</td></tr><tr><td>892</td><td>HL Touring Frame - Blue, 54</td><td>FR-T98U-54</td></tr><tr><td>893</td><td>HL Touring Frame - Blue, 60</td><td>FR-T98U-60</td></tr><tr><td>894</td><td>Rear Derailleur</td><td>RD-2308</td></tr><tr><td>895</td><td>LL Touring Frame - Blue, 50</td><td>FR-T67U-50</td></tr><tr><td>896</td><td>LL Touring Frame - Blue, 54</td><td>FR-T67U-54</td></tr><tr><td>897</td><td>LL Touring Frame - Blue, 58</td><td>FR-T67U-58</td></tr><tr><td>898</td><td>LL Touring Frame - Blue, 62</td><td>FR-T67U-62</td></tr><tr><td>899</td><td>LL Touring Frame - Yellow, 44</td><td>FR-T67Y-44</td></tr><tr><td>900</td><td>LL Touring Frame - Yellow, 50</td><td>FR-T67Y-50</td></tr><tr><td>901</td><td>LL Touring Frame - Yellow, 54</td><td>FR-T67Y-54</td></tr><tr><td>902</td><td>LL Touring Frame - Yellow, 58</td><td>FR-T67Y-58</td></tr><tr><td>903</td><td>LL Touring Frame - Blue, 44</td><td>FR-T67U-44</td></tr><tr><td>904</td><td>ML Mountain Frame-W - Silver, 40</td><td>FR-M63S-40</td></tr><tr><td>905</td><td>ML Mountain Frame-W - Silver, 42</td><td>FR-M63S-42</td></tr><tr><td>906</td><td>ML Mountain Frame-W - Silver, 46</td><td>FR-M63S-46</td></tr><tr><td>907</td><td>Rear Brakes</td><td>RB-9231</td></tr><tr><td>908</td><td>LL Mountain Seat/Saddle</td><td>SE-M236</td></tr><tr><td>909</td><td>ML Mountain Seat/Saddle</td><td>SE-M798</td></tr><tr><td>910</td><td>HL Mountain Seat/Saddle</td><td>SE-M940</td></tr><tr><td>911</td><td>LL Road Seat/Saddle</td><td>SE-R581</td></tr><tr><td>912</td><td>ML Road Seat/Saddle</td><td>SE-R908</td></tr><tr><td>913</td><td>HL Road Seat/Saddle</td><td>SE-R995</td></tr><tr><td>914</td><td>LL Touring Seat/Saddle</td><td>SE-T312</td></tr><tr><td>915</td><td>ML Touring Seat/Saddle</td><td>SE-T762</td></tr><tr><td>916</td><td>HL Touring Seat/Saddle</td><td>SE-T924</td></tr><tr><td>917</td><td>LL Mountain Frame - Silver, 42</td><td>FR-M21S-42</td></tr><tr><td>918</td><td>LL Mountain Frame - Silver, 44</td><td>FR-M21S-44</td></tr><tr><td>919</td><td>LL Mountain Frame - Silver, 48</td><td>FR-M21S-48</td></tr><tr><td>920</td><td>LL Mountain Frame - Silver, 52</td><td>FR-M21S-52</td></tr><tr><td>921</td><td>Mountain Tire Tube</td><td>TT-M928</td></tr><tr><td>922</td><td>Road Tire Tube</td><td>TT-R982</td></tr><tr><td>923</td><td>Touring Tire Tube</td><td>TT-T092</td></tr><tr><td>924</td><td>LL Mountain Frame - Black, 42</td><td>FR-M21B-42</td></tr><tr><td>925</td><td>LL Mountain Frame - Black, 44</td><td>FR-M21B-44</td></tr><tr><td>926</td><td>LL Mountain Frame - Black, 48</td><td>FR-M21B-48</td></tr><tr><td>927</td><td>LL Mountain Frame - Black, 52</td><td>FR-M21B-52</td></tr><tr><td>928</td><td>LL Mountain Tire</td><td>TI-M267</td></tr><tr><td>929</td><td>ML Mountain Tire</td><td>TI-M602</td></tr><tr><td>930</td><td>HL Mountain Tire</td><td>TI-M823</td></tr><tr><td>931</td><td>LL Road Tire</td><td>TI-R092</td></tr><tr><td>932</td><td>ML Road Tire</td><td>TI-R628</td></tr><tr><td>933</td><td>HL Road Tire</td><td>TI-R982</td></tr><tr><td>934</td><td>Touring Tire</td><td>TI-T723</td></tr><tr><td>935</td><td>LL Mountain Pedal</td><td>PD-M282</td></tr><tr><td>936</td><td>ML Mountain Pedal</td><td>PD-M340</td></tr><tr><td>937</td><td>HL Mountain Pedal</td><td>PD-M562</td></tr><tr><td>938</td><td>LL Road Pedal</td><td>PD-R347</td></tr><tr><td>939</td><td>ML Road Pedal</td><td>PD-R563</td></tr><tr><td>940</td><td>HL Road Pedal</td><td>PD-R853</td></tr><tr><td>941</td><td>Touring Pedal</td><td>PD-T852</td></tr><tr><td>942</td><td>ML Mountain Frame-W - Silver, 38</td><td>FR-M63S-38</td></tr><tr><td>943</td><td>LL Mountain Frame - Black, 40</td><td>FR-M21B-40</td></tr><tr><td>944</td><td>LL Mountain Frame - Silver, 40</td><td>FR-M21S-40</td></tr><tr><td>945</td><td>Front Derailleur</td><td>FD-2342</td></tr><tr><td>946</td><td>LL Touring Handlebars</td><td>HB-T721</td></tr><tr><td>947</td><td>HL Touring Handlebars</td><td>HB-T928</td></tr><tr><td>948</td><td>Front Brakes</td><td>FB-9873</td></tr><tr><td>949</td><td>LL Crankset</td><td>CS-4759</td></tr><tr><td>950</td><td>ML Crankset</td><td>CS-6583</td></tr><tr><td>951</td><td>HL Crankset</td><td>CS-9183</td></tr><tr><td>952</td><td>Chain</td><td>CH-0234</td></tr><tr><td>953</td><td>Touring-2000 Blue, 60</td><td>BK-T44U-60</td></tr><tr><td>954</td><td>Touring-1000 Yellow, 46</td><td>BK-T79Y-46</td></tr><tr><td>955</td><td>Touring-1000 Yellow, 50</td><td>BK-T79Y-50</td></tr><tr><td>956</td><td>Touring-1000 Yellow, 54</td><td>BK-T79Y-54</td></tr><tr><td>957</td><td>Touring-1000 Yellow, 60</td><td>BK-T79Y-60</td></tr><tr><td>958</td><td>Touring-3000 Blue, 54</td><td>BK-T18U-54</td></tr><tr><td>959</td><td>Touring-3000 Blue, 58</td><td>BK-T18U-58</td></tr><tr><td>960</td><td>Touring-3000 Blue, 62</td><td>BK-T18U-62</td></tr><tr><td>961</td><td>Touring-3000 Yellow, 44</td><td>BK-T18Y-44</td></tr><tr><td>962</td><td>Touring-3000 Yellow, 50</td><td>BK-T18Y-50</td></tr><tr><td>963</td><td>Touring-3000 Yellow, 54</td><td>BK-T18Y-54</td></tr><tr><td>964</td><td>Touring-3000 Yellow, 58</td><td>BK-T18Y-58</td></tr><tr><td>965</td><td>Touring-3000 Yellow, 62</td><td>BK-T18Y-62</td></tr><tr><td>966</td><td>Touring-1000 Blue, 46</td><td>BK-T79U-46</td></tr><tr><td>967</td><td>Touring-1000 Blue, 50</td><td>BK-T79U-50</td></tr><tr><td>968</td><td>Touring-1000 Blue, 54</td><td>BK-T79U-54</td></tr><tr><td>969</td><td>Touring-1000 Blue, 60</td><td>BK-T79U-60</td></tr><tr><td>970</td><td>Touring-2000 Blue, 46</td><td>BK-T44U-46</td></tr><tr><td>971</td><td>Touring-2000 Blue, 50</td><td>BK-T44U-50</td></tr><tr><td>972</td><td>Touring-2000 Blue, 54</td><td>BK-T44U-54</td></tr><tr><td>973</td><td>Road-350-W Yellow, 40</td><td>BK-R79Y-40</td></tr><tr><td>974</td><td>Road-350-W Yellow, 42</td><td>BK-R79Y-42</td></tr><tr><td>975</td><td>Road-350-W Yellow, 44</td><td>BK-R79Y-44</td></tr><tr><td>976</td><td>Road-350-W Yellow, 48</td><td>BK-R79Y-48</td></tr><tr><td>977</td><td>Road-750 Black, 58</td><td>BK-R19B-58</td></tr><tr><td>978</td><td>Touring-3000 Blue, 44</td><td>BK-T18U-44</td></tr><tr><td>979</td><td>Touring-3000 Blue, 50</td><td>BK-T18U-50</td></tr><tr><td>980</td><td>Mountain-400-W Silver, 38</td><td>BK-M38S-38</td></tr><tr><td>981</td><td>Mountain-400-W Silver, 40</td><td>BK-M38S-40</td></tr><tr><td>982</td><td>Mountain-400-W Silver, 42</td><td>BK-M38S-42</td></tr><tr><td>983</td><td>Mountain-400-W Silver, 46</td><td>BK-M38S-46</td></tr><tr><td>984</td><td>Mountain-500 Silver, 40</td><td>BK-M18S-40</td></tr><tr><td>985</td><td>Mountain-500 Silver, 42</td><td>BK-M18S-42</td></tr><tr><td>986</td><td>Mountain-500 Silver, 44</td><td>BK-M18S-44</td></tr><tr><td>987</td><td>Mountain-500 Silver, 48</td><td>BK-M18S-48</td></tr><tr><td>988</td><td>Mountain-500 Silver, 52</td><td>BK-M18S-52</td></tr><tr><td>989</td><td>Mountain-500 Black, 40</td><td>BK-M18B-40</td></tr><tr><td>990</td><td>Mountain-500 Black, 42</td><td>BK-M18B-42</td></tr><tr><td>991</td><td>Mountain-500 Black, 44</td><td>BK-M18B-44</td></tr><tr><td>992</td><td>Mountain-500 Black, 48</td><td>BK-M18B-48</td></tr><tr><td>993</td><td>Mountain-500 Black, 52</td><td>BK-M18B-52</td></tr><tr><td>994</td><td>LL Bottom Bracket</td><td>BB-7421</td></tr><tr><td>995</td><td>ML Bottom Bracket</td><td>BB-8107</td></tr><tr><td>996</td><td>HL Bottom Bracket</td><td>BB-9108</td></tr><tr><td>997</td><td>Road-750 Black, 44</td><td>BK-R19B-44</td></tr><tr><td>998</td><td>Road-750 Black, 48</td><td>BK-R19B-48</td></tr><tr><td>999</td><td>Road-750 Black, 52</td><td>BK-R19B-52</td></tr></table>"
                    },
                    "metadata": {}
                }
            ],
            "execution_count": 3
        },
        {
            "cell_type": "markdown",
            "source": "## The query in Figure 1 returns 295 rows, and is a list of products from the [Production].[Product] table.  Next step is to create a function called [fn_TotalSoldToDate], this will take a ProductID and return the total number items ordered from the [Sales].[SalesOrderDetail] table see Figure 2.  For the  Nothing complicated so far.\r\n\r\n## Now we are going to create a function called 'fn_TotalSoldToDate'",
            "metadata": {}
        },
        {
            "cell_type": "markdown",
            "source": "![sad panda](./Figure2.jpg \"Figure 2 - script to create table value function [fn_TotalSoldToDate]\")</br>\r\nFigure 2 - script to create table value function [fn_TotalSoldToDate]\r\n\r\n## Note 1\r\n## _Eagled eyed readers will have noted that the example used for this table valued function only returns one row.  Which is **not** how table value functions are intended to be used.  The reason that I have used a table valued function is for demonstration purposes only.  So yes it’s not best practice._\r\n",
            "metadata": {}
        },
        {
            "cell_type": "code",
            "source": "IF OBJECT_ID (N'fn_TotalSoldToDate', N'IF') IS NOT NULL\r\n  DROP FUNCTION dbo.fn_TotalSoldToDate\r\nGO\r\nCREATE FUNCTION fn_TotalSoldToDate (@ProductID int)\r\nRETURNS TABLE\r\nAS\r\nRETURN\r\n(\r\nSELECT [SODT].ProductID,\r\n       SUM([SODT].OrderQty) AS TotalOrdered\r\nFROM [Sales].[SalesOrderDetail] AS [SODT]\r\nGROUP BY ProductID\r\nHAVING\r\n    [SODT].ProductID = @ProductID\r\n)\r\nGO",
            "metadata": {},
            "outputs": [
                {
                    "output_type": "display_data",
                    "data": {
                        "text/html": "Commands completed successfully."
                    },
                    "metadata": {}
                },
                {
                    "output_type": "display_data",
                    "data": {
                        "text/html": "Commands completed successfully."
                    },
                    "metadata": {}
                },
                {
                    "output_type": "display_data",
                    "data": {
                        "text/html": "Total execution time: 00:00:00.029"
                    },
                    "metadata": {}
                }
            ],
            "execution_count": 4
        },
        {
            "cell_type": "markdown",
            "source": "## Now the function has been created let's use the table value function with the query shown in figure 1 to return the total number of items sold for the products listed.\r\n\r\n![sad panda](./Figure3.jpg \"Figure 3 - Using a CROSS APPLY with the [fn_TotalSoldToDate] to return the total number sold for each productID\")</br>\r\nFigure 1 - returns a list of products from the Product table",
            "metadata": {}
        },
        {
            "cell_type": "code",
            "source": "SELECT [P].[ProductID],\r\n       [P].[Name],\r\n       [P].[ProductNumber],\r\n\t   [PS].[TotalOrdered]\r\nFROM [Production].[Product] AS [P]\r\nCROSS APPLY [dbo].[fn_TotalSoldToDate]([P].ProductID) AS [PS]\r\nWHERE [P].[FinishedGoodsFlag] = 1;",
            "metadata": {},
            "outputs": [
                {
                    "output_type": "display_data",
                    "data": {
                        "text/html": "(266 rows affected)"
                    },
                    "metadata": {}
                },
                {
                    "output_type": "display_data",
                    "data": {
                        "text/html": "Total execution time: 00:00:00.472"
                    },
                    "metadata": {}
                },
                {
                    "output_type": "execute_result",
                    "execution_count": 5,
                    "data": {
                        "application/vnd.dataresource+json": {
                            "schema": {
                                "fields": [
                                    {
                                        "name": "ProductID"
                                    },
                                    {
                                        "name": "Name"
                                    },
                                    {
                                        "name": "ProductNumber"
                                    },
                                    {
                                        "name": "TotalOrdered"
                                    }
                                ]
                            },
                            "data": [
                                {
                                    "0": "707",
                                    "1": "Sport-100 Helmet, Red",
                                    "2": "HL-U509-R",
                                    "3": "6266"
                                },
                                {
                                    "0": "708",
                                    "1": "Sport-100 Helmet, Black",
                                    "2": "HL-U509",
                                    "3": "6532"
                                },
                                {
                                    "0": "709",
                                    "1": "Mountain Bike Socks, M",
                                    "2": "SO-B909-M",
                                    "3": "1107"
                                },
                                {
                                    "0": "710",
                                    "1": "Mountain Bike Socks, L",
                                    "2": "SO-B909-L",
                                    "3": "90"
                                },
                                {
                                    "0": "711",
                                    "1": "Sport-100 Helmet, Blue",
                                    "2": "HL-U509-B",
                                    "3": "6743"
                                },
                                {
                                    "0": "712",
                                    "1": "AWC Logo Cap",
                                    "2": "CA-1098",
                                    "3": "8311"
                                },
                                {
                                    "0": "713",
                                    "1": "Long-Sleeve Logo Jersey, S",
                                    "2": "LJ-0192-S",
                                    "3": "429"
                                },
                                {
                                    "0": "714",
                                    "1": "Long-Sleeve Logo Jersey, M",
                                    "2": "LJ-0192-M",
                                    "3": "3636"
                                },
                                {
                                    "0": "715",
                                    "1": "Long-Sleeve Logo Jersey, L",
                                    "2": "LJ-0192-L",
                                    "3": "6592"
                                },
                                {
                                    "0": "716",
                                    "1": "Long-Sleeve Logo Jersey, XL",
                                    "2": "LJ-0192-X",
                                    "3": "2980"
                                },
                                {
                                    "0": "717",
                                    "1": "HL Road Frame - Red, 62",
                                    "2": "FR-R92R-62",
                                    "3": "485"
                                },
                                {
                                    "0": "718",
                                    "1": "HL Road Frame - Red, 44",
                                    "2": "FR-R92R-44",
                                    "3": "486"
                                },
                                {
                                    "0": "719",
                                    "1": "HL Road Frame - Red, 48",
                                    "2": "FR-R92R-48",
                                    "3": "109"
                                },
                                {
                                    "0": "722",
                                    "1": "LL Road Frame - Black, 58",
                                    "2": "FR-R38B-58",
                                    "3": "940"
                                },
                                {
                                    "0": "723",
                                    "1": "LL Road Frame - Black, 60",
                                    "2": "FR-R38B-60",
                                    "3": "129"
                                },
                                {
                                    "0": "725",
                                    "1": "LL Road Frame - Red, 44",
                                    "2": "FR-R38R-44",
                                    "3": "991"
                                },
                                {
                                    "0": "726",
                                    "1": "LL Road Frame - Red, 48",
                                    "2": "FR-R38R-48",
                                    "3": "671"
                                },
                                {
                                    "0": "727",
                                    "1": "LL Road Frame - Red, 52",
                                    "2": "FR-R38R-52",
                                    "3": "100"
                                },
                                {
                                    "0": "729",
                                    "1": "LL Road Frame - Red, 60",
                                    "2": "FR-R38R-60",
                                    "3": "996"
                                },
                                {
                                    "0": "730",
                                    "1": "LL Road Frame - Red, 62",
                                    "2": "FR-R38R-62",
                                    "3": "697"
                                },
                                {
                                    "0": "732",
                                    "1": "ML Road Frame - Red, 48",
                                    "2": "FR-R72R-48",
                                    "3": "250"
                                },
                                {
                                    "0": "733",
                                    "1": "ML Road Frame - Red, 52",
                                    "2": "FR-R72R-52",
                                    "3": "90"
                                },
                                {
                                    "0": "736",
                                    "1": "LL Road Frame - Black, 44",
                                    "2": "FR-R38B-44",
                                    "3": "238"
                                },
                                {
                                    "0": "738",
                                    "1": "LL Road Frame - Black, 52",
                                    "2": "FR-R38B-52",
                                    "3": "1581"
                                },
                                {
                                    "0": "739",
                                    "1": "HL Mountain Frame - Silver, 42",
                                    "2": "FR-M94S-42",
                                    "3": "347"
                                },
                                {
                                    "0": "741",
                                    "1": "HL Mountain Frame - Silver, 48",
                                    "2": "FR-M94S-52",
                                    "3": "173"
                                },
                                {
                                    "0": "742",
                                    "1": "HL Mountain Frame - Silver, 46",
                                    "2": "FR-M94S-46",
                                    "3": "649"
                                },
                                {
                                    "0": "743",
                                    "1": "HL Mountain Frame - Black, 42",
                                    "2": "FR-M94B-42",
                                    "3": "1181"
                                },
                                {
                                    "0": "744",
                                    "1": "HL Mountain Frame - Black, 44",
                                    "2": "FR-M94B-44",
                                    "3": "17"
                                },
                                {
                                    "0": "745",
                                    "1": "HL Mountain Frame - Black, 48",
                                    "2": "FR-M94B-48",
                                    "3": "131"
                                },
                                {
                                    "0": "747",
                                    "1": "HL Mountain Frame - Black, 38",
                                    "2": "FR-M94B-38",
                                    "3": "659"
                                },
                                {
                                    "0": "748",
                                    "1": "HL Mountain Frame - Silver, 38",
                                    "2": "FR-M94S-38",
                                    "3": "1206"
                                },
                                {
                                    "0": "749",
                                    "1": "Road-150 Red, 62",
                                    "2": "BK-R93R-62",
                                    "3": "600"
                                },
                                {
                                    "0": "750",
                                    "1": "Road-150 Red, 44",
                                    "2": "BK-R93R-44",
                                    "3": "437"
                                },
                                {
                                    "0": "751",
                                    "1": "Road-150 Red, 48",
                                    "2": "BK-R93R-48",
                                    "3": "493"
                                },
                                {
                                    "0": "752",
                                    "1": "Road-150 Red, 52",
                                    "2": "BK-R93R-52",
                                    "3": "458"
                                },
                                {
                                    "0": "753",
                                    "1": "Road-150 Red, 56",
                                    "2": "BK-R93R-56",
                                    "3": "664"
                                },
                                {
                                    "0": "754",
                                    "1": "Road-450 Red, 58",
                                    "2": "BK-R68R-58",
                                    "3": "582"
                                },
                                {
                                    "0": "755",
                                    "1": "Road-450 Red, 60",
                                    "2": "BK-R68R-60",
                                    "3": "350"
                                },
                                {
                                    "0": "756",
                                    "1": "Road-450 Red, 44",
                                    "2": "BK-R68R-44",
                                    "3": "346"
                                },
                                {
                                    "0": "757",
                                    "1": "Road-450 Red, 48",
                                    "2": "BK-R68R-48",
                                    "3": "156"
                                },
                                {
                                    "0": "758",
                                    "1": "Road-450 Red, 52",
                                    "2": "BK-R68R-52",
                                    "3": "710"
                                },
                                {
                                    "0": "759",
                                    "1": "Road-650 Red, 58",
                                    "2": "BK-R50R-58",
                                    "3": "618"
                                },
                                {
                                    "0": "760",
                                    "1": "Road-650 Red, 60",
                                    "2": "BK-R50R-60",
                                    "3": "2232"
                                },
                                {
                                    "0": "761",
                                    "1": "Road-650 Red, 62",
                                    "2": "BK-R50R-62",
                                    "3": "1896"
                                },
                                {
                                    "0": "762",
                                    "1": "Road-650 Red, 44",
                                    "2": "BK-R50R-44",
                                    "3": "2254"
                                },
                                {
                                    "0": "763",
                                    "1": "Road-650 Red, 48",
                                    "2": "BK-R50R-48",
                                    "3": "1888"
                                },
                                {
                                    "0": "764",
                                    "1": "Road-650 Red, 52",
                                    "2": "BK-R50R-52",
                                    "3": "1112"
                                },
                                {
                                    "0": "765",
                                    "1": "Road-650 Black, 58",
                                    "2": "BK-R50B-58",
                                    "3": "1871"
                                },
                                {
                                    "0": "766",
                                    "1": "Road-650 Black, 60",
                                    "2": "BK-R50B-60",
                                    "3": "1100"
                                },
                                {
                                    "0": "767",
                                    "1": "Road-650 Black, 62",
                                    "2": "BK-R50B-62",
                                    "3": "644"
                                },
                                {
                                    "0": "768",
                                    "1": "Road-650 Black, 44",
                                    "2": "BK-R50B-44",
                                    "3": "1080"
                                },
                                {
                                    "0": "769",
                                    "1": "Road-650 Black, 48",
                                    "2": "BK-R50B-48",
                                    "3": "644"
                                },
                                {
                                    "0": "770",
                                    "1": "Road-650 Black, 52",
                                    "2": "BK-R50B-52",
                                    "3": "2270"
                                },
                                {
                                    "0": "771",
                                    "1": "Mountain-100 Silver, 38",
                                    "2": "BK-M82S-38",
                                    "3": "642"
                                },
                                {
                                    "0": "772",
                                    "1": "Mountain-100 Silver, 42",
                                    "2": "BK-M82S-42",
                                    "3": "593"
                                },
                                {
                                    "0": "773",
                                    "1": "Mountain-100 Silver, 44",
                                    "2": "BK-M82S-44",
                                    "3": "601"
                                },
                                {
                                    "0": "774",
                                    "1": "Mountain-100 Silver, 48",
                                    "2": "BK-M82S-48",
                                    "3": "505"
                                },
                                {
                                    "0": "775",
                                    "1": "Mountain-100 Black, 38",
                                    "2": "BK-M82B-38",
                                    "3": "682"
                                },
                                {
                                    "0": "776",
                                    "1": "Mountain-100 Black, 42",
                                    "2": "BK-M82B-42",
                                    "3": "634"
                                },
                                {
                                    "0": "777",
                                    "1": "Mountain-100 Black, 44",
                                    "2": "BK-M82B-44",
                                    "3": "678"
                                },
                                {
                                    "0": "778",
                                    "1": "Mountain-100 Black, 48",
                                    "2": "BK-M82B-48",
                                    "3": "616"
                                },
                                {
                                    "0": "779",
                                    "1": "Mountain-200 Silver, 38",
                                    "2": "BK-M68S-38",
                                    "3": "2394"
                                },
                                {
                                    "0": "780",
                                    "1": "Mountain-200 Silver, 42",
                                    "2": "BK-M68S-42",
                                    "3": "2234"
                                },
                                {
                                    "0": "781",
                                    "1": "Mountain-200 Silver, 46",
                                    "2": "BK-M68S-46",
                                    "3": "2216"
                                },
                                {
                                    "0": "782",
                                    "1": "Mountain-200 Black, 38",
                                    "2": "BK-M68B-38",
                                    "3": "2977"
                                },
                                {
                                    "0": "783",
                                    "1": "Mountain-200 Black, 42",
                                    "2": "BK-M68B-42",
                                    "3": "2664"
                                },
                                {
                                    "0": "784",
                                    "1": "Mountain-200 Black, 46",
                                    "2": "BK-M68B-46",
                                    "3": "2111"
                                },
                                {
                                    "0": "785",
                                    "1": "Mountain-300 Black, 38",
                                    "2": "BK-M47B-38",
                                    "3": "684"
                                },
                                {
                                    "0": "786",
                                    "1": "Mountain-300 Black, 40",
                                    "2": "BK-M47B-40",
                                    "3": "776"
                                },
                                {
                                    "0": "787",
                                    "1": "Mountain-300 Black, 44",
                                    "2": "BK-M47B-44",
                                    "3": "747"
                                },
                                {
                                    "0": "788",
                                    "1": "Mountain-300 Black, 48",
                                    "2": "BK-M47B-48",
                                    "3": "740"
                                },
                                {
                                    "0": "789",
                                    "1": "Road-250 Red, 44",
                                    "2": "BK-R89R-44",
                                    "3": "895"
                                },
                                {
                                    "0": "790",
                                    "1": "Road-250 Red, 48",
                                    "2": "BK-R89R-48",
                                    "3": "812"
                                },
                                {
                                    "0": "791",
                                    "1": "Road-250 Red, 52",
                                    "2": "BK-R89R-52",
                                    "3": "639"
                                },
                                {
                                    "0": "792",
                                    "1": "Road-250 Red, 58",
                                    "2": "BK-R89R-58",
                                    "3": "946"
                                },
                                {
                                    "0": "793",
                                    "1": "Road-250 Black, 44",
                                    "2": "BK-R89B-44",
                                    "3": "1642"
                                },
                                {
                                    "0": "794",
                                    "1": "Road-250 Black, 48",
                                    "2": "BK-R89B-48",
                                    "3": "1498"
                                },
                                {
                                    "0": "795",
                                    "1": "Road-250 Black, 52",
                                    "2": "BK-R89B-52",
                                    "3": "1245"
                                },
                                {
                                    "0": "796",
                                    "1": "Road-250 Black, 58",
                                    "2": "BK-R89B-58",
                                    "3": "910"
                                },
                                {
                                    "0": "797",
                                    "1": "Road-550-W Yellow, 38",
                                    "2": "BK-R64Y-38",
                                    "3": "1744"
                                },
                                {
                                    "0": "798",
                                    "1": "Road-550-W Yellow, 40",
                                    "2": "BK-R64Y-40",
                                    "3": "1500"
                                },
                                {
                                    "0": "799",
                                    "1": "Road-550-W Yellow, 42",
                                    "2": "BK-R64Y-42",
                                    "3": "1249"
                                },
                                {
                                    "0": "800",
                                    "1": "Road-550-W Yellow, 44",
                                    "2": "BK-R64Y-44",
                                    "3": "927"
                                },
                                {
                                    "0": "801",
                                    "1": "Road-550-W Yellow, 48",
                                    "2": "BK-R64Y-48",
                                    "3": "1763"
                                },
                                {
                                    "0": "802",
                                    "1": "LL Fork",
                                    "2": "FK-1639",
                                    "3": "190"
                                },
                                {
                                    "0": "804",
                                    "1": "HL Fork",
                                    "2": "FK-9939",
                                    "3": "444"
                                },
                                {
                                    "0": "805",
                                    "1": "LL Headset",
                                    "2": "HS-0296",
                                    "3": "95"
                                },
                                {
                                    "0": "806",
                                    "1": "ML Headset",
                                    "2": "HS-2451",
                                    "3": "659"
                                },
                                {
                                    "0": "807",
                                    "1": "HL Headset",
                                    "2": "HS-3479",
                                    "3": "255"
                                },
                                {
                                    "0": "808",
                                    "1": "LL Mountain Handlebars",
                                    "2": "HB-M243",
                                    "3": "865"
                                },
                                {
                                    "0": "809",
                                    "1": "ML Mountain Handlebars",
                                    "2": "HB-M763",
                                    "3": "1465"
                                },
                                {
                                    "0": "810",
                                    "1": "HL Mountain Handlebars",
                                    "2": "HB-M918",
                                    "3": "500"
                                },
                                {
                                    "0": "811",
                                    "1": "LL Road Handlebars",
                                    "2": "HB-R504",
                                    "3": "213"
                                },
                                {
                                    "0": "813",
                                    "1": "HL Road Handlebars",
                                    "2": "HB-R956",
                                    "3": "631"
                                },
                                {
                                    "0": "814",
                                    "1": "ML Mountain Frame - Black, 38",
                                    "2": "FR-M63B-38",
                                    "3": "514"
                                },
                                {
                                    "0": "815",
                                    "1": "LL Mountain Front Wheel",
                                    "2": "FW-M423",
                                    "3": "617"
                                },
                                {
                                    "0": "816",
                                    "1": "ML Mountain Front Wheel",
                                    "2": "FW-M762",
                                    "3": "266"
                                },
                                {
                                    "0": "817",
                                    "1": "HL Mountain Front Wheel",
                                    "2": "FW-M928",
                                    "3": "222"
                                },
                                {
                                    "0": "819",
                                    "1": "ML Road Front Wheel",
                                    "2": "FW-R762",
                                    "3": "532"
                                },
                                {
                                    "0": "820",
                                    "1": "HL Road Front Wheel",
                                    "2": "FW-R820",
                                    "3": "567"
                                },
                                {
                                    "0": "822",
                                    "1": "ML Road Frame-W - Yellow, 38",
                                    "2": "FR-R72Y-38",
                                    "3": "895"
                                },
                                {
                                    "0": "823",
                                    "1": "LL Mountain Rear Wheel",
                                    "2": "RW-M423",
                                    "3": "342"
                                },
                                {
                                    "0": "824",
                                    "1": "ML Mountain Rear Wheel",
                                    "2": "RW-M762",
                                    "3": "851"
                                },
                                {
                                    "0": "825",
                                    "1": "HL Mountain Rear Wheel",
                                    "2": "RW-M928",
                                    "3": "850"
                                },
                                {
                                    "0": "826",
                                    "1": "LL Road Rear Wheel",
                                    "2": "RW-R623",
                                    "3": "868"
                                },
                                {
                                    "0": "827",
                                    "1": "ML Road Rear Wheel",
                                    "2": "RW-R762",
                                    "3": "64"
                                },
                                {
                                    "0": "828",
                                    "1": "HL Road Rear Wheel",
                                    "2": "RW-R820",
                                    "3": "94"
                                },
                                {
                                    "0": "830",
                                    "1": "ML Mountain Frame - Black, 40",
                                    "2": "FR-M63B-40",
                                    "3": "68"
                                },
                                {
                                    "0": "831",
                                    "1": "ML Mountain Frame - Black, 44",
                                    "2": "FR-M63B-44",
                                    "3": "619"
                                },
                                {
                                    "0": "832",
                                    "1": "ML Mountain Frame - Black, 48",
                                    "2": "FR-M63B-48",
                                    "3": "959"
                                },
                                {
                                    "0": "833",
                                    "1": "ML Road Frame-W - Yellow, 40",
                                    "2": "FR-R72Y-40",
                                    "3": "203"
                                },
                                {
                                    "0": "835",
                                    "1": "ML Road Frame-W - Yellow, 44",
                                    "2": "FR-R72Y-44",
                                    "3": "1435"
                                },
                                {
                                    "0": "836",
                                    "1": "ML Road Frame-W - Yellow, 48",
                                    "2": "FR-R72Y-48",
                                    "3": "889"
                                },
                                {
                                    "0": "838",
                                    "1": "HL Road Frame - Black, 44",
                                    "2": "FR-R92B-44",
                                    "3": "459"
                                },
                                {
                                    "0": "839",
                                    "1": "HL Road Frame - Black, 48",
                                    "2": "FR-R92B-48",
                                    "3": "109"
                                },
                                {
                                    "0": "841",
                                    "1": "Men's Sports Shorts, S",
                                    "2": "SH-M897-S",
                                    "3": "567"
                                },
                                {
                                    "0": "843",
                                    "1": "Cable Lock",
                                    "2": "LO-C100",
                                    "3": "1087"
                                },
                                {
                                    "0": "844",
                                    "1": "Minipump",
                                    "2": "PU-0452",
                                    "3": "1130"
                                },
                                {
                                    "0": "849",
                                    "1": "Men's Sports Shorts, M",
                                    "2": "SH-M897-M",
                                    "3": "1276"
                                },
                                {
                                    "0": "850",
                                    "1": "Men's Sports Shorts, L",
                                    "2": "SH-M897-L",
                                    "3": "445"
                                },
                                {
                                    "0": "852",
                                    "1": "Women's Tights, S",
                                    "2": "TG-W091-S",
                                    "3": "2072"
                                },
                                {
                                    "0": "853",
                                    "1": "Women's Tights, M",
                                    "2": "TG-W091-M",
                                    "3": "394"
                                },
                                {
                                    "0": "854",
                                    "1": "Women's Tights, L",
                                    "2": "TG-W091-L",
                                    "3": "2123"
                                },
                                {
                                    "0": "855",
                                    "1": "Men's Bib-Shorts, S",
                                    "2": "SB-M891-S",
                                    "3": "876"
                                },
                                {
                                    "0": "856",
                                    "1": "Men's Bib-Shorts, M",
                                    "2": "SB-M891-M",
                                    "3": "1616"
                                },
                                {
                                    "0": "857",
                                    "1": "Men's Bib-Shorts, L",
                                    "2": "SB-M891-L",
                                    "3": "633"
                                },
                                {
                                    "0": "858",
                                    "1": "Half-Finger Gloves, S",
                                    "2": "GL-H102-S",
                                    "3": "2188"
                                },
                                {
                                    "0": "859",
                                    "1": "Half-Finger Gloves, M",
                                    "2": "GL-H102-M",
                                    "3": "3464"
                                },
                                {
                                    "0": "860",
                                    "1": "Half-Finger Gloves, L",
                                    "2": "GL-H102-L",
                                    "3": "1276"
                                },
                                {
                                    "0": "861",
                                    "1": "Full-Finger Gloves, S",
                                    "2": "GL-F110-S",
                                    "3": "500"
                                },
                                {
                                    "0": "862",
                                    "1": "Full-Finger Gloves, M",
                                    "2": "GL-F110-M",
                                    "3": "2206"
                                },
                                {
                                    "0": "863",
                                    "1": "Full-Finger Gloves, L",
                                    "2": "GL-F110-L",
                                    "3": "3378"
                                },
                                {
                                    "0": "864",
                                    "1": "Classic Vest, S",
                                    "2": "VE-C304-S",
                                    "3": "4247"
                                },
                                {
                                    "0": "865",
                                    "1": "Classic Vest, M",
                                    "2": "VE-C304-M",
                                    "3": "2284"
                                },
                                {
                                    "0": "866",
                                    "1": "Classic Vest, L",
                                    "2": "VE-C304-L",
                                    "3": "207"
                                },
                                {
                                    "0": "867",
                                    "1": "Women's Mountain Shorts, S",
                                    "2": "SH-W890-S",
                                    "3": "3296"
                                },
                                {
                                    "0": "868",
                                    "1": "Women's Mountain Shorts, M",
                                    "2": "SH-W890-M",
                                    "3": "1139"
                                },
                                {
                                    "0": "869",
                                    "1": "Women's Mountain Shorts, L",
                                    "2": "SH-W890-L",
                                    "3": "3244"
                                },
                                {
                                    "0": "870",
                                    "1": "Water Bottle - 30 oz.",
                                    "2": "WB-H098",
                                    "3": "6815"
                                },
                                {
                                    "0": "871",
                                    "1": "Mountain Bottle Cage",
                                    "2": "BC-M005",
                                    "3": "2025"
                                },
                                {
                                    "0": "872",
                                    "1": "Road Bottle Cage",
                                    "2": "BC-R205",
                                    "3": "1712"
                                },
                                {
                                    "0": "873",
                                    "1": "Patch Kit/8 Patches",
                                    "2": "PK-7098",
                                    "3": "3865"
                                },
                                {
                                    "0": "874",
                                    "1": "Racing Socks, M",
                                    "2": "SO-R809-M",
                                    "3": "1547"
                                },
                                {
                                    "0": "875",
                                    "1": "Racing Socks, L",
                                    "2": "SO-R809-L",
                                    "3": "2473"
                                },
                                {
                                    "0": "876",
                                    "1": "Hitch Rack - 4-Bike",
                                    "2": "RA-H123",
                                    "3": "3166"
                                },
                                {
                                    "0": "877",
                                    "1": "Bike Wash - Dissolver",
                                    "2": "CL-9009",
                                    "3": "3319"
                                },
                                {
                                    "0": "878",
                                    "1": "Fender Set - Mountain",
                                    "2": "FE-6654",
                                    "3": "2121"
                                },
                                {
                                    "0": "879",
                                    "1": "All-Purpose Bike Stand",
                                    "2": "ST-1401",
                                    "3": "249"
                                },
                                {
                                    "0": "880",
                                    "1": "Hydration Pack - 70 oz.",
                                    "2": "HY-1023-70",
                                    "3": "2761"
                                },
                                {
                                    "0": "881",
                                    "1": "Short-Sleeve Classic Jersey, S",
                                    "2": "SJ-0194-S",
                                    "3": "1955"
                                },
                                {
                                    "0": "882",
                                    "1": "Short-Sleeve Classic Jersey, M",
                                    "2": "SJ-0194-M",
                                    "3": "407"
                                },
                                {
                                    "0": "883",
                                    "1": "Short-Sleeve Classic Jersey, L",
                                    "2": "SJ-0194-L",
                                    "3": "2848"
                                },
                                {
                                    "0": "884",
                                    "1": "Short-Sleeve Classic Jersey, XL",
                                    "2": "SJ-0194-X",
                                    "3": "3864"
                                },
                                {
                                    "0": "885",
                                    "1": "HL Touring Frame - Yellow, 60",
                                    "2": "FR-T98Y-60",
                                    "3": "387"
                                },
                                {
                                    "0": "886",
                                    "1": "LL Touring Frame - Yellow, 62",
                                    "2": "FR-T67Y-62",
                                    "3": "348"
                                },
                                {
                                    "0": "887",
                                    "1": "HL Touring Frame - Yellow, 46",
                                    "2": "FR-T98Y-46",
                                    "3": "87"
                                },
                                {
                                    "0": "888",
                                    "1": "HL Touring Frame - Yellow, 50",
                                    "2": "FR-T98Y-50",
                                    "3": "83"
                                },
                                {
                                    "0": "889",
                                    "1": "HL Touring Frame - Yellow, 54",
                                    "2": "FR-T98Y-54",
                                    "3": "540"
                                },
                                {
                                    "0": "890",
                                    "1": "HL Touring Frame - Blue, 46",
                                    "2": "FR-T98U-46",
                                    "3": "114"
                                },
                                {
                                    "0": "891",
                                    "1": "HL Touring Frame - Blue, 50",
                                    "2": "FR-T98U-50",
                                    "3": "124"
                                },
                                {
                                    "0": "892",
                                    "1": "HL Touring Frame - Blue, 54",
                                    "2": "FR-T98U-54",
                                    "3": "542"
                                },
                                {
                                    "0": "893",
                                    "1": "HL Touring Frame - Blue, 60",
                                    "2": "FR-T98U-60",
                                    "3": "371"
                                },
                                {
                                    "0": "894",
                                    "1": "Rear Derailleur",
                                    "2": "RD-2308",
                                    "3": "353"
                                },
                                {
                                    "0": "895",
                                    "1": "LL Touring Frame - Blue, 50",
                                    "2": "FR-T67U-50",
                                    "3": "316"
                                },
                                {
                                    "0": "896",
                                    "1": "LL Touring Frame - Blue, 54",
                                    "2": "FR-T67U-54",
                                    "3": "211"
                                },
                                {
                                    "0": "897",
                                    "1": "LL Touring Frame - Blue, 58",
                                    "2": "FR-T67U-58",
                                    "3": "4"
                                },
                                {
                                    "0": "898",
                                    "1": "LL Touring Frame - Blue, 62",
                                    "2": "FR-T67U-62",
                                    "3": "15"
                                },
                                {
                                    "0": "899",
                                    "1": "LL Touring Frame - Yellow, 44",
                                    "2": "FR-T67Y-44",
                                    "3": "294"
                                },
                                {
                                    "0": "900",
                                    "1": "LL Touring Frame - Yellow, 50",
                                    "2": "FR-T67Y-50",
                                    "3": "228"
                                },
                                {
                                    "0": "902",
                                    "1": "LL Touring Frame - Yellow, 58",
                                    "2": "FR-T67Y-58",
                                    "3": "36"
                                },
                                {
                                    "0": "903",
                                    "1": "LL Touring Frame - Blue, 44",
                                    "2": "FR-T67U-44",
                                    "3": "25"
                                },
                                {
                                    "0": "904",
                                    "1": "ML Mountain Frame-W - Silver, 40",
                                    "2": "FR-M63S-40",
                                    "3": "899"
                                },
                                {
                                    "0": "905",
                                    "1": "ML Mountain Frame-W - Silver, 42",
                                    "2": "FR-M63S-42",
                                    "3": "627"
                                },
                                {
                                    "0": "906",
                                    "1": "ML Mountain Frame-W - Silver, 46",
                                    "2": "FR-M63S-46",
                                    "3": "188"
                                },
                                {
                                    "0": "907",
                                    "1": "Rear Brakes",
                                    "2": "RB-9231",
                                    "3": "246"
                                },
                                {
                                    "0": "908",
                                    "1": "LL Mountain Seat/Saddle",
                                    "2": "SE-M236",
                                    "3": "347"
                                },
                                {
                                    "0": "909",
                                    "1": "ML Mountain Seat/Saddle",
                                    "2": "SE-M798",
                                    "3": "534"
                                },
                                {
                                    "0": "910",
                                    "1": "HL Mountain Seat/Saddle",
                                    "2": "SE-M940",
                                    "3": "519"
                                },
                                {
                                    "0": "911",
                                    "1": "LL Road Seat/Saddle",
                                    "2": "SE-R581",
                                    "3": "10"
                                },
                                {
                                    "0": "913",
                                    "1": "HL Road Seat/Saddle",
                                    "2": "SE-R995",
                                    "3": "134"
                                },
                                {
                                    "0": "914",
                                    "1": "LL Touring Seat/Saddle",
                                    "2": "SE-T312",
                                    "3": "91"
                                },
                                {
                                    "0": "915",
                                    "1": "ML Touring Seat/Saddle",
                                    "2": "SE-T762",
                                    "3": "84"
                                },
                                {
                                    "0": "916",
                                    "1": "HL Touring Seat/Saddle",
                                    "2": "SE-T924",
                                    "3": "426"
                                },
                                {
                                    "0": "917",
                                    "1": "LL Mountain Frame - Silver, 42",
                                    "2": "FR-M21S-42",
                                    "3": "638"
                                },
                                {
                                    "0": "918",
                                    "1": "LL Mountain Frame - Silver, 44",
                                    "2": "FR-M21S-44",
                                    "3": "371"
                                },
                                {
                                    "0": "919",
                                    "1": "LL Mountain Frame - Silver, 48",
                                    "2": "FR-M21S-48",
                                    "3": "44"
                                },
                                {
                                    "0": "920",
                                    "1": "LL Mountain Frame - Silver, 52",
                                    "2": "FR-M21S-52",
                                    "3": "425"
                                },
                                {
                                    "0": "921",
                                    "1": "Mountain Tire Tube",
                                    "2": "TT-M928",
                                    "3": "3095"
                                },
                                {
                                    "0": "922",
                                    "1": "Road Tire Tube",
                                    "2": "TT-R982",
                                    "3": "2376"
                                },
                                {
                                    "0": "923",
                                    "1": "Touring Tire Tube",
                                    "2": "TT-T092",
                                    "3": "1488"
                                },
                                {
                                    "0": "924",
                                    "1": "LL Mountain Frame - Black, 42",
                                    "2": "FR-M21B-42",
                                    "3": "423"
                                },
                                {
                                    "0": "925",
                                    "1": "LL Mountain Frame - Black, 44",
                                    "2": "FR-M21B-44",
                                    "3": "625"
                                },
                                {
                                    "0": "926",
                                    "1": "LL Mountain Frame - Black, 48",
                                    "2": "FR-M21B-48",
                                    "3": "386"
                                },
                                {
                                    "0": "927",
                                    "1": "LL Mountain Frame - Black, 52",
                                    "2": "FR-M21B-52",
                                    "3": "15"
                                },
                                {
                                    "0": "928",
                                    "1": "LL Mountain Tire",
                                    "2": "TI-M267",
                                    "3": "862"
                                },
                                {
                                    "0": "929",
                                    "1": "ML Mountain Tire",
                                    "2": "TI-M602",
                                    "3": "1161"
                                },
                                {
                                    "0": "930",
                                    "1": "HL Mountain Tire",
                                    "2": "TI-M823",
                                    "3": "1396"
                                },
                                {
                                    "0": "931",
                                    "1": "LL Road Tire",
                                    "2": "TI-R092",
                                    "3": "1044"
                                },
                                {
                                    "0": "932",
                                    "1": "ML Road Tire",
                                    "2": "TI-R628",
                                    "3": "926"
                                },
                                {
                                    "0": "933",
                                    "1": "HL Road Tire",
                                    "2": "TI-R982",
                                    "3": "858"
                                },
                                {
                                    "0": "934",
                                    "1": "Touring Tire",
                                    "2": "TI-T723",
                                    "3": "935"
                                },
                                {
                                    "0": "935",
                                    "1": "LL Mountain Pedal",
                                    "2": "PD-M282",
                                    "3": "449"
                                },
                                {
                                    "0": "936",
                                    "1": "ML Mountain Pedal",
                                    "2": "PD-M340",
                                    "3": "345"
                                },
                                {
                                    "0": "937",
                                    "1": "HL Mountain Pedal",
                                    "2": "PD-M562",
                                    "3": "785"
                                },
                                {
                                    "0": "938",
                                    "1": "LL Road Pedal",
                                    "2": "PD-R347",
                                    "3": "868"
                                },
                                {
                                    "0": "939",
                                    "1": "ML Road Pedal",
                                    "2": "PD-R563",
                                    "3": "661"
                                },
                                {
                                    "0": "940",
                                    "1": "HL Road Pedal",
                                    "2": "PD-R853",
                                    "3": "676"
                                },
                                {
                                    "0": "941",
                                    "1": "Touring Pedal",
                                    "2": "PD-T852",
                                    "3": "147"
                                },
                                {
                                    "0": "942",
                                    "1": "ML Mountain Frame-W - Silver, 38",
                                    "2": "FR-M63S-38",
                                    "3": "7"
                                },
                                {
                                    "0": "943",
                                    "1": "LL Mountain Frame - Black, 40",
                                    "2": "FR-M21B-40",
                                    "3": "8"
                                },
                                {
                                    "0": "944",
                                    "1": "LL Mountain Frame - Silver, 40",
                                    "2": "FR-M21S-40",
                                    "3": "442"
                                },
                                {
                                    "0": "945",
                                    "1": "Front Derailleur",
                                    "2": "FD-2342",
                                    "3": "813"
                                },
                                {
                                    "0": "946",
                                    "1": "LL Touring Handlebars",
                                    "2": "HB-T721",
                                    "3": "56"
                                },
                                {
                                    "0": "947",
                                    "1": "HL Touring Handlebars",
                                    "2": "HB-T928",
                                    "3": "220"
                                },
                                {
                                    "0": "948",
                                    "1": "Front Brakes",
                                    "2": "FB-9873",
                                    "3": "789"
                                },
                                {
                                    "0": "949",
                                    "1": "LL Crankset",
                                    "2": "CS-4759",
                                    "3": "426"
                                },
                                {
                                    "0": "950",
                                    "1": "ML Crankset",
                                    "2": "CS-6583",
                                    "3": "68"
                                },
                                {
                                    "0": "951",
                                    "1": "HL Crankset",
                                    "2": "CS-9183",
                                    "3": "613"
                                },
                                {
                                    "0": "952",
                                    "1": "Chain",
                                    "2": "CH-0234",
                                    "3": "774"
                                },
                                {
                                    "0": "953",
                                    "1": "Touring-2000 Blue, 60",
                                    "2": "BK-T44U-60",
                                    "3": "820"
                                },
                                {
                                    "0": "954",
                                    "1": "Touring-1000 Yellow, 46",
                                    "2": "BK-T79Y-46",
                                    "3": "1005"
                                },
                                {
                                    "0": "955",
                                    "1": "Touring-1000 Yellow, 50",
                                    "2": "BK-T79Y-50",
                                    "3": "652"
                                },
                                {
                                    "0": "956",
                                    "1": "Touring-1000 Yellow, 54",
                                    "2": "BK-T79Y-54",
                                    "3": "397"
                                },
                                {
                                    "0": "957",
                                    "1": "Touring-1000 Yellow, 60",
                                    "2": "BK-T79Y-60",
                                    "3": "1114"
                                },
                                {
                                    "0": "958",
                                    "1": "Touring-3000 Blue, 54",
                                    "2": "BK-T18U-54",
                                    "3": "686"
                                },
                                {
                                    "0": "959",
                                    "1": "Touring-3000 Blue, 58",
                                    "2": "BK-T18U-58",
                                    "3": "482"
                                },
                                {
                                    "0": "960",
                                    "1": "Touring-3000 Blue, 62",
                                    "2": "BK-T18U-62",
                                    "3": "281"
                                },
                                {
                                    "0": "961",
                                    "1": "Touring-3000 Yellow, 44",
                                    "2": "BK-T18Y-44",
                                    "3": "851"
                                },
                                {
                                    "0": "962",
                                    "1": "Touring-3000 Yellow, 50",
                                    "2": "BK-T18Y-50",
                                    "3": "686"
                                },
                                {
                                    "0": "963",
                                    "1": "Touring-3000 Yellow, 54",
                                    "2": "BK-T18Y-54",
                                    "3": "453"
                                },
                                {
                                    "0": "964",
                                    "1": "Touring-3000 Yellow, 58",
                                    "2": "BK-T18Y-58",
                                    "3": "293"
                                },
                                {
                                    "0": "965",
                                    "1": "Touring-3000 Yellow, 62",
                                    "2": "BK-T18Y-62",
                                    "3": "844"
                                },
                                {
                                    "0": "966",
                                    "1": "Touring-1000 Blue, 46",
                                    "2": "BK-T79U-46",
                                    "3": "1002"
                                },
                                {
                                    "0": "967",
                                    "1": "Touring-1000 Blue, 50",
                                    "2": "BK-T79U-50",
                                    "3": "649"
                                },
                                {
                                    "0": "968",
                                    "1": "Touring-1000 Blue, 54",
                                    "2": "BK-T79U-54",
                                    "3": "413"
                                },
                                {
                                    "0": "969",
                                    "1": "Touring-1000 Blue, 60",
                                    "2": "BK-T79U-60",
                                    "3": "1120"
                                },
                                {
                                    "0": "970",
                                    "1": "Touring-2000 Blue, 46",
                                    "2": "BK-T44U-46",
                                    "3": "538"
                                },
                                {
                                    "0": "971",
                                    "1": "Touring-2000 Blue, 50",
                                    "2": "BK-T44U-50",
                                    "3": "322"
                                },
                                {
                                    "0": "972",
                                    "1": "Touring-2000 Blue, 54",
                                    "2": "BK-T44U-54",
                                    "3": "1010"
                                },
                                {
                                    "0": "973",
                                    "1": "Road-350-W Yellow, 40",
                                    "2": "BK-R79Y-40",
                                    "3": "1477"
                                },
                                {
                                    "0": "974",
                                    "1": "Road-350-W Yellow, 42",
                                    "2": "BK-R79Y-42",
                                    "3": "944"
                                },
                                {
                                    "0": "975",
                                    "1": "Road-350-W Yellow, 44",
                                    "2": "BK-R79Y-44",
                                    "3": "536"
                                },
                                {
                                    "0": "976",
                                    "1": "Road-350-W Yellow, 48",
                                    "2": "BK-R79Y-48",
                                    "3": "1622"
                                },
                                {
                                    "0": "977",
                                    "1": "Road-750 Black, 58",
                                    "2": "BK-R19B-58",
                                    "3": "892"
                                },
                                {
                                    "0": "978",
                                    "1": "Touring-3000 Blue, 44",
                                    "2": "BK-T18U-44",
                                    "3": "292"
                                },
                                {
                                    "0": "979",
                                    "1": "Touring-3000 Blue, 50",
                                    "2": "BK-T18U-50",
                                    "3": "841"
                                },
                                {
                                    "0": "980",
                                    "1": "Mountain-400-W Silver, 38",
                                    "2": "BK-M38S-38",
                                    "3": "425"
                                },
                                {
                                    "0": "981",
                                    "1": "Mountain-400-W Silver, 40",
                                    "2": "BK-M38S-40",
                                    "3": "617"
                                },
                                {
                                    "0": "982",
                                    "1": "Mountain-400-W Silver, 42",
                                    "2": "BK-M38S-42",
                                    "3": "385"
                                },
                                {
                                    "0": "983",
                                    "1": "Mountain-400-W Silver, 46",
                                    "2": "BK-M38S-46",
                                    "3": "401"
                                },
                                {
                                    "0": "984",
                                    "1": "Mountain-500 Silver, 40",
                                    "2": "BK-M18S-40",
                                    "3": "450"
                                },
                                {
                                    "0": "985",
                                    "1": "Mountain-500 Silver, 42",
                                    "2": "BK-M18S-42",
                                    "3": "455"
                                },
                                {
                                    "0": "986",
                                    "1": "Mountain-500 Silver, 44",
                                    "2": "BK-M18S-44",
                                    "3": "381"
                                },
                                {
                                    "0": "987",
                                    "1": "Mountain-500 Silver, 48",
                                    "2": "BK-M18S-48",
                                    "3": "457"
                                },
                                {
                                    "0": "988",
                                    "1": "Mountain-500 Silver, 52",
                                    "2": "BK-M18S-52",
                                    "3": "515"
                                },
                                {
                                    "0": "989",
                                    "1": "Mountain-500 Black, 40",
                                    "2": "BK-M18B-40",
                                    "3": "282"
                                },
                                {
                                    "0": "990",
                                    "1": "Mountain-500 Black, 42",
                                    "2": "BK-M18B-42",
                                    "3": "388"
                                },
                                {
                                    "0": "991",
                                    "1": "Mountain-500 Black, 44",
                                    "2": "BK-M18B-44",
                                    "3": "350"
                                },
                                {
                                    "0": "992",
                                    "1": "Mountain-500 Black, 48",
                                    "2": "BK-M18B-48",
                                    "3": "449"
                                },
                                {
                                    "0": "993",
                                    "1": "Mountain-500 Black, 52",
                                    "2": "BK-M18B-52",
                                    "3": "272"
                                },
                                {
                                    "0": "994",
                                    "1": "LL Bottom Bracket",
                                    "2": "BB-7421",
                                    "3": "378"
                                },
                                {
                                    "0": "996",
                                    "1": "HL Bottom Bracket",
                                    "2": "BB-9108",
                                    "3": "543"
                                },
                                {
                                    "0": "997",
                                    "1": "Road-750 Black, 44",
                                    "2": "BK-R19B-44",
                                    "3": "656"
                                },
                                {
                                    "0": "998",
                                    "1": "Road-750 Black, 48",
                                    "2": "BK-R19B-48",
                                    "3": "1556"
                                },
                                {
                                    "0": "999",
                                    "1": "Road-750 Black, 52",
                                    "2": "BK-R19B-52",
                                    "3": "1338"
                                }
                            ]
                        },
                        "text/html": "<table><tr><th>ProductID</th><th>Name</th><th>ProductNumber</th><th>TotalOrdered</th></tr><tr><td>707</td><td>Sport-100 Helmet, Red</td><td>HL-U509-R</td><td>6266</td></tr><tr><td>708</td><td>Sport-100 Helmet, Black</td><td>HL-U509</td><td>6532</td></tr><tr><td>709</td><td>Mountain Bike Socks, M</td><td>SO-B909-M</td><td>1107</td></tr><tr><td>710</td><td>Mountain Bike Socks, L</td><td>SO-B909-L</td><td>90</td></tr><tr><td>711</td><td>Sport-100 Helmet, Blue</td><td>HL-U509-B</td><td>6743</td></tr><tr><td>712</td><td>AWC Logo Cap</td><td>CA-1098</td><td>8311</td></tr><tr><td>713</td><td>Long-Sleeve Logo Jersey, S</td><td>LJ-0192-S</td><td>429</td></tr><tr><td>714</td><td>Long-Sleeve Logo Jersey, M</td><td>LJ-0192-M</td><td>3636</td></tr><tr><td>715</td><td>Long-Sleeve Logo Jersey, L</td><td>LJ-0192-L</td><td>6592</td></tr><tr><td>716</td><td>Long-Sleeve Logo Jersey, XL</td><td>LJ-0192-X</td><td>2980</td></tr><tr><td>717</td><td>HL Road Frame - Red, 62</td><td>FR-R92R-62</td><td>485</td></tr><tr><td>718</td><td>HL Road Frame - Red, 44</td><td>FR-R92R-44</td><td>486</td></tr><tr><td>719</td><td>HL Road Frame - Red, 48</td><td>FR-R92R-48</td><td>109</td></tr><tr><td>722</td><td>LL Road Frame - Black, 58</td><td>FR-R38B-58</td><td>940</td></tr><tr><td>723</td><td>LL Road Frame - Black, 60</td><td>FR-R38B-60</td><td>129</td></tr><tr><td>725</td><td>LL Road Frame - Red, 44</td><td>FR-R38R-44</td><td>991</td></tr><tr><td>726</td><td>LL Road Frame - Red, 48</td><td>FR-R38R-48</td><td>671</td></tr><tr><td>727</td><td>LL Road Frame - Red, 52</td><td>FR-R38R-52</td><td>100</td></tr><tr><td>729</td><td>LL Road Frame - Red, 60</td><td>FR-R38R-60</td><td>996</td></tr><tr><td>730</td><td>LL Road Frame - Red, 62</td><td>FR-R38R-62</td><td>697</td></tr><tr><td>732</td><td>ML Road Frame - Red, 48</td><td>FR-R72R-48</td><td>250</td></tr><tr><td>733</td><td>ML Road Frame - Red, 52</td><td>FR-R72R-52</td><td>90</td></tr><tr><td>736</td><td>LL Road Frame - Black, 44</td><td>FR-R38B-44</td><td>238</td></tr><tr><td>738</td><td>LL Road Frame - Black, 52</td><td>FR-R38B-52</td><td>1581</td></tr><tr><td>739</td><td>HL Mountain Frame - Silver, 42</td><td>FR-M94S-42</td><td>347</td></tr><tr><td>741</td><td>HL Mountain Frame - Silver, 48</td><td>FR-M94S-52</td><td>173</td></tr><tr><td>742</td><td>HL Mountain Frame - Silver, 46</td><td>FR-M94S-46</td><td>649</td></tr><tr><td>743</td><td>HL Mountain Frame - Black, 42</td><td>FR-M94B-42</td><td>1181</td></tr><tr><td>744</td><td>HL Mountain Frame - Black, 44</td><td>FR-M94B-44</td><td>17</td></tr><tr><td>745</td><td>HL Mountain Frame - Black, 48</td><td>FR-M94B-48</td><td>131</td></tr><tr><td>747</td><td>HL Mountain Frame - Black, 38</td><td>FR-M94B-38</td><td>659</td></tr><tr><td>748</td><td>HL Mountain Frame - Silver, 38</td><td>FR-M94S-38</td><td>1206</td></tr><tr><td>749</td><td>Road-150 Red, 62</td><td>BK-R93R-62</td><td>600</td></tr><tr><td>750</td><td>Road-150 Red, 44</td><td>BK-R93R-44</td><td>437</td></tr><tr><td>751</td><td>Road-150 Red, 48</td><td>BK-R93R-48</td><td>493</td></tr><tr><td>752</td><td>Road-150 Red, 52</td><td>BK-R93R-52</td><td>458</td></tr><tr><td>753</td><td>Road-150 Red, 56</td><td>BK-R93R-56</td><td>664</td></tr><tr><td>754</td><td>Road-450 Red, 58</td><td>BK-R68R-58</td><td>582</td></tr><tr><td>755</td><td>Road-450 Red, 60</td><td>BK-R68R-60</td><td>350</td></tr><tr><td>756</td><td>Road-450 Red, 44</td><td>BK-R68R-44</td><td>346</td></tr><tr><td>757</td><td>Road-450 Red, 48</td><td>BK-R68R-48</td><td>156</td></tr><tr><td>758</td><td>Road-450 Red, 52</td><td>BK-R68R-52</td><td>710</td></tr><tr><td>759</td><td>Road-650 Red, 58</td><td>BK-R50R-58</td><td>618</td></tr><tr><td>760</td><td>Road-650 Red, 60</td><td>BK-R50R-60</td><td>2232</td></tr><tr><td>761</td><td>Road-650 Red, 62</td><td>BK-R50R-62</td><td>1896</td></tr><tr><td>762</td><td>Road-650 Red, 44</td><td>BK-R50R-44</td><td>2254</td></tr><tr><td>763</td><td>Road-650 Red, 48</td><td>BK-R50R-48</td><td>1888</td></tr><tr><td>764</td><td>Road-650 Red, 52</td><td>BK-R50R-52</td><td>1112</td></tr><tr><td>765</td><td>Road-650 Black, 58</td><td>BK-R50B-58</td><td>1871</td></tr><tr><td>766</td><td>Road-650 Black, 60</td><td>BK-R50B-60</td><td>1100</td></tr><tr><td>767</td><td>Road-650 Black, 62</td><td>BK-R50B-62</td><td>644</td></tr><tr><td>768</td><td>Road-650 Black, 44</td><td>BK-R50B-44</td><td>1080</td></tr><tr><td>769</td><td>Road-650 Black, 48</td><td>BK-R50B-48</td><td>644</td></tr><tr><td>770</td><td>Road-650 Black, 52</td><td>BK-R50B-52</td><td>2270</td></tr><tr><td>771</td><td>Mountain-100 Silver, 38</td><td>BK-M82S-38</td><td>642</td></tr><tr><td>772</td><td>Mountain-100 Silver, 42</td><td>BK-M82S-42</td><td>593</td></tr><tr><td>773</td><td>Mountain-100 Silver, 44</td><td>BK-M82S-44</td><td>601</td></tr><tr><td>774</td><td>Mountain-100 Silver, 48</td><td>BK-M82S-48</td><td>505</td></tr><tr><td>775</td><td>Mountain-100 Black, 38</td><td>BK-M82B-38</td><td>682</td></tr><tr><td>776</td><td>Mountain-100 Black, 42</td><td>BK-M82B-42</td><td>634</td></tr><tr><td>777</td><td>Mountain-100 Black, 44</td><td>BK-M82B-44</td><td>678</td></tr><tr><td>778</td><td>Mountain-100 Black, 48</td><td>BK-M82B-48</td><td>616</td></tr><tr><td>779</td><td>Mountain-200 Silver, 38</td><td>BK-M68S-38</td><td>2394</td></tr><tr><td>780</td><td>Mountain-200 Silver, 42</td><td>BK-M68S-42</td><td>2234</td></tr><tr><td>781</td><td>Mountain-200 Silver, 46</td><td>BK-M68S-46</td><td>2216</td></tr><tr><td>782</td><td>Mountain-200 Black, 38</td><td>BK-M68B-38</td><td>2977</td></tr><tr><td>783</td><td>Mountain-200 Black, 42</td><td>BK-M68B-42</td><td>2664</td></tr><tr><td>784</td><td>Mountain-200 Black, 46</td><td>BK-M68B-46</td><td>2111</td></tr><tr><td>785</td><td>Mountain-300 Black, 38</td><td>BK-M47B-38</td><td>684</td></tr><tr><td>786</td><td>Mountain-300 Black, 40</td><td>BK-M47B-40</td><td>776</td></tr><tr><td>787</td><td>Mountain-300 Black, 44</td><td>BK-M47B-44</td><td>747</td></tr><tr><td>788</td><td>Mountain-300 Black, 48</td><td>BK-M47B-48</td><td>740</td></tr><tr><td>789</td><td>Road-250 Red, 44</td><td>BK-R89R-44</td><td>895</td></tr><tr><td>790</td><td>Road-250 Red, 48</td><td>BK-R89R-48</td><td>812</td></tr><tr><td>791</td><td>Road-250 Red, 52</td><td>BK-R89R-52</td><td>639</td></tr><tr><td>792</td><td>Road-250 Red, 58</td><td>BK-R89R-58</td><td>946</td></tr><tr><td>793</td><td>Road-250 Black, 44</td><td>BK-R89B-44</td><td>1642</td></tr><tr><td>794</td><td>Road-250 Black, 48</td><td>BK-R89B-48</td><td>1498</td></tr><tr><td>795</td><td>Road-250 Black, 52</td><td>BK-R89B-52</td><td>1245</td></tr><tr><td>796</td><td>Road-250 Black, 58</td><td>BK-R89B-58</td><td>910</td></tr><tr><td>797</td><td>Road-550-W Yellow, 38</td><td>BK-R64Y-38</td><td>1744</td></tr><tr><td>798</td><td>Road-550-W Yellow, 40</td><td>BK-R64Y-40</td><td>1500</td></tr><tr><td>799</td><td>Road-550-W Yellow, 42</td><td>BK-R64Y-42</td><td>1249</td></tr><tr><td>800</td><td>Road-550-W Yellow, 44</td><td>BK-R64Y-44</td><td>927</td></tr><tr><td>801</td><td>Road-550-W Yellow, 48</td><td>BK-R64Y-48</td><td>1763</td></tr><tr><td>802</td><td>LL Fork</td><td>FK-1639</td><td>190</td></tr><tr><td>804</td><td>HL Fork</td><td>FK-9939</td><td>444</td></tr><tr><td>805</td><td>LL Headset</td><td>HS-0296</td><td>95</td></tr><tr><td>806</td><td>ML Headset</td><td>HS-2451</td><td>659</td></tr><tr><td>807</td><td>HL Headset</td><td>HS-3479</td><td>255</td></tr><tr><td>808</td><td>LL Mountain Handlebars</td><td>HB-M243</td><td>865</td></tr><tr><td>809</td><td>ML Mountain Handlebars</td><td>HB-M763</td><td>1465</td></tr><tr><td>810</td><td>HL Mountain Handlebars</td><td>HB-M918</td><td>500</td></tr><tr><td>811</td><td>LL Road Handlebars</td><td>HB-R504</td><td>213</td></tr><tr><td>813</td><td>HL Road Handlebars</td><td>HB-R956</td><td>631</td></tr><tr><td>814</td><td>ML Mountain Frame - Black, 38</td><td>FR-M63B-38</td><td>514</td></tr><tr><td>815</td><td>LL Mountain Front Wheel</td><td>FW-M423</td><td>617</td></tr><tr><td>816</td><td>ML Mountain Front Wheel</td><td>FW-M762</td><td>266</td></tr><tr><td>817</td><td>HL Mountain Front Wheel</td><td>FW-M928</td><td>222</td></tr><tr><td>819</td><td>ML Road Front Wheel</td><td>FW-R762</td><td>532</td></tr><tr><td>820</td><td>HL Road Front Wheel</td><td>FW-R820</td><td>567</td></tr><tr><td>822</td><td>ML Road Frame-W - Yellow, 38</td><td>FR-R72Y-38</td><td>895</td></tr><tr><td>823</td><td>LL Mountain Rear Wheel</td><td>RW-M423</td><td>342</td></tr><tr><td>824</td><td>ML Mountain Rear Wheel</td><td>RW-M762</td><td>851</td></tr><tr><td>825</td><td>HL Mountain Rear Wheel</td><td>RW-M928</td><td>850</td></tr><tr><td>826</td><td>LL Road Rear Wheel</td><td>RW-R623</td><td>868</td></tr><tr><td>827</td><td>ML Road Rear Wheel</td><td>RW-R762</td><td>64</td></tr><tr><td>828</td><td>HL Road Rear Wheel</td><td>RW-R820</td><td>94</td></tr><tr><td>830</td><td>ML Mountain Frame - Black, 40</td><td>FR-M63B-40</td><td>68</td></tr><tr><td>831</td><td>ML Mountain Frame - Black, 44</td><td>FR-M63B-44</td><td>619</td></tr><tr><td>832</td><td>ML Mountain Frame - Black, 48</td><td>FR-M63B-48</td><td>959</td></tr><tr><td>833</td><td>ML Road Frame-W - Yellow, 40</td><td>FR-R72Y-40</td><td>203</td></tr><tr><td>835</td><td>ML Road Frame-W - Yellow, 44</td><td>FR-R72Y-44</td><td>1435</td></tr><tr><td>836</td><td>ML Road Frame-W - Yellow, 48</td><td>FR-R72Y-48</td><td>889</td></tr><tr><td>838</td><td>HL Road Frame - Black, 44</td><td>FR-R92B-44</td><td>459</td></tr><tr><td>839</td><td>HL Road Frame - Black, 48</td><td>FR-R92B-48</td><td>109</td></tr><tr><td>841</td><td>Men's Sports Shorts, S</td><td>SH-M897-S</td><td>567</td></tr><tr><td>843</td><td>Cable Lock</td><td>LO-C100</td><td>1087</td></tr><tr><td>844</td><td>Minipump</td><td>PU-0452</td><td>1130</td></tr><tr><td>849</td><td>Men's Sports Shorts, M</td><td>SH-M897-M</td><td>1276</td></tr><tr><td>850</td><td>Men's Sports Shorts, L</td><td>SH-M897-L</td><td>445</td></tr><tr><td>852</td><td>Women's Tights, S</td><td>TG-W091-S</td><td>2072</td></tr><tr><td>853</td><td>Women's Tights, M</td><td>TG-W091-M</td><td>394</td></tr><tr><td>854</td><td>Women's Tights, L</td><td>TG-W091-L</td><td>2123</td></tr><tr><td>855</td><td>Men's Bib-Shorts, S</td><td>SB-M891-S</td><td>876</td></tr><tr><td>856</td><td>Men's Bib-Shorts, M</td><td>SB-M891-M</td><td>1616</td></tr><tr><td>857</td><td>Men's Bib-Shorts, L</td><td>SB-M891-L</td><td>633</td></tr><tr><td>858</td><td>Half-Finger Gloves, S</td><td>GL-H102-S</td><td>2188</td></tr><tr><td>859</td><td>Half-Finger Gloves, M</td><td>GL-H102-M</td><td>3464</td></tr><tr><td>860</td><td>Half-Finger Gloves, L</td><td>GL-H102-L</td><td>1276</td></tr><tr><td>861</td><td>Full-Finger Gloves, S</td><td>GL-F110-S</td><td>500</td></tr><tr><td>862</td><td>Full-Finger Gloves, M</td><td>GL-F110-M</td><td>2206</td></tr><tr><td>863</td><td>Full-Finger Gloves, L</td><td>GL-F110-L</td><td>3378</td></tr><tr><td>864</td><td>Classic Vest, S</td><td>VE-C304-S</td><td>4247</td></tr><tr><td>865</td><td>Classic Vest, M</td><td>VE-C304-M</td><td>2284</td></tr><tr><td>866</td><td>Classic Vest, L</td><td>VE-C304-L</td><td>207</td></tr><tr><td>867</td><td>Women's Mountain Shorts, S</td><td>SH-W890-S</td><td>3296</td></tr><tr><td>868</td><td>Women's Mountain Shorts, M</td><td>SH-W890-M</td><td>1139</td></tr><tr><td>869</td><td>Women's Mountain Shorts, L</td><td>SH-W890-L</td><td>3244</td></tr><tr><td>870</td><td>Water Bottle - 30 oz.</td><td>WB-H098</td><td>6815</td></tr><tr><td>871</td><td>Mountain Bottle Cage</td><td>BC-M005</td><td>2025</td></tr><tr><td>872</td><td>Road Bottle Cage</td><td>BC-R205</td><td>1712</td></tr><tr><td>873</td><td>Patch Kit/8 Patches</td><td>PK-7098</td><td>3865</td></tr><tr><td>874</td><td>Racing Socks, M</td><td>SO-R809-M</td><td>1547</td></tr><tr><td>875</td><td>Racing Socks, L</td><td>SO-R809-L</td><td>2473</td></tr><tr><td>876</td><td>Hitch Rack - 4-Bike</td><td>RA-H123</td><td>3166</td></tr><tr><td>877</td><td>Bike Wash - Dissolver</td><td>CL-9009</td><td>3319</td></tr><tr><td>878</td><td>Fender Set - Mountain</td><td>FE-6654</td><td>2121</td></tr><tr><td>879</td><td>All-Purpose Bike Stand</td><td>ST-1401</td><td>249</td></tr><tr><td>880</td><td>Hydration Pack - 70 oz.</td><td>HY-1023-70</td><td>2761</td></tr><tr><td>881</td><td>Short-Sleeve Classic Jersey, S</td><td>SJ-0194-S</td><td>1955</td></tr><tr><td>882</td><td>Short-Sleeve Classic Jersey, M</td><td>SJ-0194-M</td><td>407</td></tr><tr><td>883</td><td>Short-Sleeve Classic Jersey, L</td><td>SJ-0194-L</td><td>2848</td></tr><tr><td>884</td><td>Short-Sleeve Classic Jersey, XL</td><td>SJ-0194-X</td><td>3864</td></tr><tr><td>885</td><td>HL Touring Frame - Yellow, 60</td><td>FR-T98Y-60</td><td>387</td></tr><tr><td>886</td><td>LL Touring Frame - Yellow, 62</td><td>FR-T67Y-62</td><td>348</td></tr><tr><td>887</td><td>HL Touring Frame - Yellow, 46</td><td>FR-T98Y-46</td><td>87</td></tr><tr><td>888</td><td>HL Touring Frame - Yellow, 50</td><td>FR-T98Y-50</td><td>83</td></tr><tr><td>889</td><td>HL Touring Frame - Yellow, 54</td><td>FR-T98Y-54</td><td>540</td></tr><tr><td>890</td><td>HL Touring Frame - Blue, 46</td><td>FR-T98U-46</td><td>114</td></tr><tr><td>891</td><td>HL Touring Frame - Blue, 50</td><td>FR-T98U-50</td><td>124</td></tr><tr><td>892</td><td>HL Touring Frame - Blue, 54</td><td>FR-T98U-54</td><td>542</td></tr><tr><td>893</td><td>HL Touring Frame - Blue, 60</td><td>FR-T98U-60</td><td>371</td></tr><tr><td>894</td><td>Rear Derailleur</td><td>RD-2308</td><td>353</td></tr><tr><td>895</td><td>LL Touring Frame - Blue, 50</td><td>FR-T67U-50</td><td>316</td></tr><tr><td>896</td><td>LL Touring Frame - Blue, 54</td><td>FR-T67U-54</td><td>211</td></tr><tr><td>897</td><td>LL Touring Frame - Blue, 58</td><td>FR-T67U-58</td><td>4</td></tr><tr><td>898</td><td>LL Touring Frame - Blue, 62</td><td>FR-T67U-62</td><td>15</td></tr><tr><td>899</td><td>LL Touring Frame - Yellow, 44</td><td>FR-T67Y-44</td><td>294</td></tr><tr><td>900</td><td>LL Touring Frame - Yellow, 50</td><td>FR-T67Y-50</td><td>228</td></tr><tr><td>902</td><td>LL Touring Frame - Yellow, 58</td><td>FR-T67Y-58</td><td>36</td></tr><tr><td>903</td><td>LL Touring Frame - Blue, 44</td><td>FR-T67U-44</td><td>25</td></tr><tr><td>904</td><td>ML Mountain Frame-W - Silver, 40</td><td>FR-M63S-40</td><td>899</td></tr><tr><td>905</td><td>ML Mountain Frame-W - Silver, 42</td><td>FR-M63S-42</td><td>627</td></tr><tr><td>906</td><td>ML Mountain Frame-W - Silver, 46</td><td>FR-M63S-46</td><td>188</td></tr><tr><td>907</td><td>Rear Brakes</td><td>RB-9231</td><td>246</td></tr><tr><td>908</td><td>LL Mountain Seat/Saddle</td><td>SE-M236</td><td>347</td></tr><tr><td>909</td><td>ML Mountain Seat/Saddle</td><td>SE-M798</td><td>534</td></tr><tr><td>910</td><td>HL Mountain Seat/Saddle</td><td>SE-M940</td><td>519</td></tr><tr><td>911</td><td>LL Road Seat/Saddle</td><td>SE-R581</td><td>10</td></tr><tr><td>913</td><td>HL Road Seat/Saddle</td><td>SE-R995</td><td>134</td></tr><tr><td>914</td><td>LL Touring Seat/Saddle</td><td>SE-T312</td><td>91</td></tr><tr><td>915</td><td>ML Touring Seat/Saddle</td><td>SE-T762</td><td>84</td></tr><tr><td>916</td><td>HL Touring Seat/Saddle</td><td>SE-T924</td><td>426</td></tr><tr><td>917</td><td>LL Mountain Frame - Silver, 42</td><td>FR-M21S-42</td><td>638</td></tr><tr><td>918</td><td>LL Mountain Frame - Silver, 44</td><td>FR-M21S-44</td><td>371</td></tr><tr><td>919</td><td>LL Mountain Frame - Silver, 48</td><td>FR-M21S-48</td><td>44</td></tr><tr><td>920</td><td>LL Mountain Frame - Silver, 52</td><td>FR-M21S-52</td><td>425</td></tr><tr><td>921</td><td>Mountain Tire Tube</td><td>TT-M928</td><td>3095</td></tr><tr><td>922</td><td>Road Tire Tube</td><td>TT-R982</td><td>2376</td></tr><tr><td>923</td><td>Touring Tire Tube</td><td>TT-T092</td><td>1488</td></tr><tr><td>924</td><td>LL Mountain Frame - Black, 42</td><td>FR-M21B-42</td><td>423</td></tr><tr><td>925</td><td>LL Mountain Frame - Black, 44</td><td>FR-M21B-44</td><td>625</td></tr><tr><td>926</td><td>LL Mountain Frame - Black, 48</td><td>FR-M21B-48</td><td>386</td></tr><tr><td>927</td><td>LL Mountain Frame - Black, 52</td><td>FR-M21B-52</td><td>15</td></tr><tr><td>928</td><td>LL Mountain Tire</td><td>TI-M267</td><td>862</td></tr><tr><td>929</td><td>ML Mountain Tire</td><td>TI-M602</td><td>1161</td></tr><tr><td>930</td><td>HL Mountain Tire</td><td>TI-M823</td><td>1396</td></tr><tr><td>931</td><td>LL Road Tire</td><td>TI-R092</td><td>1044</td></tr><tr><td>932</td><td>ML Road Tire</td><td>TI-R628</td><td>926</td></tr><tr><td>933</td><td>HL Road Tire</td><td>TI-R982</td><td>858</td></tr><tr><td>934</td><td>Touring Tire</td><td>TI-T723</td><td>935</td></tr><tr><td>935</td><td>LL Mountain Pedal</td><td>PD-M282</td><td>449</td></tr><tr><td>936</td><td>ML Mountain Pedal</td><td>PD-M340</td><td>345</td></tr><tr><td>937</td><td>HL Mountain Pedal</td><td>PD-M562</td><td>785</td></tr><tr><td>938</td><td>LL Road Pedal</td><td>PD-R347</td><td>868</td></tr><tr><td>939</td><td>ML Road Pedal</td><td>PD-R563</td><td>661</td></tr><tr><td>940</td><td>HL Road Pedal</td><td>PD-R853</td><td>676</td></tr><tr><td>941</td><td>Touring Pedal</td><td>PD-T852</td><td>147</td></tr><tr><td>942</td><td>ML Mountain Frame-W - Silver, 38</td><td>FR-M63S-38</td><td>7</td></tr><tr><td>943</td><td>LL Mountain Frame - Black, 40</td><td>FR-M21B-40</td><td>8</td></tr><tr><td>944</td><td>LL Mountain Frame - Silver, 40</td><td>FR-M21S-40</td><td>442</td></tr><tr><td>945</td><td>Front Derailleur</td><td>FD-2342</td><td>813</td></tr><tr><td>946</td><td>LL Touring Handlebars</td><td>HB-T721</td><td>56</td></tr><tr><td>947</td><td>HL Touring Handlebars</td><td>HB-T928</td><td>220</td></tr><tr><td>948</td><td>Front Brakes</td><td>FB-9873</td><td>789</td></tr><tr><td>949</td><td>LL Crankset</td><td>CS-4759</td><td>426</td></tr><tr><td>950</td><td>ML Crankset</td><td>CS-6583</td><td>68</td></tr><tr><td>951</td><td>HL Crankset</td><td>CS-9183</td><td>613</td></tr><tr><td>952</td><td>Chain</td><td>CH-0234</td><td>774</td></tr><tr><td>953</td><td>Touring-2000 Blue, 60</td><td>BK-T44U-60</td><td>820</td></tr><tr><td>954</td><td>Touring-1000 Yellow, 46</td><td>BK-T79Y-46</td><td>1005</td></tr><tr><td>955</td><td>Touring-1000 Yellow, 50</td><td>BK-T79Y-50</td><td>652</td></tr><tr><td>956</td><td>Touring-1000 Yellow, 54</td><td>BK-T79Y-54</td><td>397</td></tr><tr><td>957</td><td>Touring-1000 Yellow, 60</td><td>BK-T79Y-60</td><td>1114</td></tr><tr><td>958</td><td>Touring-3000 Blue, 54</td><td>BK-T18U-54</td><td>686</td></tr><tr><td>959</td><td>Touring-3000 Blue, 58</td><td>BK-T18U-58</td><td>482</td></tr><tr><td>960</td><td>Touring-3000 Blue, 62</td><td>BK-T18U-62</td><td>281</td></tr><tr><td>961</td><td>Touring-3000 Yellow, 44</td><td>BK-T18Y-44</td><td>851</td></tr><tr><td>962</td><td>Touring-3000 Yellow, 50</td><td>BK-T18Y-50</td><td>686</td></tr><tr><td>963</td><td>Touring-3000 Yellow, 54</td><td>BK-T18Y-54</td><td>453</td></tr><tr><td>964</td><td>Touring-3000 Yellow, 58</td><td>BK-T18Y-58</td><td>293</td></tr><tr><td>965</td><td>Touring-3000 Yellow, 62</td><td>BK-T18Y-62</td><td>844</td></tr><tr><td>966</td><td>Touring-1000 Blue, 46</td><td>BK-T79U-46</td><td>1002</td></tr><tr><td>967</td><td>Touring-1000 Blue, 50</td><td>BK-T79U-50</td><td>649</td></tr><tr><td>968</td><td>Touring-1000 Blue, 54</td><td>BK-T79U-54</td><td>413</td></tr><tr><td>969</td><td>Touring-1000 Blue, 60</td><td>BK-T79U-60</td><td>1120</td></tr><tr><td>970</td><td>Touring-2000 Blue, 46</td><td>BK-T44U-46</td><td>538</td></tr><tr><td>971</td><td>Touring-2000 Blue, 50</td><td>BK-T44U-50</td><td>322</td></tr><tr><td>972</td><td>Touring-2000 Blue, 54</td><td>BK-T44U-54</td><td>1010</td></tr><tr><td>973</td><td>Road-350-W Yellow, 40</td><td>BK-R79Y-40</td><td>1477</td></tr><tr><td>974</td><td>Road-350-W Yellow, 42</td><td>BK-R79Y-42</td><td>944</td></tr><tr><td>975</td><td>Road-350-W Yellow, 44</td><td>BK-R79Y-44</td><td>536</td></tr><tr><td>976</td><td>Road-350-W Yellow, 48</td><td>BK-R79Y-48</td><td>1622</td></tr><tr><td>977</td><td>Road-750 Black, 58</td><td>BK-R19B-58</td><td>892</td></tr><tr><td>978</td><td>Touring-3000 Blue, 44</td><td>BK-T18U-44</td><td>292</td></tr><tr><td>979</td><td>Touring-3000 Blue, 50</td><td>BK-T18U-50</td><td>841</td></tr><tr><td>980</td><td>Mountain-400-W Silver, 38</td><td>BK-M38S-38</td><td>425</td></tr><tr><td>981</td><td>Mountain-400-W Silver, 40</td><td>BK-M38S-40</td><td>617</td></tr><tr><td>982</td><td>Mountain-400-W Silver, 42</td><td>BK-M38S-42</td><td>385</td></tr><tr><td>983</td><td>Mountain-400-W Silver, 46</td><td>BK-M38S-46</td><td>401</td></tr><tr><td>984</td><td>Mountain-500 Silver, 40</td><td>BK-M18S-40</td><td>450</td></tr><tr><td>985</td><td>Mountain-500 Silver, 42</td><td>BK-M18S-42</td><td>455</td></tr><tr><td>986</td><td>Mountain-500 Silver, 44</td><td>BK-M18S-44</td><td>381</td></tr><tr><td>987</td><td>Mountain-500 Silver, 48</td><td>BK-M18S-48</td><td>457</td></tr><tr><td>988</td><td>Mountain-500 Silver, 52</td><td>BK-M18S-52</td><td>515</td></tr><tr><td>989</td><td>Mountain-500 Black, 40</td><td>BK-M18B-40</td><td>282</td></tr><tr><td>990</td><td>Mountain-500 Black, 42</td><td>BK-M18B-42</td><td>388</td></tr><tr><td>991</td><td>Mountain-500 Black, 44</td><td>BK-M18B-44</td><td>350</td></tr><tr><td>992</td><td>Mountain-500 Black, 48</td><td>BK-M18B-48</td><td>449</td></tr><tr><td>993</td><td>Mountain-500 Black, 52</td><td>BK-M18B-52</td><td>272</td></tr><tr><td>994</td><td>LL Bottom Bracket</td><td>BB-7421</td><td>378</td></tr><tr><td>996</td><td>HL Bottom Bracket</td><td>BB-9108</td><td>543</td></tr><tr><td>997</td><td>Road-750 Black, 44</td><td>BK-R19B-44</td><td>656</td></tr><tr><td>998</td><td>Road-750 Black, 48</td><td>BK-R19B-48</td><td>1556</td></tr><tr><td>999</td><td>Road-750 Black, 52</td><td>BK-R19B-52</td><td>1338</td></tr></table>"
                    },
                    "metadata": {}
                }
            ],
            "execution_count": 5
        },
        {
            "cell_type": "markdown",
            "source": "\r\n![sad panda](./DangerWillRobinson.gif \"Figure 3 - Using a CROSS APPLY with the [fn_TotalSoldToDate] to return the total number sold for each productID\")</br>\r\n\r\n\r\n## There is a challenge with the query shown in Figure 3.  \r\n## With the query in Figure 1 there was 295 rows returned.  \r\n## The query in Figure 3 only returns 266 rows.  \r\n\r\n## The reason for this is that the query is using **CROSS APPLY**, when the function is executed a record only be return if there match with the left table.  So if the function does not return a record for the ProductID ## no record will be returned in the recordset.\r\n\r\n## Now let's use the **OUTER APPLY** keyword with the same query as used in Figure 3 and see what the differences are.\r\n",
            "metadata": {}
        },
        {
            "cell_type": "markdown",
            "source": "![sad panda](./Figure4.jpg \"Using an OUTER APPLY with the [fn_TotalSoldToDate] to return the total number sold for each productID\")</br>\r\nFigure 4 - Using an OUTER APPLY with the [fn_TotalSoldToDate] to return the total number sold for each productID",
            "metadata": {}
        },
        {
            "cell_type": "code",
            "source": "SELECT [P].[ProductID],\r\n       [P].[Name],\r\n       [P].[ProductNumber],\r\n\t   [PS].[TotalOrdered]\r\nFROM [Production].[Product] AS [P]\r\nOUTER APPLY [dbo].[fn_TotalSoldToDate]([P].ProductID) AS [PS]\r\nWHERE [P].[FinishedGoodsFlag] = 1;",
            "metadata": {},
            "outputs": [
                {
                    "output_type": "display_data",
                    "data": {
                        "text/html": "(295 rows affected)"
                    },
                    "metadata": {}
                },
                {
                    "output_type": "display_data",
                    "data": {
                        "text/html": "Total execution time: 00:00:00.061"
                    },
                    "metadata": {}
                },
                {
                    "output_type": "execute_result",
                    "execution_count": 6,
                    "data": {
                        "application/vnd.dataresource+json": {
                            "schema": {
                                "fields": [
                                    {
                                        "name": "ProductID"
                                    },
                                    {
                                        "name": "Name"
                                    },
                                    {
                                        "name": "ProductNumber"
                                    },
                                    {
                                        "name": "TotalOrdered"
                                    }
                                ]
                            },
                            "data": [
                                {
                                    "0": "680",
                                    "1": "HL Road Frame - Black, 58",
                                    "2": "FR-R92B-58",
                                    "3": "NULL"
                                },
                                {
                                    "0": "706",
                                    "1": "HL Road Frame - Red, 58",
                                    "2": "FR-R92R-58",
                                    "3": "NULL"
                                },
                                {
                                    "0": "707",
                                    "1": "Sport-100 Helmet, Red",
                                    "2": "HL-U509-R",
                                    "3": "6266"
                                },
                                {
                                    "0": "708",
                                    "1": "Sport-100 Helmet, Black",
                                    "2": "HL-U509",
                                    "3": "6532"
                                },
                                {
                                    "0": "709",
                                    "1": "Mountain Bike Socks, M",
                                    "2": "SO-B909-M",
                                    "3": "1107"
                                },
                                {
                                    "0": "710",
                                    "1": "Mountain Bike Socks, L",
                                    "2": "SO-B909-L",
                                    "3": "90"
                                },
                                {
                                    "0": "711",
                                    "1": "Sport-100 Helmet, Blue",
                                    "2": "HL-U509-B",
                                    "3": "6743"
                                },
                                {
                                    "0": "712",
                                    "1": "AWC Logo Cap",
                                    "2": "CA-1098",
                                    "3": "8311"
                                },
                                {
                                    "0": "713",
                                    "1": "Long-Sleeve Logo Jersey, S",
                                    "2": "LJ-0192-S",
                                    "3": "429"
                                },
                                {
                                    "0": "714",
                                    "1": "Long-Sleeve Logo Jersey, M",
                                    "2": "LJ-0192-M",
                                    "3": "3636"
                                },
                                {
                                    "0": "715",
                                    "1": "Long-Sleeve Logo Jersey, L",
                                    "2": "LJ-0192-L",
                                    "3": "6592"
                                },
                                {
                                    "0": "716",
                                    "1": "Long-Sleeve Logo Jersey, XL",
                                    "2": "LJ-0192-X",
                                    "3": "2980"
                                },
                                {
                                    "0": "717",
                                    "1": "HL Road Frame - Red, 62",
                                    "2": "FR-R92R-62",
                                    "3": "485"
                                },
                                {
                                    "0": "718",
                                    "1": "HL Road Frame - Red, 44",
                                    "2": "FR-R92R-44",
                                    "3": "486"
                                },
                                {
                                    "0": "719",
                                    "1": "HL Road Frame - Red, 48",
                                    "2": "FR-R92R-48",
                                    "3": "109"
                                },
                                {
                                    "0": "720",
                                    "1": "HL Road Frame - Red, 52",
                                    "2": "FR-R92R-52",
                                    "3": "NULL"
                                },
                                {
                                    "0": "721",
                                    "1": "HL Road Frame - Red, 56",
                                    "2": "FR-R92R-56",
                                    "3": "NULL"
                                },
                                {
                                    "0": "722",
                                    "1": "LL Road Frame - Black, 58",
                                    "2": "FR-R38B-58",
                                    "3": "940"
                                },
                                {
                                    "0": "723",
                                    "1": "LL Road Frame - Black, 60",
                                    "2": "FR-R38B-60",
                                    "3": "129"
                                },
                                {
                                    "0": "724",
                                    "1": "LL Road Frame - Black, 62",
                                    "2": "FR-R38B-62",
                                    "3": "NULL"
                                },
                                {
                                    "0": "725",
                                    "1": "LL Road Frame - Red, 44",
                                    "2": "FR-R38R-44",
                                    "3": "991"
                                },
                                {
                                    "0": "726",
                                    "1": "LL Road Frame - Red, 48",
                                    "2": "FR-R38R-48",
                                    "3": "671"
                                },
                                {
                                    "0": "727",
                                    "1": "LL Road Frame - Red, 52",
                                    "2": "FR-R38R-52",
                                    "3": "100"
                                },
                                {
                                    "0": "728",
                                    "1": "LL Road Frame - Red, 58",
                                    "2": "FR-R38R-58",
                                    "3": "NULL"
                                },
                                {
                                    "0": "729",
                                    "1": "LL Road Frame - Red, 60",
                                    "2": "FR-R38R-60",
                                    "3": "996"
                                },
                                {
                                    "0": "730",
                                    "1": "LL Road Frame - Red, 62",
                                    "2": "FR-R38R-62",
                                    "3": "697"
                                },
                                {
                                    "0": "731",
                                    "1": "ML Road Frame - Red, 44",
                                    "2": "FR-R72R-44",
                                    "3": "NULL"
                                },
                                {
                                    "0": "732",
                                    "1": "ML Road Frame - Red, 48",
                                    "2": "FR-R72R-48",
                                    "3": "250"
                                },
                                {
                                    "0": "733",
                                    "1": "ML Road Frame - Red, 52",
                                    "2": "FR-R72R-52",
                                    "3": "90"
                                },
                                {
                                    "0": "734",
                                    "1": "ML Road Frame - Red, 58",
                                    "2": "FR-R72R-58",
                                    "3": "NULL"
                                },
                                {
                                    "0": "735",
                                    "1": "ML Road Frame - Red, 60",
                                    "2": "FR-R72R-60",
                                    "3": "NULL"
                                },
                                {
                                    "0": "736",
                                    "1": "LL Road Frame - Black, 44",
                                    "2": "FR-R38B-44",
                                    "3": "238"
                                },
                                {
                                    "0": "737",
                                    "1": "LL Road Frame - Black, 48",
                                    "2": "FR-R38B-48",
                                    "3": "NULL"
                                },
                                {
                                    "0": "738",
                                    "1": "LL Road Frame - Black, 52",
                                    "2": "FR-R38B-52",
                                    "3": "1581"
                                },
                                {
                                    "0": "739",
                                    "1": "HL Mountain Frame - Silver, 42",
                                    "2": "FR-M94S-42",
                                    "3": "347"
                                },
                                {
                                    "0": "740",
                                    "1": "HL Mountain Frame - Silver, 44",
                                    "2": "FR-M94S-44",
                                    "3": "NULL"
                                },
                                {
                                    "0": "741",
                                    "1": "HL Mountain Frame - Silver, 48",
                                    "2": "FR-M94S-52",
                                    "3": "173"
                                },
                                {
                                    "0": "742",
                                    "1": "HL Mountain Frame - Silver, 46",
                                    "2": "FR-M94S-46",
                                    "3": "649"
                                },
                                {
                                    "0": "743",
                                    "1": "HL Mountain Frame - Black, 42",
                                    "2": "FR-M94B-42",
                                    "3": "1181"
                                },
                                {
                                    "0": "744",
                                    "1": "HL Mountain Frame - Black, 44",
                                    "2": "FR-M94B-44",
                                    "3": "17"
                                },
                                {
                                    "0": "745",
                                    "1": "HL Mountain Frame - Black, 48",
                                    "2": "FR-M94B-48",
                                    "3": "131"
                                },
                                {
                                    "0": "746",
                                    "1": "HL Mountain Frame - Black, 46",
                                    "2": "FR-M94B-46",
                                    "3": "NULL"
                                },
                                {
                                    "0": "747",
                                    "1": "HL Mountain Frame - Black, 38",
                                    "2": "FR-M94B-38",
                                    "3": "659"
                                },
                                {
                                    "0": "748",
                                    "1": "HL Mountain Frame - Silver, 38",
                                    "2": "FR-M94S-38",
                                    "3": "1206"
                                },
                                {
                                    "0": "749",
                                    "1": "Road-150 Red, 62",
                                    "2": "BK-R93R-62",
                                    "3": "600"
                                },
                                {
                                    "0": "750",
                                    "1": "Road-150 Red, 44",
                                    "2": "BK-R93R-44",
                                    "3": "437"
                                },
                                {
                                    "0": "751",
                                    "1": "Road-150 Red, 48",
                                    "2": "BK-R93R-48",
                                    "3": "493"
                                },
                                {
                                    "0": "752",
                                    "1": "Road-150 Red, 52",
                                    "2": "BK-R93R-52",
                                    "3": "458"
                                },
                                {
                                    "0": "753",
                                    "1": "Road-150 Red, 56",
                                    "2": "BK-R93R-56",
                                    "3": "664"
                                },
                                {
                                    "0": "754",
                                    "1": "Road-450 Red, 58",
                                    "2": "BK-R68R-58",
                                    "3": "582"
                                },
                                {
                                    "0": "755",
                                    "1": "Road-450 Red, 60",
                                    "2": "BK-R68R-60",
                                    "3": "350"
                                },
                                {
                                    "0": "756",
                                    "1": "Road-450 Red, 44",
                                    "2": "BK-R68R-44",
                                    "3": "346"
                                },
                                {
                                    "0": "757",
                                    "1": "Road-450 Red, 48",
                                    "2": "BK-R68R-48",
                                    "3": "156"
                                },
                                {
                                    "0": "758",
                                    "1": "Road-450 Red, 52",
                                    "2": "BK-R68R-52",
                                    "3": "710"
                                },
                                {
                                    "0": "759",
                                    "1": "Road-650 Red, 58",
                                    "2": "BK-R50R-58",
                                    "3": "618"
                                },
                                {
                                    "0": "760",
                                    "1": "Road-650 Red, 60",
                                    "2": "BK-R50R-60",
                                    "3": "2232"
                                },
                                {
                                    "0": "761",
                                    "1": "Road-650 Red, 62",
                                    "2": "BK-R50R-62",
                                    "3": "1896"
                                },
                                {
                                    "0": "762",
                                    "1": "Road-650 Red, 44",
                                    "2": "BK-R50R-44",
                                    "3": "2254"
                                },
                                {
                                    "0": "763",
                                    "1": "Road-650 Red, 48",
                                    "2": "BK-R50R-48",
                                    "3": "1888"
                                },
                                {
                                    "0": "764",
                                    "1": "Road-650 Red, 52",
                                    "2": "BK-R50R-52",
                                    "3": "1112"
                                },
                                {
                                    "0": "765",
                                    "1": "Road-650 Black, 58",
                                    "2": "BK-R50B-58",
                                    "3": "1871"
                                },
                                {
                                    "0": "766",
                                    "1": "Road-650 Black, 60",
                                    "2": "BK-R50B-60",
                                    "3": "1100"
                                },
                                {
                                    "0": "767",
                                    "1": "Road-650 Black, 62",
                                    "2": "BK-R50B-62",
                                    "3": "644"
                                },
                                {
                                    "0": "768",
                                    "1": "Road-650 Black, 44",
                                    "2": "BK-R50B-44",
                                    "3": "1080"
                                },
                                {
                                    "0": "769",
                                    "1": "Road-650 Black, 48",
                                    "2": "BK-R50B-48",
                                    "3": "644"
                                },
                                {
                                    "0": "770",
                                    "1": "Road-650 Black, 52",
                                    "2": "BK-R50B-52",
                                    "3": "2270"
                                },
                                {
                                    "0": "771",
                                    "1": "Mountain-100 Silver, 38",
                                    "2": "BK-M82S-38",
                                    "3": "642"
                                },
                                {
                                    "0": "772",
                                    "1": "Mountain-100 Silver, 42",
                                    "2": "BK-M82S-42",
                                    "3": "593"
                                },
                                {
                                    "0": "773",
                                    "1": "Mountain-100 Silver, 44",
                                    "2": "BK-M82S-44",
                                    "3": "601"
                                },
                                {
                                    "0": "774",
                                    "1": "Mountain-100 Silver, 48",
                                    "2": "BK-M82S-48",
                                    "3": "505"
                                },
                                {
                                    "0": "775",
                                    "1": "Mountain-100 Black, 38",
                                    "2": "BK-M82B-38",
                                    "3": "682"
                                },
                                {
                                    "0": "776",
                                    "1": "Mountain-100 Black, 42",
                                    "2": "BK-M82B-42",
                                    "3": "634"
                                },
                                {
                                    "0": "777",
                                    "1": "Mountain-100 Black, 44",
                                    "2": "BK-M82B-44",
                                    "3": "678"
                                },
                                {
                                    "0": "778",
                                    "1": "Mountain-100 Black, 48",
                                    "2": "BK-M82B-48",
                                    "3": "616"
                                },
                                {
                                    "0": "779",
                                    "1": "Mountain-200 Silver, 38",
                                    "2": "BK-M68S-38",
                                    "3": "2394"
                                },
                                {
                                    "0": "780",
                                    "1": "Mountain-200 Silver, 42",
                                    "2": "BK-M68S-42",
                                    "3": "2234"
                                },
                                {
                                    "0": "781",
                                    "1": "Mountain-200 Silver, 46",
                                    "2": "BK-M68S-46",
                                    "3": "2216"
                                },
                                {
                                    "0": "782",
                                    "1": "Mountain-200 Black, 38",
                                    "2": "BK-M68B-38",
                                    "3": "2977"
                                },
                                {
                                    "0": "783",
                                    "1": "Mountain-200 Black, 42",
                                    "2": "BK-M68B-42",
                                    "3": "2664"
                                },
                                {
                                    "0": "784",
                                    "1": "Mountain-200 Black, 46",
                                    "2": "BK-M68B-46",
                                    "3": "2111"
                                },
                                {
                                    "0": "785",
                                    "1": "Mountain-300 Black, 38",
                                    "2": "BK-M47B-38",
                                    "3": "684"
                                },
                                {
                                    "0": "786",
                                    "1": "Mountain-300 Black, 40",
                                    "2": "BK-M47B-40",
                                    "3": "776"
                                },
                                {
                                    "0": "787",
                                    "1": "Mountain-300 Black, 44",
                                    "2": "BK-M47B-44",
                                    "3": "747"
                                },
                                {
                                    "0": "788",
                                    "1": "Mountain-300 Black, 48",
                                    "2": "BK-M47B-48",
                                    "3": "740"
                                },
                                {
                                    "0": "789",
                                    "1": "Road-250 Red, 44",
                                    "2": "BK-R89R-44",
                                    "3": "895"
                                },
                                {
                                    "0": "790",
                                    "1": "Road-250 Red, 48",
                                    "2": "BK-R89R-48",
                                    "3": "812"
                                },
                                {
                                    "0": "791",
                                    "1": "Road-250 Red, 52",
                                    "2": "BK-R89R-52",
                                    "3": "639"
                                },
                                {
                                    "0": "792",
                                    "1": "Road-250 Red, 58",
                                    "2": "BK-R89R-58",
                                    "3": "946"
                                },
                                {
                                    "0": "793",
                                    "1": "Road-250 Black, 44",
                                    "2": "BK-R89B-44",
                                    "3": "1642"
                                },
                                {
                                    "0": "794",
                                    "1": "Road-250 Black, 48",
                                    "2": "BK-R89B-48",
                                    "3": "1498"
                                },
                                {
                                    "0": "795",
                                    "1": "Road-250 Black, 52",
                                    "2": "BK-R89B-52",
                                    "3": "1245"
                                },
                                {
                                    "0": "796",
                                    "1": "Road-250 Black, 58",
                                    "2": "BK-R89B-58",
                                    "3": "910"
                                },
                                {
                                    "0": "797",
                                    "1": "Road-550-W Yellow, 38",
                                    "2": "BK-R64Y-38",
                                    "3": "1744"
                                },
                                {
                                    "0": "798",
                                    "1": "Road-550-W Yellow, 40",
                                    "2": "BK-R64Y-40",
                                    "3": "1500"
                                },
                                {
                                    "0": "799",
                                    "1": "Road-550-W Yellow, 42",
                                    "2": "BK-R64Y-42",
                                    "3": "1249"
                                },
                                {
                                    "0": "800",
                                    "1": "Road-550-W Yellow, 44",
                                    "2": "BK-R64Y-44",
                                    "3": "927"
                                },
                                {
                                    "0": "801",
                                    "1": "Road-550-W Yellow, 48",
                                    "2": "BK-R64Y-48",
                                    "3": "1763"
                                },
                                {
                                    "0": "802",
                                    "1": "LL Fork",
                                    "2": "FK-1639",
                                    "3": "190"
                                },
                                {
                                    "0": "803",
                                    "1": "ML Fork",
                                    "2": "FK-5136",
                                    "3": "NULL"
                                },
                                {
                                    "0": "804",
                                    "1": "HL Fork",
                                    "2": "FK-9939",
                                    "3": "444"
                                },
                                {
                                    "0": "805",
                                    "1": "LL Headset",
                                    "2": "HS-0296",
                                    "3": "95"
                                },
                                {
                                    "0": "806",
                                    "1": "ML Headset",
                                    "2": "HS-2451",
                                    "3": "659"
                                },
                                {
                                    "0": "807",
                                    "1": "HL Headset",
                                    "2": "HS-3479",
                                    "3": "255"
                                },
                                {
                                    "0": "808",
                                    "1": "LL Mountain Handlebars",
                                    "2": "HB-M243",
                                    "3": "865"
                                },
                                {
                                    "0": "809",
                                    "1": "ML Mountain Handlebars",
                                    "2": "HB-M763",
                                    "3": "1465"
                                },
                                {
                                    "0": "810",
                                    "1": "HL Mountain Handlebars",
                                    "2": "HB-M918",
                                    "3": "500"
                                },
                                {
                                    "0": "811",
                                    "1": "LL Road Handlebars",
                                    "2": "HB-R504",
                                    "3": "213"
                                },
                                {
                                    "0": "812",
                                    "1": "ML Road Handlebars",
                                    "2": "HB-R720",
                                    "3": "NULL"
                                },
                                {
                                    "0": "813",
                                    "1": "HL Road Handlebars",
                                    "2": "HB-R956",
                                    "3": "631"
                                },
                                {
                                    "0": "814",
                                    "1": "ML Mountain Frame - Black, 38",
                                    "2": "FR-M63B-38",
                                    "3": "514"
                                },
                                {
                                    "0": "815",
                                    "1": "LL Mountain Front Wheel",
                                    "2": "FW-M423",
                                    "3": "617"
                                },
                                {
                                    "0": "816",
                                    "1": "ML Mountain Front Wheel",
                                    "2": "FW-M762",
                                    "3": "266"
                                },
                                {
                                    "0": "817",
                                    "1": "HL Mountain Front Wheel",
                                    "2": "FW-M928",
                                    "3": "222"
                                },
                                {
                                    "0": "818",
                                    "1": "LL Road Front Wheel",
                                    "2": "FW-R623",
                                    "3": "NULL"
                                },
                                {
                                    "0": "819",
                                    "1": "ML Road Front Wheel",
                                    "2": "FW-R762",
                                    "3": "532"
                                },
                                {
                                    "0": "820",
                                    "1": "HL Road Front Wheel",
                                    "2": "FW-R820",
                                    "3": "567"
                                },
                                {
                                    "0": "821",
                                    "1": "Touring Front Wheel",
                                    "2": "FW-T905",
                                    "3": "NULL"
                                },
                                {
                                    "0": "822",
                                    "1": "ML Road Frame-W - Yellow, 38",
                                    "2": "FR-R72Y-38",
                                    "3": "895"
                                },
                                {
                                    "0": "823",
                                    "1": "LL Mountain Rear Wheel",
                                    "2": "RW-M423",
                                    "3": "342"
                                },
                                {
                                    "0": "824",
                                    "1": "ML Mountain Rear Wheel",
                                    "2": "RW-M762",
                                    "3": "851"
                                },
                                {
                                    "0": "825",
                                    "1": "HL Mountain Rear Wheel",
                                    "2": "RW-M928",
                                    "3": "850"
                                },
                                {
                                    "0": "826",
                                    "1": "LL Road Rear Wheel",
                                    "2": "RW-R623",
                                    "3": "868"
                                },
                                {
                                    "0": "827",
                                    "1": "ML Road Rear Wheel",
                                    "2": "RW-R762",
                                    "3": "64"
                                },
                                {
                                    "0": "828",
                                    "1": "HL Road Rear Wheel",
                                    "2": "RW-R820",
                                    "3": "94"
                                },
                                {
                                    "0": "829",
                                    "1": "Touring Rear Wheel",
                                    "2": "RW-T905",
                                    "3": "NULL"
                                },
                                {
                                    "0": "830",
                                    "1": "ML Mountain Frame - Black, 40",
                                    "2": "FR-M63B-40",
                                    "3": "68"
                                },
                                {
                                    "0": "831",
                                    "1": "ML Mountain Frame - Black, 44",
                                    "2": "FR-M63B-44",
                                    "3": "619"
                                },
                                {
                                    "0": "832",
                                    "1": "ML Mountain Frame - Black, 48",
                                    "2": "FR-M63B-48",
                                    "3": "959"
                                },
                                {
                                    "0": "833",
                                    "1": "ML Road Frame-W - Yellow, 40",
                                    "2": "FR-R72Y-40",
                                    "3": "203"
                                },
                                {
                                    "0": "834",
                                    "1": "ML Road Frame-W - Yellow, 42",
                                    "2": "FR-R72Y-42",
                                    "3": "NULL"
                                },
                                {
                                    "0": "835",
                                    "1": "ML Road Frame-W - Yellow, 44",
                                    "2": "FR-R72Y-44",
                                    "3": "1435"
                                },
                                {
                                    "0": "836",
                                    "1": "ML Road Frame-W - Yellow, 48",
                                    "2": "FR-R72Y-48",
                                    "3": "889"
                                },
                                {
                                    "0": "837",
                                    "1": "HL Road Frame - Black, 62",
                                    "2": "FR-R92B-62",
                                    "3": "NULL"
                                },
                                {
                                    "0": "838",
                                    "1": "HL Road Frame - Black, 44",
                                    "2": "FR-R92B-44",
                                    "3": "459"
                                },
                                {
                                    "0": "839",
                                    "1": "HL Road Frame - Black, 48",
                                    "2": "FR-R92B-48",
                                    "3": "109"
                                },
                                {
                                    "0": "840",
                                    "1": "HL Road Frame - Black, 52",
                                    "2": "FR-R92B-52",
                                    "3": "NULL"
                                },
                                {
                                    "0": "841",
                                    "1": "Men's Sports Shorts, S",
                                    "2": "SH-M897-S",
                                    "3": "567"
                                },
                                {
                                    "0": "842",
                                    "1": "Touring-Panniers, Large",
                                    "2": "PA-T100",
                                    "3": "NULL"
                                },
                                {
                                    "0": "843",
                                    "1": "Cable Lock",
                                    "2": "LO-C100",
                                    "3": "1087"
                                },
                                {
                                    "0": "844",
                                    "1": "Minipump",
                                    "2": "PU-0452",
                                    "3": "1130"
                                },
                                {
                                    "0": "845",
                                    "1": "Mountain Pump",
                                    "2": "PU-M044",
                                    "3": "NULL"
                                },
                                {
                                    "0": "846",
                                    "1": "Taillights - Battery-Powered",
                                    "2": "LT-T990",
                                    "3": "NULL"
                                },
                                {
                                    "0": "847",
                                    "1": "Headlights - Dual-Beam",
                                    "2": "LT-H902",
                                    "3": "NULL"
                                },
                                {
                                    "0": "848",
                                    "1": "Headlights - Weatherproof",
                                    "2": "LT-H903",
                                    "3": "NULL"
                                },
                                {
                                    "0": "849",
                                    "1": "Men's Sports Shorts, M",
                                    "2": "SH-M897-M",
                                    "3": "1276"
                                },
                                {
                                    "0": "850",
                                    "1": "Men's Sports Shorts, L",
                                    "2": "SH-M897-L",
                                    "3": "445"
                                },
                                {
                                    "0": "851",
                                    "1": "Men's Sports Shorts, XL",
                                    "2": "SH-M897-X",
                                    "3": "NULL"
                                },
                                {
                                    "0": "852",
                                    "1": "Women's Tights, S",
                                    "2": "TG-W091-S",
                                    "3": "2072"
                                },
                                {
                                    "0": "853",
                                    "1": "Women's Tights, M",
                                    "2": "TG-W091-M",
                                    "3": "394"
                                },
                                {
                                    "0": "854",
                                    "1": "Women's Tights, L",
                                    "2": "TG-W091-L",
                                    "3": "2123"
                                },
                                {
                                    "0": "855",
                                    "1": "Men's Bib-Shorts, S",
                                    "2": "SB-M891-S",
                                    "3": "876"
                                },
                                {
                                    "0": "856",
                                    "1": "Men's Bib-Shorts, M",
                                    "2": "SB-M891-M",
                                    "3": "1616"
                                },
                                {
                                    "0": "857",
                                    "1": "Men's Bib-Shorts, L",
                                    "2": "SB-M891-L",
                                    "3": "633"
                                },
                                {
                                    "0": "858",
                                    "1": "Half-Finger Gloves, S",
                                    "2": "GL-H102-S",
                                    "3": "2188"
                                },
                                {
                                    "0": "859",
                                    "1": "Half-Finger Gloves, M",
                                    "2": "GL-H102-M",
                                    "3": "3464"
                                },
                                {
                                    "0": "860",
                                    "1": "Half-Finger Gloves, L",
                                    "2": "GL-H102-L",
                                    "3": "1276"
                                },
                                {
                                    "0": "861",
                                    "1": "Full-Finger Gloves, S",
                                    "2": "GL-F110-S",
                                    "3": "500"
                                },
                                {
                                    "0": "862",
                                    "1": "Full-Finger Gloves, M",
                                    "2": "GL-F110-M",
                                    "3": "2206"
                                },
                                {
                                    "0": "863",
                                    "1": "Full-Finger Gloves, L",
                                    "2": "GL-F110-L",
                                    "3": "3378"
                                },
                                {
                                    "0": "864",
                                    "1": "Classic Vest, S",
                                    "2": "VE-C304-S",
                                    "3": "4247"
                                },
                                {
                                    "0": "865",
                                    "1": "Classic Vest, M",
                                    "2": "VE-C304-M",
                                    "3": "2284"
                                },
                                {
                                    "0": "866",
                                    "1": "Classic Vest, L",
                                    "2": "VE-C304-L",
                                    "3": "207"
                                },
                                {
                                    "0": "867",
                                    "1": "Women's Mountain Shorts, S",
                                    "2": "SH-W890-S",
                                    "3": "3296"
                                },
                                {
                                    "0": "868",
                                    "1": "Women's Mountain Shorts, M",
                                    "2": "SH-W890-M",
                                    "3": "1139"
                                },
                                {
                                    "0": "869",
                                    "1": "Women's Mountain Shorts, L",
                                    "2": "SH-W890-L",
                                    "3": "3244"
                                },
                                {
                                    "0": "870",
                                    "1": "Water Bottle - 30 oz.",
                                    "2": "WB-H098",
                                    "3": "6815"
                                },
                                {
                                    "0": "871",
                                    "1": "Mountain Bottle Cage",
                                    "2": "BC-M005",
                                    "3": "2025"
                                },
                                {
                                    "0": "872",
                                    "1": "Road Bottle Cage",
                                    "2": "BC-R205",
                                    "3": "1712"
                                },
                                {
                                    "0": "873",
                                    "1": "Patch Kit/8 Patches",
                                    "2": "PK-7098",
                                    "3": "3865"
                                },
                                {
                                    "0": "874",
                                    "1": "Racing Socks, M",
                                    "2": "SO-R809-M",
                                    "3": "1547"
                                },
                                {
                                    "0": "875",
                                    "1": "Racing Socks, L",
                                    "2": "SO-R809-L",
                                    "3": "2473"
                                },
                                {
                                    "0": "876",
                                    "1": "Hitch Rack - 4-Bike",
                                    "2": "RA-H123",
                                    "3": "3166"
                                },
                                {
                                    "0": "877",
                                    "1": "Bike Wash - Dissolver",
                                    "2": "CL-9009",
                                    "3": "3319"
                                },
                                {
                                    "0": "878",
                                    "1": "Fender Set - Mountain",
                                    "2": "FE-6654",
                                    "3": "2121"
                                },
                                {
                                    "0": "879",
                                    "1": "All-Purpose Bike Stand",
                                    "2": "ST-1401",
                                    "3": "249"
                                },
                                {
                                    "0": "880",
                                    "1": "Hydration Pack - 70 oz.",
                                    "2": "HY-1023-70",
                                    "3": "2761"
                                },
                                {
                                    "0": "881",
                                    "1": "Short-Sleeve Classic Jersey, S",
                                    "2": "SJ-0194-S",
                                    "3": "1955"
                                },
                                {
                                    "0": "882",
                                    "1": "Short-Sleeve Classic Jersey, M",
                                    "2": "SJ-0194-M",
                                    "3": "407"
                                },
                                {
                                    "0": "883",
                                    "1": "Short-Sleeve Classic Jersey, L",
                                    "2": "SJ-0194-L",
                                    "3": "2848"
                                },
                                {
                                    "0": "884",
                                    "1": "Short-Sleeve Classic Jersey, XL",
                                    "2": "SJ-0194-X",
                                    "3": "3864"
                                },
                                {
                                    "0": "885",
                                    "1": "HL Touring Frame - Yellow, 60",
                                    "2": "FR-T98Y-60",
                                    "3": "387"
                                },
                                {
                                    "0": "886",
                                    "1": "LL Touring Frame - Yellow, 62",
                                    "2": "FR-T67Y-62",
                                    "3": "348"
                                },
                                {
                                    "0": "887",
                                    "1": "HL Touring Frame - Yellow, 46",
                                    "2": "FR-T98Y-46",
                                    "3": "87"
                                },
                                {
                                    "0": "888",
                                    "1": "HL Touring Frame - Yellow, 50",
                                    "2": "FR-T98Y-50",
                                    "3": "83"
                                },
                                {
                                    "0": "889",
                                    "1": "HL Touring Frame - Yellow, 54",
                                    "2": "FR-T98Y-54",
                                    "3": "540"
                                },
                                {
                                    "0": "890",
                                    "1": "HL Touring Frame - Blue, 46",
                                    "2": "FR-T98U-46",
                                    "3": "114"
                                },
                                {
                                    "0": "891",
                                    "1": "HL Touring Frame - Blue, 50",
                                    "2": "FR-T98U-50",
                                    "3": "124"
                                },
                                {
                                    "0": "892",
                                    "1": "HL Touring Frame - Blue, 54",
                                    "2": "FR-T98U-54",
                                    "3": "542"
                                },
                                {
                                    "0": "893",
                                    "1": "HL Touring Frame - Blue, 60",
                                    "2": "FR-T98U-60",
                                    "3": "371"
                                },
                                {
                                    "0": "894",
                                    "1": "Rear Derailleur",
                                    "2": "RD-2308",
                                    "3": "353"
                                },
                                {
                                    "0": "895",
                                    "1": "LL Touring Frame - Blue, 50",
                                    "2": "FR-T67U-50",
                                    "3": "316"
                                },
                                {
                                    "0": "896",
                                    "1": "LL Touring Frame - Blue, 54",
                                    "2": "FR-T67U-54",
                                    "3": "211"
                                },
                                {
                                    "0": "897",
                                    "1": "LL Touring Frame - Blue, 58",
                                    "2": "FR-T67U-58",
                                    "3": "4"
                                },
                                {
                                    "0": "898",
                                    "1": "LL Touring Frame - Blue, 62",
                                    "2": "FR-T67U-62",
                                    "3": "15"
                                },
                                {
                                    "0": "899",
                                    "1": "LL Touring Frame - Yellow, 44",
                                    "2": "FR-T67Y-44",
                                    "3": "294"
                                },
                                {
                                    "0": "900",
                                    "1": "LL Touring Frame - Yellow, 50",
                                    "2": "FR-T67Y-50",
                                    "3": "228"
                                },
                                {
                                    "0": "901",
                                    "1": "LL Touring Frame - Yellow, 54",
                                    "2": "FR-T67Y-54",
                                    "3": "NULL"
                                },
                                {
                                    "0": "902",
                                    "1": "LL Touring Frame - Yellow, 58",
                                    "2": "FR-T67Y-58",
                                    "3": "36"
                                },
                                {
                                    "0": "903",
                                    "1": "LL Touring Frame - Blue, 44",
                                    "2": "FR-T67U-44",
                                    "3": "25"
                                },
                                {
                                    "0": "904",
                                    "1": "ML Mountain Frame-W - Silver, 40",
                                    "2": "FR-M63S-40",
                                    "3": "899"
                                },
                                {
                                    "0": "905",
                                    "1": "ML Mountain Frame-W - Silver, 42",
                                    "2": "FR-M63S-42",
                                    "3": "627"
                                },
                                {
                                    "0": "906",
                                    "1": "ML Mountain Frame-W - Silver, 46",
                                    "2": "FR-M63S-46",
                                    "3": "188"
                                },
                                {
                                    "0": "907",
                                    "1": "Rear Brakes",
                                    "2": "RB-9231",
                                    "3": "246"
                                },
                                {
                                    "0": "908",
                                    "1": "LL Mountain Seat/Saddle",
                                    "2": "SE-M236",
                                    "3": "347"
                                },
                                {
                                    "0": "909",
                                    "1": "ML Mountain Seat/Saddle",
                                    "2": "SE-M798",
                                    "3": "534"
                                },
                                {
                                    "0": "910",
                                    "1": "HL Mountain Seat/Saddle",
                                    "2": "SE-M940",
                                    "3": "519"
                                },
                                {
                                    "0": "911",
                                    "1": "LL Road Seat/Saddle",
                                    "2": "SE-R581",
                                    "3": "10"
                                },
                                {
                                    "0": "912",
                                    "1": "ML Road Seat/Saddle",
                                    "2": "SE-R908",
                                    "3": "NULL"
                                },
                                {
                                    "0": "913",
                                    "1": "HL Road Seat/Saddle",
                                    "2": "SE-R995",
                                    "3": "134"
                                },
                                {
                                    "0": "914",
                                    "1": "LL Touring Seat/Saddle",
                                    "2": "SE-T312",
                                    "3": "91"
                                },
                                {
                                    "0": "915",
                                    "1": "ML Touring Seat/Saddle",
                                    "2": "SE-T762",
                                    "3": "84"
                                },
                                {
                                    "0": "916",
                                    "1": "HL Touring Seat/Saddle",
                                    "2": "SE-T924",
                                    "3": "426"
                                },
                                {
                                    "0": "917",
                                    "1": "LL Mountain Frame - Silver, 42",
                                    "2": "FR-M21S-42",
                                    "3": "638"
                                },
                                {
                                    "0": "918",
                                    "1": "LL Mountain Frame - Silver, 44",
                                    "2": "FR-M21S-44",
                                    "3": "371"
                                },
                                {
                                    "0": "919",
                                    "1": "LL Mountain Frame - Silver, 48",
                                    "2": "FR-M21S-48",
                                    "3": "44"
                                },
                                {
                                    "0": "920",
                                    "1": "LL Mountain Frame - Silver, 52",
                                    "2": "FR-M21S-52",
                                    "3": "425"
                                },
                                {
                                    "0": "921",
                                    "1": "Mountain Tire Tube",
                                    "2": "TT-M928",
                                    "3": "3095"
                                },
                                {
                                    "0": "922",
                                    "1": "Road Tire Tube",
                                    "2": "TT-R982",
                                    "3": "2376"
                                },
                                {
                                    "0": "923",
                                    "1": "Touring Tire Tube",
                                    "2": "TT-T092",
                                    "3": "1488"
                                },
                                {
                                    "0": "924",
                                    "1": "LL Mountain Frame - Black, 42",
                                    "2": "FR-M21B-42",
                                    "3": "423"
                                },
                                {
                                    "0": "925",
                                    "1": "LL Mountain Frame - Black, 44",
                                    "2": "FR-M21B-44",
                                    "3": "625"
                                },
                                {
                                    "0": "926",
                                    "1": "LL Mountain Frame - Black, 48",
                                    "2": "FR-M21B-48",
                                    "3": "386"
                                },
                                {
                                    "0": "927",
                                    "1": "LL Mountain Frame - Black, 52",
                                    "2": "FR-M21B-52",
                                    "3": "15"
                                },
                                {
                                    "0": "928",
                                    "1": "LL Mountain Tire",
                                    "2": "TI-M267",
                                    "3": "862"
                                },
                                {
                                    "0": "929",
                                    "1": "ML Mountain Tire",
                                    "2": "TI-M602",
                                    "3": "1161"
                                },
                                {
                                    "0": "930",
                                    "1": "HL Mountain Tire",
                                    "2": "TI-M823",
                                    "3": "1396"
                                },
                                {
                                    "0": "931",
                                    "1": "LL Road Tire",
                                    "2": "TI-R092",
                                    "3": "1044"
                                },
                                {
                                    "0": "932",
                                    "1": "ML Road Tire",
                                    "2": "TI-R628",
                                    "3": "926"
                                },
                                {
                                    "0": "933",
                                    "1": "HL Road Tire",
                                    "2": "TI-R982",
                                    "3": "858"
                                },
                                {
                                    "0": "934",
                                    "1": "Touring Tire",
                                    "2": "TI-T723",
                                    "3": "935"
                                },
                                {
                                    "0": "935",
                                    "1": "LL Mountain Pedal",
                                    "2": "PD-M282",
                                    "3": "449"
                                },
                                {
                                    "0": "936",
                                    "1": "ML Mountain Pedal",
                                    "2": "PD-M340",
                                    "3": "345"
                                },
                                {
                                    "0": "937",
                                    "1": "HL Mountain Pedal",
                                    "2": "PD-M562",
                                    "3": "785"
                                },
                                {
                                    "0": "938",
                                    "1": "LL Road Pedal",
                                    "2": "PD-R347",
                                    "3": "868"
                                },
                                {
                                    "0": "939",
                                    "1": "ML Road Pedal",
                                    "2": "PD-R563",
                                    "3": "661"
                                },
                                {
                                    "0": "940",
                                    "1": "HL Road Pedal",
                                    "2": "PD-R853",
                                    "3": "676"
                                },
                                {
                                    "0": "941",
                                    "1": "Touring Pedal",
                                    "2": "PD-T852",
                                    "3": "147"
                                },
                                {
                                    "0": "942",
                                    "1": "ML Mountain Frame-W - Silver, 38",
                                    "2": "FR-M63S-38",
                                    "3": "7"
                                },
                                {
                                    "0": "943",
                                    "1": "LL Mountain Frame - Black, 40",
                                    "2": "FR-M21B-40",
                                    "3": "8"
                                },
                                {
                                    "0": "944",
                                    "1": "LL Mountain Frame - Silver, 40",
                                    "2": "FR-M21S-40",
                                    "3": "442"
                                },
                                {
                                    "0": "945",
                                    "1": "Front Derailleur",
                                    "2": "FD-2342",
                                    "3": "813"
                                },
                                {
                                    "0": "946",
                                    "1": "LL Touring Handlebars",
                                    "2": "HB-T721",
                                    "3": "56"
                                },
                                {
                                    "0": "947",
                                    "1": "HL Touring Handlebars",
                                    "2": "HB-T928",
                                    "3": "220"
                                },
                                {
                                    "0": "948",
                                    "1": "Front Brakes",
                                    "2": "FB-9873",
                                    "3": "789"
                                },
                                {
                                    "0": "949",
                                    "1": "LL Crankset",
                                    "2": "CS-4759",
                                    "3": "426"
                                },
                                {
                                    "0": "950",
                                    "1": "ML Crankset",
                                    "2": "CS-6583",
                                    "3": "68"
                                },
                                {
                                    "0": "951",
                                    "1": "HL Crankset",
                                    "2": "CS-9183",
                                    "3": "613"
                                },
                                {
                                    "0": "952",
                                    "1": "Chain",
                                    "2": "CH-0234",
                                    "3": "774"
                                },
                                {
                                    "0": "953",
                                    "1": "Touring-2000 Blue, 60",
                                    "2": "BK-T44U-60",
                                    "3": "820"
                                },
                                {
                                    "0": "954",
                                    "1": "Touring-1000 Yellow, 46",
                                    "2": "BK-T79Y-46",
                                    "3": "1005"
                                },
                                {
                                    "0": "955",
                                    "1": "Touring-1000 Yellow, 50",
                                    "2": "BK-T79Y-50",
                                    "3": "652"
                                },
                                {
                                    "0": "956",
                                    "1": "Touring-1000 Yellow, 54",
                                    "2": "BK-T79Y-54",
                                    "3": "397"
                                },
                                {
                                    "0": "957",
                                    "1": "Touring-1000 Yellow, 60",
                                    "2": "BK-T79Y-60",
                                    "3": "1114"
                                },
                                {
                                    "0": "958",
                                    "1": "Touring-3000 Blue, 54",
                                    "2": "BK-T18U-54",
                                    "3": "686"
                                },
                                {
                                    "0": "959",
                                    "1": "Touring-3000 Blue, 58",
                                    "2": "BK-T18U-58",
                                    "3": "482"
                                },
                                {
                                    "0": "960",
                                    "1": "Touring-3000 Blue, 62",
                                    "2": "BK-T18U-62",
                                    "3": "281"
                                },
                                {
                                    "0": "961",
                                    "1": "Touring-3000 Yellow, 44",
                                    "2": "BK-T18Y-44",
                                    "3": "851"
                                },
                                {
                                    "0": "962",
                                    "1": "Touring-3000 Yellow, 50",
                                    "2": "BK-T18Y-50",
                                    "3": "686"
                                },
                                {
                                    "0": "963",
                                    "1": "Touring-3000 Yellow, 54",
                                    "2": "BK-T18Y-54",
                                    "3": "453"
                                },
                                {
                                    "0": "964",
                                    "1": "Touring-3000 Yellow, 58",
                                    "2": "BK-T18Y-58",
                                    "3": "293"
                                },
                                {
                                    "0": "965",
                                    "1": "Touring-3000 Yellow, 62",
                                    "2": "BK-T18Y-62",
                                    "3": "844"
                                },
                                {
                                    "0": "966",
                                    "1": "Touring-1000 Blue, 46",
                                    "2": "BK-T79U-46",
                                    "3": "1002"
                                },
                                {
                                    "0": "967",
                                    "1": "Touring-1000 Blue, 50",
                                    "2": "BK-T79U-50",
                                    "3": "649"
                                },
                                {
                                    "0": "968",
                                    "1": "Touring-1000 Blue, 54",
                                    "2": "BK-T79U-54",
                                    "3": "413"
                                },
                                {
                                    "0": "969",
                                    "1": "Touring-1000 Blue, 60",
                                    "2": "BK-T79U-60",
                                    "3": "1120"
                                },
                                {
                                    "0": "970",
                                    "1": "Touring-2000 Blue, 46",
                                    "2": "BK-T44U-46",
                                    "3": "538"
                                },
                                {
                                    "0": "971",
                                    "1": "Touring-2000 Blue, 50",
                                    "2": "BK-T44U-50",
                                    "3": "322"
                                },
                                {
                                    "0": "972",
                                    "1": "Touring-2000 Blue, 54",
                                    "2": "BK-T44U-54",
                                    "3": "1010"
                                },
                                {
                                    "0": "973",
                                    "1": "Road-350-W Yellow, 40",
                                    "2": "BK-R79Y-40",
                                    "3": "1477"
                                },
                                {
                                    "0": "974",
                                    "1": "Road-350-W Yellow, 42",
                                    "2": "BK-R79Y-42",
                                    "3": "944"
                                },
                                {
                                    "0": "975",
                                    "1": "Road-350-W Yellow, 44",
                                    "2": "BK-R79Y-44",
                                    "3": "536"
                                },
                                {
                                    "0": "976",
                                    "1": "Road-350-W Yellow, 48",
                                    "2": "BK-R79Y-48",
                                    "3": "1622"
                                },
                                {
                                    "0": "977",
                                    "1": "Road-750 Black, 58",
                                    "2": "BK-R19B-58",
                                    "3": "892"
                                },
                                {
                                    "0": "978",
                                    "1": "Touring-3000 Blue, 44",
                                    "2": "BK-T18U-44",
                                    "3": "292"
                                },
                                {
                                    "0": "979",
                                    "1": "Touring-3000 Blue, 50",
                                    "2": "BK-T18U-50",
                                    "3": "841"
                                },
                                {
                                    "0": "980",
                                    "1": "Mountain-400-W Silver, 38",
                                    "2": "BK-M38S-38",
                                    "3": "425"
                                },
                                {
                                    "0": "981",
                                    "1": "Mountain-400-W Silver, 40",
                                    "2": "BK-M38S-40",
                                    "3": "617"
                                },
                                {
                                    "0": "982",
                                    "1": "Mountain-400-W Silver, 42",
                                    "2": "BK-M38S-42",
                                    "3": "385"
                                },
                                {
                                    "0": "983",
                                    "1": "Mountain-400-W Silver, 46",
                                    "2": "BK-M38S-46",
                                    "3": "401"
                                },
                                {
                                    "0": "984",
                                    "1": "Mountain-500 Silver, 40",
                                    "2": "BK-M18S-40",
                                    "3": "450"
                                },
                                {
                                    "0": "985",
                                    "1": "Mountain-500 Silver, 42",
                                    "2": "BK-M18S-42",
                                    "3": "455"
                                },
                                {
                                    "0": "986",
                                    "1": "Mountain-500 Silver, 44",
                                    "2": "BK-M18S-44",
                                    "3": "381"
                                },
                                {
                                    "0": "987",
                                    "1": "Mountain-500 Silver, 48",
                                    "2": "BK-M18S-48",
                                    "3": "457"
                                },
                                {
                                    "0": "988",
                                    "1": "Mountain-500 Silver, 52",
                                    "2": "BK-M18S-52",
                                    "3": "515"
                                },
                                {
                                    "0": "989",
                                    "1": "Mountain-500 Black, 40",
                                    "2": "BK-M18B-40",
                                    "3": "282"
                                },
                                {
                                    "0": "990",
                                    "1": "Mountain-500 Black, 42",
                                    "2": "BK-M18B-42",
                                    "3": "388"
                                },
                                {
                                    "0": "991",
                                    "1": "Mountain-500 Black, 44",
                                    "2": "BK-M18B-44",
                                    "3": "350"
                                },
                                {
                                    "0": "992",
                                    "1": "Mountain-500 Black, 48",
                                    "2": "BK-M18B-48",
                                    "3": "449"
                                },
                                {
                                    "0": "993",
                                    "1": "Mountain-500 Black, 52",
                                    "2": "BK-M18B-52",
                                    "3": "272"
                                },
                                {
                                    "0": "994",
                                    "1": "LL Bottom Bracket",
                                    "2": "BB-7421",
                                    "3": "378"
                                },
                                {
                                    "0": "995",
                                    "1": "ML Bottom Bracket",
                                    "2": "BB-8107",
                                    "3": "NULL"
                                },
                                {
                                    "0": "996",
                                    "1": "HL Bottom Bracket",
                                    "2": "BB-9108",
                                    "3": "543"
                                },
                                {
                                    "0": "997",
                                    "1": "Road-750 Black, 44",
                                    "2": "BK-R19B-44",
                                    "3": "656"
                                },
                                {
                                    "0": "998",
                                    "1": "Road-750 Black, 48",
                                    "2": "BK-R19B-48",
                                    "3": "1556"
                                },
                                {
                                    "0": "999",
                                    "1": "Road-750 Black, 52",
                                    "2": "BK-R19B-52",
                                    "3": "1338"
                                }
                            ]
                        },
                        "text/html": "<table><tr><th>ProductID</th><th>Name</th><th>ProductNumber</th><th>TotalOrdered</th></tr><tr><td>680</td><td>HL Road Frame - Black, 58</td><td>FR-R92B-58</td><td>NULL</td></tr><tr><td>706</td><td>HL Road Frame - Red, 58</td><td>FR-R92R-58</td><td>NULL</td></tr><tr><td>707</td><td>Sport-100 Helmet, Red</td><td>HL-U509-R</td><td>6266</td></tr><tr><td>708</td><td>Sport-100 Helmet, Black</td><td>HL-U509</td><td>6532</td></tr><tr><td>709</td><td>Mountain Bike Socks, M</td><td>SO-B909-M</td><td>1107</td></tr><tr><td>710</td><td>Mountain Bike Socks, L</td><td>SO-B909-L</td><td>90</td></tr><tr><td>711</td><td>Sport-100 Helmet, Blue</td><td>HL-U509-B</td><td>6743</td></tr><tr><td>712</td><td>AWC Logo Cap</td><td>CA-1098</td><td>8311</td></tr><tr><td>713</td><td>Long-Sleeve Logo Jersey, S</td><td>LJ-0192-S</td><td>429</td></tr><tr><td>714</td><td>Long-Sleeve Logo Jersey, M</td><td>LJ-0192-M</td><td>3636</td></tr><tr><td>715</td><td>Long-Sleeve Logo Jersey, L</td><td>LJ-0192-L</td><td>6592</td></tr><tr><td>716</td><td>Long-Sleeve Logo Jersey, XL</td><td>LJ-0192-X</td><td>2980</td></tr><tr><td>717</td><td>HL Road Frame - Red, 62</td><td>FR-R92R-62</td><td>485</td></tr><tr><td>718</td><td>HL Road Frame - Red, 44</td><td>FR-R92R-44</td><td>486</td></tr><tr><td>719</td><td>HL Road Frame - Red, 48</td><td>FR-R92R-48</td><td>109</td></tr><tr><td>720</td><td>HL Road Frame - Red, 52</td><td>FR-R92R-52</td><td>NULL</td></tr><tr><td>721</td><td>HL Road Frame - Red, 56</td><td>FR-R92R-56</td><td>NULL</td></tr><tr><td>722</td><td>LL Road Frame - Black, 58</td><td>FR-R38B-58</td><td>940</td></tr><tr><td>723</td><td>LL Road Frame - Black, 60</td><td>FR-R38B-60</td><td>129</td></tr><tr><td>724</td><td>LL Road Frame - Black, 62</td><td>FR-R38B-62</td><td>NULL</td></tr><tr><td>725</td><td>LL Road Frame - Red, 44</td><td>FR-R38R-44</td><td>991</td></tr><tr><td>726</td><td>LL Road Frame - Red, 48</td><td>FR-R38R-48</td><td>671</td></tr><tr><td>727</td><td>LL Road Frame - Red, 52</td><td>FR-R38R-52</td><td>100</td></tr><tr><td>728</td><td>LL Road Frame - Red, 58</td><td>FR-R38R-58</td><td>NULL</td></tr><tr><td>729</td><td>LL Road Frame - Red, 60</td><td>FR-R38R-60</td><td>996</td></tr><tr><td>730</td><td>LL Road Frame - Red, 62</td><td>FR-R38R-62</td><td>697</td></tr><tr><td>731</td><td>ML Road Frame - Red, 44</td><td>FR-R72R-44</td><td>NULL</td></tr><tr><td>732</td><td>ML Road Frame - Red, 48</td><td>FR-R72R-48</td><td>250</td></tr><tr><td>733</td><td>ML Road Frame - Red, 52</td><td>FR-R72R-52</td><td>90</td></tr><tr><td>734</td><td>ML Road Frame - Red, 58</td><td>FR-R72R-58</td><td>NULL</td></tr><tr><td>735</td><td>ML Road Frame - Red, 60</td><td>FR-R72R-60</td><td>NULL</td></tr><tr><td>736</td><td>LL Road Frame - Black, 44</td><td>FR-R38B-44</td><td>238</td></tr><tr><td>737</td><td>LL Road Frame - Black, 48</td><td>FR-R38B-48</td><td>NULL</td></tr><tr><td>738</td><td>LL Road Frame - Black, 52</td><td>FR-R38B-52</td><td>1581</td></tr><tr><td>739</td><td>HL Mountain Frame - Silver, 42</td><td>FR-M94S-42</td><td>347</td></tr><tr><td>740</td><td>HL Mountain Frame - Silver, 44</td><td>FR-M94S-44</td><td>NULL</td></tr><tr><td>741</td><td>HL Mountain Frame - Silver, 48</td><td>FR-M94S-52</td><td>173</td></tr><tr><td>742</td><td>HL Mountain Frame - Silver, 46</td><td>FR-M94S-46</td><td>649</td></tr><tr><td>743</td><td>HL Mountain Frame - Black, 42</td><td>FR-M94B-42</td><td>1181</td></tr><tr><td>744</td><td>HL Mountain Frame - Black, 44</td><td>FR-M94B-44</td><td>17</td></tr><tr><td>745</td><td>HL Mountain Frame - Black, 48</td><td>FR-M94B-48</td><td>131</td></tr><tr><td>746</td><td>HL Mountain Frame - Black, 46</td><td>FR-M94B-46</td><td>NULL</td></tr><tr><td>747</td><td>HL Mountain Frame - Black, 38</td><td>FR-M94B-38</td><td>659</td></tr><tr><td>748</td><td>HL Mountain Frame - Silver, 38</td><td>FR-M94S-38</td><td>1206</td></tr><tr><td>749</td><td>Road-150 Red, 62</td><td>BK-R93R-62</td><td>600</td></tr><tr><td>750</td><td>Road-150 Red, 44</td><td>BK-R93R-44</td><td>437</td></tr><tr><td>751</td><td>Road-150 Red, 48</td><td>BK-R93R-48</td><td>493</td></tr><tr><td>752</td><td>Road-150 Red, 52</td><td>BK-R93R-52</td><td>458</td></tr><tr><td>753</td><td>Road-150 Red, 56</td><td>BK-R93R-56</td><td>664</td></tr><tr><td>754</td><td>Road-450 Red, 58</td><td>BK-R68R-58</td><td>582</td></tr><tr><td>755</td><td>Road-450 Red, 60</td><td>BK-R68R-60</td><td>350</td></tr><tr><td>756</td><td>Road-450 Red, 44</td><td>BK-R68R-44</td><td>346</td></tr><tr><td>757</td><td>Road-450 Red, 48</td><td>BK-R68R-48</td><td>156</td></tr><tr><td>758</td><td>Road-450 Red, 52</td><td>BK-R68R-52</td><td>710</td></tr><tr><td>759</td><td>Road-650 Red, 58</td><td>BK-R50R-58</td><td>618</td></tr><tr><td>760</td><td>Road-650 Red, 60</td><td>BK-R50R-60</td><td>2232</td></tr><tr><td>761</td><td>Road-650 Red, 62</td><td>BK-R50R-62</td><td>1896</td></tr><tr><td>762</td><td>Road-650 Red, 44</td><td>BK-R50R-44</td><td>2254</td></tr><tr><td>763</td><td>Road-650 Red, 48</td><td>BK-R50R-48</td><td>1888</td></tr><tr><td>764</td><td>Road-650 Red, 52</td><td>BK-R50R-52</td><td>1112</td></tr><tr><td>765</td><td>Road-650 Black, 58</td><td>BK-R50B-58</td><td>1871</td></tr><tr><td>766</td><td>Road-650 Black, 60</td><td>BK-R50B-60</td><td>1100</td></tr><tr><td>767</td><td>Road-650 Black, 62</td><td>BK-R50B-62</td><td>644</td></tr><tr><td>768</td><td>Road-650 Black, 44</td><td>BK-R50B-44</td><td>1080</td></tr><tr><td>769</td><td>Road-650 Black, 48</td><td>BK-R50B-48</td><td>644</td></tr><tr><td>770</td><td>Road-650 Black, 52</td><td>BK-R50B-52</td><td>2270</td></tr><tr><td>771</td><td>Mountain-100 Silver, 38</td><td>BK-M82S-38</td><td>642</td></tr><tr><td>772</td><td>Mountain-100 Silver, 42</td><td>BK-M82S-42</td><td>593</td></tr><tr><td>773</td><td>Mountain-100 Silver, 44</td><td>BK-M82S-44</td><td>601</td></tr><tr><td>774</td><td>Mountain-100 Silver, 48</td><td>BK-M82S-48</td><td>505</td></tr><tr><td>775</td><td>Mountain-100 Black, 38</td><td>BK-M82B-38</td><td>682</td></tr><tr><td>776</td><td>Mountain-100 Black, 42</td><td>BK-M82B-42</td><td>634</td></tr><tr><td>777</td><td>Mountain-100 Black, 44</td><td>BK-M82B-44</td><td>678</td></tr><tr><td>778</td><td>Mountain-100 Black, 48</td><td>BK-M82B-48</td><td>616</td></tr><tr><td>779</td><td>Mountain-200 Silver, 38</td><td>BK-M68S-38</td><td>2394</td></tr><tr><td>780</td><td>Mountain-200 Silver, 42</td><td>BK-M68S-42</td><td>2234</td></tr><tr><td>781</td><td>Mountain-200 Silver, 46</td><td>BK-M68S-46</td><td>2216</td></tr><tr><td>782</td><td>Mountain-200 Black, 38</td><td>BK-M68B-38</td><td>2977</td></tr><tr><td>783</td><td>Mountain-200 Black, 42</td><td>BK-M68B-42</td><td>2664</td></tr><tr><td>784</td><td>Mountain-200 Black, 46</td><td>BK-M68B-46</td><td>2111</td></tr><tr><td>785</td><td>Mountain-300 Black, 38</td><td>BK-M47B-38</td><td>684</td></tr><tr><td>786</td><td>Mountain-300 Black, 40</td><td>BK-M47B-40</td><td>776</td></tr><tr><td>787</td><td>Mountain-300 Black, 44</td><td>BK-M47B-44</td><td>747</td></tr><tr><td>788</td><td>Mountain-300 Black, 48</td><td>BK-M47B-48</td><td>740</td></tr><tr><td>789</td><td>Road-250 Red, 44</td><td>BK-R89R-44</td><td>895</td></tr><tr><td>790</td><td>Road-250 Red, 48</td><td>BK-R89R-48</td><td>812</td></tr><tr><td>791</td><td>Road-250 Red, 52</td><td>BK-R89R-52</td><td>639</td></tr><tr><td>792</td><td>Road-250 Red, 58</td><td>BK-R89R-58</td><td>946</td></tr><tr><td>793</td><td>Road-250 Black, 44</td><td>BK-R89B-44</td><td>1642</td></tr><tr><td>794</td><td>Road-250 Black, 48</td><td>BK-R89B-48</td><td>1498</td></tr><tr><td>795</td><td>Road-250 Black, 52</td><td>BK-R89B-52</td><td>1245</td></tr><tr><td>796</td><td>Road-250 Black, 58</td><td>BK-R89B-58</td><td>910</td></tr><tr><td>797</td><td>Road-550-W Yellow, 38</td><td>BK-R64Y-38</td><td>1744</td></tr><tr><td>798</td><td>Road-550-W Yellow, 40</td><td>BK-R64Y-40</td><td>1500</td></tr><tr><td>799</td><td>Road-550-W Yellow, 42</td><td>BK-R64Y-42</td><td>1249</td></tr><tr><td>800</td><td>Road-550-W Yellow, 44</td><td>BK-R64Y-44</td><td>927</td></tr><tr><td>801</td><td>Road-550-W Yellow, 48</td><td>BK-R64Y-48</td><td>1763</td></tr><tr><td>802</td><td>LL Fork</td><td>FK-1639</td><td>190</td></tr><tr><td>803</td><td>ML Fork</td><td>FK-5136</td><td>NULL</td></tr><tr><td>804</td><td>HL Fork</td><td>FK-9939</td><td>444</td></tr><tr><td>805</td><td>LL Headset</td><td>HS-0296</td><td>95</td></tr><tr><td>806</td><td>ML Headset</td><td>HS-2451</td><td>659</td></tr><tr><td>807</td><td>HL Headset</td><td>HS-3479</td><td>255</td></tr><tr><td>808</td><td>LL Mountain Handlebars</td><td>HB-M243</td><td>865</td></tr><tr><td>809</td><td>ML Mountain Handlebars</td><td>HB-M763</td><td>1465</td></tr><tr><td>810</td><td>HL Mountain Handlebars</td><td>HB-M918</td><td>500</td></tr><tr><td>811</td><td>LL Road Handlebars</td><td>HB-R504</td><td>213</td></tr><tr><td>812</td><td>ML Road Handlebars</td><td>HB-R720</td><td>NULL</td></tr><tr><td>813</td><td>HL Road Handlebars</td><td>HB-R956</td><td>631</td></tr><tr><td>814</td><td>ML Mountain Frame - Black, 38</td><td>FR-M63B-38</td><td>514</td></tr><tr><td>815</td><td>LL Mountain Front Wheel</td><td>FW-M423</td><td>617</td></tr><tr><td>816</td><td>ML Mountain Front Wheel</td><td>FW-M762</td><td>266</td></tr><tr><td>817</td><td>HL Mountain Front Wheel</td><td>FW-M928</td><td>222</td></tr><tr><td>818</td><td>LL Road Front Wheel</td><td>FW-R623</td><td>NULL</td></tr><tr><td>819</td><td>ML Road Front Wheel</td><td>FW-R762</td><td>532</td></tr><tr><td>820</td><td>HL Road Front Wheel</td><td>FW-R820</td><td>567</td></tr><tr><td>821</td><td>Touring Front Wheel</td><td>FW-T905</td><td>NULL</td></tr><tr><td>822</td><td>ML Road Frame-W - Yellow, 38</td><td>FR-R72Y-38</td><td>895</td></tr><tr><td>823</td><td>LL Mountain Rear Wheel</td><td>RW-M423</td><td>342</td></tr><tr><td>824</td><td>ML Mountain Rear Wheel</td><td>RW-M762</td><td>851</td></tr><tr><td>825</td><td>HL Mountain Rear Wheel</td><td>RW-M928</td><td>850</td></tr><tr><td>826</td><td>LL Road Rear Wheel</td><td>RW-R623</td><td>868</td></tr><tr><td>827</td><td>ML Road Rear Wheel</td><td>RW-R762</td><td>64</td></tr><tr><td>828</td><td>HL Road Rear Wheel</td><td>RW-R820</td><td>94</td></tr><tr><td>829</td><td>Touring Rear Wheel</td><td>RW-T905</td><td>NULL</td></tr><tr><td>830</td><td>ML Mountain Frame - Black, 40</td><td>FR-M63B-40</td><td>68</td></tr><tr><td>831</td><td>ML Mountain Frame - Black, 44</td><td>FR-M63B-44</td><td>619</td></tr><tr><td>832</td><td>ML Mountain Frame - Black, 48</td><td>FR-M63B-48</td><td>959</td></tr><tr><td>833</td><td>ML Road Frame-W - Yellow, 40</td><td>FR-R72Y-40</td><td>203</td></tr><tr><td>834</td><td>ML Road Frame-W - Yellow, 42</td><td>FR-R72Y-42</td><td>NULL</td></tr><tr><td>835</td><td>ML Road Frame-W - Yellow, 44</td><td>FR-R72Y-44</td><td>1435</td></tr><tr><td>836</td><td>ML Road Frame-W - Yellow, 48</td><td>FR-R72Y-48</td><td>889</td></tr><tr><td>837</td><td>HL Road Frame - Black, 62</td><td>FR-R92B-62</td><td>NULL</td></tr><tr><td>838</td><td>HL Road Frame - Black, 44</td><td>FR-R92B-44</td><td>459</td></tr><tr><td>839</td><td>HL Road Frame - Black, 48</td><td>FR-R92B-48</td><td>109</td></tr><tr><td>840</td><td>HL Road Frame - Black, 52</td><td>FR-R92B-52</td><td>NULL</td></tr><tr><td>841</td><td>Men's Sports Shorts, S</td><td>SH-M897-S</td><td>567</td></tr><tr><td>842</td><td>Touring-Panniers, Large</td><td>PA-T100</td><td>NULL</td></tr><tr><td>843</td><td>Cable Lock</td><td>LO-C100</td><td>1087</td></tr><tr><td>844</td><td>Minipump</td><td>PU-0452</td><td>1130</td></tr><tr><td>845</td><td>Mountain Pump</td><td>PU-M044</td><td>NULL</td></tr><tr><td>846</td><td>Taillights - Battery-Powered</td><td>LT-T990</td><td>NULL</td></tr><tr><td>847</td><td>Headlights - Dual-Beam</td><td>LT-H902</td><td>NULL</td></tr><tr><td>848</td><td>Headlights - Weatherproof</td><td>LT-H903</td><td>NULL</td></tr><tr><td>849</td><td>Men's Sports Shorts, M</td><td>SH-M897-M</td><td>1276</td></tr><tr><td>850</td><td>Men's Sports Shorts, L</td><td>SH-M897-L</td><td>445</td></tr><tr><td>851</td><td>Men's Sports Shorts, XL</td><td>SH-M897-X</td><td>NULL</td></tr><tr><td>852</td><td>Women's Tights, S</td><td>TG-W091-S</td><td>2072</td></tr><tr><td>853</td><td>Women's Tights, M</td><td>TG-W091-M</td><td>394</td></tr><tr><td>854</td><td>Women's Tights, L</td><td>TG-W091-L</td><td>2123</td></tr><tr><td>855</td><td>Men's Bib-Shorts, S</td><td>SB-M891-S</td><td>876</td></tr><tr><td>856</td><td>Men's Bib-Shorts, M</td><td>SB-M891-M</td><td>1616</td></tr><tr><td>857</td><td>Men's Bib-Shorts, L</td><td>SB-M891-L</td><td>633</td></tr><tr><td>858</td><td>Half-Finger Gloves, S</td><td>GL-H102-S</td><td>2188</td></tr><tr><td>859</td><td>Half-Finger Gloves, M</td><td>GL-H102-M</td><td>3464</td></tr><tr><td>860</td><td>Half-Finger Gloves, L</td><td>GL-H102-L</td><td>1276</td></tr><tr><td>861</td><td>Full-Finger Gloves, S</td><td>GL-F110-S</td><td>500</td></tr><tr><td>862</td><td>Full-Finger Gloves, M</td><td>GL-F110-M</td><td>2206</td></tr><tr><td>863</td><td>Full-Finger Gloves, L</td><td>GL-F110-L</td><td>3378</td></tr><tr><td>864</td><td>Classic Vest, S</td><td>VE-C304-S</td><td>4247</td></tr><tr><td>865</td><td>Classic Vest, M</td><td>VE-C304-M</td><td>2284</td></tr><tr><td>866</td><td>Classic Vest, L</td><td>VE-C304-L</td><td>207</td></tr><tr><td>867</td><td>Women's Mountain Shorts, S</td><td>SH-W890-S</td><td>3296</td></tr><tr><td>868</td><td>Women's Mountain Shorts, M</td><td>SH-W890-M</td><td>1139</td></tr><tr><td>869</td><td>Women's Mountain Shorts, L</td><td>SH-W890-L</td><td>3244</td></tr><tr><td>870</td><td>Water Bottle - 30 oz.</td><td>WB-H098</td><td>6815</td></tr><tr><td>871</td><td>Mountain Bottle Cage</td><td>BC-M005</td><td>2025</td></tr><tr><td>872</td><td>Road Bottle Cage</td><td>BC-R205</td><td>1712</td></tr><tr><td>873</td><td>Patch Kit/8 Patches</td><td>PK-7098</td><td>3865</td></tr><tr><td>874</td><td>Racing Socks, M</td><td>SO-R809-M</td><td>1547</td></tr><tr><td>875</td><td>Racing Socks, L</td><td>SO-R809-L</td><td>2473</td></tr><tr><td>876</td><td>Hitch Rack - 4-Bike</td><td>RA-H123</td><td>3166</td></tr><tr><td>877</td><td>Bike Wash - Dissolver</td><td>CL-9009</td><td>3319</td></tr><tr><td>878</td><td>Fender Set - Mountain</td><td>FE-6654</td><td>2121</td></tr><tr><td>879</td><td>All-Purpose Bike Stand</td><td>ST-1401</td><td>249</td></tr><tr><td>880</td><td>Hydration Pack - 70 oz.</td><td>HY-1023-70</td><td>2761</td></tr><tr><td>881</td><td>Short-Sleeve Classic Jersey, S</td><td>SJ-0194-S</td><td>1955</td></tr><tr><td>882</td><td>Short-Sleeve Classic Jersey, M</td><td>SJ-0194-M</td><td>407</td></tr><tr><td>883</td><td>Short-Sleeve Classic Jersey, L</td><td>SJ-0194-L</td><td>2848</td></tr><tr><td>884</td><td>Short-Sleeve Classic Jersey, XL</td><td>SJ-0194-X</td><td>3864</td></tr><tr><td>885</td><td>HL Touring Frame - Yellow, 60</td><td>FR-T98Y-60</td><td>387</td></tr><tr><td>886</td><td>LL Touring Frame - Yellow, 62</td><td>FR-T67Y-62</td><td>348</td></tr><tr><td>887</td><td>HL Touring Frame - Yellow, 46</td><td>FR-T98Y-46</td><td>87</td></tr><tr><td>888</td><td>HL Touring Frame - Yellow, 50</td><td>FR-T98Y-50</td><td>83</td></tr><tr><td>889</td><td>HL Touring Frame - Yellow, 54</td><td>FR-T98Y-54</td><td>540</td></tr><tr><td>890</td><td>HL Touring Frame - Blue, 46</td><td>FR-T98U-46</td><td>114</td></tr><tr><td>891</td><td>HL Touring Frame - Blue, 50</td><td>FR-T98U-50</td><td>124</td></tr><tr><td>892</td><td>HL Touring Frame - Blue, 54</td><td>FR-T98U-54</td><td>542</td></tr><tr><td>893</td><td>HL Touring Frame - Blue, 60</td><td>FR-T98U-60</td><td>371</td></tr><tr><td>894</td><td>Rear Derailleur</td><td>RD-2308</td><td>353</td></tr><tr><td>895</td><td>LL Touring Frame - Blue, 50</td><td>FR-T67U-50</td><td>316</td></tr><tr><td>896</td><td>LL Touring Frame - Blue, 54</td><td>FR-T67U-54</td><td>211</td></tr><tr><td>897</td><td>LL Touring Frame - Blue, 58</td><td>FR-T67U-58</td><td>4</td></tr><tr><td>898</td><td>LL Touring Frame - Blue, 62</td><td>FR-T67U-62</td><td>15</td></tr><tr><td>899</td><td>LL Touring Frame - Yellow, 44</td><td>FR-T67Y-44</td><td>294</td></tr><tr><td>900</td><td>LL Touring Frame - Yellow, 50</td><td>FR-T67Y-50</td><td>228</td></tr><tr><td>901</td><td>LL Touring Frame - Yellow, 54</td><td>FR-T67Y-54</td><td>NULL</td></tr><tr><td>902</td><td>LL Touring Frame - Yellow, 58</td><td>FR-T67Y-58</td><td>36</td></tr><tr><td>903</td><td>LL Touring Frame - Blue, 44</td><td>FR-T67U-44</td><td>25</td></tr><tr><td>904</td><td>ML Mountain Frame-W - Silver, 40</td><td>FR-M63S-40</td><td>899</td></tr><tr><td>905</td><td>ML Mountain Frame-W - Silver, 42</td><td>FR-M63S-42</td><td>627</td></tr><tr><td>906</td><td>ML Mountain Frame-W - Silver, 46</td><td>FR-M63S-46</td><td>188</td></tr><tr><td>907</td><td>Rear Brakes</td><td>RB-9231</td><td>246</td></tr><tr><td>908</td><td>LL Mountain Seat/Saddle</td><td>SE-M236</td><td>347</td></tr><tr><td>909</td><td>ML Mountain Seat/Saddle</td><td>SE-M798</td><td>534</td></tr><tr><td>910</td><td>HL Mountain Seat/Saddle</td><td>SE-M940</td><td>519</td></tr><tr><td>911</td><td>LL Road Seat/Saddle</td><td>SE-R581</td><td>10</td></tr><tr><td>912</td><td>ML Road Seat/Saddle</td><td>SE-R908</td><td>NULL</td></tr><tr><td>913</td><td>HL Road Seat/Saddle</td><td>SE-R995</td><td>134</td></tr><tr><td>914</td><td>LL Touring Seat/Saddle</td><td>SE-T312</td><td>91</td></tr><tr><td>915</td><td>ML Touring Seat/Saddle</td><td>SE-T762</td><td>84</td></tr><tr><td>916</td><td>HL Touring Seat/Saddle</td><td>SE-T924</td><td>426</td></tr><tr><td>917</td><td>LL Mountain Frame - Silver, 42</td><td>FR-M21S-42</td><td>638</td></tr><tr><td>918</td><td>LL Mountain Frame - Silver, 44</td><td>FR-M21S-44</td><td>371</td></tr><tr><td>919</td><td>LL Mountain Frame - Silver, 48</td><td>FR-M21S-48</td><td>44</td></tr><tr><td>920</td><td>LL Mountain Frame - Silver, 52</td><td>FR-M21S-52</td><td>425</td></tr><tr><td>921</td><td>Mountain Tire Tube</td><td>TT-M928</td><td>3095</td></tr><tr><td>922</td><td>Road Tire Tube</td><td>TT-R982</td><td>2376</td></tr><tr><td>923</td><td>Touring Tire Tube</td><td>TT-T092</td><td>1488</td></tr><tr><td>924</td><td>LL Mountain Frame - Black, 42</td><td>FR-M21B-42</td><td>423</td></tr><tr><td>925</td><td>LL Mountain Frame - Black, 44</td><td>FR-M21B-44</td><td>625</td></tr><tr><td>926</td><td>LL Mountain Frame - Black, 48</td><td>FR-M21B-48</td><td>386</td></tr><tr><td>927</td><td>LL Mountain Frame - Black, 52</td><td>FR-M21B-52</td><td>15</td></tr><tr><td>928</td><td>LL Mountain Tire</td><td>TI-M267</td><td>862</td></tr><tr><td>929</td><td>ML Mountain Tire</td><td>TI-M602</td><td>1161</td></tr><tr><td>930</td><td>HL Mountain Tire</td><td>TI-M823</td><td>1396</td></tr><tr><td>931</td><td>LL Road Tire</td><td>TI-R092</td><td>1044</td></tr><tr><td>932</td><td>ML Road Tire</td><td>TI-R628</td><td>926</td></tr><tr><td>933</td><td>HL Road Tire</td><td>TI-R982</td><td>858</td></tr><tr><td>934</td><td>Touring Tire</td><td>TI-T723</td><td>935</td></tr><tr><td>935</td><td>LL Mountain Pedal</td><td>PD-M282</td><td>449</td></tr><tr><td>936</td><td>ML Mountain Pedal</td><td>PD-M340</td><td>345</td></tr><tr><td>937</td><td>HL Mountain Pedal</td><td>PD-M562</td><td>785</td></tr><tr><td>938</td><td>LL Road Pedal</td><td>PD-R347</td><td>868</td></tr><tr><td>939</td><td>ML Road Pedal</td><td>PD-R563</td><td>661</td></tr><tr><td>940</td><td>HL Road Pedal</td><td>PD-R853</td><td>676</td></tr><tr><td>941</td><td>Touring Pedal</td><td>PD-T852</td><td>147</td></tr><tr><td>942</td><td>ML Mountain Frame-W - Silver, 38</td><td>FR-M63S-38</td><td>7</td></tr><tr><td>943</td><td>LL Mountain Frame - Black, 40</td><td>FR-M21B-40</td><td>8</td></tr><tr><td>944</td><td>LL Mountain Frame - Silver, 40</td><td>FR-M21S-40</td><td>442</td></tr><tr><td>945</td><td>Front Derailleur</td><td>FD-2342</td><td>813</td></tr><tr><td>946</td><td>LL Touring Handlebars</td><td>HB-T721</td><td>56</td></tr><tr><td>947</td><td>HL Touring Handlebars</td><td>HB-T928</td><td>220</td></tr><tr><td>948</td><td>Front Brakes</td><td>FB-9873</td><td>789</td></tr><tr><td>949</td><td>LL Crankset</td><td>CS-4759</td><td>426</td></tr><tr><td>950</td><td>ML Crankset</td><td>CS-6583</td><td>68</td></tr><tr><td>951</td><td>HL Crankset</td><td>CS-9183</td><td>613</td></tr><tr><td>952</td><td>Chain</td><td>CH-0234</td><td>774</td></tr><tr><td>953</td><td>Touring-2000 Blue, 60</td><td>BK-T44U-60</td><td>820</td></tr><tr><td>954</td><td>Touring-1000 Yellow, 46</td><td>BK-T79Y-46</td><td>1005</td></tr><tr><td>955</td><td>Touring-1000 Yellow, 50</td><td>BK-T79Y-50</td><td>652</td></tr><tr><td>956</td><td>Touring-1000 Yellow, 54</td><td>BK-T79Y-54</td><td>397</td></tr><tr><td>957</td><td>Touring-1000 Yellow, 60</td><td>BK-T79Y-60</td><td>1114</td></tr><tr><td>958</td><td>Touring-3000 Blue, 54</td><td>BK-T18U-54</td><td>686</td></tr><tr><td>959</td><td>Touring-3000 Blue, 58</td><td>BK-T18U-58</td><td>482</td></tr><tr><td>960</td><td>Touring-3000 Blue, 62</td><td>BK-T18U-62</td><td>281</td></tr><tr><td>961</td><td>Touring-3000 Yellow, 44</td><td>BK-T18Y-44</td><td>851</td></tr><tr><td>962</td><td>Touring-3000 Yellow, 50</td><td>BK-T18Y-50</td><td>686</td></tr><tr><td>963</td><td>Touring-3000 Yellow, 54</td><td>BK-T18Y-54</td><td>453</td></tr><tr><td>964</td><td>Touring-3000 Yellow, 58</td><td>BK-T18Y-58</td><td>293</td></tr><tr><td>965</td><td>Touring-3000 Yellow, 62</td><td>BK-T18Y-62</td><td>844</td></tr><tr><td>966</td><td>Touring-1000 Blue, 46</td><td>BK-T79U-46</td><td>1002</td></tr><tr><td>967</td><td>Touring-1000 Blue, 50</td><td>BK-T79U-50</td><td>649</td></tr><tr><td>968</td><td>Touring-1000 Blue, 54</td><td>BK-T79U-54</td><td>413</td></tr><tr><td>969</td><td>Touring-1000 Blue, 60</td><td>BK-T79U-60</td><td>1120</td></tr><tr><td>970</td><td>Touring-2000 Blue, 46</td><td>BK-T44U-46</td><td>538</td></tr><tr><td>971</td><td>Touring-2000 Blue, 50</td><td>BK-T44U-50</td><td>322</td></tr><tr><td>972</td><td>Touring-2000 Blue, 54</td><td>BK-T44U-54</td><td>1010</td></tr><tr><td>973</td><td>Road-350-W Yellow, 40</td><td>BK-R79Y-40</td><td>1477</td></tr><tr><td>974</td><td>Road-350-W Yellow, 42</td><td>BK-R79Y-42</td><td>944</td></tr><tr><td>975</td><td>Road-350-W Yellow, 44</td><td>BK-R79Y-44</td><td>536</td></tr><tr><td>976</td><td>Road-350-W Yellow, 48</td><td>BK-R79Y-48</td><td>1622</td></tr><tr><td>977</td><td>Road-750 Black, 58</td><td>BK-R19B-58</td><td>892</td></tr><tr><td>978</td><td>Touring-3000 Blue, 44</td><td>BK-T18U-44</td><td>292</td></tr><tr><td>979</td><td>Touring-3000 Blue, 50</td><td>BK-T18U-50</td><td>841</td></tr><tr><td>980</td><td>Mountain-400-W Silver, 38</td><td>BK-M38S-38</td><td>425</td></tr><tr><td>981</td><td>Mountain-400-W Silver, 40</td><td>BK-M38S-40</td><td>617</td></tr><tr><td>982</td><td>Mountain-400-W Silver, 42</td><td>BK-M38S-42</td><td>385</td></tr><tr><td>983</td><td>Mountain-400-W Silver, 46</td><td>BK-M38S-46</td><td>401</td></tr><tr><td>984</td><td>Mountain-500 Silver, 40</td><td>BK-M18S-40</td><td>450</td></tr><tr><td>985</td><td>Mountain-500 Silver, 42</td><td>BK-M18S-42</td><td>455</td></tr><tr><td>986</td><td>Mountain-500 Silver, 44</td><td>BK-M18S-44</td><td>381</td></tr><tr><td>987</td><td>Mountain-500 Silver, 48</td><td>BK-M18S-48</td><td>457</td></tr><tr><td>988</td><td>Mountain-500 Silver, 52</td><td>BK-M18S-52</td><td>515</td></tr><tr><td>989</td><td>Mountain-500 Black, 40</td><td>BK-M18B-40</td><td>282</td></tr><tr><td>990</td><td>Mountain-500 Black, 42</td><td>BK-M18B-42</td><td>388</td></tr><tr><td>991</td><td>Mountain-500 Black, 44</td><td>BK-M18B-44</td><td>350</td></tr><tr><td>992</td><td>Mountain-500 Black, 48</td><td>BK-M18B-48</td><td>449</td></tr><tr><td>993</td><td>Mountain-500 Black, 52</td><td>BK-M18B-52</td><td>272</td></tr><tr><td>994</td><td>LL Bottom Bracket</td><td>BB-7421</td><td>378</td></tr><tr><td>995</td><td>ML Bottom Bracket</td><td>BB-8107</td><td>NULL</td></tr><tr><td>996</td><td>HL Bottom Bracket</td><td>BB-9108</td><td>543</td></tr><tr><td>997</td><td>Road-750 Black, 44</td><td>BK-R19B-44</td><td>656</td></tr><tr><td>998</td><td>Road-750 Black, 48</td><td>BK-R19B-48</td><td>1556</td></tr><tr><td>999</td><td>Road-750 Black, 52</td><td>BK-R19B-52</td><td>1338</td></tr></table>"
                    },
                    "metadata": {}
                }
            ],
            "execution_count": 6
        },
        {
            "cell_type": "markdown",
            "source": "## Using OUTER APPLY the results set returns all the records from the left hand table.  That can be seen from the fact we have 295 records returned by the query in Figure 4.  Also it's worthwhile noting that for ProductID’s 680 and 706, the field [TotalOrdered] returns NULL, since these products have never been sold.\r\n\r\n## **Now we have finished introducing the APPLY keyword let's look at some other uses.  Whilst the APPLY keyword was intended to be used with Table Valued Functions.  There are a number of other ways to use the APPLY word.**\r\n***\r\n",
            "metadata": {}
        },
        {
            "cell_type": "markdown",
            "source": "# Calling scalar functions",
            "metadata": {}
        },
        {
            "cell_type": "markdown",
            "source": "![sad panda](./Figure5.jpg \"Figure 5 - Using a CROSS APPLY to call the function [ufnGetStock]\")</br>\r\nFigure 5 - Using a CROSS APPLY to call the function [ufnGetStock]",
            "metadata": {}
        },
        {
            "cell_type": "code",
            "source": "/*Method 1 - Inline function call*/\r\n\r\nSELECT [P].[ProductID],\r\n       [P].[Name],\r\n       [P].[ProductNumber],\r\n\t   [dbo].[ufnGetStock]([P].[ProductID]) AS [StockLevel]\r\nFROM [Production].[Product] AS [P]\r\nWHERE [P].[FinishedGoodsFlag] = 1;\r\n\r\n/*Method 2 - Call function using cross apply*/\r\n\r\nSELECT [P].[ProductID],\r\n       [P].[Name],\r\n       [P].[ProductNumber],\r\n\t   [Stock].[Level]\r\nFROM [Production].[Product] AS [P]\r\nCROSS APPLY \r\n(SELECT [dbo].[ufnGetStock]([P].[ProductID]) AS [Level]) AS [Stock]\r\nWHERE [P].[FinishedGoodsFlag] = 1;\r\n",
            "metadata": {},
            "outputs": [
                {
                    "output_type": "display_data",
                    "data": {
                        "text/html": "(295 rows affected)"
                    },
                    "metadata": {}
                },
                {
                    "output_type": "display_data",
                    "data": {
                        "text/html": "(295 rows affected)"
                    },
                    "metadata": {}
                },
                {
                    "output_type": "display_data",
                    "data": {
                        "text/html": "Total execution time: 00:00:00.079"
                    },
                    "metadata": {}
                },
                {
                    "output_type": "execute_result",
                    "execution_count": 7,
                    "data": {
                        "application/vnd.dataresource+json": {
                            "schema": {
                                "fields": [
                                    {
                                        "name": "ProductID"
                                    },
                                    {
                                        "name": "Name"
                                    },
                                    {
                                        "name": "ProductNumber"
                                    },
                                    {
                                        "name": "StockLevel"
                                    }
                                ]
                            },
                            "data": [
                                {
                                    "0": "680",
                                    "1": "HL Road Frame - Black, 58",
                                    "2": "FR-R92B-58",
                                    "3": "0"
                                },
                                {
                                    "0": "706",
                                    "1": "HL Road Frame - Red, 58",
                                    "2": "FR-R92R-58",
                                    "3": "0"
                                },
                                {
                                    "0": "707",
                                    "1": "Sport-100 Helmet, Red",
                                    "2": "HL-U509-R",
                                    "3": "0"
                                },
                                {
                                    "0": "708",
                                    "1": "Sport-100 Helmet, Black",
                                    "2": "HL-U509",
                                    "3": "0"
                                },
                                {
                                    "0": "709",
                                    "1": "Mountain Bike Socks, M",
                                    "2": "SO-B909-M",
                                    "3": "0"
                                },
                                {
                                    "0": "710",
                                    "1": "Mountain Bike Socks, L",
                                    "2": "SO-B909-L",
                                    "3": "0"
                                },
                                {
                                    "0": "711",
                                    "1": "Sport-100 Helmet, Blue",
                                    "2": "HL-U509-B",
                                    "3": "0"
                                },
                                {
                                    "0": "712",
                                    "1": "AWC Logo Cap",
                                    "2": "CA-1098",
                                    "3": "0"
                                },
                                {
                                    "0": "713",
                                    "1": "Long-Sleeve Logo Jersey, S",
                                    "2": "LJ-0192-S",
                                    "3": "0"
                                },
                                {
                                    "0": "714",
                                    "1": "Long-Sleeve Logo Jersey, M",
                                    "2": "LJ-0192-M",
                                    "3": "0"
                                },
                                {
                                    "0": "715",
                                    "1": "Long-Sleeve Logo Jersey, L",
                                    "2": "LJ-0192-L",
                                    "3": "0"
                                },
                                {
                                    "0": "716",
                                    "1": "Long-Sleeve Logo Jersey, XL",
                                    "2": "LJ-0192-X",
                                    "3": "0"
                                },
                                {
                                    "0": "717",
                                    "1": "HL Road Frame - Red, 62",
                                    "2": "FR-R92R-62",
                                    "3": "0"
                                },
                                {
                                    "0": "718",
                                    "1": "HL Road Frame - Red, 44",
                                    "2": "FR-R92R-44",
                                    "3": "0"
                                },
                                {
                                    "0": "719",
                                    "1": "HL Road Frame - Red, 48",
                                    "2": "FR-R92R-48",
                                    "3": "0"
                                },
                                {
                                    "0": "720",
                                    "1": "HL Road Frame - Red, 52",
                                    "2": "FR-R92R-52",
                                    "3": "0"
                                },
                                {
                                    "0": "721",
                                    "1": "HL Road Frame - Red, 56",
                                    "2": "FR-R92R-56",
                                    "3": "0"
                                },
                                {
                                    "0": "722",
                                    "1": "LL Road Frame - Black, 58",
                                    "2": "FR-R38B-58",
                                    "3": "0"
                                },
                                {
                                    "0": "723",
                                    "1": "LL Road Frame - Black, 60",
                                    "2": "FR-R38B-60",
                                    "3": "0"
                                },
                                {
                                    "0": "724",
                                    "1": "LL Road Frame - Black, 62",
                                    "2": "FR-R38B-62",
                                    "3": "0"
                                },
                                {
                                    "0": "725",
                                    "1": "LL Road Frame - Red, 44",
                                    "2": "FR-R38R-44",
                                    "3": "0"
                                },
                                {
                                    "0": "726",
                                    "1": "LL Road Frame - Red, 48",
                                    "2": "FR-R38R-48",
                                    "3": "0"
                                },
                                {
                                    "0": "727",
                                    "1": "LL Road Frame - Red, 52",
                                    "2": "FR-R38R-52",
                                    "3": "0"
                                },
                                {
                                    "0": "728",
                                    "1": "LL Road Frame - Red, 58",
                                    "2": "FR-R38R-58",
                                    "3": "0"
                                },
                                {
                                    "0": "729",
                                    "1": "LL Road Frame - Red, 60",
                                    "2": "FR-R38R-60",
                                    "3": "0"
                                },
                                {
                                    "0": "730",
                                    "1": "LL Road Frame - Red, 62",
                                    "2": "FR-R38R-62",
                                    "3": "0"
                                },
                                {
                                    "0": "731",
                                    "1": "ML Road Frame - Red, 44",
                                    "2": "FR-R72R-44",
                                    "3": "0"
                                },
                                {
                                    "0": "732",
                                    "1": "ML Road Frame - Red, 48",
                                    "2": "FR-R72R-48",
                                    "3": "0"
                                },
                                {
                                    "0": "733",
                                    "1": "ML Road Frame - Red, 52",
                                    "2": "FR-R72R-52",
                                    "3": "0"
                                },
                                {
                                    "0": "734",
                                    "1": "ML Road Frame - Red, 58",
                                    "2": "FR-R72R-58",
                                    "3": "0"
                                },
                                {
                                    "0": "735",
                                    "1": "ML Road Frame - Red, 60",
                                    "2": "FR-R72R-60",
                                    "3": "0"
                                },
                                {
                                    "0": "736",
                                    "1": "LL Road Frame - Black, 44",
                                    "2": "FR-R38B-44",
                                    "3": "0"
                                },
                                {
                                    "0": "737",
                                    "1": "LL Road Frame - Black, 48",
                                    "2": "FR-R38B-48",
                                    "3": "0"
                                },
                                {
                                    "0": "738",
                                    "1": "LL Road Frame - Black, 52",
                                    "2": "FR-R38B-52",
                                    "3": "0"
                                },
                                {
                                    "0": "739",
                                    "1": "HL Mountain Frame - Silver, 42",
                                    "2": "FR-M94S-42",
                                    "3": "0"
                                },
                                {
                                    "0": "740",
                                    "1": "HL Mountain Frame - Silver, 44",
                                    "2": "FR-M94S-44",
                                    "3": "0"
                                },
                                {
                                    "0": "741",
                                    "1": "HL Mountain Frame - Silver, 48",
                                    "2": "FR-M94S-52",
                                    "3": "0"
                                },
                                {
                                    "0": "742",
                                    "1": "HL Mountain Frame - Silver, 46",
                                    "2": "FR-M94S-46",
                                    "3": "0"
                                },
                                {
                                    "0": "743",
                                    "1": "HL Mountain Frame - Black, 42",
                                    "2": "FR-M94B-42",
                                    "3": "0"
                                },
                                {
                                    "0": "744",
                                    "1": "HL Mountain Frame - Black, 44",
                                    "2": "FR-M94B-44",
                                    "3": "0"
                                },
                                {
                                    "0": "745",
                                    "1": "HL Mountain Frame - Black, 48",
                                    "2": "FR-M94B-48",
                                    "3": "0"
                                },
                                {
                                    "0": "746",
                                    "1": "HL Mountain Frame - Black, 46",
                                    "2": "FR-M94B-46",
                                    "3": "0"
                                },
                                {
                                    "0": "747",
                                    "1": "HL Mountain Frame - Black, 38",
                                    "2": "FR-M94B-38",
                                    "3": "0"
                                },
                                {
                                    "0": "748",
                                    "1": "HL Mountain Frame - Silver, 38",
                                    "2": "FR-M94S-38",
                                    "3": "0"
                                },
                                {
                                    "0": "749",
                                    "1": "Road-150 Red, 62",
                                    "2": "BK-R93R-62",
                                    "3": "0"
                                },
                                {
                                    "0": "750",
                                    "1": "Road-150 Red, 44",
                                    "2": "BK-R93R-44",
                                    "3": "0"
                                },
                                {
                                    "0": "751",
                                    "1": "Road-150 Red, 48",
                                    "2": "BK-R93R-48",
                                    "3": "0"
                                },
                                {
                                    "0": "752",
                                    "1": "Road-150 Red, 52",
                                    "2": "BK-R93R-52",
                                    "3": "0"
                                },
                                {
                                    "0": "753",
                                    "1": "Road-150 Red, 56",
                                    "2": "BK-R93R-56",
                                    "3": "0"
                                },
                                {
                                    "0": "754",
                                    "1": "Road-450 Red, 58",
                                    "2": "BK-R68R-58",
                                    "3": "0"
                                },
                                {
                                    "0": "755",
                                    "1": "Road-450 Red, 60",
                                    "2": "BK-R68R-60",
                                    "3": "0"
                                },
                                {
                                    "0": "756",
                                    "1": "Road-450 Red, 44",
                                    "2": "BK-R68R-44",
                                    "3": "0"
                                },
                                {
                                    "0": "757",
                                    "1": "Road-450 Red, 48",
                                    "2": "BK-R68R-48",
                                    "3": "0"
                                },
                                {
                                    "0": "758",
                                    "1": "Road-450 Red, 52",
                                    "2": "BK-R68R-52",
                                    "3": "0"
                                },
                                {
                                    "0": "759",
                                    "1": "Road-650 Red, 58",
                                    "2": "BK-R50R-58",
                                    "3": "0"
                                },
                                {
                                    "0": "760",
                                    "1": "Road-650 Red, 60",
                                    "2": "BK-R50R-60",
                                    "3": "0"
                                },
                                {
                                    "0": "761",
                                    "1": "Road-650 Red, 62",
                                    "2": "BK-R50R-62",
                                    "3": "0"
                                },
                                {
                                    "0": "762",
                                    "1": "Road-650 Red, 44",
                                    "2": "BK-R50R-44",
                                    "3": "0"
                                },
                                {
                                    "0": "763",
                                    "1": "Road-650 Red, 48",
                                    "2": "BK-R50R-48",
                                    "3": "0"
                                },
                                {
                                    "0": "764",
                                    "1": "Road-650 Red, 52",
                                    "2": "BK-R50R-52",
                                    "3": "0"
                                },
                                {
                                    "0": "765",
                                    "1": "Road-650 Black, 58",
                                    "2": "BK-R50B-58",
                                    "3": "0"
                                },
                                {
                                    "0": "766",
                                    "1": "Road-650 Black, 60",
                                    "2": "BK-R50B-60",
                                    "3": "0"
                                },
                                {
                                    "0": "767",
                                    "1": "Road-650 Black, 62",
                                    "2": "BK-R50B-62",
                                    "3": "0"
                                },
                                {
                                    "0": "768",
                                    "1": "Road-650 Black, 44",
                                    "2": "BK-R50B-44",
                                    "3": "0"
                                },
                                {
                                    "0": "769",
                                    "1": "Road-650 Black, 48",
                                    "2": "BK-R50B-48",
                                    "3": "0"
                                },
                                {
                                    "0": "770",
                                    "1": "Road-650 Black, 52",
                                    "2": "BK-R50B-52",
                                    "3": "0"
                                },
                                {
                                    "0": "771",
                                    "1": "Mountain-100 Silver, 38",
                                    "2": "BK-M82S-38",
                                    "3": "0"
                                },
                                {
                                    "0": "772",
                                    "1": "Mountain-100 Silver, 42",
                                    "2": "BK-M82S-42",
                                    "3": "0"
                                },
                                {
                                    "0": "773",
                                    "1": "Mountain-100 Silver, 44",
                                    "2": "BK-M82S-44",
                                    "3": "0"
                                },
                                {
                                    "0": "774",
                                    "1": "Mountain-100 Silver, 48",
                                    "2": "BK-M82S-48",
                                    "3": "0"
                                },
                                {
                                    "0": "775",
                                    "1": "Mountain-100 Black, 38",
                                    "2": "BK-M82B-38",
                                    "3": "0"
                                },
                                {
                                    "0": "776",
                                    "1": "Mountain-100 Black, 42",
                                    "2": "BK-M82B-42",
                                    "3": "0"
                                },
                                {
                                    "0": "777",
                                    "1": "Mountain-100 Black, 44",
                                    "2": "BK-M82B-44",
                                    "3": "0"
                                },
                                {
                                    "0": "778",
                                    "1": "Mountain-100 Black, 48",
                                    "2": "BK-M82B-48",
                                    "3": "0"
                                },
                                {
                                    "0": "779",
                                    "1": "Mountain-200 Silver, 38",
                                    "2": "BK-M68S-38",
                                    "3": "0"
                                },
                                {
                                    "0": "780",
                                    "1": "Mountain-200 Silver, 42",
                                    "2": "BK-M68S-42",
                                    "3": "0"
                                },
                                {
                                    "0": "781",
                                    "1": "Mountain-200 Silver, 46",
                                    "2": "BK-M68S-46",
                                    "3": "0"
                                },
                                {
                                    "0": "782",
                                    "1": "Mountain-200 Black, 38",
                                    "2": "BK-M68B-38",
                                    "3": "0"
                                },
                                {
                                    "0": "783",
                                    "1": "Mountain-200 Black, 42",
                                    "2": "BK-M68B-42",
                                    "3": "0"
                                },
                                {
                                    "0": "784",
                                    "1": "Mountain-200 Black, 46",
                                    "2": "BK-M68B-46",
                                    "3": "0"
                                },
                                {
                                    "0": "785",
                                    "1": "Mountain-300 Black, 38",
                                    "2": "BK-M47B-38",
                                    "3": "0"
                                },
                                {
                                    "0": "786",
                                    "1": "Mountain-300 Black, 40",
                                    "2": "BK-M47B-40",
                                    "3": "0"
                                },
                                {
                                    "0": "787",
                                    "1": "Mountain-300 Black, 44",
                                    "2": "BK-M47B-44",
                                    "3": "0"
                                },
                                {
                                    "0": "788",
                                    "1": "Mountain-300 Black, 48",
                                    "2": "BK-M47B-48",
                                    "3": "0"
                                },
                                {
                                    "0": "789",
                                    "1": "Road-250 Red, 44",
                                    "2": "BK-R89R-44",
                                    "3": "0"
                                },
                                {
                                    "0": "790",
                                    "1": "Road-250 Red, 48",
                                    "2": "BK-R89R-48",
                                    "3": "0"
                                },
                                {
                                    "0": "791",
                                    "1": "Road-250 Red, 52",
                                    "2": "BK-R89R-52",
                                    "3": "0"
                                },
                                {
                                    "0": "792",
                                    "1": "Road-250 Red, 58",
                                    "2": "BK-R89R-58",
                                    "3": "0"
                                },
                                {
                                    "0": "793",
                                    "1": "Road-250 Black, 44",
                                    "2": "BK-R89B-44",
                                    "3": "0"
                                },
                                {
                                    "0": "794",
                                    "1": "Road-250 Black, 48",
                                    "2": "BK-R89B-48",
                                    "3": "0"
                                },
                                {
                                    "0": "795",
                                    "1": "Road-250 Black, 52",
                                    "2": "BK-R89B-52",
                                    "3": "0"
                                },
                                {
                                    "0": "796",
                                    "1": "Road-250 Black, 58",
                                    "2": "BK-R89B-58",
                                    "3": "0"
                                },
                                {
                                    "0": "797",
                                    "1": "Road-550-W Yellow, 38",
                                    "2": "BK-R64Y-38",
                                    "3": "0"
                                },
                                {
                                    "0": "798",
                                    "1": "Road-550-W Yellow, 40",
                                    "2": "BK-R64Y-40",
                                    "3": "0"
                                },
                                {
                                    "0": "799",
                                    "1": "Road-550-W Yellow, 42",
                                    "2": "BK-R64Y-42",
                                    "3": "0"
                                },
                                {
                                    "0": "800",
                                    "1": "Road-550-W Yellow, 44",
                                    "2": "BK-R64Y-44",
                                    "3": "0"
                                },
                                {
                                    "0": "801",
                                    "1": "Road-550-W Yellow, 48",
                                    "2": "BK-R64Y-48",
                                    "3": "0"
                                },
                                {
                                    "0": "802",
                                    "1": "LL Fork",
                                    "2": "FK-1639",
                                    "3": "0"
                                },
                                {
                                    "0": "803",
                                    "1": "ML Fork",
                                    "2": "FK-5136",
                                    "3": "0"
                                },
                                {
                                    "0": "804",
                                    "1": "HL Fork",
                                    "2": "FK-9939",
                                    "3": "0"
                                },
                                {
                                    "0": "805",
                                    "1": "LL Headset",
                                    "2": "HS-0296",
                                    "3": "265"
                                },
                                {
                                    "0": "806",
                                    "1": "ML Headset",
                                    "2": "HS-2451",
                                    "3": "268"
                                },
                                {
                                    "0": "807",
                                    "1": "HL Headset",
                                    "2": "HS-3479",
                                    "3": "272"
                                },
                                {
                                    "0": "808",
                                    "1": "LL Mountain Handlebars",
                                    "2": "HB-M243",
                                    "3": "0"
                                },
                                {
                                    "0": "809",
                                    "1": "ML Mountain Handlebars",
                                    "2": "HB-M763",
                                    "3": "0"
                                },
                                {
                                    "0": "810",
                                    "1": "HL Mountain Handlebars",
                                    "2": "HB-M918",
                                    "3": "0"
                                },
                                {
                                    "0": "811",
                                    "1": "LL Road Handlebars",
                                    "2": "HB-R504",
                                    "3": "0"
                                },
                                {
                                    "0": "812",
                                    "1": "ML Road Handlebars",
                                    "2": "HB-R720",
                                    "3": "0"
                                },
                                {
                                    "0": "813",
                                    "1": "HL Road Handlebars",
                                    "2": "HB-R956",
                                    "3": "0"
                                },
                                {
                                    "0": "814",
                                    "1": "ML Mountain Frame - Black, 38",
                                    "2": "FR-M63B-38",
                                    "3": "0"
                                },
                                {
                                    "0": "815",
                                    "1": "LL Mountain Front Wheel",
                                    "2": "FW-M423",
                                    "3": "0"
                                },
                                {
                                    "0": "816",
                                    "1": "ML Mountain Front Wheel",
                                    "2": "FW-M762",
                                    "3": "0"
                                },
                                {
                                    "0": "817",
                                    "1": "HL Mountain Front Wheel",
                                    "2": "FW-M928",
                                    "3": "0"
                                },
                                {
                                    "0": "818",
                                    "1": "LL Road Front Wheel",
                                    "2": "FW-R623",
                                    "3": "0"
                                },
                                {
                                    "0": "819",
                                    "1": "ML Road Front Wheel",
                                    "2": "FW-R762",
                                    "3": "0"
                                },
                                {
                                    "0": "820",
                                    "1": "HL Road Front Wheel",
                                    "2": "FW-R820",
                                    "3": "0"
                                },
                                {
                                    "0": "821",
                                    "1": "Touring Front Wheel",
                                    "2": "FW-T905",
                                    "3": "0"
                                },
                                {
                                    "0": "822",
                                    "1": "ML Road Frame-W - Yellow, 38",
                                    "2": "FR-R72Y-38",
                                    "3": "0"
                                },
                                {
                                    "0": "823",
                                    "1": "LL Mountain Rear Wheel",
                                    "2": "RW-M423",
                                    "3": "425"
                                },
                                {
                                    "0": "824",
                                    "1": "ML Mountain Rear Wheel",
                                    "2": "RW-M762",
                                    "3": "411"
                                },
                                {
                                    "0": "825",
                                    "1": "HL Mountain Rear Wheel",
                                    "2": "RW-M928",
                                    "3": "396"
                                },
                                {
                                    "0": "826",
                                    "1": "LL Road Rear Wheel",
                                    "2": "RW-R623",
                                    "3": "393"
                                },
                                {
                                    "0": "827",
                                    "1": "ML Road Rear Wheel",
                                    "2": "RW-R762",
                                    "3": "412"
                                },
                                {
                                    "0": "828",
                                    "1": "HL Road Rear Wheel",
                                    "2": "RW-R820",
                                    "3": "432"
                                },
                                {
                                    "0": "829",
                                    "1": "Touring Rear Wheel",
                                    "2": "RW-T905",
                                    "3": "265"
                                },
                                {
                                    "0": "830",
                                    "1": "ML Mountain Frame - Black, 40",
                                    "2": "FR-M63B-40",
                                    "3": "0"
                                },
                                {
                                    "0": "831",
                                    "1": "ML Mountain Frame - Black, 44",
                                    "2": "FR-M63B-44",
                                    "3": "0"
                                },
                                {
                                    "0": "832",
                                    "1": "ML Mountain Frame - Black, 48",
                                    "2": "FR-M63B-48",
                                    "3": "0"
                                },
                                {
                                    "0": "833",
                                    "1": "ML Road Frame-W - Yellow, 40",
                                    "2": "FR-R72Y-40",
                                    "3": "0"
                                },
                                {
                                    "0": "834",
                                    "1": "ML Road Frame-W - Yellow, 42",
                                    "2": "FR-R72Y-42",
                                    "3": "0"
                                },
                                {
                                    "0": "835",
                                    "1": "ML Road Frame-W - Yellow, 44",
                                    "2": "FR-R72Y-44",
                                    "3": "0"
                                },
                                {
                                    "0": "836",
                                    "1": "ML Road Frame-W - Yellow, 48",
                                    "2": "FR-R72Y-48",
                                    "3": "0"
                                },
                                {
                                    "0": "837",
                                    "1": "HL Road Frame - Black, 62",
                                    "2": "FR-R92B-62",
                                    "3": "0"
                                },
                                {
                                    "0": "838",
                                    "1": "HL Road Frame - Black, 44",
                                    "2": "FR-R92B-44",
                                    "3": "0"
                                },
                                {
                                    "0": "839",
                                    "1": "HL Road Frame - Black, 48",
                                    "2": "FR-R92B-48",
                                    "3": "0"
                                },
                                {
                                    "0": "840",
                                    "1": "HL Road Frame - Black, 52",
                                    "2": "FR-R92B-52",
                                    "3": "0"
                                },
                                {
                                    "0": "841",
                                    "1": "Men's Sports Shorts, S",
                                    "2": "SH-M897-S",
                                    "3": "0"
                                },
                                {
                                    "0": "842",
                                    "1": "Touring-Panniers, Large",
                                    "2": "PA-T100",
                                    "3": "0"
                                },
                                {
                                    "0": "843",
                                    "1": "Cable Lock",
                                    "2": "LO-C100",
                                    "3": "0"
                                },
                                {
                                    "0": "844",
                                    "1": "Minipump",
                                    "2": "PU-0452",
                                    "3": "0"
                                },
                                {
                                    "0": "845",
                                    "1": "Mountain Pump",
                                    "2": "PU-M044",
                                    "3": "0"
                                },
                                {
                                    "0": "846",
                                    "1": "Taillights - Battery-Powered",
                                    "2": "LT-T990",
                                    "3": "0"
                                },
                                {
                                    "0": "847",
                                    "1": "Headlights - Dual-Beam",
                                    "2": "LT-H902",
                                    "3": "0"
                                },
                                {
                                    "0": "848",
                                    "1": "Headlights - Weatherproof",
                                    "2": "LT-H903",
                                    "3": "0"
                                },
                                {
                                    "0": "849",
                                    "1": "Men's Sports Shorts, M",
                                    "2": "SH-M897-M",
                                    "3": "0"
                                },
                                {
                                    "0": "850",
                                    "1": "Men's Sports Shorts, L",
                                    "2": "SH-M897-L",
                                    "3": "0"
                                },
                                {
                                    "0": "851",
                                    "1": "Men's Sports Shorts, XL",
                                    "2": "SH-M897-X",
                                    "3": "0"
                                },
                                {
                                    "0": "852",
                                    "1": "Women's Tights, S",
                                    "2": "TG-W091-S",
                                    "3": "0"
                                },
                                {
                                    "0": "853",
                                    "1": "Women's Tights, M",
                                    "2": "TG-W091-M",
                                    "3": "0"
                                },
                                {
                                    "0": "854",
                                    "1": "Women's Tights, L",
                                    "2": "TG-W091-L",
                                    "3": "0"
                                },
                                {
                                    "0": "855",
                                    "1": "Men's Bib-Shorts, S",
                                    "2": "SB-M891-S",
                                    "3": "0"
                                },
                                {
                                    "0": "856",
                                    "1": "Men's Bib-Shorts, M",
                                    "2": "SB-M891-M",
                                    "3": "0"
                                },
                                {
                                    "0": "857",
                                    "1": "Men's Bib-Shorts, L",
                                    "2": "SB-M891-L",
                                    "3": "0"
                                },
                                {
                                    "0": "858",
                                    "1": "Half-Finger Gloves, S",
                                    "2": "GL-H102-S",
                                    "3": "0"
                                },
                                {
                                    "0": "859",
                                    "1": "Half-Finger Gloves, M",
                                    "2": "GL-H102-M",
                                    "3": "0"
                                },
                                {
                                    "0": "860",
                                    "1": "Half-Finger Gloves, L",
                                    "2": "GL-H102-L",
                                    "3": "0"
                                },
                                {
                                    "0": "861",
                                    "1": "Full-Finger Gloves, S",
                                    "2": "GL-F110-S",
                                    "3": "0"
                                },
                                {
                                    "0": "862",
                                    "1": "Full-Finger Gloves, M",
                                    "2": "GL-F110-M",
                                    "3": "0"
                                },
                                {
                                    "0": "863",
                                    "1": "Full-Finger Gloves, L",
                                    "2": "GL-F110-L",
                                    "3": "0"
                                },
                                {
                                    "0": "864",
                                    "1": "Classic Vest, S",
                                    "2": "VE-C304-S",
                                    "3": "0"
                                },
                                {
                                    "0": "865",
                                    "1": "Classic Vest, M",
                                    "2": "VE-C304-M",
                                    "3": "0"
                                },
                                {
                                    "0": "866",
                                    "1": "Classic Vest, L",
                                    "2": "VE-C304-L",
                                    "3": "0"
                                },
                                {
                                    "0": "867",
                                    "1": "Women's Mountain Shorts, S",
                                    "2": "SH-W890-S",
                                    "3": "0"
                                },
                                {
                                    "0": "868",
                                    "1": "Women's Mountain Shorts, M",
                                    "2": "SH-W890-M",
                                    "3": "0"
                                },
                                {
                                    "0": "869",
                                    "1": "Women's Mountain Shorts, L",
                                    "2": "SH-W890-L",
                                    "3": "0"
                                },
                                {
                                    "0": "870",
                                    "1": "Water Bottle - 30 oz.",
                                    "2": "WB-H098",
                                    "3": "0"
                                },
                                {
                                    "0": "871",
                                    "1": "Mountain Bottle Cage",
                                    "2": "BC-M005",
                                    "3": "0"
                                },
                                {
                                    "0": "872",
                                    "1": "Road Bottle Cage",
                                    "2": "BC-R205",
                                    "3": "0"
                                },
                                {
                                    "0": "873",
                                    "1": "Patch Kit/8 Patches",
                                    "2": "PK-7098",
                                    "3": "0"
                                },
                                {
                                    "0": "874",
                                    "1": "Racing Socks, M",
                                    "2": "SO-R809-M",
                                    "3": "0"
                                },
                                {
                                    "0": "875",
                                    "1": "Racing Socks, L",
                                    "2": "SO-R809-L",
                                    "3": "0"
                                },
                                {
                                    "0": "876",
                                    "1": "Hitch Rack - 4-Bike",
                                    "2": "RA-H123",
                                    "3": "0"
                                },
                                {
                                    "0": "877",
                                    "1": "Bike Wash - Dissolver",
                                    "2": "CL-9009",
                                    "3": "0"
                                },
                                {
                                    "0": "878",
                                    "1": "Fender Set - Mountain",
                                    "2": "FE-6654",
                                    "3": "0"
                                },
                                {
                                    "0": "879",
                                    "1": "All-Purpose Bike Stand",
                                    "2": "ST-1401",
                                    "3": "0"
                                },
                                {
                                    "0": "880",
                                    "1": "Hydration Pack - 70 oz.",
                                    "2": "HY-1023-70",
                                    "3": "0"
                                },
                                {
                                    "0": "881",
                                    "1": "Short-Sleeve Classic Jersey, S",
                                    "2": "SJ-0194-S",
                                    "3": "0"
                                },
                                {
                                    "0": "882",
                                    "1": "Short-Sleeve Classic Jersey, M",
                                    "2": "SJ-0194-M",
                                    "3": "0"
                                },
                                {
                                    "0": "883",
                                    "1": "Short-Sleeve Classic Jersey, L",
                                    "2": "SJ-0194-L",
                                    "3": "0"
                                },
                                {
                                    "0": "884",
                                    "1": "Short-Sleeve Classic Jersey, XL",
                                    "2": "SJ-0194-X",
                                    "3": "0"
                                },
                                {
                                    "0": "885",
                                    "1": "HL Touring Frame - Yellow, 60",
                                    "2": "FR-T98Y-60",
                                    "3": "0"
                                },
                                {
                                    "0": "886",
                                    "1": "LL Touring Frame - Yellow, 62",
                                    "2": "FR-T67Y-62",
                                    "3": "0"
                                },
                                {
                                    "0": "887",
                                    "1": "HL Touring Frame - Yellow, 46",
                                    "2": "FR-T98Y-46",
                                    "3": "0"
                                },
                                {
                                    "0": "888",
                                    "1": "HL Touring Frame - Yellow, 50",
                                    "2": "FR-T98Y-50",
                                    "3": "0"
                                },
                                {
                                    "0": "889",
                                    "1": "HL Touring Frame - Yellow, 54",
                                    "2": "FR-T98Y-54",
                                    "3": "0"
                                },
                                {
                                    "0": "890",
                                    "1": "HL Touring Frame - Blue, 46",
                                    "2": "FR-T98U-46",
                                    "3": "0"
                                },
                                {
                                    "0": "891",
                                    "1": "HL Touring Frame - Blue, 50",
                                    "2": "FR-T98U-50",
                                    "3": "0"
                                },
                                {
                                    "0": "892",
                                    "1": "HL Touring Frame - Blue, 54",
                                    "2": "FR-T98U-54",
                                    "3": "0"
                                },
                                {
                                    "0": "893",
                                    "1": "HL Touring Frame - Blue, 60",
                                    "2": "FR-T98U-60",
                                    "3": "0"
                                },
                                {
                                    "0": "894",
                                    "1": "Rear Derailleur",
                                    "2": "RD-2308",
                                    "3": "355"
                                },
                                {
                                    "0": "895",
                                    "1": "LL Touring Frame - Blue, 50",
                                    "2": "FR-T67U-50",
                                    "3": "0"
                                },
                                {
                                    "0": "896",
                                    "1": "LL Touring Frame - Blue, 54",
                                    "2": "FR-T67U-54",
                                    "3": "0"
                                },
                                {
                                    "0": "897",
                                    "1": "LL Touring Frame - Blue, 58",
                                    "2": "FR-T67U-58",
                                    "3": "0"
                                },
                                {
                                    "0": "898",
                                    "1": "LL Touring Frame - Blue, 62",
                                    "2": "FR-T67U-62",
                                    "3": "0"
                                },
                                {
                                    "0": "899",
                                    "1": "LL Touring Frame - Yellow, 44",
                                    "2": "FR-T67Y-44",
                                    "3": "0"
                                },
                                {
                                    "0": "900",
                                    "1": "LL Touring Frame - Yellow, 50",
                                    "2": "FR-T67Y-50",
                                    "3": "0"
                                },
                                {
                                    "0": "901",
                                    "1": "LL Touring Frame - Yellow, 54",
                                    "2": "FR-T67Y-54",
                                    "3": "0"
                                },
                                {
                                    "0": "902",
                                    "1": "LL Touring Frame - Yellow, 58",
                                    "2": "FR-T67Y-58",
                                    "3": "0"
                                },
                                {
                                    "0": "903",
                                    "1": "LL Touring Frame - Blue, 44",
                                    "2": "FR-T67U-44",
                                    "3": "0"
                                },
                                {
                                    "0": "904",
                                    "1": "ML Mountain Frame-W - Silver, 40",
                                    "2": "FR-M63S-40",
                                    "3": "0"
                                },
                                {
                                    "0": "905",
                                    "1": "ML Mountain Frame-W - Silver, 42",
                                    "2": "FR-M63S-42",
                                    "3": "0"
                                },
                                {
                                    "0": "906",
                                    "1": "ML Mountain Frame-W - Silver, 46",
                                    "2": "FR-M63S-46",
                                    "3": "0"
                                },
                                {
                                    "0": "907",
                                    "1": "Rear Brakes",
                                    "2": "RB-9231",
                                    "3": "228"
                                },
                                {
                                    "0": "908",
                                    "1": "LL Mountain Seat/Saddle",
                                    "2": "SE-M236",
                                    "3": "400"
                                },
                                {
                                    "0": "909",
                                    "1": "ML Mountain Seat/Saddle",
                                    "2": "SE-M798",
                                    "3": "230"
                                },
                                {
                                    "0": "910",
                                    "1": "HL Mountain Seat/Saddle",
                                    "2": "SE-M940",
                                    "3": "91"
                                },
                                {
                                    "0": "911",
                                    "1": "LL Road Seat/Saddle",
                                    "2": "SE-R581",
                                    "3": "283"
                                },
                                {
                                    "0": "912",
                                    "1": "ML Road Seat/Saddle",
                                    "2": "SE-R908",
                                    "3": "302"
                                },
                                {
                                    "0": "913",
                                    "1": "HL Road Seat/Saddle",
                                    "2": "SE-R995",
                                    "3": "169"
                                },
                                {
                                    "0": "914",
                                    "1": "LL Touring Seat/Saddle",
                                    "2": "SE-T312",
                                    "3": "248"
                                },
                                {
                                    "0": "915",
                                    "1": "ML Touring Seat/Saddle",
                                    "2": "SE-T762",
                                    "3": "161"
                                },
                                {
                                    "0": "916",
                                    "1": "HL Touring Seat/Saddle",
                                    "2": "SE-T924",
                                    "3": "425"
                                },
                                {
                                    "0": "917",
                                    "1": "LL Mountain Frame - Silver, 42",
                                    "2": "FR-M21S-42",
                                    "3": "0"
                                },
                                {
                                    "0": "918",
                                    "1": "LL Mountain Frame - Silver, 44",
                                    "2": "FR-M21S-44",
                                    "3": "0"
                                },
                                {
                                    "0": "919",
                                    "1": "LL Mountain Frame - Silver, 48",
                                    "2": "FR-M21S-48",
                                    "3": "0"
                                },
                                {
                                    "0": "920",
                                    "1": "LL Mountain Frame - Silver, 52",
                                    "2": "FR-M21S-52",
                                    "3": "0"
                                },
                                {
                                    "0": "921",
                                    "1": "Mountain Tire Tube",
                                    "2": "TT-M928",
                                    "3": "286"
                                },
                                {
                                    "0": "922",
                                    "1": "Road Tire Tube",
                                    "2": "TT-R982",
                                    "3": "264"
                                },
                                {
                                    "0": "923",
                                    "1": "Touring Tire Tube",
                                    "2": "TT-T092",
                                    "3": "262"
                                },
                                {
                                    "0": "924",
                                    "1": "LL Mountain Frame - Black, 42",
                                    "2": "FR-M21B-42",
                                    "3": "0"
                                },
                                {
                                    "0": "925",
                                    "1": "LL Mountain Frame - Black, 44",
                                    "2": "FR-M21B-44",
                                    "3": "0"
                                },
                                {
                                    "0": "926",
                                    "1": "LL Mountain Frame - Black, 48",
                                    "2": "FR-M21B-48",
                                    "3": "0"
                                },
                                {
                                    "0": "927",
                                    "1": "LL Mountain Frame - Black, 52",
                                    "2": "FR-M21B-52",
                                    "3": "0"
                                },
                                {
                                    "0": "928",
                                    "1": "LL Mountain Tire",
                                    "2": "TI-M267",
                                    "3": "240"
                                },
                                {
                                    "0": "929",
                                    "1": "ML Mountain Tire",
                                    "2": "TI-M602",
                                    "3": "385"
                                },
                                {
                                    "0": "930",
                                    "1": "HL Mountain Tire",
                                    "2": "TI-M823",
                                    "3": "267"
                                },
                                {
                                    "0": "931",
                                    "1": "LL Road Tire",
                                    "2": "TI-R092",
                                    "3": "236"
                                },
                                {
                                    "0": "932",
                                    "1": "ML Road Tire",
                                    "2": "TI-R628",
                                    "3": "382"
                                },
                                {
                                    "0": "933",
                                    "1": "HL Road Tire",
                                    "2": "TI-R982",
                                    "3": "299"
                                },
                                {
                                    "0": "934",
                                    "1": "Touring Tire",
                                    "2": "TI-T723",
                                    "3": "233"
                                },
                                {
                                    "0": "935",
                                    "1": "LL Mountain Pedal",
                                    "2": "PD-M282",
                                    "3": "182"
                                },
                                {
                                    "0": "936",
                                    "1": "ML Mountain Pedal",
                                    "2": "PD-M340",
                                    "3": "180"
                                },
                                {
                                    "0": "937",
                                    "1": "HL Mountain Pedal",
                                    "2": "PD-M562",
                                    "3": "179"
                                },
                                {
                                    "0": "938",
                                    "1": "LL Road Pedal",
                                    "2": "PD-R347",
                                    "3": "177"
                                },
                                {
                                    "0": "939",
                                    "1": "ML Road Pedal",
                                    "2": "PD-R563",
                                    "3": "176"
                                },
                                {
                                    "0": "940",
                                    "1": "HL Road Pedal",
                                    "2": "PD-R853",
                                    "3": "267"
                                },
                                {
                                    "0": "941",
                                    "1": "Touring Pedal",
                                    "2": "PD-T852",
                                    "3": "262"
                                },
                                {
                                    "0": "942",
                                    "1": "ML Mountain Frame-W - Silver, 38",
                                    "2": "FR-M63S-38",
                                    "3": "0"
                                },
                                {
                                    "0": "943",
                                    "1": "LL Mountain Frame - Black, 40",
                                    "2": "FR-M21B-40",
                                    "3": "0"
                                },
                                {
                                    "0": "944",
                                    "1": "LL Mountain Frame - Silver, 40",
                                    "2": "FR-M21S-40",
                                    "3": "0"
                                },
                                {
                                    "0": "945",
                                    "1": "Front Derailleur",
                                    "2": "FD-2342",
                                    "3": "0"
                                },
                                {
                                    "0": "946",
                                    "1": "LL Touring Handlebars",
                                    "2": "HB-T721",
                                    "3": "0"
                                },
                                {
                                    "0": "947",
                                    "1": "HL Touring Handlebars",
                                    "2": "HB-T928",
                                    "3": "0"
                                },
                                {
                                    "0": "948",
                                    "1": "Front Brakes",
                                    "2": "FB-9873",
                                    "3": "0"
                                },
                                {
                                    "0": "949",
                                    "1": "LL Crankset",
                                    "2": "CS-4759",
                                    "3": "0"
                                },
                                {
                                    "0": "950",
                                    "1": "ML Crankset",
                                    "2": "CS-6583",
                                    "3": "0"
                                },
                                {
                                    "0": "951",
                                    "1": "HL Crankset",
                                    "2": "CS-9183",
                                    "3": "0"
                                },
                                {
                                    "0": "952",
                                    "1": "Chain",
                                    "2": "CH-0234",
                                    "3": "0"
                                },
                                {
                                    "0": "953",
                                    "1": "Touring-2000 Blue, 60",
                                    "2": "BK-T44U-60",
                                    "3": "0"
                                },
                                {
                                    "0": "954",
                                    "1": "Touring-1000 Yellow, 46",
                                    "2": "BK-T79Y-46",
                                    "3": "0"
                                },
                                {
                                    "0": "955",
                                    "1": "Touring-1000 Yellow, 50",
                                    "2": "BK-T79Y-50",
                                    "3": "0"
                                },
                                {
                                    "0": "956",
                                    "1": "Touring-1000 Yellow, 54",
                                    "2": "BK-T79Y-54",
                                    "3": "0"
                                },
                                {
                                    "0": "957",
                                    "1": "Touring-1000 Yellow, 60",
                                    "2": "BK-T79Y-60",
                                    "3": "0"
                                },
                                {
                                    "0": "958",
                                    "1": "Touring-3000 Blue, 54",
                                    "2": "BK-T18U-54",
                                    "3": "0"
                                },
                                {
                                    "0": "959",
                                    "1": "Touring-3000 Blue, 58",
                                    "2": "BK-T18U-58",
                                    "3": "0"
                                },
                                {
                                    "0": "960",
                                    "1": "Touring-3000 Blue, 62",
                                    "2": "BK-T18U-62",
                                    "3": "0"
                                },
                                {
                                    "0": "961",
                                    "1": "Touring-3000 Yellow, 44",
                                    "2": "BK-T18Y-44",
                                    "3": "0"
                                },
                                {
                                    "0": "962",
                                    "1": "Touring-3000 Yellow, 50",
                                    "2": "BK-T18Y-50",
                                    "3": "0"
                                },
                                {
                                    "0": "963",
                                    "1": "Touring-3000 Yellow, 54",
                                    "2": "BK-T18Y-54",
                                    "3": "0"
                                },
                                {
                                    "0": "964",
                                    "1": "Touring-3000 Yellow, 58",
                                    "2": "BK-T18Y-58",
                                    "3": "0"
                                },
                                {
                                    "0": "965",
                                    "1": "Touring-3000 Yellow, 62",
                                    "2": "BK-T18Y-62",
                                    "3": "0"
                                },
                                {
                                    "0": "966",
                                    "1": "Touring-1000 Blue, 46",
                                    "2": "BK-T79U-46",
                                    "3": "0"
                                },
                                {
                                    "0": "967",
                                    "1": "Touring-1000 Blue, 50",
                                    "2": "BK-T79U-50",
                                    "3": "0"
                                },
                                {
                                    "0": "968",
                                    "1": "Touring-1000 Blue, 54",
                                    "2": "BK-T79U-54",
                                    "3": "0"
                                },
                                {
                                    "0": "969",
                                    "1": "Touring-1000 Blue, 60",
                                    "2": "BK-T79U-60",
                                    "3": "0"
                                },
                                {
                                    "0": "970",
                                    "1": "Touring-2000 Blue, 46",
                                    "2": "BK-T44U-46",
                                    "3": "0"
                                },
                                {
                                    "0": "971",
                                    "1": "Touring-2000 Blue, 50",
                                    "2": "BK-T44U-50",
                                    "3": "0"
                                },
                                {
                                    "0": "972",
                                    "1": "Touring-2000 Blue, 54",
                                    "2": "BK-T44U-54",
                                    "3": "0"
                                },
                                {
                                    "0": "973",
                                    "1": "Road-350-W Yellow, 40",
                                    "2": "BK-R79Y-40",
                                    "3": "0"
                                },
                                {
                                    "0": "974",
                                    "1": "Road-350-W Yellow, 42",
                                    "2": "BK-R79Y-42",
                                    "3": "0"
                                },
                                {
                                    "0": "975",
                                    "1": "Road-350-W Yellow, 44",
                                    "2": "BK-R79Y-44",
                                    "3": "0"
                                },
                                {
                                    "0": "976",
                                    "1": "Road-350-W Yellow, 48",
                                    "2": "BK-R79Y-48",
                                    "3": "0"
                                },
                                {
                                    "0": "977",
                                    "1": "Road-750 Black, 58",
                                    "2": "BK-R19B-58",
                                    "3": "0"
                                },
                                {
                                    "0": "978",
                                    "1": "Touring-3000 Blue, 44",
                                    "2": "BK-T18U-44",
                                    "3": "0"
                                },
                                {
                                    "0": "979",
                                    "1": "Touring-3000 Blue, 50",
                                    "2": "BK-T18U-50",
                                    "3": "0"
                                },
                                {
                                    "0": "980",
                                    "1": "Mountain-400-W Silver, 38",
                                    "2": "BK-M38S-38",
                                    "3": "0"
                                },
                                {
                                    "0": "981",
                                    "1": "Mountain-400-W Silver, 40",
                                    "2": "BK-M38S-40",
                                    "3": "0"
                                },
                                {
                                    "0": "982",
                                    "1": "Mountain-400-W Silver, 42",
                                    "2": "BK-M38S-42",
                                    "3": "0"
                                },
                                {
                                    "0": "983",
                                    "1": "Mountain-400-W Silver, 46",
                                    "2": "BK-M38S-46",
                                    "3": "0"
                                },
                                {
                                    "0": "984",
                                    "1": "Mountain-500 Silver, 40",
                                    "2": "BK-M18S-40",
                                    "3": "0"
                                },
                                {
                                    "0": "985",
                                    "1": "Mountain-500 Silver, 42",
                                    "2": "BK-M18S-42",
                                    "3": "0"
                                },
                                {
                                    "0": "986",
                                    "1": "Mountain-500 Silver, 44",
                                    "2": "BK-M18S-44",
                                    "3": "0"
                                },
                                {
                                    "0": "987",
                                    "1": "Mountain-500 Silver, 48",
                                    "2": "BK-M18S-48",
                                    "3": "0"
                                },
                                {
                                    "0": "988",
                                    "1": "Mountain-500 Silver, 52",
                                    "2": "BK-M18S-52",
                                    "3": "0"
                                },
                                {
                                    "0": "989",
                                    "1": "Mountain-500 Black, 40",
                                    "2": "BK-M18B-40",
                                    "3": "0"
                                },
                                {
                                    "0": "990",
                                    "1": "Mountain-500 Black, 42",
                                    "2": "BK-M18B-42",
                                    "3": "0"
                                },
                                {
                                    "0": "991",
                                    "1": "Mountain-500 Black, 44",
                                    "2": "BK-M18B-44",
                                    "3": "0"
                                },
                                {
                                    "0": "992",
                                    "1": "Mountain-500 Black, 48",
                                    "2": "BK-M18B-48",
                                    "3": "0"
                                },
                                {
                                    "0": "993",
                                    "1": "Mountain-500 Black, 52",
                                    "2": "BK-M18B-52",
                                    "3": "0"
                                },
                                {
                                    "0": "994",
                                    "1": "LL Bottom Bracket",
                                    "2": "BB-7421",
                                    "3": "358"
                                },
                                {
                                    "0": "995",
                                    "1": "ML Bottom Bracket",
                                    "2": "BB-8107",
                                    "3": "321"
                                },
                                {
                                    "0": "996",
                                    "1": "HL Bottom Bracket",
                                    "2": "BB-9108",
                                    "3": "475"
                                },
                                {
                                    "0": "997",
                                    "1": "Road-750 Black, 44",
                                    "2": "BK-R19B-44",
                                    "3": "0"
                                },
                                {
                                    "0": "998",
                                    "1": "Road-750 Black, 48",
                                    "2": "BK-R19B-48",
                                    "3": "0"
                                },
                                {
                                    "0": "999",
                                    "1": "Road-750 Black, 52",
                                    "2": "BK-R19B-52",
                                    "3": "0"
                                }
                            ]
                        },
                        "text/html": "<table><tr><th>ProductID</th><th>Name</th><th>ProductNumber</th><th>StockLevel</th></tr><tr><td>680</td><td>HL Road Frame - Black, 58</td><td>FR-R92B-58</td><td>0</td></tr><tr><td>706</td><td>HL Road Frame - Red, 58</td><td>FR-R92R-58</td><td>0</td></tr><tr><td>707</td><td>Sport-100 Helmet, Red</td><td>HL-U509-R</td><td>0</td></tr><tr><td>708</td><td>Sport-100 Helmet, Black</td><td>HL-U509</td><td>0</td></tr><tr><td>709</td><td>Mountain Bike Socks, M</td><td>SO-B909-M</td><td>0</td></tr><tr><td>710</td><td>Mountain Bike Socks, L</td><td>SO-B909-L</td><td>0</td></tr><tr><td>711</td><td>Sport-100 Helmet, Blue</td><td>HL-U509-B</td><td>0</td></tr><tr><td>712</td><td>AWC Logo Cap</td><td>CA-1098</td><td>0</td></tr><tr><td>713</td><td>Long-Sleeve Logo Jersey, S</td><td>LJ-0192-S</td><td>0</td></tr><tr><td>714</td><td>Long-Sleeve Logo Jersey, M</td><td>LJ-0192-M</td><td>0</td></tr><tr><td>715</td><td>Long-Sleeve Logo Jersey, L</td><td>LJ-0192-L</td><td>0</td></tr><tr><td>716</td><td>Long-Sleeve Logo Jersey, XL</td><td>LJ-0192-X</td><td>0</td></tr><tr><td>717</td><td>HL Road Frame - Red, 62</td><td>FR-R92R-62</td><td>0</td></tr><tr><td>718</td><td>HL Road Frame - Red, 44</td><td>FR-R92R-44</td><td>0</td></tr><tr><td>719</td><td>HL Road Frame - Red, 48</td><td>FR-R92R-48</td><td>0</td></tr><tr><td>720</td><td>HL Road Frame - Red, 52</td><td>FR-R92R-52</td><td>0</td></tr><tr><td>721</td><td>HL Road Frame - Red, 56</td><td>FR-R92R-56</td><td>0</td></tr><tr><td>722</td><td>LL Road Frame - Black, 58</td><td>FR-R38B-58</td><td>0</td></tr><tr><td>723</td><td>LL Road Frame - Black, 60</td><td>FR-R38B-60</td><td>0</td></tr><tr><td>724</td><td>LL Road Frame - Black, 62</td><td>FR-R38B-62</td><td>0</td></tr><tr><td>725</td><td>LL Road Frame - Red, 44</td><td>FR-R38R-44</td><td>0</td></tr><tr><td>726</td><td>LL Road Frame - Red, 48</td><td>FR-R38R-48</td><td>0</td></tr><tr><td>727</td><td>LL Road Frame - Red, 52</td><td>FR-R38R-52</td><td>0</td></tr><tr><td>728</td><td>LL Road Frame - Red, 58</td><td>FR-R38R-58</td><td>0</td></tr><tr><td>729</td><td>LL Road Frame - Red, 60</td><td>FR-R38R-60</td><td>0</td></tr><tr><td>730</td><td>LL Road Frame - Red, 62</td><td>FR-R38R-62</td><td>0</td></tr><tr><td>731</td><td>ML Road Frame - Red, 44</td><td>FR-R72R-44</td><td>0</td></tr><tr><td>732</td><td>ML Road Frame - Red, 48</td><td>FR-R72R-48</td><td>0</td></tr><tr><td>733</td><td>ML Road Frame - Red, 52</td><td>FR-R72R-52</td><td>0</td></tr><tr><td>734</td><td>ML Road Frame - Red, 58</td><td>FR-R72R-58</td><td>0</td></tr><tr><td>735</td><td>ML Road Frame - Red, 60</td><td>FR-R72R-60</td><td>0</td></tr><tr><td>736</td><td>LL Road Frame - Black, 44</td><td>FR-R38B-44</td><td>0</td></tr><tr><td>737</td><td>LL Road Frame - Black, 48</td><td>FR-R38B-48</td><td>0</td></tr><tr><td>738</td><td>LL Road Frame - Black, 52</td><td>FR-R38B-52</td><td>0</td></tr><tr><td>739</td><td>HL Mountain Frame - Silver, 42</td><td>FR-M94S-42</td><td>0</td></tr><tr><td>740</td><td>HL Mountain Frame - Silver, 44</td><td>FR-M94S-44</td><td>0</td></tr><tr><td>741</td><td>HL Mountain Frame - Silver, 48</td><td>FR-M94S-52</td><td>0</td></tr><tr><td>742</td><td>HL Mountain Frame - Silver, 46</td><td>FR-M94S-46</td><td>0</td></tr><tr><td>743</td><td>HL Mountain Frame - Black, 42</td><td>FR-M94B-42</td><td>0</td></tr><tr><td>744</td><td>HL Mountain Frame - Black, 44</td><td>FR-M94B-44</td><td>0</td></tr><tr><td>745</td><td>HL Mountain Frame - Black, 48</td><td>FR-M94B-48</td><td>0</td></tr><tr><td>746</td><td>HL Mountain Frame - Black, 46</td><td>FR-M94B-46</td><td>0</td></tr><tr><td>747</td><td>HL Mountain Frame - Black, 38</td><td>FR-M94B-38</td><td>0</td></tr><tr><td>748</td><td>HL Mountain Frame - Silver, 38</td><td>FR-M94S-38</td><td>0</td></tr><tr><td>749</td><td>Road-150 Red, 62</td><td>BK-R93R-62</td><td>0</td></tr><tr><td>750</td><td>Road-150 Red, 44</td><td>BK-R93R-44</td><td>0</td></tr><tr><td>751</td><td>Road-150 Red, 48</td><td>BK-R93R-48</td><td>0</td></tr><tr><td>752</td><td>Road-150 Red, 52</td><td>BK-R93R-52</td><td>0</td></tr><tr><td>753</td><td>Road-150 Red, 56</td><td>BK-R93R-56</td><td>0</td></tr><tr><td>754</td><td>Road-450 Red, 58</td><td>BK-R68R-58</td><td>0</td></tr><tr><td>755</td><td>Road-450 Red, 60</td><td>BK-R68R-60</td><td>0</td></tr><tr><td>756</td><td>Road-450 Red, 44</td><td>BK-R68R-44</td><td>0</td></tr><tr><td>757</td><td>Road-450 Red, 48</td><td>BK-R68R-48</td><td>0</td></tr><tr><td>758</td><td>Road-450 Red, 52</td><td>BK-R68R-52</td><td>0</td></tr><tr><td>759</td><td>Road-650 Red, 58</td><td>BK-R50R-58</td><td>0</td></tr><tr><td>760</td><td>Road-650 Red, 60</td><td>BK-R50R-60</td><td>0</td></tr><tr><td>761</td><td>Road-650 Red, 62</td><td>BK-R50R-62</td><td>0</td></tr><tr><td>762</td><td>Road-650 Red, 44</td><td>BK-R50R-44</td><td>0</td></tr><tr><td>763</td><td>Road-650 Red, 48</td><td>BK-R50R-48</td><td>0</td></tr><tr><td>764</td><td>Road-650 Red, 52</td><td>BK-R50R-52</td><td>0</td></tr><tr><td>765</td><td>Road-650 Black, 58</td><td>BK-R50B-58</td><td>0</td></tr><tr><td>766</td><td>Road-650 Black, 60</td><td>BK-R50B-60</td><td>0</td></tr><tr><td>767</td><td>Road-650 Black, 62</td><td>BK-R50B-62</td><td>0</td></tr><tr><td>768</td><td>Road-650 Black, 44</td><td>BK-R50B-44</td><td>0</td></tr><tr><td>769</td><td>Road-650 Black, 48</td><td>BK-R50B-48</td><td>0</td></tr><tr><td>770</td><td>Road-650 Black, 52</td><td>BK-R50B-52</td><td>0</td></tr><tr><td>771</td><td>Mountain-100 Silver, 38</td><td>BK-M82S-38</td><td>0</td></tr><tr><td>772</td><td>Mountain-100 Silver, 42</td><td>BK-M82S-42</td><td>0</td></tr><tr><td>773</td><td>Mountain-100 Silver, 44</td><td>BK-M82S-44</td><td>0</td></tr><tr><td>774</td><td>Mountain-100 Silver, 48</td><td>BK-M82S-48</td><td>0</td></tr><tr><td>775</td><td>Mountain-100 Black, 38</td><td>BK-M82B-38</td><td>0</td></tr><tr><td>776</td><td>Mountain-100 Black, 42</td><td>BK-M82B-42</td><td>0</td></tr><tr><td>777</td><td>Mountain-100 Black, 44</td><td>BK-M82B-44</td><td>0</td></tr><tr><td>778</td><td>Mountain-100 Black, 48</td><td>BK-M82B-48</td><td>0</td></tr><tr><td>779</td><td>Mountain-200 Silver, 38</td><td>BK-M68S-38</td><td>0</td></tr><tr><td>780</td><td>Mountain-200 Silver, 42</td><td>BK-M68S-42</td><td>0</td></tr><tr><td>781</td><td>Mountain-200 Silver, 46</td><td>BK-M68S-46</td><td>0</td></tr><tr><td>782</td><td>Mountain-200 Black, 38</td><td>BK-M68B-38</td><td>0</td></tr><tr><td>783</td><td>Mountain-200 Black, 42</td><td>BK-M68B-42</td><td>0</td></tr><tr><td>784</td><td>Mountain-200 Black, 46</td><td>BK-M68B-46</td><td>0</td></tr><tr><td>785</td><td>Mountain-300 Black, 38</td><td>BK-M47B-38</td><td>0</td></tr><tr><td>786</td><td>Mountain-300 Black, 40</td><td>BK-M47B-40</td><td>0</td></tr><tr><td>787</td><td>Mountain-300 Black, 44</td><td>BK-M47B-44</td><td>0</td></tr><tr><td>788</td><td>Mountain-300 Black, 48</td><td>BK-M47B-48</td><td>0</td></tr><tr><td>789</td><td>Road-250 Red, 44</td><td>BK-R89R-44</td><td>0</td></tr><tr><td>790</td><td>Road-250 Red, 48</td><td>BK-R89R-48</td><td>0</td></tr><tr><td>791</td><td>Road-250 Red, 52</td><td>BK-R89R-52</td><td>0</td></tr><tr><td>792</td><td>Road-250 Red, 58</td><td>BK-R89R-58</td><td>0</td></tr><tr><td>793</td><td>Road-250 Black, 44</td><td>BK-R89B-44</td><td>0</td></tr><tr><td>794</td><td>Road-250 Black, 48</td><td>BK-R89B-48</td><td>0</td></tr><tr><td>795</td><td>Road-250 Black, 52</td><td>BK-R89B-52</td><td>0</td></tr><tr><td>796</td><td>Road-250 Black, 58</td><td>BK-R89B-58</td><td>0</td></tr><tr><td>797</td><td>Road-550-W Yellow, 38</td><td>BK-R64Y-38</td><td>0</td></tr><tr><td>798</td><td>Road-550-W Yellow, 40</td><td>BK-R64Y-40</td><td>0</td></tr><tr><td>799</td><td>Road-550-W Yellow, 42</td><td>BK-R64Y-42</td><td>0</td></tr><tr><td>800</td><td>Road-550-W Yellow, 44</td><td>BK-R64Y-44</td><td>0</td></tr><tr><td>801</td><td>Road-550-W Yellow, 48</td><td>BK-R64Y-48</td><td>0</td></tr><tr><td>802</td><td>LL Fork</td><td>FK-1639</td><td>0</td></tr><tr><td>803</td><td>ML Fork</td><td>FK-5136</td><td>0</td></tr><tr><td>804</td><td>HL Fork</td><td>FK-9939</td><td>0</td></tr><tr><td>805</td><td>LL Headset</td><td>HS-0296</td><td>265</td></tr><tr><td>806</td><td>ML Headset</td><td>HS-2451</td><td>268</td></tr><tr><td>807</td><td>HL Headset</td><td>HS-3479</td><td>272</td></tr><tr><td>808</td><td>LL Mountain Handlebars</td><td>HB-M243</td><td>0</td></tr><tr><td>809</td><td>ML Mountain Handlebars</td><td>HB-M763</td><td>0</td></tr><tr><td>810</td><td>HL Mountain Handlebars</td><td>HB-M918</td><td>0</td></tr><tr><td>811</td><td>LL Road Handlebars</td><td>HB-R504</td><td>0</td></tr><tr><td>812</td><td>ML Road Handlebars</td><td>HB-R720</td><td>0</td></tr><tr><td>813</td><td>HL Road Handlebars</td><td>HB-R956</td><td>0</td></tr><tr><td>814</td><td>ML Mountain Frame - Black, 38</td><td>FR-M63B-38</td><td>0</td></tr><tr><td>815</td><td>LL Mountain Front Wheel</td><td>FW-M423</td><td>0</td></tr><tr><td>816</td><td>ML Mountain Front Wheel</td><td>FW-M762</td><td>0</td></tr><tr><td>817</td><td>HL Mountain Front Wheel</td><td>FW-M928</td><td>0</td></tr><tr><td>818</td><td>LL Road Front Wheel</td><td>FW-R623</td><td>0</td></tr><tr><td>819</td><td>ML Road Front Wheel</td><td>FW-R762</td><td>0</td></tr><tr><td>820</td><td>HL Road Front Wheel</td><td>FW-R820</td><td>0</td></tr><tr><td>821</td><td>Touring Front Wheel</td><td>FW-T905</td><td>0</td></tr><tr><td>822</td><td>ML Road Frame-W - Yellow, 38</td><td>FR-R72Y-38</td><td>0</td></tr><tr><td>823</td><td>LL Mountain Rear Wheel</td><td>RW-M423</td><td>425</td></tr><tr><td>824</td><td>ML Mountain Rear Wheel</td><td>RW-M762</td><td>411</td></tr><tr><td>825</td><td>HL Mountain Rear Wheel</td><td>RW-M928</td><td>396</td></tr><tr><td>826</td><td>LL Road Rear Wheel</td><td>RW-R623</td><td>393</td></tr><tr><td>827</td><td>ML Road Rear Wheel</td><td>RW-R762</td><td>412</td></tr><tr><td>828</td><td>HL Road Rear Wheel</td><td>RW-R820</td><td>432</td></tr><tr><td>829</td><td>Touring Rear Wheel</td><td>RW-T905</td><td>265</td></tr><tr><td>830</td><td>ML Mountain Frame - Black, 40</td><td>FR-M63B-40</td><td>0</td></tr><tr><td>831</td><td>ML Mountain Frame - Black, 44</td><td>FR-M63B-44</td><td>0</td></tr><tr><td>832</td><td>ML Mountain Frame - Black, 48</td><td>FR-M63B-48</td><td>0</td></tr><tr><td>833</td><td>ML Road Frame-W - Yellow, 40</td><td>FR-R72Y-40</td><td>0</td></tr><tr><td>834</td><td>ML Road Frame-W - Yellow, 42</td><td>FR-R72Y-42</td><td>0</td></tr><tr><td>835</td><td>ML Road Frame-W - Yellow, 44</td><td>FR-R72Y-44</td><td>0</td></tr><tr><td>836</td><td>ML Road Frame-W - Yellow, 48</td><td>FR-R72Y-48</td><td>0</td></tr><tr><td>837</td><td>HL Road Frame - Black, 62</td><td>FR-R92B-62</td><td>0</td></tr><tr><td>838</td><td>HL Road Frame - Black, 44</td><td>FR-R92B-44</td><td>0</td></tr><tr><td>839</td><td>HL Road Frame - Black, 48</td><td>FR-R92B-48</td><td>0</td></tr><tr><td>840</td><td>HL Road Frame - Black, 52</td><td>FR-R92B-52</td><td>0</td></tr><tr><td>841</td><td>Men's Sports Shorts, S</td><td>SH-M897-S</td><td>0</td></tr><tr><td>842</td><td>Touring-Panniers, Large</td><td>PA-T100</td><td>0</td></tr><tr><td>843</td><td>Cable Lock</td><td>LO-C100</td><td>0</td></tr><tr><td>844</td><td>Minipump</td><td>PU-0452</td><td>0</td></tr><tr><td>845</td><td>Mountain Pump</td><td>PU-M044</td><td>0</td></tr><tr><td>846</td><td>Taillights - Battery-Powered</td><td>LT-T990</td><td>0</td></tr><tr><td>847</td><td>Headlights - Dual-Beam</td><td>LT-H902</td><td>0</td></tr><tr><td>848</td><td>Headlights - Weatherproof</td><td>LT-H903</td><td>0</td></tr><tr><td>849</td><td>Men's Sports Shorts, M</td><td>SH-M897-M</td><td>0</td></tr><tr><td>850</td><td>Men's Sports Shorts, L</td><td>SH-M897-L</td><td>0</td></tr><tr><td>851</td><td>Men's Sports Shorts, XL</td><td>SH-M897-X</td><td>0</td></tr><tr><td>852</td><td>Women's Tights, S</td><td>TG-W091-S</td><td>0</td></tr><tr><td>853</td><td>Women's Tights, M</td><td>TG-W091-M</td><td>0</td></tr><tr><td>854</td><td>Women's Tights, L</td><td>TG-W091-L</td><td>0</td></tr><tr><td>855</td><td>Men's Bib-Shorts, S</td><td>SB-M891-S</td><td>0</td></tr><tr><td>856</td><td>Men's Bib-Shorts, M</td><td>SB-M891-M</td><td>0</td></tr><tr><td>857</td><td>Men's Bib-Shorts, L</td><td>SB-M891-L</td><td>0</td></tr><tr><td>858</td><td>Half-Finger Gloves, S</td><td>GL-H102-S</td><td>0</td></tr><tr><td>859</td><td>Half-Finger Gloves, M</td><td>GL-H102-M</td><td>0</td></tr><tr><td>860</td><td>Half-Finger Gloves, L</td><td>GL-H102-L</td><td>0</td></tr><tr><td>861</td><td>Full-Finger Gloves, S</td><td>GL-F110-S</td><td>0</td></tr><tr><td>862</td><td>Full-Finger Gloves, M</td><td>GL-F110-M</td><td>0</td></tr><tr><td>863</td><td>Full-Finger Gloves, L</td><td>GL-F110-L</td><td>0</td></tr><tr><td>864</td><td>Classic Vest, S</td><td>VE-C304-S</td><td>0</td></tr><tr><td>865</td><td>Classic Vest, M</td><td>VE-C304-M</td><td>0</td></tr><tr><td>866</td><td>Classic Vest, L</td><td>VE-C304-L</td><td>0</td></tr><tr><td>867</td><td>Women's Mountain Shorts, S</td><td>SH-W890-S</td><td>0</td></tr><tr><td>868</td><td>Women's Mountain Shorts, M</td><td>SH-W890-M</td><td>0</td></tr><tr><td>869</td><td>Women's Mountain Shorts, L</td><td>SH-W890-L</td><td>0</td></tr><tr><td>870</td><td>Water Bottle - 30 oz.</td><td>WB-H098</td><td>0</td></tr><tr><td>871</td><td>Mountain Bottle Cage</td><td>BC-M005</td><td>0</td></tr><tr><td>872</td><td>Road Bottle Cage</td><td>BC-R205</td><td>0</td></tr><tr><td>873</td><td>Patch Kit/8 Patches</td><td>PK-7098</td><td>0</td></tr><tr><td>874</td><td>Racing Socks, M</td><td>SO-R809-M</td><td>0</td></tr><tr><td>875</td><td>Racing Socks, L</td><td>SO-R809-L</td><td>0</td></tr><tr><td>876</td><td>Hitch Rack - 4-Bike</td><td>RA-H123</td><td>0</td></tr><tr><td>877</td><td>Bike Wash - Dissolver</td><td>CL-9009</td><td>0</td></tr><tr><td>878</td><td>Fender Set - Mountain</td><td>FE-6654</td><td>0</td></tr><tr><td>879</td><td>All-Purpose Bike Stand</td><td>ST-1401</td><td>0</td></tr><tr><td>880</td><td>Hydration Pack - 70 oz.</td><td>HY-1023-70</td><td>0</td></tr><tr><td>881</td><td>Short-Sleeve Classic Jersey, S</td><td>SJ-0194-S</td><td>0</td></tr><tr><td>882</td><td>Short-Sleeve Classic Jersey, M</td><td>SJ-0194-M</td><td>0</td></tr><tr><td>883</td><td>Short-Sleeve Classic Jersey, L</td><td>SJ-0194-L</td><td>0</td></tr><tr><td>884</td><td>Short-Sleeve Classic Jersey, XL</td><td>SJ-0194-X</td><td>0</td></tr><tr><td>885</td><td>HL Touring Frame - Yellow, 60</td><td>FR-T98Y-60</td><td>0</td></tr><tr><td>886</td><td>LL Touring Frame - Yellow, 62</td><td>FR-T67Y-62</td><td>0</td></tr><tr><td>887</td><td>HL Touring Frame - Yellow, 46</td><td>FR-T98Y-46</td><td>0</td></tr><tr><td>888</td><td>HL Touring Frame - Yellow, 50</td><td>FR-T98Y-50</td><td>0</td></tr><tr><td>889</td><td>HL Touring Frame - Yellow, 54</td><td>FR-T98Y-54</td><td>0</td></tr><tr><td>890</td><td>HL Touring Frame - Blue, 46</td><td>FR-T98U-46</td><td>0</td></tr><tr><td>891</td><td>HL Touring Frame - Blue, 50</td><td>FR-T98U-50</td><td>0</td></tr><tr><td>892</td><td>HL Touring Frame - Blue, 54</td><td>FR-T98U-54</td><td>0</td></tr><tr><td>893</td><td>HL Touring Frame - Blue, 60</td><td>FR-T98U-60</td><td>0</td></tr><tr><td>894</td><td>Rear Derailleur</td><td>RD-2308</td><td>355</td></tr><tr><td>895</td><td>LL Touring Frame - Blue, 50</td><td>FR-T67U-50</td><td>0</td></tr><tr><td>896</td><td>LL Touring Frame - Blue, 54</td><td>FR-T67U-54</td><td>0</td></tr><tr><td>897</td><td>LL Touring Frame - Blue, 58</td><td>FR-T67U-58</td><td>0</td></tr><tr><td>898</td><td>LL Touring Frame - Blue, 62</td><td>FR-T67U-62</td><td>0</td></tr><tr><td>899</td><td>LL Touring Frame - Yellow, 44</td><td>FR-T67Y-44</td><td>0</td></tr><tr><td>900</td><td>LL Touring Frame - Yellow, 50</td><td>FR-T67Y-50</td><td>0</td></tr><tr><td>901</td><td>LL Touring Frame - Yellow, 54</td><td>FR-T67Y-54</td><td>0</td></tr><tr><td>902</td><td>LL Touring Frame - Yellow, 58</td><td>FR-T67Y-58</td><td>0</td></tr><tr><td>903</td><td>LL Touring Frame - Blue, 44</td><td>FR-T67U-44</td><td>0</td></tr><tr><td>904</td><td>ML Mountain Frame-W - Silver, 40</td><td>FR-M63S-40</td><td>0</td></tr><tr><td>905</td><td>ML Mountain Frame-W - Silver, 42</td><td>FR-M63S-42</td><td>0</td></tr><tr><td>906</td><td>ML Mountain Frame-W - Silver, 46</td><td>FR-M63S-46</td><td>0</td></tr><tr><td>907</td><td>Rear Brakes</td><td>RB-9231</td><td>228</td></tr><tr><td>908</td><td>LL Mountain Seat/Saddle</td><td>SE-M236</td><td>400</td></tr><tr><td>909</td><td>ML Mountain Seat/Saddle</td><td>SE-M798</td><td>230</td></tr><tr><td>910</td><td>HL Mountain Seat/Saddle</td><td>SE-M940</td><td>91</td></tr><tr><td>911</td><td>LL Road Seat/Saddle</td><td>SE-R581</td><td>283</td></tr><tr><td>912</td><td>ML Road Seat/Saddle</td><td>SE-R908</td><td>302</td></tr><tr><td>913</td><td>HL Road Seat/Saddle</td><td>SE-R995</td><td>169</td></tr><tr><td>914</td><td>LL Touring Seat/Saddle</td><td>SE-T312</td><td>248</td></tr><tr><td>915</td><td>ML Touring Seat/Saddle</td><td>SE-T762</td><td>161</td></tr><tr><td>916</td><td>HL Touring Seat/Saddle</td><td>SE-T924</td><td>425</td></tr><tr><td>917</td><td>LL Mountain Frame - Silver, 42</td><td>FR-M21S-42</td><td>0</td></tr><tr><td>918</td><td>LL Mountain Frame - Silver, 44</td><td>FR-M21S-44</td><td>0</td></tr><tr><td>919</td><td>LL Mountain Frame - Silver, 48</td><td>FR-M21S-48</td><td>0</td></tr><tr><td>920</td><td>LL Mountain Frame - Silver, 52</td><td>FR-M21S-52</td><td>0</td></tr><tr><td>921</td><td>Mountain Tire Tube</td><td>TT-M928</td><td>286</td></tr><tr><td>922</td><td>Road Tire Tube</td><td>TT-R982</td><td>264</td></tr><tr><td>923</td><td>Touring Tire Tube</td><td>TT-T092</td><td>262</td></tr><tr><td>924</td><td>LL Mountain Frame - Black, 42</td><td>FR-M21B-42</td><td>0</td></tr><tr><td>925</td><td>LL Mountain Frame - Black, 44</td><td>FR-M21B-44</td><td>0</td></tr><tr><td>926</td><td>LL Mountain Frame - Black, 48</td><td>FR-M21B-48</td><td>0</td></tr><tr><td>927</td><td>LL Mountain Frame - Black, 52</td><td>FR-M21B-52</td><td>0</td></tr><tr><td>928</td><td>LL Mountain Tire</td><td>TI-M267</td><td>240</td></tr><tr><td>929</td><td>ML Mountain Tire</td><td>TI-M602</td><td>385</td></tr><tr><td>930</td><td>HL Mountain Tire</td><td>TI-M823</td><td>267</td></tr><tr><td>931</td><td>LL Road Tire</td><td>TI-R092</td><td>236</td></tr><tr><td>932</td><td>ML Road Tire</td><td>TI-R628</td><td>382</td></tr><tr><td>933</td><td>HL Road Tire</td><td>TI-R982</td><td>299</td></tr><tr><td>934</td><td>Touring Tire</td><td>TI-T723</td><td>233</td></tr><tr><td>935</td><td>LL Mountain Pedal</td><td>PD-M282</td><td>182</td></tr><tr><td>936</td><td>ML Mountain Pedal</td><td>PD-M340</td><td>180</td></tr><tr><td>937</td><td>HL Mountain Pedal</td><td>PD-M562</td><td>179</td></tr><tr><td>938</td><td>LL Road Pedal</td><td>PD-R347</td><td>177</td></tr><tr><td>939</td><td>ML Road Pedal</td><td>PD-R563</td><td>176</td></tr><tr><td>940</td><td>HL Road Pedal</td><td>PD-R853</td><td>267</td></tr><tr><td>941</td><td>Touring Pedal</td><td>PD-T852</td><td>262</td></tr><tr><td>942</td><td>ML Mountain Frame-W - Silver, 38</td><td>FR-M63S-38</td><td>0</td></tr><tr><td>943</td><td>LL Mountain Frame - Black, 40</td><td>FR-M21B-40</td><td>0</td></tr><tr><td>944</td><td>LL Mountain Frame - Silver, 40</td><td>FR-M21S-40</td><td>0</td></tr><tr><td>945</td><td>Front Derailleur</td><td>FD-2342</td><td>0</td></tr><tr><td>946</td><td>LL Touring Handlebars</td><td>HB-T721</td><td>0</td></tr><tr><td>947</td><td>HL Touring Handlebars</td><td>HB-T928</td><td>0</td></tr><tr><td>948</td><td>Front Brakes</td><td>FB-9873</td><td>0</td></tr><tr><td>949</td><td>LL Crankset</td><td>CS-4759</td><td>0</td></tr><tr><td>950</td><td>ML Crankset</td><td>CS-6583</td><td>0</td></tr><tr><td>951</td><td>HL Crankset</td><td>CS-9183</td><td>0</td></tr><tr><td>952</td><td>Chain</td><td>CH-0234</td><td>0</td></tr><tr><td>953</td><td>Touring-2000 Blue, 60</td><td>BK-T44U-60</td><td>0</td></tr><tr><td>954</td><td>Touring-1000 Yellow, 46</td><td>BK-T79Y-46</td><td>0</td></tr><tr><td>955</td><td>Touring-1000 Yellow, 50</td><td>BK-T79Y-50</td><td>0</td></tr><tr><td>956</td><td>Touring-1000 Yellow, 54</td><td>BK-T79Y-54</td><td>0</td></tr><tr><td>957</td><td>Touring-1000 Yellow, 60</td><td>BK-T79Y-60</td><td>0</td></tr><tr><td>958</td><td>Touring-3000 Blue, 54</td><td>BK-T18U-54</td><td>0</td></tr><tr><td>959</td><td>Touring-3000 Blue, 58</td><td>BK-T18U-58</td><td>0</td></tr><tr><td>960</td><td>Touring-3000 Blue, 62</td><td>BK-T18U-62</td><td>0</td></tr><tr><td>961</td><td>Touring-3000 Yellow, 44</td><td>BK-T18Y-44</td><td>0</td></tr><tr><td>962</td><td>Touring-3000 Yellow, 50</td><td>BK-T18Y-50</td><td>0</td></tr><tr><td>963</td><td>Touring-3000 Yellow, 54</td><td>BK-T18Y-54</td><td>0</td></tr><tr><td>964</td><td>Touring-3000 Yellow, 58</td><td>BK-T18Y-58</td><td>0</td></tr><tr><td>965</td><td>Touring-3000 Yellow, 62</td><td>BK-T18Y-62</td><td>0</td></tr><tr><td>966</td><td>Touring-1000 Blue, 46</td><td>BK-T79U-46</td><td>0</td></tr><tr><td>967</td><td>Touring-1000 Blue, 50</td><td>BK-T79U-50</td><td>0</td></tr><tr><td>968</td><td>Touring-1000 Blue, 54</td><td>BK-T79U-54</td><td>0</td></tr><tr><td>969</td><td>Touring-1000 Blue, 60</td><td>BK-T79U-60</td><td>0</td></tr><tr><td>970</td><td>Touring-2000 Blue, 46</td><td>BK-T44U-46</td><td>0</td></tr><tr><td>971</td><td>Touring-2000 Blue, 50</td><td>BK-T44U-50</td><td>0</td></tr><tr><td>972</td><td>Touring-2000 Blue, 54</td><td>BK-T44U-54</td><td>0</td></tr><tr><td>973</td><td>Road-350-W Yellow, 40</td><td>BK-R79Y-40</td><td>0</td></tr><tr><td>974</td><td>Road-350-W Yellow, 42</td><td>BK-R79Y-42</td><td>0</td></tr><tr><td>975</td><td>Road-350-W Yellow, 44</td><td>BK-R79Y-44</td><td>0</td></tr><tr><td>976</td><td>Road-350-W Yellow, 48</td><td>BK-R79Y-48</td><td>0</td></tr><tr><td>977</td><td>Road-750 Black, 58</td><td>BK-R19B-58</td><td>0</td></tr><tr><td>978</td><td>Touring-3000 Blue, 44</td><td>BK-T18U-44</td><td>0</td></tr><tr><td>979</td><td>Touring-3000 Blue, 50</td><td>BK-T18U-50</td><td>0</td></tr><tr><td>980</td><td>Mountain-400-W Silver, 38</td><td>BK-M38S-38</td><td>0</td></tr><tr><td>981</td><td>Mountain-400-W Silver, 40</td><td>BK-M38S-40</td><td>0</td></tr><tr><td>982</td><td>Mountain-400-W Silver, 42</td><td>BK-M38S-42</td><td>0</td></tr><tr><td>983</td><td>Mountain-400-W Silver, 46</td><td>BK-M38S-46</td><td>0</td></tr><tr><td>984</td><td>Mountain-500 Silver, 40</td><td>BK-M18S-40</td><td>0</td></tr><tr><td>985</td><td>Mountain-500 Silver, 42</td><td>BK-M18S-42</td><td>0</td></tr><tr><td>986</td><td>Mountain-500 Silver, 44</td><td>BK-M18S-44</td><td>0</td></tr><tr><td>987</td><td>Mountain-500 Silver, 48</td><td>BK-M18S-48</td><td>0</td></tr><tr><td>988</td><td>Mountain-500 Silver, 52</td><td>BK-M18S-52</td><td>0</td></tr><tr><td>989</td><td>Mountain-500 Black, 40</td><td>BK-M18B-40</td><td>0</td></tr><tr><td>990</td><td>Mountain-500 Black, 42</td><td>BK-M18B-42</td><td>0</td></tr><tr><td>991</td><td>Mountain-500 Black, 44</td><td>BK-M18B-44</td><td>0</td></tr><tr><td>992</td><td>Mountain-500 Black, 48</td><td>BK-M18B-48</td><td>0</td></tr><tr><td>993</td><td>Mountain-500 Black, 52</td><td>BK-M18B-52</td><td>0</td></tr><tr><td>994</td><td>LL Bottom Bracket</td><td>BB-7421</td><td>358</td></tr><tr><td>995</td><td>ML Bottom Bracket</td><td>BB-8107</td><td>321</td></tr><tr><td>996</td><td>HL Bottom Bracket</td><td>BB-9108</td><td>475</td></tr><tr><td>997</td><td>Road-750 Black, 44</td><td>BK-R19B-44</td><td>0</td></tr><tr><td>998</td><td>Road-750 Black, 48</td><td>BK-R19B-48</td><td>0</td></tr><tr><td>999</td><td>Road-750 Black, 52</td><td>BK-R19B-52</td><td>0</td></tr></table>"
                    },
                    "metadata": {}
                },
                {
                    "output_type": "execute_result",
                    "execution_count": 7,
                    "data": {
                        "application/vnd.dataresource+json": {
                            "schema": {
                                "fields": [
                                    {
                                        "name": "ProductID"
                                    },
                                    {
                                        "name": "Name"
                                    },
                                    {
                                        "name": "ProductNumber"
                                    },
                                    {
                                        "name": "Level"
                                    }
                                ]
                            },
                            "data": [
                                {
                                    "0": "680",
                                    "1": "HL Road Frame - Black, 58",
                                    "2": "FR-R92B-58",
                                    "3": "0"
                                },
                                {
                                    "0": "706",
                                    "1": "HL Road Frame - Red, 58",
                                    "2": "FR-R92R-58",
                                    "3": "0"
                                },
                                {
                                    "0": "707",
                                    "1": "Sport-100 Helmet, Red",
                                    "2": "HL-U509-R",
                                    "3": "0"
                                },
                                {
                                    "0": "708",
                                    "1": "Sport-100 Helmet, Black",
                                    "2": "HL-U509",
                                    "3": "0"
                                },
                                {
                                    "0": "709",
                                    "1": "Mountain Bike Socks, M",
                                    "2": "SO-B909-M",
                                    "3": "0"
                                },
                                {
                                    "0": "710",
                                    "1": "Mountain Bike Socks, L",
                                    "2": "SO-B909-L",
                                    "3": "0"
                                },
                                {
                                    "0": "711",
                                    "1": "Sport-100 Helmet, Blue",
                                    "2": "HL-U509-B",
                                    "3": "0"
                                },
                                {
                                    "0": "712",
                                    "1": "AWC Logo Cap",
                                    "2": "CA-1098",
                                    "3": "0"
                                },
                                {
                                    "0": "713",
                                    "1": "Long-Sleeve Logo Jersey, S",
                                    "2": "LJ-0192-S",
                                    "3": "0"
                                },
                                {
                                    "0": "714",
                                    "1": "Long-Sleeve Logo Jersey, M",
                                    "2": "LJ-0192-M",
                                    "3": "0"
                                },
                                {
                                    "0": "715",
                                    "1": "Long-Sleeve Logo Jersey, L",
                                    "2": "LJ-0192-L",
                                    "3": "0"
                                },
                                {
                                    "0": "716",
                                    "1": "Long-Sleeve Logo Jersey, XL",
                                    "2": "LJ-0192-X",
                                    "3": "0"
                                },
                                {
                                    "0": "717",
                                    "1": "HL Road Frame - Red, 62",
                                    "2": "FR-R92R-62",
                                    "3": "0"
                                },
                                {
                                    "0": "718",
                                    "1": "HL Road Frame - Red, 44",
                                    "2": "FR-R92R-44",
                                    "3": "0"
                                },
                                {
                                    "0": "719",
                                    "1": "HL Road Frame - Red, 48",
                                    "2": "FR-R92R-48",
                                    "3": "0"
                                },
                                {
                                    "0": "720",
                                    "1": "HL Road Frame - Red, 52",
                                    "2": "FR-R92R-52",
                                    "3": "0"
                                },
                                {
                                    "0": "721",
                                    "1": "HL Road Frame - Red, 56",
                                    "2": "FR-R92R-56",
                                    "3": "0"
                                },
                                {
                                    "0": "722",
                                    "1": "LL Road Frame - Black, 58",
                                    "2": "FR-R38B-58",
                                    "3": "0"
                                },
                                {
                                    "0": "723",
                                    "1": "LL Road Frame - Black, 60",
                                    "2": "FR-R38B-60",
                                    "3": "0"
                                },
                                {
                                    "0": "724",
                                    "1": "LL Road Frame - Black, 62",
                                    "2": "FR-R38B-62",
                                    "3": "0"
                                },
                                {
                                    "0": "725",
                                    "1": "LL Road Frame - Red, 44",
                                    "2": "FR-R38R-44",
                                    "3": "0"
                                },
                                {
                                    "0": "726",
                                    "1": "LL Road Frame - Red, 48",
                                    "2": "FR-R38R-48",
                                    "3": "0"
                                },
                                {
                                    "0": "727",
                                    "1": "LL Road Frame - Red, 52",
                                    "2": "FR-R38R-52",
                                    "3": "0"
                                },
                                {
                                    "0": "728",
                                    "1": "LL Road Frame - Red, 58",
                                    "2": "FR-R38R-58",
                                    "3": "0"
                                },
                                {
                                    "0": "729",
                                    "1": "LL Road Frame - Red, 60",
                                    "2": "FR-R38R-60",
                                    "3": "0"
                                },
                                {
                                    "0": "730",
                                    "1": "LL Road Frame - Red, 62",
                                    "2": "FR-R38R-62",
                                    "3": "0"
                                },
                                {
                                    "0": "731",
                                    "1": "ML Road Frame - Red, 44",
                                    "2": "FR-R72R-44",
                                    "3": "0"
                                },
                                {
                                    "0": "732",
                                    "1": "ML Road Frame - Red, 48",
                                    "2": "FR-R72R-48",
                                    "3": "0"
                                },
                                {
                                    "0": "733",
                                    "1": "ML Road Frame - Red, 52",
                                    "2": "FR-R72R-52",
                                    "3": "0"
                                },
                                {
                                    "0": "734",
                                    "1": "ML Road Frame - Red, 58",
                                    "2": "FR-R72R-58",
                                    "3": "0"
                                },
                                {
                                    "0": "735",
                                    "1": "ML Road Frame - Red, 60",
                                    "2": "FR-R72R-60",
                                    "3": "0"
                                },
                                {
                                    "0": "736",
                                    "1": "LL Road Frame - Black, 44",
                                    "2": "FR-R38B-44",
                                    "3": "0"
                                },
                                {
                                    "0": "737",
                                    "1": "LL Road Frame - Black, 48",
                                    "2": "FR-R38B-48",
                                    "3": "0"
                                },
                                {
                                    "0": "738",
                                    "1": "LL Road Frame - Black, 52",
                                    "2": "FR-R38B-52",
                                    "3": "0"
                                },
                                {
                                    "0": "739",
                                    "1": "HL Mountain Frame - Silver, 42",
                                    "2": "FR-M94S-42",
                                    "3": "0"
                                },
                                {
                                    "0": "740",
                                    "1": "HL Mountain Frame - Silver, 44",
                                    "2": "FR-M94S-44",
                                    "3": "0"
                                },
                                {
                                    "0": "741",
                                    "1": "HL Mountain Frame - Silver, 48",
                                    "2": "FR-M94S-52",
                                    "3": "0"
                                },
                                {
                                    "0": "742",
                                    "1": "HL Mountain Frame - Silver, 46",
                                    "2": "FR-M94S-46",
                                    "3": "0"
                                },
                                {
                                    "0": "743",
                                    "1": "HL Mountain Frame - Black, 42",
                                    "2": "FR-M94B-42",
                                    "3": "0"
                                },
                                {
                                    "0": "744",
                                    "1": "HL Mountain Frame - Black, 44",
                                    "2": "FR-M94B-44",
                                    "3": "0"
                                },
                                {
                                    "0": "745",
                                    "1": "HL Mountain Frame - Black, 48",
                                    "2": "FR-M94B-48",
                                    "3": "0"
                                },
                                {
                                    "0": "746",
                                    "1": "HL Mountain Frame - Black, 46",
                                    "2": "FR-M94B-46",
                                    "3": "0"
                                },
                                {
                                    "0": "747",
                                    "1": "HL Mountain Frame - Black, 38",
                                    "2": "FR-M94B-38",
                                    "3": "0"
                                },
                                {
                                    "0": "748",
                                    "1": "HL Mountain Frame - Silver, 38",
                                    "2": "FR-M94S-38",
                                    "3": "0"
                                },
                                {
                                    "0": "749",
                                    "1": "Road-150 Red, 62",
                                    "2": "BK-R93R-62",
                                    "3": "0"
                                },
                                {
                                    "0": "750",
                                    "1": "Road-150 Red, 44",
                                    "2": "BK-R93R-44",
                                    "3": "0"
                                },
                                {
                                    "0": "751",
                                    "1": "Road-150 Red, 48",
                                    "2": "BK-R93R-48",
                                    "3": "0"
                                },
                                {
                                    "0": "752",
                                    "1": "Road-150 Red, 52",
                                    "2": "BK-R93R-52",
                                    "3": "0"
                                },
                                {
                                    "0": "753",
                                    "1": "Road-150 Red, 56",
                                    "2": "BK-R93R-56",
                                    "3": "0"
                                },
                                {
                                    "0": "754",
                                    "1": "Road-450 Red, 58",
                                    "2": "BK-R68R-58",
                                    "3": "0"
                                },
                                {
                                    "0": "755",
                                    "1": "Road-450 Red, 60",
                                    "2": "BK-R68R-60",
                                    "3": "0"
                                },
                                {
                                    "0": "756",
                                    "1": "Road-450 Red, 44",
                                    "2": "BK-R68R-44",
                                    "3": "0"
                                },
                                {
                                    "0": "757",
                                    "1": "Road-450 Red, 48",
                                    "2": "BK-R68R-48",
                                    "3": "0"
                                },
                                {
                                    "0": "758",
                                    "1": "Road-450 Red, 52",
                                    "2": "BK-R68R-52",
                                    "3": "0"
                                },
                                {
                                    "0": "759",
                                    "1": "Road-650 Red, 58",
                                    "2": "BK-R50R-58",
                                    "3": "0"
                                },
                                {
                                    "0": "760",
                                    "1": "Road-650 Red, 60",
                                    "2": "BK-R50R-60",
                                    "3": "0"
                                },
                                {
                                    "0": "761",
                                    "1": "Road-650 Red, 62",
                                    "2": "BK-R50R-62",
                                    "3": "0"
                                },
                                {
                                    "0": "762",
                                    "1": "Road-650 Red, 44",
                                    "2": "BK-R50R-44",
                                    "3": "0"
                                },
                                {
                                    "0": "763",
                                    "1": "Road-650 Red, 48",
                                    "2": "BK-R50R-48",
                                    "3": "0"
                                },
                                {
                                    "0": "764",
                                    "1": "Road-650 Red, 52",
                                    "2": "BK-R50R-52",
                                    "3": "0"
                                },
                                {
                                    "0": "765",
                                    "1": "Road-650 Black, 58",
                                    "2": "BK-R50B-58",
                                    "3": "0"
                                },
                                {
                                    "0": "766",
                                    "1": "Road-650 Black, 60",
                                    "2": "BK-R50B-60",
                                    "3": "0"
                                },
                                {
                                    "0": "767",
                                    "1": "Road-650 Black, 62",
                                    "2": "BK-R50B-62",
                                    "3": "0"
                                },
                                {
                                    "0": "768",
                                    "1": "Road-650 Black, 44",
                                    "2": "BK-R50B-44",
                                    "3": "0"
                                },
                                {
                                    "0": "769",
                                    "1": "Road-650 Black, 48",
                                    "2": "BK-R50B-48",
                                    "3": "0"
                                },
                                {
                                    "0": "770",
                                    "1": "Road-650 Black, 52",
                                    "2": "BK-R50B-52",
                                    "3": "0"
                                },
                                {
                                    "0": "771",
                                    "1": "Mountain-100 Silver, 38",
                                    "2": "BK-M82S-38",
                                    "3": "0"
                                },
                                {
                                    "0": "772",
                                    "1": "Mountain-100 Silver, 42",
                                    "2": "BK-M82S-42",
                                    "3": "0"
                                },
                                {
                                    "0": "773",
                                    "1": "Mountain-100 Silver, 44",
                                    "2": "BK-M82S-44",
                                    "3": "0"
                                },
                                {
                                    "0": "774",
                                    "1": "Mountain-100 Silver, 48",
                                    "2": "BK-M82S-48",
                                    "3": "0"
                                },
                                {
                                    "0": "775",
                                    "1": "Mountain-100 Black, 38",
                                    "2": "BK-M82B-38",
                                    "3": "0"
                                },
                                {
                                    "0": "776",
                                    "1": "Mountain-100 Black, 42",
                                    "2": "BK-M82B-42",
                                    "3": "0"
                                },
                                {
                                    "0": "777",
                                    "1": "Mountain-100 Black, 44",
                                    "2": "BK-M82B-44",
                                    "3": "0"
                                },
                                {
                                    "0": "778",
                                    "1": "Mountain-100 Black, 48",
                                    "2": "BK-M82B-48",
                                    "3": "0"
                                },
                                {
                                    "0": "779",
                                    "1": "Mountain-200 Silver, 38",
                                    "2": "BK-M68S-38",
                                    "3": "0"
                                },
                                {
                                    "0": "780",
                                    "1": "Mountain-200 Silver, 42",
                                    "2": "BK-M68S-42",
                                    "3": "0"
                                },
                                {
                                    "0": "781",
                                    "1": "Mountain-200 Silver, 46",
                                    "2": "BK-M68S-46",
                                    "3": "0"
                                },
                                {
                                    "0": "782",
                                    "1": "Mountain-200 Black, 38",
                                    "2": "BK-M68B-38",
                                    "3": "0"
                                },
                                {
                                    "0": "783",
                                    "1": "Mountain-200 Black, 42",
                                    "2": "BK-M68B-42",
                                    "3": "0"
                                },
                                {
                                    "0": "784",
                                    "1": "Mountain-200 Black, 46",
                                    "2": "BK-M68B-46",
                                    "3": "0"
                                },
                                {
                                    "0": "785",
                                    "1": "Mountain-300 Black, 38",
                                    "2": "BK-M47B-38",
                                    "3": "0"
                                },
                                {
                                    "0": "786",
                                    "1": "Mountain-300 Black, 40",
                                    "2": "BK-M47B-40",
                                    "3": "0"
                                },
                                {
                                    "0": "787",
                                    "1": "Mountain-300 Black, 44",
                                    "2": "BK-M47B-44",
                                    "3": "0"
                                },
                                {
                                    "0": "788",
                                    "1": "Mountain-300 Black, 48",
                                    "2": "BK-M47B-48",
                                    "3": "0"
                                },
                                {
                                    "0": "789",
                                    "1": "Road-250 Red, 44",
                                    "2": "BK-R89R-44",
                                    "3": "0"
                                },
                                {
                                    "0": "790",
                                    "1": "Road-250 Red, 48",
                                    "2": "BK-R89R-48",
                                    "3": "0"
                                },
                                {
                                    "0": "791",
                                    "1": "Road-250 Red, 52",
                                    "2": "BK-R89R-52",
                                    "3": "0"
                                },
                                {
                                    "0": "792",
                                    "1": "Road-250 Red, 58",
                                    "2": "BK-R89R-58",
                                    "3": "0"
                                },
                                {
                                    "0": "793",
                                    "1": "Road-250 Black, 44",
                                    "2": "BK-R89B-44",
                                    "3": "0"
                                },
                                {
                                    "0": "794",
                                    "1": "Road-250 Black, 48",
                                    "2": "BK-R89B-48",
                                    "3": "0"
                                },
                                {
                                    "0": "795",
                                    "1": "Road-250 Black, 52",
                                    "2": "BK-R89B-52",
                                    "3": "0"
                                },
                                {
                                    "0": "796",
                                    "1": "Road-250 Black, 58",
                                    "2": "BK-R89B-58",
                                    "3": "0"
                                },
                                {
                                    "0": "797",
                                    "1": "Road-550-W Yellow, 38",
                                    "2": "BK-R64Y-38",
                                    "3": "0"
                                },
                                {
                                    "0": "798",
                                    "1": "Road-550-W Yellow, 40",
                                    "2": "BK-R64Y-40",
                                    "3": "0"
                                },
                                {
                                    "0": "799",
                                    "1": "Road-550-W Yellow, 42",
                                    "2": "BK-R64Y-42",
                                    "3": "0"
                                },
                                {
                                    "0": "800",
                                    "1": "Road-550-W Yellow, 44",
                                    "2": "BK-R64Y-44",
                                    "3": "0"
                                },
                                {
                                    "0": "801",
                                    "1": "Road-550-W Yellow, 48",
                                    "2": "BK-R64Y-48",
                                    "3": "0"
                                },
                                {
                                    "0": "802",
                                    "1": "LL Fork",
                                    "2": "FK-1639",
                                    "3": "0"
                                },
                                {
                                    "0": "803",
                                    "1": "ML Fork",
                                    "2": "FK-5136",
                                    "3": "0"
                                },
                                {
                                    "0": "804",
                                    "1": "HL Fork",
                                    "2": "FK-9939",
                                    "3": "0"
                                },
                                {
                                    "0": "805",
                                    "1": "LL Headset",
                                    "2": "HS-0296",
                                    "3": "265"
                                },
                                {
                                    "0": "806",
                                    "1": "ML Headset",
                                    "2": "HS-2451",
                                    "3": "268"
                                },
                                {
                                    "0": "807",
                                    "1": "HL Headset",
                                    "2": "HS-3479",
                                    "3": "272"
                                },
                                {
                                    "0": "808",
                                    "1": "LL Mountain Handlebars",
                                    "2": "HB-M243",
                                    "3": "0"
                                },
                                {
                                    "0": "809",
                                    "1": "ML Mountain Handlebars",
                                    "2": "HB-M763",
                                    "3": "0"
                                },
                                {
                                    "0": "810",
                                    "1": "HL Mountain Handlebars",
                                    "2": "HB-M918",
                                    "3": "0"
                                },
                                {
                                    "0": "811",
                                    "1": "LL Road Handlebars",
                                    "2": "HB-R504",
                                    "3": "0"
                                },
                                {
                                    "0": "812",
                                    "1": "ML Road Handlebars",
                                    "2": "HB-R720",
                                    "3": "0"
                                },
                                {
                                    "0": "813",
                                    "1": "HL Road Handlebars",
                                    "2": "HB-R956",
                                    "3": "0"
                                },
                                {
                                    "0": "814",
                                    "1": "ML Mountain Frame - Black, 38",
                                    "2": "FR-M63B-38",
                                    "3": "0"
                                },
                                {
                                    "0": "815",
                                    "1": "LL Mountain Front Wheel",
                                    "2": "FW-M423",
                                    "3": "0"
                                },
                                {
                                    "0": "816",
                                    "1": "ML Mountain Front Wheel",
                                    "2": "FW-M762",
                                    "3": "0"
                                },
                                {
                                    "0": "817",
                                    "1": "HL Mountain Front Wheel",
                                    "2": "FW-M928",
                                    "3": "0"
                                },
                                {
                                    "0": "818",
                                    "1": "LL Road Front Wheel",
                                    "2": "FW-R623",
                                    "3": "0"
                                },
                                {
                                    "0": "819",
                                    "1": "ML Road Front Wheel",
                                    "2": "FW-R762",
                                    "3": "0"
                                },
                                {
                                    "0": "820",
                                    "1": "HL Road Front Wheel",
                                    "2": "FW-R820",
                                    "3": "0"
                                },
                                {
                                    "0": "821",
                                    "1": "Touring Front Wheel",
                                    "2": "FW-T905",
                                    "3": "0"
                                },
                                {
                                    "0": "822",
                                    "1": "ML Road Frame-W - Yellow, 38",
                                    "2": "FR-R72Y-38",
                                    "3": "0"
                                },
                                {
                                    "0": "823",
                                    "1": "LL Mountain Rear Wheel",
                                    "2": "RW-M423",
                                    "3": "425"
                                },
                                {
                                    "0": "824",
                                    "1": "ML Mountain Rear Wheel",
                                    "2": "RW-M762",
                                    "3": "411"
                                },
                                {
                                    "0": "825",
                                    "1": "HL Mountain Rear Wheel",
                                    "2": "RW-M928",
                                    "3": "396"
                                },
                                {
                                    "0": "826",
                                    "1": "LL Road Rear Wheel",
                                    "2": "RW-R623",
                                    "3": "393"
                                },
                                {
                                    "0": "827",
                                    "1": "ML Road Rear Wheel",
                                    "2": "RW-R762",
                                    "3": "412"
                                },
                                {
                                    "0": "828",
                                    "1": "HL Road Rear Wheel",
                                    "2": "RW-R820",
                                    "3": "432"
                                },
                                {
                                    "0": "829",
                                    "1": "Touring Rear Wheel",
                                    "2": "RW-T905",
                                    "3": "265"
                                },
                                {
                                    "0": "830",
                                    "1": "ML Mountain Frame - Black, 40",
                                    "2": "FR-M63B-40",
                                    "3": "0"
                                },
                                {
                                    "0": "831",
                                    "1": "ML Mountain Frame - Black, 44",
                                    "2": "FR-M63B-44",
                                    "3": "0"
                                },
                                {
                                    "0": "832",
                                    "1": "ML Mountain Frame - Black, 48",
                                    "2": "FR-M63B-48",
                                    "3": "0"
                                },
                                {
                                    "0": "833",
                                    "1": "ML Road Frame-W - Yellow, 40",
                                    "2": "FR-R72Y-40",
                                    "3": "0"
                                },
                                {
                                    "0": "834",
                                    "1": "ML Road Frame-W - Yellow, 42",
                                    "2": "FR-R72Y-42",
                                    "3": "0"
                                },
                                {
                                    "0": "835",
                                    "1": "ML Road Frame-W - Yellow, 44",
                                    "2": "FR-R72Y-44",
                                    "3": "0"
                                },
                                {
                                    "0": "836",
                                    "1": "ML Road Frame-W - Yellow, 48",
                                    "2": "FR-R72Y-48",
                                    "3": "0"
                                },
                                {
                                    "0": "837",
                                    "1": "HL Road Frame - Black, 62",
                                    "2": "FR-R92B-62",
                                    "3": "0"
                                },
                                {
                                    "0": "838",
                                    "1": "HL Road Frame - Black, 44",
                                    "2": "FR-R92B-44",
                                    "3": "0"
                                },
                                {
                                    "0": "839",
                                    "1": "HL Road Frame - Black, 48",
                                    "2": "FR-R92B-48",
                                    "3": "0"
                                },
                                {
                                    "0": "840",
                                    "1": "HL Road Frame - Black, 52",
                                    "2": "FR-R92B-52",
                                    "3": "0"
                                },
                                {
                                    "0": "841",
                                    "1": "Men's Sports Shorts, S",
                                    "2": "SH-M897-S",
                                    "3": "0"
                                },
                                {
                                    "0": "842",
                                    "1": "Touring-Panniers, Large",
                                    "2": "PA-T100",
                                    "3": "0"
                                },
                                {
                                    "0": "843",
                                    "1": "Cable Lock",
                                    "2": "LO-C100",
                                    "3": "0"
                                },
                                {
                                    "0": "844",
                                    "1": "Minipump",
                                    "2": "PU-0452",
                                    "3": "0"
                                },
                                {
                                    "0": "845",
                                    "1": "Mountain Pump",
                                    "2": "PU-M044",
                                    "3": "0"
                                },
                                {
                                    "0": "846",
                                    "1": "Taillights - Battery-Powered",
                                    "2": "LT-T990",
                                    "3": "0"
                                },
                                {
                                    "0": "847",
                                    "1": "Headlights - Dual-Beam",
                                    "2": "LT-H902",
                                    "3": "0"
                                },
                                {
                                    "0": "848",
                                    "1": "Headlights - Weatherproof",
                                    "2": "LT-H903",
                                    "3": "0"
                                },
                                {
                                    "0": "849",
                                    "1": "Men's Sports Shorts, M",
                                    "2": "SH-M897-M",
                                    "3": "0"
                                },
                                {
                                    "0": "850",
                                    "1": "Men's Sports Shorts, L",
                                    "2": "SH-M897-L",
                                    "3": "0"
                                },
                                {
                                    "0": "851",
                                    "1": "Men's Sports Shorts, XL",
                                    "2": "SH-M897-X",
                                    "3": "0"
                                },
                                {
                                    "0": "852",
                                    "1": "Women's Tights, S",
                                    "2": "TG-W091-S",
                                    "3": "0"
                                },
                                {
                                    "0": "853",
                                    "1": "Women's Tights, M",
                                    "2": "TG-W091-M",
                                    "3": "0"
                                },
                                {
                                    "0": "854",
                                    "1": "Women's Tights, L",
                                    "2": "TG-W091-L",
                                    "3": "0"
                                },
                                {
                                    "0": "855",
                                    "1": "Men's Bib-Shorts, S",
                                    "2": "SB-M891-S",
                                    "3": "0"
                                },
                                {
                                    "0": "856",
                                    "1": "Men's Bib-Shorts, M",
                                    "2": "SB-M891-M",
                                    "3": "0"
                                },
                                {
                                    "0": "857",
                                    "1": "Men's Bib-Shorts, L",
                                    "2": "SB-M891-L",
                                    "3": "0"
                                },
                                {
                                    "0": "858",
                                    "1": "Half-Finger Gloves, S",
                                    "2": "GL-H102-S",
                                    "3": "0"
                                },
                                {
                                    "0": "859",
                                    "1": "Half-Finger Gloves, M",
                                    "2": "GL-H102-M",
                                    "3": "0"
                                },
                                {
                                    "0": "860",
                                    "1": "Half-Finger Gloves, L",
                                    "2": "GL-H102-L",
                                    "3": "0"
                                },
                                {
                                    "0": "861",
                                    "1": "Full-Finger Gloves, S",
                                    "2": "GL-F110-S",
                                    "3": "0"
                                },
                                {
                                    "0": "862",
                                    "1": "Full-Finger Gloves, M",
                                    "2": "GL-F110-M",
                                    "3": "0"
                                },
                                {
                                    "0": "863",
                                    "1": "Full-Finger Gloves, L",
                                    "2": "GL-F110-L",
                                    "3": "0"
                                },
                                {
                                    "0": "864",
                                    "1": "Classic Vest, S",
                                    "2": "VE-C304-S",
                                    "3": "0"
                                },
                                {
                                    "0": "865",
                                    "1": "Classic Vest, M",
                                    "2": "VE-C304-M",
                                    "3": "0"
                                },
                                {
                                    "0": "866",
                                    "1": "Classic Vest, L",
                                    "2": "VE-C304-L",
                                    "3": "0"
                                },
                                {
                                    "0": "867",
                                    "1": "Women's Mountain Shorts, S",
                                    "2": "SH-W890-S",
                                    "3": "0"
                                },
                                {
                                    "0": "868",
                                    "1": "Women's Mountain Shorts, M",
                                    "2": "SH-W890-M",
                                    "3": "0"
                                },
                                {
                                    "0": "869",
                                    "1": "Women's Mountain Shorts, L",
                                    "2": "SH-W890-L",
                                    "3": "0"
                                },
                                {
                                    "0": "870",
                                    "1": "Water Bottle - 30 oz.",
                                    "2": "WB-H098",
                                    "3": "0"
                                },
                                {
                                    "0": "871",
                                    "1": "Mountain Bottle Cage",
                                    "2": "BC-M005",
                                    "3": "0"
                                },
                                {
                                    "0": "872",
                                    "1": "Road Bottle Cage",
                                    "2": "BC-R205",
                                    "3": "0"
                                },
                                {
                                    "0": "873",
                                    "1": "Patch Kit/8 Patches",
                                    "2": "PK-7098",
                                    "3": "0"
                                },
                                {
                                    "0": "874",
                                    "1": "Racing Socks, M",
                                    "2": "SO-R809-M",
                                    "3": "0"
                                },
                                {
                                    "0": "875",
                                    "1": "Racing Socks, L",
                                    "2": "SO-R809-L",
                                    "3": "0"
                                },
                                {
                                    "0": "876",
                                    "1": "Hitch Rack - 4-Bike",
                                    "2": "RA-H123",
                                    "3": "0"
                                },
                                {
                                    "0": "877",
                                    "1": "Bike Wash - Dissolver",
                                    "2": "CL-9009",
                                    "3": "0"
                                },
                                {
                                    "0": "878",
                                    "1": "Fender Set - Mountain",
                                    "2": "FE-6654",
                                    "3": "0"
                                },
                                {
                                    "0": "879",
                                    "1": "All-Purpose Bike Stand",
                                    "2": "ST-1401",
                                    "3": "0"
                                },
                                {
                                    "0": "880",
                                    "1": "Hydration Pack - 70 oz.",
                                    "2": "HY-1023-70",
                                    "3": "0"
                                },
                                {
                                    "0": "881",
                                    "1": "Short-Sleeve Classic Jersey, S",
                                    "2": "SJ-0194-S",
                                    "3": "0"
                                },
                                {
                                    "0": "882",
                                    "1": "Short-Sleeve Classic Jersey, M",
                                    "2": "SJ-0194-M",
                                    "3": "0"
                                },
                                {
                                    "0": "883",
                                    "1": "Short-Sleeve Classic Jersey, L",
                                    "2": "SJ-0194-L",
                                    "3": "0"
                                },
                                {
                                    "0": "884",
                                    "1": "Short-Sleeve Classic Jersey, XL",
                                    "2": "SJ-0194-X",
                                    "3": "0"
                                },
                                {
                                    "0": "885",
                                    "1": "HL Touring Frame - Yellow, 60",
                                    "2": "FR-T98Y-60",
                                    "3": "0"
                                },
                                {
                                    "0": "886",
                                    "1": "LL Touring Frame - Yellow, 62",
                                    "2": "FR-T67Y-62",
                                    "3": "0"
                                },
                                {
                                    "0": "887",
                                    "1": "HL Touring Frame - Yellow, 46",
                                    "2": "FR-T98Y-46",
                                    "3": "0"
                                },
                                {
                                    "0": "888",
                                    "1": "HL Touring Frame - Yellow, 50",
                                    "2": "FR-T98Y-50",
                                    "3": "0"
                                },
                                {
                                    "0": "889",
                                    "1": "HL Touring Frame - Yellow, 54",
                                    "2": "FR-T98Y-54",
                                    "3": "0"
                                },
                                {
                                    "0": "890",
                                    "1": "HL Touring Frame - Blue, 46",
                                    "2": "FR-T98U-46",
                                    "3": "0"
                                },
                                {
                                    "0": "891",
                                    "1": "HL Touring Frame - Blue, 50",
                                    "2": "FR-T98U-50",
                                    "3": "0"
                                },
                                {
                                    "0": "892",
                                    "1": "HL Touring Frame - Blue, 54",
                                    "2": "FR-T98U-54",
                                    "3": "0"
                                },
                                {
                                    "0": "893",
                                    "1": "HL Touring Frame - Blue, 60",
                                    "2": "FR-T98U-60",
                                    "3": "0"
                                },
                                {
                                    "0": "894",
                                    "1": "Rear Derailleur",
                                    "2": "RD-2308",
                                    "3": "355"
                                },
                                {
                                    "0": "895",
                                    "1": "LL Touring Frame - Blue, 50",
                                    "2": "FR-T67U-50",
                                    "3": "0"
                                },
                                {
                                    "0": "896",
                                    "1": "LL Touring Frame - Blue, 54",
                                    "2": "FR-T67U-54",
                                    "3": "0"
                                },
                                {
                                    "0": "897",
                                    "1": "LL Touring Frame - Blue, 58",
                                    "2": "FR-T67U-58",
                                    "3": "0"
                                },
                                {
                                    "0": "898",
                                    "1": "LL Touring Frame - Blue, 62",
                                    "2": "FR-T67U-62",
                                    "3": "0"
                                },
                                {
                                    "0": "899",
                                    "1": "LL Touring Frame - Yellow, 44",
                                    "2": "FR-T67Y-44",
                                    "3": "0"
                                },
                                {
                                    "0": "900",
                                    "1": "LL Touring Frame - Yellow, 50",
                                    "2": "FR-T67Y-50",
                                    "3": "0"
                                },
                                {
                                    "0": "901",
                                    "1": "LL Touring Frame - Yellow, 54",
                                    "2": "FR-T67Y-54",
                                    "3": "0"
                                },
                                {
                                    "0": "902",
                                    "1": "LL Touring Frame - Yellow, 58",
                                    "2": "FR-T67Y-58",
                                    "3": "0"
                                },
                                {
                                    "0": "903",
                                    "1": "LL Touring Frame - Blue, 44",
                                    "2": "FR-T67U-44",
                                    "3": "0"
                                },
                                {
                                    "0": "904",
                                    "1": "ML Mountain Frame-W - Silver, 40",
                                    "2": "FR-M63S-40",
                                    "3": "0"
                                },
                                {
                                    "0": "905",
                                    "1": "ML Mountain Frame-W - Silver, 42",
                                    "2": "FR-M63S-42",
                                    "3": "0"
                                },
                                {
                                    "0": "906",
                                    "1": "ML Mountain Frame-W - Silver, 46",
                                    "2": "FR-M63S-46",
                                    "3": "0"
                                },
                                {
                                    "0": "907",
                                    "1": "Rear Brakes",
                                    "2": "RB-9231",
                                    "3": "228"
                                },
                                {
                                    "0": "908",
                                    "1": "LL Mountain Seat/Saddle",
                                    "2": "SE-M236",
                                    "3": "400"
                                },
                                {
                                    "0": "909",
                                    "1": "ML Mountain Seat/Saddle",
                                    "2": "SE-M798",
                                    "3": "230"
                                },
                                {
                                    "0": "910",
                                    "1": "HL Mountain Seat/Saddle",
                                    "2": "SE-M940",
                                    "3": "91"
                                },
                                {
                                    "0": "911",
                                    "1": "LL Road Seat/Saddle",
                                    "2": "SE-R581",
                                    "3": "283"
                                },
                                {
                                    "0": "912",
                                    "1": "ML Road Seat/Saddle",
                                    "2": "SE-R908",
                                    "3": "302"
                                },
                                {
                                    "0": "913",
                                    "1": "HL Road Seat/Saddle",
                                    "2": "SE-R995",
                                    "3": "169"
                                },
                                {
                                    "0": "914",
                                    "1": "LL Touring Seat/Saddle",
                                    "2": "SE-T312",
                                    "3": "248"
                                },
                                {
                                    "0": "915",
                                    "1": "ML Touring Seat/Saddle",
                                    "2": "SE-T762",
                                    "3": "161"
                                },
                                {
                                    "0": "916",
                                    "1": "HL Touring Seat/Saddle",
                                    "2": "SE-T924",
                                    "3": "425"
                                },
                                {
                                    "0": "917",
                                    "1": "LL Mountain Frame - Silver, 42",
                                    "2": "FR-M21S-42",
                                    "3": "0"
                                },
                                {
                                    "0": "918",
                                    "1": "LL Mountain Frame - Silver, 44",
                                    "2": "FR-M21S-44",
                                    "3": "0"
                                },
                                {
                                    "0": "919",
                                    "1": "LL Mountain Frame - Silver, 48",
                                    "2": "FR-M21S-48",
                                    "3": "0"
                                },
                                {
                                    "0": "920",
                                    "1": "LL Mountain Frame - Silver, 52",
                                    "2": "FR-M21S-52",
                                    "3": "0"
                                },
                                {
                                    "0": "921",
                                    "1": "Mountain Tire Tube",
                                    "2": "TT-M928",
                                    "3": "286"
                                },
                                {
                                    "0": "922",
                                    "1": "Road Tire Tube",
                                    "2": "TT-R982",
                                    "3": "264"
                                },
                                {
                                    "0": "923",
                                    "1": "Touring Tire Tube",
                                    "2": "TT-T092",
                                    "3": "262"
                                },
                                {
                                    "0": "924",
                                    "1": "LL Mountain Frame - Black, 42",
                                    "2": "FR-M21B-42",
                                    "3": "0"
                                },
                                {
                                    "0": "925",
                                    "1": "LL Mountain Frame - Black, 44",
                                    "2": "FR-M21B-44",
                                    "3": "0"
                                },
                                {
                                    "0": "926",
                                    "1": "LL Mountain Frame - Black, 48",
                                    "2": "FR-M21B-48",
                                    "3": "0"
                                },
                                {
                                    "0": "927",
                                    "1": "LL Mountain Frame - Black, 52",
                                    "2": "FR-M21B-52",
                                    "3": "0"
                                },
                                {
                                    "0": "928",
                                    "1": "LL Mountain Tire",
                                    "2": "TI-M267",
                                    "3": "240"
                                },
                                {
                                    "0": "929",
                                    "1": "ML Mountain Tire",
                                    "2": "TI-M602",
                                    "3": "385"
                                },
                                {
                                    "0": "930",
                                    "1": "HL Mountain Tire",
                                    "2": "TI-M823",
                                    "3": "267"
                                },
                                {
                                    "0": "931",
                                    "1": "LL Road Tire",
                                    "2": "TI-R092",
                                    "3": "236"
                                },
                                {
                                    "0": "932",
                                    "1": "ML Road Tire",
                                    "2": "TI-R628",
                                    "3": "382"
                                },
                                {
                                    "0": "933",
                                    "1": "HL Road Tire",
                                    "2": "TI-R982",
                                    "3": "299"
                                },
                                {
                                    "0": "934",
                                    "1": "Touring Tire",
                                    "2": "TI-T723",
                                    "3": "233"
                                },
                                {
                                    "0": "935",
                                    "1": "LL Mountain Pedal",
                                    "2": "PD-M282",
                                    "3": "182"
                                },
                                {
                                    "0": "936",
                                    "1": "ML Mountain Pedal",
                                    "2": "PD-M340",
                                    "3": "180"
                                },
                                {
                                    "0": "937",
                                    "1": "HL Mountain Pedal",
                                    "2": "PD-M562",
                                    "3": "179"
                                },
                                {
                                    "0": "938",
                                    "1": "LL Road Pedal",
                                    "2": "PD-R347",
                                    "3": "177"
                                },
                                {
                                    "0": "939",
                                    "1": "ML Road Pedal",
                                    "2": "PD-R563",
                                    "3": "176"
                                },
                                {
                                    "0": "940",
                                    "1": "HL Road Pedal",
                                    "2": "PD-R853",
                                    "3": "267"
                                },
                                {
                                    "0": "941",
                                    "1": "Touring Pedal",
                                    "2": "PD-T852",
                                    "3": "262"
                                },
                                {
                                    "0": "942",
                                    "1": "ML Mountain Frame-W - Silver, 38",
                                    "2": "FR-M63S-38",
                                    "3": "0"
                                },
                                {
                                    "0": "943",
                                    "1": "LL Mountain Frame - Black, 40",
                                    "2": "FR-M21B-40",
                                    "3": "0"
                                },
                                {
                                    "0": "944",
                                    "1": "LL Mountain Frame - Silver, 40",
                                    "2": "FR-M21S-40",
                                    "3": "0"
                                },
                                {
                                    "0": "945",
                                    "1": "Front Derailleur",
                                    "2": "FD-2342",
                                    "3": "0"
                                },
                                {
                                    "0": "946",
                                    "1": "LL Touring Handlebars",
                                    "2": "HB-T721",
                                    "3": "0"
                                },
                                {
                                    "0": "947",
                                    "1": "HL Touring Handlebars",
                                    "2": "HB-T928",
                                    "3": "0"
                                },
                                {
                                    "0": "948",
                                    "1": "Front Brakes",
                                    "2": "FB-9873",
                                    "3": "0"
                                },
                                {
                                    "0": "949",
                                    "1": "LL Crankset",
                                    "2": "CS-4759",
                                    "3": "0"
                                },
                                {
                                    "0": "950",
                                    "1": "ML Crankset",
                                    "2": "CS-6583",
                                    "3": "0"
                                },
                                {
                                    "0": "951",
                                    "1": "HL Crankset",
                                    "2": "CS-9183",
                                    "3": "0"
                                },
                                {
                                    "0": "952",
                                    "1": "Chain",
                                    "2": "CH-0234",
                                    "3": "0"
                                },
                                {
                                    "0": "953",
                                    "1": "Touring-2000 Blue, 60",
                                    "2": "BK-T44U-60",
                                    "3": "0"
                                },
                                {
                                    "0": "954",
                                    "1": "Touring-1000 Yellow, 46",
                                    "2": "BK-T79Y-46",
                                    "3": "0"
                                },
                                {
                                    "0": "955",
                                    "1": "Touring-1000 Yellow, 50",
                                    "2": "BK-T79Y-50",
                                    "3": "0"
                                },
                                {
                                    "0": "956",
                                    "1": "Touring-1000 Yellow, 54",
                                    "2": "BK-T79Y-54",
                                    "3": "0"
                                },
                                {
                                    "0": "957",
                                    "1": "Touring-1000 Yellow, 60",
                                    "2": "BK-T79Y-60",
                                    "3": "0"
                                },
                                {
                                    "0": "958",
                                    "1": "Touring-3000 Blue, 54",
                                    "2": "BK-T18U-54",
                                    "3": "0"
                                },
                                {
                                    "0": "959",
                                    "1": "Touring-3000 Blue, 58",
                                    "2": "BK-T18U-58",
                                    "3": "0"
                                },
                                {
                                    "0": "960",
                                    "1": "Touring-3000 Blue, 62",
                                    "2": "BK-T18U-62",
                                    "3": "0"
                                },
                                {
                                    "0": "961",
                                    "1": "Touring-3000 Yellow, 44",
                                    "2": "BK-T18Y-44",
                                    "3": "0"
                                },
                                {
                                    "0": "962",
                                    "1": "Touring-3000 Yellow, 50",
                                    "2": "BK-T18Y-50",
                                    "3": "0"
                                },
                                {
                                    "0": "963",
                                    "1": "Touring-3000 Yellow, 54",
                                    "2": "BK-T18Y-54",
                                    "3": "0"
                                },
                                {
                                    "0": "964",
                                    "1": "Touring-3000 Yellow, 58",
                                    "2": "BK-T18Y-58",
                                    "3": "0"
                                },
                                {
                                    "0": "965",
                                    "1": "Touring-3000 Yellow, 62",
                                    "2": "BK-T18Y-62",
                                    "3": "0"
                                },
                                {
                                    "0": "966",
                                    "1": "Touring-1000 Blue, 46",
                                    "2": "BK-T79U-46",
                                    "3": "0"
                                },
                                {
                                    "0": "967",
                                    "1": "Touring-1000 Blue, 50",
                                    "2": "BK-T79U-50",
                                    "3": "0"
                                },
                                {
                                    "0": "968",
                                    "1": "Touring-1000 Blue, 54",
                                    "2": "BK-T79U-54",
                                    "3": "0"
                                },
                                {
                                    "0": "969",
                                    "1": "Touring-1000 Blue, 60",
                                    "2": "BK-T79U-60",
                                    "3": "0"
                                },
                                {
                                    "0": "970",
                                    "1": "Touring-2000 Blue, 46",
                                    "2": "BK-T44U-46",
                                    "3": "0"
                                },
                                {
                                    "0": "971",
                                    "1": "Touring-2000 Blue, 50",
                                    "2": "BK-T44U-50",
                                    "3": "0"
                                },
                                {
                                    "0": "972",
                                    "1": "Touring-2000 Blue, 54",
                                    "2": "BK-T44U-54",
                                    "3": "0"
                                },
                                {
                                    "0": "973",
                                    "1": "Road-350-W Yellow, 40",
                                    "2": "BK-R79Y-40",
                                    "3": "0"
                                },
                                {
                                    "0": "974",
                                    "1": "Road-350-W Yellow, 42",
                                    "2": "BK-R79Y-42",
                                    "3": "0"
                                },
                                {
                                    "0": "975",
                                    "1": "Road-350-W Yellow, 44",
                                    "2": "BK-R79Y-44",
                                    "3": "0"
                                },
                                {
                                    "0": "976",
                                    "1": "Road-350-W Yellow, 48",
                                    "2": "BK-R79Y-48",
                                    "3": "0"
                                },
                                {
                                    "0": "977",
                                    "1": "Road-750 Black, 58",
                                    "2": "BK-R19B-58",
                                    "3": "0"
                                },
                                {
                                    "0": "978",
                                    "1": "Touring-3000 Blue, 44",
                                    "2": "BK-T18U-44",
                                    "3": "0"
                                },
                                {
                                    "0": "979",
                                    "1": "Touring-3000 Blue, 50",
                                    "2": "BK-T18U-50",
                                    "3": "0"
                                },
                                {
                                    "0": "980",
                                    "1": "Mountain-400-W Silver, 38",
                                    "2": "BK-M38S-38",
                                    "3": "0"
                                },
                                {
                                    "0": "981",
                                    "1": "Mountain-400-W Silver, 40",
                                    "2": "BK-M38S-40",
                                    "3": "0"
                                },
                                {
                                    "0": "982",
                                    "1": "Mountain-400-W Silver, 42",
                                    "2": "BK-M38S-42",
                                    "3": "0"
                                },
                                {
                                    "0": "983",
                                    "1": "Mountain-400-W Silver, 46",
                                    "2": "BK-M38S-46",
                                    "3": "0"
                                },
                                {
                                    "0": "984",
                                    "1": "Mountain-500 Silver, 40",
                                    "2": "BK-M18S-40",
                                    "3": "0"
                                },
                                {
                                    "0": "985",
                                    "1": "Mountain-500 Silver, 42",
                                    "2": "BK-M18S-42",
                                    "3": "0"
                                },
                                {
                                    "0": "986",
                                    "1": "Mountain-500 Silver, 44",
                                    "2": "BK-M18S-44",
                                    "3": "0"
                                },
                                {
                                    "0": "987",
                                    "1": "Mountain-500 Silver, 48",
                                    "2": "BK-M18S-48",
                                    "3": "0"
                                },
                                {
                                    "0": "988",
                                    "1": "Mountain-500 Silver, 52",
                                    "2": "BK-M18S-52",
                                    "3": "0"
                                },
                                {
                                    "0": "989",
                                    "1": "Mountain-500 Black, 40",
                                    "2": "BK-M18B-40",
                                    "3": "0"
                                },
                                {
                                    "0": "990",
                                    "1": "Mountain-500 Black, 42",
                                    "2": "BK-M18B-42",
                                    "3": "0"
                                },
                                {
                                    "0": "991",
                                    "1": "Mountain-500 Black, 44",
                                    "2": "BK-M18B-44",
                                    "3": "0"
                                },
                                {
                                    "0": "992",
                                    "1": "Mountain-500 Black, 48",
                                    "2": "BK-M18B-48",
                                    "3": "0"
                                },
                                {
                                    "0": "993",
                                    "1": "Mountain-500 Black, 52",
                                    "2": "BK-M18B-52",
                                    "3": "0"
                                },
                                {
                                    "0": "994",
                                    "1": "LL Bottom Bracket",
                                    "2": "BB-7421",
                                    "3": "358"
                                },
                                {
                                    "0": "995",
                                    "1": "ML Bottom Bracket",
                                    "2": "BB-8107",
                                    "3": "321"
                                },
                                {
                                    "0": "996",
                                    "1": "HL Bottom Bracket",
                                    "2": "BB-9108",
                                    "3": "475"
                                },
                                {
                                    "0": "997",
                                    "1": "Road-750 Black, 44",
                                    "2": "BK-R19B-44",
                                    "3": "0"
                                },
                                {
                                    "0": "998",
                                    "1": "Road-750 Black, 48",
                                    "2": "BK-R19B-48",
                                    "3": "0"
                                },
                                {
                                    "0": "999",
                                    "1": "Road-750 Black, 52",
                                    "2": "BK-R19B-52",
                                    "3": "0"
                                }
                            ]
                        },
                        "text/html": "<table><tr><th>ProductID</th><th>Name</th><th>ProductNumber</th><th>Level</th></tr><tr><td>680</td><td>HL Road Frame - Black, 58</td><td>FR-R92B-58</td><td>0</td></tr><tr><td>706</td><td>HL Road Frame - Red, 58</td><td>FR-R92R-58</td><td>0</td></tr><tr><td>707</td><td>Sport-100 Helmet, Red</td><td>HL-U509-R</td><td>0</td></tr><tr><td>708</td><td>Sport-100 Helmet, Black</td><td>HL-U509</td><td>0</td></tr><tr><td>709</td><td>Mountain Bike Socks, M</td><td>SO-B909-M</td><td>0</td></tr><tr><td>710</td><td>Mountain Bike Socks, L</td><td>SO-B909-L</td><td>0</td></tr><tr><td>711</td><td>Sport-100 Helmet, Blue</td><td>HL-U509-B</td><td>0</td></tr><tr><td>712</td><td>AWC Logo Cap</td><td>CA-1098</td><td>0</td></tr><tr><td>713</td><td>Long-Sleeve Logo Jersey, S</td><td>LJ-0192-S</td><td>0</td></tr><tr><td>714</td><td>Long-Sleeve Logo Jersey, M</td><td>LJ-0192-M</td><td>0</td></tr><tr><td>715</td><td>Long-Sleeve Logo Jersey, L</td><td>LJ-0192-L</td><td>0</td></tr><tr><td>716</td><td>Long-Sleeve Logo Jersey, XL</td><td>LJ-0192-X</td><td>0</td></tr><tr><td>717</td><td>HL Road Frame - Red, 62</td><td>FR-R92R-62</td><td>0</td></tr><tr><td>718</td><td>HL Road Frame - Red, 44</td><td>FR-R92R-44</td><td>0</td></tr><tr><td>719</td><td>HL Road Frame - Red, 48</td><td>FR-R92R-48</td><td>0</td></tr><tr><td>720</td><td>HL Road Frame - Red, 52</td><td>FR-R92R-52</td><td>0</td></tr><tr><td>721</td><td>HL Road Frame - Red, 56</td><td>FR-R92R-56</td><td>0</td></tr><tr><td>722</td><td>LL Road Frame - Black, 58</td><td>FR-R38B-58</td><td>0</td></tr><tr><td>723</td><td>LL Road Frame - Black, 60</td><td>FR-R38B-60</td><td>0</td></tr><tr><td>724</td><td>LL Road Frame - Black, 62</td><td>FR-R38B-62</td><td>0</td></tr><tr><td>725</td><td>LL Road Frame - Red, 44</td><td>FR-R38R-44</td><td>0</td></tr><tr><td>726</td><td>LL Road Frame - Red, 48</td><td>FR-R38R-48</td><td>0</td></tr><tr><td>727</td><td>LL Road Frame - Red, 52</td><td>FR-R38R-52</td><td>0</td></tr><tr><td>728</td><td>LL Road Frame - Red, 58</td><td>FR-R38R-58</td><td>0</td></tr><tr><td>729</td><td>LL Road Frame - Red, 60</td><td>FR-R38R-60</td><td>0</td></tr><tr><td>730</td><td>LL Road Frame - Red, 62</td><td>FR-R38R-62</td><td>0</td></tr><tr><td>731</td><td>ML Road Frame - Red, 44</td><td>FR-R72R-44</td><td>0</td></tr><tr><td>732</td><td>ML Road Frame - Red, 48</td><td>FR-R72R-48</td><td>0</td></tr><tr><td>733</td><td>ML Road Frame - Red, 52</td><td>FR-R72R-52</td><td>0</td></tr><tr><td>734</td><td>ML Road Frame - Red, 58</td><td>FR-R72R-58</td><td>0</td></tr><tr><td>735</td><td>ML Road Frame - Red, 60</td><td>FR-R72R-60</td><td>0</td></tr><tr><td>736</td><td>LL Road Frame - Black, 44</td><td>FR-R38B-44</td><td>0</td></tr><tr><td>737</td><td>LL Road Frame - Black, 48</td><td>FR-R38B-48</td><td>0</td></tr><tr><td>738</td><td>LL Road Frame - Black, 52</td><td>FR-R38B-52</td><td>0</td></tr><tr><td>739</td><td>HL Mountain Frame - Silver, 42</td><td>FR-M94S-42</td><td>0</td></tr><tr><td>740</td><td>HL Mountain Frame - Silver, 44</td><td>FR-M94S-44</td><td>0</td></tr><tr><td>741</td><td>HL Mountain Frame - Silver, 48</td><td>FR-M94S-52</td><td>0</td></tr><tr><td>742</td><td>HL Mountain Frame - Silver, 46</td><td>FR-M94S-46</td><td>0</td></tr><tr><td>743</td><td>HL Mountain Frame - Black, 42</td><td>FR-M94B-42</td><td>0</td></tr><tr><td>744</td><td>HL Mountain Frame - Black, 44</td><td>FR-M94B-44</td><td>0</td></tr><tr><td>745</td><td>HL Mountain Frame - Black, 48</td><td>FR-M94B-48</td><td>0</td></tr><tr><td>746</td><td>HL Mountain Frame - Black, 46</td><td>FR-M94B-46</td><td>0</td></tr><tr><td>747</td><td>HL Mountain Frame - Black, 38</td><td>FR-M94B-38</td><td>0</td></tr><tr><td>748</td><td>HL Mountain Frame - Silver, 38</td><td>FR-M94S-38</td><td>0</td></tr><tr><td>749</td><td>Road-150 Red, 62</td><td>BK-R93R-62</td><td>0</td></tr><tr><td>750</td><td>Road-150 Red, 44</td><td>BK-R93R-44</td><td>0</td></tr><tr><td>751</td><td>Road-150 Red, 48</td><td>BK-R93R-48</td><td>0</td></tr><tr><td>752</td><td>Road-150 Red, 52</td><td>BK-R93R-52</td><td>0</td></tr><tr><td>753</td><td>Road-150 Red, 56</td><td>BK-R93R-56</td><td>0</td></tr><tr><td>754</td><td>Road-450 Red, 58</td><td>BK-R68R-58</td><td>0</td></tr><tr><td>755</td><td>Road-450 Red, 60</td><td>BK-R68R-60</td><td>0</td></tr><tr><td>756</td><td>Road-450 Red, 44</td><td>BK-R68R-44</td><td>0</td></tr><tr><td>757</td><td>Road-450 Red, 48</td><td>BK-R68R-48</td><td>0</td></tr><tr><td>758</td><td>Road-450 Red, 52</td><td>BK-R68R-52</td><td>0</td></tr><tr><td>759</td><td>Road-650 Red, 58</td><td>BK-R50R-58</td><td>0</td></tr><tr><td>760</td><td>Road-650 Red, 60</td><td>BK-R50R-60</td><td>0</td></tr><tr><td>761</td><td>Road-650 Red, 62</td><td>BK-R50R-62</td><td>0</td></tr><tr><td>762</td><td>Road-650 Red, 44</td><td>BK-R50R-44</td><td>0</td></tr><tr><td>763</td><td>Road-650 Red, 48</td><td>BK-R50R-48</td><td>0</td></tr><tr><td>764</td><td>Road-650 Red, 52</td><td>BK-R50R-52</td><td>0</td></tr><tr><td>765</td><td>Road-650 Black, 58</td><td>BK-R50B-58</td><td>0</td></tr><tr><td>766</td><td>Road-650 Black, 60</td><td>BK-R50B-60</td><td>0</td></tr><tr><td>767</td><td>Road-650 Black, 62</td><td>BK-R50B-62</td><td>0</td></tr><tr><td>768</td><td>Road-650 Black, 44</td><td>BK-R50B-44</td><td>0</td></tr><tr><td>769</td><td>Road-650 Black, 48</td><td>BK-R50B-48</td><td>0</td></tr><tr><td>770</td><td>Road-650 Black, 52</td><td>BK-R50B-52</td><td>0</td></tr><tr><td>771</td><td>Mountain-100 Silver, 38</td><td>BK-M82S-38</td><td>0</td></tr><tr><td>772</td><td>Mountain-100 Silver, 42</td><td>BK-M82S-42</td><td>0</td></tr><tr><td>773</td><td>Mountain-100 Silver, 44</td><td>BK-M82S-44</td><td>0</td></tr><tr><td>774</td><td>Mountain-100 Silver, 48</td><td>BK-M82S-48</td><td>0</td></tr><tr><td>775</td><td>Mountain-100 Black, 38</td><td>BK-M82B-38</td><td>0</td></tr><tr><td>776</td><td>Mountain-100 Black, 42</td><td>BK-M82B-42</td><td>0</td></tr><tr><td>777</td><td>Mountain-100 Black, 44</td><td>BK-M82B-44</td><td>0</td></tr><tr><td>778</td><td>Mountain-100 Black, 48</td><td>BK-M82B-48</td><td>0</td></tr><tr><td>779</td><td>Mountain-200 Silver, 38</td><td>BK-M68S-38</td><td>0</td></tr><tr><td>780</td><td>Mountain-200 Silver, 42</td><td>BK-M68S-42</td><td>0</td></tr><tr><td>781</td><td>Mountain-200 Silver, 46</td><td>BK-M68S-46</td><td>0</td></tr><tr><td>782</td><td>Mountain-200 Black, 38</td><td>BK-M68B-38</td><td>0</td></tr><tr><td>783</td><td>Mountain-200 Black, 42</td><td>BK-M68B-42</td><td>0</td></tr><tr><td>784</td><td>Mountain-200 Black, 46</td><td>BK-M68B-46</td><td>0</td></tr><tr><td>785</td><td>Mountain-300 Black, 38</td><td>BK-M47B-38</td><td>0</td></tr><tr><td>786</td><td>Mountain-300 Black, 40</td><td>BK-M47B-40</td><td>0</td></tr><tr><td>787</td><td>Mountain-300 Black, 44</td><td>BK-M47B-44</td><td>0</td></tr><tr><td>788</td><td>Mountain-300 Black, 48</td><td>BK-M47B-48</td><td>0</td></tr><tr><td>789</td><td>Road-250 Red, 44</td><td>BK-R89R-44</td><td>0</td></tr><tr><td>790</td><td>Road-250 Red, 48</td><td>BK-R89R-48</td><td>0</td></tr><tr><td>791</td><td>Road-250 Red, 52</td><td>BK-R89R-52</td><td>0</td></tr><tr><td>792</td><td>Road-250 Red, 58</td><td>BK-R89R-58</td><td>0</td></tr><tr><td>793</td><td>Road-250 Black, 44</td><td>BK-R89B-44</td><td>0</td></tr><tr><td>794</td><td>Road-250 Black, 48</td><td>BK-R89B-48</td><td>0</td></tr><tr><td>795</td><td>Road-250 Black, 52</td><td>BK-R89B-52</td><td>0</td></tr><tr><td>796</td><td>Road-250 Black, 58</td><td>BK-R89B-58</td><td>0</td></tr><tr><td>797</td><td>Road-550-W Yellow, 38</td><td>BK-R64Y-38</td><td>0</td></tr><tr><td>798</td><td>Road-550-W Yellow, 40</td><td>BK-R64Y-40</td><td>0</td></tr><tr><td>799</td><td>Road-550-W Yellow, 42</td><td>BK-R64Y-42</td><td>0</td></tr><tr><td>800</td><td>Road-550-W Yellow, 44</td><td>BK-R64Y-44</td><td>0</td></tr><tr><td>801</td><td>Road-550-W Yellow, 48</td><td>BK-R64Y-48</td><td>0</td></tr><tr><td>802</td><td>LL Fork</td><td>FK-1639</td><td>0</td></tr><tr><td>803</td><td>ML Fork</td><td>FK-5136</td><td>0</td></tr><tr><td>804</td><td>HL Fork</td><td>FK-9939</td><td>0</td></tr><tr><td>805</td><td>LL Headset</td><td>HS-0296</td><td>265</td></tr><tr><td>806</td><td>ML Headset</td><td>HS-2451</td><td>268</td></tr><tr><td>807</td><td>HL Headset</td><td>HS-3479</td><td>272</td></tr><tr><td>808</td><td>LL Mountain Handlebars</td><td>HB-M243</td><td>0</td></tr><tr><td>809</td><td>ML Mountain Handlebars</td><td>HB-M763</td><td>0</td></tr><tr><td>810</td><td>HL Mountain Handlebars</td><td>HB-M918</td><td>0</td></tr><tr><td>811</td><td>LL Road Handlebars</td><td>HB-R504</td><td>0</td></tr><tr><td>812</td><td>ML Road Handlebars</td><td>HB-R720</td><td>0</td></tr><tr><td>813</td><td>HL Road Handlebars</td><td>HB-R956</td><td>0</td></tr><tr><td>814</td><td>ML Mountain Frame - Black, 38</td><td>FR-M63B-38</td><td>0</td></tr><tr><td>815</td><td>LL Mountain Front Wheel</td><td>FW-M423</td><td>0</td></tr><tr><td>816</td><td>ML Mountain Front Wheel</td><td>FW-M762</td><td>0</td></tr><tr><td>817</td><td>HL Mountain Front Wheel</td><td>FW-M928</td><td>0</td></tr><tr><td>818</td><td>LL Road Front Wheel</td><td>FW-R623</td><td>0</td></tr><tr><td>819</td><td>ML Road Front Wheel</td><td>FW-R762</td><td>0</td></tr><tr><td>820</td><td>HL Road Front Wheel</td><td>FW-R820</td><td>0</td></tr><tr><td>821</td><td>Touring Front Wheel</td><td>FW-T905</td><td>0</td></tr><tr><td>822</td><td>ML Road Frame-W - Yellow, 38</td><td>FR-R72Y-38</td><td>0</td></tr><tr><td>823</td><td>LL Mountain Rear Wheel</td><td>RW-M423</td><td>425</td></tr><tr><td>824</td><td>ML Mountain Rear Wheel</td><td>RW-M762</td><td>411</td></tr><tr><td>825</td><td>HL Mountain Rear Wheel</td><td>RW-M928</td><td>396</td></tr><tr><td>826</td><td>LL Road Rear Wheel</td><td>RW-R623</td><td>393</td></tr><tr><td>827</td><td>ML Road Rear Wheel</td><td>RW-R762</td><td>412</td></tr><tr><td>828</td><td>HL Road Rear Wheel</td><td>RW-R820</td><td>432</td></tr><tr><td>829</td><td>Touring Rear Wheel</td><td>RW-T905</td><td>265</td></tr><tr><td>830</td><td>ML Mountain Frame - Black, 40</td><td>FR-M63B-40</td><td>0</td></tr><tr><td>831</td><td>ML Mountain Frame - Black, 44</td><td>FR-M63B-44</td><td>0</td></tr><tr><td>832</td><td>ML Mountain Frame - Black, 48</td><td>FR-M63B-48</td><td>0</td></tr><tr><td>833</td><td>ML Road Frame-W - Yellow, 40</td><td>FR-R72Y-40</td><td>0</td></tr><tr><td>834</td><td>ML Road Frame-W - Yellow, 42</td><td>FR-R72Y-42</td><td>0</td></tr><tr><td>835</td><td>ML Road Frame-W - Yellow, 44</td><td>FR-R72Y-44</td><td>0</td></tr><tr><td>836</td><td>ML Road Frame-W - Yellow, 48</td><td>FR-R72Y-48</td><td>0</td></tr><tr><td>837</td><td>HL Road Frame - Black, 62</td><td>FR-R92B-62</td><td>0</td></tr><tr><td>838</td><td>HL Road Frame - Black, 44</td><td>FR-R92B-44</td><td>0</td></tr><tr><td>839</td><td>HL Road Frame - Black, 48</td><td>FR-R92B-48</td><td>0</td></tr><tr><td>840</td><td>HL Road Frame - Black, 52</td><td>FR-R92B-52</td><td>0</td></tr><tr><td>841</td><td>Men's Sports Shorts, S</td><td>SH-M897-S</td><td>0</td></tr><tr><td>842</td><td>Touring-Panniers, Large</td><td>PA-T100</td><td>0</td></tr><tr><td>843</td><td>Cable Lock</td><td>LO-C100</td><td>0</td></tr><tr><td>844</td><td>Minipump</td><td>PU-0452</td><td>0</td></tr><tr><td>845</td><td>Mountain Pump</td><td>PU-M044</td><td>0</td></tr><tr><td>846</td><td>Taillights - Battery-Powered</td><td>LT-T990</td><td>0</td></tr><tr><td>847</td><td>Headlights - Dual-Beam</td><td>LT-H902</td><td>0</td></tr><tr><td>848</td><td>Headlights - Weatherproof</td><td>LT-H903</td><td>0</td></tr><tr><td>849</td><td>Men's Sports Shorts, M</td><td>SH-M897-M</td><td>0</td></tr><tr><td>850</td><td>Men's Sports Shorts, L</td><td>SH-M897-L</td><td>0</td></tr><tr><td>851</td><td>Men's Sports Shorts, XL</td><td>SH-M897-X</td><td>0</td></tr><tr><td>852</td><td>Women's Tights, S</td><td>TG-W091-S</td><td>0</td></tr><tr><td>853</td><td>Women's Tights, M</td><td>TG-W091-M</td><td>0</td></tr><tr><td>854</td><td>Women's Tights, L</td><td>TG-W091-L</td><td>0</td></tr><tr><td>855</td><td>Men's Bib-Shorts, S</td><td>SB-M891-S</td><td>0</td></tr><tr><td>856</td><td>Men's Bib-Shorts, M</td><td>SB-M891-M</td><td>0</td></tr><tr><td>857</td><td>Men's Bib-Shorts, L</td><td>SB-M891-L</td><td>0</td></tr><tr><td>858</td><td>Half-Finger Gloves, S</td><td>GL-H102-S</td><td>0</td></tr><tr><td>859</td><td>Half-Finger Gloves, M</td><td>GL-H102-M</td><td>0</td></tr><tr><td>860</td><td>Half-Finger Gloves, L</td><td>GL-H102-L</td><td>0</td></tr><tr><td>861</td><td>Full-Finger Gloves, S</td><td>GL-F110-S</td><td>0</td></tr><tr><td>862</td><td>Full-Finger Gloves, M</td><td>GL-F110-M</td><td>0</td></tr><tr><td>863</td><td>Full-Finger Gloves, L</td><td>GL-F110-L</td><td>0</td></tr><tr><td>864</td><td>Classic Vest, S</td><td>VE-C304-S</td><td>0</td></tr><tr><td>865</td><td>Classic Vest, M</td><td>VE-C304-M</td><td>0</td></tr><tr><td>866</td><td>Classic Vest, L</td><td>VE-C304-L</td><td>0</td></tr><tr><td>867</td><td>Women's Mountain Shorts, S</td><td>SH-W890-S</td><td>0</td></tr><tr><td>868</td><td>Women's Mountain Shorts, M</td><td>SH-W890-M</td><td>0</td></tr><tr><td>869</td><td>Women's Mountain Shorts, L</td><td>SH-W890-L</td><td>0</td></tr><tr><td>870</td><td>Water Bottle - 30 oz.</td><td>WB-H098</td><td>0</td></tr><tr><td>871</td><td>Mountain Bottle Cage</td><td>BC-M005</td><td>0</td></tr><tr><td>872</td><td>Road Bottle Cage</td><td>BC-R205</td><td>0</td></tr><tr><td>873</td><td>Patch Kit/8 Patches</td><td>PK-7098</td><td>0</td></tr><tr><td>874</td><td>Racing Socks, M</td><td>SO-R809-M</td><td>0</td></tr><tr><td>875</td><td>Racing Socks, L</td><td>SO-R809-L</td><td>0</td></tr><tr><td>876</td><td>Hitch Rack - 4-Bike</td><td>RA-H123</td><td>0</td></tr><tr><td>877</td><td>Bike Wash - Dissolver</td><td>CL-9009</td><td>0</td></tr><tr><td>878</td><td>Fender Set - Mountain</td><td>FE-6654</td><td>0</td></tr><tr><td>879</td><td>All-Purpose Bike Stand</td><td>ST-1401</td><td>0</td></tr><tr><td>880</td><td>Hydration Pack - 70 oz.</td><td>HY-1023-70</td><td>0</td></tr><tr><td>881</td><td>Short-Sleeve Classic Jersey, S</td><td>SJ-0194-S</td><td>0</td></tr><tr><td>882</td><td>Short-Sleeve Classic Jersey, M</td><td>SJ-0194-M</td><td>0</td></tr><tr><td>883</td><td>Short-Sleeve Classic Jersey, L</td><td>SJ-0194-L</td><td>0</td></tr><tr><td>884</td><td>Short-Sleeve Classic Jersey, XL</td><td>SJ-0194-X</td><td>0</td></tr><tr><td>885</td><td>HL Touring Frame - Yellow, 60</td><td>FR-T98Y-60</td><td>0</td></tr><tr><td>886</td><td>LL Touring Frame - Yellow, 62</td><td>FR-T67Y-62</td><td>0</td></tr><tr><td>887</td><td>HL Touring Frame - Yellow, 46</td><td>FR-T98Y-46</td><td>0</td></tr><tr><td>888</td><td>HL Touring Frame - Yellow, 50</td><td>FR-T98Y-50</td><td>0</td></tr><tr><td>889</td><td>HL Touring Frame - Yellow, 54</td><td>FR-T98Y-54</td><td>0</td></tr><tr><td>890</td><td>HL Touring Frame - Blue, 46</td><td>FR-T98U-46</td><td>0</td></tr><tr><td>891</td><td>HL Touring Frame - Blue, 50</td><td>FR-T98U-50</td><td>0</td></tr><tr><td>892</td><td>HL Touring Frame - Blue, 54</td><td>FR-T98U-54</td><td>0</td></tr><tr><td>893</td><td>HL Touring Frame - Blue, 60</td><td>FR-T98U-60</td><td>0</td></tr><tr><td>894</td><td>Rear Derailleur</td><td>RD-2308</td><td>355</td></tr><tr><td>895</td><td>LL Touring Frame - Blue, 50</td><td>FR-T67U-50</td><td>0</td></tr><tr><td>896</td><td>LL Touring Frame - Blue, 54</td><td>FR-T67U-54</td><td>0</td></tr><tr><td>897</td><td>LL Touring Frame - Blue, 58</td><td>FR-T67U-58</td><td>0</td></tr><tr><td>898</td><td>LL Touring Frame - Blue, 62</td><td>FR-T67U-62</td><td>0</td></tr><tr><td>899</td><td>LL Touring Frame - Yellow, 44</td><td>FR-T67Y-44</td><td>0</td></tr><tr><td>900</td><td>LL Touring Frame - Yellow, 50</td><td>FR-T67Y-50</td><td>0</td></tr><tr><td>901</td><td>LL Touring Frame - Yellow, 54</td><td>FR-T67Y-54</td><td>0</td></tr><tr><td>902</td><td>LL Touring Frame - Yellow, 58</td><td>FR-T67Y-58</td><td>0</td></tr><tr><td>903</td><td>LL Touring Frame - Blue, 44</td><td>FR-T67U-44</td><td>0</td></tr><tr><td>904</td><td>ML Mountain Frame-W - Silver, 40</td><td>FR-M63S-40</td><td>0</td></tr><tr><td>905</td><td>ML Mountain Frame-W - Silver, 42</td><td>FR-M63S-42</td><td>0</td></tr><tr><td>906</td><td>ML Mountain Frame-W - Silver, 46</td><td>FR-M63S-46</td><td>0</td></tr><tr><td>907</td><td>Rear Brakes</td><td>RB-9231</td><td>228</td></tr><tr><td>908</td><td>LL Mountain Seat/Saddle</td><td>SE-M236</td><td>400</td></tr><tr><td>909</td><td>ML Mountain Seat/Saddle</td><td>SE-M798</td><td>230</td></tr><tr><td>910</td><td>HL Mountain Seat/Saddle</td><td>SE-M940</td><td>91</td></tr><tr><td>911</td><td>LL Road Seat/Saddle</td><td>SE-R581</td><td>283</td></tr><tr><td>912</td><td>ML Road Seat/Saddle</td><td>SE-R908</td><td>302</td></tr><tr><td>913</td><td>HL Road Seat/Saddle</td><td>SE-R995</td><td>169</td></tr><tr><td>914</td><td>LL Touring Seat/Saddle</td><td>SE-T312</td><td>248</td></tr><tr><td>915</td><td>ML Touring Seat/Saddle</td><td>SE-T762</td><td>161</td></tr><tr><td>916</td><td>HL Touring Seat/Saddle</td><td>SE-T924</td><td>425</td></tr><tr><td>917</td><td>LL Mountain Frame - Silver, 42</td><td>FR-M21S-42</td><td>0</td></tr><tr><td>918</td><td>LL Mountain Frame - Silver, 44</td><td>FR-M21S-44</td><td>0</td></tr><tr><td>919</td><td>LL Mountain Frame - Silver, 48</td><td>FR-M21S-48</td><td>0</td></tr><tr><td>920</td><td>LL Mountain Frame - Silver, 52</td><td>FR-M21S-52</td><td>0</td></tr><tr><td>921</td><td>Mountain Tire Tube</td><td>TT-M928</td><td>286</td></tr><tr><td>922</td><td>Road Tire Tube</td><td>TT-R982</td><td>264</td></tr><tr><td>923</td><td>Touring Tire Tube</td><td>TT-T092</td><td>262</td></tr><tr><td>924</td><td>LL Mountain Frame - Black, 42</td><td>FR-M21B-42</td><td>0</td></tr><tr><td>925</td><td>LL Mountain Frame - Black, 44</td><td>FR-M21B-44</td><td>0</td></tr><tr><td>926</td><td>LL Mountain Frame - Black, 48</td><td>FR-M21B-48</td><td>0</td></tr><tr><td>927</td><td>LL Mountain Frame - Black, 52</td><td>FR-M21B-52</td><td>0</td></tr><tr><td>928</td><td>LL Mountain Tire</td><td>TI-M267</td><td>240</td></tr><tr><td>929</td><td>ML Mountain Tire</td><td>TI-M602</td><td>385</td></tr><tr><td>930</td><td>HL Mountain Tire</td><td>TI-M823</td><td>267</td></tr><tr><td>931</td><td>LL Road Tire</td><td>TI-R092</td><td>236</td></tr><tr><td>932</td><td>ML Road Tire</td><td>TI-R628</td><td>382</td></tr><tr><td>933</td><td>HL Road Tire</td><td>TI-R982</td><td>299</td></tr><tr><td>934</td><td>Touring Tire</td><td>TI-T723</td><td>233</td></tr><tr><td>935</td><td>LL Mountain Pedal</td><td>PD-M282</td><td>182</td></tr><tr><td>936</td><td>ML Mountain Pedal</td><td>PD-M340</td><td>180</td></tr><tr><td>937</td><td>HL Mountain Pedal</td><td>PD-M562</td><td>179</td></tr><tr><td>938</td><td>LL Road Pedal</td><td>PD-R347</td><td>177</td></tr><tr><td>939</td><td>ML Road Pedal</td><td>PD-R563</td><td>176</td></tr><tr><td>940</td><td>HL Road Pedal</td><td>PD-R853</td><td>267</td></tr><tr><td>941</td><td>Touring Pedal</td><td>PD-T852</td><td>262</td></tr><tr><td>942</td><td>ML Mountain Frame-W - Silver, 38</td><td>FR-M63S-38</td><td>0</td></tr><tr><td>943</td><td>LL Mountain Frame - Black, 40</td><td>FR-M21B-40</td><td>0</td></tr><tr><td>944</td><td>LL Mountain Frame - Silver, 40</td><td>FR-M21S-40</td><td>0</td></tr><tr><td>945</td><td>Front Derailleur</td><td>FD-2342</td><td>0</td></tr><tr><td>946</td><td>LL Touring Handlebars</td><td>HB-T721</td><td>0</td></tr><tr><td>947</td><td>HL Touring Handlebars</td><td>HB-T928</td><td>0</td></tr><tr><td>948</td><td>Front Brakes</td><td>FB-9873</td><td>0</td></tr><tr><td>949</td><td>LL Crankset</td><td>CS-4759</td><td>0</td></tr><tr><td>950</td><td>ML Crankset</td><td>CS-6583</td><td>0</td></tr><tr><td>951</td><td>HL Crankset</td><td>CS-9183</td><td>0</td></tr><tr><td>952</td><td>Chain</td><td>CH-0234</td><td>0</td></tr><tr><td>953</td><td>Touring-2000 Blue, 60</td><td>BK-T44U-60</td><td>0</td></tr><tr><td>954</td><td>Touring-1000 Yellow, 46</td><td>BK-T79Y-46</td><td>0</td></tr><tr><td>955</td><td>Touring-1000 Yellow, 50</td><td>BK-T79Y-50</td><td>0</td></tr><tr><td>956</td><td>Touring-1000 Yellow, 54</td><td>BK-T79Y-54</td><td>0</td></tr><tr><td>957</td><td>Touring-1000 Yellow, 60</td><td>BK-T79Y-60</td><td>0</td></tr><tr><td>958</td><td>Touring-3000 Blue, 54</td><td>BK-T18U-54</td><td>0</td></tr><tr><td>959</td><td>Touring-3000 Blue, 58</td><td>BK-T18U-58</td><td>0</td></tr><tr><td>960</td><td>Touring-3000 Blue, 62</td><td>BK-T18U-62</td><td>0</td></tr><tr><td>961</td><td>Touring-3000 Yellow, 44</td><td>BK-T18Y-44</td><td>0</td></tr><tr><td>962</td><td>Touring-3000 Yellow, 50</td><td>BK-T18Y-50</td><td>0</td></tr><tr><td>963</td><td>Touring-3000 Yellow, 54</td><td>BK-T18Y-54</td><td>0</td></tr><tr><td>964</td><td>Touring-3000 Yellow, 58</td><td>BK-T18Y-58</td><td>0</td></tr><tr><td>965</td><td>Touring-3000 Yellow, 62</td><td>BK-T18Y-62</td><td>0</td></tr><tr><td>966</td><td>Touring-1000 Blue, 46</td><td>BK-T79U-46</td><td>0</td></tr><tr><td>967</td><td>Touring-1000 Blue, 50</td><td>BK-T79U-50</td><td>0</td></tr><tr><td>968</td><td>Touring-1000 Blue, 54</td><td>BK-T79U-54</td><td>0</td></tr><tr><td>969</td><td>Touring-1000 Blue, 60</td><td>BK-T79U-60</td><td>0</td></tr><tr><td>970</td><td>Touring-2000 Blue, 46</td><td>BK-T44U-46</td><td>0</td></tr><tr><td>971</td><td>Touring-2000 Blue, 50</td><td>BK-T44U-50</td><td>0</td></tr><tr><td>972</td><td>Touring-2000 Blue, 54</td><td>BK-T44U-54</td><td>0</td></tr><tr><td>973</td><td>Road-350-W Yellow, 40</td><td>BK-R79Y-40</td><td>0</td></tr><tr><td>974</td><td>Road-350-W Yellow, 42</td><td>BK-R79Y-42</td><td>0</td></tr><tr><td>975</td><td>Road-350-W Yellow, 44</td><td>BK-R79Y-44</td><td>0</td></tr><tr><td>976</td><td>Road-350-W Yellow, 48</td><td>BK-R79Y-48</td><td>0</td></tr><tr><td>977</td><td>Road-750 Black, 58</td><td>BK-R19B-58</td><td>0</td></tr><tr><td>978</td><td>Touring-3000 Blue, 44</td><td>BK-T18U-44</td><td>0</td></tr><tr><td>979</td><td>Touring-3000 Blue, 50</td><td>BK-T18U-50</td><td>0</td></tr><tr><td>980</td><td>Mountain-400-W Silver, 38</td><td>BK-M38S-38</td><td>0</td></tr><tr><td>981</td><td>Mountain-400-W Silver, 40</td><td>BK-M38S-40</td><td>0</td></tr><tr><td>982</td><td>Mountain-400-W Silver, 42</td><td>BK-M38S-42</td><td>0</td></tr><tr><td>983</td><td>Mountain-400-W Silver, 46</td><td>BK-M38S-46</td><td>0</td></tr><tr><td>984</td><td>Mountain-500 Silver, 40</td><td>BK-M18S-40</td><td>0</td></tr><tr><td>985</td><td>Mountain-500 Silver, 42</td><td>BK-M18S-42</td><td>0</td></tr><tr><td>986</td><td>Mountain-500 Silver, 44</td><td>BK-M18S-44</td><td>0</td></tr><tr><td>987</td><td>Mountain-500 Silver, 48</td><td>BK-M18S-48</td><td>0</td></tr><tr><td>988</td><td>Mountain-500 Silver, 52</td><td>BK-M18S-52</td><td>0</td></tr><tr><td>989</td><td>Mountain-500 Black, 40</td><td>BK-M18B-40</td><td>0</td></tr><tr><td>990</td><td>Mountain-500 Black, 42</td><td>BK-M18B-42</td><td>0</td></tr><tr><td>991</td><td>Mountain-500 Black, 44</td><td>BK-M18B-44</td><td>0</td></tr><tr><td>992</td><td>Mountain-500 Black, 48</td><td>BK-M18B-48</td><td>0</td></tr><tr><td>993</td><td>Mountain-500 Black, 52</td><td>BK-M18B-52</td><td>0</td></tr><tr><td>994</td><td>LL Bottom Bracket</td><td>BB-7421</td><td>358</td></tr><tr><td>995</td><td>ML Bottom Bracket</td><td>BB-8107</td><td>321</td></tr><tr><td>996</td><td>HL Bottom Bracket</td><td>BB-9108</td><td>475</td></tr><tr><td>997</td><td>Road-750 Black, 44</td><td>BK-R19B-44</td><td>0</td></tr><tr><td>998</td><td>Road-750 Black, 48</td><td>BK-R19B-48</td><td>0</td></tr><tr><td>999</td><td>Road-750 Black, 52</td><td>BK-R19B-52</td><td>0</td></tr></table>"
                    },
                    "metadata": {}
                }
            ],
            "execution_count": 7
        },
        {
            "cell_type": "markdown",
            "source": "## As you can see there is just two different ways of calling the same scalar function.  \r\n\r\n## With this particular example there is not different in the performance, the query optimiser is far too clever for us in this case.  \r\n\r\n## Can you do other things with the APPLY keyword, well yes I am so glad you asked",
            "metadata": {}
        },
        {
            "cell_type": "markdown",
            "source": "## Let's take an example we want to return all the last three orders from each sales person in table [Sales].[SalesOrderHeader].  Ordered by [OrderDate] field</br>\r\n\r\n![sad panda](./Figure6.jpg \"Figure 6 - Showing one method for solving the question posed above\")</br>\r\nFigure 6 - Using a CROSS APPLY to call the function [ufnGetStock]\r\n\r\n## As shown in Figure 6 the inner query adds a row number of the query, and excludes any records which do not have a SalesPersonID.  The outer query then has to filter the resulting dataset to only return the first three records for each SalesPersonID returned by the inner query.  This pattern could easily get more complicated and harder to read.  Next let's see if can write the same query using CROSS APPLY.",
            "metadata": {}
        },
        {
            "cell_type": "markdown",
            "source": "![sad panda](./Figure7.jpg \"Figure 7 - Rewritten query using CROSS APPLY\")</br>\r\nFigure 7 - Rewritten query using CROSS APPLY\r\n\r\n## With the example shown in Figure 7, the entire sql query is contained within the CROSS APPLY.  One difference between the query in Figure 6 and Figure 7 is readability.",
            "metadata": {}
        },
        {
            "cell_type": "markdown",
            "source": "# Why use CROSS APPLY or OUTER APPLY\r\n\r\n## For me its about whats the easiest way to get answers.  Let's take an example of a query for CCF which wanted to return same values from Classifications and Grant Contact details\r\n\r\n## For each Grant Record \r\n## Grant Classifications - return 1st speciality in a column, 2nd specialty in a different column\r\n## For the Trainee contact type, return work Email address and work phone number.\r\n",
            "metadata": {}
        },
        {
            "cell_type": "markdown",
            "source": "![sad panda](./Figure8.jpg \"Figure 8 -  Query for TCC showing the entire sample query\")</br>\r\nFigure 8 -  Query for TCC showing the entire sample query\r\n\r\n# Let's look section 1 first",
            "metadata": {}
        },
        {
            "cell_type": "markdown",
            "source": "![sad panda](./Figure8-section1.jpg \"Figure 8.1 - the section of the query returning specific Grant Contact Details\")</br>\r\nFigure 8.1 - the section of the query returning specific Grant Contact Details\r\n\r\n## First thing to note is an **OUTER APPLY** is being used, the reason for this is that even if the query within the **OUTER APPLY** returns zero records.  The other side of the join will always return records.  This could have been done using a **LEFT JOIN**, with the predicates (the where clause) as part of the join.  Hence this is same more about coding style.",
            "metadata": {}
        },
        {
            "cell_type": "markdown",
            "source": "![sad panda](./Figure8-section2.jpg \"Figure 8.2 - the section of the query returning specific Grant Classifications\")</br>\r\nFigure 8.2 - the section of the query returning specific Grant Classifications\r\n\r\n## The same principle as before this could have been done using a correlated subquery with a **LEFT JOIN**. The use if the **OUTER APPLY** is more about readability and maintainability.  If require to add more classifications, then copy the query for one update the WHERE clause and name and the work done.",
            "metadata": {}
        },
        {
            "cell_type": "markdown",
            "source": "# Sometimes you cannot use a JOIN\r\n\r\n![sad panda](./frightened.gif \"Oh no cannot use a join\")</br>\r\n\r\n## Let try and run this code to get some information from the system DMV's\r\n",
            "metadata": {}
        },
        {
            "cell_type": "code",
            "source": "SELECT * FROM SYS.dm_exec_cached_plans CP\r\nINNER JOIN SYS.dm_exec_sql_text(CP.plan_handle) CA",
            "metadata": {},
            "outputs": [
                {
                    "output_type": "error",
                    "ename": "",
                    "evalue": "Msg 102, Level 15, State 1, Line 2\r\nIncorrect syntax near 'CA'.",
                    "traceback": []
                },
                {
                    "output_type": "display_data",
                    "data": {
                        "text/html": "Total execution time: 00:00:00"
                    },
                    "metadata": {}
                }
            ],
            "execution_count": 8
        },
        {
            "cell_type": "markdown",
            "source": "# CROSS APPLY \r\n![sad panda](./rescue.jpg \"Oh no cannot use a join\")</br>",
            "metadata": {}
        },
        {
            "cell_type": "code",
            "source": "SELECT * FROM SYS.dm_exec_cached_plans CP\r\nCROSS APPLY SYS.dm_exec_sql_text(CP.plan_handle) CA",
            "metadata": {},
            "outputs": [
                {
                    "output_type": "display_data",
                    "data": {
                        "text/html": "(53 rows affected)"
                    },
                    "metadata": {}
                },
                {
                    "output_type": "display_data",
                    "data": {
                        "text/html": "Total execution time: 00:00:00.038"
                    },
                    "metadata": {}
                },
                {
                    "output_type": "execute_result",
                    "execution_count": 9,
                    "data": {
                        "application/vnd.dataresource+json": {
                            "schema": {
                                "fields": [
                                    {
                                        "name": "bucketid"
                                    },
                                    {
                                        "name": "refcounts"
                                    },
                                    {
                                        "name": "usecounts"
                                    },
                                    {
                                        "name": "size_in_bytes"
                                    },
                                    {
                                        "name": "memory_object_address"
                                    },
                                    {
                                        "name": "cacheobjtype"
                                    },
                                    {
                                        "name": "objtype"
                                    },
                                    {
                                        "name": "plan_handle"
                                    },
                                    {
                                        "name": "pool_id"
                                    },
                                    {
                                        "name": "parent_plan_handle"
                                    },
                                    {
                                        "name": "dbid"
                                    },
                                    {
                                        "name": "objectid"
                                    },
                                    {
                                        "name": "number"
                                    },
                                    {
                                        "name": "encrypted"
                                    },
                                    {
                                        "name": "text"
                                    }
                                ]
                            },
                            "data": [
                                {
                                    "0": "10245",
                                    "1": "2",
                                    "2": "1",
                                    "3": "57344",
                                    "4": "0x000001BB9DC76060",
                                    "5": "Compiled Plan",
                                    "6": "Adhoc",
                                    "7": "0x06000B0025F7DF328002D2ACBB01000001000000000000000000000000000000000000000000000000000000",
                                    "8": "2",
                                    "9": "NULL",
                                    "10": "11",
                                    "11": "NULL",
                                    "12": "NULL",
                                    "13": "0",
                                    "14": "SELECT * FROM SYS.dm_exec_cached_plans CP\r\nCROSS APPLY SYS.dm_exec_sql_text(CP.plan_handle) CA"
                                },
                                {
                                    "0": "31491",
                                    "1": "2",
                                    "2": "1",
                                    "3": "368640",
                                    "4": "0x000001BB52C92060",
                                    "5": "Compiled Plan",
                                    "6": "Prepared",
                                    "7": "0x06000B0056CDA837A0D5659BBB01000001000000000000000000000000000000000000000000000000000000",
                                    "8": "2",
                                    "9": "NULL",
                                    "10": "11",
                                    "11": "NULL",
                                    "12": "NULL",
                                    "13": "0",
                                    "14": "(@_msparam_0 nvarchar(4000),@_msparam_1 nvarchar(4000),@_msparam_2 nvarchar(4000))SELECT\nclmns.column_id AS [ID],\nclmns.name AS [Name],\nISNULL(dc.Name, N'') AS [DefaultConstraintName],\nclmns.is_nullable AS [Nullable],\nCAST(ISNULL(cik.index_column_id, 0) AS bit) AS [InPrimaryKey],\nclmns.is_identity AS [Identity],\nusrt.name AS [DataType],\nISNULL(baset.name, N'') AS [SystemType],\nCAST(CASE WHEN baset.name IN (N'nchar', N'nvarchar') AND clmns.max_length <> -1 THEN clmns.max_length/2 ELSE clmns.max_length END AS int) AS [Length],\nCAST(clmns.precision AS int) AS [NumericPrecision],\nCAST(clmns.scale AS int) AS [NumericScale],\nISNULL(xscclmns.name, N'') AS [XmlSchemaNamespace],\nISNULL(s2clmns.name, N'') AS [XmlSchemaNamespaceSchema],\nISNULL( (case clmns.is_xml_document when 1 then 2 else 1 end), 0) AS [XmlDocumentConstraint],\ns1clmns.name AS [DataTypeSchema],\nclmns.is_computed AS [Computed]\nFROM\nsys.all_views AS v\nINNER JOIN sys.all_columns AS clmns ON clmns.object_id=v.object_id\nLEFT OUTER JOIN sys.default_constraints as dc ON clmns.default_object_id = dc.object_id\nLEFT OUTER JOIN sys.indexes AS ik ON ik.object_id = clmns.object_id and 1=ik.is_primary_key\nLEFT OUTER JOIN sys.index_columns AS cik ON cik.index_id = ik.index_id and cik.column_id = clmns.column_id and cik.object_id = clmns.object_id and 0 = cik.is_included_column\nLEFT OUTER JOIN sys.types AS usrt ON usrt.user_type_id = clmns.user_type_id\nLEFT OUTER JOIN sys.types AS baset ON (baset.user_type_id = clmns.system_type_id and baset.user_type_id = baset.system_type_id) or ((baset.system_type_id = clmns.system_type_id) and (baset.user_type_id = clmns.user_type_id) and (baset.is_user_defined = 0) and (baset.is_assembly_type = 1)) \nLEFT OUTER JOIN sys.xml_schema_collections AS xscclmns ON xscclmns.xml_collection_id = clmns.xml_collection_id\nLEFT OUTER JOIN sys.schemas AS s2clmns ON s2clmns.schema_id = xscclmns.schema_id\nLEFT OUTER JOIN sys.schemas AS s1clmns ON s1clmns.schema_id = usrt.schema_id\nWHERE\n(v.type = @_msparam_0)and(v.name=@_msparam_1 and SCHEMA_NAME(v.schema_id)=@_msparam_2)\nORDER BY\n[ID] ASC"
                                },
                                {
                                    "0": "36249",
                                    "1": "2",
                                    "2": "1",
                                    "3": "376832",
                                    "4": "0x000001BB52C96060",
                                    "5": "Compiled Plan",
                                    "6": "Prepared",
                                    "7": "0x06000B00D33AFA0620CE659BBB01000001000000000000000000000000000000000000000000000000000000",
                                    "8": "2",
                                    "9": "NULL",
                                    "10": "11",
                                    "11": "NULL",
                                    "12": "NULL",
                                    "13": "0",
                                    "14": "(@_msparam_0 nvarchar(4000),@_msparam_1 nvarchar(4000))SELECT\nclmns.column_id AS [ID],\nclmns.name AS [Name],\nISNULL(dc.Name, N'') AS [DefaultConstraintName],\nclmns.is_nullable AS [Nullable],\nCAST(ISNULL(cik.index_column_id, 0) AS bit) AS [InPrimaryKey],\nclmns.is_identity AS [Identity],\nusrt.name AS [DataType],\nISNULL(baset.name, N'') AS [SystemType],\nCAST(CASE WHEN baset.name IN (N'nchar', N'nvarchar') AND clmns.max_length <> -1 THEN clmns.max_length/2 ELSE clmns.max_length END AS int) AS [Length],\nCAST(clmns.precision AS int) AS [NumericPrecision],\nCAST(clmns.scale AS int) AS [NumericScale],\nISNULL(xscclmns.name, N'') AS [XmlSchemaNamespace],\nISNULL(s2clmns.name, N'') AS [XmlSchemaNamespaceSchema],\nISNULL( (case clmns.is_xml_document when 1 then 2 else 1 end), 0) AS [XmlDocumentConstraint],\ns1clmns.name AS [DataTypeSchema],\nclmns.is_computed AS [Computed]\nFROM\nsys.all_objects AS udf\nINNER JOIN sys.all_columns AS clmns ON clmns.object_id=udf.object_id\nLEFT OUTER JOIN sys.default_constraints as dc ON clmns.default_object_id = dc.object_id\nLEFT OUTER JOIN sys.indexes AS ik ON ik.object_id = clmns.object_id and 1=ik.is_primary_key\nLEFT OUTER JOIN sys.index_columns AS cik ON cik.index_id = ik.index_id and cik.column_id = clmns.column_id and cik.object_id = clmns.object_id and 0 = cik.is_included_column\nLEFT OUTER JOIN sys.types AS usrt ON usrt.user_type_id = clmns.user_type_id\nLEFT OUTER JOIN sys.types AS baset ON (baset.user_type_id = clmns.system_type_id and baset.user_type_id = baset.system_type_id) or ((baset.system_type_id = clmns.system_type_id) and (baset.user_type_id = clmns.user_type_id) and (baset.is_user_defined = 0) and (baset.is_assembly_type = 1)) \nLEFT OUTER JOIN sys.xml_schema_collections AS xscclmns ON xscclmns.xml_collection_id = clmns.xml_collection_id\nLEFT OUTER JOIN sys.schemas AS s2clmns ON s2clmns.schema_id = xscclmns.schema_id\nLEFT OUTER JOIN sys.schemas AS s1clmns ON s1clmns.schema_id = usrt.schema_id\nWHERE\n(udf.type in ('TF', 'FN', 'IF', 'FS', 'FT'))and(udf.name=@_msparam_0 and SCHEMA_NAME(udf.schema_id)=@_msparam_1)\nORDER BY\n[ID] ASC"
                                },
                                {
                                    "0": "4041",
                                    "1": "2",
                                    "2": "1",
                                    "3": "458752",
                                    "4": "0x000001BB79132060",
                                    "5": "Compiled Plan",
                                    "6": "Prepared",
                                    "7": "0x06000B00458EF736601F6C4DBB01000001000000000000000000000000000000000000000000000000000000",
                                    "8": "2",
                                    "9": "NULL",
                                    "10": "11",
                                    "11": "NULL",
                                    "12": "NULL",
                                    "13": "0",
                                    "14": "(@_msparam_0 nvarchar(4000),@_msparam_1 nvarchar(4000),@_msparam_2 nvarchar(4000))SELECT\nparam.is_readonly AS [IsReadOnly],\nparam.name AS [Name],\nparam.parameter_id AS [ID],\nparam.default_value AS [DefaultValue],\nparam.has_default_value AS [HasDefaultValue],\nusrt.name AS [DataType],\ns1param.name AS [DataTypeSchema],\nISNULL(baset.name, N'') AS [SystemType],\nCAST(CASE WHEN baset.name IN (N'nchar', N'nvarchar') AND param.max_length <> -1 THEN param.max_length/2 ELSE param.max_length END AS int) AS [Length],\nCAST(param.precision AS int) AS [NumericPrecision],\nCAST(param.scale AS int) AS [NumericScale],\nISNULL(xscparam.name, N'') AS [XmlSchemaNamespace],\nISNULL(s2param.name, N'') AS [XmlSchemaNamespaceSchema],\nISNULL( (case param.is_xml_document when 1 then 2 else 1 end), 0) AS [XmlDocumentConstraint],\nCASE WHEN usrt.is_table_type = 1 THEN N'structured' ELSE N'' END AS [UserType],\nudf.object_id AS [IDText],\ndb_name() AS [DatabaseName],\nparam.name AS [ParamName],\nCAST(\n case \n    when udf.is_ms_shipped = 1 then 1\n    when (\n        select \n            major_id \n        from \n            sys.extended_properties \n        where \n            major_id = udf.object_id and \n            minor_id = 0 and \n            class = 1 and \n            name = N'microsoft_database_tools_support') \n        is not null then 1\n    else 0\nend          \n             AS bit) AS [ParentSysObj],\n-1 AS [Number]\nFROM\nsys.all_objects AS udf\nINNER JOIN sys.all_parameters AS param ON (param.is_output = 0) AND (param.object_id=udf.object_id)\nLEFT OUTER JOIN sys.types AS usrt ON usrt.user_type_id = param.user_type_id\nLEFT OUTER JOIN sys.schemas AS s1param ON s1param.schema_id = usrt.schema_id\nLEFT OUTER JOIN sys.types AS baset ON (baset.user_type_id = param.system_type_id and baset.user_type_id = baset.system_type_id) or ((baset.system_type_id = param.system_type_id) and (baset.user_type_id = param.user_type_id) and (baset.is_user_defined = 0) and (baset.is_assembly_type = 1)) \nLEFT OUTER JOIN sys.xml_schema_collections AS xscparam ON xscparam.xml_collection_id = param.xml_collection_id\nLEFT OUTER JOIN sys.schemas AS s2param ON s2param.schema_id = xscparam.schema_id\nWHERE\n(param.name=@_msparam_0)and((udf.type in ('TF', 'FN', 'IF', 'FS', 'FT'))and(udf.name=@_msparam_1 and SCHEMA_NAME(udf.schema_id)=@_msparam_2))"
                                },
                                {
                                    "0": "21812",
                                    "1": "2",
                                    "2": "1",
                                    "3": "311296",
                                    "4": "0x000001BB9B622060",
                                    "5": "Compiled Plan",
                                    "6": "Prepared",
                                    "7": "0x06000B004EE9FD05D01E6C4DBB01000001000000000000000000000000000000000000000000000000000000",
                                    "8": "2",
                                    "9": "NULL",
                                    "10": "11",
                                    "11": "NULL",
                                    "12": "NULL",
                                    "13": "0",
                                    "14": "(@_msparam_0 nvarchar(4000),@_msparam_1 nvarchar(4000))SELECT\nparam.parameter_id AS [ID],\nparam.name AS [Name],\nusrt.name AS [DataType],\nISNULL(baset.name, N'') AS [SystemType],\nCAST(CASE WHEN baset.name IN (N'nchar', N'nvarchar') AND param.max_length <> -1 THEN param.max_length/2 ELSE param.max_length END AS int) AS [Length],\nCAST(param.precision AS int) AS [NumericPrecision],\nCAST(param.scale AS int) AS [NumericScale],\nISNULL(xscparam.name, N'') AS [XmlSchemaNamespace],\nISNULL(s2param.name, N'') AS [XmlSchemaNamespaceSchema],\nISNULL( (case param.is_xml_document when 1 then 2 else 1 end), 0) AS [XmlDocumentConstraint],\ns1param.name AS [DataTypeSchema]\nFROM\nsys.all_objects AS udf\nINNER JOIN sys.all_parameters AS param ON (param.is_output = 0) AND (param.object_id=udf.object_id)\nLEFT OUTER JOIN sys.types AS usrt ON usrt.user_type_id = param.user_type_id\nLEFT OUTER JOIN sys.types AS baset ON (baset.user_type_id = param.system_type_id and baset.user_type_id = baset.system_type_id) or ((baset.system_type_id = param.system_type_id) and (baset.user_type_id = param.user_type_id) and (baset.is_user_defined = 0) and (baset.is_assembly_type = 1)) \nLEFT OUTER JOIN sys.xml_schema_collections AS xscparam ON xscparam.xml_collection_id = param.xml_collection_id\nLEFT OUTER JOIN sys.schemas AS s2param ON s2param.schema_id = xscparam.schema_id\nLEFT OUTER JOIN sys.schemas AS s1param ON s1param.schema_id = usrt.schema_id\nWHERE\n(udf.type in ('TF', 'FN', 'IF', 'FS', 'FT'))and(udf.name=@_msparam_0 and SCHEMA_NAME(udf.schema_id)=@_msparam_1)\nORDER BY\n[ID] ASC"
                                },
                                {
                                    "0": "19166",
                                    "1": "2",
                                    "2": "1",
                                    "3": "802816",
                                    "4": "0x000001BBAD5E8060",
                                    "5": "Compiled Plan",
                                    "6": "Prepared",
                                    "7": "0x06000B00E8196F2C50176C4DBB01000001000000000000000000000000000000000000000000000000000000",
                                    "8": "2",
                                    "9": "NULL",
                                    "10": "11",
                                    "11": "NULL",
                                    "12": "NULL",
                                    "13": "0",
                                    "14": "(@_msparam_0 nvarchar(4000),@_msparam_1 nvarchar(4000),@_msparam_2 nvarchar(4000))SELECT\nudf.name AS [Name],\nudf.object_id AS [ID],\nudf.create_date AS [CreateDate],\nudf.modify_date AS [DateLastModified],\nISNULL(sudf.name, N'') AS [Owner],\nCAST(case when udf.principal_id is null then 1 else 0 end AS bit) AS [IsSchemaOwned],\nSCHEMA_NAME(udf.schema_id) AS [Schema],\nCAST(\n case \n    when udf.is_ms_shipped = 1 then 1\n    when (\n        select \n            major_id \n        from \n            sys.extended_properties \n        where \n            major_id = udf.object_id and \n            minor_id = 0 and \n            class = 1 and \n            name = N'microsoft_database_tools_support') \n        is not null then 1\n    else 0\nend          \n             AS bit) AS [IsSystemObject],\nusrt.name AS [DataType],\ns1ret_param.name AS [DataTypeSchema],\nISNULL(baset.name, N'') AS [SystemType],\nCAST(CASE WHEN baset.name IN (N'nchar', N'nvarchar') AND ret_param.max_length <> -1 THEN ret_param.max_length/2 ELSE ret_param.max_length END AS int) AS [Length],\nCAST(ret_param.precision AS int) AS [NumericPrecision],\nCAST(ret_param.scale AS int) AS [NumericScale],\nISNULL(xscret_param.name, N'') AS [XmlSchemaNamespace],\nISNULL(s2ret_param.name, N'') AS [XmlSchemaNamespaceSchema],\nISNULL( (case ret_param.is_xml_document when 1 then 2 else 1 end), 0) AS [XmlDocumentConstraint],\nCASE WHEN usrt.is_table_type = 1 THEN N'structured' ELSE N'' END AS [UserType],\nCAST(ISNULL(OBJECTPROPERTYEX(udf.object_id,N'ExecIsAnsiNullsOn'),0) AS bit) AS [AnsiNullsStatus],\nCAST(ISNULL(OBJECTPROPERTYEX(udf.object_id, N'IsSchemaBound'),0) AS bit) AS [IsSchemaBound],\nCAST(CASE WHEN ISNULL(smudf.definition, ssmudf.definition) IS NULL THEN 1 ELSE 0 END AS bit) AS [IsEncrypted],\ncase when amudf.object_id is null then N'' else asmbludf.name end AS [AssemblyName],\ncase when amudf.object_id is null then N'' else amudf.assembly_class end AS [ClassName],\ncase when amudf.object_id is null then N'' else amudf.assembly_method end AS [MethodName],\nCAST(case when amudf.object_id is null then CAST(smudf.null_on_null_input AS bit) else amudf.null_on_null_input end AS bit) AS [ReturnsNullOnNullInput],\ncase when amudf.object_id is null then case isnull(smudf.execute_as_principal_id, -1) when -1 then 1 when -2 then 2 else 3 end else case isnull(amudf.execute_as_principal_id, -1) when -1 then 1 when -2 then 2 else 3 end end AS [ExecutionContext],\ncase when amudf.object_id is null then ISNULL(user_name(smudf.execute_as_principal_id),N'') else user_name(amudf.execute_as_principal_id) end AS [ExecutionContextPrincipal],\nCAST(OBJECTPROPERTYEX(udf.object_id, N'IsDeterministic') AS bit) AS [IsDeterministic],\n(case when 'FN' = udf.type then 1 when 'FS' = udf.type then 1 when 'IF' = udf.type then 3 when 'TF' = udf.type then 2 when 'FT' = udf.type then 2 else 0 end) AS [FunctionType],\nCASE WHEN udf.type IN ('FN','IF','TF') THEN 1 WHEN udf.type IN ('FS','FT') THEN 2 ELSE 1 END AS [ImplementationType],\nCAST(ISNULL(OBJECTPROPERTYEX(udf.object_id,N'ExecIsQuotedIdentOn'),0) AS bit) AS [QuotedIdentifierStatus],\nret_param.name AS [TableVariableName],\nCAST(0 AS bit) AS [IsInlineable],\nISNULL(sm.uses_native_compilation,0) AS [IsNativelyCompiled],\nISNULL(smudf.definition, ssmudf.definition) AS [Definition]\nFROM\nsys.all_objects AS udf\nLEFT OUTER JOIN sys.database_principals AS sudf ON sudf.principal_id = ISNULL(udf.principal_id, (OBJECTPROPERTY(udf.object_id, 'OwnerId')))\nLEFT OUTER JOIN sys.all_parameters AS ret_param ON ret_param.object_id = udf.object_id and ret_param.is_output = @_msparam_0\nLEFT OUTER JOIN sys.types AS usrt ON usrt.user_type_id = ret_param.user_type_id\nLEFT OUTER JOIN sys.schemas AS s1ret_param ON s1ret_param.schema_id = usrt.schema_id\nLEFT OUTER JOIN sys.types AS baset ON (baset.user_type_id = ret_param.system_type_id and baset.user_type_id = baset.system_type_id) or ((baset.system_type_id = ret_param.system_type_id) and (baset.user_type_id = ret_param.user_type_id) and (baset.is_user_defined = 0) and (baset.is_assembly_type = 1)) \nLEFT OUTER JOIN sys.xml_schema_collections AS xscret_param ON xscret_param.xml_collection_id = ret_param.xml_collection_id\nLEFT OUTER JOIN sys.schemas AS s2ret_param ON s2ret_param.schema_id = xscret_param.schema_id\nLEFT OUTER JOIN sys.sql_modules AS smudf ON smudf.object_id = udf.object_id\nLEFT OUTER JOIN sys.system_sql_modules AS ssmudf ON ssmudf.object_id = udf.object_id\nLEFT OUTER JOIN sys.assembly_modules AS amudf ON amudf.object_id = udf.object_id\nLEFT OUTER JOIN sys.assemblies AS asmbludf ON asmbludf.assembly_id = amudf.assembly_id\nLEFT OUTER JOIN sys.all_sql_modules AS sm ON sm.object_id = udf.object_id\nWHERE\n(udf.type in ('TF', 'FN', 'IF', 'FS', 'FT'))and(udf.name=@_msparam_1 and SCHEMA_NAME(udf.schema_id)=@_msparam_2)"
                                },
                                {
                                    "0": "38747",
                                    "1": "2",
                                    "2": "1",
                                    "3": "147456",
                                    "4": "0x000001BB91CCC060",
                                    "5": "Compiled Plan",
                                    "6": "Prepared",
                                    "7": "0x06000B00B53B082CD00F6C4DBB01000001000000000000000000000000000000000000000000000000000000",
                                    "8": "2",
                                    "9": "NULL",
                                    "10": "11",
                                    "11": "NULL",
                                    "12": "NULL",
                                    "13": "0",
                                    "14": "(@_msparam_0 nvarchar(4000),@_msparam_1 nvarchar(4000))SELECT\nNULL AS [Text],\nISNULL(smudf.definition, ssmudf.definition) AS [Definition]\nFROM\nsys.all_objects AS udf\nLEFT OUTER JOIN sys.sql_modules AS smudf ON smudf.object_id = udf.object_id\nLEFT OUTER JOIN sys.system_sql_modules AS ssmudf ON ssmudf.object_id = udf.object_id\nWHERE\n(udf.type in ('TF', 'FN', 'IF', 'FS', 'FT'))and(udf.name=@_msparam_0 and SCHEMA_NAME(udf.schema_id)=@_msparam_1)"
                                },
                                {
                                    "0": "15098",
                                    "1": "2",
                                    "2": "1",
                                    "3": "188416",
                                    "4": "0x000001BAE8000060",
                                    "5": "Compiled Plan",
                                    "6": "Adhoc",
                                    "7": "0x06000B004765200B50086C4DBB01000001000000000000000000000000000000000000000000000000000000",
                                    "8": "2",
                                    "9": "NULL",
                                    "10": "11",
                                    "11": "NULL",
                                    "12": "NULL",
                                    "13": "0",
                                    "14": "SELECT\ndtb.name AS [Name],\ndtb.database_id AS [ID],\nCAST(has_dbaccess(dtb.name) AS bit) AS [IsAccessible]\nFROM\nmaster.sys.databases AS dtb\nORDER BY\n[Name] ASC"
                                },
                                {
                                    "0": "39293",
                                    "1": "2",
                                    "2": "1",
                                    "3": "401408",
                                    "4": "0x000001BB4D6A6060",
                                    "5": "Compiled Plan",
                                    "6": "Prepared",
                                    "7": "0x06000B00962E9C11603FD2ACBB01000001000000000000000000000000000000000000000000000000000000",
                                    "8": "2",
                                    "9": "NULL",
                                    "10": "11",
                                    "11": "NULL",
                                    "12": "NULL",
                                    "13": "0",
                                    "14": "(@_msparam_0 nvarchar(4000))SELECT\ndtb.collation_name AS [Collation],\ndtb.name AS [DatabaseName2]\nFROM\nmaster.sys.databases AS dtb\nWHERE\n(dtb.name=@_msparam_0)"
                                },
                                {
                                    "0": "28056",
                                    "1": "2",
                                    "2": "2",
                                    "3": "163840",
                                    "4": "0x000001BBA2194060",
                                    "5": "Compiled Plan",
                                    "6": "Adhoc",
                                    "7": "0x06000B00102A56340039D2ACBB01000001000000000000000000000000000000000000000000000000000000",
                                    "8": "2",
                                    "9": "NULL",
                                    "10": "11",
                                    "11": "NULL",
                                    "12": "NULL",
                                    "13": "0",
                                    "14": "SELECT SERVERPROPERTY('EngineEdition'), SERVERPROPERTY('productversion'), SERVERPROPERTY ('productlevel'), SERVERPROPERTY ('edition'), SERVERPROPERTY ('MachineName'), (SELECT CASE WHEN EXISTS (SELECT TOP 1 1 from [sys].[all_columns] WITH (NOLOCK) WHERE name = N'xml_index_type' AND OBJECT_ID(N'sys.xml_indexes') = object_id) THEN 1 ELSE 0 END AS SXI_PRESENT)"
                                },
                                {
                                    "0": "18734",
                                    "1": "2",
                                    "2": "2",
                                    "3": "16384",
                                    "4": "0x000001BBA219C060",
                                    "5": "Compiled Plan",
                                    "6": "Adhoc",
                                    "7": "0x06000B006C4E592D8031D2ACBB01000001000000000000000000000000000000000000000000000000000000",
                                    "8": "2",
                                    "9": "NULL",
                                    "10": "11",
                                    "11": "NULL",
                                    "12": "NULL",
                                    "13": "0",
                                    "14": "set LOCK_TIMEOUT 5000"
                                },
                                {
                                    "0": "22384",
                                    "1": "2",
                                    "2": "3",
                                    "3": "253952",
                                    "4": "0x000001BB4A1D6060",
                                    "5": "Compiled Plan",
                                    "6": "Adhoc",
                                    "7": "0x060005004837CD2300CAD2ACBB01000001000000000000000000000000000000000000000000000000000000",
                                    "8": "2",
                                    "9": "NULL",
                                    "10": "5",
                                    "11": "NULL",
                                    "12": "NULL",
                                    "13": "0",
                                    "14": "\r\n                                    declare @BatchID uniqueidentifier\r\n\r\n                                    set @BatchID = newid()\r\n\r\n                                    UPDATE [Notifications] WITH (TABLOCKX)\r\n                                        SET [BatchID] = @BatchID,\r\n                                        [ProcessStart] = GETUTCDATE(),\r\n                                        [ProcessHeartbeat] = GETUTCDATE()\r\n                                    FROM (\r\n                                        SELECT TOP 8  [NotificationID] FROM [Notifications] WITH (TABLOCKX) WHERE ProcessStart is NULL and\r\n\t                                    (ProcessAfter is NULL or ProcessAfter < GETUTCDATE()) ORDER BY [NotificationEntered]\r\n                                    ) AS t1\r\n                                    WHERE [Notifications].[NotificationID] = t1.[NotificationID]\r\n\r\n                                    select top 8\r\n\t\t                                    -- Notification data\r\n\t\t                                    N.[NotificationID],\r\n\t\t                                    N.[SubscriptionID],\r\n\t\t                                    N.[ActivationID],\r\n\t\t                                    N.[ReportID],\r\n\t\t                                    N.[SnapShotDate],\r\n\t\t                                    N.[DeliveryExtension],\r\n\t\t                                    N.[ExtensionSettings],\r\n                                            N.[Locale],\r\n\t\t                                    N.[Parameters],\r\n\t\t                                    N.[SubscriptionLastRunTime],\r\n\t\t                                    N.[ProcessStart],\r\n\t\t                                    N.[NotificationEntered],\r\n\t\t                                    N.[Attempt],\r\n\t\t                                    N.[IsDataDriven],\r\n\t\t                                    SUSER_SNAME(Owner.[Sid]),\r\n\t\t                                    Owner.[UserName],\r\n\t\t                                    -- Report Data\r\n\t\t                                    O.[Path],\r\n\t\t                                    N.[ReportZone],\r\n\t\t                                    O.[Type],\r\n\t\t                                    SD.NtSecDescPrimary,\r\n                                            N.[Version],\r\n                                            Owner.[AuthType],\r\n                                            SR.[SubscriptionResult]\r\n\t                                    from \r\n\t\t                                    [Notifications] N with (TABLOCKX) inner join [Catalog] O on O.[ItemID] = N.[ReportID]\r\n\t\t                                    inner join [Users] Owner on N.SubscriptionOwnerID = Owner.UserID\r\n\t\t                                    left outer join [SecData] SD on O.[PolicyID] = SD.[PolicyID] AND SD.AuthType = Owner.AuthType\r\n\t\t                                    left outer join [SubscriptionResults] SR on N.[SubscriptionID] = SR.[SubscriptionID] AND CHECKSUM(convert(nvarchar(max),N.[ExtensionSettings])) = SR.[ExtensionSettingsHash]\r\n\t                                    where \r\n\t\t                                    N.[BatchID] = @BatchID\r\n                                    ORDER BY [NotificationEntered]\r\n                                    "
                                },
                                {
                                    "0": "37997",
                                    "1": "2",
                                    "2": "3",
                                    "3": "155648",
                                    "4": "0x000001BB4A1D0060",
                                    "5": "Compiled Plan",
                                    "6": "Adhoc",
                                    "7": "0x060005001B05DA3180C2D2ACBB01000001000000000000000000000000000000000000000000000000000000",
                                    "8": "2",
                                    "9": "NULL",
                                    "10": "5",
                                    "11": "NULL",
                                    "12": "NULL",
                                    "13": "0",
                                    "14": "\r\n                                            declare @BatchID uniqueidentifier\r\n\r\n                                            set @BatchID = NEWID()\r\n\r\n                                            UPDATE [Event] WITH (TABLOCKX)\r\n                                                SET [BatchID] = @BatchID,\r\n                                                [ProcessStart] = GETUTCDATE(),\r\n                                                [ProcessHeartbeat] = GETUTCDATE()\r\n                                            FROM (\r\n                                                SELECT TOP 8 [EventID] FROM [Event] WITH (TABLOCKX) WHERE [ProcessStart] is NULL ORDER BY [TimeEntered]\r\n                                                ) AS t1\r\n                                            WHERE [Event].[EventID] = t1.[EventID]\r\n\r\n                                            select top 8\r\n\t                                            E.[EventID],\r\n\t                                            E.[EventType],\r\n\t                                            E.[EventData]\r\n                                            from\r\n\t                                            [Event] E WITH (TABLOCKX)\r\n                                            where\r\n\t                                            [BatchID] = @BatchID\r\n                                            ORDER BY [TimeEntered]\r\n                                            "
                                },
                                {
                                    "0": "29389",
                                    "1": "2",
                                    "2": "1",
                                    "3": "65536",
                                    "4": "0x000001BB51CFE060",
                                    "5": "Compiled Plan",
                                    "6": "Prepared",
                                    "7": "0x0600090011BD4730002AD2ACBB01000001000000000000000000000000000000000000000000000000000000",
                                    "8": "1",
                                    "9": "NULL",
                                    "10": "9",
                                    "11": "NULL",
                                    "12": "NULL",
                                    "13": "0",
                                    "14": "(@rowcount INT OUTPUT)\nDELETE TOP (1000000) FROM [sys].[memory_optimized_history_table_1179151246] WITH (SNAPSHOT) OUTPUT DELETED.[ColdRoomTemperatureID], DELETED.[ColdRoomSensorNumber], DELETED.[RecordedWhen], DELETED.[Temperature], DELETED.[ValidFrom], DELETED.[ValidTo]  \nINTO [Warehouse].[ColdRoomTemperatures_Archive]  WHERE [ValidTo] < GetHkOldestTxTemporalTs()  \nSET @rowcount = @@ROWCOUNT \n"
                                },
                                {
                                    "0": "11203",
                                    "1": "2",
                                    "2": "1",
                                    "3": "16384",
                                    "4": "0x000001BB51CDE060",
                                    "5": "Compiled Plan",
                                    "6": "Prepared",
                                    "7": "0x060009002900CE3A8022D2ACBB01000001000000000000000000000000000000000000000000000000000000",
                                    "8": "1",
                                    "9": "NULL",
                                    "10": "9",
                                    "11": "NULL",
                                    "12": "NULL",
                                    "13": "0",
                                    "14": "(@schemaName sysname, @tableName sysname, @full_flush int, @rowcount int OUTPUT)EXEC sys.sp_xtp_flush_temporal_history_internal @schemaName, @tableName, @full_flush, @rowcount OUTPUT"
                                },
                                {
                                    "0": "6989",
                                    "1": "2",
                                    "2": "1",
                                    "3": "122880",
                                    "4": "0x000001BB343F6060",
                                    "5": "Compiled Plan",
                                    "6": "Prepared",
                                    "7": "0x06000900BB576F1F8042D2ACBB01000001000000000000000000000000000000000000000000000000000000",
                                    "8": "1",
                                    "9": "NULL",
                                    "10": "9",
                                    "11": "NULL",
                                    "12": "NULL",
                                    "13": "0",
                                    "14": "(@used_memory_count_ratio float)\n select p.object_id as object_id  from ((select o.object_id as object_id, ct.depid as depid, sum(m.used_bytes) as used_memory_current from sys.objects$ o with(nolock) inner join sys.syssingleobjrefs ct with(nolock)on o.object_id = ct.indepid inner join sys.dm_db_xtp_memory_consumers m with(nolock) on o.object_id = m.object_id where ct.class = 118 group by o.object_id, ct.depid) p left join (select object_id, sum(used_bytes) as used_memory_history from sys.dm_db_xtp_memory_consumers with(nolock) group by object_id) q on p.depid = q.object_id) where cast(used_memory_history as float) / used_memory_current > @used_memory_count_ratio"
                                },
                                {
                                    "0": "526",
                                    "1": "1",
                                    "2": "2",
                                    "3": "32768",
                                    "4": "0x000001BB9DC16060",
                                    "5": "Parse Tree",
                                    "6": "View",
                                    "7": "0x0500FF7F98BE56F15061C19DBB01000001000000000000000000000000000000000000000000000000000000",
                                    "8": "2",
                                    "9": "NULL",
                                    "10": "32767",
                                    "11": "-245973352",
                                    "12": "0",
                                    "13": "0",
                                    "14": "CREATE FUNCTION sys.dm_exec_sql_text(@handle varbinary(64))\r\nRETURNS TABLE\r\nAS\r\n\tRETURN SELECT * FROM OPENROWSET(TABLE FNGETSQL, @handle)\r\n"
                                },
                                {
                                    "0": "1977",
                                    "1": "1",
                                    "2": "2",
                                    "3": "65536",
                                    "4": "0x000001BB9DC52060",
                                    "5": "Parse Tree",
                                    "6": "View",
                                    "7": "0x0500FF7FEC5CE6D85021C59DBB01000001000000000000000000000000000000000000000000000000000000",
                                    "8": "2",
                                    "9": "NULL",
                                    "10": "32767",
                                    "11": "-655991572",
                                    "12": "0",
                                    "13": "0",
                                    "14": "\r\ncreate view sys.dm_exec_cached_plans as \r\n\tSELECT\r\n\t\tbucketid,\r\n\t\trefcounts,\r\n\t\tusecounts,\r\n\t\tsize_in_bytes,\r\n\t\tmemory_object_address,\r\n\t\tcacheobjtype,\r\n\t\tobjtype,\r\n\t\tplan_handle,\r\n\t\tpool_id,\r\n\t\tparent_plan_handle\r\n\tFROM OpenRowset(TABLE SYSDMEXECCACHEDPLANS)\r\n\tUNION ALL\r\n\tSELECT \r\n\t\tbucketid,\r\n\t\trefcounts,\r\n\t\tusecounts,\r\n\t\tsize_in_bytes,\r\n\t\tmemory_object_address,\r\n\t\tcacheobjtype,\r\n\t\tobjtype,\r\n\t\tplan_handle,\r\n\t\tpool_id,\r\n\t\tNULL\r\n\tFROM OpenRowset(TABLE XTP_CACHED_PLANS)\r\n\r\n"
                                },
                                {
                                    "0": "424",
                                    "1": "1",
                                    "2": "2",
                                    "3": "131072",
                                    "4": "0x000001BB52CA2060",
                                    "5": "Parse Tree",
                                    "6": "View",
                                    "7": "0x0500FF7F9AFFFFFF5021CA52BB01000001000000000000000000000000000000000000000000000000000000",
                                    "8": "2",
                                    "9": "NULL",
                                    "10": "32767",
                                    "11": "-102",
                                    "12": "0",
                                    "13": "0",
                                    "14": "CREATE VIEW sys.all_views AS\r\n\tSELECT o.name, o.id AS object_id,\r\n\t\tr.indepid AS principal_id, o.nsid AS schema_id,\r\n\t\to.pid AS parent_object_id,\r\n\t\to.type, n.name AS type_desc,\r\n\t\to.created AS create_date, o.modified AS modify_date,\r\n\t\tconvert(bit, o.status & 1) AS is_ms_shipped,\r\n\t\tconvert(bit, o.status & 16) AS is_published,\r\n\t\tconvert(bit, o.status & 64) AS is_schema_published,\r\n\t\tconvert(bit, o.status & 0x1000) AS is_replicated,\r\n\t\tconvert(bit, o.status & 0x2000) AS has_replication_filter,\r\n\t\tconvert(bit, o.status & 512) AS has_opaque_metadata,\r\n\t\tconvert(bit, o.status & 2048) AS has_unchecked_assembly_data,\r\n\t\tconvert(bit, o.status & 1024) AS with_check_option,\r\n\t\tconvert(bit, o.status & 2) AS is_date_correlation_view,\r\n\t\tconvert(bit, o.status & 0x01000000) AS is_tracked_by_cdc\r\n\tFROM sys.sysschobjs o\t\t\r\n\tLEFT JOIN sys.syssingleobjrefs r ON r.depid = o.id AND r.class = 97 AND r.depsubid = 0\t-- SRC_OBJOWNER\r\n\tLEFT JOIN sys.syspalnames n ON n.class = 'OBTY' AND n.value = o.type\r\n\tWHERE o.nsclass = 0 -- x_eonc_Standard\r\n\t\tAND o.pclass = 1 AND type = 'V' -- x_eunc_Object\r\n\t\tAND has_access('AO', o.id) = 1\r\n"
                                },
                                {
                                    "0": "1540",
                                    "1": "1",
                                    "2": "4",
                                    "3": "90112",
                                    "4": "0x000001BB9CC3A060",
                                    "5": "Parse Tree",
                                    "6": "View",
                                    "7": "0x0500FF7F6FFEFFFF50A1C39CBB01000001000000000000000000000000000000000000000000000000000000",
                                    "8": "2",
                                    "9": "NULL",
                                    "10": "32767",
                                    "11": "-401",
                                    "12": "0",
                                    "13": "0",
                                    "14": "CREATE VIEW sys.index_columns AS\r\n\tSELECT isc.idmajor AS object_id,\r\n\t\tisc.idminor AS index_id,\r\n\t\tisc.subid AS index_column_id,\r\n\t\tisc.intprop AS column_id,\r\n\t  \tisc.tinyprop1 AS key_ordinal,\r\n\t  \tisc.tinyprop2 AS partition_ordinal,\r\n\t  \tconvert (bit, isc.status & 0x4) AS is_descending_key,\t-- ISC_IC_DESC_KEY\r\n\t\tconvert (bit, isc.status & 0x10) AS is_included_column\t-- ISC_IC_INCLUDED\r\n\tFROM sys.sysiscols isc\r\n\tINNER JOIN sys.sysschobjs obj ON obj.id = isc.idmajor\r\n\tWHERE (isc.status & 2) <> 0\r\n\t\tAND has_access('CO', isc.idmajor) = 1\t-- ISC_IND_COL\r\n\t\tAND (isc.status & 0x10 = 0 OR obj.status2 & 0x00000008 = 0 OR isc.idminor = 1)\t-- ISC_IC_INCLUDED, OBJTAB2_HEKATON, ISC_IC_IDMINOR\r\n"
                                },
                                {
                                    "0": "575",
                                    "1": "1",
                                    "2": "4",
                                    "3": "229376",
                                    "4": "0x000001BB97D4C060",
                                    "5": "Parse Tree",
                                    "6": "View",
                                    "7": "0x0500FF7F73FEFFFF50C1D497BB01000001000000000000000000000000000000000000000000000000000000",
                                    "8": "2",
                                    "9": "NULL",
                                    "10": "32767",
                                    "11": "-397",
                                    "12": "0",
                                    "13": "0",
                                    "14": "CREATE VIEW sys.indexes AS\r\n\tSELECT i.id AS object_id,\r\n\t\ti.name AS name,\r\n\t\ti.indid AS index_id,\r\n\t\ti.type,\r\n\t\tn.name AS type_desc,\r\n\t\tsysconv(bit, i.status & 0x8) AS is_unique,\t\t\t-- IS_IND_UNIQUE\r\n\t\tcase when obj.status2 & 0x00000008 != 0 \t\t\t-- OBJTAB2_HEKATON\r\n \t\t  then 0 \r\n \t\t  else isnull(ds.indepid, 1 - (i.status & 0x100)/0x100) \r\n\t\tend AS data_space_id,\t-- IS_IND_ITWINDEX\r\n\t\tsysconv(bit, i.status & 0x4) AS ignore_dup_key,\t\t\t-- IS_IND_DPKEYS\r\n\t\tsysconv(bit, i.status & 0x20) AS is_primary_key,\t\t-- IS_IND_PRIMARY\r\n\t\tsysconv(bit, i.status & 0x40) AS is_unique_constraint,\t\t-- IS_IND_UNIQUE_CO\r\n\t\ti.fillfact AS fill_factor,\r\n\t\tsysconv(bit, i.status & 0x10) AS is_padded,\t\t\t-- IS_IND_PADINDEX\r\n\t\tsysconv(bit, i.status & 0x80) AS is_disabled,\t\t\t-- IS_IND_OFFLINE\r\n\t\tsysconv(bit, i.status & 0x100) AS is_hypothetical,\t\t-- IS_IND_ITWINDEX\r\n\t\tcase when obj.status2 & 0x00000008 != 0 \t\t\t-- OBJTAB2_HEKATON\r\n \t\t  then sysconv(bit, 0) \r\n\t\t  else sysconv(bit, 1 - (i.status & 512)/512)\t\t\t-- IS_IND_NO_ROWLOCK\r\n\t\tend as allow_row_locks,\r\n\t\tcase when obj.status2 & 0x00000008 != 0 \t\t\t-- OBJTAB2_HEKATON\r\n \t\t  then sysconv(bit, 0)\r\n\t\t  else sysconv(bit, 1 - (i.status & 1024)/1024)\t\t\t-- IS_IND_NO_PAGELOCK\r\n\t\tend AS allow_page_locks,\r\n\t\tsysconv(bit, i.status & 0x20000) AS has_filter,\t\t\t-- IS_HAS_FILTER\r\n\t\tcase when (i.status & 0x20000) != 0 then object_definition(i.id, i.indid, 7) else NULL end AS filter_definition, -- x_euncIndex\r\n\t\tcase when (i.type = 5 or i.type = 6) and objval.value is null\r\n\t\t\tthen \r\n\t\t\t\tcase when obj.status2 & 0x00000008 != 0 -- OBJTAB2_HEKATON\r\n\t\t\t\t\tthen 60 -- default for HEKATON\r\n\t\t\t\t\telse 0 -- default for disk based columnstore indexes\r\n\t\t\t\tend\r\n\t\t\telse cast(objval.value as int) \r\n\t\tend as compression_delay -- compression_delay\r\n\tFROM sys.sysidxstats i\r\n\tLEFT JOIN sys.syssingleobjrefs ds ON ds.depid = i.id AND ds.class = 7 AND ds.depsubid = i.indid\t-- SRC_INDEXTODS\r\n\tLEFT JOIN sys.syspalvalues n ON n.class = 'IDXT' and n.value = i.type\r\n\tINNER JOIN sys.sysschobjs obj ON obj.id = i.id\r\n\tLEFT JOIN sys.sysobjvalues objval ON objval.valclass = 124 AND i.id = objval.objid AND i.indid = objval.subobjid AND objval.valnum = 0 -- SVC_COLUMNSTORE_INDEX_ATTRIBUTES = 124; VALNUM_COMPRESSION_DELAY = 0\r\n\tWHERE (i.status & 1) <> 0\r\n\t\tAND has_access('CO', i.id) = 1\t-- IS_INDEX\r\n"
                                },
                                {
                                    "0": "228",
                                    "1": "1",
                                    "2": "4",
                                    "3": "81920",
                                    "4": "0x000001BBA1BE0060",
                                    "5": "Parse Tree",
                                    "6": "View",
                                    "7": "0x0500FF7F68FEFFFF5001BEA1BB01000001000000000000000000000000000000000000000000000000000000",
                                    "8": "2",
                                    "9": "NULL",
                                    "10": "32767",
                                    "11": "-408",
                                    "12": "0",
                                    "13": "0",
                                    "14": "CREATE VIEW sys.default_constraints AS\r\n\tSELECT name, object_id, principal_id, schema_id, parent_object_id,\r\n\t\ttype, type_desc, create_date, modify_date,\r\n\t\tis_ms_shipped, is_published, is_schema_published,\r\n\t\tproperty AS parent_column_id,\r\n\t\tobject_definition(object_id) AS definition,\r\n\t\tis_system_named\r\n\tFROM sys.objects$\r\n\tWHERE type = 'D ' AND \r\n\t\t(parent_object_id > 0 OR \r\n\t\t(parent_object_id & 0xe0000000 = 0xa0000000)) -- IsLocalTempObjectId\r\n"
                                },
                                {
                                    "0": "338",
                                    "1": "1",
                                    "2": "3",
                                    "3": "311296",
                                    "4": "0x000001BBA1BF8060",
                                    "5": "Parse Tree",
                                    "6": "View",
                                    "7": "0x0500FF7FAFDCC9E15081BFA1BB01000001000000000000000000000000000000000000000000000000000000",
                                    "8": "2",
                                    "9": "NULL",
                                    "10": "32767",
                                    "11": "-506864465",
                                    "12": "0",
                                    "13": "0",
                                    "14": "CREATE VIEW sys.objects$ AS\r\n\tSELECT\r\n\t\to.name,\r\n\t\to.id AS object_id,\r\n\t\tr.indepid AS principal_id,\r\n\t\to.nsid AS schema_id,\r\n\t\to.pid AS parent_object_id,\r\n\t\tconvert(char(2), case o.type when 'ET' then 'U' else o.type end) AS type,\r\n\t\tn.name AS type_desc,\r\n\t\to.intprop AS property,\r\n\t\to.created AS create_date,\r\n\t\to.modified AS modify_date,\r\n\t\tsysconv(bit, o.status & 1) AS is_ms_shipped,\t\t\t\t-- OBJALL_MSSHIPPED\r\n\t\tsysconv(bit, o.status & 2) AS is_auto_dropped,\t\t\t\t-- OBJALL_AUTODROP\r\n\t\tsysconv(bit, o.status & 4) AS is_system_named,\t\t\t-- OBJALL_SYSNAMED\r\n\t\tsysconv(bit, o.status & 16) AS is_published,\t\t\t\t-- OBJALL_RPL_PUBLISHED\r\n\t\tsysconv(bit, o.status & 64) AS is_schema_published,\t\t\t-- OBJALL_RPL_PUB_SCHONLY\r\n\t\tconvert(bit, o.status & 0x100) AS is_cycling,\t\t\t\t-- OBJSEQ_IS_CYCLING\r\n\t\tsysconv(bit, o.status & 256) AS lock_on_bulk_load,\t\t\t-- OBJTAB_BCPTABLOCK\r\n\t\tsysconv(bit, o.status & 256) AS is_disabled,\t\t\t\t-- OBJCST_DISABLED\r\n\t\tsysconv(bit, o.status & 256) AS is_auto_executed,\t\t\t-- OBJPRC_STARTUP\r\n\t\tsysconv(bit, o.status & 256) AS is_activation_enabled,\t\t-- OBJSQ_ACTIVATIONON\r\n\t\tsysconv(bit, o.status & 256) AS is_enabled,\t\t\t\t\t-- OBJSECPOL_ENABLED\r\n\t\tsysconv(bit, o.status & 512) AS has_opaque_metadata,\t\t-- OBJVW_OPAQUEBMM\r\n\t\tsysconv(bit, o.status & 512) AS is_not_for_replication,\t\t-- OBJCST_NOTFORREPL, OBJSECPOL_NOTFORREPL\r\n\t\tsysconv(bit, o.status & 512) AS is_receive_enabled,\t\t\t-- OBJSQ_RECEIVEON\r\n\t\tconvert(bit, o.status & 0x200) AS is_cached,\t\t\t\t-- OBJSEQ_IS_CACHED\r\n\t\tsysconv(bit, o.status & 1024) AS is_not_trusted,\t\t\t-- OBJCST_NOTRUST\r\n\t\tsysconv(bit, o.status & 1024) AS is_enqueue_enabled,\t\t-- OBJSQ_ENQUEUEON\r\n\t\tsysconv(bit, o.status & 1024) AS with_check_option,\t\t-- OBJVW_WITHCHECK\r\n\t\tsysconv(bit, o.status & 2048) AS is_retention_enabled,\t\t-- OBJSQ_RETENTIONON\r\n\t\tsysconv(bit, o.status & 2048) AS has_unchecked_assembly_data,\t-- OBJTAB_HAS_UNCHKED_ASM_DATA\r\n\t\tconvert(tinyint, (o.status/4096) & 3) AS update_referential_action,\t\t-- ERefAct/OBJREF_UPDACTMASK\r\n\t\tconvert(tinyint, (o.status/16384) & 3) AS delete_referential_action,\t-- ERefAct/OBJREF_DELACTMASK\r\n\t\tsysconv(bit, o.status & 0x1000) AS is_replicated,\t\t\t-- OBJTAB_REPLICATE\r\n\t\tsysconv(bit, o.status & 0x1000) AS is_execution_replicated,\t-- OBJPRC_PROC_EXEC\r\n\t\tsysconv(bit, o.status & 0x2000) AS has_replication_filter,\t\t-- OBJTAB_HAS_FILT_PROC\r\n\t\tsysconv(bit, o.status & 0x2000) AS is_repl_serializable_only,\t-- OBJPRC_PROC_SER_ONLY\r\n\t\tsysconv(bit, o.status & 0x4000) AS is_merge_published,\t\t\t-- OBJTAB_MERGE_PUBL\r\n\t\tsysconv(bit, o.status & 0x4000) AS skips_repl_constraints,\t\t-- OBJPRC_NO_REPL_CNST\r\n\t\tsysconv(bit, o.status & 0x8000) AS is_sync_tran_subscribed,\t\t-- OBJTAB_SYNCTRAN_SUB\r\n\t\tsysconv(bit, o.status & 0x40000) AS uses_ansi_nulls,\t\t\t-- OBJMOD_ANSINULLS\r\n\t\tsysconv(bit, o.status & 0x200000) AS null_on_null_input, \t\t-- OBJMOD_NULLONNULL\r\n\t\tsysconv(bit, o.status & 0x100000) AS uses_database_collation,\t-- OBJMOD_ANSINULLS\r\n\t\tsysconv(bit, o.status & 0x01000000) AS is_tracked_by_cdc,\t\t\t-- OBJTAB_CDC_TRACKED\r\n\t\tsysconv(bit, o.status & 0x02000000) AS large_value_types_out_of_row,\t-- OBJTAB_LARGETYPE_OUTOFROW\r\n\t\tsysconv(tinyint, (o.status & 0x30000000)/0x10000000) AS lock_escalation_option,\r\n\t\tsysconv(bit, o.status & 0x04000000) AS is_poison_message_handling_enabled,\t-- OBJSQ_POISONMSGON\r\n\t\tsysconv(bit, o.status2 & 0x00000002) AS is_filetable,\t-- OBJTAB2_FILETABLE\r\n\t\tsysconv(bit, o.status2 & 0x00000020) AS is_catalog_hidden,\t-- OBJALL2_CATALOG_HIDDEN\r\n\t\tsysconv(bit, o.status2 & 0x00000008) AS is_memory_optimized,\t-- OBJTAB2_HEKATON\r\n\t\tsysconv(tinyint, (o.status2 & 0x40)/0x40) AS durability_option,\t--OBJTAB2_DURABILITY_SCHEMA_ONLY\r\n\t\tsysconv(bit, case o.type when 'ET' then 1 else 0 end) AS is_external,\r\n\t\t~(sysconv(bit, o.status & 1024)) AS is_security_policy_schema_bound\t-- OBJSECPOL_NOTSCHEMABOUND\r\n\tFROM sys.sysschobjs o\r\n\tLEFT JOIN sys.syssingleobjrefs r ON r.depid = o.id AND r.class = 97 AND r.depsubid = 0\t-- SRC_OBJOWNER\r\n\tLEFT JOIN sys.syspalnames n ON n.class = 'OBTY' AND n.value = o.type\r\n\tWHERE o.nsclass = 0 -- x_eonc_Standard\r\n\t\tAND o.pclass = 1 -- x_eunc_Object\r\n\t\tAND has_access('CO', o.id) = 1\r\n"
                                },
                                {
                                    "0": "760",
                                    "1": "1",
                                    "2": "2",
                                    "3": "155648",
                                    "4": "0x000001BB343F4060",
                                    "5": "Parse Tree",
                                    "6": "View",
                                    "7": "0x0500FF7F6BFFFFFF50413F34BB01000001000000000000000000000000000000000000000000000000000000",
                                    "8": "2",
                                    "9": "NULL",
                                    "10": "32767",
                                    "11": "-149",
                                    "12": "0",
                                    "13": "0",
                                    "14": "CREATE VIEW sys.system_columns$ AS\r\n\tSELECT id AS object_id, name, colid AS column_id,\r\n\t\txtype AS system_type_id, utype AS user_type_id,\r\n\t\tlength AS max_length, prec AS precision, scale,\r\n\t\tsysconv(bit, 1 - (status & 1)) AS is_nullable,\r\n\t\tsysconv(bit, status & 2) AS is_ansi_padded,\r\n\t\tsysconv(bit, 0) AS is_rowguidcol,\r\n\t\tsysconv(bit, 0) AS is_identity,\r\n\t\tsysconv(bit, 0) AS is_computed,\r\n\t\tsysconv(bit, 0) AS is_filestream,\r\n\t\tsysconv(bit, 0) AS is_replicated,\r\n\t\tsysconv(bit, 0) AS is_non_sql_subscribed,\r\n\t\tsysconv(bit, 0) AS is_merge_published,\r\n\t\tsysconv(bit, 0) AS is_dts_replicated,\r\n\t\tsysconv(bit, 0) AS is_xml_document,\r\n\t\tsysconv(int, 0) AS xml_collection_id,\r\n\t\tsysconv(int, 0) AS default_object_id,\r\n\t\tsysconv(int, 0) AS rule_object_id,\r\n\t\tsysconv(bit, 0) AS is_sparse,\r\n\t\tsysconv(bit, 0) AS is_column_set,\r\n\t\tconvert(tinyint, 0) AS generated_always_type,\r\n\t\tconvert(nvarchar(60), 'NOT_APPLICABLE') COLLATE Latin1_General_CI_AS_KS_WS AS generated_always_type_desc,\r\n\t\tconvert(int, NULL) as encryption_type,\r\n\t\tconvert(nvarchar(64), NULL) COLLATE Latin1_General_CI_AS_KS_WS as encryption_type_desc,\r\n\t\tconvert(sysname, NULL) COLLATE Latin1_General_CI_AS_KS_WS as encryption_algorithm_name,\r\n\t\tconvert(int, NULL) as column_encryption_key_id,\r\n\t\tconvert(sysname, NULL) as column_encryption_key_database_name,\r\n\t\tsysconv(bit, 0) AS is_hidden,\r\n\t\tsysconv(bit, 0) AS is_masked\r\n\tFROM sys.syscolpars\r\n\tWHERE number = 0 AND (status & 4096) = 4096\r\n\t\t  AND (serverproperty('EngineEdition') != 5 OR (status & 0x08000000) != 0)\r\n"
                                },
                                {
                                    "0": "1117",
                                    "1": "1",
                                    "2": "4",
                                    "3": "57344",
                                    "4": "0x000001BB4D156060",
                                    "5": "Parse Tree",
                                    "6": "View",
                                    "7": "0x0500FF7F3FFEFFFF5061154DBB01000001000000000000000000000000000000000000000000000000000000",
                                    "8": "2",
                                    "9": "NULL",
                                    "10": "32767",
                                    "11": "-449",
                                    "12": "0",
                                    "13": "0",
                                    "14": "CREATE VIEW sys.extended_properties AS\r\n\tSELECT p.class,\r\n\t\tclass_desc = n.name,\r\n\t\tmajor_id = p.id,\r\n\t\tminor_id = p.subid,\r\n\t\tp.name, p.value\r\n\tFROM sys.sysxprops p\r\n\tLEFT JOIN sys.syspalvalues n ON n.class = 'UNCL' AND n.value = p.class\r\n\tWHERE has_access('EP', p.class, p.id) = 1\r\n"
                                },
                                {
                                    "0": "630",
                                    "1": "1",
                                    "2": "2",
                                    "3": "188416",
                                    "4": "0x000001BBA1EF6060",
                                    "5": "Parse Tree",
                                    "6": "View",
                                    "7": "0x0500FF7F95FFFFFF5061EFA1BB01000001000000000000000000000000000000000000000000000000000000",
                                    "8": "2",
                                    "9": "NULL",
                                    "10": "32767",
                                    "11": "-107",
                                    "12": "0",
                                    "13": "0",
                                    "14": "CREATE VIEW sys.all_sql_modules AS\r\n\tSELECT *\r\n\tFROM sys.system_sql_modules\r\n\r\n\tUNION ALL\r\n\r\n\tSELECT object_id = o.id,\r\n\t\tdefinition = object_definition(o.id),\r\n\t\tuses_ansi_nulls = convert(bit, o.status & 0x40000), \t\t\t-- OBJMOD_ANSINULLS\r\n\t\tuses_quoted_identifier = convert(bit, o.status & 0x80000), \t\t-- OBJMOD_QUOTEDIDENT\r\n\t\tis_schema_bound = convert(bit, o.status & 0x20000), \t\t\t-- OBJMOD_SCHEMABOUND\r\n\t\tuses_database_collation = convert(bit, o.status & 0x100000), \t-- OBJMOD_USESDBCOLL\r\n\t\tis_recompiled = convert(bit, o.status & 0x400000), \t\t\t\t-- OBJMOD_NOCACHE\r\n\t\tnull_on_null_input = convert(bit, o.status & 0x200000), \t\t-- OBJMOD_NULLONNULL\r\n\t\texecute_as_principal_id = x.indepid,\r\n\t\tuses_native_compilation = sysconv(bit, CASE WHEN (o.type = 'P') THEN o.status & 0x00000200\t-- OBJPRC_HEKATON\r\n\t\t\t\t\t\t\t\t\t\t\t\tWHEN (o.type = 'FN') THEN o.status & 0x00000200\t\t-- OBJPRC_HEKATON\r\n\t\t\t\t\t\t\t\t\t\t\t\tWHEN (o.type = 'TR') THEN o.status & 0x00001000\t\t-- OBJTRG_HEKATON\r\n\t\t\t\t\t\t\t\t\t\t\t\tWHEN (o.type = 'IF') THEN o.status & 0x00000200\t\t-- OBJPRC_HEKATON\r\n\t\t\t\t\t\t\t\t\t\t\t\tELSE 0\r\n\t\t\t\t\t\t\t\t\t\t\t\tEND)\t\t\t\r\n\tFROM sys.sysschobjs o\r\n\tLEFT JOIN sys.syssingleobjrefs x ON x.depid = o.id AND x.class = 22 AND x.depsubid = 0 -- SRC_OBJEXECASOWNER\r\n\tWHERE o.pclass <> 100 -- x_eunc_Server\r\n\t\tAND ((o.type = 'TR' AND has_access('TR', o.id, o.pid, o.nsclass) = 1)\r\n\t\t\tOR (type IN ('P','V','FN','IF','TF','RF','IS') AND has_access('AO', o.id) = 1)\r\n\t\t\tOR (type IN ('R','D') AND o.pid = 0))\r\n\t\tAND has_access('CO', o.id) = 1\r\n"
                                },
                                {
                                    "0": "3535",
                                    "1": "1",
                                    "2": "2",
                                    "3": "98304",
                                    "4": "0x000001BBA1BF0060",
                                    "5": "Parse Tree",
                                    "6": "View",
                                    "7": "0x0500FF7F52FEFFFF5001BFA1BB01000001000000000000000000000000000000000000000000000000000000",
                                    "8": "2",
                                    "9": "NULL",
                                    "10": "32767",
                                    "11": "-430",
                                    "12": "0",
                                    "13": "0",
                                    "14": "CREATE VIEW sys.assemblies AS\r\n\tSELECT s.name AS name, \r\n\t\tr.indepid AS principal_id,\r\n\t\ts.id AS assembly_id,\r\n\t\tconvert(nvarchar(4000), assemblyproperty(s.name, 'CLRName')) collate Latin1_General_BIN AS clr_name,\r\n\t\tconvert(tinyint, s.intprop) AS permission_set,\r\n\t\ti.name AS permission_set_desc,\r\n\t\tsysconv(bit, s.status & 1) AS is_visible,\t-- ASM_EXPLICIT_REG\r\n\t\ts.created AS create_date,\r\n\t\ts.modified AS modify_date,\r\n\t\tconvert(bit, case when s.id < 65536 then 0 else 1 end) AS is_user_defined       -- x_MinUserAssemblyID\r\n\tFROM sys.sysclsobjs s\r\n\tLEFT JOIN sys.syssingleobjrefs r ON r.depid = s.id AND r.class = 52 AND r.depsubid = 0\t-- SRC_ASMOWNER\r\n\tLEFT JOIN sys.syspalvalues i ON i.class = 'ASPS' AND i.value = s.intprop\r\n\tWHERE s.class = 10\r\n\t\tAND has_access('AS', s.id) = 1\t-- SOC_ASSEMBLY\r\n\t\t\r\n"
                                },
                                {
                                    "0": "1399",
                                    "1": "1",
                                    "2": "2",
                                    "3": "147456",
                                    "4": "0x000001BB69786060",
                                    "5": "Parse Tree",
                                    "6": "View",
                                    "7": "0x0500FF7F5FFEFFFF50617869BB01000001000000000000000000000000000000000000000000000000000000",
                                    "8": "2",
                                    "9": "NULL",
                                    "10": "32767",
                                    "11": "-417",
                                    "12": "0",
                                    "13": "0",
                                    "14": "CREATE VIEW sys.assembly_modules AS\r\n\tSELECT object_id = o.id,\r\n\t\tassembly_id = asm.indepid,\r\n\t\tassembly_class = convert(sysname, v.value) collate Latin1_General_BIN,\r\n\t\tassembly_method = convert(sysname, m.value) collate Latin1_General_BIN,\r\n\t\tnull_on_null_input = sysconv(bit, o.status & 0x200000),\t-- OBJMOD_NULLONNULL\r\n\t\texecute_as_principal_id = x.indepid\r\n\tFROM sys.sysschobjs o\r\n\tJOIN sys.syssingleobjrefs asm ON asm.depid = o.id AND asm.class = 11 AND asm.depsubid = 0 \t-- SRC_MODULETOASM\r\n\tLEFT JOIN sys.sysobjvalues v ON v.valclass = 11 AND v.objid = o.id AND v.subobjid = 0 AND v.valnum = 1 \t-- SVC_OBJASMENTRY,ASMENTRY_CLASS\r\n\tLEFT JOIN sys.sysobjvalues m ON m.valclass = 11 AND m.objid = o.id AND m.subobjid = 0 AND m.valnum = 2 \t-- SVC_OBJASMENTRY,ASMENTRY_METHOD\r\n\tLEFT JOIN sys.syssingleobjrefs x ON x.depid = o.id AND x.class = 22 AND x.depsubid = 0\t-- SRC_OBJEXECASOWNER\r\n\tWHERE o.pclass <> 100\t-- x_eunc_Server\r\n\t\tAND type IN ('AF','PC','FS','FT','TA')\r\n\t\tAND has_access('SQ', o.id, o.pid, o.nsclass) = 1\r\n"
                                },
                                {
                                    "0": "2494",
                                    "1": "1",
                                    "2": "10",
                                    "3": "65536",
                                    "4": "0x000001BB5105C060",
                                    "5": "Parse Tree",
                                    "6": "View",
                                    "7": "0x0500FF7F31FEFFFF50C10551BB01000001000000000000000000000000000000000000000000000000000000",
                                    "8": "2",
                                    "9": "NULL",
                                    "10": "32767",
                                    "11": "-463",
                                    "12": "0",
                                    "13": "0",
                                    "14": "CREATE VIEW sys.xml_schema_collections AS\r\n\tSELECT xml_collection_id = s.id,\r\n\t\tschema_id = s.nsid,\r\n\t\tprincipal_id = r.indepid,\r\n\t\tname = s.name,\r\n\t\tcreate_date = s.created,\r\n\t\tmodify_date = s.modified\r\n\tFROM sys.sysnsobjs s\r\n\tLEFT JOIN sys.syssingleobjrefs r ON r.depid = s.id AND r.class = 59 AND r.depsubid = 0\t-- SRC_XSDCOLTOOWNER\r\n\tWHERE s.class = 27\t-- SOC_XSDCOLLECTION\r\n\t\tAND (s.nsid = 4 OR has_access('XC', 0, s.id) = 1)\r\n"
                                },
                                {
                                    "0": "3329",
                                    "1": "1",
                                    "2": "20",
                                    "3": "57344",
                                    "4": "0x000001BB8896A060",
                                    "5": "Parse Tree",
                                    "6": "View",
                                    "7": "0x0500FF7F57FEFFFF50A19688BB01000001000000000000000000000000000000000000000000000000000000",
                                    "8": "2",
                                    "9": "NULL",
                                    "10": "32767",
                                    "11": "-425",
                                    "12": "0",
                                    "13": "0",
                                    "14": "CREATE VIEW sys.schemas AS\r\n\tSELECT s.name, schema_id = s.id,\r\n\t\tprincipal_id = r.indepid\r\n\tFROM sys.sysclsobjs s\r\n\tLEFT JOIN sys.syssingleobjrefs r ON r.depid = s.id AND r.class = 50 AND r.depsubid = 0 -- SRC_SCHEMAOWNER\r\n\tWHERE s.class = 50\t-- SOC_SCHEMA\r\n"
                                },
                                {
                                    "0": "846",
                                    "1": "1",
                                    "2": "20",
                                    "3": "122880",
                                    "4": "0x000001BB574FE060",
                                    "5": "Parse Tree",
                                    "6": "View",
                                    "7": "0x0500FF7F59FEFFFF50E14F57BB01000001000000000000000000000000000000000000000000000000000000",
                                    "8": "2",
                                    "9": "NULL",
                                    "10": "32767",
                                    "11": "-423",
                                    "12": "0",
                                    "13": "0",
                                    "14": "CREATE VIEW sys.types AS\r\n\tSELECT t.name AS name,\r\n\t\tt.xtype AS system_type_id,\r\n\t\tt.id AS user_type_id,\r\n\t\tt.schid AS schema_id,\r\n\t\to.indepid AS principal_id,\r\n\t\tt.length AS max_length,\r\n\t\tt.prec AS precision,\r\n\t\tt.scale AS scale,\r\n\t\tconvert(sysname, collationpropertyfromid(t.collationid, 'name')) AS collation_name,\r\n\t\tsysconv(bit, 1 - (t.status & 1)) AS is_nullable,\t-- TYPE_NOTNULL\r\n\t\tsysconv(bit, case when t.id > 256 then 1 else 0 end) AS is_user_defined,\t-- x_utypSSNAME\r\n\t\tsysconv(bit, case when t.xtype = 240 then 1 else 0 end) AS is_assembly_type,\t-- XVT_UDT\r\n\t\tt.dflt AS default_object_id,\r\n\t\tt.chk AS rule_object_id,\r\n\t\tsysconv(bit, case when t.xtype = 243 then 1 else 0 end) AS is_table_type\t-- XVT_TABLETYPE\r\n\tFROM sys.sysscalartypes t\r\n\tLEFT JOIN sys.syssingleobjrefs o ON o.depid = t.id AND o.class = 44 AND o.depsubid = 0\t-- SRC_TYPETOOWNER\r\n\tLEFT JOIN sys.syssingleobjrefs sor ON sor.depid = t.id AND sor.class = 36 AND sor.depsubid = 0\t-- SRC_TYPETOTABLE \r\n\tWHERE (t.id <= 256 OR has_access('UT', t.id) = 1) \r\n"
                                },
                                {
                                    "0": "2907",
                                    "1": "1",
                                    "2": "6",
                                    "3": "122880",
                                    "4": "0x000001BB95EE8060",
                                    "5": "Parse Tree",
                                    "6": "View",
                                    "7": "0x0500FF7F98FFFFFF5081EE95BB01000001000000000000000000000000000000000000000000000000000000",
                                    "8": "2",
                                    "9": "NULL",
                                    "10": "32767",
                                    "11": "-104",
                                    "12": "0",
                                    "13": "0",
                                    "14": "CREATE VIEW sys.all_parameters AS\r\n SELECT * FROM sys.parameters"
                                },
                                {
                                    "0": "2852",
                                    "1": "1",
                                    "2": "4",
                                    "3": "73728",
                                    "4": "0x000001BB59496060",
                                    "5": "Parse Tree",
                                    "6": "View",
                                    "7": "0x0500FF7F76FEFFFF50614959BB01000001000000000000000000000000000000000000000000000000000000",
                                    "8": "2",
                                    "9": "NULL",
                                    "10": "32767",
                                    "11": "-394",
                                    "12": "0",
                                    "13": "0",
                                    "14": "CREATE VIEW sys.system_parameters AS\r\n\tSELECT object_id, name collate catalog_default AS name,\r\n\t\tparameter_id, system_type_id,\r\n\t\tuser_type_id, max_length,\r\n\t\tprecision, scale,\r\n\t\tis_output, is_cursor_ref,\r\n\t\thas_default_value, is_xml_document,\r\n\t\tdefault_value, xml_collection_id,\r\n\t\tis_readonly, is_nullable,\r\n\t\tencryption_type, encryption_type_desc, \r\n\t\tencryption_algorithm_name, column_encryption_key_id,\r\n\t\tcolumn_encryption_key_database_name collate catalog_default as column_encryption_key_database_name\r\n\tFROM sys.system_parameters$\r\n\tWHERE number = 1\r\n"
                                },
                                {
                                    "0": "1",
                                    "1": "1",
                                    "2": "4",
                                    "3": "122880",
                                    "4": "0x000001BB594FE060",
                                    "5": "Parse Tree",
                                    "6": "View",
                                    "7": "0x0500FF7F6AFFFFFF50E14F59BB01000001000000000000000000000000000000000000000000000000000000",
                                    "8": "2",
                                    "9": "NULL",
                                    "10": "32767",
                                    "11": "-150",
                                    "12": "0",
                                    "13": "0",
                                    "14": "CREATE VIEW sys.system_parameters$ AS\r\n\tSELECT id AS object_id,\r\n\t\tnumber,\r\n\t\tname collate catalog_default AS name,\r\n\t\tcolid AS parameter_id,\r\n\t\txtype AS system_type_id,\r\n\t\tutype AS user_type_id,\r\n\t\tlength AS max_length,\r\n\t\tprec AS precision, scale,\r\n\t\tsysconv(bit, status & 512) AS is_output,\r\n\t\tsysconv(bit, status & 1024) AS is_cursor_ref,\r\n\t\tsysconv(bit, 0) AS has_default_value,\r\n\t\tsysconv(bit, 0) AS is_xml_document,\r\n\t\tconvert(sql_variant, null) AS default_value,\r\n\t\tsysconv(int, 0) AS xml_collection_id,\r\n\t\tsysconv(bit, 0) AS is_readonly,\r\n\t\tsysconv(bit, 1 - (status & 1)) AS is_nullable,\r\n\t\tconvert(int, NULL) as encryption_type,\r\n\t\tconvert(nvarchar(64), NULL) COLLATE Latin1_General_CI_AS_KS_WS as encryption_type_desc,\r\n\t\tconvert(sysname, NULL) COLLATE Latin1_General_CI_AS_KS_WS as encryption_algorithm_name,\r\n\t\tconvert(int, NULL) as column_encryption_key_id,\r\n\t\tconvert(sysname, NULL) as column_encryption_key_database_name\r\n\tFROM sys.syscolpars\r\n\tWHERE number > 0 AND (status & 4096) = 4096\r\n\t\tAND (serverproperty('EngineEdition') != 5 OR (status & 0x08000000) != 0)\r\n"
                                },
                                {
                                    "0": "3611",
                                    "1": "1",
                                    "2": "4",
                                    "3": "180224",
                                    "4": "0x000001BB95EB6060",
                                    "5": "Parse Tree",
                                    "6": "View",
                                    "7": "0x0500FF7F77FEFFFF5061EB95BB01000001000000000000000000000000000000000000000000000000000000",
                                    "8": "2",
                                    "9": "NULL",
                                    "10": "32767",
                                    "11": "-393",
                                    "12": "0",
                                    "13": "0",
                                    "14": "CREATE VIEW sys.parameters AS\r\n\tSELECT object_id, p.name,\r\n\t\tparameter_id, system_type_id,\r\n\t\tuser_type_id, max_length,\r\n\t\tprecision, scale,\r\n\t\tis_output, is_cursor_ref,\r\n\t\thas_default_value, is_xml_document,\r\n\t\tdefault_value, xml_collection_id,\r\n\t\tis_readonly, is_nullable,\r\n\t\tconvert(int, (convert(bigint, sov.value) / 0x100) % 0x100) as encryption_type,\r\n\t\tconvert(nvarchar(64), v1.name) as encryption_type_desc,\r\n\t\tconvert(sysname, v2.name) as encryption_algorithm_name,\r\n\t\tsor.indepid as column_encryption_key_id,\r\n\t\tconvert(sysname, sov2.value) collate catalog_default as column_encryption_key_database_name\r\n\tFROM sys.parameters$ p\r\n\tLEFT JOIN sys.sysobjvalues sov ON sov.valclass = 121 /*SVC_PARAM_ENCRYPTION_MD*/ and sov.objid = p.object_id and sov.subobjid = p.parameter_id and sov.valnum = 0 -- TYPE_AND_ALGORITHM\r\n\tLEFT JOIN sys.sysobjvalues sov2 ON sov2.valclass = 121 /*SVC_PARAM_ENCRYPTION_MD*/ and sov2.objid = p.object_id and sov2.subobjid = p.parameter_id and sov2.valnum = 2 -- CEK_DATABASE_NAME\r\n\tLEFT JOIN sys.syssingleobjrefs sor ON sor.class = 114 /*SRC_PARAM_TO_COL_ENCRYPTION_KEY*/ and sov.objid = sor.depid and sov.subobjid = sor.depsubid\r\n\tLEFT JOIN sys.syspalvalues v1 ON v1.class = 'CET' AND v1.value = convert(int, (convert(bigint, sov.value) / 0x100) % 0x100)\r\n\tLEFT JOIN sys.syspalvalues v2 ON v2.class = 'CEA' AND v2.value = convert(int, convert(bigint, sov.value) % 0x100)\r\n\tWHERE number = 1\r\n"
                                },
                                {
                                    "0": "4000",
                                    "1": "1",
                                    "2": "4",
                                    "3": "114688",
                                    "4": "0x000001BB594B4060",
                                    "5": "Parse Tree",
                                    "6": "View",
                                    "7": "0x0500FF7FB89B45E050414B59BB01000001000000000000000000000000000000000000000000000000000000",
                                    "8": "2",
                                    "9": "NULL",
                                    "10": "32767",
                                    "11": "-532309064",
                                    "12": "0",
                                    "13": "0",
                                    "14": "CREATE VIEW sys.parameters$ AS\r\n\tSELECT c.id AS object_id,\r\n\t\tc.number, c.name,\r\n\t\tc.colid AS parameter_id,\r\n\t\tc.xtype AS system_type_id,\r\n\t\tc.utype AS user_type_id,\r\n\t\tc.length AS max_length,\r\n\t\tc.prec AS precision,\r\n\t\tc.scale AS scale,\r\n\t\tsysconv(bit, c.status & 512) AS is_output,\t\t-- CPM_OUTPUT\r\n\t\tsysconv(bit, c.status & 1024) AS is_cursor_ref,\t-- CPM_CURSORREF\r\n\t\tsysconv(bit, isnull(v.objid, 0)) AS has_default_value,\r\n\t\tsysconv(bit, c.status & 2048) AS is_xml_document, -- CPM_XML_DOC\t\t\r\n\t\tv.value AS default_value,\r\n\t\txmlns AS xml_collection_id,\r\n\t\tsysconv(bit, c.status & 4194304) AS is_readonly, -- CPM_IS_READONLY = 0x00400000\r\n\t\tsysconv(bit, 1 - (c.status & 1)) AS is_nullable -- CPM_NOTNULL  = 0x00000001\r\n\tFROM sys.syscolpars c\r\n\tLEFT JOIN sys.sysobjvalues v ON v.valclass = 9 AND v.objid = c.id AND v.subobjid = c.colid AND v.valnum = 0\t-- SVC_PARAMDEFAULT\r\n\tWHERE number > 0 AND has_access('CO', c.id) = 1\r\n"
                                },
                                {
                                    "0": "2570",
                                    "1": "1",
                                    "2": "2",
                                    "3": "196608",
                                    "4": "0x000001BB50F0E060",
                                    "5": "Parse Tree",
                                    "6": "View",
                                    "7": "0x0500FF7F56FEFFFF50E1F050BB01000001000000000000000000000000000000000000000000000000000000",
                                    "8": "2",
                                    "9": "NULL",
                                    "10": "32767",
                                    "11": "-426",
                                    "12": "0",
                                    "13": "0",
                                    "14": "CREATE VIEW sys.database_principals AS\r\n\tSELECT u.name,\r\n\t\tu.id AS principal_id,\r\n\t\tu.type,\r\n\t\tn.name AS type_desc,\r\n\t\tu.dfltsch AS default_schema_name,\r\n\t\tu.created AS create_date,\r\n\t\tu.modified AS modify_date,\r\n\t\tr.indepid AS owning_principal_id,\r\n\t\tu.sid,\r\n\t\tsysconv(bit, case when u.id >= 16384 and u.id < 16400 then 1 else 0 end) AS is_fixed_role,\r\n\t\tu.authentication_type,\r\n\t\taty.name AS authentication_type_desc,\r\n\t\tu.deflanguage as default_language_name,\r\n\t\tl.lcid as default_language_lcid,\r\n\t\tsysconv(bit, IIF(u.status & 0x20 = 0x20, 1, 0)) as allow_encrypted_value_modifications\r\n\tFROM (\r\n\t\tSELECT *,\r\n\t\t\tCASE \r\n\t\t\t\t-- Guest is always authentication type none\r\n\t\t\t\tWHEN type = 'S' AND id = 2 THEN 0\r\n\t\t\t\t-- Users without password and without SQL SID prefix are instance auth\r\n\t\t\t\tWHEN type = 'S' AND password IS NULL AND cast(sid as binary(9)) <> 0x010500000000000903 THEN 1\r\n\t\t\t\t-- Users with passwords are database auth\r\n\t\t\t\tWHEN type = 'S' AND password IS NOT NULL THEN 2\r\n\t\t\t\t-- Windows users are always windows auth\r\n\t\t\t\tWHEN type = 'U' OR type = 'G' THEN 3\r\n\t\t\t\t-- External Users or External Groups\r\n\t\t\t\tWHEN type = 'E' OR type = 'X' THEN 4\r\n\t\t\t\t-- Users without passwords, certificate, key users, etc. have no authentication type\r\n\t\t\t\tELSE 0\r\n\t\t\tEND AS authentication_type\r\n\t\tFROM sys.sysowners) u\r\n\tLEFT JOIN sys.syssingleobjrefs r ON r.depid = u.id AND r.class = 51 AND r.depsubid = 0\t-- SRC_ROLEOWNER\r\n\tLEFT JOIN sys.syspalnames n ON n.class = 'USTY' AND n.value = u.type\r\n\tLEFT JOIN sys.syspalnames aty ON aty.class = 'DBAT' AND aty.value = u.authentication_type\r\n\tLEFT JOIN sys.syslanguages l ON u.deflanguage COLLATE catalog_default = l.name COLLATE catalog_default\r\n\tWHERE u.type <> 'L'\r\n\t\tAND has_access('US', u.id) = 1\t-- PR_ALIAS\r\n"
                                },
                                {
                                    "0": "2614",
                                    "1": "1",
                                    "2": "2",
                                    "3": "114688",
                                    "4": "0x000001BB31014060",
                                    "5": "Parse Tree",
                                    "6": "View",
                                    "7": "0x0500FF7F3EFFFFFF50410131BB01000001000000000000000000000000000000000000000000000000000000",
                                    "8": "2",
                                    "9": "NULL",
                                    "10": "32767",
                                    "11": "-194",
                                    "12": "0",
                                    "13": "0",
                                    "14": "CREATE VIEW sys.syslanguages AS\r\n\tSELECT langid, dateformat, datefirst,\r\n\t\tconvert(int, 0) AS upgrade,\r\n\t\tname, alias,\r\n\t\tconvert(nvarchar(372), month1+N',' COLLATE catalog_default +month2+N','+month3+N','+month4+N','+month5+N','+month6\r\n\t\t\t+N','+month7+N','+month8+N','+month9+N','+month10+N','+month11+N','+month12) AS months,\r\n\t\tconvert(nvarchar(132), shortmonth1+N',' COLLATE catalog_default +shortmonth2+N','+shortmonth3+N','+shortmonth4+N','+shortmonth5+N','+shortmonth6\r\n\t\t\t+N','+shortmonth7+N','+shortmonth8+N','+shortmonth9+N','+shortmonth10+N','+shortmonth11+N','+shortmonth12) AS shortmonths,\r\n\t\tconvert(nvarchar(217), day2+N',' COLLATE catalog_default +day3+N','+day4+N','+day5+N','+day6+N','+day7+N','+day1) AS days,\r\n\t\tlcid, msglangid\r\n\tFROM OpenRowset(TABLE SYSLANG)\r\n"
                                },
                                {
                                    "0": "2765",
                                    "1": "1",
                                    "2": "6",
                                    "3": "81920",
                                    "4": "0x000001BBAD5F2060",
                                    "5": "Parse Tree",
                                    "6": "View",
                                    "7": "0x0500FF7F17FEFFFF50215FADBB01000001000000000000000000000000000000000000000000000000000000",
                                    "8": "2",
                                    "9": "NULL",
                                    "10": "32767",
                                    "11": "-489",
                                    "12": "0",
                                    "13": "0",
                                    "14": "CREATE VIEW sys.system_sql_modules AS\r\n\tSELECT o.object_id,\r\n\t\tdefinition = object_definition(o.object_id),\r\n\t\tuses_ansi_nulls = sysconv(bit, 1),\r\n\t\tuses_quoted_identifier = sysconv(bit, 1),\r\n\t\tis_schema_bound = sysconv(bit, 0),\r\n\t\tuses_database_collation = sysconv(bit, 0),\r\n\t\tis_recompiled = sysconv(bit, 0),\r\n\t\tnull_on_null_input = sysconv(bit, 0),\r\n\t\texecute_as_principal_id = convert(int, NULL),\r\n\t\tuses_native_compilation = sysconv(bit, 0)\r\n\tFROM sys.system_objects o\r\n\tWHERE o.type IN ('P','V','FN','IF','TF','RF','IS')\r\n"
                                },
                                {
                                    "0": "2646",
                                    "1": "1",
                                    "2": "4",
                                    "3": "73728",
                                    "4": "0x000001BBAD5AC060",
                                    "5": "Parse Tree",
                                    "6": "View",
                                    "7": "0x0500FF7F7BFEFFFF50C15AADBB01000001000000000000000000000000000000000000000000000000000000",
                                    "8": "2",
                                    "9": "NULL",
                                    "10": "32767",
                                    "11": "-389",
                                    "12": "0",
                                    "13": "0",
                                    "14": "CREATE VIEW sys.system_objects AS\r\n\tSELECT o.name,\r\n\t\to.id AS object_id,\r\n\t\tconvert(int, null) AS principal_id,\r\n\t\to.nsid AS schema_id,\r\n\t\tconvert(int, 0) AS parent_object_id,\r\n\t\to.type,\r\n\t\tn.name AS type_desc,\r\n\t\to.created AS create_date,\r\n\t\to.modified AS modify_date,\r\n\t\tconvert(bit, 1) AS is_ms_shipped,\r\n\t\tconvert(bit, 0) AS is_published,\r\n\t\tconvert(bit, 0) AS is_schema_published\r\n\tFROM sys.sysschobjs o\r\n\tLEFT JOIN sys.syspalnames n ON n.class = 'OBTY' AND n.value = o.type\r\n\tWHERE has_access('SO', o.id) = 1\r\n"
                                },
                                {
                                    "0": "2158",
                                    "1": "1",
                                    "2": "4",
                                    "3": "163840",
                                    "4": "0x000001BB9F1CC060",
                                    "5": "Parse Tree",
                                    "6": "View",
                                    "7": "0x0500FF7F60FEFFFF50C11C9FBB01000001000000000000000000000000000000000000000000000000000000",
                                    "8": "2",
                                    "9": "NULL",
                                    "10": "32767",
                                    "11": "-416",
                                    "12": "0",
                                    "13": "0",
                                    "14": "CREATE VIEW sys.sql_modules AS\r\n\tSELECT object_id = o.id,\r\n\t\tdefinition = object_definition(o.id),\r\n\t\tuses_ansi_nulls = sysconv(bit, o.status & 0x40000), \t\t\t-- OBJMOD_ANSINULLS\r\n\t\tuses_quoted_identifier = sysconv(bit, o.status & 0x80000), \t\t-- OBJMOD_QUOTEDIDENT\r\n\t\tis_schema_bound = sysconv(bit, o.status & 0x20000), \t\t\t-- OBJMOD_SCHEMABOUND\r\n\t\tuses_database_collation = sysconv(bit, o.status & 0x100000), \t-- OBJMOD_USESDBCOLL\r\n\t\tis_recompiled = sysconv(bit, o.status & 0x400000), \t\t\t\t-- OBJMOD_NOCACHE\r\n\t\tnull_on_null_input = sysconv(bit, o.status & 0x200000), \t\t-- OBJMOD_NULLONNULL\r\n\t\texecute_as_principal_id = x.indepid,\r\n\t\tuses_native_compilation = sysconv(bit, CASE WHEN (o.type = 'P') THEN o.status & 0x00000200\t-- OBJPRC_HEKATON\r\n\t\t\t\t\t\t\t\t\t\t\t\tWHEN (o.type = 'FN') THEN o.status & 0x00000200\t\t-- OBJPRC_HEKATON\r\n\t\t\t\t\t\t\t\t\t\t\t\tWHEN (o.type = 'TR') THEN o.status & 0x00001000\t\t-- OBJTRG_HEKATON\r\n\t\t\t\t\t\t\t\t\t\t\t\tWHEN (o.type = 'IF') THEN o.status & 0x00000200\t\t-- OBJPRC_HEKATON\r\n\t\t\t\t\t\t\t\t\t\t\t\tELSE 0\r\n\t\t\t\t\t\t\t\t\t\t\t\tEND)\r\n\tFROM sys.sysschobjs o\r\n\tLEFT JOIN sys.syssingleobjrefs x ON x.depid = o.id AND x.class = 22 AND x.depsubid = 0 -- SRC_OBJEXECASOWNER\r\n\tWHERE o.pclass <> 100 -- x_eunc_Server\r\n\t\tAND ((o.type = 'TR' AND has_access('TR', o.id, o.pid, o.nsclass) = 1)\r\n\t\t\tOR (type IN ('P','V','FN','IF','TF','RF','IS') AND has_access('CO', o.id) = 1)\r\n\t\t\tOR (type IN ('R','D') AND o.pid = 0))\r\n"
                                },
                                {
                                    "0": "1183",
                                    "1": "1",
                                    "2": "10",
                                    "3": "106496",
                                    "4": "0x000001BB91C90060",
                                    "5": "Parse Tree",
                                    "6": "View",
                                    "7": "0x0500FF7F9BFFFFFF5001C991BB01000001000000000000000000000000000000000000000000000000000000",
                                    "8": "2",
                                    "9": "NULL",
                                    "10": "32767",
                                    "11": "-101",
                                    "12": "0",
                                    "13": "0",
                                    "14": "CREATE VIEW sys.all_objects AS\r\n\tSELECT \r\n\t\to.name, o.id AS object_id, r.indepid AS principal_id,\r\n\t\to.nsid AS schema_id, o.pid AS parent_object_id,\r\n\t\tconvert(char(2), case o.type when 'ET' then 'U' else o.type end) AS type,\r\n\t\tn.name AS type_desc,\r\n\t\to.created AS create_date, o.modified AS modify_date,\r\n\t\tconvert(bit, o.status & 1) AS is_ms_shipped,        -- OBJALL_MSSHIPPED\r\n\t\tconvert(bit, o.status & 16) AS is_published,        -- OBJALL_RPL_PUBLISHED\r\n\t\tconvert(bit, o.status & 64) AS is_schema_published\t-- OBJALL_RPL_PUB_SCHONLY\r\n\tFROM sys.sysschobjs o\r\n\tLEFT JOIN sys.syssingleobjrefs r ON r.depid = o.id AND r.class = 97 AND r.depsubid = 0\t-- SRC_OBJOWNER\r\n\tLEFT JOIN sys.syspalnames n ON n.class = 'OBTY' AND n.value = o.type\r\n\tWHERE o.nsclass not in (20,21)        -- excluding DDL trigger\r\n\t\tAND HAS_ACCESS('AO', o.id) = 1\r\n"
                                },
                                {
                                    "0": "196",
                                    "1": "1",
                                    "2": "4",
                                    "3": "1277952",
                                    "4": "0x000001BB4D6DA060",
                                    "5": "Parse Tree",
                                    "6": "View",
                                    "7": "0x0500FF7F2BFFFFFF50A16D4DBB01000001000000000000000000000000000000000000000000000000000000",
                                    "8": "2",
                                    "9": "NULL",
                                    "10": "32767",
                                    "11": "-213",
                                    "12": "0",
                                    "13": "0",
                                    "14": "CREATE VIEW sys.databases AS\r\n\tSELECT d.name, \r\n\t\td.id AS database_id,\r\n\t\tr.indepid AS source_database_id,\r\n\t\td.sid AS owner_sid,\r\n\t\td.crdate AS create_date,\r\n\t\td.cmptlevel AS compatibility_level,\r\n\t\t-- coll.value = null means that a collation was not specified for the DB and the server default is used instead\r\n\t\tconvert(sysname, case when serverproperty('EngineEdition') = 5 AND d.id = 1 then serverproperty('collation')\r\n                                 else CollationPropertyFromID(convert(int, isnull(coll.value, p.cid)), 'name') end) AS collation_name,\r\n\t\tiif ((serverproperty('EngineEdition') = 5) AND (sysconv(bit, d.status & 0x10000000) = 1), cast (3 as tinyint), p.user_access) AS user_access,\r\n\t\tiif ((serverproperty('EngineEdition') = 5) AND (sysconv(bit, d.status & 0x10000000) = 1), 'NO_ACCESS', ua.name) AS user_access_desc,\r\n\t\tsysconv(bit, d.status & 0x400) AS is_read_only,\t\t\t-- DBR_RDONLY\r\n\t\tsysconv(bit, d.status & 1) AS is_auto_close_on,\t\t\t-- DBR_CLOSE_ON_EXIT\r\n\t\tsysconv(bit, d.status & 0x400000) AS is_auto_shrink_on,\t\t-- DBR_AUTOSHRINK\r\n\t\tcase when (serverproperty('EngineEdition') = 5) AND (sysconv(bit, d.status & 0x00000020) = 1) then cast (1 as tinyint) -- RESTORING\r\n\t\t\t when (serverproperty('EngineEdition') = 5) AND (sysconv(bit, d.status & 0x00000080) = 1) then cast (7 as tinyint) -- COPYING\r\n\t\t\t when (serverproperty('EngineEdition') = 5) AND (sysconv(bit, d.status & 0x00000100) = 1) then cast (4 as tinyint) -- SUSPECT\r\n\t\t\t when (serverproperty('EngineEdition') = 5) AND (sysconv(bit, d.status & 0x08000000) = 1) then cast (8 as tinyint) -- QUORUM_RECOVERY_PENDING\r\n  \t\t\t when (serverproperty('EngineEdition') = 5) AND (sysconv(bit, d.status & 0x04000000) = 1) then cast (9 as tinyint) -- CREATING\r\n\t\t\t else p.state \r\n\t\t\t end AS state, -- 7 is COPYING and 4 is SUSPECT state for database copy (UNDO: Need to have a clean way to set states in dbtable for a user db)\r\n\t\tcase when (serverproperty('EngineEdition') = 5) AND (sysconv(bit, d.status & 0x00000020) = 1) then 'RESTORING' \r\n\t\t\t when (serverproperty('EngineEdition') = 5) AND (sysconv(bit, d.status & 0x00000080) = 1) then 'COPYING' \r\n\t\t\t when (serverproperty('EngineEdition') = 5) AND (sysconv(bit, d.status & 0x00000100) = 1) then 'SUSPECT'\r\n\t\t\t when (serverproperty('EngineEdition') = 5) AND (sysconv(bit, d.status & 0x08000000) = 1) then CONVERT(nvarchar(60), N'QUORUM_RECOVERY_PENDING')\r\n  \t\t\t when (serverproperty('EngineEdition') = 5) AND (sysconv(bit, d.status & 0x04000000) = 1) then 'CREATING'\r\n\t\t\t else st.name \r\n\t\t\t end AS state_desc,\r\n\t\tsysconv(bit, d.status & 0x200000) AS is_in_standby,\t\t-- DBR_STANDBY\r\n\t\tcase when serverproperty('EngineEdition') = 5 then convert(bit, 0) else p.is_cleanly_shutdown end AS is_cleanly_shutdown,\r\n\t\tsysconv(bit, d.status & 0x80000000) AS is_supplemental_logging_enabled,\t-- DBR_SUPPLEMENT_LOG\r\n        case when (serverproperty('EngineEdition') = 5) then sysconv(tinyint, sysconv(bit,(d.status & 0x00100000)))\r\n             else p.snapshot_isolation_state end AS snapshot_isolation_state,\r\n        case when (serverproperty('EngineEdition') = 5) and (sysconv(bit, d.status & 0x00100000) = 1) then 'ON'\r\n             when (serverproperty('EngineEdition') = 5) and (sysconv(bit, d.status & 0x00100000) = 0) then 'OFF'\r\n             else si.name end AS snapshot_isolation_state_desc,\t\t\r\n\t\tsysconv(bit, d.status & 0x800000) AS is_read_committed_snapshot_on,\t\t-- DBR_READCOMMITTED_SNAPSHOT\r\n        case when (serverproperty('EngineEdition') = 5) \r\n\t         then case \r\n\t         \t\twhen sysconv(bit,(d.status & 0x00000008)) = 1\r\n\t        \t \t\tthen cast(3 as tinyint)\r\n\t        \t  \twhen sysconv(bit,(d.status & 0x00000004)) = 1\r\n\t        \t \t\tthen cast(2 as tinyint)\r\n\t        \t \telse\r\n\t        \t \t\tcast(1 as tinyint)\r\n\t          \t   end\t\r\n              else p.recovery_model \r\n        end AS recovery_model,\r\n\t\tcase when (serverproperty('EngineEdition') = 5) \r\n\t         then case \r\n\t         \t\twhen sysconv(bit,(d.status & 0x00000008)) = 1\r\n\t        \t \t\tthen CONVERT(nvarchar(60), N'SIMPLE')\r\n\t        \t \twhen sysconv(bit,(d.status & 0x00000004)) = 1\r\n\t        \t \t\tthen CONVERT(nvarchar(60), N'BULK_LOGGED')\r\n\t        \t \telse\r\n\t        \t \t\tCONVERT(nvarchar(60), N'FULL')\r\n\t        \t  end\t\r\n\t\t\t  else ro.name \r\n\t    end AS recovery_model_desc,              \r\n\t\tp.page_verify_option, pv.name AS page_verify_option_desc,\r\n\t\tsysconv(bit, d.status2 & 0x1000000) AS is_auto_create_stats_on,\t\t\t-- DBR_AUTOCRTSTATS\r\n\t\tsysconv(bit, d.status2 & 0x00400000) AS is_auto_create_stats_incremental_on,\t-- DBR_AUTOCRTSTATSINC\r\n\t\tsysconv(bit, d.status2 & 0x40000000) AS is_auto_update_stats_on,\t\t-- DBR_AUTOUPDSTATS\r\n\t\tsysconv(bit, d.status2 & 0x80000000) AS is_auto_update_stats_async_on,\t-- DBR_AUTOUPDSTATSASYNC\r\n\t\tsysconv(bit, d.status2 & 0x4000) AS is_ansi_null_default_on,\t\t\t-- DBR_ANSINULLDFLT\r\n\t\tsysconv(bit, d.status2 & 0x4000000) AS is_ansi_nulls_on,\t\t\t\t-- DBR_ANSINULLS\r\n\t\tsysconv(bit, d.status2 & 0x2000) AS is_ansi_padding_on,\t\t\t\t\t-- DBR_ANSIPADDING\r\n\t\tsysconv(bit, d.status2 & 0x10000000) AS is_ansi_warnings_on,\t\t\t-- DBR_ANSIWARNINGS\r\n\t\tsysconv(bit, d.status2 & 0x1000) AS is_arithabort_on,\t\t\t\t\t-- DBR_ARITHABORT\r\n\t\tsysconv(bit, d.status2 & 0x10000) AS is_concat_null_yields_null_on,\t\t-- DBR_CATNULL\r\n\t\tsysconv(bit, d.status2 & 0x800) AS is_numeric_roundabort_on,\t\t\t-- DBR_NUMEABORT\r\n\t\tsysconv(bit, d.status2 & 0x800000) AS is_quoted_identifier_on,\t\t\t-- DBR_QUOTEDIDENT\r\n\t\tsysconv(bit, d.status2 & 0x20000) AS is_recursive_triggers_on,\t\t\t-- DBR_RECURTRIG\r\n\t\tsysconv(bit, d.status2 & 0x2000000) AS is_cursor_close_on_commit_on,\t-- DBR_CURSCLOSEONCOM\r\n\t\tsysconv(bit, d.status2 & 0x100000) AS is_local_cursor_default,\t\t\t-- DBR_DEFLOCALCURS\r\n\t\tsysconv(bit, d.status2 & 0x20000000) AS is_fulltext_enabled,\t\t\t-- DBR_FTENABLED\r\n\t\tsysconv(bit, d.status2 & 0x200) AS is_trustworthy_on,\t\t\t\t-- DBR_TRUSTWORTHY\r\n\t\tsysconv(bit, d.status2 & 0x400) AS is_db_chaining_on,\t\t\t\t-- DBR_DBCHAINING\r\n\t\tsysconv(bit, d.status2 & 0x08000000) AS is_parameterization_forced,\t-- DBR_UNIVERSALAUTOPARAM\r\n\t\tsysconv(bit, d.status2 & 64) AS is_master_key_encrypted_by_server,\t-- DBR_MASTKEY\r\n\t\tsysconv(bit, d.status2 & 0x00000010) AS is_query_store_on,\t\t\t-- DBR_QDSENABLED\r\n\t\tsysconv(bit, d.category & 1) AS is_published,\r\n\t\tsysconv(bit, d.category & 2) AS is_subscribed,\r\n\t\tsysconv(bit, d.category & 4) AS is_merge_published,\r\n\t\tsysconv(bit, d.category & 16) AS is_distributor,\r\n\t\tsysconv(bit, d.category & 32) AS is_sync_with_backup,\r\n\t\td.svcbrkrguid AS service_broker_guid,\r\n\t\tsysconv(bit, case when d.scope = 0 then 1 else 0 end) AS is_broker_enabled,\r\n\t\tp.log_reuse_wait, lr.name AS log_reuse_wait_desc,\r\n\t\tsysconv(bit, d.status2 & 4) AS is_date_correlation_on, \t\t-- DBR_DATECORRELATIONOPT\r\n\t\tsysconv(bit, d.category & 64) AS is_cdc_enabled,\r\n\t\tcase \r\n\t\t\twhen (d.id = db_id('tempdb')) then sysconv(bit, p.is_db_encrypted)\r\n\t\t\telse sysconv(bit, d.status2 & 0x100)\t\t\t\t\t-- DBR_ENCRYPTION\r\n\t\t\tend AS is_encrypted,\r\n\t\tconvert(bit, d.status2 & 0x8) AS is_honor_broker_priority_on,\t\t\t\t-- DBR_HONORBRKPRI\r\n\t\tsgr.guid AS replica_id,\r\n\t\tsgr2.guid AS group_database_id,\r\n\t\tssr.indepid AS resource_pool_id,\r\n\t\tdefault_language_lcid = case when ((d.status2 & 0x80000)=0x80000 AND p.containment = 1) then convert(smallint, p.default_language) else null end,\r\n\t\tdefault_language_name = case when ((d.status2 & 0x80000)=0x80000 AND p.containment = 1) then convert(sysname, sld.name) else null end,\r\n\t\tdefault_fulltext_language_lcid = case when ((d.status2 & 0x80000)=0x80000 AND p.containment = 1) then convert(int, p.default_fulltext_language) else null end,\r\n\t\tdefault_fulltext_language_name = case when ((d.status2 & 0x80000)=0x80000 AND p.containment = 1) then convert(sysname, slft.name) else null end,\r\n\t\tis_nested_triggers_on = case when ((d.status2 & 0x80000)=0x80000 AND p.containment = 1) then convert(bit, p.allow_nested_triggers) else null end,\r\n\t\tis_transform_noise_words_on = case when ((d.status2 & 0x80000)=0x80000 AND p.containment = 1) then convert(bit, p.transform_noise_words) else null end,\r\n\t\ttwo_digit_year_cutoff = case when ((d.status2 & 0x80000)=0x80000 AND p.containment = 1) then convert(smallint, p.two_digit_year_cutoff) else null end,\r\n\t\tcontainment = sysconv(tinyint, (d.status2 & 0x80000)/0x80000), -- DBR_IS_CDB\r\n\t\tcontainment_desc = convert(nvarchar(60), cdb.name),\r\n\t\tp.recovery_seconds AS target_recovery_time_in_seconds,\r\n\t\tp.delayed_durability,\r\n\t\tcase when (p.delayed_durability = 0) then CAST('DISABLED' AS nvarchar(60)) -- LCOPT_DISABLED\r\n\t\t\t when (p.delayed_durability = 1) then CAST('ALLOWED' AS nvarchar(60)) -- LCOPT_ALLOWED\r\n\t\t\t when (p.delayed_durability = 2) then CAST('FORCED' AS nvarchar(60)) -- LCOPT_FORCED\r\n\t\t\t else NULL\r\n\t\t\t end AS delayed_durability_desc,\r\n\t\tconvert(bit, d.status2 & 0x80) AS \r\n\t\tis_memory_optimized_elevate_to_snapshot_on,\t\t\t\t-- DBR_HKELEVATETOSNAPSHOT\r\n\t\tsysconv(bit, d.category & 0x100) AS is_federation_member,\r\n\t\tconvert(bit, isnull(rda.value, 0)) AS is_remote_data_archive_enabled,\r\n\t\tconvert(bit, p.is_mixed_page_allocation_on) AS is_mixed_page_allocation_on\r\n\tFROM sys.sysdbreg d OUTER APPLY OpenRowset(TABLE DBPROP, (case when serverproperty('EngineEdition') = 5 then DB_ID() else d.id end)) p\r\n\tLEFT JOIN sys.syssingleobjrefs r ON r.depid = d.id AND r.class = 96 AND r.depsubid = 0\t-- SRC_VIEWPOINTDB\r\n\tLEFT JOIN sys.syspalvalues st ON st.class = 'DBST' AND st.value = p.state\r\n\tLEFT JOIN sys.syspalvalues ua ON ua.class = 'DBUA' AND ua.value = p.user_access\r\n\tLEFT JOIN sys.syspalvalues si ON si.class = 'DBSI' AND si.value = p.snapshot_isolation_state\r\n\tLEFT JOIN sys.syspalvalues ro ON ro.class = 'DBRO' AND ro.value = p.recovery_model\r\n\tLEFT JOIN sys.syspalvalues pv ON pv.class = 'DBPV' AND pv.value = p.page_verify_option\r\n\tLEFT JOIN sys.syspalvalues lr ON lr.class = 'LRWT' AND lr.value = p.log_reuse_wait\r\n\tLEFT JOIN sys.syssingleobjrefs agdb ON agdb.depid = d.id AND agdb.class = 104 AND agdb.depsubid = 0\t-- SRC_AVAILABILITYGROUP \r\n\tLEFT JOIN master.sys.syssingleobjrefs ssr ON ssr.class = 108 AND ssr.depid = d.id -- SRC_RG_DB_TO_POOL\r\n\tLEFT JOIN master.sys.sysclsobjs  ag ON ag.id = agdb.indepid AND ag.class = 67 -- SOC_AVAILABILITY_GROUP\r\n\tLEFT JOIN master.sys.sysguidrefs sgr ON sgr.class = 8 AND sgr.id = ag.id AND sgr.subid = 1 -- GRC_AGGUID / AGGUID_REPLICA_ID\r\n\tLEFT JOIN master.sys.sysguidrefs sgr2 ON sgr2.class = 9 AND sgr2.id = ag.id AND sgr2.subid = d.id -- GRC_AGDBGUID\r\n\tLEFT JOIN sys.syspalvalues cdb ON cdb.class = 'DCDB' AND cdb.value = CASE WHEN (d.status2 & 0x80000)=0x80000 THEN 1 ELSE 0 END\r\n\tLEFT JOIN sys.syslanguages sld ON sld.lcid = p.default_language\r\n\tLEFT JOIN sys.fulltext_languages slft ON slft.lcid = p.default_fulltext_language\r\n\tLEFT JOIN sys.sysobjvalues coll ON coll.valclass = 102 AND coll.subobjid = 0 AND coll.objid = d.id\t-- SVC_DATACOLLATION\r\n\tLEFT JOIN sys.sysobjvalues rda ON rda.valclass = 116 AND rda.objid = d.id AND rda.valnum = 0 -- SVC_STRETCH & STRETCH_DB_IS_STRETCHED\r\n\tWHERE d.id < 0x7fff\r\n\t\tAND has_access('DB', (case when serverproperty('EngineEdition') = 5 then DB_ID() else d.id end)) = 1\r\n"
                                },
                                {
                                    "0": "3724",
                                    "1": "1",
                                    "2": "3",
                                    "3": "24576",
                                    "4": "0x000001BB517BE060",
                                    "5": "Parse Tree",
                                    "6": "View",
                                    "7": "0x0500FF7F31798AF150E17B51BB01000001000000000000000000000000000000000000000000000000000000",
                                    "8": "2",
                                    "9": "NULL",
                                    "10": "32767",
                                    "11": "-242583247",
                                    "12": "0",
                                    "13": "0",
                                    "14": "CREATE VIEW sys.fulltext_languages AS\r\n\tSELECT lcid, name \r\n\tFROM OpenRowSet(TABLE SYSFULLTEXTLANGUAGES)\r\n"
                                },
                                {
                                    "0": "2614",
                                    "1": "1",
                                    "2": "3",
                                    "3": "114688",
                                    "4": "0x000001BB3897A060",
                                    "5": "Parse Tree",
                                    "6": "View",
                                    "7": "0x0500FF7F3EFFFFFF50A19738BB01000001000000000000000000000000000000000000000000000000000000",
                                    "8": "2",
                                    "9": "NULL",
                                    "10": "32767",
                                    "11": "-194",
                                    "12": "0",
                                    "13": "0",
                                    "14": "CREATE VIEW sys.syslanguages AS\r\n\tSELECT langid, dateformat, datefirst,\r\n\t\tconvert(int, 0) AS upgrade,\r\n\t\tname, alias,\r\n\t\tconvert(nvarchar(372), month1+N',' COLLATE catalog_default +month2+N','+month3+N','+month4+N','+month5+N','+month6\r\n\t\t\t+N','+month7+N','+month8+N','+month9+N','+month10+N','+month11+N','+month12) AS months,\r\n\t\tconvert(nvarchar(132), shortmonth1+N',' COLLATE catalog_default +shortmonth2+N','+shortmonth3+N','+shortmonth4+N','+shortmonth5+N','+shortmonth6\r\n\t\t\t+N','+shortmonth7+N','+shortmonth8+N','+shortmonth9+N','+shortmonth10+N','+shortmonth11+N','+shortmonth12) AS shortmonths,\r\n\t\tconvert(nvarchar(217), day2+N',' COLLATE catalog_default +day3+N','+day4+N','+day5+N','+day6+N','+day7+N','+day1) AS days,\r\n\t\tlcid, msglangid\r\n\tFROM OpenRowset(TABLE SYSLANG)\r\n"
                                },
                                {
                                    "0": "3666",
                                    "1": "1",
                                    "2": "6",
                                    "3": "180224",
                                    "4": "0x000001BB34420060",
                                    "5": "Parse Tree",
                                    "6": "View",
                                    "7": "0x0500FF7F99FFFFFF50014234BB01000001000000000000000000000000000000000000000000000000000000",
                                    "8": "2",
                                    "9": "NULL",
                                    "10": "32767",
                                    "11": "-103",
                                    "12": "0",
                                    "13": "0",
                                    "14": "CREATE VIEW sys.all_columns AS\r\n SELECT * FROM sys.columns"
                                },
                                {
                                    "0": "369",
                                    "1": "1",
                                    "2": "4",
                                    "3": "98304",
                                    "4": "0x000001BB35240060",
                                    "5": "Parse Tree",
                                    "6": "View",
                                    "7": "0x0500FF7F78FEFFFF50012435BB01000001000000000000000000000000000000000000000000000000000000",
                                    "8": "2",
                                    "9": "NULL",
                                    "10": "32767",
                                    "11": "-392",
                                    "12": "0",
                                    "13": "0",
                                    "14": "CREATE VIEW sys.system_columns AS\r\n\tSELECT object_id, name collate catalog_default AS name,\r\n\t\tcolumn_id, system_type_id, user_type_id,\r\n\t\tmax_length, precision, scale,\r\n\t\tconvert(sysname, ColumnPropertyEx(object_id, name, 'collation')) AS collation_name,\r\n\t\tis_nullable, is_ansi_padded, is_rowguidcol,\r\n\t\tis_identity, is_computed, is_filestream,\r\n\t\tis_replicated, is_non_sql_subscribed,\r\n\t\tis_merge_published, is_dts_replicated,\r\n\t\tis_xml_document, xml_collection_id,\r\n\t\tdefault_object_id, rule_object_id,\r\n\t\tis_sparse, is_column_set,\r\n\t\tgenerated_always_type,\r\n\t\tgenerated_always_type_desc,\r\n\t\tencryption_type, encryption_type_desc, \r\n\t\tencryption_algorithm_name, column_encryption_key_id,\r\n\t\tcolumn_encryption_key_database_name collate catalog_default as column_encryption_key_database_name,\r\n\t\tis_hidden,\r\n\t\tis_masked\r\n\tFROM sys.system_columns$\r\n"
                                },
                                {
                                    "0": "760",
                                    "1": "1",
                                    "2": "2",
                                    "3": "155648",
                                    "4": "0x000001BB35232060",
                                    "5": "Parse Tree",
                                    "6": "View",
                                    "7": "0x0500FF7F6BFFFFFF50212335BB01000001000000000000000000000000000000000000000000000000000000",
                                    "8": "2",
                                    "9": "NULL",
                                    "10": "32767",
                                    "11": "-149",
                                    "12": "0",
                                    "13": "0",
                                    "14": "CREATE VIEW sys.system_columns$ AS\r\n\tSELECT id AS object_id, name, colid AS column_id,\r\n\t\txtype AS system_type_id, utype AS user_type_id,\r\n\t\tlength AS max_length, prec AS precision, scale,\r\n\t\tsysconv(bit, 1 - (status & 1)) AS is_nullable,\r\n\t\tsysconv(bit, status & 2) AS is_ansi_padded,\r\n\t\tsysconv(bit, 0) AS is_rowguidcol,\r\n\t\tsysconv(bit, 0) AS is_identity,\r\n\t\tsysconv(bit, 0) AS is_computed,\r\n\t\tsysconv(bit, 0) AS is_filestream,\r\n\t\tsysconv(bit, 0) AS is_replicated,\r\n\t\tsysconv(bit, 0) AS is_non_sql_subscribed,\r\n\t\tsysconv(bit, 0) AS is_merge_published,\r\n\t\tsysconv(bit, 0) AS is_dts_replicated,\r\n\t\tsysconv(bit, 0) AS is_xml_document,\r\n\t\tsysconv(int, 0) AS xml_collection_id,\r\n\t\tsysconv(int, 0) AS default_object_id,\r\n\t\tsysconv(int, 0) AS rule_object_id,\r\n\t\tsysconv(bit, 0) AS is_sparse,\r\n\t\tsysconv(bit, 0) AS is_column_set,\r\n\t\tconvert(tinyint, 0) AS generated_always_type,\r\n\t\tconvert(nvarchar(60), 'NOT_APPLICABLE') COLLATE Latin1_General_CI_AS_KS_WS AS generated_always_type_desc,\r\n\t\tconvert(int, NULL) as encryption_type,\r\n\t\tconvert(nvarchar(64), NULL) COLLATE Latin1_General_CI_AS_KS_WS as encryption_type_desc,\r\n\t\tconvert(sysname, NULL) COLLATE Latin1_General_CI_AS_KS_WS as encryption_algorithm_name,\r\n\t\tconvert(int, NULL) as column_encryption_key_id,\r\n\t\tconvert(sysname, NULL) as column_encryption_key_database_name,\r\n\t\tsysconv(bit, 0) AS is_hidden,\r\n\t\tsysconv(bit, 0) AS is_masked\r\n\tFROM sys.syscolpars\r\n\tWHERE number = 0 AND (status & 4096) = 4096\r\n\t\t  AND (serverproperty('EngineEdition') != 5 OR (status & 0x08000000) != 0)\r\n"
                                },
                                {
                                    "0": "1128",
                                    "1": "1",
                                    "2": "4",
                                    "3": "458752",
                                    "4": "0x000001BB34472060",
                                    "5": "Parse Tree",
                                    "6": "View",
                                    "7": "0x0500FF7F79FEFFFF50214734BB01000001000000000000000000000000000000000000000000000000000000",
                                    "8": "2",
                                    "9": "NULL",
                                    "10": "32767",
                                    "11": "-391",
                                    "12": "0",
                                    "13": "0",
                                    "14": "CREATE VIEW sys.columns AS\r\n\tSELECT c.id AS object_id,\r\n\t\tc.name, c.colid AS column_id,\r\n\t\tc.xtype AS system_type_id,\r\n\t\tc.utype AS user_type_id,\r\n\t\tc.length AS max_length,\r\n\t\tc.prec AS precision, c.scale,\r\n\t\tconvert(sysname, CollationPropertyFromId(c.collationid, 'name')) AS collation_name,\r\n\t\tsysconv(bit, 1 - (c.status & 1)) AS is_nullable,\t\t-- CPM_NOTNULL\r\n\t\tsysconv(bit, c.status & 2) AS is_ansi_padded,\t\t-- CPM_NOTRIM\r\n\t\tsysconv(bit, c.status & 8) AS is_rowguidcol,\t\t\t-- CPM_ROWGUIDCOL\r\n\t\tsysconv(bit, c.status & 4) AS is_identity,\t\t\t-- CPM_IDENTCOL\r\n\t\tsysconv(bit, c.status & 16) AS is_computed,\t\t\t-- CPM_COMPUTED\r\n\t\tsysconv(bit, c.status & 32) AS is_filestream,\t\t\t-- CPM_FILESTREAM\r\n\t\tsysconv(bit, c.status & 0x020000) AS is_replicated,\t\t\t-- CPM_REPLICAT\r\n\t\tsysconv(bit, c.status & 0x040000) AS is_non_sql_subscribed,\t-- CPM_NONSQSSUB\r\n\t\tsysconv(bit, c.status & 0x080000) AS is_merge_published,\t-- CPM_MERGEREPL\r\n\t\tsysconv(bit, c.status & 0x100000) AS is_dts_replicated,\t-- CPM_REPLDTS\r\n\t\tsysconv(bit, c.status & 2048) AS is_xml_document,\t\t-- CPM_XML_DOC \r\n\t\tc.xmlns AS xml_collection_id,\r\n\t\tc.dflt AS default_object_id,\r\n\t\tc.chk AS rule_object_id,\r\n\t\tsysconv(bit, c.status & 0x1000000) AS is_sparse,\t-- CPM_SPARSE\r\n\t\tsysconv(bit, c.status & 0x2000000) AS is_column_set,\t-- CPM_SPARSECOLUMNSET\r\n\t\tconvert(tinyint, case when c.status & 0x10000000 = 0x10000000 then 1 when c.status & 0x20000000 = 0x20000000 then 2 when sov3.value >= 3 AND sov3.value <= 6 then sov3.value else 0 end) as generated_always_type, -- CPM_TEMPORALSYSSTARTCOLUMN CPM_TEMPORALSYSENDCOLUMN\r\n\t\tconvert(nvarchar(60), case when c.status & 0x10000000 = 0x10000000 then 'AS_ROW_START' when c.status & 0x20000000 = 0x20000000 then 'AS_ROW_END' when sov3.value = 3 then 'AS_SUSER_SID_START' when sov3.value = 4 then 'AS_SUSER_SID_END' when sov3.value = 5 then 'AS_SUSER_SNAME_START' when sov3.value = 6 then 'AS_SUSER_SNAME_END' else 'NOT_APPLICABLE' end) collate Latin1_General_CI_AS_KS_WS as generated_always_type_desc, -- These _DESC columns should always be the fixed latin collation. Reason is that unlike other columns in system tables that can change depending on the collation setting of the database/instance, these are always fixed on all installations of SQL Server.\r\n\t\tconvert(int, (convert(bigint, sov.value) / 0x100) % 0x100) as encryption_type,\r\n\t\tconvert(nvarchar(64), v1.name) as encryption_type_desc,\r\n\t\tconvert(sysname, v2.name) as encryption_algorithm_name,\r\n\t\tsor.indepid as column_encryption_key_id,\r\n\t\tconvert(sysname, sov2.value) collate catalog_default as column_encryption_key_database_name,\r\n\t\tsysconv(bit, c.status & 0x2000) AS is_hidden,\t\t-- CPM_HIDDEN\r\n\t\tsysconv(bit, c.status & 0x40000000) AS is_masked\t\t\t-- CPM_DATAMASKED\r\n\tFROM sys.syscolpars c\r\n\tLEFT JOIN sys.sysobjvalues sov ON sov.valclass = 115 /*SVC_COL_ENCRYPTION_MD*/ and sov.objid = c.id and sov.subobjid = c.colid and sov.valnum = 0 -- TYPE_AND_ALGORITHM\r\n\tLEFT JOIN sys.sysobjvalues sov2 ON sov2.valclass = 115 /*SVC_COL_ENCRYPTION_MD*/ and sov2.objid = c.id and sov2.subobjid = c.colid and sov2.valnum = 2 -- CEK_DATABASE_NAME\r\n\tLEFT JOIN sys.sysobjvalues sov3 ON sov3.valclass = 119 /*SVC_GENERATED_ALWAYS_COLUMN_TYPE*/ and sov3.objid = c.id and sov3.subobjid = c.colid\r\n\tLEFT JOIN sys.syssingleobjrefs sor ON sor.class = 113 /*SRC_COLUMN_TO_COL_ENCRYPTION_KEY*/ and sov.objid = sor.depid and sov.subobjid = sor.depsubid\r\n\tLEFT JOIN sys.syspalvalues v1 ON v1.class = 'CET' AND v1.value = convert(int, (convert(bigint, sov.value) / 0x100) % 0x100)\r\n\tLEFT JOIN sys.syspalvalues v2 ON v2.class = 'CEA' AND v2.value = convert(int, convert(bigint, sov.value) % 0x100)\r\n\tWHERE number = 0 AND has_access('CO', c.id) = 1\r\n"
                                },
                                {
                                    "0": "2355",
                                    "1": "1",
                                    "2": "4",
                                    "3": "57344",
                                    "4": "0x000001BB72D6C060",
                                    "5": "Parse Tree",
                                    "6": "View",
                                    "7": "0x0500FF7FC7B6CCDA50C1D672BB01000001000000000000000000000000000000000000000000000000000000",
                                    "8": "1",
                                    "9": "NULL",
                                    "10": "32767",
                                    "11": "-624118073",
                                    "12": "0",
                                    "13": "0",
                                    "14": "CREATE VIEW sys.dm_db_xtp_memory_consumers\r\nAS\r\n\tSELECT\r\n\tmemory_consumer_id,\r\n\tmemory_consumer_type,\r\n\tmemory_consumer_type_desc,\r\n\tmemory_consumer_desc,\r\n\tobject_id,\r\n\txtp_object_id,\r\n\tindex_id,\r\n\tallocated_bytes,\r\n\tused_bytes,\r\n\tallocation_count,\r\n\tpartition_count,\r\n\tsizeclass_count,\r\n\tmin_sizeclass,\r\n\tmax_sizeclass,\r\n\tmemory_consumer_address\r\n\tFROM sys.dm_xtp_consumer_memory_usage\r\n\tWHERE database_id = db_id()\r\n"
                                },
                                {
                                    "0": "346",
                                    "1": "1",
                                    "2": "3",
                                    "3": "49152",
                                    "4": "0x000001BB72D60060",
                                    "5": "Parse Tree",
                                    "6": "View",
                                    "7": "0x0500FF7FDF58A6D85001D672BB01000001000000000000000000000000000000000000000000000000000000",
                                    "8": "1",
                                    "9": "NULL",
                                    "10": "32767",
                                    "11": "-660186913",
                                    "12": "0",
                                    "13": "0",
                                    "14": "CREATE VIEW sys.dm_xtp_consumer_memory_usage\r\nAS\r\n\tSELECT\r\n\t*\r\n\tFROM OpenRowset(TABLE XTP_MM_CONSUMER)\r\n"
                                },
                                {
                                    "0": "338",
                                    "1": "1",
                                    "2": "2",
                                    "3": "311296",
                                    "4": "0x000001BB51DE8060",
                                    "5": "Parse Tree",
                                    "6": "View",
                                    "7": "0x0500FF7FAFDCC9E15081DE51BB01000001000000000000000000000000000000000000000000000000000000",
                                    "8": "1",
                                    "9": "NULL",
                                    "10": "32767",
                                    "11": "-506864465",
                                    "12": "0",
                                    "13": "0",
                                    "14": "CREATE VIEW sys.objects$ AS\r\n\tSELECT\r\n\t\to.name,\r\n\t\to.id AS object_id,\r\n\t\tr.indepid AS principal_id,\r\n\t\to.nsid AS schema_id,\r\n\t\to.pid AS parent_object_id,\r\n\t\tconvert(char(2), case o.type when 'ET' then 'U' else o.type end) AS type,\r\n\t\tn.name AS type_desc,\r\n\t\to.intprop AS property,\r\n\t\to.created AS create_date,\r\n\t\to.modified AS modify_date,\r\n\t\tsysconv(bit, o.status & 1) AS is_ms_shipped,\t\t\t\t-- OBJALL_MSSHIPPED\r\n\t\tsysconv(bit, o.status & 2) AS is_auto_dropped,\t\t\t\t-- OBJALL_AUTODROP\r\n\t\tsysconv(bit, o.status & 4) AS is_system_named,\t\t\t-- OBJALL_SYSNAMED\r\n\t\tsysconv(bit, o.status & 16) AS is_published,\t\t\t\t-- OBJALL_RPL_PUBLISHED\r\n\t\tsysconv(bit, o.status & 64) AS is_schema_published,\t\t\t-- OBJALL_RPL_PUB_SCHONLY\r\n\t\tconvert(bit, o.status & 0x100) AS is_cycling,\t\t\t\t-- OBJSEQ_IS_CYCLING\r\n\t\tsysconv(bit, o.status & 256) AS lock_on_bulk_load,\t\t\t-- OBJTAB_BCPTABLOCK\r\n\t\tsysconv(bit, o.status & 256) AS is_disabled,\t\t\t\t-- OBJCST_DISABLED\r\n\t\tsysconv(bit, o.status & 256) AS is_auto_executed,\t\t\t-- OBJPRC_STARTUP\r\n\t\tsysconv(bit, o.status & 256) AS is_activation_enabled,\t\t-- OBJSQ_ACTIVATIONON\r\n\t\tsysconv(bit, o.status & 256) AS is_enabled,\t\t\t\t\t-- OBJSECPOL_ENABLED\r\n\t\tsysconv(bit, o.status & 512) AS has_opaque_metadata,\t\t-- OBJVW_OPAQUEBMM\r\n\t\tsysconv(bit, o.status & 512) AS is_not_for_replication,\t\t-- OBJCST_NOTFORREPL, OBJSECPOL_NOTFORREPL\r\n\t\tsysconv(bit, o.status & 512) AS is_receive_enabled,\t\t\t-- OBJSQ_RECEIVEON\r\n\t\tconvert(bit, o.status & 0x200) AS is_cached,\t\t\t\t-- OBJSEQ_IS_CACHED\r\n\t\tsysconv(bit, o.status & 1024) AS is_not_trusted,\t\t\t-- OBJCST_NOTRUST\r\n\t\tsysconv(bit, o.status & 1024) AS is_enqueue_enabled,\t\t-- OBJSQ_ENQUEUEON\r\n\t\tsysconv(bit, o.status & 1024) AS with_check_option,\t\t-- OBJVW_WITHCHECK\r\n\t\tsysconv(bit, o.status & 2048) AS is_retention_enabled,\t\t-- OBJSQ_RETENTIONON\r\n\t\tsysconv(bit, o.status & 2048) AS has_unchecked_assembly_data,\t-- OBJTAB_HAS_UNCHKED_ASM_DATA\r\n\t\tconvert(tinyint, (o.status/4096) & 3) AS update_referential_action,\t\t-- ERefAct/OBJREF_UPDACTMASK\r\n\t\tconvert(tinyint, (o.status/16384) & 3) AS delete_referential_action,\t-- ERefAct/OBJREF_DELACTMASK\r\n\t\tsysconv(bit, o.status & 0x1000) AS is_replicated,\t\t\t-- OBJTAB_REPLICATE\r\n\t\tsysconv(bit, o.status & 0x1000) AS is_execution_replicated,\t-- OBJPRC_PROC_EXEC\r\n\t\tsysconv(bit, o.status & 0x2000) AS has_replication_filter,\t\t-- OBJTAB_HAS_FILT_PROC\r\n\t\tsysconv(bit, o.status & 0x2000) AS is_repl_serializable_only,\t-- OBJPRC_PROC_SER_ONLY\r\n\t\tsysconv(bit, o.status & 0x4000) AS is_merge_published,\t\t\t-- OBJTAB_MERGE_PUBL\r\n\t\tsysconv(bit, o.status & 0x4000) AS skips_repl_constraints,\t\t-- OBJPRC_NO_REPL_CNST\r\n\t\tsysconv(bit, o.status & 0x8000) AS is_sync_tran_subscribed,\t\t-- OBJTAB_SYNCTRAN_SUB\r\n\t\tsysconv(bit, o.status & 0x40000) AS uses_ansi_nulls,\t\t\t-- OBJMOD_ANSINULLS\r\n\t\tsysconv(bit, o.status & 0x200000) AS null_on_null_input, \t\t-- OBJMOD_NULLONNULL\r\n\t\tsysconv(bit, o.status & 0x100000) AS uses_database_collation,\t-- OBJMOD_ANSINULLS\r\n\t\tsysconv(bit, o.status & 0x01000000) AS is_tracked_by_cdc,\t\t\t-- OBJTAB_CDC_TRACKED\r\n\t\tsysconv(bit, o.status & 0x02000000) AS large_value_types_out_of_row,\t-- OBJTAB_LARGETYPE_OUTOFROW\r\n\t\tsysconv(tinyint, (o.status & 0x30000000)/0x10000000) AS lock_escalation_option,\r\n\t\tsysconv(bit, o.status & 0x04000000) AS is_poison_message_handling_enabled,\t-- OBJSQ_POISONMSGON\r\n\t\tsysconv(bit, o.status2 & 0x00000002) AS is_filetable,\t-- OBJTAB2_FILETABLE\r\n\t\tsysconv(bit, o.status2 & 0x00000020) AS is_catalog_hidden,\t-- OBJALL2_CATALOG_HIDDEN\r\n\t\tsysconv(bit, o.status2 & 0x00000008) AS is_memory_optimized,\t-- OBJTAB2_HEKATON\r\n\t\tsysconv(tinyint, (o.status2 & 0x40)/0x40) AS durability_option,\t--OBJTAB2_DURABILITY_SCHEMA_ONLY\r\n\t\tsysconv(bit, case o.type when 'ET' then 1 else 0 end) AS is_external,\r\n\t\t~(sysconv(bit, o.status & 1024)) AS is_security_policy_schema_bound\t-- OBJSECPOL_NOTSCHEMABOUND\r\n\tFROM sys.sysschobjs o\r\n\tLEFT JOIN sys.syssingleobjrefs r ON r.depid = o.id AND r.class = 97 AND r.depsubid = 0\t-- SRC_OBJOWNER\r\n\tLEFT JOIN sys.syspalnames n ON n.class = 'OBTY' AND n.value = o.type\r\n\tWHERE o.nsclass = 0 -- x_eonc_Standard\r\n\t\tAND o.pclass = 1 -- x_eunc_Object\r\n\t\tAND has_access('CO', o.id) = 1\r\n"
                                },
                                {
                                    "0": "110",
                                    "1": "1",
                                    "2": "1",
                                    "3": "8192",
                                    "4": "0x000001BB51C8C060",
                                    "5": "Extended Proc",
                                    "6": "Proc",
                                    "7": "0x0500FF7F868E46C450C1C851BB01000001000000000000000000000000000000000000000000000000000000",
                                    "8": "1",
                                    "9": "NULL",
                                    "10": "32767",
                                    "11": "-1002008954",
                                    "12": "1",
                                    "13": "0",
                                    "14": "sp_xtp_flush_temporal_history_internal"
                                }
                            ]
                        },
                        "text/html": "<table><tr><th>bucketid</th><th>refcounts</th><th>usecounts</th><th>size_in_bytes</th><th>memory_object_address</th><th>cacheobjtype</th><th>objtype</th><th>plan_handle</th><th>pool_id</th><th>parent_plan_handle</th><th>dbid</th><th>objectid</th><th>number</th><th>encrypted</th><th>text</th></tr><tr><td>10245</td><td>2</td><td>1</td><td>57344</td><td>0x000001BB9DC76060</td><td>Compiled Plan</td><td>Adhoc</td><td>0x06000B0025F7DF328002D2ACBB01000001000000000000000000000000000000000000000000000000000000</td><td>2</td><td>NULL</td><td>11</td><td>NULL</td><td>NULL</td><td>0</td><td>SELECT * FROM SYS.dm_exec_cached_plans CP\r\nCROSS APPLY SYS.dm_exec_sql_text(CP.plan_handle) CA</td></tr><tr><td>31491</td><td>2</td><td>1</td><td>368640</td><td>0x000001BB52C92060</td><td>Compiled Plan</td><td>Prepared</td><td>0x06000B0056CDA837A0D5659BBB01000001000000000000000000000000000000000000000000000000000000</td><td>2</td><td>NULL</td><td>11</td><td>NULL</td><td>NULL</td><td>0</td><td>(@_msparam_0 nvarchar(4000),@_msparam_1 nvarchar(4000),@_msparam_2 nvarchar(4000))SELECT\nclmns.column_id AS [ID],\nclmns.name AS [Name],\nISNULL(dc.Name, N'') AS [DefaultConstraintName],\nclmns.is_nullable AS [Nullable],\nCAST(ISNULL(cik.index_column_id, 0) AS bit) AS [InPrimaryKey],\nclmns.is_identity AS [Identity],\nusrt.name AS [DataType],\nISNULL(baset.name, N'') AS [SystemType],\nCAST(CASE WHEN baset.name IN (N'nchar', N'nvarchar') AND clmns.max_length &lt;&gt; -1 THEN clmns.max_length/2 ELSE clmns.max_length END AS int) AS [Length],\nCAST(clmns.precision AS int) AS [NumericPrecision],\nCAST(clmns.scale AS int) AS [NumericScale],\nISNULL(xscclmns.name, N'') AS [XmlSchemaNamespace],\nISNULL(s2clmns.name, N'') AS [XmlSchemaNamespaceSchema],\nISNULL( (case clmns.is_xml_document when 1 then 2 else 1 end), 0) AS [XmlDocumentConstraint],\ns1clmns.name AS [DataTypeSchema],\nclmns.is_computed AS [Computed]\nFROM\nsys.all_views AS v\nINNER JOIN sys.all_columns AS clmns ON clmns.object_id=v.object_id\nLEFT OUTER JOIN sys.default_constraints as dc ON clmns.default_object_id = dc.object_id\nLEFT OUTER JOIN sys.indexes AS ik ON ik.object_id = clmns.object_id and 1=ik.is_primary_key\nLEFT OUTER JOIN sys.index_columns AS cik ON cik.index_id = ik.index_id and cik.column_id = clmns.column_id and cik.object_id = clmns.object_id and 0 = cik.is_included_column\nLEFT OUTER JOIN sys.types AS usrt ON usrt.user_type_id = clmns.user_type_id\nLEFT OUTER JOIN sys.types AS baset ON (baset.user_type_id = clmns.system_type_id and baset.user_type_id = baset.system_type_id) or ((baset.system_type_id = clmns.system_type_id) and (baset.user_type_id = clmns.user_type_id) and (baset.is_user_defined = 0) and (baset.is_assembly_type = 1)) \nLEFT OUTER JOIN sys.xml_schema_collections AS xscclmns ON xscclmns.xml_collection_id = clmns.xml_collection_id\nLEFT OUTER JOIN sys.schemas AS s2clmns ON s2clmns.schema_id = xscclmns.schema_id\nLEFT OUTER JOIN sys.schemas AS s1clmns ON s1clmns.schema_id = usrt.schema_id\nWHERE\n(v.type = @_msparam_0)and(v.name=@_msparam_1 and SCHEMA_NAME(v.schema_id)=@_msparam_2)\nORDER BY\n[ID] ASC</td></tr><tr><td>36249</td><td>2</td><td>1</td><td>376832</td><td>0x000001BB52C96060</td><td>Compiled Plan</td><td>Prepared</td><td>0x06000B00D33AFA0620CE659BBB01000001000000000000000000000000000000000000000000000000000000</td><td>2</td><td>NULL</td><td>11</td><td>NULL</td><td>NULL</td><td>0</td><td>(@_msparam_0 nvarchar(4000),@_msparam_1 nvarchar(4000))SELECT\nclmns.column_id AS [ID],\nclmns.name AS [Name],\nISNULL(dc.Name, N'') AS [DefaultConstraintName],\nclmns.is_nullable AS [Nullable],\nCAST(ISNULL(cik.index_column_id, 0) AS bit) AS [InPrimaryKey],\nclmns.is_identity AS [Identity],\nusrt.name AS [DataType],\nISNULL(baset.name, N'') AS [SystemType],\nCAST(CASE WHEN baset.name IN (N'nchar', N'nvarchar') AND clmns.max_length &lt;&gt; -1 THEN clmns.max_length/2 ELSE clmns.max_length END AS int) AS [Length],\nCAST(clmns.precision AS int) AS [NumericPrecision],\nCAST(clmns.scale AS int) AS [NumericScale],\nISNULL(xscclmns.name, N'') AS [XmlSchemaNamespace],\nISNULL(s2clmns.name, N'') AS [XmlSchemaNamespaceSchema],\nISNULL( (case clmns.is_xml_document when 1 then 2 else 1 end), 0) AS [XmlDocumentConstraint],\ns1clmns.name AS [DataTypeSchema],\nclmns.is_computed AS [Computed]\nFROM\nsys.all_objects AS udf\nINNER JOIN sys.all_columns AS clmns ON clmns.object_id=udf.object_id\nLEFT OUTER JOIN sys.default_constraints as dc ON clmns.default_object_id = dc.object_id\nLEFT OUTER JOIN sys.indexes AS ik ON ik.object_id = clmns.object_id and 1=ik.is_primary_key\nLEFT OUTER JOIN sys.index_columns AS cik ON cik.index_id = ik.index_id and cik.column_id = clmns.column_id and cik.object_id = clmns.object_id and 0 = cik.is_included_column\nLEFT OUTER JOIN sys.types AS usrt ON usrt.user_type_id = clmns.user_type_id\nLEFT OUTER JOIN sys.types AS baset ON (baset.user_type_id = clmns.system_type_id and baset.user_type_id = baset.system_type_id) or ((baset.system_type_id = clmns.system_type_id) and (baset.user_type_id = clmns.user_type_id) and (baset.is_user_defined = 0) and (baset.is_assembly_type = 1)) \nLEFT OUTER JOIN sys.xml_schema_collections AS xscclmns ON xscclmns.xml_collection_id = clmns.xml_collection_id\nLEFT OUTER JOIN sys.schemas AS s2clmns ON s2clmns.schema_id = xscclmns.schema_id\nLEFT OUTER JOIN sys.schemas AS s1clmns ON s1clmns.schema_id = usrt.schema_id\nWHERE\n(udf.type in ('TF', 'FN', 'IF', 'FS', 'FT'))and(udf.name=@_msparam_0 and SCHEMA_NAME(udf.schema_id)=@_msparam_1)\nORDER BY\n[ID] ASC</td></tr><tr><td>4041</td><td>2</td><td>1</td><td>458752</td><td>0x000001BB79132060</td><td>Compiled Plan</td><td>Prepared</td><td>0x06000B00458EF736601F6C4DBB01000001000000000000000000000000000000000000000000000000000000</td><td>2</td><td>NULL</td><td>11</td><td>NULL</td><td>NULL</td><td>0</td><td>(@_msparam_0 nvarchar(4000),@_msparam_1 nvarchar(4000),@_msparam_2 nvarchar(4000))SELECT\nparam.is_readonly AS [IsReadOnly],\nparam.name AS [Name],\nparam.parameter_id AS [ID],\nparam.default_value AS [DefaultValue],\nparam.has_default_value AS [HasDefaultValue],\nusrt.name AS [DataType],\ns1param.name AS [DataTypeSchema],\nISNULL(baset.name, N'') AS [SystemType],\nCAST(CASE WHEN baset.name IN (N'nchar', N'nvarchar') AND param.max_length &lt;&gt; -1 THEN param.max_length/2 ELSE param.max_length END AS int) AS [Length],\nCAST(param.precision AS int) AS [NumericPrecision],\nCAST(param.scale AS int) AS [NumericScale],\nISNULL(xscparam.name, N'') AS [XmlSchemaNamespace],\nISNULL(s2param.name, N'') AS [XmlSchemaNamespaceSchema],\nISNULL( (case param.is_xml_document when 1 then 2 else 1 end), 0) AS [XmlDocumentConstraint],\nCASE WHEN usrt.is_table_type = 1 THEN N'structured' ELSE N'' END AS [UserType],\nudf.object_id AS [IDText],\ndb_name() AS [DatabaseName],\nparam.name AS [ParamName],\nCAST(\n case \n    when udf.is_ms_shipped = 1 then 1\n    when (\n        select \n            major_id \n        from \n            sys.extended_properties \n        where \n            major_id = udf.object_id and \n            minor_id = 0 and \n            class = 1 and \n            name = N'microsoft_database_tools_support') \n        is not null then 1\n    else 0\nend          \n             AS bit) AS [ParentSysObj],\n-1 AS [Number]\nFROM\nsys.all_objects AS udf\nINNER JOIN sys.all_parameters AS param ON (param.is_output = 0) AND (param.object_id=udf.object_id)\nLEFT OUTER JOIN sys.types AS usrt ON usrt.user_type_id = param.user_type_id\nLEFT OUTER JOIN sys.schemas AS s1param ON s1param.schema_id = usrt.schema_id\nLEFT OUTER JOIN sys.types AS baset ON (baset.user_type_id = param.system_type_id and baset.user_type_id = baset.system_type_id) or ((baset.system_type_id = param.system_type_id) and (baset.user_type_id = param.user_type_id) and (baset.is_user_defined = 0) and (baset.is_assembly_type = 1)) \nLEFT OUTER JOIN sys.xml_schema_collections AS xscparam ON xscparam.xml_collection_id = param.xml_collection_id\nLEFT OUTER JOIN sys.schemas AS s2param ON s2param.schema_id = xscparam.schema_id\nWHERE\n(param.name=@_msparam_0)and((udf.type in ('TF', 'FN', 'IF', 'FS', 'FT'))and(udf.name=@_msparam_1 and SCHEMA_NAME(udf.schema_id)=@_msparam_2))</td></tr><tr><td>21812</td><td>2</td><td>1</td><td>311296</td><td>0x000001BB9B622060</td><td>Compiled Plan</td><td>Prepared</td><td>0x06000B004EE9FD05D01E6C4DBB01000001000000000000000000000000000000000000000000000000000000</td><td>2</td><td>NULL</td><td>11</td><td>NULL</td><td>NULL</td><td>0</td><td>(@_msparam_0 nvarchar(4000),@_msparam_1 nvarchar(4000))SELECT\nparam.parameter_id AS [ID],\nparam.name AS [Name],\nusrt.name AS [DataType],\nISNULL(baset.name, N'') AS [SystemType],\nCAST(CASE WHEN baset.name IN (N'nchar', N'nvarchar') AND param.max_length &lt;&gt; -1 THEN param.max_length/2 ELSE param.max_length END AS int) AS [Length],\nCAST(param.precision AS int) AS [NumericPrecision],\nCAST(param.scale AS int) AS [NumericScale],\nISNULL(xscparam.name, N'') AS [XmlSchemaNamespace],\nISNULL(s2param.name, N'') AS [XmlSchemaNamespaceSchema],\nISNULL( (case param.is_xml_document when 1 then 2 else 1 end), 0) AS [XmlDocumentConstraint],\ns1param.name AS [DataTypeSchema]\nFROM\nsys.all_objects AS udf\nINNER JOIN sys.all_parameters AS param ON (param.is_output = 0) AND (param.object_id=udf.object_id)\nLEFT OUTER JOIN sys.types AS usrt ON usrt.user_type_id = param.user_type_id\nLEFT OUTER JOIN sys.types AS baset ON (baset.user_type_id = param.system_type_id and baset.user_type_id = baset.system_type_id) or ((baset.system_type_id = param.system_type_id) and (baset.user_type_id = param.user_type_id) and (baset.is_user_defined = 0) and (baset.is_assembly_type = 1)) \nLEFT OUTER JOIN sys.xml_schema_collections AS xscparam ON xscparam.xml_collection_id = param.xml_collection_id\nLEFT OUTER JOIN sys.schemas AS s2param ON s2param.schema_id = xscparam.schema_id\nLEFT OUTER JOIN sys.schemas AS s1param ON s1param.schema_id = usrt.schema_id\nWHERE\n(udf.type in ('TF', 'FN', 'IF', 'FS', 'FT'))and(udf.name=@_msparam_0 and SCHEMA_NAME(udf.schema_id)=@_msparam_1)\nORDER BY\n[ID] ASC</td></tr><tr><td>19166</td><td>2</td><td>1</td><td>802816</td><td>0x000001BBAD5E8060</td><td>Compiled Plan</td><td>Prepared</td><td>0x06000B00E8196F2C50176C4DBB01000001000000000000000000000000000000000000000000000000000000</td><td>2</td><td>NULL</td><td>11</td><td>NULL</td><td>NULL</td><td>0</td><td>(@_msparam_0 nvarchar(4000),@_msparam_1 nvarchar(4000),@_msparam_2 nvarchar(4000))SELECT\nudf.name AS [Name],\nudf.object_id AS [ID],\nudf.create_date AS [CreateDate],\nudf.modify_date AS [DateLastModified],\nISNULL(sudf.name, N'') AS [Owner],\nCAST(case when udf.principal_id is null then 1 else 0 end AS bit) AS [IsSchemaOwned],\nSCHEMA_NAME(udf.schema_id) AS [Schema],\nCAST(\n case \n    when udf.is_ms_shipped = 1 then 1\n    when (\n        select \n            major_id \n        from \n            sys.extended_properties \n        where \n            major_id = udf.object_id and \n            minor_id = 0 and \n            class = 1 and \n            name = N'microsoft_database_tools_support') \n        is not null then 1\n    else 0\nend          \n             AS bit) AS [IsSystemObject],\nusrt.name AS [DataType],\ns1ret_param.name AS [DataTypeSchema],\nISNULL(baset.name, N'') AS [SystemType],\nCAST(CASE WHEN baset.name IN (N'nchar', N'nvarchar') AND ret_param.max_length &lt;&gt; -1 THEN ret_param.max_length/2 ELSE ret_param.max_length END AS int) AS [Length],\nCAST(ret_param.precision AS int) AS [NumericPrecision],\nCAST(ret_param.scale AS int) AS [NumericScale],\nISNULL(xscret_param.name, N'') AS [XmlSchemaNamespace],\nISNULL(s2ret_param.name, N'') AS [XmlSchemaNamespaceSchema],\nISNULL( (case ret_param.is_xml_document when 1 then 2 else 1 end), 0) AS [XmlDocumentConstraint],\nCASE WHEN usrt.is_table_type = 1 THEN N'structured' ELSE N'' END AS [UserType],\nCAST(ISNULL(OBJECTPROPERTYEX(udf.object_id,N'ExecIsAnsiNullsOn'),0) AS bit) AS [AnsiNullsStatus],\nCAST(ISNULL(OBJECTPROPERTYEX(udf.object_id, N'IsSchemaBound'),0) AS bit) AS [IsSchemaBound],\nCAST(CASE WHEN ISNULL(smudf.definition, ssmudf.definition) IS NULL THEN 1 ELSE 0 END AS bit) AS [IsEncrypted],\ncase when amudf.object_id is null then N'' else asmbludf.name end AS [AssemblyName],\ncase when amudf.object_id is null then N'' else amudf.assembly_class end AS [ClassName],\ncase when amudf.object_id is null then N'' else amudf.assembly_method end AS [MethodName],\nCAST(case when amudf.object_id is null then CAST(smudf.null_on_null_input AS bit) else amudf.null_on_null_input end AS bit) AS [ReturnsNullOnNullInput],\ncase when amudf.object_id is null then case isnull(smudf.execute_as_principal_id, -1) when -1 then 1 when -2 then 2 else 3 end else case isnull(amudf.execute_as_principal_id, -1) when -1 then 1 when -2 then 2 else 3 end end AS [ExecutionContext],\ncase when amudf.object_id is null then ISNULL(user_name(smudf.execute_as_principal_id),N'') else user_name(amudf.execute_as_principal_id) end AS [ExecutionContextPrincipal],\nCAST(OBJECTPROPERTYEX(udf.object_id, N'IsDeterministic') AS bit) AS [IsDeterministic],\n(case when 'FN' = udf.type then 1 when 'FS' = udf.type then 1 when 'IF' = udf.type then 3 when 'TF' = udf.type then 2 when 'FT' = udf.type then 2 else 0 end) AS [FunctionType],\nCASE WHEN udf.type IN ('FN','IF','TF') THEN 1 WHEN udf.type IN ('FS','FT') THEN 2 ELSE 1 END AS [ImplementationType],\nCAST(ISNULL(OBJECTPROPERTYEX(udf.object_id,N'ExecIsQuotedIdentOn'),0) AS bit) AS [QuotedIdentifierStatus],\nret_param.name AS [TableVariableName],\nCAST(0 AS bit) AS [IsInlineable],\nISNULL(sm.uses_native_compilation,0) AS [IsNativelyCompiled],\nISNULL(smudf.definition, ssmudf.definition) AS [Definition]\nFROM\nsys.all_objects AS udf\nLEFT OUTER JOIN sys.database_principals AS sudf ON sudf.principal_id = ISNULL(udf.principal_id, (OBJECTPROPERTY(udf.object_id, 'OwnerId')))\nLEFT OUTER JOIN sys.all_parameters AS ret_param ON ret_param.object_id = udf.object_id and ret_param.is_output = @_msparam_0\nLEFT OUTER JOIN sys.types AS usrt ON usrt.user_type_id = ret_param.user_type_id\nLEFT OUTER JOIN sys.schemas AS s1ret_param ON s1ret_param.schema_id = usrt.schema_id\nLEFT OUTER JOIN sys.types AS baset ON (baset.user_type_id = ret_param.system_type_id and baset.user_type_id = baset.system_type_id) or ((baset.system_type_id = ret_param.system_type_id) and (baset.user_type_id = ret_param.user_type_id) and (baset.is_user_defined = 0) and (baset.is_assembly_type = 1)) \nLEFT OUTER JOIN sys.xml_schema_collections AS xscret_param ON xscret_param.xml_collection_id = ret_param.xml_collection_id\nLEFT OUTER JOIN sys.schemas AS s2ret_param ON s2ret_param.schema_id = xscret_param.schema_id\nLEFT OUTER JOIN sys.sql_modules AS smudf ON smudf.object_id = udf.object_id\nLEFT OUTER JOIN sys.system_sql_modules AS ssmudf ON ssmudf.object_id = udf.object_id\nLEFT OUTER JOIN sys.assembly_modules AS amudf ON amudf.object_id = udf.object_id\nLEFT OUTER JOIN sys.assemblies AS asmbludf ON asmbludf.assembly_id = amudf.assembly_id\nLEFT OUTER JOIN sys.all_sql_modules AS sm ON sm.object_id = udf.object_id\nWHERE\n(udf.type in ('TF', 'FN', 'IF', 'FS', 'FT'))and(udf.name=@_msparam_1 and SCHEMA_NAME(udf.schema_id)=@_msparam_2)</td></tr><tr><td>38747</td><td>2</td><td>1</td><td>147456</td><td>0x000001BB91CCC060</td><td>Compiled Plan</td><td>Prepared</td><td>0x06000B00B53B082CD00F6C4DBB01000001000000000000000000000000000000000000000000000000000000</td><td>2</td><td>NULL</td><td>11</td><td>NULL</td><td>NULL</td><td>0</td><td>(@_msparam_0 nvarchar(4000),@_msparam_1 nvarchar(4000))SELECT\nNULL AS [Text],\nISNULL(smudf.definition, ssmudf.definition) AS [Definition]\nFROM\nsys.all_objects AS udf\nLEFT OUTER JOIN sys.sql_modules AS smudf ON smudf.object_id = udf.object_id\nLEFT OUTER JOIN sys.system_sql_modules AS ssmudf ON ssmudf.object_id = udf.object_id\nWHERE\n(udf.type in ('TF', 'FN', 'IF', 'FS', 'FT'))and(udf.name=@_msparam_0 and SCHEMA_NAME(udf.schema_id)=@_msparam_1)</td></tr><tr><td>15098</td><td>2</td><td>1</td><td>188416</td><td>0x000001BAE8000060</td><td>Compiled Plan</td><td>Adhoc</td><td>0x06000B004765200B50086C4DBB01000001000000000000000000000000000000000000000000000000000000</td><td>2</td><td>NULL</td><td>11</td><td>NULL</td><td>NULL</td><td>0</td><td>SELECT\ndtb.name AS [Name],\ndtb.database_id AS [ID],\nCAST(has_dbaccess(dtb.name) AS bit) AS [IsAccessible]\nFROM\nmaster.sys.databases AS dtb\nORDER BY\n[Name] ASC</td></tr><tr><td>39293</td><td>2</td><td>1</td><td>401408</td><td>0x000001BB4D6A6060</td><td>Compiled Plan</td><td>Prepared</td><td>0x06000B00962E9C11603FD2ACBB01000001000000000000000000000000000000000000000000000000000000</td><td>2</td><td>NULL</td><td>11</td><td>NULL</td><td>NULL</td><td>0</td><td>(@_msparam_0 nvarchar(4000))SELECT\ndtb.collation_name AS [Collation],\ndtb.name AS [DatabaseName2]\nFROM\nmaster.sys.databases AS dtb\nWHERE\n(dtb.name=@_msparam_0)</td></tr><tr><td>28056</td><td>2</td><td>2</td><td>163840</td><td>0x000001BBA2194060</td><td>Compiled Plan</td><td>Adhoc</td><td>0x06000B00102A56340039D2ACBB01000001000000000000000000000000000000000000000000000000000000</td><td>2</td><td>NULL</td><td>11</td><td>NULL</td><td>NULL</td><td>0</td><td>SELECT SERVERPROPERTY('EngineEdition'), SERVERPROPERTY('productversion'), SERVERPROPERTY ('productlevel'), SERVERPROPERTY ('edition'), SERVERPROPERTY ('MachineName'), (SELECT CASE WHEN EXISTS (SELECT TOP 1 1 from [sys].[all_columns] WITH (NOLOCK) WHERE name = N'xml_index_type' AND OBJECT_ID(N'sys.xml_indexes') = object_id) THEN 1 ELSE 0 END AS SXI_PRESENT)</td></tr><tr><td>18734</td><td>2</td><td>2</td><td>16384</td><td>0x000001BBA219C060</td><td>Compiled Plan</td><td>Adhoc</td><td>0x06000B006C4E592D8031D2ACBB01000001000000000000000000000000000000000000000000000000000000</td><td>2</td><td>NULL</td><td>11</td><td>NULL</td><td>NULL</td><td>0</td><td>set LOCK_TIMEOUT 5000</td></tr><tr><td>22384</td><td>2</td><td>3</td><td>253952</td><td>0x000001BB4A1D6060</td><td>Compiled Plan</td><td>Adhoc</td><td>0x060005004837CD2300CAD2ACBB01000001000000000000000000000000000000000000000000000000000000</td><td>2</td><td>NULL</td><td>5</td><td>NULL</td><td>NULL</td><td>0</td><td>\r\n                                    declare @BatchID uniqueidentifier\r\n\r\n                                    set @BatchID = newid()\r\n\r\n                                    UPDATE [Notifications] WITH (TABLOCKX)\r\n                                        SET [BatchID] = @BatchID,\r\n                                        [ProcessStart] = GETUTCDATE(),\r\n                                        [ProcessHeartbeat] = GETUTCDATE()\r\n                                    FROM (\r\n                                        SELECT TOP 8  [NotificationID] FROM [Notifications] WITH (TABLOCKX) WHERE ProcessStart is NULL and\r\n\t                                    (ProcessAfter is NULL or ProcessAfter &lt; GETUTCDATE()) ORDER BY [NotificationEntered]\r\n                                    ) AS t1\r\n                                    WHERE [Notifications].[NotificationID] = t1.[NotificationID]\r\n\r\n                                    select top 8\r\n\t\t                                    -- Notification data\r\n\t\t                                    N.[NotificationID],\r\n\t\t                                    N.[SubscriptionID],\r\n\t\t                                    N.[ActivationID],\r\n\t\t                                    N.[ReportID],\r\n\t\t                                    N.[SnapShotDate],\r\n\t\t                                    N.[DeliveryExtension],\r\n\t\t                                    N.[ExtensionSettings],\r\n                                            N.[Locale],\r\n\t\t                                    N.[Parameters],\r\n\t\t                                    N.[SubscriptionLastRunTime],\r\n\t\t                                    N.[ProcessStart],\r\n\t\t                                    N.[NotificationEntered],\r\n\t\t                                    N.[Attempt],\r\n\t\t                                    N.[IsDataDriven],\r\n\t\t                                    SUSER_SNAME(Owner.[Sid]),\r\n\t\t                                    Owner.[UserName],\r\n\t\t                                    -- Report Data\r\n\t\t                                    O.[Path],\r\n\t\t                                    N.[ReportZone],\r\n\t\t                                    O.[Type],\r\n\t\t                                    SD.NtSecDescPrimary,\r\n                                            N.[Version],\r\n                                            Owner.[AuthType],\r\n                                            SR.[SubscriptionResult]\r\n\t                                    from \r\n\t\t                                    [Notifications] N with (TABLOCKX) inner join [Catalog] O on O.[ItemID] = N.[ReportID]\r\n\t\t                                    inner join [Users] Owner on N.SubscriptionOwnerID = Owner.UserID\r\n\t\t                                    left outer join [SecData] SD on O.[PolicyID] = SD.[PolicyID] AND SD.AuthType = Owner.AuthType\r\n\t\t                                    left outer join [SubscriptionResults] SR on N.[SubscriptionID] = SR.[SubscriptionID] AND CHECKSUM(convert(nvarchar(max),N.[ExtensionSettings])) = SR.[ExtensionSettingsHash]\r\n\t                                    where \r\n\t\t                                    N.[BatchID] = @BatchID\r\n                                    ORDER BY [NotificationEntered]\r\n                                    </td></tr><tr><td>37997</td><td>2</td><td>3</td><td>155648</td><td>0x000001BB4A1D0060</td><td>Compiled Plan</td><td>Adhoc</td><td>0x060005001B05DA3180C2D2ACBB01000001000000000000000000000000000000000000000000000000000000</td><td>2</td><td>NULL</td><td>5</td><td>NULL</td><td>NULL</td><td>0</td><td>\r\n                                            declare @BatchID uniqueidentifier\r\n\r\n                                            set @BatchID = NEWID()\r\n\r\n                                            UPDATE [Event] WITH (TABLOCKX)\r\n                                                SET [BatchID] = @BatchID,\r\n                                                [ProcessStart] = GETUTCDATE(),\r\n                                                [ProcessHeartbeat] = GETUTCDATE()\r\n                                            FROM (\r\n                                                SELECT TOP 8 [EventID] FROM [Event] WITH (TABLOCKX) WHERE [ProcessStart] is NULL ORDER BY [TimeEntered]\r\n                                                ) AS t1\r\n                                            WHERE [Event].[EventID] = t1.[EventID]\r\n\r\n                                            select top 8\r\n\t                                            E.[EventID],\r\n\t                                            E.[EventType],\r\n\t                                            E.[EventData]\r\n                                            from\r\n\t                                            [Event] E WITH (TABLOCKX)\r\n                                            where\r\n\t                                            [BatchID] = @BatchID\r\n                                            ORDER BY [TimeEntered]\r\n                                            </td></tr><tr><td>29389</td><td>2</td><td>1</td><td>65536</td><td>0x000001BB51CFE060</td><td>Compiled Plan</td><td>Prepared</td><td>0x0600090011BD4730002AD2ACBB01000001000000000000000000000000000000000000000000000000000000</td><td>1</td><td>NULL</td><td>9</td><td>NULL</td><td>NULL</td><td>0</td><td>(@rowcount INT OUTPUT)\nDELETE TOP (1000000) FROM [sys].[memory_optimized_history_table_1179151246] WITH (SNAPSHOT) OUTPUT DELETED.[ColdRoomTemperatureID], DELETED.[ColdRoomSensorNumber], DELETED.[RecordedWhen], DELETED.[Temperature], DELETED.[ValidFrom], DELETED.[ValidTo]  \nINTO [Warehouse].[ColdRoomTemperatures_Archive]  WHERE [ValidTo] &lt; GetHkOldestTxTemporalTs()  \nSET @rowcount = @@ROWCOUNT \n</td></tr><tr><td>11203</td><td>2</td><td>1</td><td>16384</td><td>0x000001BB51CDE060</td><td>Compiled Plan</td><td>Prepared</td><td>0x060009002900CE3A8022D2ACBB01000001000000000000000000000000000000000000000000000000000000</td><td>1</td><td>NULL</td><td>9</td><td>NULL</td><td>NULL</td><td>0</td><td>(@schemaName sysname, @tableName sysname, @full_flush int, @rowcount int OUTPUT)EXEC sys.sp_xtp_flush_temporal_history_internal @schemaName, @tableName, @full_flush, @rowcount OUTPUT</td></tr><tr><td>6989</td><td>2</td><td>1</td><td>122880</td><td>0x000001BB343F6060</td><td>Compiled Plan</td><td>Prepared</td><td>0x06000900BB576F1F8042D2ACBB01000001000000000000000000000000000000000000000000000000000000</td><td>1</td><td>NULL</td><td>9</td><td>NULL</td><td>NULL</td><td>0</td><td>(@used_memory_count_ratio float)\n select p.object_id as object_id  from ((select o.object_id as object_id, ct.depid as depid, sum(m.used_bytes) as used_memory_current from sys.objects$ o with(nolock) inner join sys.syssingleobjrefs ct with(nolock)on o.object_id = ct.indepid inner join sys.dm_db_xtp_memory_consumers m with(nolock) on o.object_id = m.object_id where ct.class = 118 group by o.object_id, ct.depid) p left join (select object_id, sum(used_bytes) as used_memory_history from sys.dm_db_xtp_memory_consumers with(nolock) group by object_id) q on p.depid = q.object_id) where cast(used_memory_history as float) / used_memory_current &gt; @used_memory_count_ratio</td></tr><tr><td>526</td><td>1</td><td>2</td><td>32768</td><td>0x000001BB9DC16060</td><td>Parse Tree</td><td>View</td><td>0x0500FF7F98BE56F15061C19DBB01000001000000000000000000000000000000000000000000000000000000</td><td>2</td><td>NULL</td><td>32767</td><td>-245973352</td><td>0</td><td>0</td><td>CREATE FUNCTION sys.dm_exec_sql_text(@handle varbinary(64))\r\nRETURNS TABLE\r\nAS\r\n\tRETURN SELECT * FROM OPENROWSET(TABLE FNGETSQL, @handle)\r\n</td></tr><tr><td>1977</td><td>1</td><td>2</td><td>65536</td><td>0x000001BB9DC52060</td><td>Parse Tree</td><td>View</td><td>0x0500FF7FEC5CE6D85021C59DBB01000001000000000000000000000000000000000000000000000000000000</td><td>2</td><td>NULL</td><td>32767</td><td>-655991572</td><td>0</td><td>0</td><td>\r\ncreate view sys.dm_exec_cached_plans as \r\n\tSELECT\r\n\t\tbucketid,\r\n\t\trefcounts,\r\n\t\tusecounts,\r\n\t\tsize_in_bytes,\r\n\t\tmemory_object_address,\r\n\t\tcacheobjtype,\r\n\t\tobjtype,\r\n\t\tplan_handle,\r\n\t\tpool_id,\r\n\t\tparent_plan_handle\r\n\tFROM OpenRowset(TABLE SYSDMEXECCACHEDPLANS)\r\n\tUNION ALL\r\n\tSELECT \r\n\t\tbucketid,\r\n\t\trefcounts,\r\n\t\tusecounts,\r\n\t\tsize_in_bytes,\r\n\t\tmemory_object_address,\r\n\t\tcacheobjtype,\r\n\t\tobjtype,\r\n\t\tplan_handle,\r\n\t\tpool_id,\r\n\t\tNULL\r\n\tFROM OpenRowset(TABLE XTP_CACHED_PLANS)\r\n\r\n</td></tr><tr><td>424</td><td>1</td><td>2</td><td>131072</td><td>0x000001BB52CA2060</td><td>Parse Tree</td><td>View</td><td>0x0500FF7F9AFFFFFF5021CA52BB01000001000000000000000000000000000000000000000000000000000000</td><td>2</td><td>NULL</td><td>32767</td><td>-102</td><td>0</td><td>0</td><td>CREATE VIEW sys.all_views AS\r\n\tSELECT o.name, o.id AS object_id,\r\n\t\tr.indepid AS principal_id, o.nsid AS schema_id,\r\n\t\to.pid AS parent_object_id,\r\n\t\to.type, n.name AS type_desc,\r\n\t\to.created AS create_date, o.modified AS modify_date,\r\n\t\tconvert(bit, o.status &amp; 1) AS is_ms_shipped,\r\n\t\tconvert(bit, o.status &amp; 16) AS is_published,\r\n\t\tconvert(bit, o.status &amp; 64) AS is_schema_published,\r\n\t\tconvert(bit, o.status &amp; 0x1000) AS is_replicated,\r\n\t\tconvert(bit, o.status &amp; 0x2000) AS has_replication_filter,\r\n\t\tconvert(bit, o.status &amp; 512) AS has_opaque_metadata,\r\n\t\tconvert(bit, o.status &amp; 2048) AS has_unchecked_assembly_data,\r\n\t\tconvert(bit, o.status &amp; 1024) AS with_check_option,\r\n\t\tconvert(bit, o.status &amp; 2) AS is_date_correlation_view,\r\n\t\tconvert(bit, o.status &amp; 0x01000000) AS is_tracked_by_cdc\r\n\tFROM sys.sysschobjs o\t\t\r\n\tLEFT JOIN sys.syssingleobjrefs r ON r.depid = o.id AND r.class = 97 AND r.depsubid = 0\t-- SRC_OBJOWNER\r\n\tLEFT JOIN sys.syspalnames n ON n.class = 'OBTY' AND n.value = o.type\r\n\tWHERE o.nsclass = 0 -- x_eonc_Standard\r\n\t\tAND o.pclass = 1 AND type = 'V' -- x_eunc_Object\r\n\t\tAND has_access('AO', o.id) = 1\r\n</td></tr><tr><td>1540</td><td>1</td><td>4</td><td>90112</td><td>0x000001BB9CC3A060</td><td>Parse Tree</td><td>View</td><td>0x0500FF7F6FFEFFFF50A1C39CBB01000001000000000000000000000000000000000000000000000000000000</td><td>2</td><td>NULL</td><td>32767</td><td>-401</td><td>0</td><td>0</td><td>CREATE VIEW sys.index_columns AS\r\n\tSELECT isc.idmajor AS object_id,\r\n\t\tisc.idminor AS index_id,\r\n\t\tisc.subid AS index_column_id,\r\n\t\tisc.intprop AS column_id,\r\n\t  \tisc.tinyprop1 AS key_ordinal,\r\n\t  \tisc.tinyprop2 AS partition_ordinal,\r\n\t  \tconvert (bit, isc.status &amp; 0x4) AS is_descending_key,\t-- ISC_IC_DESC_KEY\r\n\t\tconvert (bit, isc.status &amp; 0x10) AS is_included_column\t-- ISC_IC_INCLUDED\r\n\tFROM sys.sysiscols isc\r\n\tINNER JOIN sys.sysschobjs obj ON obj.id = isc.idmajor\r\n\tWHERE (isc.status &amp; 2) &lt;&gt; 0\r\n\t\tAND has_access('CO', isc.idmajor) = 1\t-- ISC_IND_COL\r\n\t\tAND (isc.status &amp; 0x10 = 0 OR obj.status2 &amp; 0x00000008 = 0 OR isc.idminor = 1)\t-- ISC_IC_INCLUDED, OBJTAB2_HEKATON, ISC_IC_IDMINOR\r\n</td></tr><tr><td>575</td><td>1</td><td>4</td><td>229376</td><td>0x000001BB97D4C060</td><td>Parse Tree</td><td>View</td><td>0x0500FF7F73FEFFFF50C1D497BB01000001000000000000000000000000000000000000000000000000000000</td><td>2</td><td>NULL</td><td>32767</td><td>-397</td><td>0</td><td>0</td><td>CREATE VIEW sys.indexes AS\r\n\tSELECT i.id AS object_id,\r\n\t\ti.name AS name,\r\n\t\ti.indid AS index_id,\r\n\t\ti.type,\r\n\t\tn.name AS type_desc,\r\n\t\tsysconv(bit, i.status &amp; 0x8) AS is_unique,\t\t\t-- IS_IND_UNIQUE\r\n\t\tcase when obj.status2 &amp; 0x00000008 != 0 \t\t\t-- OBJTAB2_HEKATON\r\n \t\t  then 0 \r\n \t\t  else isnull(ds.indepid, 1 - (i.status &amp; 0x100)/0x100) \r\n\t\tend AS data_space_id,\t-- IS_IND_ITWINDEX\r\n\t\tsysconv(bit, i.status &amp; 0x4) AS ignore_dup_key,\t\t\t-- IS_IND_DPKEYS\r\n\t\tsysconv(bit, i.status &amp; 0x20) AS is_primary_key,\t\t-- IS_IND_PRIMARY\r\n\t\tsysconv(bit, i.status &amp; 0x40) AS is_unique_constraint,\t\t-- IS_IND_UNIQUE_CO\r\n\t\ti.fillfact AS fill_factor,\r\n\t\tsysconv(bit, i.status &amp; 0x10) AS is_padded,\t\t\t-- IS_IND_PADINDEX\r\n\t\tsysconv(bit, i.status &amp; 0x80) AS is_disabled,\t\t\t-- IS_IND_OFFLINE\r\n\t\tsysconv(bit, i.status &amp; 0x100) AS is_hypothetical,\t\t-- IS_IND_ITWINDEX\r\n\t\tcase when obj.status2 &amp; 0x00000008 != 0 \t\t\t-- OBJTAB2_HEKATON\r\n \t\t  then sysconv(bit, 0) \r\n\t\t  else sysconv(bit, 1 - (i.status &amp; 512)/512)\t\t\t-- IS_IND_NO_ROWLOCK\r\n\t\tend as allow_row_locks,\r\n\t\tcase when obj.status2 &amp; 0x00000008 != 0 \t\t\t-- OBJTAB2_HEKATON\r\n \t\t  then sysconv(bit, 0)\r\n\t\t  else sysconv(bit, 1 - (i.status &amp; 1024)/1024)\t\t\t-- IS_IND_NO_PAGELOCK\r\n\t\tend AS allow_page_locks,\r\n\t\tsysconv(bit, i.status &amp; 0x20000) AS has_filter,\t\t\t-- IS_HAS_FILTER\r\n\t\tcase when (i.status &amp; 0x20000) != 0 then object_definition(i.id, i.indid, 7) else NULL end AS filter_definition, -- x_euncIndex\r\n\t\tcase when (i.type = 5 or i.type = 6) and objval.value is null\r\n\t\t\tthen \r\n\t\t\t\tcase when obj.status2 &amp; 0x00000008 != 0 -- OBJTAB2_HEKATON\r\n\t\t\t\t\tthen 60 -- default for HEKATON\r\n\t\t\t\t\telse 0 -- default for disk based columnstore indexes\r\n\t\t\t\tend\r\n\t\t\telse cast(objval.value as int) \r\n\t\tend as compression_delay -- compression_delay\r\n\tFROM sys.sysidxstats i\r\n\tLEFT JOIN sys.syssingleobjrefs ds ON ds.depid = i.id AND ds.class = 7 AND ds.depsubid = i.indid\t-- SRC_INDEXTODS\r\n\tLEFT JOIN sys.syspalvalues n ON n.class = 'IDXT' and n.value = i.type\r\n\tINNER JOIN sys.sysschobjs obj ON obj.id = i.id\r\n\tLEFT JOIN sys.sysobjvalues objval ON objval.valclass = 124 AND i.id = objval.objid AND i.indid = objval.subobjid AND objval.valnum = 0 -- SVC_COLUMNSTORE_INDEX_ATTRIBUTES = 124; VALNUM_COMPRESSION_DELAY = 0\r\n\tWHERE (i.status &amp; 1) &lt;&gt; 0\r\n\t\tAND has_access('CO', i.id) = 1\t-- IS_INDEX\r\n</td></tr><tr><td>228</td><td>1</td><td>4</td><td>81920</td><td>0x000001BBA1BE0060</td><td>Parse Tree</td><td>View</td><td>0x0500FF7F68FEFFFF5001BEA1BB01000001000000000000000000000000000000000000000000000000000000</td><td>2</td><td>NULL</td><td>32767</td><td>-408</td><td>0</td><td>0</td><td>CREATE VIEW sys.default_constraints AS\r\n\tSELECT name, object_id, principal_id, schema_id, parent_object_id,\r\n\t\ttype, type_desc, create_date, modify_date,\r\n\t\tis_ms_shipped, is_published, is_schema_published,\r\n\t\tproperty AS parent_column_id,\r\n\t\tobject_definition(object_id) AS definition,\r\n\t\tis_system_named\r\n\tFROM sys.objects$\r\n\tWHERE type = 'D ' AND \r\n\t\t(parent_object_id &gt; 0 OR \r\n\t\t(parent_object_id &amp; 0xe0000000 = 0xa0000000)) -- IsLocalTempObjectId\r\n</td></tr><tr><td>338</td><td>1</td><td>3</td><td>311296</td><td>0x000001BBA1BF8060</td><td>Parse Tree</td><td>View</td><td>0x0500FF7FAFDCC9E15081BFA1BB01000001000000000000000000000000000000000000000000000000000000</td><td>2</td><td>NULL</td><td>32767</td><td>-506864465</td><td>0</td><td>0</td><td>CREATE VIEW sys.objects$ AS\r\n\tSELECT\r\n\t\to.name,\r\n\t\to.id AS object_id,\r\n\t\tr.indepid AS principal_id,\r\n\t\to.nsid AS schema_id,\r\n\t\to.pid AS parent_object_id,\r\n\t\tconvert(char(2), case o.type when 'ET' then 'U' else o.type end) AS type,\r\n\t\tn.name AS type_desc,\r\n\t\to.intprop AS property,\r\n\t\to.created AS create_date,\r\n\t\to.modified AS modify_date,\r\n\t\tsysconv(bit, o.status &amp; 1) AS is_ms_shipped,\t\t\t\t-- OBJALL_MSSHIPPED\r\n\t\tsysconv(bit, o.status &amp; 2) AS is_auto_dropped,\t\t\t\t-- OBJALL_AUTODROP\r\n\t\tsysconv(bit, o.status &amp; 4) AS is_system_named,\t\t\t-- OBJALL_SYSNAMED\r\n\t\tsysconv(bit, o.status &amp; 16) AS is_published,\t\t\t\t-- OBJALL_RPL_PUBLISHED\r\n\t\tsysconv(bit, o.status &amp; 64) AS is_schema_published,\t\t\t-- OBJALL_RPL_PUB_SCHONLY\r\n\t\tconvert(bit, o.status &amp; 0x100) AS is_cycling,\t\t\t\t-- OBJSEQ_IS_CYCLING\r\n\t\tsysconv(bit, o.status &amp; 256) AS lock_on_bulk_load,\t\t\t-- OBJTAB_BCPTABLOCK\r\n\t\tsysconv(bit, o.status &amp; 256) AS is_disabled,\t\t\t\t-- OBJCST_DISABLED\r\n\t\tsysconv(bit, o.status &amp; 256) AS is_auto_executed,\t\t\t-- OBJPRC_STARTUP\r\n\t\tsysconv(bit, o.status &amp; 256) AS is_activation_enabled,\t\t-- OBJSQ_ACTIVATIONON\r\n\t\tsysconv(bit, o.status &amp; 256) AS is_enabled,\t\t\t\t\t-- OBJSECPOL_ENABLED\r\n\t\tsysconv(bit, o.status &amp; 512) AS has_opaque_metadata,\t\t-- OBJVW_OPAQUEBMM\r\n\t\tsysconv(bit, o.status &amp; 512) AS is_not_for_replication,\t\t-- OBJCST_NOTFORREPL, OBJSECPOL_NOTFORREPL\r\n\t\tsysconv(bit, o.status &amp; 512) AS is_receive_enabled,\t\t\t-- OBJSQ_RECEIVEON\r\n\t\tconvert(bit, o.status &amp; 0x200) AS is_cached,\t\t\t\t-- OBJSEQ_IS_CACHED\r\n\t\tsysconv(bit, o.status &amp; 1024) AS is_not_trusted,\t\t\t-- OBJCST_NOTRUST\r\n\t\tsysconv(bit, o.status &amp; 1024) AS is_enqueue_enabled,\t\t-- OBJSQ_ENQUEUEON\r\n\t\tsysconv(bit, o.status &amp; 1024) AS with_check_option,\t\t-- OBJVW_WITHCHECK\r\n\t\tsysconv(bit, o.status &amp; 2048) AS is_retention_enabled,\t\t-- OBJSQ_RETENTIONON\r\n\t\tsysconv(bit, o.status &amp; 2048) AS has_unchecked_assembly_data,\t-- OBJTAB_HAS_UNCHKED_ASM_DATA\r\n\t\tconvert(tinyint, (o.status/4096) &amp; 3) AS update_referential_action,\t\t-- ERefAct/OBJREF_UPDACTMASK\r\n\t\tconvert(tinyint, (o.status/16384) &amp; 3) AS delete_referential_action,\t-- ERefAct/OBJREF_DELACTMASK\r\n\t\tsysconv(bit, o.status &amp; 0x1000) AS is_replicated,\t\t\t-- OBJTAB_REPLICATE\r\n\t\tsysconv(bit, o.status &amp; 0x1000) AS is_execution_replicated,\t-- OBJPRC_PROC_EXEC\r\n\t\tsysconv(bit, o.status &amp; 0x2000) AS has_replication_filter,\t\t-- OBJTAB_HAS_FILT_PROC\r\n\t\tsysconv(bit, o.status &amp; 0x2000) AS is_repl_serializable_only,\t-- OBJPRC_PROC_SER_ONLY\r\n\t\tsysconv(bit, o.status &amp; 0x4000) AS is_merge_published,\t\t\t-- OBJTAB_MERGE_PUBL\r\n\t\tsysconv(bit, o.status &amp; 0x4000) AS skips_repl_constraints,\t\t-- OBJPRC_NO_REPL_CNST\r\n\t\tsysconv(bit, o.status &amp; 0x8000) AS is_sync_tran_subscribed,\t\t-- OBJTAB_SYNCTRAN_SUB\r\n\t\tsysconv(bit, o.status &amp; 0x40000) AS uses_ansi_nulls,\t\t\t-- OBJMOD_ANSINULLS\r\n\t\tsysconv(bit, o.status &amp; 0x200000) AS null_on_null_input, \t\t-- OBJMOD_NULLONNULL\r\n\t\tsysconv(bit, o.status &amp; 0x100000) AS uses_database_collation,\t-- OBJMOD_ANSINULLS\r\n\t\tsysconv(bit, o.status &amp; 0x01000000) AS is_tracked_by_cdc,\t\t\t-- OBJTAB_CDC_TRACKED\r\n\t\tsysconv(bit, o.status &amp; 0x02000000) AS large_value_types_out_of_row,\t-- OBJTAB_LARGETYPE_OUTOFROW\r\n\t\tsysconv(tinyint, (o.status &amp; 0x30000000)/0x10000000) AS lock_escalation_option,\r\n\t\tsysconv(bit, o.status &amp; 0x04000000) AS is_poison_message_handling_enabled,\t-- OBJSQ_POISONMSGON\r\n\t\tsysconv(bit, o.status2 &amp; 0x00000002) AS is_filetable,\t-- OBJTAB2_FILETABLE\r\n\t\tsysconv(bit, o.status2 &amp; 0x00000020) AS is_catalog_hidden,\t-- OBJALL2_CATALOG_HIDDEN\r\n\t\tsysconv(bit, o.status2 &amp; 0x00000008) AS is_memory_optimized,\t-- OBJTAB2_HEKATON\r\n\t\tsysconv(tinyint, (o.status2 &amp; 0x40)/0x40) AS durability_option,\t--OBJTAB2_DURABILITY_SCHEMA_ONLY\r\n\t\tsysconv(bit, case o.type when 'ET' then 1 else 0 end) AS is_external,\r\n\t\t~(sysconv(bit, o.status &amp; 1024)) AS is_security_policy_schema_bound\t-- OBJSECPOL_NOTSCHEMABOUND\r\n\tFROM sys.sysschobjs o\r\n\tLEFT JOIN sys.syssingleobjrefs r ON r.depid = o.id AND r.class = 97 AND r.depsubid = 0\t-- SRC_OBJOWNER\r\n\tLEFT JOIN sys.syspalnames n ON n.class = 'OBTY' AND n.value = o.type\r\n\tWHERE o.nsclass = 0 -- x_eonc_Standard\r\n\t\tAND o.pclass = 1 -- x_eunc_Object\r\n\t\tAND has_access('CO', o.id) = 1\r\n</td></tr><tr><td>760</td><td>1</td><td>2</td><td>155648</td><td>0x000001BB343F4060</td><td>Parse Tree</td><td>View</td><td>0x0500FF7F6BFFFFFF50413F34BB01000001000000000000000000000000000000000000000000000000000000</td><td>2</td><td>NULL</td><td>32767</td><td>-149</td><td>0</td><td>0</td><td>CREATE VIEW sys.system_columns$ AS\r\n\tSELECT id AS object_id, name, colid AS column_id,\r\n\t\txtype AS system_type_id, utype AS user_type_id,\r\n\t\tlength AS max_length, prec AS precision, scale,\r\n\t\tsysconv(bit, 1 - (status &amp; 1)) AS is_nullable,\r\n\t\tsysconv(bit, status &amp; 2) AS is_ansi_padded,\r\n\t\tsysconv(bit, 0) AS is_rowguidcol,\r\n\t\tsysconv(bit, 0) AS is_identity,\r\n\t\tsysconv(bit, 0) AS is_computed,\r\n\t\tsysconv(bit, 0) AS is_filestream,\r\n\t\tsysconv(bit, 0) AS is_replicated,\r\n\t\tsysconv(bit, 0) AS is_non_sql_subscribed,\r\n\t\tsysconv(bit, 0) AS is_merge_published,\r\n\t\tsysconv(bit, 0) AS is_dts_replicated,\r\n\t\tsysconv(bit, 0) AS is_xml_document,\r\n\t\tsysconv(int, 0) AS xml_collection_id,\r\n\t\tsysconv(int, 0) AS default_object_id,\r\n\t\tsysconv(int, 0) AS rule_object_id,\r\n\t\tsysconv(bit, 0) AS is_sparse,\r\n\t\tsysconv(bit, 0) AS is_column_set,\r\n\t\tconvert(tinyint, 0) AS generated_always_type,\r\n\t\tconvert(nvarchar(60), 'NOT_APPLICABLE') COLLATE Latin1_General_CI_AS_KS_WS AS generated_always_type_desc,\r\n\t\tconvert(int, NULL) as encryption_type,\r\n\t\tconvert(nvarchar(64), NULL) COLLATE Latin1_General_CI_AS_KS_WS as encryption_type_desc,\r\n\t\tconvert(sysname, NULL) COLLATE Latin1_General_CI_AS_KS_WS as encryption_algorithm_name,\r\n\t\tconvert(int, NULL) as column_encryption_key_id,\r\n\t\tconvert(sysname, NULL) as column_encryption_key_database_name,\r\n\t\tsysconv(bit, 0) AS is_hidden,\r\n\t\tsysconv(bit, 0) AS is_masked\r\n\tFROM sys.syscolpars\r\n\tWHERE number = 0 AND (status &amp; 4096) = 4096\r\n\t\t  AND (serverproperty('EngineEdition') != 5 OR (status &amp; 0x08000000) != 0)\r\n</td></tr><tr><td>1117</td><td>1</td><td>4</td><td>57344</td><td>0x000001BB4D156060</td><td>Parse Tree</td><td>View</td><td>0x0500FF7F3FFEFFFF5061154DBB01000001000000000000000000000000000000000000000000000000000000</td><td>2</td><td>NULL</td><td>32767</td><td>-449</td><td>0</td><td>0</td><td>CREATE VIEW sys.extended_properties AS\r\n\tSELECT p.class,\r\n\t\tclass_desc = n.name,\r\n\t\tmajor_id = p.id,\r\n\t\tminor_id = p.subid,\r\n\t\tp.name, p.value\r\n\tFROM sys.sysxprops p\r\n\tLEFT JOIN sys.syspalvalues n ON n.class = 'UNCL' AND n.value = p.class\r\n\tWHERE has_access('EP', p.class, p.id) = 1\r\n</td></tr><tr><td>630</td><td>1</td><td>2</td><td>188416</td><td>0x000001BBA1EF6060</td><td>Parse Tree</td><td>View</td><td>0x0500FF7F95FFFFFF5061EFA1BB01000001000000000000000000000000000000000000000000000000000000</td><td>2</td><td>NULL</td><td>32767</td><td>-107</td><td>0</td><td>0</td><td>CREATE VIEW sys.all_sql_modules AS\r\n\tSELECT *\r\n\tFROM sys.system_sql_modules\r\n\r\n\tUNION ALL\r\n\r\n\tSELECT object_id = o.id,\r\n\t\tdefinition = object_definition(o.id),\r\n\t\tuses_ansi_nulls = convert(bit, o.status &amp; 0x40000), \t\t\t-- OBJMOD_ANSINULLS\r\n\t\tuses_quoted_identifier = convert(bit, o.status &amp; 0x80000), \t\t-- OBJMOD_QUOTEDIDENT\r\n\t\tis_schema_bound = convert(bit, o.status &amp; 0x20000), \t\t\t-- OBJMOD_SCHEMABOUND\r\n\t\tuses_database_collation = convert(bit, o.status &amp; 0x100000), \t-- OBJMOD_USESDBCOLL\r\n\t\tis_recompiled = convert(bit, o.status &amp; 0x400000), \t\t\t\t-- OBJMOD_NOCACHE\r\n\t\tnull_on_null_input = convert(bit, o.status &amp; 0x200000), \t\t-- OBJMOD_NULLONNULL\r\n\t\texecute_as_principal_id = x.indepid,\r\n\t\tuses_native_compilation = sysconv(bit, CASE WHEN (o.type = 'P') THEN o.status &amp; 0x00000200\t-- OBJPRC_HEKATON\r\n\t\t\t\t\t\t\t\t\t\t\t\tWHEN (o.type = 'FN') THEN o.status &amp; 0x00000200\t\t-- OBJPRC_HEKATON\r\n\t\t\t\t\t\t\t\t\t\t\t\tWHEN (o.type = 'TR') THEN o.status &amp; 0x00001000\t\t-- OBJTRG_HEKATON\r\n\t\t\t\t\t\t\t\t\t\t\t\tWHEN (o.type = 'IF') THEN o.status &amp; 0x00000200\t\t-- OBJPRC_HEKATON\r\n\t\t\t\t\t\t\t\t\t\t\t\tELSE 0\r\n\t\t\t\t\t\t\t\t\t\t\t\tEND)\t\t\t\r\n\tFROM sys.sysschobjs o\r\n\tLEFT JOIN sys.syssingleobjrefs x ON x.depid = o.id AND x.class = 22 AND x.depsubid = 0 -- SRC_OBJEXECASOWNER\r\n\tWHERE o.pclass &lt;&gt; 100 -- x_eunc_Server\r\n\t\tAND ((o.type = 'TR' AND has_access('TR', o.id, o.pid, o.nsclass) = 1)\r\n\t\t\tOR (type IN ('P','V','FN','IF','TF','RF','IS') AND has_access('AO', o.id) = 1)\r\n\t\t\tOR (type IN ('R','D') AND o.pid = 0))\r\n\t\tAND has_access('CO', o.id) = 1\r\n</td></tr><tr><td>3535</td><td>1</td><td>2</td><td>98304</td><td>0x000001BBA1BF0060</td><td>Parse Tree</td><td>View</td><td>0x0500FF7F52FEFFFF5001BFA1BB01000001000000000000000000000000000000000000000000000000000000</td><td>2</td><td>NULL</td><td>32767</td><td>-430</td><td>0</td><td>0</td><td>CREATE VIEW sys.assemblies AS\r\n\tSELECT s.name AS name, \r\n\t\tr.indepid AS principal_id,\r\n\t\ts.id AS assembly_id,\r\n\t\tconvert(nvarchar(4000), assemblyproperty(s.name, 'CLRName')) collate Latin1_General_BIN AS clr_name,\r\n\t\tconvert(tinyint, s.intprop) AS permission_set,\r\n\t\ti.name AS permission_set_desc,\r\n\t\tsysconv(bit, s.status &amp; 1) AS is_visible,\t-- ASM_EXPLICIT_REG\r\n\t\ts.created AS create_date,\r\n\t\ts.modified AS modify_date,\r\n\t\tconvert(bit, case when s.id &lt; 65536 then 0 else 1 end) AS is_user_defined       -- x_MinUserAssemblyID\r\n\tFROM sys.sysclsobjs s\r\n\tLEFT JOIN sys.syssingleobjrefs r ON r.depid = s.id AND r.class = 52 AND r.depsubid = 0\t-- SRC_ASMOWNER\r\n\tLEFT JOIN sys.syspalvalues i ON i.class = 'ASPS' AND i.value = s.intprop\r\n\tWHERE s.class = 10\r\n\t\tAND has_access('AS', s.id) = 1\t-- SOC_ASSEMBLY\r\n\t\t\r\n</td></tr><tr><td>1399</td><td>1</td><td>2</td><td>147456</td><td>0x000001BB69786060</td><td>Parse Tree</td><td>View</td><td>0x0500FF7F5FFEFFFF50617869BB01000001000000000000000000000000000000000000000000000000000000</td><td>2</td><td>NULL</td><td>32767</td><td>-417</td><td>0</td><td>0</td><td>CREATE VIEW sys.assembly_modules AS\r\n\tSELECT object_id = o.id,\r\n\t\tassembly_id = asm.indepid,\r\n\t\tassembly_class = convert(sysname, v.value) collate Latin1_General_BIN,\r\n\t\tassembly_method = convert(sysname, m.value) collate Latin1_General_BIN,\r\n\t\tnull_on_null_input = sysconv(bit, o.status &amp; 0x200000),\t-- OBJMOD_NULLONNULL\r\n\t\texecute_as_principal_id = x.indepid\r\n\tFROM sys.sysschobjs o\r\n\tJOIN sys.syssingleobjrefs asm ON asm.depid = o.id AND asm.class = 11 AND asm.depsubid = 0 \t-- SRC_MODULETOASM\r\n\tLEFT JOIN sys.sysobjvalues v ON v.valclass = 11 AND v.objid = o.id AND v.subobjid = 0 AND v.valnum = 1 \t-- SVC_OBJASMENTRY,ASMENTRY_CLASS\r\n\tLEFT JOIN sys.sysobjvalues m ON m.valclass = 11 AND m.objid = o.id AND m.subobjid = 0 AND m.valnum = 2 \t-- SVC_OBJASMENTRY,ASMENTRY_METHOD\r\n\tLEFT JOIN sys.syssingleobjrefs x ON x.depid = o.id AND x.class = 22 AND x.depsubid = 0\t-- SRC_OBJEXECASOWNER\r\n\tWHERE o.pclass &lt;&gt; 100\t-- x_eunc_Server\r\n\t\tAND type IN ('AF','PC','FS','FT','TA')\r\n\t\tAND has_access('SQ', o.id, o.pid, o.nsclass) = 1\r\n</td></tr><tr><td>2494</td><td>1</td><td>10</td><td>65536</td><td>0x000001BB5105C060</td><td>Parse Tree</td><td>View</td><td>0x0500FF7F31FEFFFF50C10551BB01000001000000000000000000000000000000000000000000000000000000</td><td>2</td><td>NULL</td><td>32767</td><td>-463</td><td>0</td><td>0</td><td>CREATE VIEW sys.xml_schema_collections AS\r\n\tSELECT xml_collection_id = s.id,\r\n\t\tschema_id = s.nsid,\r\n\t\tprincipal_id = r.indepid,\r\n\t\tname = s.name,\r\n\t\tcreate_date = s.created,\r\n\t\tmodify_date = s.modified\r\n\tFROM sys.sysnsobjs s\r\n\tLEFT JOIN sys.syssingleobjrefs r ON r.depid = s.id AND r.class = 59 AND r.depsubid = 0\t-- SRC_XSDCOLTOOWNER\r\n\tWHERE s.class = 27\t-- SOC_XSDCOLLECTION\r\n\t\tAND (s.nsid = 4 OR has_access('XC', 0, s.id) = 1)\r\n</td></tr><tr><td>3329</td><td>1</td><td>20</td><td>57344</td><td>0x000001BB8896A060</td><td>Parse Tree</td><td>View</td><td>0x0500FF7F57FEFFFF50A19688BB01000001000000000000000000000000000000000000000000000000000000</td><td>2</td><td>NULL</td><td>32767</td><td>-425</td><td>0</td><td>0</td><td>CREATE VIEW sys.schemas AS\r\n\tSELECT s.name, schema_id = s.id,\r\n\t\tprincipal_id = r.indepid\r\n\tFROM sys.sysclsobjs s\r\n\tLEFT JOIN sys.syssingleobjrefs r ON r.depid = s.id AND r.class = 50 AND r.depsubid = 0 -- SRC_SCHEMAOWNER\r\n\tWHERE s.class = 50\t-- SOC_SCHEMA\r\n</td></tr><tr><td>846</td><td>1</td><td>20</td><td>122880</td><td>0x000001BB574FE060</td><td>Parse Tree</td><td>View</td><td>0x0500FF7F59FEFFFF50E14F57BB01000001000000000000000000000000000000000000000000000000000000</td><td>2</td><td>NULL</td><td>32767</td><td>-423</td><td>0</td><td>0</td><td>CREATE VIEW sys.types AS\r\n\tSELECT t.name AS name,\r\n\t\tt.xtype AS system_type_id,\r\n\t\tt.id AS user_type_id,\r\n\t\tt.schid AS schema_id,\r\n\t\to.indepid AS principal_id,\r\n\t\tt.length AS max_length,\r\n\t\tt.prec AS precision,\r\n\t\tt.scale AS scale,\r\n\t\tconvert(sysname, collationpropertyfromid(t.collationid, 'name')) AS collation_name,\r\n\t\tsysconv(bit, 1 - (t.status &amp; 1)) AS is_nullable,\t-- TYPE_NOTNULL\r\n\t\tsysconv(bit, case when t.id &gt; 256 then 1 else 0 end) AS is_user_defined,\t-- x_utypSSNAME\r\n\t\tsysconv(bit, case when t.xtype = 240 then 1 else 0 end) AS is_assembly_type,\t-- XVT_UDT\r\n\t\tt.dflt AS default_object_id,\r\n\t\tt.chk AS rule_object_id,\r\n\t\tsysconv(bit, case when t.xtype = 243 then 1 else 0 end) AS is_table_type\t-- XVT_TABLETYPE\r\n\tFROM sys.sysscalartypes t\r\n\tLEFT JOIN sys.syssingleobjrefs o ON o.depid = t.id AND o.class = 44 AND o.depsubid = 0\t-- SRC_TYPETOOWNER\r\n\tLEFT JOIN sys.syssingleobjrefs sor ON sor.depid = t.id AND sor.class = 36 AND sor.depsubid = 0\t-- SRC_TYPETOTABLE \r\n\tWHERE (t.id &lt;= 256 OR has_access('UT', t.id) = 1) \r\n</td></tr><tr><td>2907</td><td>1</td><td>6</td><td>122880</td><td>0x000001BB95EE8060</td><td>Parse Tree</td><td>View</td><td>0x0500FF7F98FFFFFF5081EE95BB01000001000000000000000000000000000000000000000000000000000000</td><td>2</td><td>NULL</td><td>32767</td><td>-104</td><td>0</td><td>0</td><td>CREATE VIEW sys.all_parameters AS\r\n SELECT * FROM sys.parameters</td></tr><tr><td>2852</td><td>1</td><td>4</td><td>73728</td><td>0x000001BB59496060</td><td>Parse Tree</td><td>View</td><td>0x0500FF7F76FEFFFF50614959BB01000001000000000000000000000000000000000000000000000000000000</td><td>2</td><td>NULL</td><td>32767</td><td>-394</td><td>0</td><td>0</td><td>CREATE VIEW sys.system_parameters AS\r\n\tSELECT object_id, name collate catalog_default AS name,\r\n\t\tparameter_id, system_type_id,\r\n\t\tuser_type_id, max_length,\r\n\t\tprecision, scale,\r\n\t\tis_output, is_cursor_ref,\r\n\t\thas_default_value, is_xml_document,\r\n\t\tdefault_value, xml_collection_id,\r\n\t\tis_readonly, is_nullable,\r\n\t\tencryption_type, encryption_type_desc, \r\n\t\tencryption_algorithm_name, column_encryption_key_id,\r\n\t\tcolumn_encryption_key_database_name collate catalog_default as column_encryption_key_database_name\r\n\tFROM sys.system_parameters$\r\n\tWHERE number = 1\r\n</td></tr><tr><td>1</td><td>1</td><td>4</td><td>122880</td><td>0x000001BB594FE060</td><td>Parse Tree</td><td>View</td><td>0x0500FF7F6AFFFFFF50E14F59BB01000001000000000000000000000000000000000000000000000000000000</td><td>2</td><td>NULL</td><td>32767</td><td>-150</td><td>0</td><td>0</td><td>CREATE VIEW sys.system_parameters$ AS\r\n\tSELECT id AS object_id,\r\n\t\tnumber,\r\n\t\tname collate catalog_default AS name,\r\n\t\tcolid AS parameter_id,\r\n\t\txtype AS system_type_id,\r\n\t\tutype AS user_type_id,\r\n\t\tlength AS max_length,\r\n\t\tprec AS precision, scale,\r\n\t\tsysconv(bit, status &amp; 512) AS is_output,\r\n\t\tsysconv(bit, status &amp; 1024) AS is_cursor_ref,\r\n\t\tsysconv(bit, 0) AS has_default_value,\r\n\t\tsysconv(bit, 0) AS is_xml_document,\r\n\t\tconvert(sql_variant, null) AS default_value,\r\n\t\tsysconv(int, 0) AS xml_collection_id,\r\n\t\tsysconv(bit, 0) AS is_readonly,\r\n\t\tsysconv(bit, 1 - (status &amp; 1)) AS is_nullable,\r\n\t\tconvert(int, NULL) as encryption_type,\r\n\t\tconvert(nvarchar(64), NULL) COLLATE Latin1_General_CI_AS_KS_WS as encryption_type_desc,\r\n\t\tconvert(sysname, NULL) COLLATE Latin1_General_CI_AS_KS_WS as encryption_algorithm_name,\r\n\t\tconvert(int, NULL) as column_encryption_key_id,\r\n\t\tconvert(sysname, NULL) as column_encryption_key_database_name\r\n\tFROM sys.syscolpars\r\n\tWHERE number &gt; 0 AND (status &amp; 4096) = 4096\r\n\t\tAND (serverproperty('EngineEdition') != 5 OR (status &amp; 0x08000000) != 0)\r\n</td></tr><tr><td>3611</td><td>1</td><td>4</td><td>180224</td><td>0x000001BB95EB6060</td><td>Parse Tree</td><td>View</td><td>0x0500FF7F77FEFFFF5061EB95BB01000001000000000000000000000000000000000000000000000000000000</td><td>2</td><td>NULL</td><td>32767</td><td>-393</td><td>0</td><td>0</td><td>CREATE VIEW sys.parameters AS\r\n\tSELECT object_id, p.name,\r\n\t\tparameter_id, system_type_id,\r\n\t\tuser_type_id, max_length,\r\n\t\tprecision, scale,\r\n\t\tis_output, is_cursor_ref,\r\n\t\thas_default_value, is_xml_document,\r\n\t\tdefault_value, xml_collection_id,\r\n\t\tis_readonly, is_nullable,\r\n\t\tconvert(int, (convert(bigint, sov.value) / 0x100) % 0x100) as encryption_type,\r\n\t\tconvert(nvarchar(64), v1.name) as encryption_type_desc,\r\n\t\tconvert(sysname, v2.name) as encryption_algorithm_name,\r\n\t\tsor.indepid as column_encryption_key_id,\r\n\t\tconvert(sysname, sov2.value) collate catalog_default as column_encryption_key_database_name\r\n\tFROM sys.parameters$ p\r\n\tLEFT JOIN sys.sysobjvalues sov ON sov.valclass = 121 /*SVC_PARAM_ENCRYPTION_MD*/ and sov.objid = p.object_id and sov.subobjid = p.parameter_id and sov.valnum = 0 -- TYPE_AND_ALGORITHM\r\n\tLEFT JOIN sys.sysobjvalues sov2 ON sov2.valclass = 121 /*SVC_PARAM_ENCRYPTION_MD*/ and sov2.objid = p.object_id and sov2.subobjid = p.parameter_id and sov2.valnum = 2 -- CEK_DATABASE_NAME\r\n\tLEFT JOIN sys.syssingleobjrefs sor ON sor.class = 114 /*SRC_PARAM_TO_COL_ENCRYPTION_KEY*/ and sov.objid = sor.depid and sov.subobjid = sor.depsubid\r\n\tLEFT JOIN sys.syspalvalues v1 ON v1.class = 'CET' AND v1.value = convert(int, (convert(bigint, sov.value) / 0x100) % 0x100)\r\n\tLEFT JOIN sys.syspalvalues v2 ON v2.class = 'CEA' AND v2.value = convert(int, convert(bigint, sov.value) % 0x100)\r\n\tWHERE number = 1\r\n</td></tr><tr><td>4000</td><td>1</td><td>4</td><td>114688</td><td>0x000001BB594B4060</td><td>Parse Tree</td><td>View</td><td>0x0500FF7FB89B45E050414B59BB01000001000000000000000000000000000000000000000000000000000000</td><td>2</td><td>NULL</td><td>32767</td><td>-532309064</td><td>0</td><td>0</td><td>CREATE VIEW sys.parameters$ AS\r\n\tSELECT c.id AS object_id,\r\n\t\tc.number, c.name,\r\n\t\tc.colid AS parameter_id,\r\n\t\tc.xtype AS system_type_id,\r\n\t\tc.utype AS user_type_id,\r\n\t\tc.length AS max_length,\r\n\t\tc.prec AS precision,\r\n\t\tc.scale AS scale,\r\n\t\tsysconv(bit, c.status &amp; 512) AS is_output,\t\t-- CPM_OUTPUT\r\n\t\tsysconv(bit, c.status &amp; 1024) AS is_cursor_ref,\t-- CPM_CURSORREF\r\n\t\tsysconv(bit, isnull(v.objid, 0)) AS has_default_value,\r\n\t\tsysconv(bit, c.status &amp; 2048) AS is_xml_document, -- CPM_XML_DOC\t\t\r\n\t\tv.value AS default_value,\r\n\t\txmlns AS xml_collection_id,\r\n\t\tsysconv(bit, c.status &amp; 4194304) AS is_readonly, -- CPM_IS_READONLY = 0x00400000\r\n\t\tsysconv(bit, 1 - (c.status &amp; 1)) AS is_nullable -- CPM_NOTNULL  = 0x00000001\r\n\tFROM sys.syscolpars c\r\n\tLEFT JOIN sys.sysobjvalues v ON v.valclass = 9 AND v.objid = c.id AND v.subobjid = c.colid AND v.valnum = 0\t-- SVC_PARAMDEFAULT\r\n\tWHERE number &gt; 0 AND has_access('CO', c.id) = 1\r\n</td></tr><tr><td>2570</td><td>1</td><td>2</td><td>196608</td><td>0x000001BB50F0E060</td><td>Parse Tree</td><td>View</td><td>0x0500FF7F56FEFFFF50E1F050BB01000001000000000000000000000000000000000000000000000000000000</td><td>2</td><td>NULL</td><td>32767</td><td>-426</td><td>0</td><td>0</td><td>CREATE VIEW sys.database_principals AS\r\n\tSELECT u.name,\r\n\t\tu.id AS principal_id,\r\n\t\tu.type,\r\n\t\tn.name AS type_desc,\r\n\t\tu.dfltsch AS default_schema_name,\r\n\t\tu.created AS create_date,\r\n\t\tu.modified AS modify_date,\r\n\t\tr.indepid AS owning_principal_id,\r\n\t\tu.sid,\r\n\t\tsysconv(bit, case when u.id &gt;= 16384 and u.id &lt; 16400 then 1 else 0 end) AS is_fixed_role,\r\n\t\tu.authentication_type,\r\n\t\taty.name AS authentication_type_desc,\r\n\t\tu.deflanguage as default_language_name,\r\n\t\tl.lcid as default_language_lcid,\r\n\t\tsysconv(bit, IIF(u.status &amp; 0x20 = 0x20, 1, 0)) as allow_encrypted_value_modifications\r\n\tFROM (\r\n\t\tSELECT *,\r\n\t\t\tCASE \r\n\t\t\t\t-- Guest is always authentication type none\r\n\t\t\t\tWHEN type = 'S' AND id = 2 THEN 0\r\n\t\t\t\t-- Users without password and without SQL SID prefix are instance auth\r\n\t\t\t\tWHEN type = 'S' AND password IS NULL AND cast(sid as binary(9)) &lt;&gt; 0x010500000000000903 THEN 1\r\n\t\t\t\t-- Users with passwords are database auth\r\n\t\t\t\tWHEN type = 'S' AND password IS NOT NULL THEN 2\r\n\t\t\t\t-- Windows users are always windows auth\r\n\t\t\t\tWHEN type = 'U' OR type = 'G' THEN 3\r\n\t\t\t\t-- External Users or External Groups\r\n\t\t\t\tWHEN type = 'E' OR type = 'X' THEN 4\r\n\t\t\t\t-- Users without passwords, certificate, key users, etc. have no authentication type\r\n\t\t\t\tELSE 0\r\n\t\t\tEND AS authentication_type\r\n\t\tFROM sys.sysowners) u\r\n\tLEFT JOIN sys.syssingleobjrefs r ON r.depid = u.id AND r.class = 51 AND r.depsubid = 0\t-- SRC_ROLEOWNER\r\n\tLEFT JOIN sys.syspalnames n ON n.class = 'USTY' AND n.value = u.type\r\n\tLEFT JOIN sys.syspalnames aty ON aty.class = 'DBAT' AND aty.value = u.authentication_type\r\n\tLEFT JOIN sys.syslanguages l ON u.deflanguage COLLATE catalog_default = l.name COLLATE catalog_default\r\n\tWHERE u.type &lt;&gt; 'L'\r\n\t\tAND has_access('US', u.id) = 1\t-- PR_ALIAS\r\n</td></tr><tr><td>2614</td><td>1</td><td>2</td><td>114688</td><td>0x000001BB31014060</td><td>Parse Tree</td><td>View</td><td>0x0500FF7F3EFFFFFF50410131BB01000001000000000000000000000000000000000000000000000000000000</td><td>2</td><td>NULL</td><td>32767</td><td>-194</td><td>0</td><td>0</td><td>CREATE VIEW sys.syslanguages AS\r\n\tSELECT langid, dateformat, datefirst,\r\n\t\tconvert(int, 0) AS upgrade,\r\n\t\tname, alias,\r\n\t\tconvert(nvarchar(372), month1+N',' COLLATE catalog_default +month2+N','+month3+N','+month4+N','+month5+N','+month6\r\n\t\t\t+N','+month7+N','+month8+N','+month9+N','+month10+N','+month11+N','+month12) AS months,\r\n\t\tconvert(nvarchar(132), shortmonth1+N',' COLLATE catalog_default +shortmonth2+N','+shortmonth3+N','+shortmonth4+N','+shortmonth5+N','+shortmonth6\r\n\t\t\t+N','+shortmonth7+N','+shortmonth8+N','+shortmonth9+N','+shortmonth10+N','+shortmonth11+N','+shortmonth12) AS shortmonths,\r\n\t\tconvert(nvarchar(217), day2+N',' COLLATE catalog_default +day3+N','+day4+N','+day5+N','+day6+N','+day7+N','+day1) AS days,\r\n\t\tlcid, msglangid\r\n\tFROM OpenRowset(TABLE SYSLANG)\r\n</td></tr><tr><td>2765</td><td>1</td><td>6</td><td>81920</td><td>0x000001BBAD5F2060</td><td>Parse Tree</td><td>View</td><td>0x0500FF7F17FEFFFF50215FADBB01000001000000000000000000000000000000000000000000000000000000</td><td>2</td><td>NULL</td><td>32767</td><td>-489</td><td>0</td><td>0</td><td>CREATE VIEW sys.system_sql_modules AS\r\n\tSELECT o.object_id,\r\n\t\tdefinition = object_definition(o.object_id),\r\n\t\tuses_ansi_nulls = sysconv(bit, 1),\r\n\t\tuses_quoted_identifier = sysconv(bit, 1),\r\n\t\tis_schema_bound = sysconv(bit, 0),\r\n\t\tuses_database_collation = sysconv(bit, 0),\r\n\t\tis_recompiled = sysconv(bit, 0),\r\n\t\tnull_on_null_input = sysconv(bit, 0),\r\n\t\texecute_as_principal_id = convert(int, NULL),\r\n\t\tuses_native_compilation = sysconv(bit, 0)\r\n\tFROM sys.system_objects o\r\n\tWHERE o.type IN ('P','V','FN','IF','TF','RF','IS')\r\n</td></tr><tr><td>2646</td><td>1</td><td>4</td><td>73728</td><td>0x000001BBAD5AC060</td><td>Parse Tree</td><td>View</td><td>0x0500FF7F7BFEFFFF50C15AADBB01000001000000000000000000000000000000000000000000000000000000</td><td>2</td><td>NULL</td><td>32767</td><td>-389</td><td>0</td><td>0</td><td>CREATE VIEW sys.system_objects AS\r\n\tSELECT o.name,\r\n\t\to.id AS object_id,\r\n\t\tconvert(int, null) AS principal_id,\r\n\t\to.nsid AS schema_id,\r\n\t\tconvert(int, 0) AS parent_object_id,\r\n\t\to.type,\r\n\t\tn.name AS type_desc,\r\n\t\to.created AS create_date,\r\n\t\to.modified AS modify_date,\r\n\t\tconvert(bit, 1) AS is_ms_shipped,\r\n\t\tconvert(bit, 0) AS is_published,\r\n\t\tconvert(bit, 0) AS is_schema_published\r\n\tFROM sys.sysschobjs o\r\n\tLEFT JOIN sys.syspalnames n ON n.class = 'OBTY' AND n.value = o.type\r\n\tWHERE has_access('SO', o.id) = 1\r\n</td></tr><tr><td>2158</td><td>1</td><td>4</td><td>163840</td><td>0x000001BB9F1CC060</td><td>Parse Tree</td><td>View</td><td>0x0500FF7F60FEFFFF50C11C9FBB01000001000000000000000000000000000000000000000000000000000000</td><td>2</td><td>NULL</td><td>32767</td><td>-416</td><td>0</td><td>0</td><td>CREATE VIEW sys.sql_modules AS\r\n\tSELECT object_id = o.id,\r\n\t\tdefinition = object_definition(o.id),\r\n\t\tuses_ansi_nulls = sysconv(bit, o.status &amp; 0x40000), \t\t\t-- OBJMOD_ANSINULLS\r\n\t\tuses_quoted_identifier = sysconv(bit, o.status &amp; 0x80000), \t\t-- OBJMOD_QUOTEDIDENT\r\n\t\tis_schema_bound = sysconv(bit, o.status &amp; 0x20000), \t\t\t-- OBJMOD_SCHEMABOUND\r\n\t\tuses_database_collation = sysconv(bit, o.status &amp; 0x100000), \t-- OBJMOD_USESDBCOLL\r\n\t\tis_recompiled = sysconv(bit, o.status &amp; 0x400000), \t\t\t\t-- OBJMOD_NOCACHE\r\n\t\tnull_on_null_input = sysconv(bit, o.status &amp; 0x200000), \t\t-- OBJMOD_NULLONNULL\r\n\t\texecute_as_principal_id = x.indepid,\r\n\t\tuses_native_compilation = sysconv(bit, CASE WHEN (o.type = 'P') THEN o.status &amp; 0x00000200\t-- OBJPRC_HEKATON\r\n\t\t\t\t\t\t\t\t\t\t\t\tWHEN (o.type = 'FN') THEN o.status &amp; 0x00000200\t\t-- OBJPRC_HEKATON\r\n\t\t\t\t\t\t\t\t\t\t\t\tWHEN (o.type = 'TR') THEN o.status &amp; 0x00001000\t\t-- OBJTRG_HEKATON\r\n\t\t\t\t\t\t\t\t\t\t\t\tWHEN (o.type = 'IF') THEN o.status &amp; 0x00000200\t\t-- OBJPRC_HEKATON\r\n\t\t\t\t\t\t\t\t\t\t\t\tELSE 0\r\n\t\t\t\t\t\t\t\t\t\t\t\tEND)\r\n\tFROM sys.sysschobjs o\r\n\tLEFT JOIN sys.syssingleobjrefs x ON x.depid = o.id AND x.class = 22 AND x.depsubid = 0 -- SRC_OBJEXECASOWNER\r\n\tWHERE o.pclass &lt;&gt; 100 -- x_eunc_Server\r\n\t\tAND ((o.type = 'TR' AND has_access('TR', o.id, o.pid, o.nsclass) = 1)\r\n\t\t\tOR (type IN ('P','V','FN','IF','TF','RF','IS') AND has_access('CO', o.id) = 1)\r\n\t\t\tOR (type IN ('R','D') AND o.pid = 0))\r\n</td></tr><tr><td>1183</td><td>1</td><td>10</td><td>106496</td><td>0x000001BB91C90060</td><td>Parse Tree</td><td>View</td><td>0x0500FF7F9BFFFFFF5001C991BB01000001000000000000000000000000000000000000000000000000000000</td><td>2</td><td>NULL</td><td>32767</td><td>-101</td><td>0</td><td>0</td><td>CREATE VIEW sys.all_objects AS\r\n\tSELECT \r\n\t\to.name, o.id AS object_id, r.indepid AS principal_id,\r\n\t\to.nsid AS schema_id, o.pid AS parent_object_id,\r\n\t\tconvert(char(2), case o.type when 'ET' then 'U' else o.type end) AS type,\r\n\t\tn.name AS type_desc,\r\n\t\to.created AS create_date, o.modified AS modify_date,\r\n\t\tconvert(bit, o.status &amp; 1) AS is_ms_shipped,        -- OBJALL_MSSHIPPED\r\n\t\tconvert(bit, o.status &amp; 16) AS is_published,        -- OBJALL_RPL_PUBLISHED\r\n\t\tconvert(bit, o.status &amp; 64) AS is_schema_published\t-- OBJALL_RPL_PUB_SCHONLY\r\n\tFROM sys.sysschobjs o\r\n\tLEFT JOIN sys.syssingleobjrefs r ON r.depid = o.id AND r.class = 97 AND r.depsubid = 0\t-- SRC_OBJOWNER\r\n\tLEFT JOIN sys.syspalnames n ON n.class = 'OBTY' AND n.value = o.type\r\n\tWHERE o.nsclass not in (20,21)        -- excluding DDL trigger\r\n\t\tAND HAS_ACCESS('AO', o.id) = 1\r\n</td></tr><tr><td>196</td><td>1</td><td>4</td><td>1277952</td><td>0x000001BB4D6DA060</td><td>Parse Tree</td><td>View</td><td>0x0500FF7F2BFFFFFF50A16D4DBB01000001000000000000000000000000000000000000000000000000000000</td><td>2</td><td>NULL</td><td>32767</td><td>-213</td><td>0</td><td>0</td><td>CREATE VIEW sys.databases AS\r\n\tSELECT d.name, \r\n\t\td.id AS database_id,\r\n\t\tr.indepid AS source_database_id,\r\n\t\td.sid AS owner_sid,\r\n\t\td.crdate AS create_date,\r\n\t\td.cmptlevel AS compatibility_level,\r\n\t\t-- coll.value = null means that a collation was not specified for the DB and the server default is used instead\r\n\t\tconvert(sysname, case when serverproperty('EngineEdition') = 5 AND d.id = 1 then serverproperty('collation')\r\n                                 else CollationPropertyFromID(convert(int, isnull(coll.value, p.cid)), 'name') end) AS collation_name,\r\n\t\tiif ((serverproperty('EngineEdition') = 5) AND (sysconv(bit, d.status &amp; 0x10000000) = 1), cast (3 as tinyint), p.user_access) AS user_access,\r\n\t\tiif ((serverproperty('EngineEdition') = 5) AND (sysconv(bit, d.status &amp; 0x10000000) = 1), 'NO_ACCESS', ua.name) AS user_access_desc,\r\n\t\tsysconv(bit, d.status &amp; 0x400) AS is_read_only,\t\t\t-- DBR_RDONLY\r\n\t\tsysconv(bit, d.status &amp; 1) AS is_auto_close_on,\t\t\t-- DBR_CLOSE_ON_EXIT\r\n\t\tsysconv(bit, d.status &amp; 0x400000) AS is_auto_shrink_on,\t\t-- DBR_AUTOSHRINK\r\n\t\tcase when (serverproperty('EngineEdition') = 5) AND (sysconv(bit, d.status &amp; 0x00000020) = 1) then cast (1 as tinyint) -- RESTORING\r\n\t\t\t when (serverproperty('EngineEdition') = 5) AND (sysconv(bit, d.status &amp; 0x00000080) = 1) then cast (7 as tinyint) -- COPYING\r\n\t\t\t when (serverproperty('EngineEdition') = 5) AND (sysconv(bit, d.status &amp; 0x00000100) = 1) then cast (4 as tinyint) -- SUSPECT\r\n\t\t\t when (serverproperty('EngineEdition') = 5) AND (sysconv(bit, d.status &amp; 0x08000000) = 1) then cast (8 as tinyint) -- QUORUM_RECOVERY_PENDING\r\n  \t\t\t when (serverproperty('EngineEdition') = 5) AND (sysconv(bit, d.status &amp; 0x04000000) = 1) then cast (9 as tinyint) -- CREATING\r\n\t\t\t else p.state \r\n\t\t\t end AS state, -- 7 is COPYING and 4 is SUSPECT state for database copy (UNDO: Need to have a clean way to set states in dbtable for a user db)\r\n\t\tcase when (serverproperty('EngineEdition') = 5) AND (sysconv(bit, d.status &amp; 0x00000020) = 1) then 'RESTORING' \r\n\t\t\t when (serverproperty('EngineEdition') = 5) AND (sysconv(bit, d.status &amp; 0x00000080) = 1) then 'COPYING' \r\n\t\t\t when (serverproperty('EngineEdition') = 5) AND (sysconv(bit, d.status &amp; 0x00000100) = 1) then 'SUSPECT'\r\n\t\t\t when (serverproperty('EngineEdition') = 5) AND (sysconv(bit, d.status &amp; 0x08000000) = 1) then CONVERT(nvarchar(60), N'QUORUM_RECOVERY_PENDING')\r\n  \t\t\t when (serverproperty('EngineEdition') = 5) AND (sysconv(bit, d.status &amp; 0x04000000) = 1) then 'CREATING'\r\n\t\t\t else st.name \r\n\t\t\t end AS state_desc,\r\n\t\tsysconv(bit, d.status &amp; 0x200000) AS is_in_standby,\t\t-- DBR_STANDBY\r\n\t\tcase when serverproperty('EngineEdition') = 5 then convert(bit, 0) else p.is_cleanly_shutdown end AS is_cleanly_shutdown,\r\n\t\tsysconv(bit, d.status &amp; 0x80000000) AS is_supplemental_logging_enabled,\t-- DBR_SUPPLEMENT_LOG\r\n        case when (serverproperty('EngineEdition') = 5) then sysconv(tinyint, sysconv(bit,(d.status &amp; 0x00100000)))\r\n             else p.snapshot_isolation_state end AS snapshot_isolation_state,\r\n        case when (serverproperty('EngineEdition') = 5) and (sysconv(bit, d.status &amp; 0x00100000) = 1) then 'ON'\r\n             when (serverproperty('EngineEdition') = 5) and (sysconv(bit, d.status &amp; 0x00100000) = 0) then 'OFF'\r\n             else si.name end AS snapshot_isolation_state_desc,\t\t\r\n\t\tsysconv(bit, d.status &amp; 0x800000) AS is_read_committed_snapshot_on,\t\t-- DBR_READCOMMITTED_SNAPSHOT\r\n        case when (serverproperty('EngineEdition') = 5) \r\n\t         then case \r\n\t         \t\twhen sysconv(bit,(d.status &amp; 0x00000008)) = 1\r\n\t        \t \t\tthen cast(3 as tinyint)\r\n\t        \t  \twhen sysconv(bit,(d.status &amp; 0x00000004)) = 1\r\n\t        \t \t\tthen cast(2 as tinyint)\r\n\t        \t \telse\r\n\t        \t \t\tcast(1 as tinyint)\r\n\t          \t   end\t\r\n              else p.recovery_model \r\n        end AS recovery_model,\r\n\t\tcase when (serverproperty('EngineEdition') = 5) \r\n\t         then case \r\n\t         \t\twhen sysconv(bit,(d.status &amp; 0x00000008)) = 1\r\n\t        \t \t\tthen CONVERT(nvarchar(60), N'SIMPLE')\r\n\t        \t \twhen sysconv(bit,(d.status &amp; 0x00000004)) = 1\r\n\t        \t \t\tthen CONVERT(nvarchar(60), N'BULK_LOGGED')\r\n\t        \t \telse\r\n\t        \t \t\tCONVERT(nvarchar(60), N'FULL')\r\n\t        \t  end\t\r\n\t\t\t  else ro.name \r\n\t    end AS recovery_model_desc,              \r\n\t\tp.page_verify_option, pv.name AS page_verify_option_desc,\r\n\t\tsysconv(bit, d.status2 &amp; 0x1000000) AS is_auto_create_stats_on,\t\t\t-- DBR_AUTOCRTSTATS\r\n\t\tsysconv(bit, d.status2 &amp; 0x00400000) AS is_auto_create_stats_incremental_on,\t-- DBR_AUTOCRTSTATSINC\r\n\t\tsysconv(bit, d.status2 &amp; 0x40000000) AS is_auto_update_stats_on,\t\t-- DBR_AUTOUPDSTATS\r\n\t\tsysconv(bit, d.status2 &amp; 0x80000000) AS is_auto_update_stats_async_on,\t-- DBR_AUTOUPDSTATSASYNC\r\n\t\tsysconv(bit, d.status2 &amp; 0x4000) AS is_ansi_null_default_on,\t\t\t-- DBR_ANSINULLDFLT\r\n\t\tsysconv(bit, d.status2 &amp; 0x4000000) AS is_ansi_nulls_on,\t\t\t\t-- DBR_ANSINULLS\r\n\t\tsysconv(bit, d.status2 &amp; 0x2000) AS is_ansi_padding_on,\t\t\t\t\t-- DBR_ANSIPADDING\r\n\t\tsysconv(bit, d.status2 &amp; 0x10000000) AS is_ansi_warnings_on,\t\t\t-- DBR_ANSIWARNINGS\r\n\t\tsysconv(bit, d.status2 &amp; 0x1000) AS is_arithabort_on,\t\t\t\t\t-- DBR_ARITHABORT\r\n\t\tsysconv(bit, d.status2 &amp; 0x10000) AS is_concat_null_yields_null_on,\t\t-- DBR_CATNULL\r\n\t\tsysconv(bit, d.status2 &amp; 0x800) AS is_numeric_roundabort_on,\t\t\t-- DBR_NUMEABORT\r\n\t\tsysconv(bit, d.status2 &amp; 0x800000) AS is_quoted_identifier_on,\t\t\t-- DBR_QUOTEDIDENT\r\n\t\tsysconv(bit, d.status2 &amp; 0x20000) AS is_recursive_triggers_on,\t\t\t-- DBR_RECURTRIG\r\n\t\tsysconv(bit, d.status2 &amp; 0x2000000) AS is_cursor_close_on_commit_on,\t-- DBR_CURSCLOSEONCOM\r\n\t\tsysconv(bit, d.status2 &amp; 0x100000) AS is_local_cursor_default,\t\t\t-- DBR_DEFLOCALCURS\r\n\t\tsysconv(bit, d.status2 &amp; 0x20000000) AS is_fulltext_enabled,\t\t\t-- DBR_FTENABLED\r\n\t\tsysconv(bit, d.status2 &amp; 0x200) AS is_trustworthy_on,\t\t\t\t-- DBR_TRUSTWORTHY\r\n\t\tsysconv(bit, d.status2 &amp; 0x400) AS is_db_chaining_on,\t\t\t\t-- DBR_DBCHAINING\r\n\t\tsysconv(bit, d.status2 &amp; 0x08000000) AS is_parameterization_forced,\t-- DBR_UNIVERSALAUTOPARAM\r\n\t\tsysconv(bit, d.status2 &amp; 64) AS is_master_key_encrypted_by_server,\t-- DBR_MASTKEY\r\n\t\tsysconv(bit, d.status2 &amp; 0x00000010) AS is_query_store_on,\t\t\t-- DBR_QDSENABLED\r\n\t\tsysconv(bit, d.category &amp; 1) AS is_published,\r\n\t\tsysconv(bit, d.category &amp; 2) AS is_subscribed,\r\n\t\tsysconv(bit, d.category &amp; 4) AS is_merge_published,\r\n\t\tsysconv(bit, d.category &amp; 16) AS is_distributor,\r\n\t\tsysconv(bit, d.category &amp; 32) AS is_sync_with_backup,\r\n\t\td.svcbrkrguid AS service_broker_guid,\r\n\t\tsysconv(bit, case when d.scope = 0 then 1 else 0 end) AS is_broker_enabled,\r\n\t\tp.log_reuse_wait, lr.name AS log_reuse_wait_desc,\r\n\t\tsysconv(bit, d.status2 &amp; 4) AS is_date_correlation_on, \t\t-- DBR_DATECORRELATIONOPT\r\n\t\tsysconv(bit, d.category &amp; 64) AS is_cdc_enabled,\r\n\t\tcase \r\n\t\t\twhen (d.id = db_id('tempdb')) then sysconv(bit, p.is_db_encrypted)\r\n\t\t\telse sysconv(bit, d.status2 &amp; 0x100)\t\t\t\t\t-- DBR_ENCRYPTION\r\n\t\t\tend AS is_encrypted,\r\n\t\tconvert(bit, d.status2 &amp; 0x8) AS is_honor_broker_priority_on,\t\t\t\t-- DBR_HONORBRKPRI\r\n\t\tsgr.guid AS replica_id,\r\n\t\tsgr2.guid AS group_database_id,\r\n\t\tssr.indepid AS resource_pool_id,\r\n\t\tdefault_language_lcid = case when ((d.status2 &amp; 0x80000)=0x80000 AND p.containment = 1) then convert(smallint, p.default_language) else null end,\r\n\t\tdefault_language_name = case when ((d.status2 &amp; 0x80000)=0x80000 AND p.containment = 1) then convert(sysname, sld.name) else null end,\r\n\t\tdefault_fulltext_language_lcid = case when ((d.status2 &amp; 0x80000)=0x80000 AND p.containment = 1) then convert(int, p.default_fulltext_language) else null end,\r\n\t\tdefault_fulltext_language_name = case when ((d.status2 &amp; 0x80000)=0x80000 AND p.containment = 1) then convert(sysname, slft.name) else null end,\r\n\t\tis_nested_triggers_on = case when ((d.status2 &amp; 0x80000)=0x80000 AND p.containment = 1) then convert(bit, p.allow_nested_triggers) else null end,\r\n\t\tis_transform_noise_words_on = case when ((d.status2 &amp; 0x80000)=0x80000 AND p.containment = 1) then convert(bit, p.transform_noise_words) else null end,\r\n\t\ttwo_digit_year_cutoff = case when ((d.status2 &amp; 0x80000)=0x80000 AND p.containment = 1) then convert(smallint, p.two_digit_year_cutoff) else null end,\r\n\t\tcontainment = sysconv(tinyint, (d.status2 &amp; 0x80000)/0x80000), -- DBR_IS_CDB\r\n\t\tcontainment_desc = convert(nvarchar(60), cdb.name),\r\n\t\tp.recovery_seconds AS target_recovery_time_in_seconds,\r\n\t\tp.delayed_durability,\r\n\t\tcase when (p.delayed_durability = 0) then CAST('DISABLED' AS nvarchar(60)) -- LCOPT_DISABLED\r\n\t\t\t when (p.delayed_durability = 1) then CAST('ALLOWED' AS nvarchar(60)) -- LCOPT_ALLOWED\r\n\t\t\t when (p.delayed_durability = 2) then CAST('FORCED' AS nvarchar(60)) -- LCOPT_FORCED\r\n\t\t\t else NULL\r\n\t\t\t end AS delayed_durability_desc,\r\n\t\tconvert(bit, d.status2 &amp; 0x80) AS \r\n\t\tis_memory_optimized_elevate_to_snapshot_on,\t\t\t\t-- DBR_HKELEVATETOSNAPSHOT\r\n\t\tsysconv(bit, d.category &amp; 0x100) AS is_federation_member,\r\n\t\tconvert(bit, isnull(rda.value, 0)) AS is_remote_data_archive_enabled,\r\n\t\tconvert(bit, p.is_mixed_page_allocation_on) AS is_mixed_page_allocation_on\r\n\tFROM sys.sysdbreg d OUTER APPLY OpenRowset(TABLE DBPROP, (case when serverproperty('EngineEdition') = 5 then DB_ID() else d.id end)) p\r\n\tLEFT JOIN sys.syssingleobjrefs r ON r.depid = d.id AND r.class = 96 AND r.depsubid = 0\t-- SRC_VIEWPOINTDB\r\n\tLEFT JOIN sys.syspalvalues st ON st.class = 'DBST' AND st.value = p.state\r\n\tLEFT JOIN sys.syspalvalues ua ON ua.class = 'DBUA' AND ua.value = p.user_access\r\n\tLEFT JOIN sys.syspalvalues si ON si.class = 'DBSI' AND si.value = p.snapshot_isolation_state\r\n\tLEFT JOIN sys.syspalvalues ro ON ro.class = 'DBRO' AND ro.value = p.recovery_model\r\n\tLEFT JOIN sys.syspalvalues pv ON pv.class = 'DBPV' AND pv.value = p.page_verify_option\r\n\tLEFT JOIN sys.syspalvalues lr ON lr.class = 'LRWT' AND lr.value = p.log_reuse_wait\r\n\tLEFT JOIN sys.syssingleobjrefs agdb ON agdb.depid = d.id AND agdb.class = 104 AND agdb.depsubid = 0\t-- SRC_AVAILABILITYGROUP \r\n\tLEFT JOIN master.sys.syssingleobjrefs ssr ON ssr.class = 108 AND ssr.depid = d.id -- SRC_RG_DB_TO_POOL\r\n\tLEFT JOIN master.sys.sysclsobjs  ag ON ag.id = agdb.indepid AND ag.class = 67 -- SOC_AVAILABILITY_GROUP\r\n\tLEFT JOIN master.sys.sysguidrefs sgr ON sgr.class = 8 AND sgr.id = ag.id AND sgr.subid = 1 -- GRC_AGGUID / AGGUID_REPLICA_ID\r\n\tLEFT JOIN master.sys.sysguidrefs sgr2 ON sgr2.class = 9 AND sgr2.id = ag.id AND sgr2.subid = d.id -- GRC_AGDBGUID\r\n\tLEFT JOIN sys.syspalvalues cdb ON cdb.class = 'DCDB' AND cdb.value = CASE WHEN (d.status2 &amp; 0x80000)=0x80000 THEN 1 ELSE 0 END\r\n\tLEFT JOIN sys.syslanguages sld ON sld.lcid = p.default_language\r\n\tLEFT JOIN sys.fulltext_languages slft ON slft.lcid = p.default_fulltext_language\r\n\tLEFT JOIN sys.sysobjvalues coll ON coll.valclass = 102 AND coll.subobjid = 0 AND coll.objid = d.id\t-- SVC_DATACOLLATION\r\n\tLEFT JOIN sys.sysobjvalues rda ON rda.valclass = 116 AND rda.objid = d.id AND rda.valnum = 0 -- SVC_STRETCH &amp; STRETCH_DB_IS_STRETCHED\r\n\tWHERE d.id &lt; 0x7fff\r\n\t\tAND has_access('DB', (case when serverproperty('EngineEdition') = 5 then DB_ID() else d.id end)) = 1\r\n</td></tr><tr><td>3724</td><td>1</td><td>3</td><td>24576</td><td>0x000001BB517BE060</td><td>Parse Tree</td><td>View</td><td>0x0500FF7F31798AF150E17B51BB01000001000000000000000000000000000000000000000000000000000000</td><td>2</td><td>NULL</td><td>32767</td><td>-242583247</td><td>0</td><td>0</td><td>CREATE VIEW sys.fulltext_languages AS\r\n\tSELECT lcid, name \r\n\tFROM OpenRowSet(TABLE SYSFULLTEXTLANGUAGES)\r\n</td></tr><tr><td>2614</td><td>1</td><td>3</td><td>114688</td><td>0x000001BB3897A060</td><td>Parse Tree</td><td>View</td><td>0x0500FF7F3EFFFFFF50A19738BB01000001000000000000000000000000000000000000000000000000000000</td><td>2</td><td>NULL</td><td>32767</td><td>-194</td><td>0</td><td>0</td><td>CREATE VIEW sys.syslanguages AS\r\n\tSELECT langid, dateformat, datefirst,\r\n\t\tconvert(int, 0) AS upgrade,\r\n\t\tname, alias,\r\n\t\tconvert(nvarchar(372), month1+N',' COLLATE catalog_default +month2+N','+month3+N','+month4+N','+month5+N','+month6\r\n\t\t\t+N','+month7+N','+month8+N','+month9+N','+month10+N','+month11+N','+month12) AS months,\r\n\t\tconvert(nvarchar(132), shortmonth1+N',' COLLATE catalog_default +shortmonth2+N','+shortmonth3+N','+shortmonth4+N','+shortmonth5+N','+shortmonth6\r\n\t\t\t+N','+shortmonth7+N','+shortmonth8+N','+shortmonth9+N','+shortmonth10+N','+shortmonth11+N','+shortmonth12) AS shortmonths,\r\n\t\tconvert(nvarchar(217), day2+N',' COLLATE catalog_default +day3+N','+day4+N','+day5+N','+day6+N','+day7+N','+day1) AS days,\r\n\t\tlcid, msglangid\r\n\tFROM OpenRowset(TABLE SYSLANG)\r\n</td></tr><tr><td>3666</td><td>1</td><td>6</td><td>180224</td><td>0x000001BB34420060</td><td>Parse Tree</td><td>View</td><td>0x0500FF7F99FFFFFF50014234BB01000001000000000000000000000000000000000000000000000000000000</td><td>2</td><td>NULL</td><td>32767</td><td>-103</td><td>0</td><td>0</td><td>CREATE VIEW sys.all_columns AS\r\n SELECT * FROM sys.columns</td></tr><tr><td>369</td><td>1</td><td>4</td><td>98304</td><td>0x000001BB35240060</td><td>Parse Tree</td><td>View</td><td>0x0500FF7F78FEFFFF50012435BB01000001000000000000000000000000000000000000000000000000000000</td><td>2</td><td>NULL</td><td>32767</td><td>-392</td><td>0</td><td>0</td><td>CREATE VIEW sys.system_columns AS\r\n\tSELECT object_id, name collate catalog_default AS name,\r\n\t\tcolumn_id, system_type_id, user_type_id,\r\n\t\tmax_length, precision, scale,\r\n\t\tconvert(sysname, ColumnPropertyEx(object_id, name, 'collation')) AS collation_name,\r\n\t\tis_nullable, is_ansi_padded, is_rowguidcol,\r\n\t\tis_identity, is_computed, is_filestream,\r\n\t\tis_replicated, is_non_sql_subscribed,\r\n\t\tis_merge_published, is_dts_replicated,\r\n\t\tis_xml_document, xml_collection_id,\r\n\t\tdefault_object_id, rule_object_id,\r\n\t\tis_sparse, is_column_set,\r\n\t\tgenerated_always_type,\r\n\t\tgenerated_always_type_desc,\r\n\t\tencryption_type, encryption_type_desc, \r\n\t\tencryption_algorithm_name, column_encryption_key_id,\r\n\t\tcolumn_encryption_key_database_name collate catalog_default as column_encryption_key_database_name,\r\n\t\tis_hidden,\r\n\t\tis_masked\r\n\tFROM sys.system_columns$\r\n</td></tr><tr><td>760</td><td>1</td><td>2</td><td>155648</td><td>0x000001BB35232060</td><td>Parse Tree</td><td>View</td><td>0x0500FF7F6BFFFFFF50212335BB01000001000000000000000000000000000000000000000000000000000000</td><td>2</td><td>NULL</td><td>32767</td><td>-149</td><td>0</td><td>0</td><td>CREATE VIEW sys.system_columns$ AS\r\n\tSELECT id AS object_id, name, colid AS column_id,\r\n\t\txtype AS system_type_id, utype AS user_type_id,\r\n\t\tlength AS max_length, prec AS precision, scale,\r\n\t\tsysconv(bit, 1 - (status &amp; 1)) AS is_nullable,\r\n\t\tsysconv(bit, status &amp; 2) AS is_ansi_padded,\r\n\t\tsysconv(bit, 0) AS is_rowguidcol,\r\n\t\tsysconv(bit, 0) AS is_identity,\r\n\t\tsysconv(bit, 0) AS is_computed,\r\n\t\tsysconv(bit, 0) AS is_filestream,\r\n\t\tsysconv(bit, 0) AS is_replicated,\r\n\t\tsysconv(bit, 0) AS is_non_sql_subscribed,\r\n\t\tsysconv(bit, 0) AS is_merge_published,\r\n\t\tsysconv(bit, 0) AS is_dts_replicated,\r\n\t\tsysconv(bit, 0) AS is_xml_document,\r\n\t\tsysconv(int, 0) AS xml_collection_id,\r\n\t\tsysconv(int, 0) AS default_object_id,\r\n\t\tsysconv(int, 0) AS rule_object_id,\r\n\t\tsysconv(bit, 0) AS is_sparse,\r\n\t\tsysconv(bit, 0) AS is_column_set,\r\n\t\tconvert(tinyint, 0) AS generated_always_type,\r\n\t\tconvert(nvarchar(60), 'NOT_APPLICABLE') COLLATE Latin1_General_CI_AS_KS_WS AS generated_always_type_desc,\r\n\t\tconvert(int, NULL) as encryption_type,\r\n\t\tconvert(nvarchar(64), NULL) COLLATE Latin1_General_CI_AS_KS_WS as encryption_type_desc,\r\n\t\tconvert(sysname, NULL) COLLATE Latin1_General_CI_AS_KS_WS as encryption_algorithm_name,\r\n\t\tconvert(int, NULL) as column_encryption_key_id,\r\n\t\tconvert(sysname, NULL) as column_encryption_key_database_name,\r\n\t\tsysconv(bit, 0) AS is_hidden,\r\n\t\tsysconv(bit, 0) AS is_masked\r\n\tFROM sys.syscolpars\r\n\tWHERE number = 0 AND (status &amp; 4096) = 4096\r\n\t\t  AND (serverproperty('EngineEdition') != 5 OR (status &amp; 0x08000000) != 0)\r\n</td></tr><tr><td>1128</td><td>1</td><td>4</td><td>458752</td><td>0x000001BB34472060</td><td>Parse Tree</td><td>View</td><td>0x0500FF7F79FEFFFF50214734BB01000001000000000000000000000000000000000000000000000000000000</td><td>2</td><td>NULL</td><td>32767</td><td>-391</td><td>0</td><td>0</td><td>CREATE VIEW sys.columns AS\r\n\tSELECT c.id AS object_id,\r\n\t\tc.name, c.colid AS column_id,\r\n\t\tc.xtype AS system_type_id,\r\n\t\tc.utype AS user_type_id,\r\n\t\tc.length AS max_length,\r\n\t\tc.prec AS precision, c.scale,\r\n\t\tconvert(sysname, CollationPropertyFromId(c.collationid, 'name')) AS collation_name,\r\n\t\tsysconv(bit, 1 - (c.status &amp; 1)) AS is_nullable,\t\t-- CPM_NOTNULL\r\n\t\tsysconv(bit, c.status &amp; 2) AS is_ansi_padded,\t\t-- CPM_NOTRIM\r\n\t\tsysconv(bit, c.status &amp; 8) AS is_rowguidcol,\t\t\t-- CPM_ROWGUIDCOL\r\n\t\tsysconv(bit, c.status &amp; 4) AS is_identity,\t\t\t-- CPM_IDENTCOL\r\n\t\tsysconv(bit, c.status &amp; 16) AS is_computed,\t\t\t-- CPM_COMPUTED\r\n\t\tsysconv(bit, c.status &amp; 32) AS is_filestream,\t\t\t-- CPM_FILESTREAM\r\n\t\tsysconv(bit, c.status &amp; 0x020000) AS is_replicated,\t\t\t-- CPM_REPLICAT\r\n\t\tsysconv(bit, c.status &amp; 0x040000) AS is_non_sql_subscribed,\t-- CPM_NONSQSSUB\r\n\t\tsysconv(bit, c.status &amp; 0x080000) AS is_merge_published,\t-- CPM_MERGEREPL\r\n\t\tsysconv(bit, c.status &amp; 0x100000) AS is_dts_replicated,\t-- CPM_REPLDTS\r\n\t\tsysconv(bit, c.status &amp; 2048) AS is_xml_document,\t\t-- CPM_XML_DOC \r\n\t\tc.xmlns AS xml_collection_id,\r\n\t\tc.dflt AS default_object_id,\r\n\t\tc.chk AS rule_object_id,\r\n\t\tsysconv(bit, c.status &amp; 0x1000000) AS is_sparse,\t-- CPM_SPARSE\r\n\t\tsysconv(bit, c.status &amp; 0x2000000) AS is_column_set,\t-- CPM_SPARSECOLUMNSET\r\n\t\tconvert(tinyint, case when c.status &amp; 0x10000000 = 0x10000000 then 1 when c.status &amp; 0x20000000 = 0x20000000 then 2 when sov3.value &gt;= 3 AND sov3.value &lt;= 6 then sov3.value else 0 end) as generated_always_type, -- CPM_TEMPORALSYSSTARTCOLUMN CPM_TEMPORALSYSENDCOLUMN\r\n\t\tconvert(nvarchar(60), case when c.status &amp; 0x10000000 = 0x10000000 then 'AS_ROW_START' when c.status &amp; 0x20000000 = 0x20000000 then 'AS_ROW_END' when sov3.value = 3 then 'AS_SUSER_SID_START' when sov3.value = 4 then 'AS_SUSER_SID_END' when sov3.value = 5 then 'AS_SUSER_SNAME_START' when sov3.value = 6 then 'AS_SUSER_SNAME_END' else 'NOT_APPLICABLE' end) collate Latin1_General_CI_AS_KS_WS as generated_always_type_desc, -- These _DESC columns should always be the fixed latin collation. Reason is that unlike other columns in system tables that can change depending on the collation setting of the database/instance, these are always fixed on all installations of SQL Server.\r\n\t\tconvert(int, (convert(bigint, sov.value) / 0x100) % 0x100) as encryption_type,\r\n\t\tconvert(nvarchar(64), v1.name) as encryption_type_desc,\r\n\t\tconvert(sysname, v2.name) as encryption_algorithm_name,\r\n\t\tsor.indepid as column_encryption_key_id,\r\n\t\tconvert(sysname, sov2.value) collate catalog_default as column_encryption_key_database_name,\r\n\t\tsysconv(bit, c.status &amp; 0x2000) AS is_hidden,\t\t-- CPM_HIDDEN\r\n\t\tsysconv(bit, c.status &amp; 0x40000000) AS is_masked\t\t\t-- CPM_DATAMASKED\r\n\tFROM sys.syscolpars c\r\n\tLEFT JOIN sys.sysobjvalues sov ON sov.valclass = 115 /*SVC_COL_ENCRYPTION_MD*/ and sov.objid = c.id and sov.subobjid = c.colid and sov.valnum = 0 -- TYPE_AND_ALGORITHM\r\n\tLEFT JOIN sys.sysobjvalues sov2 ON sov2.valclass = 115 /*SVC_COL_ENCRYPTION_MD*/ and sov2.objid = c.id and sov2.subobjid = c.colid and sov2.valnum = 2 -- CEK_DATABASE_NAME\r\n\tLEFT JOIN sys.sysobjvalues sov3 ON sov3.valclass = 119 /*SVC_GENERATED_ALWAYS_COLUMN_TYPE*/ and sov3.objid = c.id and sov3.subobjid = c.colid\r\n\tLEFT JOIN sys.syssingleobjrefs sor ON sor.class = 113 /*SRC_COLUMN_TO_COL_ENCRYPTION_KEY*/ and sov.objid = sor.depid and sov.subobjid = sor.depsubid\r\n\tLEFT JOIN sys.syspalvalues v1 ON v1.class = 'CET' AND v1.value = convert(int, (convert(bigint, sov.value) / 0x100) % 0x100)\r\n\tLEFT JOIN sys.syspalvalues v2 ON v2.class = 'CEA' AND v2.value = convert(int, convert(bigint, sov.value) % 0x100)\r\n\tWHERE number = 0 AND has_access('CO', c.id) = 1\r\n</td></tr><tr><td>2355</td><td>1</td><td>4</td><td>57344</td><td>0x000001BB72D6C060</td><td>Parse Tree</td><td>View</td><td>0x0500FF7FC7B6CCDA50C1D672BB01000001000000000000000000000000000000000000000000000000000000</td><td>1</td><td>NULL</td><td>32767</td><td>-624118073</td><td>0</td><td>0</td><td>CREATE VIEW sys.dm_db_xtp_memory_consumers\r\nAS\r\n\tSELECT\r\n\tmemory_consumer_id,\r\n\tmemory_consumer_type,\r\n\tmemory_consumer_type_desc,\r\n\tmemory_consumer_desc,\r\n\tobject_id,\r\n\txtp_object_id,\r\n\tindex_id,\r\n\tallocated_bytes,\r\n\tused_bytes,\r\n\tallocation_count,\r\n\tpartition_count,\r\n\tsizeclass_count,\r\n\tmin_sizeclass,\r\n\tmax_sizeclass,\r\n\tmemory_consumer_address\r\n\tFROM sys.dm_xtp_consumer_memory_usage\r\n\tWHERE database_id = db_id()\r\n</td></tr><tr><td>346</td><td>1</td><td>3</td><td>49152</td><td>0x000001BB72D60060</td><td>Parse Tree</td><td>View</td><td>0x0500FF7FDF58A6D85001D672BB01000001000000000000000000000000000000000000000000000000000000</td><td>1</td><td>NULL</td><td>32767</td><td>-660186913</td><td>0</td><td>0</td><td>CREATE VIEW sys.dm_xtp_consumer_memory_usage\r\nAS\r\n\tSELECT\r\n\t*\r\n\tFROM OpenRowset(TABLE XTP_MM_CONSUMER)\r\n</td></tr><tr><td>338</td><td>1</td><td>2</td><td>311296</td><td>0x000001BB51DE8060</td><td>Parse Tree</td><td>View</td><td>0x0500FF7FAFDCC9E15081DE51BB01000001000000000000000000000000000000000000000000000000000000</td><td>1</td><td>NULL</td><td>32767</td><td>-506864465</td><td>0</td><td>0</td><td>CREATE VIEW sys.objects$ AS\r\n\tSELECT\r\n\t\to.name,\r\n\t\to.id AS object_id,\r\n\t\tr.indepid AS principal_id,\r\n\t\to.nsid AS schema_id,\r\n\t\to.pid AS parent_object_id,\r\n\t\tconvert(char(2), case o.type when 'ET' then 'U' else o.type end) AS type,\r\n\t\tn.name AS type_desc,\r\n\t\to.intprop AS property,\r\n\t\to.created AS create_date,\r\n\t\to.modified AS modify_date,\r\n\t\tsysconv(bit, o.status &amp; 1) AS is_ms_shipped,\t\t\t\t-- OBJALL_MSSHIPPED\r\n\t\tsysconv(bit, o.status &amp; 2) AS is_auto_dropped,\t\t\t\t-- OBJALL_AUTODROP\r\n\t\tsysconv(bit, o.status &amp; 4) AS is_system_named,\t\t\t-- OBJALL_SYSNAMED\r\n\t\tsysconv(bit, o.status &amp; 16) AS is_published,\t\t\t\t-- OBJALL_RPL_PUBLISHED\r\n\t\tsysconv(bit, o.status &amp; 64) AS is_schema_published,\t\t\t-- OBJALL_RPL_PUB_SCHONLY\r\n\t\tconvert(bit, o.status &amp; 0x100) AS is_cycling,\t\t\t\t-- OBJSEQ_IS_CYCLING\r\n\t\tsysconv(bit, o.status &amp; 256) AS lock_on_bulk_load,\t\t\t-- OBJTAB_BCPTABLOCK\r\n\t\tsysconv(bit, o.status &amp; 256) AS is_disabled,\t\t\t\t-- OBJCST_DISABLED\r\n\t\tsysconv(bit, o.status &amp; 256) AS is_auto_executed,\t\t\t-- OBJPRC_STARTUP\r\n\t\tsysconv(bit, o.status &amp; 256) AS is_activation_enabled,\t\t-- OBJSQ_ACTIVATIONON\r\n\t\tsysconv(bit, o.status &amp; 256) AS is_enabled,\t\t\t\t\t-- OBJSECPOL_ENABLED\r\n\t\tsysconv(bit, o.status &amp; 512) AS has_opaque_metadata,\t\t-- OBJVW_OPAQUEBMM\r\n\t\tsysconv(bit, o.status &amp; 512) AS is_not_for_replication,\t\t-- OBJCST_NOTFORREPL, OBJSECPOL_NOTFORREPL\r\n\t\tsysconv(bit, o.status &amp; 512) AS is_receive_enabled,\t\t\t-- OBJSQ_RECEIVEON\r\n\t\tconvert(bit, o.status &amp; 0x200) AS is_cached,\t\t\t\t-- OBJSEQ_IS_CACHED\r\n\t\tsysconv(bit, o.status &amp; 1024) AS is_not_trusted,\t\t\t-- OBJCST_NOTRUST\r\n\t\tsysconv(bit, o.status &amp; 1024) AS is_enqueue_enabled,\t\t-- OBJSQ_ENQUEUEON\r\n\t\tsysconv(bit, o.status &amp; 1024) AS with_check_option,\t\t-- OBJVW_WITHCHECK\r\n\t\tsysconv(bit, o.status &amp; 2048) AS is_retention_enabled,\t\t-- OBJSQ_RETENTIONON\r\n\t\tsysconv(bit, o.status &amp; 2048) AS has_unchecked_assembly_data,\t-- OBJTAB_HAS_UNCHKED_ASM_DATA\r\n\t\tconvert(tinyint, (o.status/4096) &amp; 3) AS update_referential_action,\t\t-- ERefAct/OBJREF_UPDACTMASK\r\n\t\tconvert(tinyint, (o.status/16384) &amp; 3) AS delete_referential_action,\t-- ERefAct/OBJREF_DELACTMASK\r\n\t\tsysconv(bit, o.status &amp; 0x1000) AS is_replicated,\t\t\t-- OBJTAB_REPLICATE\r\n\t\tsysconv(bit, o.status &amp; 0x1000) AS is_execution_replicated,\t-- OBJPRC_PROC_EXEC\r\n\t\tsysconv(bit, o.status &amp; 0x2000) AS has_replication_filter,\t\t-- OBJTAB_HAS_FILT_PROC\r\n\t\tsysconv(bit, o.status &amp; 0x2000) AS is_repl_serializable_only,\t-- OBJPRC_PROC_SER_ONLY\r\n\t\tsysconv(bit, o.status &amp; 0x4000) AS is_merge_published,\t\t\t-- OBJTAB_MERGE_PUBL\r\n\t\tsysconv(bit, o.status &amp; 0x4000) AS skips_repl_constraints,\t\t-- OBJPRC_NO_REPL_CNST\r\n\t\tsysconv(bit, o.status &amp; 0x8000) AS is_sync_tran_subscribed,\t\t-- OBJTAB_SYNCTRAN_SUB\r\n\t\tsysconv(bit, o.status &amp; 0x40000) AS uses_ansi_nulls,\t\t\t-- OBJMOD_ANSINULLS\r\n\t\tsysconv(bit, o.status &amp; 0x200000) AS null_on_null_input, \t\t-- OBJMOD_NULLONNULL\r\n\t\tsysconv(bit, o.status &amp; 0x100000) AS uses_database_collation,\t-- OBJMOD_ANSINULLS\r\n\t\tsysconv(bit, o.status &amp; 0x01000000) AS is_tracked_by_cdc,\t\t\t-- OBJTAB_CDC_TRACKED\r\n\t\tsysconv(bit, o.status &amp; 0x02000000) AS large_value_types_out_of_row,\t-- OBJTAB_LARGETYPE_OUTOFROW\r\n\t\tsysconv(tinyint, (o.status &amp; 0x30000000)/0x10000000) AS lock_escalation_option,\r\n\t\tsysconv(bit, o.status &amp; 0x04000000) AS is_poison_message_handling_enabled,\t-- OBJSQ_POISONMSGON\r\n\t\tsysconv(bit, o.status2 &amp; 0x00000002) AS is_filetable,\t-- OBJTAB2_FILETABLE\r\n\t\tsysconv(bit, o.status2 &amp; 0x00000020) AS is_catalog_hidden,\t-- OBJALL2_CATALOG_HIDDEN\r\n\t\tsysconv(bit, o.status2 &amp; 0x00000008) AS is_memory_optimized,\t-- OBJTAB2_HEKATON\r\n\t\tsysconv(tinyint, (o.status2 &amp; 0x40)/0x40) AS durability_option,\t--OBJTAB2_DURABILITY_SCHEMA_ONLY\r\n\t\tsysconv(bit, case o.type when 'ET' then 1 else 0 end) AS is_external,\r\n\t\t~(sysconv(bit, o.status &amp; 1024)) AS is_security_policy_schema_bound\t-- OBJSECPOL_NOTSCHEMABOUND\r\n\tFROM sys.sysschobjs o\r\n\tLEFT JOIN sys.syssingleobjrefs r ON r.depid = o.id AND r.class = 97 AND r.depsubid = 0\t-- SRC_OBJOWNER\r\n\tLEFT JOIN sys.syspalnames n ON n.class = 'OBTY' AND n.value = o.type\r\n\tWHERE o.nsclass = 0 -- x_eonc_Standard\r\n\t\tAND o.pclass = 1 -- x_eunc_Object\r\n\t\tAND has_access('CO', o.id) = 1\r\n</td></tr><tr><td>110</td><td>1</td><td>1</td><td>8192</td><td>0x000001BB51C8C060</td><td>Extended Proc</td><td>Proc</td><td>0x0500FF7F868E46C450C1C851BB01000001000000000000000000000000000000000000000000000000000000</td><td>1</td><td>NULL</td><td>32767</td><td>-1002008954</td><td>1</td><td>0</td><td>sp_xtp_flush_temporal_history_internal</td></tr></table>"
                    },
                    "metadata": {}
                }
            ],
            "execution_count": 9
        },
        {
            "cell_type": "markdown",
            "source": "https://explainextended.com/2009/07/16/inner-join-vs-cross-apply/\r\n\r\nhttps://www.mssqltips.com/sqlservertip/1958/sql-server-cross-apply-and-outer-apply/\r\n\r\nhttps://www.codeproject.com/Articles/607246/Making-OUTER-and-CROSS-APPLY-work-for-you\r\nhttps://www.red-gate.com/simple-talk/sql/t-sql-programming/sql-server-apply-basics/\r\n",
            "metadata": {}
        },
        {
            "cell_type": "markdown",
            "source": "![sad panda](./GrumpyCat_Not_Impressed.jpg \"Figure 8.2 - the section of the query returning specific Grant Classifications\")</br>\r\n# **Grumpy Cat is not impressed**\r\n# **Are you impressed??????**",
            "metadata": {}
        }
    ]
}