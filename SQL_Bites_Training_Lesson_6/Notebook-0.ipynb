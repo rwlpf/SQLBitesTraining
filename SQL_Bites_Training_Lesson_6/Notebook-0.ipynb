{
    "metadata": {
        "kernelspec": {
            "name": "SQL",
            "display_name": "SQL",
            "language": "sql"
        },
        "language_info": {
            "name": "sql",
            "version": ""
        }
    },
    "nbformat_minor": 2,
    "nbformat": 4,
    "cells": [
        {
            "cell_type": "markdown",
            "source": "# Using CROSS APPLY to optimize joins on BETWEEN conditions\r\nhttps://visweshkk.blogspot.com/2014/06/using-cross-apply-to-optimize-joins-on.html\r\n\r\nThe slow query \r\n\r\nThe following tables store one-minute commercials for every minute for one year, and customer calls, one call per minute, for the same year. The scripts that populate tables with test data are provided at the end of this post. Here are the tables:\r\n\r\nLets create the tables",
            "metadata": {}
        },
        {
            "cell_type": "code",
            "source": "if exists (select * from sys.objects where name = 'Commercials' and type = 'u')\r\n    drop table dbo.Commercials\r\n\r\nCREATE TABLE dbo.Commercials\r\n(\r\n    StartedAt DATETIME NOT NULL\r\n        CONSTRAINT PK_Commercials PRIMARY KEY\r\n  , EndedAt DATETIME NOT NULL\r\n  , CommercialName VARCHAR(30) NOT NULL\r\n);\r\nGO\r\n\r\nif exists (select * from sys.objects where name = 'Calls' and type = 'u')\r\n    drop table dbo.Calls\r\n\r\nCREATE TABLE dbo.Calls\r\n(\r\n    CallID INT\r\n        CONSTRAINT PK_Calls NOT NULL PRIMARY KEY\r\n  , AirTime DATETIME NOT NULL\r\n  , SomeInfo CHAR(300)\r\n);\r\nGO\r\n\r\nCREATE UNIQUE INDEX Calls_AirTime\r\nON dbo.Calls (AirTime)\r\nINCLUDE (SomeInfo);\r\nGO",
            "metadata": {},
            "outputs": [
                {
                    "output_type": "display_data",
                    "data": {
                        "text/html": "Commands completed successfully."
                    },
                    "metadata": {}
                },
                {
                    "output_type": "display_data",
                    "data": {
                        "text/html": "Total execution time: 00:00:00.0110448"
                    },
                    "metadata": {}
                },
                {
                    "output_type": "display_data",
                    "data": {
                        "text/html": "Commands completed successfully."
                    },
                    "metadata": {}
                },
                {
                    "output_type": "display_data",
                    "data": {
                        "text/html": "Total execution time: 00:00:00.0122618"
                    },
                    "metadata": {}
                },
                {
                    "output_type": "display_data",
                    "data": {
                        "text/html": "Commands completed successfully."
                    },
                    "metadata": {}
                },
                {
                    "output_type": "display_data",
                    "data": {
                        "text/html": "Total execution time: 00:00:00.0276397"
                    },
                    "metadata": {}
                }
            ],
            "execution_count": 25
        },
        {
            "cell_type": "markdown",
            "source": "## Setting up tables and test data",
            "metadata": {}
        },
        {
            "cell_type": "code",
            "source": "\r\nif exists (select * from sys.objects where name = 'Numbers' and type = 'u')\r\n    drop table dbo.Numbers\r\n\r\n\r\nCREATE TABLE dbo.Numbers\r\n(\r\n    n INT NOT NULL PRIMARY KEY\r\n);\r\nGO\r\n\r\nDECLARE @i INT;\r\nSET @i = 1;\r\nINSERT INTO dbo.Numbers\r\n(\r\n    n\r\n)\r\nSELECT 1;\r\nWHILE @i < 1024000\r\nBEGIN\r\n    INSERT INTO dbo.Numbers\r\n    (\r\n        n\r\n    )\r\n    SELECT n + @i\r\n    FROM dbo.Numbers;\r\n    SET @i = @i * 2;\r\nEND;\r\nGO\r\nINSERT INTO dbo.Commercials\r\n(\r\n    StartedAt\r\n  , EndedAt\r\n  , CommercialName\r\n)\r\nSELECT DATEADD(MINUTE, n - 1, '20080101')\r\n     , DATEADD(MINUTE, n, '20080101')\r\n     , 'Show #' + CAST(n AS VARCHAR(6))\r\nFROM dbo.Numbers\r\nWHERE n <= 24 * 365 * 60;\r\nGO\r\nINSERT INTO dbo.Calls\r\n(\r\n    CallID\r\n  , AirTime\r\n  , SomeInfo\r\n)\r\nSELECT n\r\n     , DATEADD(MINUTE, n - 1, '20080101')\r\n     , 'Call during Commercial #' + CAST(n AS VARCHAR(6))\r\nFROM dbo.Numbers\r\nWHERE n <= 24 * 365 * 60;\r\nGO",
            "metadata": {},
            "outputs": [
                {
                    "output_type": "display_data",
                    "data": {
                        "text/html": "Commands completed successfully."
                    },
                    "metadata": {}
                },
                {
                    "output_type": "display_data",
                    "data": {
                        "text/html": "Total execution time: 00:00:00.0094968"
                    },
                    "metadata": {}
                },
                {
                    "output_type": "display_data",
                    "data": {
                        "text/html": "(1 row affected)"
                    },
                    "metadata": {}
                },
                {
                    "output_type": "display_data",
                    "data": {
                        "text/html": "(1 row affected)"
                    },
                    "metadata": {}
                },
                {
                    "output_type": "display_data",
                    "data": {
                        "text/html": "(2 rows affected)"
                    },
                    "metadata": {}
                },
                {
                    "output_type": "display_data",
                    "data": {
                        "text/html": "(4 rows affected)"
                    },
                    "metadata": {}
                },
                {
                    "output_type": "display_data",
                    "data": {
                        "text/html": "(8 rows affected)"
                    },
                    "metadata": {}
                },
                {
                    "output_type": "display_data",
                    "data": {
                        "text/html": "(16 rows affected)"
                    },
                    "metadata": {}
                },
                {
                    "output_type": "display_data",
                    "data": {
                        "text/html": "(32 rows affected)"
                    },
                    "metadata": {}
                },
                {
                    "output_type": "display_data",
                    "data": {
                        "text/html": "(64 rows affected)"
                    },
                    "metadata": {}
                },
                {
                    "output_type": "display_data",
                    "data": {
                        "text/html": "(128 rows affected)"
                    },
                    "metadata": {}
                },
                {
                    "output_type": "display_data",
                    "data": {
                        "text/html": "(256 rows affected)"
                    },
                    "metadata": {}
                },
                {
                    "output_type": "display_data",
                    "data": {
                        "text/html": "(512 rows affected)"
                    },
                    "metadata": {}
                },
                {
                    "output_type": "display_data",
                    "data": {
                        "text/html": "(1024 rows affected)"
                    },
                    "metadata": {}
                },
                {
                    "output_type": "display_data",
                    "data": {
                        "text/html": "(2048 rows affected)"
                    },
                    "metadata": {}
                },
                {
                    "output_type": "display_data",
                    "data": {
                        "text/html": "(4096 rows affected)"
                    },
                    "metadata": {}
                },
                {
                    "output_type": "display_data",
                    "data": {
                        "text/html": "(8192 rows affected)"
                    },
                    "metadata": {}
                },
                {
                    "output_type": "display_data",
                    "data": {
                        "text/html": "(16384 rows affected)"
                    },
                    "metadata": {}
                },
                {
                    "output_type": "display_data",
                    "data": {
                        "text/html": "(32768 rows affected)"
                    },
                    "metadata": {}
                },
                {
                    "output_type": "display_data",
                    "data": {
                        "text/html": "(65536 rows affected)"
                    },
                    "metadata": {}
                },
                {
                    "output_type": "display_data",
                    "data": {
                        "text/html": "(131072 rows affected)"
                    },
                    "metadata": {}
                },
                {
                    "output_type": "display_data",
                    "data": {
                        "text/html": "(262144 rows affected)"
                    },
                    "metadata": {}
                },
                {
                    "output_type": "display_data",
                    "data": {
                        "text/html": "(524288 rows affected)"
                    },
                    "metadata": {}
                },
                {
                    "output_type": "display_data",
                    "data": {
                        "text/html": "Total execution time: 00:00:04.0779781"
                    },
                    "metadata": {}
                },
                {
                    "output_type": "display_data",
                    "data": {
                        "text/html": "(525600 rows affected)"
                    },
                    "metadata": {}
                },
                {
                    "output_type": "display_data",
                    "data": {
                        "text/html": "Total execution time: 00:00:01.4483690"
                    },
                    "metadata": {}
                },
                {
                    "output_type": "display_data",
                    "data": {
                        "text/html": "(525600 rows affected)"
                    },
                    "metadata": {}
                },
                {
                    "output_type": "display_data",
                    "data": {
                        "text/html": "Total execution time: 00:00:05.2582609"
                    },
                    "metadata": {}
                }
            ],
            "execution_count": 26
        },
        {
            "cell_type": "markdown",
            "source": "## Every commercial in my table lasts for at most one minute, and they do not overlap. I can easily enforce both conditions with constraints </br>\r\n## (Storing intervals of time with no overlaps\" ), which are omitted in this post just to keep it simple.\r\n##  The following query retrieves only 181 rows, and it runs **very slowly**: ",
            "metadata": {}
        },
        {
            "cell_type": "code",
            "source": "set STATISTICS TIME on\r\nset STATISTICS IO on\r\n\r\nSELECT s.StartedAt, s.EndedAt, c.AirTime\r\nFROM dbo.Commercials s INNER JOIN dbo.Calls c\r\n    ON c.AirTime >= s.StartedAt AND c.AirTime < s.EndedAt\r\nWHERE c.AirTime BETWEEN '20080701' AND '20080701 03:00'    \r\n\r\nset STATISTICS TIME OFF\r\nset STATISTICS IO OFF\r\n",
            "metadata": {},
            "outputs": [
                {
                    "output_type": "display_data",
                    "data": {
                        "text/html": "\n SQL Server Execution Times:\n   CPU time = 0 ms,  elapsed time = 0 ms."
                    },
                    "metadata": {}
                },
                {
                    "output_type": "display_data",
                    "data": {
                        "text/html": "(181 rows affected)"
                    },
                    "metadata": {}
                },
                {
                    "output_type": "display_data",
                    "data": {
                        "text/html": "Table 'Calls'. Scan count 525600, logical reads 1696586, physical reads 0, read-ahead reads 7, lob logical reads 0, lob physical reads 0, lob read-ahead reads 0."
                    },
                    "metadata": {}
                },
                {
                    "output_type": "display_data",
                    "data": {
                        "text/html": "Table 'Commercials'. Scan count 9, logical reads 2805, physical reads 0, read-ahead reads 0, lob logical reads 0, lob physical reads 0, lob read-ahead reads 0."
                    },
                    "metadata": {}
                },
                {
                    "output_type": "display_data",
                    "data": {
                        "text/html": "Table 'Worktable'. Scan count 0, logical reads 0, physical reads 0, read-ahead reads 0, lob logical reads 0, lob physical reads 0, lob read-ahead reads 0."
                    },
                    "metadata": {}
                },
                {
                    "output_type": "display_data",
                    "data": {
                        "text/html": "\n SQL Server Execution Times:\n   CPU time = 2547 ms,  elapsed time = 375 ms."
                    },
                    "metadata": {}
                },
                {
                    "output_type": "display_data",
                    "data": {
                        "text/html": "Total execution time: 00:00:00.5523239"
                    },
                    "metadata": {}
                },
                {
                    "output_type": "execute_result",
                    "metadata": {},
                    "execution_count": 27,
                    "data": {
                        "application/vnd.dataresource+json": {
                            "schema": {
                                "fields": [
                                    {
                                        "name": "StartedAt"
                                    },
                                    {
                                        "name": "EndedAt"
                                    },
                                    {
                                        "name": "AirTime"
                                    }
                                ]
                            },
                            "data": [
                                {
                                    "0": "2008-07-01 00:00:00.000",
                                    "1": "2008-07-01 00:01:00.000",
                                    "2": "2008-07-01 00:00:00.000"
                                },
                                {
                                    "0": "2008-07-01 00:01:00.000",
                                    "1": "2008-07-01 00:02:00.000",
                                    "2": "2008-07-01 00:01:00.000"
                                },
                                {
                                    "0": "2008-07-01 00:02:00.000",
                                    "1": "2008-07-01 00:03:00.000",
                                    "2": "2008-07-01 00:02:00.000"
                                },
                                {
                                    "0": "2008-07-01 00:03:00.000",
                                    "1": "2008-07-01 00:04:00.000",
                                    "2": "2008-07-01 00:03:00.000"
                                },
                                {
                                    "0": "2008-07-01 00:04:00.000",
                                    "1": "2008-07-01 00:05:00.000",
                                    "2": "2008-07-01 00:04:00.000"
                                },
                                {
                                    "0": "2008-07-01 00:05:00.000",
                                    "1": "2008-07-01 00:06:00.000",
                                    "2": "2008-07-01 00:05:00.000"
                                },
                                {
                                    "0": "2008-07-01 00:06:00.000",
                                    "1": "2008-07-01 00:07:00.000",
                                    "2": "2008-07-01 00:06:00.000"
                                },
                                {
                                    "0": "2008-07-01 00:07:00.000",
                                    "1": "2008-07-01 00:08:00.000",
                                    "2": "2008-07-01 00:07:00.000"
                                },
                                {
                                    "0": "2008-07-01 00:08:00.000",
                                    "1": "2008-07-01 00:09:00.000",
                                    "2": "2008-07-01 00:08:00.000"
                                },
                                {
                                    "0": "2008-07-01 00:09:00.000",
                                    "1": "2008-07-01 00:10:00.000",
                                    "2": "2008-07-01 00:09:00.000"
                                },
                                {
                                    "0": "2008-07-01 00:10:00.000",
                                    "1": "2008-07-01 00:11:00.000",
                                    "2": "2008-07-01 00:10:00.000"
                                },
                                {
                                    "0": "2008-07-01 00:11:00.000",
                                    "1": "2008-07-01 00:12:00.000",
                                    "2": "2008-07-01 00:11:00.000"
                                },
                                {
                                    "0": "2008-07-01 00:12:00.000",
                                    "1": "2008-07-01 00:13:00.000",
                                    "2": "2008-07-01 00:12:00.000"
                                },
                                {
                                    "0": "2008-07-01 00:13:00.000",
                                    "1": "2008-07-01 00:14:00.000",
                                    "2": "2008-07-01 00:13:00.000"
                                },
                                {
                                    "0": "2008-07-01 00:14:00.000",
                                    "1": "2008-07-01 00:15:00.000",
                                    "2": "2008-07-01 00:14:00.000"
                                },
                                {
                                    "0": "2008-07-01 00:15:00.000",
                                    "1": "2008-07-01 00:16:00.000",
                                    "2": "2008-07-01 00:15:00.000"
                                },
                                {
                                    "0": "2008-07-01 00:16:00.000",
                                    "1": "2008-07-01 00:17:00.000",
                                    "2": "2008-07-01 00:16:00.000"
                                },
                                {
                                    "0": "2008-07-01 00:17:00.000",
                                    "1": "2008-07-01 00:18:00.000",
                                    "2": "2008-07-01 00:17:00.000"
                                },
                                {
                                    "0": "2008-07-01 00:18:00.000",
                                    "1": "2008-07-01 00:19:00.000",
                                    "2": "2008-07-01 00:18:00.000"
                                },
                                {
                                    "0": "2008-07-01 00:19:00.000",
                                    "1": "2008-07-01 00:20:00.000",
                                    "2": "2008-07-01 00:19:00.000"
                                },
                                {
                                    "0": "2008-07-01 00:20:00.000",
                                    "1": "2008-07-01 00:21:00.000",
                                    "2": "2008-07-01 00:20:00.000"
                                },
                                {
                                    "0": "2008-07-01 00:21:00.000",
                                    "1": "2008-07-01 00:22:00.000",
                                    "2": "2008-07-01 00:21:00.000"
                                },
                                {
                                    "0": "2008-07-01 00:22:00.000",
                                    "1": "2008-07-01 00:23:00.000",
                                    "2": "2008-07-01 00:22:00.000"
                                },
                                {
                                    "0": "2008-07-01 00:23:00.000",
                                    "1": "2008-07-01 00:24:00.000",
                                    "2": "2008-07-01 00:23:00.000"
                                },
                                {
                                    "0": "2008-07-01 00:24:00.000",
                                    "1": "2008-07-01 00:25:00.000",
                                    "2": "2008-07-01 00:24:00.000"
                                },
                                {
                                    "0": "2008-07-01 00:25:00.000",
                                    "1": "2008-07-01 00:26:00.000",
                                    "2": "2008-07-01 00:25:00.000"
                                },
                                {
                                    "0": "2008-07-01 00:26:00.000",
                                    "1": "2008-07-01 00:27:00.000",
                                    "2": "2008-07-01 00:26:00.000"
                                },
                                {
                                    "0": "2008-07-01 00:27:00.000",
                                    "1": "2008-07-01 00:28:00.000",
                                    "2": "2008-07-01 00:27:00.000"
                                },
                                {
                                    "0": "2008-07-01 00:28:00.000",
                                    "1": "2008-07-01 00:29:00.000",
                                    "2": "2008-07-01 00:28:00.000"
                                },
                                {
                                    "0": "2008-07-01 00:29:00.000",
                                    "1": "2008-07-01 00:30:00.000",
                                    "2": "2008-07-01 00:29:00.000"
                                },
                                {
                                    "0": "2008-07-01 00:30:00.000",
                                    "1": "2008-07-01 00:31:00.000",
                                    "2": "2008-07-01 00:30:00.000"
                                },
                                {
                                    "0": "2008-07-01 00:31:00.000",
                                    "1": "2008-07-01 00:32:00.000",
                                    "2": "2008-07-01 00:31:00.000"
                                },
                                {
                                    "0": "2008-07-01 00:32:00.000",
                                    "1": "2008-07-01 00:33:00.000",
                                    "2": "2008-07-01 00:32:00.000"
                                },
                                {
                                    "0": "2008-07-01 00:33:00.000",
                                    "1": "2008-07-01 00:34:00.000",
                                    "2": "2008-07-01 00:33:00.000"
                                },
                                {
                                    "0": "2008-07-01 00:34:00.000",
                                    "1": "2008-07-01 00:35:00.000",
                                    "2": "2008-07-01 00:34:00.000"
                                },
                                {
                                    "0": "2008-07-01 00:35:00.000",
                                    "1": "2008-07-01 00:36:00.000",
                                    "2": "2008-07-01 00:35:00.000"
                                },
                                {
                                    "0": "2008-07-01 00:36:00.000",
                                    "1": "2008-07-01 00:37:00.000",
                                    "2": "2008-07-01 00:36:00.000"
                                },
                                {
                                    "0": "2008-07-01 00:37:00.000",
                                    "1": "2008-07-01 00:38:00.000",
                                    "2": "2008-07-01 00:37:00.000"
                                },
                                {
                                    "0": "2008-07-01 00:38:00.000",
                                    "1": "2008-07-01 00:39:00.000",
                                    "2": "2008-07-01 00:38:00.000"
                                },
                                {
                                    "0": "2008-07-01 00:39:00.000",
                                    "1": "2008-07-01 00:40:00.000",
                                    "2": "2008-07-01 00:39:00.000"
                                },
                                {
                                    "0": "2008-07-01 00:40:00.000",
                                    "1": "2008-07-01 00:41:00.000",
                                    "2": "2008-07-01 00:40:00.000"
                                },
                                {
                                    "0": "2008-07-01 00:41:00.000",
                                    "1": "2008-07-01 00:42:00.000",
                                    "2": "2008-07-01 00:41:00.000"
                                },
                                {
                                    "0": "2008-07-01 00:42:00.000",
                                    "1": "2008-07-01 00:43:00.000",
                                    "2": "2008-07-01 00:42:00.000"
                                },
                                {
                                    "0": "2008-07-01 00:43:00.000",
                                    "1": "2008-07-01 00:44:00.000",
                                    "2": "2008-07-01 00:43:00.000"
                                },
                                {
                                    "0": "2008-07-01 00:44:00.000",
                                    "1": "2008-07-01 00:45:00.000",
                                    "2": "2008-07-01 00:44:00.000"
                                },
                                {
                                    "0": "2008-07-01 00:45:00.000",
                                    "1": "2008-07-01 00:46:00.000",
                                    "2": "2008-07-01 00:45:00.000"
                                },
                                {
                                    "0": "2008-07-01 00:46:00.000",
                                    "1": "2008-07-01 00:47:00.000",
                                    "2": "2008-07-01 00:46:00.000"
                                },
                                {
                                    "0": "2008-07-01 00:47:00.000",
                                    "1": "2008-07-01 00:48:00.000",
                                    "2": "2008-07-01 00:47:00.000"
                                },
                                {
                                    "0": "2008-07-01 00:48:00.000",
                                    "1": "2008-07-01 00:49:00.000",
                                    "2": "2008-07-01 00:48:00.000"
                                },
                                {
                                    "0": "2008-07-01 00:49:00.000",
                                    "1": "2008-07-01 00:50:00.000",
                                    "2": "2008-07-01 00:49:00.000"
                                },
                                {
                                    "0": "2008-07-01 00:50:00.000",
                                    "1": "2008-07-01 00:51:00.000",
                                    "2": "2008-07-01 00:50:00.000"
                                },
                                {
                                    "0": "2008-07-01 00:51:00.000",
                                    "1": "2008-07-01 00:52:00.000",
                                    "2": "2008-07-01 00:51:00.000"
                                },
                                {
                                    "0": "2008-07-01 00:52:00.000",
                                    "1": "2008-07-01 00:53:00.000",
                                    "2": "2008-07-01 00:52:00.000"
                                },
                                {
                                    "0": "2008-07-01 00:53:00.000",
                                    "1": "2008-07-01 00:54:00.000",
                                    "2": "2008-07-01 00:53:00.000"
                                },
                                {
                                    "0": "2008-07-01 00:54:00.000",
                                    "1": "2008-07-01 00:55:00.000",
                                    "2": "2008-07-01 00:54:00.000"
                                },
                                {
                                    "0": "2008-07-01 00:55:00.000",
                                    "1": "2008-07-01 00:56:00.000",
                                    "2": "2008-07-01 00:55:00.000"
                                },
                                {
                                    "0": "2008-07-01 00:56:00.000",
                                    "1": "2008-07-01 00:57:00.000",
                                    "2": "2008-07-01 00:56:00.000"
                                },
                                {
                                    "0": "2008-07-01 00:57:00.000",
                                    "1": "2008-07-01 00:58:00.000",
                                    "2": "2008-07-01 00:57:00.000"
                                },
                                {
                                    "0": "2008-07-01 00:58:00.000",
                                    "1": "2008-07-01 00:59:00.000",
                                    "2": "2008-07-01 00:58:00.000"
                                },
                                {
                                    "0": "2008-07-01 00:59:00.000",
                                    "1": "2008-07-01 01:00:00.000",
                                    "2": "2008-07-01 00:59:00.000"
                                },
                                {
                                    "0": "2008-07-01 01:00:00.000",
                                    "1": "2008-07-01 01:01:00.000",
                                    "2": "2008-07-01 01:00:00.000"
                                },
                                {
                                    "0": "2008-07-01 01:01:00.000",
                                    "1": "2008-07-01 01:02:00.000",
                                    "2": "2008-07-01 01:01:00.000"
                                },
                                {
                                    "0": "2008-07-01 01:02:00.000",
                                    "1": "2008-07-01 01:03:00.000",
                                    "2": "2008-07-01 01:02:00.000"
                                },
                                {
                                    "0": "2008-07-01 01:03:00.000",
                                    "1": "2008-07-01 01:04:00.000",
                                    "2": "2008-07-01 01:03:00.000"
                                },
                                {
                                    "0": "2008-07-01 01:04:00.000",
                                    "1": "2008-07-01 01:05:00.000",
                                    "2": "2008-07-01 01:04:00.000"
                                },
                                {
                                    "0": "2008-07-01 01:05:00.000",
                                    "1": "2008-07-01 01:06:00.000",
                                    "2": "2008-07-01 01:05:00.000"
                                },
                                {
                                    "0": "2008-07-01 01:06:00.000",
                                    "1": "2008-07-01 01:07:00.000",
                                    "2": "2008-07-01 01:06:00.000"
                                },
                                {
                                    "0": "2008-07-01 01:07:00.000",
                                    "1": "2008-07-01 01:08:00.000",
                                    "2": "2008-07-01 01:07:00.000"
                                },
                                {
                                    "0": "2008-07-01 01:08:00.000",
                                    "1": "2008-07-01 01:09:00.000",
                                    "2": "2008-07-01 01:08:00.000"
                                },
                                {
                                    "0": "2008-07-01 01:09:00.000",
                                    "1": "2008-07-01 01:10:00.000",
                                    "2": "2008-07-01 01:09:00.000"
                                },
                                {
                                    "0": "2008-07-01 01:10:00.000",
                                    "1": "2008-07-01 01:11:00.000",
                                    "2": "2008-07-01 01:10:00.000"
                                },
                                {
                                    "0": "2008-07-01 01:11:00.000",
                                    "1": "2008-07-01 01:12:00.000",
                                    "2": "2008-07-01 01:11:00.000"
                                },
                                {
                                    "0": "2008-07-01 01:12:00.000",
                                    "1": "2008-07-01 01:13:00.000",
                                    "2": "2008-07-01 01:12:00.000"
                                },
                                {
                                    "0": "2008-07-01 01:13:00.000",
                                    "1": "2008-07-01 01:14:00.000",
                                    "2": "2008-07-01 01:13:00.000"
                                },
                                {
                                    "0": "2008-07-01 01:14:00.000",
                                    "1": "2008-07-01 01:15:00.000",
                                    "2": "2008-07-01 01:14:00.000"
                                },
                                {
                                    "0": "2008-07-01 01:15:00.000",
                                    "1": "2008-07-01 01:16:00.000",
                                    "2": "2008-07-01 01:15:00.000"
                                },
                                {
                                    "0": "2008-07-01 01:16:00.000",
                                    "1": "2008-07-01 01:17:00.000",
                                    "2": "2008-07-01 01:16:00.000"
                                },
                                {
                                    "0": "2008-07-01 01:17:00.000",
                                    "1": "2008-07-01 01:18:00.000",
                                    "2": "2008-07-01 01:17:00.000"
                                },
                                {
                                    "0": "2008-07-01 01:18:00.000",
                                    "1": "2008-07-01 01:19:00.000",
                                    "2": "2008-07-01 01:18:00.000"
                                },
                                {
                                    "0": "2008-07-01 01:19:00.000",
                                    "1": "2008-07-01 01:20:00.000",
                                    "2": "2008-07-01 01:19:00.000"
                                },
                                {
                                    "0": "2008-07-01 01:20:00.000",
                                    "1": "2008-07-01 01:21:00.000",
                                    "2": "2008-07-01 01:20:00.000"
                                },
                                {
                                    "0": "2008-07-01 01:21:00.000",
                                    "1": "2008-07-01 01:22:00.000",
                                    "2": "2008-07-01 01:21:00.000"
                                },
                                {
                                    "0": "2008-07-01 01:22:00.000",
                                    "1": "2008-07-01 01:23:00.000",
                                    "2": "2008-07-01 01:22:00.000"
                                },
                                {
                                    "0": "2008-07-01 01:23:00.000",
                                    "1": "2008-07-01 01:24:00.000",
                                    "2": "2008-07-01 01:23:00.000"
                                },
                                {
                                    "0": "2008-07-01 01:24:00.000",
                                    "1": "2008-07-01 01:25:00.000",
                                    "2": "2008-07-01 01:24:00.000"
                                },
                                {
                                    "0": "2008-07-01 01:25:00.000",
                                    "1": "2008-07-01 01:26:00.000",
                                    "2": "2008-07-01 01:25:00.000"
                                },
                                {
                                    "0": "2008-07-01 01:26:00.000",
                                    "1": "2008-07-01 01:27:00.000",
                                    "2": "2008-07-01 01:26:00.000"
                                },
                                {
                                    "0": "2008-07-01 01:27:00.000",
                                    "1": "2008-07-01 01:28:00.000",
                                    "2": "2008-07-01 01:27:00.000"
                                },
                                {
                                    "0": "2008-07-01 01:28:00.000",
                                    "1": "2008-07-01 01:29:00.000",
                                    "2": "2008-07-01 01:28:00.000"
                                },
                                {
                                    "0": "2008-07-01 01:29:00.000",
                                    "1": "2008-07-01 01:30:00.000",
                                    "2": "2008-07-01 01:29:00.000"
                                },
                                {
                                    "0": "2008-07-01 01:30:00.000",
                                    "1": "2008-07-01 01:31:00.000",
                                    "2": "2008-07-01 01:30:00.000"
                                },
                                {
                                    "0": "2008-07-01 01:31:00.000",
                                    "1": "2008-07-01 01:32:00.000",
                                    "2": "2008-07-01 01:31:00.000"
                                },
                                {
                                    "0": "2008-07-01 01:32:00.000",
                                    "1": "2008-07-01 01:33:00.000",
                                    "2": "2008-07-01 01:32:00.000"
                                },
                                {
                                    "0": "2008-07-01 01:33:00.000",
                                    "1": "2008-07-01 01:34:00.000",
                                    "2": "2008-07-01 01:33:00.000"
                                },
                                {
                                    "0": "2008-07-01 01:34:00.000",
                                    "1": "2008-07-01 01:35:00.000",
                                    "2": "2008-07-01 01:34:00.000"
                                },
                                {
                                    "0": "2008-07-01 01:35:00.000",
                                    "1": "2008-07-01 01:36:00.000",
                                    "2": "2008-07-01 01:35:00.000"
                                },
                                {
                                    "0": "2008-07-01 01:36:00.000",
                                    "1": "2008-07-01 01:37:00.000",
                                    "2": "2008-07-01 01:36:00.000"
                                },
                                {
                                    "0": "2008-07-01 01:37:00.000",
                                    "1": "2008-07-01 01:38:00.000",
                                    "2": "2008-07-01 01:37:00.000"
                                },
                                {
                                    "0": "2008-07-01 01:38:00.000",
                                    "1": "2008-07-01 01:39:00.000",
                                    "2": "2008-07-01 01:38:00.000"
                                },
                                {
                                    "0": "2008-07-01 01:39:00.000",
                                    "1": "2008-07-01 01:40:00.000",
                                    "2": "2008-07-01 01:39:00.000"
                                },
                                {
                                    "0": "2008-07-01 01:40:00.000",
                                    "1": "2008-07-01 01:41:00.000",
                                    "2": "2008-07-01 01:40:00.000"
                                },
                                {
                                    "0": "2008-07-01 01:41:00.000",
                                    "1": "2008-07-01 01:42:00.000",
                                    "2": "2008-07-01 01:41:00.000"
                                },
                                {
                                    "0": "2008-07-01 01:42:00.000",
                                    "1": "2008-07-01 01:43:00.000",
                                    "2": "2008-07-01 01:42:00.000"
                                },
                                {
                                    "0": "2008-07-01 01:43:00.000",
                                    "1": "2008-07-01 01:44:00.000",
                                    "2": "2008-07-01 01:43:00.000"
                                },
                                {
                                    "0": "2008-07-01 01:44:00.000",
                                    "1": "2008-07-01 01:45:00.000",
                                    "2": "2008-07-01 01:44:00.000"
                                },
                                {
                                    "0": "2008-07-01 01:45:00.000",
                                    "1": "2008-07-01 01:46:00.000",
                                    "2": "2008-07-01 01:45:00.000"
                                },
                                {
                                    "0": "2008-07-01 01:46:00.000",
                                    "1": "2008-07-01 01:47:00.000",
                                    "2": "2008-07-01 01:46:00.000"
                                },
                                {
                                    "0": "2008-07-01 01:47:00.000",
                                    "1": "2008-07-01 01:48:00.000",
                                    "2": "2008-07-01 01:47:00.000"
                                },
                                {
                                    "0": "2008-07-01 01:48:00.000",
                                    "1": "2008-07-01 01:49:00.000",
                                    "2": "2008-07-01 01:48:00.000"
                                },
                                {
                                    "0": "2008-07-01 01:49:00.000",
                                    "1": "2008-07-01 01:50:00.000",
                                    "2": "2008-07-01 01:49:00.000"
                                },
                                {
                                    "0": "2008-07-01 01:50:00.000",
                                    "1": "2008-07-01 01:51:00.000",
                                    "2": "2008-07-01 01:50:00.000"
                                },
                                {
                                    "0": "2008-07-01 01:51:00.000",
                                    "1": "2008-07-01 01:52:00.000",
                                    "2": "2008-07-01 01:51:00.000"
                                },
                                {
                                    "0": "2008-07-01 01:52:00.000",
                                    "1": "2008-07-01 01:53:00.000",
                                    "2": "2008-07-01 01:52:00.000"
                                },
                                {
                                    "0": "2008-07-01 01:53:00.000",
                                    "1": "2008-07-01 01:54:00.000",
                                    "2": "2008-07-01 01:53:00.000"
                                },
                                {
                                    "0": "2008-07-01 01:54:00.000",
                                    "1": "2008-07-01 01:55:00.000",
                                    "2": "2008-07-01 01:54:00.000"
                                },
                                {
                                    "0": "2008-07-01 01:55:00.000",
                                    "1": "2008-07-01 01:56:00.000",
                                    "2": "2008-07-01 01:55:00.000"
                                },
                                {
                                    "0": "2008-07-01 01:56:00.000",
                                    "1": "2008-07-01 01:57:00.000",
                                    "2": "2008-07-01 01:56:00.000"
                                },
                                {
                                    "0": "2008-07-01 01:57:00.000",
                                    "1": "2008-07-01 01:58:00.000",
                                    "2": "2008-07-01 01:57:00.000"
                                },
                                {
                                    "0": "2008-07-01 01:58:00.000",
                                    "1": "2008-07-01 01:59:00.000",
                                    "2": "2008-07-01 01:58:00.000"
                                },
                                {
                                    "0": "2008-07-01 01:59:00.000",
                                    "1": "2008-07-01 02:00:00.000",
                                    "2": "2008-07-01 01:59:00.000"
                                },
                                {
                                    "0": "2008-07-01 02:00:00.000",
                                    "1": "2008-07-01 02:01:00.000",
                                    "2": "2008-07-01 02:00:00.000"
                                },
                                {
                                    "0": "2008-07-01 02:01:00.000",
                                    "1": "2008-07-01 02:02:00.000",
                                    "2": "2008-07-01 02:01:00.000"
                                },
                                {
                                    "0": "2008-07-01 02:02:00.000",
                                    "1": "2008-07-01 02:03:00.000",
                                    "2": "2008-07-01 02:02:00.000"
                                },
                                {
                                    "0": "2008-07-01 02:03:00.000",
                                    "1": "2008-07-01 02:04:00.000",
                                    "2": "2008-07-01 02:03:00.000"
                                },
                                {
                                    "0": "2008-07-01 02:04:00.000",
                                    "1": "2008-07-01 02:05:00.000",
                                    "2": "2008-07-01 02:04:00.000"
                                },
                                {
                                    "0": "2008-07-01 02:05:00.000",
                                    "1": "2008-07-01 02:06:00.000",
                                    "2": "2008-07-01 02:05:00.000"
                                },
                                {
                                    "0": "2008-07-01 02:06:00.000",
                                    "1": "2008-07-01 02:07:00.000",
                                    "2": "2008-07-01 02:06:00.000"
                                },
                                {
                                    "0": "2008-07-01 02:07:00.000",
                                    "1": "2008-07-01 02:08:00.000",
                                    "2": "2008-07-01 02:07:00.000"
                                },
                                {
                                    "0": "2008-07-01 02:08:00.000",
                                    "1": "2008-07-01 02:09:00.000",
                                    "2": "2008-07-01 02:08:00.000"
                                },
                                {
                                    "0": "2008-07-01 02:09:00.000",
                                    "1": "2008-07-01 02:10:00.000",
                                    "2": "2008-07-01 02:09:00.000"
                                },
                                {
                                    "0": "2008-07-01 02:10:00.000",
                                    "1": "2008-07-01 02:11:00.000",
                                    "2": "2008-07-01 02:10:00.000"
                                },
                                {
                                    "0": "2008-07-01 02:11:00.000",
                                    "1": "2008-07-01 02:12:00.000",
                                    "2": "2008-07-01 02:11:00.000"
                                },
                                {
                                    "0": "2008-07-01 02:12:00.000",
                                    "1": "2008-07-01 02:13:00.000",
                                    "2": "2008-07-01 02:12:00.000"
                                },
                                {
                                    "0": "2008-07-01 02:13:00.000",
                                    "1": "2008-07-01 02:14:00.000",
                                    "2": "2008-07-01 02:13:00.000"
                                },
                                {
                                    "0": "2008-07-01 02:14:00.000",
                                    "1": "2008-07-01 02:15:00.000",
                                    "2": "2008-07-01 02:14:00.000"
                                },
                                {
                                    "0": "2008-07-01 02:15:00.000",
                                    "1": "2008-07-01 02:16:00.000",
                                    "2": "2008-07-01 02:15:00.000"
                                },
                                {
                                    "0": "2008-07-01 02:16:00.000",
                                    "1": "2008-07-01 02:17:00.000",
                                    "2": "2008-07-01 02:16:00.000"
                                },
                                {
                                    "0": "2008-07-01 02:17:00.000",
                                    "1": "2008-07-01 02:18:00.000",
                                    "2": "2008-07-01 02:17:00.000"
                                },
                                {
                                    "0": "2008-07-01 02:18:00.000",
                                    "1": "2008-07-01 02:19:00.000",
                                    "2": "2008-07-01 02:18:00.000"
                                },
                                {
                                    "0": "2008-07-01 02:19:00.000",
                                    "1": "2008-07-01 02:20:00.000",
                                    "2": "2008-07-01 02:19:00.000"
                                },
                                {
                                    "0": "2008-07-01 02:20:00.000",
                                    "1": "2008-07-01 02:21:00.000",
                                    "2": "2008-07-01 02:20:00.000"
                                },
                                {
                                    "0": "2008-07-01 02:21:00.000",
                                    "1": "2008-07-01 02:22:00.000",
                                    "2": "2008-07-01 02:21:00.000"
                                },
                                {
                                    "0": "2008-07-01 02:22:00.000",
                                    "1": "2008-07-01 02:23:00.000",
                                    "2": "2008-07-01 02:22:00.000"
                                },
                                {
                                    "0": "2008-07-01 02:23:00.000",
                                    "1": "2008-07-01 02:24:00.000",
                                    "2": "2008-07-01 02:23:00.000"
                                },
                                {
                                    "0": "2008-07-01 02:24:00.000",
                                    "1": "2008-07-01 02:25:00.000",
                                    "2": "2008-07-01 02:24:00.000"
                                },
                                {
                                    "0": "2008-07-01 02:25:00.000",
                                    "1": "2008-07-01 02:26:00.000",
                                    "2": "2008-07-01 02:25:00.000"
                                },
                                {
                                    "0": "2008-07-01 02:26:00.000",
                                    "1": "2008-07-01 02:27:00.000",
                                    "2": "2008-07-01 02:26:00.000"
                                },
                                {
                                    "0": "2008-07-01 02:27:00.000",
                                    "1": "2008-07-01 02:28:00.000",
                                    "2": "2008-07-01 02:27:00.000"
                                },
                                {
                                    "0": "2008-07-01 02:28:00.000",
                                    "1": "2008-07-01 02:29:00.000",
                                    "2": "2008-07-01 02:28:00.000"
                                },
                                {
                                    "0": "2008-07-01 02:29:00.000",
                                    "1": "2008-07-01 02:30:00.000",
                                    "2": "2008-07-01 02:29:00.000"
                                },
                                {
                                    "0": "2008-07-01 02:30:00.000",
                                    "1": "2008-07-01 02:31:00.000",
                                    "2": "2008-07-01 02:30:00.000"
                                },
                                {
                                    "0": "2008-07-01 02:31:00.000",
                                    "1": "2008-07-01 02:32:00.000",
                                    "2": "2008-07-01 02:31:00.000"
                                },
                                {
                                    "0": "2008-07-01 02:32:00.000",
                                    "1": "2008-07-01 02:33:00.000",
                                    "2": "2008-07-01 02:32:00.000"
                                },
                                {
                                    "0": "2008-07-01 02:33:00.000",
                                    "1": "2008-07-01 02:34:00.000",
                                    "2": "2008-07-01 02:33:00.000"
                                },
                                {
                                    "0": "2008-07-01 02:34:00.000",
                                    "1": "2008-07-01 02:35:00.000",
                                    "2": "2008-07-01 02:34:00.000"
                                },
                                {
                                    "0": "2008-07-01 02:35:00.000",
                                    "1": "2008-07-01 02:36:00.000",
                                    "2": "2008-07-01 02:35:00.000"
                                },
                                {
                                    "0": "2008-07-01 02:36:00.000",
                                    "1": "2008-07-01 02:37:00.000",
                                    "2": "2008-07-01 02:36:00.000"
                                },
                                {
                                    "0": "2008-07-01 02:37:00.000",
                                    "1": "2008-07-01 02:38:00.000",
                                    "2": "2008-07-01 02:37:00.000"
                                },
                                {
                                    "0": "2008-07-01 02:38:00.000",
                                    "1": "2008-07-01 02:39:00.000",
                                    "2": "2008-07-01 02:38:00.000"
                                },
                                {
                                    "0": "2008-07-01 02:39:00.000",
                                    "1": "2008-07-01 02:40:00.000",
                                    "2": "2008-07-01 02:39:00.000"
                                },
                                {
                                    "0": "2008-07-01 02:40:00.000",
                                    "1": "2008-07-01 02:41:00.000",
                                    "2": "2008-07-01 02:40:00.000"
                                },
                                {
                                    "0": "2008-07-01 02:41:00.000",
                                    "1": "2008-07-01 02:42:00.000",
                                    "2": "2008-07-01 02:41:00.000"
                                },
                                {
                                    "0": "2008-07-01 02:42:00.000",
                                    "1": "2008-07-01 02:43:00.000",
                                    "2": "2008-07-01 02:42:00.000"
                                },
                                {
                                    "0": "2008-07-01 02:43:00.000",
                                    "1": "2008-07-01 02:44:00.000",
                                    "2": "2008-07-01 02:43:00.000"
                                },
                                {
                                    "0": "2008-07-01 02:44:00.000",
                                    "1": "2008-07-01 02:45:00.000",
                                    "2": "2008-07-01 02:44:00.000"
                                },
                                {
                                    "0": "2008-07-01 02:45:00.000",
                                    "1": "2008-07-01 02:46:00.000",
                                    "2": "2008-07-01 02:45:00.000"
                                },
                                {
                                    "0": "2008-07-01 02:46:00.000",
                                    "1": "2008-07-01 02:47:00.000",
                                    "2": "2008-07-01 02:46:00.000"
                                },
                                {
                                    "0": "2008-07-01 02:47:00.000",
                                    "1": "2008-07-01 02:48:00.000",
                                    "2": "2008-07-01 02:47:00.000"
                                },
                                {
                                    "0": "2008-07-01 02:48:00.000",
                                    "1": "2008-07-01 02:49:00.000",
                                    "2": "2008-07-01 02:48:00.000"
                                },
                                {
                                    "0": "2008-07-01 02:49:00.000",
                                    "1": "2008-07-01 02:50:00.000",
                                    "2": "2008-07-01 02:49:00.000"
                                },
                                {
                                    "0": "2008-07-01 02:50:00.000",
                                    "1": "2008-07-01 02:51:00.000",
                                    "2": "2008-07-01 02:50:00.000"
                                },
                                {
                                    "0": "2008-07-01 02:51:00.000",
                                    "1": "2008-07-01 02:52:00.000",
                                    "2": "2008-07-01 02:51:00.000"
                                },
                                {
                                    "0": "2008-07-01 02:52:00.000",
                                    "1": "2008-07-01 02:53:00.000",
                                    "2": "2008-07-01 02:52:00.000"
                                },
                                {
                                    "0": "2008-07-01 02:53:00.000",
                                    "1": "2008-07-01 02:54:00.000",
                                    "2": "2008-07-01 02:53:00.000"
                                },
                                {
                                    "0": "2008-07-01 02:54:00.000",
                                    "1": "2008-07-01 02:55:00.000",
                                    "2": "2008-07-01 02:54:00.000"
                                },
                                {
                                    "0": "2008-07-01 02:55:00.000",
                                    "1": "2008-07-01 02:56:00.000",
                                    "2": "2008-07-01 02:55:00.000"
                                },
                                {
                                    "0": "2008-07-01 02:56:00.000",
                                    "1": "2008-07-01 02:57:00.000",
                                    "2": "2008-07-01 02:56:00.000"
                                },
                                {
                                    "0": "2008-07-01 02:57:00.000",
                                    "1": "2008-07-01 02:58:00.000",
                                    "2": "2008-07-01 02:57:00.000"
                                },
                                {
                                    "0": "2008-07-01 02:58:00.000",
                                    "1": "2008-07-01 02:59:00.000",
                                    "2": "2008-07-01 02:58:00.000"
                                },
                                {
                                    "0": "2008-07-01 02:59:00.000",
                                    "1": "2008-07-01 03:00:00.000",
                                    "2": "2008-07-01 02:59:00.000"
                                },
                                {
                                    "0": "2008-07-01 03:00:00.000",
                                    "1": "2008-07-01 03:01:00.000",
                                    "2": "2008-07-01 03:00:00.000"
                                }
                            ]
                        },
                        "text/html": "<table><tr><th>StartedAt</th><th>EndedAt</th><th>AirTime</th></tr><tr><td>2008-07-01 00:00:00.000</td><td>2008-07-01 00:01:00.000</td><td>2008-07-01 00:00:00.000</td></tr><tr><td>2008-07-01 00:01:00.000</td><td>2008-07-01 00:02:00.000</td><td>2008-07-01 00:01:00.000</td></tr><tr><td>2008-07-01 00:02:00.000</td><td>2008-07-01 00:03:00.000</td><td>2008-07-01 00:02:00.000</td></tr><tr><td>2008-07-01 00:03:00.000</td><td>2008-07-01 00:04:00.000</td><td>2008-07-01 00:03:00.000</td></tr><tr><td>2008-07-01 00:04:00.000</td><td>2008-07-01 00:05:00.000</td><td>2008-07-01 00:04:00.000</td></tr><tr><td>2008-07-01 00:05:00.000</td><td>2008-07-01 00:06:00.000</td><td>2008-07-01 00:05:00.000</td></tr><tr><td>2008-07-01 00:06:00.000</td><td>2008-07-01 00:07:00.000</td><td>2008-07-01 00:06:00.000</td></tr><tr><td>2008-07-01 00:07:00.000</td><td>2008-07-01 00:08:00.000</td><td>2008-07-01 00:07:00.000</td></tr><tr><td>2008-07-01 00:08:00.000</td><td>2008-07-01 00:09:00.000</td><td>2008-07-01 00:08:00.000</td></tr><tr><td>2008-07-01 00:09:00.000</td><td>2008-07-01 00:10:00.000</td><td>2008-07-01 00:09:00.000</td></tr><tr><td>2008-07-01 00:10:00.000</td><td>2008-07-01 00:11:00.000</td><td>2008-07-01 00:10:00.000</td></tr><tr><td>2008-07-01 00:11:00.000</td><td>2008-07-01 00:12:00.000</td><td>2008-07-01 00:11:00.000</td></tr><tr><td>2008-07-01 00:12:00.000</td><td>2008-07-01 00:13:00.000</td><td>2008-07-01 00:12:00.000</td></tr><tr><td>2008-07-01 00:13:00.000</td><td>2008-07-01 00:14:00.000</td><td>2008-07-01 00:13:00.000</td></tr><tr><td>2008-07-01 00:14:00.000</td><td>2008-07-01 00:15:00.000</td><td>2008-07-01 00:14:00.000</td></tr><tr><td>2008-07-01 00:15:00.000</td><td>2008-07-01 00:16:00.000</td><td>2008-07-01 00:15:00.000</td></tr><tr><td>2008-07-01 00:16:00.000</td><td>2008-07-01 00:17:00.000</td><td>2008-07-01 00:16:00.000</td></tr><tr><td>2008-07-01 00:17:00.000</td><td>2008-07-01 00:18:00.000</td><td>2008-07-01 00:17:00.000</td></tr><tr><td>2008-07-01 00:18:00.000</td><td>2008-07-01 00:19:00.000</td><td>2008-07-01 00:18:00.000</td></tr><tr><td>2008-07-01 00:19:00.000</td><td>2008-07-01 00:20:00.000</td><td>2008-07-01 00:19:00.000</td></tr><tr><td>2008-07-01 00:20:00.000</td><td>2008-07-01 00:21:00.000</td><td>2008-07-01 00:20:00.000</td></tr><tr><td>2008-07-01 00:21:00.000</td><td>2008-07-01 00:22:00.000</td><td>2008-07-01 00:21:00.000</td></tr><tr><td>2008-07-01 00:22:00.000</td><td>2008-07-01 00:23:00.000</td><td>2008-07-01 00:22:00.000</td></tr><tr><td>2008-07-01 00:23:00.000</td><td>2008-07-01 00:24:00.000</td><td>2008-07-01 00:23:00.000</td></tr><tr><td>2008-07-01 00:24:00.000</td><td>2008-07-01 00:25:00.000</td><td>2008-07-01 00:24:00.000</td></tr><tr><td>2008-07-01 00:25:00.000</td><td>2008-07-01 00:26:00.000</td><td>2008-07-01 00:25:00.000</td></tr><tr><td>2008-07-01 00:26:00.000</td><td>2008-07-01 00:27:00.000</td><td>2008-07-01 00:26:00.000</td></tr><tr><td>2008-07-01 00:27:00.000</td><td>2008-07-01 00:28:00.000</td><td>2008-07-01 00:27:00.000</td></tr><tr><td>2008-07-01 00:28:00.000</td><td>2008-07-01 00:29:00.000</td><td>2008-07-01 00:28:00.000</td></tr><tr><td>2008-07-01 00:29:00.000</td><td>2008-07-01 00:30:00.000</td><td>2008-07-01 00:29:00.000</td></tr><tr><td>2008-07-01 00:30:00.000</td><td>2008-07-01 00:31:00.000</td><td>2008-07-01 00:30:00.000</td></tr><tr><td>2008-07-01 00:31:00.000</td><td>2008-07-01 00:32:00.000</td><td>2008-07-01 00:31:00.000</td></tr><tr><td>2008-07-01 00:32:00.000</td><td>2008-07-01 00:33:00.000</td><td>2008-07-01 00:32:00.000</td></tr><tr><td>2008-07-01 00:33:00.000</td><td>2008-07-01 00:34:00.000</td><td>2008-07-01 00:33:00.000</td></tr><tr><td>2008-07-01 00:34:00.000</td><td>2008-07-01 00:35:00.000</td><td>2008-07-01 00:34:00.000</td></tr><tr><td>2008-07-01 00:35:00.000</td><td>2008-07-01 00:36:00.000</td><td>2008-07-01 00:35:00.000</td></tr><tr><td>2008-07-01 00:36:00.000</td><td>2008-07-01 00:37:00.000</td><td>2008-07-01 00:36:00.000</td></tr><tr><td>2008-07-01 00:37:00.000</td><td>2008-07-01 00:38:00.000</td><td>2008-07-01 00:37:00.000</td></tr><tr><td>2008-07-01 00:38:00.000</td><td>2008-07-01 00:39:00.000</td><td>2008-07-01 00:38:00.000</td></tr><tr><td>2008-07-01 00:39:00.000</td><td>2008-07-01 00:40:00.000</td><td>2008-07-01 00:39:00.000</td></tr><tr><td>2008-07-01 00:40:00.000</td><td>2008-07-01 00:41:00.000</td><td>2008-07-01 00:40:00.000</td></tr><tr><td>2008-07-01 00:41:00.000</td><td>2008-07-01 00:42:00.000</td><td>2008-07-01 00:41:00.000</td></tr><tr><td>2008-07-01 00:42:00.000</td><td>2008-07-01 00:43:00.000</td><td>2008-07-01 00:42:00.000</td></tr><tr><td>2008-07-01 00:43:00.000</td><td>2008-07-01 00:44:00.000</td><td>2008-07-01 00:43:00.000</td></tr><tr><td>2008-07-01 00:44:00.000</td><td>2008-07-01 00:45:00.000</td><td>2008-07-01 00:44:00.000</td></tr><tr><td>2008-07-01 00:45:00.000</td><td>2008-07-01 00:46:00.000</td><td>2008-07-01 00:45:00.000</td></tr><tr><td>2008-07-01 00:46:00.000</td><td>2008-07-01 00:47:00.000</td><td>2008-07-01 00:46:00.000</td></tr><tr><td>2008-07-01 00:47:00.000</td><td>2008-07-01 00:48:00.000</td><td>2008-07-01 00:47:00.000</td></tr><tr><td>2008-07-01 00:48:00.000</td><td>2008-07-01 00:49:00.000</td><td>2008-07-01 00:48:00.000</td></tr><tr><td>2008-07-01 00:49:00.000</td><td>2008-07-01 00:50:00.000</td><td>2008-07-01 00:49:00.000</td></tr><tr><td>2008-07-01 00:50:00.000</td><td>2008-07-01 00:51:00.000</td><td>2008-07-01 00:50:00.000</td></tr><tr><td>2008-07-01 00:51:00.000</td><td>2008-07-01 00:52:00.000</td><td>2008-07-01 00:51:00.000</td></tr><tr><td>2008-07-01 00:52:00.000</td><td>2008-07-01 00:53:00.000</td><td>2008-07-01 00:52:00.000</td></tr><tr><td>2008-07-01 00:53:00.000</td><td>2008-07-01 00:54:00.000</td><td>2008-07-01 00:53:00.000</td></tr><tr><td>2008-07-01 00:54:00.000</td><td>2008-07-01 00:55:00.000</td><td>2008-07-01 00:54:00.000</td></tr><tr><td>2008-07-01 00:55:00.000</td><td>2008-07-01 00:56:00.000</td><td>2008-07-01 00:55:00.000</td></tr><tr><td>2008-07-01 00:56:00.000</td><td>2008-07-01 00:57:00.000</td><td>2008-07-01 00:56:00.000</td></tr><tr><td>2008-07-01 00:57:00.000</td><td>2008-07-01 00:58:00.000</td><td>2008-07-01 00:57:00.000</td></tr><tr><td>2008-07-01 00:58:00.000</td><td>2008-07-01 00:59:00.000</td><td>2008-07-01 00:58:00.000</td></tr><tr><td>2008-07-01 00:59:00.000</td><td>2008-07-01 01:00:00.000</td><td>2008-07-01 00:59:00.000</td></tr><tr><td>2008-07-01 01:00:00.000</td><td>2008-07-01 01:01:00.000</td><td>2008-07-01 01:00:00.000</td></tr><tr><td>2008-07-01 01:01:00.000</td><td>2008-07-01 01:02:00.000</td><td>2008-07-01 01:01:00.000</td></tr><tr><td>2008-07-01 01:02:00.000</td><td>2008-07-01 01:03:00.000</td><td>2008-07-01 01:02:00.000</td></tr><tr><td>2008-07-01 01:03:00.000</td><td>2008-07-01 01:04:00.000</td><td>2008-07-01 01:03:00.000</td></tr><tr><td>2008-07-01 01:04:00.000</td><td>2008-07-01 01:05:00.000</td><td>2008-07-01 01:04:00.000</td></tr><tr><td>2008-07-01 01:05:00.000</td><td>2008-07-01 01:06:00.000</td><td>2008-07-01 01:05:00.000</td></tr><tr><td>2008-07-01 01:06:00.000</td><td>2008-07-01 01:07:00.000</td><td>2008-07-01 01:06:00.000</td></tr><tr><td>2008-07-01 01:07:00.000</td><td>2008-07-01 01:08:00.000</td><td>2008-07-01 01:07:00.000</td></tr><tr><td>2008-07-01 01:08:00.000</td><td>2008-07-01 01:09:00.000</td><td>2008-07-01 01:08:00.000</td></tr><tr><td>2008-07-01 01:09:00.000</td><td>2008-07-01 01:10:00.000</td><td>2008-07-01 01:09:00.000</td></tr><tr><td>2008-07-01 01:10:00.000</td><td>2008-07-01 01:11:00.000</td><td>2008-07-01 01:10:00.000</td></tr><tr><td>2008-07-01 01:11:00.000</td><td>2008-07-01 01:12:00.000</td><td>2008-07-01 01:11:00.000</td></tr><tr><td>2008-07-01 01:12:00.000</td><td>2008-07-01 01:13:00.000</td><td>2008-07-01 01:12:00.000</td></tr><tr><td>2008-07-01 01:13:00.000</td><td>2008-07-01 01:14:00.000</td><td>2008-07-01 01:13:00.000</td></tr><tr><td>2008-07-01 01:14:00.000</td><td>2008-07-01 01:15:00.000</td><td>2008-07-01 01:14:00.000</td></tr><tr><td>2008-07-01 01:15:00.000</td><td>2008-07-01 01:16:00.000</td><td>2008-07-01 01:15:00.000</td></tr><tr><td>2008-07-01 01:16:00.000</td><td>2008-07-01 01:17:00.000</td><td>2008-07-01 01:16:00.000</td></tr><tr><td>2008-07-01 01:17:00.000</td><td>2008-07-01 01:18:00.000</td><td>2008-07-01 01:17:00.000</td></tr><tr><td>2008-07-01 01:18:00.000</td><td>2008-07-01 01:19:00.000</td><td>2008-07-01 01:18:00.000</td></tr><tr><td>2008-07-01 01:19:00.000</td><td>2008-07-01 01:20:00.000</td><td>2008-07-01 01:19:00.000</td></tr><tr><td>2008-07-01 01:20:00.000</td><td>2008-07-01 01:21:00.000</td><td>2008-07-01 01:20:00.000</td></tr><tr><td>2008-07-01 01:21:00.000</td><td>2008-07-01 01:22:00.000</td><td>2008-07-01 01:21:00.000</td></tr><tr><td>2008-07-01 01:22:00.000</td><td>2008-07-01 01:23:00.000</td><td>2008-07-01 01:22:00.000</td></tr><tr><td>2008-07-01 01:23:00.000</td><td>2008-07-01 01:24:00.000</td><td>2008-07-01 01:23:00.000</td></tr><tr><td>2008-07-01 01:24:00.000</td><td>2008-07-01 01:25:00.000</td><td>2008-07-01 01:24:00.000</td></tr><tr><td>2008-07-01 01:25:00.000</td><td>2008-07-01 01:26:00.000</td><td>2008-07-01 01:25:00.000</td></tr><tr><td>2008-07-01 01:26:00.000</td><td>2008-07-01 01:27:00.000</td><td>2008-07-01 01:26:00.000</td></tr><tr><td>2008-07-01 01:27:00.000</td><td>2008-07-01 01:28:00.000</td><td>2008-07-01 01:27:00.000</td></tr><tr><td>2008-07-01 01:28:00.000</td><td>2008-07-01 01:29:00.000</td><td>2008-07-01 01:28:00.000</td></tr><tr><td>2008-07-01 01:29:00.000</td><td>2008-07-01 01:30:00.000</td><td>2008-07-01 01:29:00.000</td></tr><tr><td>2008-07-01 01:30:00.000</td><td>2008-07-01 01:31:00.000</td><td>2008-07-01 01:30:00.000</td></tr><tr><td>2008-07-01 01:31:00.000</td><td>2008-07-01 01:32:00.000</td><td>2008-07-01 01:31:00.000</td></tr><tr><td>2008-07-01 01:32:00.000</td><td>2008-07-01 01:33:00.000</td><td>2008-07-01 01:32:00.000</td></tr><tr><td>2008-07-01 01:33:00.000</td><td>2008-07-01 01:34:00.000</td><td>2008-07-01 01:33:00.000</td></tr><tr><td>2008-07-01 01:34:00.000</td><td>2008-07-01 01:35:00.000</td><td>2008-07-01 01:34:00.000</td></tr><tr><td>2008-07-01 01:35:00.000</td><td>2008-07-01 01:36:00.000</td><td>2008-07-01 01:35:00.000</td></tr><tr><td>2008-07-01 01:36:00.000</td><td>2008-07-01 01:37:00.000</td><td>2008-07-01 01:36:00.000</td></tr><tr><td>2008-07-01 01:37:00.000</td><td>2008-07-01 01:38:00.000</td><td>2008-07-01 01:37:00.000</td></tr><tr><td>2008-07-01 01:38:00.000</td><td>2008-07-01 01:39:00.000</td><td>2008-07-01 01:38:00.000</td></tr><tr><td>2008-07-01 01:39:00.000</td><td>2008-07-01 01:40:00.000</td><td>2008-07-01 01:39:00.000</td></tr><tr><td>2008-07-01 01:40:00.000</td><td>2008-07-01 01:41:00.000</td><td>2008-07-01 01:40:00.000</td></tr><tr><td>2008-07-01 01:41:00.000</td><td>2008-07-01 01:42:00.000</td><td>2008-07-01 01:41:00.000</td></tr><tr><td>2008-07-01 01:42:00.000</td><td>2008-07-01 01:43:00.000</td><td>2008-07-01 01:42:00.000</td></tr><tr><td>2008-07-01 01:43:00.000</td><td>2008-07-01 01:44:00.000</td><td>2008-07-01 01:43:00.000</td></tr><tr><td>2008-07-01 01:44:00.000</td><td>2008-07-01 01:45:00.000</td><td>2008-07-01 01:44:00.000</td></tr><tr><td>2008-07-01 01:45:00.000</td><td>2008-07-01 01:46:00.000</td><td>2008-07-01 01:45:00.000</td></tr><tr><td>2008-07-01 01:46:00.000</td><td>2008-07-01 01:47:00.000</td><td>2008-07-01 01:46:00.000</td></tr><tr><td>2008-07-01 01:47:00.000</td><td>2008-07-01 01:48:00.000</td><td>2008-07-01 01:47:00.000</td></tr><tr><td>2008-07-01 01:48:00.000</td><td>2008-07-01 01:49:00.000</td><td>2008-07-01 01:48:00.000</td></tr><tr><td>2008-07-01 01:49:00.000</td><td>2008-07-01 01:50:00.000</td><td>2008-07-01 01:49:00.000</td></tr><tr><td>2008-07-01 01:50:00.000</td><td>2008-07-01 01:51:00.000</td><td>2008-07-01 01:50:00.000</td></tr><tr><td>2008-07-01 01:51:00.000</td><td>2008-07-01 01:52:00.000</td><td>2008-07-01 01:51:00.000</td></tr><tr><td>2008-07-01 01:52:00.000</td><td>2008-07-01 01:53:00.000</td><td>2008-07-01 01:52:00.000</td></tr><tr><td>2008-07-01 01:53:00.000</td><td>2008-07-01 01:54:00.000</td><td>2008-07-01 01:53:00.000</td></tr><tr><td>2008-07-01 01:54:00.000</td><td>2008-07-01 01:55:00.000</td><td>2008-07-01 01:54:00.000</td></tr><tr><td>2008-07-01 01:55:00.000</td><td>2008-07-01 01:56:00.000</td><td>2008-07-01 01:55:00.000</td></tr><tr><td>2008-07-01 01:56:00.000</td><td>2008-07-01 01:57:00.000</td><td>2008-07-01 01:56:00.000</td></tr><tr><td>2008-07-01 01:57:00.000</td><td>2008-07-01 01:58:00.000</td><td>2008-07-01 01:57:00.000</td></tr><tr><td>2008-07-01 01:58:00.000</td><td>2008-07-01 01:59:00.000</td><td>2008-07-01 01:58:00.000</td></tr><tr><td>2008-07-01 01:59:00.000</td><td>2008-07-01 02:00:00.000</td><td>2008-07-01 01:59:00.000</td></tr><tr><td>2008-07-01 02:00:00.000</td><td>2008-07-01 02:01:00.000</td><td>2008-07-01 02:00:00.000</td></tr><tr><td>2008-07-01 02:01:00.000</td><td>2008-07-01 02:02:00.000</td><td>2008-07-01 02:01:00.000</td></tr><tr><td>2008-07-01 02:02:00.000</td><td>2008-07-01 02:03:00.000</td><td>2008-07-01 02:02:00.000</td></tr><tr><td>2008-07-01 02:03:00.000</td><td>2008-07-01 02:04:00.000</td><td>2008-07-01 02:03:00.000</td></tr><tr><td>2008-07-01 02:04:00.000</td><td>2008-07-01 02:05:00.000</td><td>2008-07-01 02:04:00.000</td></tr><tr><td>2008-07-01 02:05:00.000</td><td>2008-07-01 02:06:00.000</td><td>2008-07-01 02:05:00.000</td></tr><tr><td>2008-07-01 02:06:00.000</td><td>2008-07-01 02:07:00.000</td><td>2008-07-01 02:06:00.000</td></tr><tr><td>2008-07-01 02:07:00.000</td><td>2008-07-01 02:08:00.000</td><td>2008-07-01 02:07:00.000</td></tr><tr><td>2008-07-01 02:08:00.000</td><td>2008-07-01 02:09:00.000</td><td>2008-07-01 02:08:00.000</td></tr><tr><td>2008-07-01 02:09:00.000</td><td>2008-07-01 02:10:00.000</td><td>2008-07-01 02:09:00.000</td></tr><tr><td>2008-07-01 02:10:00.000</td><td>2008-07-01 02:11:00.000</td><td>2008-07-01 02:10:00.000</td></tr><tr><td>2008-07-01 02:11:00.000</td><td>2008-07-01 02:12:00.000</td><td>2008-07-01 02:11:00.000</td></tr><tr><td>2008-07-01 02:12:00.000</td><td>2008-07-01 02:13:00.000</td><td>2008-07-01 02:12:00.000</td></tr><tr><td>2008-07-01 02:13:00.000</td><td>2008-07-01 02:14:00.000</td><td>2008-07-01 02:13:00.000</td></tr><tr><td>2008-07-01 02:14:00.000</td><td>2008-07-01 02:15:00.000</td><td>2008-07-01 02:14:00.000</td></tr><tr><td>2008-07-01 02:15:00.000</td><td>2008-07-01 02:16:00.000</td><td>2008-07-01 02:15:00.000</td></tr><tr><td>2008-07-01 02:16:00.000</td><td>2008-07-01 02:17:00.000</td><td>2008-07-01 02:16:00.000</td></tr><tr><td>2008-07-01 02:17:00.000</td><td>2008-07-01 02:18:00.000</td><td>2008-07-01 02:17:00.000</td></tr><tr><td>2008-07-01 02:18:00.000</td><td>2008-07-01 02:19:00.000</td><td>2008-07-01 02:18:00.000</td></tr><tr><td>2008-07-01 02:19:00.000</td><td>2008-07-01 02:20:00.000</td><td>2008-07-01 02:19:00.000</td></tr><tr><td>2008-07-01 02:20:00.000</td><td>2008-07-01 02:21:00.000</td><td>2008-07-01 02:20:00.000</td></tr><tr><td>2008-07-01 02:21:00.000</td><td>2008-07-01 02:22:00.000</td><td>2008-07-01 02:21:00.000</td></tr><tr><td>2008-07-01 02:22:00.000</td><td>2008-07-01 02:23:00.000</td><td>2008-07-01 02:22:00.000</td></tr><tr><td>2008-07-01 02:23:00.000</td><td>2008-07-01 02:24:00.000</td><td>2008-07-01 02:23:00.000</td></tr><tr><td>2008-07-01 02:24:00.000</td><td>2008-07-01 02:25:00.000</td><td>2008-07-01 02:24:00.000</td></tr><tr><td>2008-07-01 02:25:00.000</td><td>2008-07-01 02:26:00.000</td><td>2008-07-01 02:25:00.000</td></tr><tr><td>2008-07-01 02:26:00.000</td><td>2008-07-01 02:27:00.000</td><td>2008-07-01 02:26:00.000</td></tr><tr><td>2008-07-01 02:27:00.000</td><td>2008-07-01 02:28:00.000</td><td>2008-07-01 02:27:00.000</td></tr><tr><td>2008-07-01 02:28:00.000</td><td>2008-07-01 02:29:00.000</td><td>2008-07-01 02:28:00.000</td></tr><tr><td>2008-07-01 02:29:00.000</td><td>2008-07-01 02:30:00.000</td><td>2008-07-01 02:29:00.000</td></tr><tr><td>2008-07-01 02:30:00.000</td><td>2008-07-01 02:31:00.000</td><td>2008-07-01 02:30:00.000</td></tr><tr><td>2008-07-01 02:31:00.000</td><td>2008-07-01 02:32:00.000</td><td>2008-07-01 02:31:00.000</td></tr><tr><td>2008-07-01 02:32:00.000</td><td>2008-07-01 02:33:00.000</td><td>2008-07-01 02:32:00.000</td></tr><tr><td>2008-07-01 02:33:00.000</td><td>2008-07-01 02:34:00.000</td><td>2008-07-01 02:33:00.000</td></tr><tr><td>2008-07-01 02:34:00.000</td><td>2008-07-01 02:35:00.000</td><td>2008-07-01 02:34:00.000</td></tr><tr><td>2008-07-01 02:35:00.000</td><td>2008-07-01 02:36:00.000</td><td>2008-07-01 02:35:00.000</td></tr><tr><td>2008-07-01 02:36:00.000</td><td>2008-07-01 02:37:00.000</td><td>2008-07-01 02:36:00.000</td></tr><tr><td>2008-07-01 02:37:00.000</td><td>2008-07-01 02:38:00.000</td><td>2008-07-01 02:37:00.000</td></tr><tr><td>2008-07-01 02:38:00.000</td><td>2008-07-01 02:39:00.000</td><td>2008-07-01 02:38:00.000</td></tr><tr><td>2008-07-01 02:39:00.000</td><td>2008-07-01 02:40:00.000</td><td>2008-07-01 02:39:00.000</td></tr><tr><td>2008-07-01 02:40:00.000</td><td>2008-07-01 02:41:00.000</td><td>2008-07-01 02:40:00.000</td></tr><tr><td>2008-07-01 02:41:00.000</td><td>2008-07-01 02:42:00.000</td><td>2008-07-01 02:41:00.000</td></tr><tr><td>2008-07-01 02:42:00.000</td><td>2008-07-01 02:43:00.000</td><td>2008-07-01 02:42:00.000</td></tr><tr><td>2008-07-01 02:43:00.000</td><td>2008-07-01 02:44:00.000</td><td>2008-07-01 02:43:00.000</td></tr><tr><td>2008-07-01 02:44:00.000</td><td>2008-07-01 02:45:00.000</td><td>2008-07-01 02:44:00.000</td></tr><tr><td>2008-07-01 02:45:00.000</td><td>2008-07-01 02:46:00.000</td><td>2008-07-01 02:45:00.000</td></tr><tr><td>2008-07-01 02:46:00.000</td><td>2008-07-01 02:47:00.000</td><td>2008-07-01 02:46:00.000</td></tr><tr><td>2008-07-01 02:47:00.000</td><td>2008-07-01 02:48:00.000</td><td>2008-07-01 02:47:00.000</td></tr><tr><td>2008-07-01 02:48:00.000</td><td>2008-07-01 02:49:00.000</td><td>2008-07-01 02:48:00.000</td></tr><tr><td>2008-07-01 02:49:00.000</td><td>2008-07-01 02:50:00.000</td><td>2008-07-01 02:49:00.000</td></tr><tr><td>2008-07-01 02:50:00.000</td><td>2008-07-01 02:51:00.000</td><td>2008-07-01 02:50:00.000</td></tr><tr><td>2008-07-01 02:51:00.000</td><td>2008-07-01 02:52:00.000</td><td>2008-07-01 02:51:00.000</td></tr><tr><td>2008-07-01 02:52:00.000</td><td>2008-07-01 02:53:00.000</td><td>2008-07-01 02:52:00.000</td></tr><tr><td>2008-07-01 02:53:00.000</td><td>2008-07-01 02:54:00.000</td><td>2008-07-01 02:53:00.000</td></tr><tr><td>2008-07-01 02:54:00.000</td><td>2008-07-01 02:55:00.000</td><td>2008-07-01 02:54:00.000</td></tr><tr><td>2008-07-01 02:55:00.000</td><td>2008-07-01 02:56:00.000</td><td>2008-07-01 02:55:00.000</td></tr><tr><td>2008-07-01 02:56:00.000</td><td>2008-07-01 02:57:00.000</td><td>2008-07-01 02:56:00.000</td></tr><tr><td>2008-07-01 02:57:00.000</td><td>2008-07-01 02:58:00.000</td><td>2008-07-01 02:57:00.000</td></tr><tr><td>2008-07-01 02:58:00.000</td><td>2008-07-01 02:59:00.000</td><td>2008-07-01 02:58:00.000</td></tr><tr><td>2008-07-01 02:59:00.000</td><td>2008-07-01 03:00:00.000</td><td>2008-07-01 02:59:00.000</td></tr><tr><td>2008-07-01 03:00:00.000</td><td>2008-07-01 03:01:00.000</td><td>2008-07-01 03:00:00.000</td></tr></table>"
                    }
                }
            ],
            "execution_count": 27
        },
        {
            "cell_type": "markdown",
            "source": " SQL Server Execution Times:\r\n   CPU time = 0 ms,  elapsed time = 1 ms.\r\n\r\n**(181 rows affected)**\r\n\r\n**Table 'Calls'. Scan count 525600, logical reads 1706675, physical reads 2620, read-ahead reads 184, lob logical reads 0, lob physical reads 0, lob read-ahead reads 0.**\r\n\r\nTable 'Commercials'. Scan count 9, logical reads 2793, physical reads 0, read-ahead reads 2487, lob logical reads 0, lob physical reads 0, lob read-ahead reads 0.\r\n\r\nTable 'Worktable'. Scan count 0, logical reads 0, physical reads 0, read-ahead reads 0, lob logical reads 0, lob physical reads 0, lob read-ahead reads 0.\r\n\r\n\r\n**SQL Server Execution Times:**\r\n\r\nCPU time = 1142 ms,  elapsed time = 6352 ms.\r\n\r\nTotal execution time: 00:00:16.400\r\n\r\n## Why is it so slow? I haven't mastered the fine art of adding images to my posts yet, so I have to explain verbally. For every call the DB engine scans all the commercials which begin before the time of the call, which is expensive. The reason is simple: the optimizer does not know that the commercials are short, and that the commercials do not overlap, so it must scan all the potential matches, which are all the commercials which begin before the time of the call.",
            "metadata": {}
        },
        {
            "cell_type": "code",
            "source": "set STATISTICS TIME on\r\nset STATISTICS IO on\r\n\r\n\r\nSELECT s.StartedAt, s.EndedAt, c.AirTime FROM dbo.Calls c CROSS APPLY( \r\n  SELECT TOP 1 s.StartedAt, s.EndedAt FROM dbo.Commercials s  \r\n  WHERE c.AirTime >= s.StartedAt AND c.AirTime < s.EndedAt \r\n  ORDER BY s.StartedAt DESC) AS s WHERE c.AirTime BETWEEN '20080701' AND '20080701 03:00'\r\n\r\nset STATISTICS TIME OFF\r\nset STATISTICS IO OFF\r\n",
            "metadata": {},
            "outputs": [
                {
                    "output_type": "display_data",
                    "data": {
                        "text/html": "\n SQL Server Execution Times:\n   CPU time = 0 ms,  elapsed time = 0 ms."
                    },
                    "metadata": {}
                },
                {
                    "output_type": "display_data",
                    "data": {
                        "text/html": "(181 rows affected)"
                    },
                    "metadata": {}
                },
                {
                    "output_type": "display_data",
                    "data": {
                        "text/html": "Table 'Commercials'. Scan count 181, logical reads 603, physical reads 0, read-ahead reads 0, lob logical reads 0, lob physical reads 0, lob read-ahead reads 0."
                    },
                    "metadata": {}
                },
                {
                    "output_type": "display_data",
                    "data": {
                        "text/html": "Table 'Calls'. Scan count 1, logical reads 11, physical reads 0, read-ahead reads 0, lob logical reads 0, lob physical reads 0, lob read-ahead reads 0."
                    },
                    "metadata": {}
                },
                {
                    "output_type": "display_data",
                    "data": {
                        "text/html": "\n SQL Server Execution Times:\n   CPU time = 0 ms,  elapsed time = 1 ms."
                    },
                    "metadata": {}
                },
                {
                    "output_type": "display_data",
                    "data": {
                        "text/html": "Total execution time: 00:00:00.0145849"
                    },
                    "metadata": {}
                },
                {
                    "output_type": "execute_result",
                    "metadata": {},
                    "execution_count": 28,
                    "data": {
                        "application/vnd.dataresource+json": {
                            "schema": {
                                "fields": [
                                    {
                                        "name": "StartedAt"
                                    },
                                    {
                                        "name": "EndedAt"
                                    },
                                    {
                                        "name": "AirTime"
                                    }
                                ]
                            },
                            "data": [
                                {
                                    "0": "2008-07-01 00:00:00.000",
                                    "1": "2008-07-01 00:01:00.000",
                                    "2": "2008-07-01 00:00:00.000"
                                },
                                {
                                    "0": "2008-07-01 00:01:00.000",
                                    "1": "2008-07-01 00:02:00.000",
                                    "2": "2008-07-01 00:01:00.000"
                                },
                                {
                                    "0": "2008-07-01 00:02:00.000",
                                    "1": "2008-07-01 00:03:00.000",
                                    "2": "2008-07-01 00:02:00.000"
                                },
                                {
                                    "0": "2008-07-01 00:03:00.000",
                                    "1": "2008-07-01 00:04:00.000",
                                    "2": "2008-07-01 00:03:00.000"
                                },
                                {
                                    "0": "2008-07-01 00:04:00.000",
                                    "1": "2008-07-01 00:05:00.000",
                                    "2": "2008-07-01 00:04:00.000"
                                },
                                {
                                    "0": "2008-07-01 00:05:00.000",
                                    "1": "2008-07-01 00:06:00.000",
                                    "2": "2008-07-01 00:05:00.000"
                                },
                                {
                                    "0": "2008-07-01 00:06:00.000",
                                    "1": "2008-07-01 00:07:00.000",
                                    "2": "2008-07-01 00:06:00.000"
                                },
                                {
                                    "0": "2008-07-01 00:07:00.000",
                                    "1": "2008-07-01 00:08:00.000",
                                    "2": "2008-07-01 00:07:00.000"
                                },
                                {
                                    "0": "2008-07-01 00:08:00.000",
                                    "1": "2008-07-01 00:09:00.000",
                                    "2": "2008-07-01 00:08:00.000"
                                },
                                {
                                    "0": "2008-07-01 00:09:00.000",
                                    "1": "2008-07-01 00:10:00.000",
                                    "2": "2008-07-01 00:09:00.000"
                                },
                                {
                                    "0": "2008-07-01 00:10:00.000",
                                    "1": "2008-07-01 00:11:00.000",
                                    "2": "2008-07-01 00:10:00.000"
                                },
                                {
                                    "0": "2008-07-01 00:11:00.000",
                                    "1": "2008-07-01 00:12:00.000",
                                    "2": "2008-07-01 00:11:00.000"
                                },
                                {
                                    "0": "2008-07-01 00:12:00.000",
                                    "1": "2008-07-01 00:13:00.000",
                                    "2": "2008-07-01 00:12:00.000"
                                },
                                {
                                    "0": "2008-07-01 00:13:00.000",
                                    "1": "2008-07-01 00:14:00.000",
                                    "2": "2008-07-01 00:13:00.000"
                                },
                                {
                                    "0": "2008-07-01 00:14:00.000",
                                    "1": "2008-07-01 00:15:00.000",
                                    "2": "2008-07-01 00:14:00.000"
                                },
                                {
                                    "0": "2008-07-01 00:15:00.000",
                                    "1": "2008-07-01 00:16:00.000",
                                    "2": "2008-07-01 00:15:00.000"
                                },
                                {
                                    "0": "2008-07-01 00:16:00.000",
                                    "1": "2008-07-01 00:17:00.000",
                                    "2": "2008-07-01 00:16:00.000"
                                },
                                {
                                    "0": "2008-07-01 00:17:00.000",
                                    "1": "2008-07-01 00:18:00.000",
                                    "2": "2008-07-01 00:17:00.000"
                                },
                                {
                                    "0": "2008-07-01 00:18:00.000",
                                    "1": "2008-07-01 00:19:00.000",
                                    "2": "2008-07-01 00:18:00.000"
                                },
                                {
                                    "0": "2008-07-01 00:19:00.000",
                                    "1": "2008-07-01 00:20:00.000",
                                    "2": "2008-07-01 00:19:00.000"
                                },
                                {
                                    "0": "2008-07-01 00:20:00.000",
                                    "1": "2008-07-01 00:21:00.000",
                                    "2": "2008-07-01 00:20:00.000"
                                },
                                {
                                    "0": "2008-07-01 00:21:00.000",
                                    "1": "2008-07-01 00:22:00.000",
                                    "2": "2008-07-01 00:21:00.000"
                                },
                                {
                                    "0": "2008-07-01 00:22:00.000",
                                    "1": "2008-07-01 00:23:00.000",
                                    "2": "2008-07-01 00:22:00.000"
                                },
                                {
                                    "0": "2008-07-01 00:23:00.000",
                                    "1": "2008-07-01 00:24:00.000",
                                    "2": "2008-07-01 00:23:00.000"
                                },
                                {
                                    "0": "2008-07-01 00:24:00.000",
                                    "1": "2008-07-01 00:25:00.000",
                                    "2": "2008-07-01 00:24:00.000"
                                },
                                {
                                    "0": "2008-07-01 00:25:00.000",
                                    "1": "2008-07-01 00:26:00.000",
                                    "2": "2008-07-01 00:25:00.000"
                                },
                                {
                                    "0": "2008-07-01 00:26:00.000",
                                    "1": "2008-07-01 00:27:00.000",
                                    "2": "2008-07-01 00:26:00.000"
                                },
                                {
                                    "0": "2008-07-01 00:27:00.000",
                                    "1": "2008-07-01 00:28:00.000",
                                    "2": "2008-07-01 00:27:00.000"
                                },
                                {
                                    "0": "2008-07-01 00:28:00.000",
                                    "1": "2008-07-01 00:29:00.000",
                                    "2": "2008-07-01 00:28:00.000"
                                },
                                {
                                    "0": "2008-07-01 00:29:00.000",
                                    "1": "2008-07-01 00:30:00.000",
                                    "2": "2008-07-01 00:29:00.000"
                                },
                                {
                                    "0": "2008-07-01 00:30:00.000",
                                    "1": "2008-07-01 00:31:00.000",
                                    "2": "2008-07-01 00:30:00.000"
                                },
                                {
                                    "0": "2008-07-01 00:31:00.000",
                                    "1": "2008-07-01 00:32:00.000",
                                    "2": "2008-07-01 00:31:00.000"
                                },
                                {
                                    "0": "2008-07-01 00:32:00.000",
                                    "1": "2008-07-01 00:33:00.000",
                                    "2": "2008-07-01 00:32:00.000"
                                },
                                {
                                    "0": "2008-07-01 00:33:00.000",
                                    "1": "2008-07-01 00:34:00.000",
                                    "2": "2008-07-01 00:33:00.000"
                                },
                                {
                                    "0": "2008-07-01 00:34:00.000",
                                    "1": "2008-07-01 00:35:00.000",
                                    "2": "2008-07-01 00:34:00.000"
                                },
                                {
                                    "0": "2008-07-01 00:35:00.000",
                                    "1": "2008-07-01 00:36:00.000",
                                    "2": "2008-07-01 00:35:00.000"
                                },
                                {
                                    "0": "2008-07-01 00:36:00.000",
                                    "1": "2008-07-01 00:37:00.000",
                                    "2": "2008-07-01 00:36:00.000"
                                },
                                {
                                    "0": "2008-07-01 00:37:00.000",
                                    "1": "2008-07-01 00:38:00.000",
                                    "2": "2008-07-01 00:37:00.000"
                                },
                                {
                                    "0": "2008-07-01 00:38:00.000",
                                    "1": "2008-07-01 00:39:00.000",
                                    "2": "2008-07-01 00:38:00.000"
                                },
                                {
                                    "0": "2008-07-01 00:39:00.000",
                                    "1": "2008-07-01 00:40:00.000",
                                    "2": "2008-07-01 00:39:00.000"
                                },
                                {
                                    "0": "2008-07-01 00:40:00.000",
                                    "1": "2008-07-01 00:41:00.000",
                                    "2": "2008-07-01 00:40:00.000"
                                },
                                {
                                    "0": "2008-07-01 00:41:00.000",
                                    "1": "2008-07-01 00:42:00.000",
                                    "2": "2008-07-01 00:41:00.000"
                                },
                                {
                                    "0": "2008-07-01 00:42:00.000",
                                    "1": "2008-07-01 00:43:00.000",
                                    "2": "2008-07-01 00:42:00.000"
                                },
                                {
                                    "0": "2008-07-01 00:43:00.000",
                                    "1": "2008-07-01 00:44:00.000",
                                    "2": "2008-07-01 00:43:00.000"
                                },
                                {
                                    "0": "2008-07-01 00:44:00.000",
                                    "1": "2008-07-01 00:45:00.000",
                                    "2": "2008-07-01 00:44:00.000"
                                },
                                {
                                    "0": "2008-07-01 00:45:00.000",
                                    "1": "2008-07-01 00:46:00.000",
                                    "2": "2008-07-01 00:45:00.000"
                                },
                                {
                                    "0": "2008-07-01 00:46:00.000",
                                    "1": "2008-07-01 00:47:00.000",
                                    "2": "2008-07-01 00:46:00.000"
                                },
                                {
                                    "0": "2008-07-01 00:47:00.000",
                                    "1": "2008-07-01 00:48:00.000",
                                    "2": "2008-07-01 00:47:00.000"
                                },
                                {
                                    "0": "2008-07-01 00:48:00.000",
                                    "1": "2008-07-01 00:49:00.000",
                                    "2": "2008-07-01 00:48:00.000"
                                },
                                {
                                    "0": "2008-07-01 00:49:00.000",
                                    "1": "2008-07-01 00:50:00.000",
                                    "2": "2008-07-01 00:49:00.000"
                                },
                                {
                                    "0": "2008-07-01 00:50:00.000",
                                    "1": "2008-07-01 00:51:00.000",
                                    "2": "2008-07-01 00:50:00.000"
                                },
                                {
                                    "0": "2008-07-01 00:51:00.000",
                                    "1": "2008-07-01 00:52:00.000",
                                    "2": "2008-07-01 00:51:00.000"
                                },
                                {
                                    "0": "2008-07-01 00:52:00.000",
                                    "1": "2008-07-01 00:53:00.000",
                                    "2": "2008-07-01 00:52:00.000"
                                },
                                {
                                    "0": "2008-07-01 00:53:00.000",
                                    "1": "2008-07-01 00:54:00.000",
                                    "2": "2008-07-01 00:53:00.000"
                                },
                                {
                                    "0": "2008-07-01 00:54:00.000",
                                    "1": "2008-07-01 00:55:00.000",
                                    "2": "2008-07-01 00:54:00.000"
                                },
                                {
                                    "0": "2008-07-01 00:55:00.000",
                                    "1": "2008-07-01 00:56:00.000",
                                    "2": "2008-07-01 00:55:00.000"
                                },
                                {
                                    "0": "2008-07-01 00:56:00.000",
                                    "1": "2008-07-01 00:57:00.000",
                                    "2": "2008-07-01 00:56:00.000"
                                },
                                {
                                    "0": "2008-07-01 00:57:00.000",
                                    "1": "2008-07-01 00:58:00.000",
                                    "2": "2008-07-01 00:57:00.000"
                                },
                                {
                                    "0": "2008-07-01 00:58:00.000",
                                    "1": "2008-07-01 00:59:00.000",
                                    "2": "2008-07-01 00:58:00.000"
                                },
                                {
                                    "0": "2008-07-01 00:59:00.000",
                                    "1": "2008-07-01 01:00:00.000",
                                    "2": "2008-07-01 00:59:00.000"
                                },
                                {
                                    "0": "2008-07-01 01:00:00.000",
                                    "1": "2008-07-01 01:01:00.000",
                                    "2": "2008-07-01 01:00:00.000"
                                },
                                {
                                    "0": "2008-07-01 01:01:00.000",
                                    "1": "2008-07-01 01:02:00.000",
                                    "2": "2008-07-01 01:01:00.000"
                                },
                                {
                                    "0": "2008-07-01 01:02:00.000",
                                    "1": "2008-07-01 01:03:00.000",
                                    "2": "2008-07-01 01:02:00.000"
                                },
                                {
                                    "0": "2008-07-01 01:03:00.000",
                                    "1": "2008-07-01 01:04:00.000",
                                    "2": "2008-07-01 01:03:00.000"
                                },
                                {
                                    "0": "2008-07-01 01:04:00.000",
                                    "1": "2008-07-01 01:05:00.000",
                                    "2": "2008-07-01 01:04:00.000"
                                },
                                {
                                    "0": "2008-07-01 01:05:00.000",
                                    "1": "2008-07-01 01:06:00.000",
                                    "2": "2008-07-01 01:05:00.000"
                                },
                                {
                                    "0": "2008-07-01 01:06:00.000",
                                    "1": "2008-07-01 01:07:00.000",
                                    "2": "2008-07-01 01:06:00.000"
                                },
                                {
                                    "0": "2008-07-01 01:07:00.000",
                                    "1": "2008-07-01 01:08:00.000",
                                    "2": "2008-07-01 01:07:00.000"
                                },
                                {
                                    "0": "2008-07-01 01:08:00.000",
                                    "1": "2008-07-01 01:09:00.000",
                                    "2": "2008-07-01 01:08:00.000"
                                },
                                {
                                    "0": "2008-07-01 01:09:00.000",
                                    "1": "2008-07-01 01:10:00.000",
                                    "2": "2008-07-01 01:09:00.000"
                                },
                                {
                                    "0": "2008-07-01 01:10:00.000",
                                    "1": "2008-07-01 01:11:00.000",
                                    "2": "2008-07-01 01:10:00.000"
                                },
                                {
                                    "0": "2008-07-01 01:11:00.000",
                                    "1": "2008-07-01 01:12:00.000",
                                    "2": "2008-07-01 01:11:00.000"
                                },
                                {
                                    "0": "2008-07-01 01:12:00.000",
                                    "1": "2008-07-01 01:13:00.000",
                                    "2": "2008-07-01 01:12:00.000"
                                },
                                {
                                    "0": "2008-07-01 01:13:00.000",
                                    "1": "2008-07-01 01:14:00.000",
                                    "2": "2008-07-01 01:13:00.000"
                                },
                                {
                                    "0": "2008-07-01 01:14:00.000",
                                    "1": "2008-07-01 01:15:00.000",
                                    "2": "2008-07-01 01:14:00.000"
                                },
                                {
                                    "0": "2008-07-01 01:15:00.000",
                                    "1": "2008-07-01 01:16:00.000",
                                    "2": "2008-07-01 01:15:00.000"
                                },
                                {
                                    "0": "2008-07-01 01:16:00.000",
                                    "1": "2008-07-01 01:17:00.000",
                                    "2": "2008-07-01 01:16:00.000"
                                },
                                {
                                    "0": "2008-07-01 01:17:00.000",
                                    "1": "2008-07-01 01:18:00.000",
                                    "2": "2008-07-01 01:17:00.000"
                                },
                                {
                                    "0": "2008-07-01 01:18:00.000",
                                    "1": "2008-07-01 01:19:00.000",
                                    "2": "2008-07-01 01:18:00.000"
                                },
                                {
                                    "0": "2008-07-01 01:19:00.000",
                                    "1": "2008-07-01 01:20:00.000",
                                    "2": "2008-07-01 01:19:00.000"
                                },
                                {
                                    "0": "2008-07-01 01:20:00.000",
                                    "1": "2008-07-01 01:21:00.000",
                                    "2": "2008-07-01 01:20:00.000"
                                },
                                {
                                    "0": "2008-07-01 01:21:00.000",
                                    "1": "2008-07-01 01:22:00.000",
                                    "2": "2008-07-01 01:21:00.000"
                                },
                                {
                                    "0": "2008-07-01 01:22:00.000",
                                    "1": "2008-07-01 01:23:00.000",
                                    "2": "2008-07-01 01:22:00.000"
                                },
                                {
                                    "0": "2008-07-01 01:23:00.000",
                                    "1": "2008-07-01 01:24:00.000",
                                    "2": "2008-07-01 01:23:00.000"
                                },
                                {
                                    "0": "2008-07-01 01:24:00.000",
                                    "1": "2008-07-01 01:25:00.000",
                                    "2": "2008-07-01 01:24:00.000"
                                },
                                {
                                    "0": "2008-07-01 01:25:00.000",
                                    "1": "2008-07-01 01:26:00.000",
                                    "2": "2008-07-01 01:25:00.000"
                                },
                                {
                                    "0": "2008-07-01 01:26:00.000",
                                    "1": "2008-07-01 01:27:00.000",
                                    "2": "2008-07-01 01:26:00.000"
                                },
                                {
                                    "0": "2008-07-01 01:27:00.000",
                                    "1": "2008-07-01 01:28:00.000",
                                    "2": "2008-07-01 01:27:00.000"
                                },
                                {
                                    "0": "2008-07-01 01:28:00.000",
                                    "1": "2008-07-01 01:29:00.000",
                                    "2": "2008-07-01 01:28:00.000"
                                },
                                {
                                    "0": "2008-07-01 01:29:00.000",
                                    "1": "2008-07-01 01:30:00.000",
                                    "2": "2008-07-01 01:29:00.000"
                                },
                                {
                                    "0": "2008-07-01 01:30:00.000",
                                    "1": "2008-07-01 01:31:00.000",
                                    "2": "2008-07-01 01:30:00.000"
                                },
                                {
                                    "0": "2008-07-01 01:31:00.000",
                                    "1": "2008-07-01 01:32:00.000",
                                    "2": "2008-07-01 01:31:00.000"
                                },
                                {
                                    "0": "2008-07-01 01:32:00.000",
                                    "1": "2008-07-01 01:33:00.000",
                                    "2": "2008-07-01 01:32:00.000"
                                },
                                {
                                    "0": "2008-07-01 01:33:00.000",
                                    "1": "2008-07-01 01:34:00.000",
                                    "2": "2008-07-01 01:33:00.000"
                                },
                                {
                                    "0": "2008-07-01 01:34:00.000",
                                    "1": "2008-07-01 01:35:00.000",
                                    "2": "2008-07-01 01:34:00.000"
                                },
                                {
                                    "0": "2008-07-01 01:35:00.000",
                                    "1": "2008-07-01 01:36:00.000",
                                    "2": "2008-07-01 01:35:00.000"
                                },
                                {
                                    "0": "2008-07-01 01:36:00.000",
                                    "1": "2008-07-01 01:37:00.000",
                                    "2": "2008-07-01 01:36:00.000"
                                },
                                {
                                    "0": "2008-07-01 01:37:00.000",
                                    "1": "2008-07-01 01:38:00.000",
                                    "2": "2008-07-01 01:37:00.000"
                                },
                                {
                                    "0": "2008-07-01 01:38:00.000",
                                    "1": "2008-07-01 01:39:00.000",
                                    "2": "2008-07-01 01:38:00.000"
                                },
                                {
                                    "0": "2008-07-01 01:39:00.000",
                                    "1": "2008-07-01 01:40:00.000",
                                    "2": "2008-07-01 01:39:00.000"
                                },
                                {
                                    "0": "2008-07-01 01:40:00.000",
                                    "1": "2008-07-01 01:41:00.000",
                                    "2": "2008-07-01 01:40:00.000"
                                },
                                {
                                    "0": "2008-07-01 01:41:00.000",
                                    "1": "2008-07-01 01:42:00.000",
                                    "2": "2008-07-01 01:41:00.000"
                                },
                                {
                                    "0": "2008-07-01 01:42:00.000",
                                    "1": "2008-07-01 01:43:00.000",
                                    "2": "2008-07-01 01:42:00.000"
                                },
                                {
                                    "0": "2008-07-01 01:43:00.000",
                                    "1": "2008-07-01 01:44:00.000",
                                    "2": "2008-07-01 01:43:00.000"
                                },
                                {
                                    "0": "2008-07-01 01:44:00.000",
                                    "1": "2008-07-01 01:45:00.000",
                                    "2": "2008-07-01 01:44:00.000"
                                },
                                {
                                    "0": "2008-07-01 01:45:00.000",
                                    "1": "2008-07-01 01:46:00.000",
                                    "2": "2008-07-01 01:45:00.000"
                                },
                                {
                                    "0": "2008-07-01 01:46:00.000",
                                    "1": "2008-07-01 01:47:00.000",
                                    "2": "2008-07-01 01:46:00.000"
                                },
                                {
                                    "0": "2008-07-01 01:47:00.000",
                                    "1": "2008-07-01 01:48:00.000",
                                    "2": "2008-07-01 01:47:00.000"
                                },
                                {
                                    "0": "2008-07-01 01:48:00.000",
                                    "1": "2008-07-01 01:49:00.000",
                                    "2": "2008-07-01 01:48:00.000"
                                },
                                {
                                    "0": "2008-07-01 01:49:00.000",
                                    "1": "2008-07-01 01:50:00.000",
                                    "2": "2008-07-01 01:49:00.000"
                                },
                                {
                                    "0": "2008-07-01 01:50:00.000",
                                    "1": "2008-07-01 01:51:00.000",
                                    "2": "2008-07-01 01:50:00.000"
                                },
                                {
                                    "0": "2008-07-01 01:51:00.000",
                                    "1": "2008-07-01 01:52:00.000",
                                    "2": "2008-07-01 01:51:00.000"
                                },
                                {
                                    "0": "2008-07-01 01:52:00.000",
                                    "1": "2008-07-01 01:53:00.000",
                                    "2": "2008-07-01 01:52:00.000"
                                },
                                {
                                    "0": "2008-07-01 01:53:00.000",
                                    "1": "2008-07-01 01:54:00.000",
                                    "2": "2008-07-01 01:53:00.000"
                                },
                                {
                                    "0": "2008-07-01 01:54:00.000",
                                    "1": "2008-07-01 01:55:00.000",
                                    "2": "2008-07-01 01:54:00.000"
                                },
                                {
                                    "0": "2008-07-01 01:55:00.000",
                                    "1": "2008-07-01 01:56:00.000",
                                    "2": "2008-07-01 01:55:00.000"
                                },
                                {
                                    "0": "2008-07-01 01:56:00.000",
                                    "1": "2008-07-01 01:57:00.000",
                                    "2": "2008-07-01 01:56:00.000"
                                },
                                {
                                    "0": "2008-07-01 01:57:00.000",
                                    "1": "2008-07-01 01:58:00.000",
                                    "2": "2008-07-01 01:57:00.000"
                                },
                                {
                                    "0": "2008-07-01 01:58:00.000",
                                    "1": "2008-07-01 01:59:00.000",
                                    "2": "2008-07-01 01:58:00.000"
                                },
                                {
                                    "0": "2008-07-01 01:59:00.000",
                                    "1": "2008-07-01 02:00:00.000",
                                    "2": "2008-07-01 01:59:00.000"
                                },
                                {
                                    "0": "2008-07-01 02:00:00.000",
                                    "1": "2008-07-01 02:01:00.000",
                                    "2": "2008-07-01 02:00:00.000"
                                },
                                {
                                    "0": "2008-07-01 02:01:00.000",
                                    "1": "2008-07-01 02:02:00.000",
                                    "2": "2008-07-01 02:01:00.000"
                                },
                                {
                                    "0": "2008-07-01 02:02:00.000",
                                    "1": "2008-07-01 02:03:00.000",
                                    "2": "2008-07-01 02:02:00.000"
                                },
                                {
                                    "0": "2008-07-01 02:03:00.000",
                                    "1": "2008-07-01 02:04:00.000",
                                    "2": "2008-07-01 02:03:00.000"
                                },
                                {
                                    "0": "2008-07-01 02:04:00.000",
                                    "1": "2008-07-01 02:05:00.000",
                                    "2": "2008-07-01 02:04:00.000"
                                },
                                {
                                    "0": "2008-07-01 02:05:00.000",
                                    "1": "2008-07-01 02:06:00.000",
                                    "2": "2008-07-01 02:05:00.000"
                                },
                                {
                                    "0": "2008-07-01 02:06:00.000",
                                    "1": "2008-07-01 02:07:00.000",
                                    "2": "2008-07-01 02:06:00.000"
                                },
                                {
                                    "0": "2008-07-01 02:07:00.000",
                                    "1": "2008-07-01 02:08:00.000",
                                    "2": "2008-07-01 02:07:00.000"
                                },
                                {
                                    "0": "2008-07-01 02:08:00.000",
                                    "1": "2008-07-01 02:09:00.000",
                                    "2": "2008-07-01 02:08:00.000"
                                },
                                {
                                    "0": "2008-07-01 02:09:00.000",
                                    "1": "2008-07-01 02:10:00.000",
                                    "2": "2008-07-01 02:09:00.000"
                                },
                                {
                                    "0": "2008-07-01 02:10:00.000",
                                    "1": "2008-07-01 02:11:00.000",
                                    "2": "2008-07-01 02:10:00.000"
                                },
                                {
                                    "0": "2008-07-01 02:11:00.000",
                                    "1": "2008-07-01 02:12:00.000",
                                    "2": "2008-07-01 02:11:00.000"
                                },
                                {
                                    "0": "2008-07-01 02:12:00.000",
                                    "1": "2008-07-01 02:13:00.000",
                                    "2": "2008-07-01 02:12:00.000"
                                },
                                {
                                    "0": "2008-07-01 02:13:00.000",
                                    "1": "2008-07-01 02:14:00.000",
                                    "2": "2008-07-01 02:13:00.000"
                                },
                                {
                                    "0": "2008-07-01 02:14:00.000",
                                    "1": "2008-07-01 02:15:00.000",
                                    "2": "2008-07-01 02:14:00.000"
                                },
                                {
                                    "0": "2008-07-01 02:15:00.000",
                                    "1": "2008-07-01 02:16:00.000",
                                    "2": "2008-07-01 02:15:00.000"
                                },
                                {
                                    "0": "2008-07-01 02:16:00.000",
                                    "1": "2008-07-01 02:17:00.000",
                                    "2": "2008-07-01 02:16:00.000"
                                },
                                {
                                    "0": "2008-07-01 02:17:00.000",
                                    "1": "2008-07-01 02:18:00.000",
                                    "2": "2008-07-01 02:17:00.000"
                                },
                                {
                                    "0": "2008-07-01 02:18:00.000",
                                    "1": "2008-07-01 02:19:00.000",
                                    "2": "2008-07-01 02:18:00.000"
                                },
                                {
                                    "0": "2008-07-01 02:19:00.000",
                                    "1": "2008-07-01 02:20:00.000",
                                    "2": "2008-07-01 02:19:00.000"
                                },
                                {
                                    "0": "2008-07-01 02:20:00.000",
                                    "1": "2008-07-01 02:21:00.000",
                                    "2": "2008-07-01 02:20:00.000"
                                },
                                {
                                    "0": "2008-07-01 02:21:00.000",
                                    "1": "2008-07-01 02:22:00.000",
                                    "2": "2008-07-01 02:21:00.000"
                                },
                                {
                                    "0": "2008-07-01 02:22:00.000",
                                    "1": "2008-07-01 02:23:00.000",
                                    "2": "2008-07-01 02:22:00.000"
                                },
                                {
                                    "0": "2008-07-01 02:23:00.000",
                                    "1": "2008-07-01 02:24:00.000",
                                    "2": "2008-07-01 02:23:00.000"
                                },
                                {
                                    "0": "2008-07-01 02:24:00.000",
                                    "1": "2008-07-01 02:25:00.000",
                                    "2": "2008-07-01 02:24:00.000"
                                },
                                {
                                    "0": "2008-07-01 02:25:00.000",
                                    "1": "2008-07-01 02:26:00.000",
                                    "2": "2008-07-01 02:25:00.000"
                                },
                                {
                                    "0": "2008-07-01 02:26:00.000",
                                    "1": "2008-07-01 02:27:00.000",
                                    "2": "2008-07-01 02:26:00.000"
                                },
                                {
                                    "0": "2008-07-01 02:27:00.000",
                                    "1": "2008-07-01 02:28:00.000",
                                    "2": "2008-07-01 02:27:00.000"
                                },
                                {
                                    "0": "2008-07-01 02:28:00.000",
                                    "1": "2008-07-01 02:29:00.000",
                                    "2": "2008-07-01 02:28:00.000"
                                },
                                {
                                    "0": "2008-07-01 02:29:00.000",
                                    "1": "2008-07-01 02:30:00.000",
                                    "2": "2008-07-01 02:29:00.000"
                                },
                                {
                                    "0": "2008-07-01 02:30:00.000",
                                    "1": "2008-07-01 02:31:00.000",
                                    "2": "2008-07-01 02:30:00.000"
                                },
                                {
                                    "0": "2008-07-01 02:31:00.000",
                                    "1": "2008-07-01 02:32:00.000",
                                    "2": "2008-07-01 02:31:00.000"
                                },
                                {
                                    "0": "2008-07-01 02:32:00.000",
                                    "1": "2008-07-01 02:33:00.000",
                                    "2": "2008-07-01 02:32:00.000"
                                },
                                {
                                    "0": "2008-07-01 02:33:00.000",
                                    "1": "2008-07-01 02:34:00.000",
                                    "2": "2008-07-01 02:33:00.000"
                                },
                                {
                                    "0": "2008-07-01 02:34:00.000",
                                    "1": "2008-07-01 02:35:00.000",
                                    "2": "2008-07-01 02:34:00.000"
                                },
                                {
                                    "0": "2008-07-01 02:35:00.000",
                                    "1": "2008-07-01 02:36:00.000",
                                    "2": "2008-07-01 02:35:00.000"
                                },
                                {
                                    "0": "2008-07-01 02:36:00.000",
                                    "1": "2008-07-01 02:37:00.000",
                                    "2": "2008-07-01 02:36:00.000"
                                },
                                {
                                    "0": "2008-07-01 02:37:00.000",
                                    "1": "2008-07-01 02:38:00.000",
                                    "2": "2008-07-01 02:37:00.000"
                                },
                                {
                                    "0": "2008-07-01 02:38:00.000",
                                    "1": "2008-07-01 02:39:00.000",
                                    "2": "2008-07-01 02:38:00.000"
                                },
                                {
                                    "0": "2008-07-01 02:39:00.000",
                                    "1": "2008-07-01 02:40:00.000",
                                    "2": "2008-07-01 02:39:00.000"
                                },
                                {
                                    "0": "2008-07-01 02:40:00.000",
                                    "1": "2008-07-01 02:41:00.000",
                                    "2": "2008-07-01 02:40:00.000"
                                },
                                {
                                    "0": "2008-07-01 02:41:00.000",
                                    "1": "2008-07-01 02:42:00.000",
                                    "2": "2008-07-01 02:41:00.000"
                                },
                                {
                                    "0": "2008-07-01 02:42:00.000",
                                    "1": "2008-07-01 02:43:00.000",
                                    "2": "2008-07-01 02:42:00.000"
                                },
                                {
                                    "0": "2008-07-01 02:43:00.000",
                                    "1": "2008-07-01 02:44:00.000",
                                    "2": "2008-07-01 02:43:00.000"
                                },
                                {
                                    "0": "2008-07-01 02:44:00.000",
                                    "1": "2008-07-01 02:45:00.000",
                                    "2": "2008-07-01 02:44:00.000"
                                },
                                {
                                    "0": "2008-07-01 02:45:00.000",
                                    "1": "2008-07-01 02:46:00.000",
                                    "2": "2008-07-01 02:45:00.000"
                                },
                                {
                                    "0": "2008-07-01 02:46:00.000",
                                    "1": "2008-07-01 02:47:00.000",
                                    "2": "2008-07-01 02:46:00.000"
                                },
                                {
                                    "0": "2008-07-01 02:47:00.000",
                                    "1": "2008-07-01 02:48:00.000",
                                    "2": "2008-07-01 02:47:00.000"
                                },
                                {
                                    "0": "2008-07-01 02:48:00.000",
                                    "1": "2008-07-01 02:49:00.000",
                                    "2": "2008-07-01 02:48:00.000"
                                },
                                {
                                    "0": "2008-07-01 02:49:00.000",
                                    "1": "2008-07-01 02:50:00.000",
                                    "2": "2008-07-01 02:49:00.000"
                                },
                                {
                                    "0": "2008-07-01 02:50:00.000",
                                    "1": "2008-07-01 02:51:00.000",
                                    "2": "2008-07-01 02:50:00.000"
                                },
                                {
                                    "0": "2008-07-01 02:51:00.000",
                                    "1": "2008-07-01 02:52:00.000",
                                    "2": "2008-07-01 02:51:00.000"
                                },
                                {
                                    "0": "2008-07-01 02:52:00.000",
                                    "1": "2008-07-01 02:53:00.000",
                                    "2": "2008-07-01 02:52:00.000"
                                },
                                {
                                    "0": "2008-07-01 02:53:00.000",
                                    "1": "2008-07-01 02:54:00.000",
                                    "2": "2008-07-01 02:53:00.000"
                                },
                                {
                                    "0": "2008-07-01 02:54:00.000",
                                    "1": "2008-07-01 02:55:00.000",
                                    "2": "2008-07-01 02:54:00.000"
                                },
                                {
                                    "0": "2008-07-01 02:55:00.000",
                                    "1": "2008-07-01 02:56:00.000",
                                    "2": "2008-07-01 02:55:00.000"
                                },
                                {
                                    "0": "2008-07-01 02:56:00.000",
                                    "1": "2008-07-01 02:57:00.000",
                                    "2": "2008-07-01 02:56:00.000"
                                },
                                {
                                    "0": "2008-07-01 02:57:00.000",
                                    "1": "2008-07-01 02:58:00.000",
                                    "2": "2008-07-01 02:57:00.000"
                                },
                                {
                                    "0": "2008-07-01 02:58:00.000",
                                    "1": "2008-07-01 02:59:00.000",
                                    "2": "2008-07-01 02:58:00.000"
                                },
                                {
                                    "0": "2008-07-01 02:59:00.000",
                                    "1": "2008-07-01 03:00:00.000",
                                    "2": "2008-07-01 02:59:00.000"
                                },
                                {
                                    "0": "2008-07-01 03:00:00.000",
                                    "1": "2008-07-01 03:01:00.000",
                                    "2": "2008-07-01 03:00:00.000"
                                }
                            ]
                        },
                        "text/html": "<table><tr><th>StartedAt</th><th>EndedAt</th><th>AirTime</th></tr><tr><td>2008-07-01 00:00:00.000</td><td>2008-07-01 00:01:00.000</td><td>2008-07-01 00:00:00.000</td></tr><tr><td>2008-07-01 00:01:00.000</td><td>2008-07-01 00:02:00.000</td><td>2008-07-01 00:01:00.000</td></tr><tr><td>2008-07-01 00:02:00.000</td><td>2008-07-01 00:03:00.000</td><td>2008-07-01 00:02:00.000</td></tr><tr><td>2008-07-01 00:03:00.000</td><td>2008-07-01 00:04:00.000</td><td>2008-07-01 00:03:00.000</td></tr><tr><td>2008-07-01 00:04:00.000</td><td>2008-07-01 00:05:00.000</td><td>2008-07-01 00:04:00.000</td></tr><tr><td>2008-07-01 00:05:00.000</td><td>2008-07-01 00:06:00.000</td><td>2008-07-01 00:05:00.000</td></tr><tr><td>2008-07-01 00:06:00.000</td><td>2008-07-01 00:07:00.000</td><td>2008-07-01 00:06:00.000</td></tr><tr><td>2008-07-01 00:07:00.000</td><td>2008-07-01 00:08:00.000</td><td>2008-07-01 00:07:00.000</td></tr><tr><td>2008-07-01 00:08:00.000</td><td>2008-07-01 00:09:00.000</td><td>2008-07-01 00:08:00.000</td></tr><tr><td>2008-07-01 00:09:00.000</td><td>2008-07-01 00:10:00.000</td><td>2008-07-01 00:09:00.000</td></tr><tr><td>2008-07-01 00:10:00.000</td><td>2008-07-01 00:11:00.000</td><td>2008-07-01 00:10:00.000</td></tr><tr><td>2008-07-01 00:11:00.000</td><td>2008-07-01 00:12:00.000</td><td>2008-07-01 00:11:00.000</td></tr><tr><td>2008-07-01 00:12:00.000</td><td>2008-07-01 00:13:00.000</td><td>2008-07-01 00:12:00.000</td></tr><tr><td>2008-07-01 00:13:00.000</td><td>2008-07-01 00:14:00.000</td><td>2008-07-01 00:13:00.000</td></tr><tr><td>2008-07-01 00:14:00.000</td><td>2008-07-01 00:15:00.000</td><td>2008-07-01 00:14:00.000</td></tr><tr><td>2008-07-01 00:15:00.000</td><td>2008-07-01 00:16:00.000</td><td>2008-07-01 00:15:00.000</td></tr><tr><td>2008-07-01 00:16:00.000</td><td>2008-07-01 00:17:00.000</td><td>2008-07-01 00:16:00.000</td></tr><tr><td>2008-07-01 00:17:00.000</td><td>2008-07-01 00:18:00.000</td><td>2008-07-01 00:17:00.000</td></tr><tr><td>2008-07-01 00:18:00.000</td><td>2008-07-01 00:19:00.000</td><td>2008-07-01 00:18:00.000</td></tr><tr><td>2008-07-01 00:19:00.000</td><td>2008-07-01 00:20:00.000</td><td>2008-07-01 00:19:00.000</td></tr><tr><td>2008-07-01 00:20:00.000</td><td>2008-07-01 00:21:00.000</td><td>2008-07-01 00:20:00.000</td></tr><tr><td>2008-07-01 00:21:00.000</td><td>2008-07-01 00:22:00.000</td><td>2008-07-01 00:21:00.000</td></tr><tr><td>2008-07-01 00:22:00.000</td><td>2008-07-01 00:23:00.000</td><td>2008-07-01 00:22:00.000</td></tr><tr><td>2008-07-01 00:23:00.000</td><td>2008-07-01 00:24:00.000</td><td>2008-07-01 00:23:00.000</td></tr><tr><td>2008-07-01 00:24:00.000</td><td>2008-07-01 00:25:00.000</td><td>2008-07-01 00:24:00.000</td></tr><tr><td>2008-07-01 00:25:00.000</td><td>2008-07-01 00:26:00.000</td><td>2008-07-01 00:25:00.000</td></tr><tr><td>2008-07-01 00:26:00.000</td><td>2008-07-01 00:27:00.000</td><td>2008-07-01 00:26:00.000</td></tr><tr><td>2008-07-01 00:27:00.000</td><td>2008-07-01 00:28:00.000</td><td>2008-07-01 00:27:00.000</td></tr><tr><td>2008-07-01 00:28:00.000</td><td>2008-07-01 00:29:00.000</td><td>2008-07-01 00:28:00.000</td></tr><tr><td>2008-07-01 00:29:00.000</td><td>2008-07-01 00:30:00.000</td><td>2008-07-01 00:29:00.000</td></tr><tr><td>2008-07-01 00:30:00.000</td><td>2008-07-01 00:31:00.000</td><td>2008-07-01 00:30:00.000</td></tr><tr><td>2008-07-01 00:31:00.000</td><td>2008-07-01 00:32:00.000</td><td>2008-07-01 00:31:00.000</td></tr><tr><td>2008-07-01 00:32:00.000</td><td>2008-07-01 00:33:00.000</td><td>2008-07-01 00:32:00.000</td></tr><tr><td>2008-07-01 00:33:00.000</td><td>2008-07-01 00:34:00.000</td><td>2008-07-01 00:33:00.000</td></tr><tr><td>2008-07-01 00:34:00.000</td><td>2008-07-01 00:35:00.000</td><td>2008-07-01 00:34:00.000</td></tr><tr><td>2008-07-01 00:35:00.000</td><td>2008-07-01 00:36:00.000</td><td>2008-07-01 00:35:00.000</td></tr><tr><td>2008-07-01 00:36:00.000</td><td>2008-07-01 00:37:00.000</td><td>2008-07-01 00:36:00.000</td></tr><tr><td>2008-07-01 00:37:00.000</td><td>2008-07-01 00:38:00.000</td><td>2008-07-01 00:37:00.000</td></tr><tr><td>2008-07-01 00:38:00.000</td><td>2008-07-01 00:39:00.000</td><td>2008-07-01 00:38:00.000</td></tr><tr><td>2008-07-01 00:39:00.000</td><td>2008-07-01 00:40:00.000</td><td>2008-07-01 00:39:00.000</td></tr><tr><td>2008-07-01 00:40:00.000</td><td>2008-07-01 00:41:00.000</td><td>2008-07-01 00:40:00.000</td></tr><tr><td>2008-07-01 00:41:00.000</td><td>2008-07-01 00:42:00.000</td><td>2008-07-01 00:41:00.000</td></tr><tr><td>2008-07-01 00:42:00.000</td><td>2008-07-01 00:43:00.000</td><td>2008-07-01 00:42:00.000</td></tr><tr><td>2008-07-01 00:43:00.000</td><td>2008-07-01 00:44:00.000</td><td>2008-07-01 00:43:00.000</td></tr><tr><td>2008-07-01 00:44:00.000</td><td>2008-07-01 00:45:00.000</td><td>2008-07-01 00:44:00.000</td></tr><tr><td>2008-07-01 00:45:00.000</td><td>2008-07-01 00:46:00.000</td><td>2008-07-01 00:45:00.000</td></tr><tr><td>2008-07-01 00:46:00.000</td><td>2008-07-01 00:47:00.000</td><td>2008-07-01 00:46:00.000</td></tr><tr><td>2008-07-01 00:47:00.000</td><td>2008-07-01 00:48:00.000</td><td>2008-07-01 00:47:00.000</td></tr><tr><td>2008-07-01 00:48:00.000</td><td>2008-07-01 00:49:00.000</td><td>2008-07-01 00:48:00.000</td></tr><tr><td>2008-07-01 00:49:00.000</td><td>2008-07-01 00:50:00.000</td><td>2008-07-01 00:49:00.000</td></tr><tr><td>2008-07-01 00:50:00.000</td><td>2008-07-01 00:51:00.000</td><td>2008-07-01 00:50:00.000</td></tr><tr><td>2008-07-01 00:51:00.000</td><td>2008-07-01 00:52:00.000</td><td>2008-07-01 00:51:00.000</td></tr><tr><td>2008-07-01 00:52:00.000</td><td>2008-07-01 00:53:00.000</td><td>2008-07-01 00:52:00.000</td></tr><tr><td>2008-07-01 00:53:00.000</td><td>2008-07-01 00:54:00.000</td><td>2008-07-01 00:53:00.000</td></tr><tr><td>2008-07-01 00:54:00.000</td><td>2008-07-01 00:55:00.000</td><td>2008-07-01 00:54:00.000</td></tr><tr><td>2008-07-01 00:55:00.000</td><td>2008-07-01 00:56:00.000</td><td>2008-07-01 00:55:00.000</td></tr><tr><td>2008-07-01 00:56:00.000</td><td>2008-07-01 00:57:00.000</td><td>2008-07-01 00:56:00.000</td></tr><tr><td>2008-07-01 00:57:00.000</td><td>2008-07-01 00:58:00.000</td><td>2008-07-01 00:57:00.000</td></tr><tr><td>2008-07-01 00:58:00.000</td><td>2008-07-01 00:59:00.000</td><td>2008-07-01 00:58:00.000</td></tr><tr><td>2008-07-01 00:59:00.000</td><td>2008-07-01 01:00:00.000</td><td>2008-07-01 00:59:00.000</td></tr><tr><td>2008-07-01 01:00:00.000</td><td>2008-07-01 01:01:00.000</td><td>2008-07-01 01:00:00.000</td></tr><tr><td>2008-07-01 01:01:00.000</td><td>2008-07-01 01:02:00.000</td><td>2008-07-01 01:01:00.000</td></tr><tr><td>2008-07-01 01:02:00.000</td><td>2008-07-01 01:03:00.000</td><td>2008-07-01 01:02:00.000</td></tr><tr><td>2008-07-01 01:03:00.000</td><td>2008-07-01 01:04:00.000</td><td>2008-07-01 01:03:00.000</td></tr><tr><td>2008-07-01 01:04:00.000</td><td>2008-07-01 01:05:00.000</td><td>2008-07-01 01:04:00.000</td></tr><tr><td>2008-07-01 01:05:00.000</td><td>2008-07-01 01:06:00.000</td><td>2008-07-01 01:05:00.000</td></tr><tr><td>2008-07-01 01:06:00.000</td><td>2008-07-01 01:07:00.000</td><td>2008-07-01 01:06:00.000</td></tr><tr><td>2008-07-01 01:07:00.000</td><td>2008-07-01 01:08:00.000</td><td>2008-07-01 01:07:00.000</td></tr><tr><td>2008-07-01 01:08:00.000</td><td>2008-07-01 01:09:00.000</td><td>2008-07-01 01:08:00.000</td></tr><tr><td>2008-07-01 01:09:00.000</td><td>2008-07-01 01:10:00.000</td><td>2008-07-01 01:09:00.000</td></tr><tr><td>2008-07-01 01:10:00.000</td><td>2008-07-01 01:11:00.000</td><td>2008-07-01 01:10:00.000</td></tr><tr><td>2008-07-01 01:11:00.000</td><td>2008-07-01 01:12:00.000</td><td>2008-07-01 01:11:00.000</td></tr><tr><td>2008-07-01 01:12:00.000</td><td>2008-07-01 01:13:00.000</td><td>2008-07-01 01:12:00.000</td></tr><tr><td>2008-07-01 01:13:00.000</td><td>2008-07-01 01:14:00.000</td><td>2008-07-01 01:13:00.000</td></tr><tr><td>2008-07-01 01:14:00.000</td><td>2008-07-01 01:15:00.000</td><td>2008-07-01 01:14:00.000</td></tr><tr><td>2008-07-01 01:15:00.000</td><td>2008-07-01 01:16:00.000</td><td>2008-07-01 01:15:00.000</td></tr><tr><td>2008-07-01 01:16:00.000</td><td>2008-07-01 01:17:00.000</td><td>2008-07-01 01:16:00.000</td></tr><tr><td>2008-07-01 01:17:00.000</td><td>2008-07-01 01:18:00.000</td><td>2008-07-01 01:17:00.000</td></tr><tr><td>2008-07-01 01:18:00.000</td><td>2008-07-01 01:19:00.000</td><td>2008-07-01 01:18:00.000</td></tr><tr><td>2008-07-01 01:19:00.000</td><td>2008-07-01 01:20:00.000</td><td>2008-07-01 01:19:00.000</td></tr><tr><td>2008-07-01 01:20:00.000</td><td>2008-07-01 01:21:00.000</td><td>2008-07-01 01:20:00.000</td></tr><tr><td>2008-07-01 01:21:00.000</td><td>2008-07-01 01:22:00.000</td><td>2008-07-01 01:21:00.000</td></tr><tr><td>2008-07-01 01:22:00.000</td><td>2008-07-01 01:23:00.000</td><td>2008-07-01 01:22:00.000</td></tr><tr><td>2008-07-01 01:23:00.000</td><td>2008-07-01 01:24:00.000</td><td>2008-07-01 01:23:00.000</td></tr><tr><td>2008-07-01 01:24:00.000</td><td>2008-07-01 01:25:00.000</td><td>2008-07-01 01:24:00.000</td></tr><tr><td>2008-07-01 01:25:00.000</td><td>2008-07-01 01:26:00.000</td><td>2008-07-01 01:25:00.000</td></tr><tr><td>2008-07-01 01:26:00.000</td><td>2008-07-01 01:27:00.000</td><td>2008-07-01 01:26:00.000</td></tr><tr><td>2008-07-01 01:27:00.000</td><td>2008-07-01 01:28:00.000</td><td>2008-07-01 01:27:00.000</td></tr><tr><td>2008-07-01 01:28:00.000</td><td>2008-07-01 01:29:00.000</td><td>2008-07-01 01:28:00.000</td></tr><tr><td>2008-07-01 01:29:00.000</td><td>2008-07-01 01:30:00.000</td><td>2008-07-01 01:29:00.000</td></tr><tr><td>2008-07-01 01:30:00.000</td><td>2008-07-01 01:31:00.000</td><td>2008-07-01 01:30:00.000</td></tr><tr><td>2008-07-01 01:31:00.000</td><td>2008-07-01 01:32:00.000</td><td>2008-07-01 01:31:00.000</td></tr><tr><td>2008-07-01 01:32:00.000</td><td>2008-07-01 01:33:00.000</td><td>2008-07-01 01:32:00.000</td></tr><tr><td>2008-07-01 01:33:00.000</td><td>2008-07-01 01:34:00.000</td><td>2008-07-01 01:33:00.000</td></tr><tr><td>2008-07-01 01:34:00.000</td><td>2008-07-01 01:35:00.000</td><td>2008-07-01 01:34:00.000</td></tr><tr><td>2008-07-01 01:35:00.000</td><td>2008-07-01 01:36:00.000</td><td>2008-07-01 01:35:00.000</td></tr><tr><td>2008-07-01 01:36:00.000</td><td>2008-07-01 01:37:00.000</td><td>2008-07-01 01:36:00.000</td></tr><tr><td>2008-07-01 01:37:00.000</td><td>2008-07-01 01:38:00.000</td><td>2008-07-01 01:37:00.000</td></tr><tr><td>2008-07-01 01:38:00.000</td><td>2008-07-01 01:39:00.000</td><td>2008-07-01 01:38:00.000</td></tr><tr><td>2008-07-01 01:39:00.000</td><td>2008-07-01 01:40:00.000</td><td>2008-07-01 01:39:00.000</td></tr><tr><td>2008-07-01 01:40:00.000</td><td>2008-07-01 01:41:00.000</td><td>2008-07-01 01:40:00.000</td></tr><tr><td>2008-07-01 01:41:00.000</td><td>2008-07-01 01:42:00.000</td><td>2008-07-01 01:41:00.000</td></tr><tr><td>2008-07-01 01:42:00.000</td><td>2008-07-01 01:43:00.000</td><td>2008-07-01 01:42:00.000</td></tr><tr><td>2008-07-01 01:43:00.000</td><td>2008-07-01 01:44:00.000</td><td>2008-07-01 01:43:00.000</td></tr><tr><td>2008-07-01 01:44:00.000</td><td>2008-07-01 01:45:00.000</td><td>2008-07-01 01:44:00.000</td></tr><tr><td>2008-07-01 01:45:00.000</td><td>2008-07-01 01:46:00.000</td><td>2008-07-01 01:45:00.000</td></tr><tr><td>2008-07-01 01:46:00.000</td><td>2008-07-01 01:47:00.000</td><td>2008-07-01 01:46:00.000</td></tr><tr><td>2008-07-01 01:47:00.000</td><td>2008-07-01 01:48:00.000</td><td>2008-07-01 01:47:00.000</td></tr><tr><td>2008-07-01 01:48:00.000</td><td>2008-07-01 01:49:00.000</td><td>2008-07-01 01:48:00.000</td></tr><tr><td>2008-07-01 01:49:00.000</td><td>2008-07-01 01:50:00.000</td><td>2008-07-01 01:49:00.000</td></tr><tr><td>2008-07-01 01:50:00.000</td><td>2008-07-01 01:51:00.000</td><td>2008-07-01 01:50:00.000</td></tr><tr><td>2008-07-01 01:51:00.000</td><td>2008-07-01 01:52:00.000</td><td>2008-07-01 01:51:00.000</td></tr><tr><td>2008-07-01 01:52:00.000</td><td>2008-07-01 01:53:00.000</td><td>2008-07-01 01:52:00.000</td></tr><tr><td>2008-07-01 01:53:00.000</td><td>2008-07-01 01:54:00.000</td><td>2008-07-01 01:53:00.000</td></tr><tr><td>2008-07-01 01:54:00.000</td><td>2008-07-01 01:55:00.000</td><td>2008-07-01 01:54:00.000</td></tr><tr><td>2008-07-01 01:55:00.000</td><td>2008-07-01 01:56:00.000</td><td>2008-07-01 01:55:00.000</td></tr><tr><td>2008-07-01 01:56:00.000</td><td>2008-07-01 01:57:00.000</td><td>2008-07-01 01:56:00.000</td></tr><tr><td>2008-07-01 01:57:00.000</td><td>2008-07-01 01:58:00.000</td><td>2008-07-01 01:57:00.000</td></tr><tr><td>2008-07-01 01:58:00.000</td><td>2008-07-01 01:59:00.000</td><td>2008-07-01 01:58:00.000</td></tr><tr><td>2008-07-01 01:59:00.000</td><td>2008-07-01 02:00:00.000</td><td>2008-07-01 01:59:00.000</td></tr><tr><td>2008-07-01 02:00:00.000</td><td>2008-07-01 02:01:00.000</td><td>2008-07-01 02:00:00.000</td></tr><tr><td>2008-07-01 02:01:00.000</td><td>2008-07-01 02:02:00.000</td><td>2008-07-01 02:01:00.000</td></tr><tr><td>2008-07-01 02:02:00.000</td><td>2008-07-01 02:03:00.000</td><td>2008-07-01 02:02:00.000</td></tr><tr><td>2008-07-01 02:03:00.000</td><td>2008-07-01 02:04:00.000</td><td>2008-07-01 02:03:00.000</td></tr><tr><td>2008-07-01 02:04:00.000</td><td>2008-07-01 02:05:00.000</td><td>2008-07-01 02:04:00.000</td></tr><tr><td>2008-07-01 02:05:00.000</td><td>2008-07-01 02:06:00.000</td><td>2008-07-01 02:05:00.000</td></tr><tr><td>2008-07-01 02:06:00.000</td><td>2008-07-01 02:07:00.000</td><td>2008-07-01 02:06:00.000</td></tr><tr><td>2008-07-01 02:07:00.000</td><td>2008-07-01 02:08:00.000</td><td>2008-07-01 02:07:00.000</td></tr><tr><td>2008-07-01 02:08:00.000</td><td>2008-07-01 02:09:00.000</td><td>2008-07-01 02:08:00.000</td></tr><tr><td>2008-07-01 02:09:00.000</td><td>2008-07-01 02:10:00.000</td><td>2008-07-01 02:09:00.000</td></tr><tr><td>2008-07-01 02:10:00.000</td><td>2008-07-01 02:11:00.000</td><td>2008-07-01 02:10:00.000</td></tr><tr><td>2008-07-01 02:11:00.000</td><td>2008-07-01 02:12:00.000</td><td>2008-07-01 02:11:00.000</td></tr><tr><td>2008-07-01 02:12:00.000</td><td>2008-07-01 02:13:00.000</td><td>2008-07-01 02:12:00.000</td></tr><tr><td>2008-07-01 02:13:00.000</td><td>2008-07-01 02:14:00.000</td><td>2008-07-01 02:13:00.000</td></tr><tr><td>2008-07-01 02:14:00.000</td><td>2008-07-01 02:15:00.000</td><td>2008-07-01 02:14:00.000</td></tr><tr><td>2008-07-01 02:15:00.000</td><td>2008-07-01 02:16:00.000</td><td>2008-07-01 02:15:00.000</td></tr><tr><td>2008-07-01 02:16:00.000</td><td>2008-07-01 02:17:00.000</td><td>2008-07-01 02:16:00.000</td></tr><tr><td>2008-07-01 02:17:00.000</td><td>2008-07-01 02:18:00.000</td><td>2008-07-01 02:17:00.000</td></tr><tr><td>2008-07-01 02:18:00.000</td><td>2008-07-01 02:19:00.000</td><td>2008-07-01 02:18:00.000</td></tr><tr><td>2008-07-01 02:19:00.000</td><td>2008-07-01 02:20:00.000</td><td>2008-07-01 02:19:00.000</td></tr><tr><td>2008-07-01 02:20:00.000</td><td>2008-07-01 02:21:00.000</td><td>2008-07-01 02:20:00.000</td></tr><tr><td>2008-07-01 02:21:00.000</td><td>2008-07-01 02:22:00.000</td><td>2008-07-01 02:21:00.000</td></tr><tr><td>2008-07-01 02:22:00.000</td><td>2008-07-01 02:23:00.000</td><td>2008-07-01 02:22:00.000</td></tr><tr><td>2008-07-01 02:23:00.000</td><td>2008-07-01 02:24:00.000</td><td>2008-07-01 02:23:00.000</td></tr><tr><td>2008-07-01 02:24:00.000</td><td>2008-07-01 02:25:00.000</td><td>2008-07-01 02:24:00.000</td></tr><tr><td>2008-07-01 02:25:00.000</td><td>2008-07-01 02:26:00.000</td><td>2008-07-01 02:25:00.000</td></tr><tr><td>2008-07-01 02:26:00.000</td><td>2008-07-01 02:27:00.000</td><td>2008-07-01 02:26:00.000</td></tr><tr><td>2008-07-01 02:27:00.000</td><td>2008-07-01 02:28:00.000</td><td>2008-07-01 02:27:00.000</td></tr><tr><td>2008-07-01 02:28:00.000</td><td>2008-07-01 02:29:00.000</td><td>2008-07-01 02:28:00.000</td></tr><tr><td>2008-07-01 02:29:00.000</td><td>2008-07-01 02:30:00.000</td><td>2008-07-01 02:29:00.000</td></tr><tr><td>2008-07-01 02:30:00.000</td><td>2008-07-01 02:31:00.000</td><td>2008-07-01 02:30:00.000</td></tr><tr><td>2008-07-01 02:31:00.000</td><td>2008-07-01 02:32:00.000</td><td>2008-07-01 02:31:00.000</td></tr><tr><td>2008-07-01 02:32:00.000</td><td>2008-07-01 02:33:00.000</td><td>2008-07-01 02:32:00.000</td></tr><tr><td>2008-07-01 02:33:00.000</td><td>2008-07-01 02:34:00.000</td><td>2008-07-01 02:33:00.000</td></tr><tr><td>2008-07-01 02:34:00.000</td><td>2008-07-01 02:35:00.000</td><td>2008-07-01 02:34:00.000</td></tr><tr><td>2008-07-01 02:35:00.000</td><td>2008-07-01 02:36:00.000</td><td>2008-07-01 02:35:00.000</td></tr><tr><td>2008-07-01 02:36:00.000</td><td>2008-07-01 02:37:00.000</td><td>2008-07-01 02:36:00.000</td></tr><tr><td>2008-07-01 02:37:00.000</td><td>2008-07-01 02:38:00.000</td><td>2008-07-01 02:37:00.000</td></tr><tr><td>2008-07-01 02:38:00.000</td><td>2008-07-01 02:39:00.000</td><td>2008-07-01 02:38:00.000</td></tr><tr><td>2008-07-01 02:39:00.000</td><td>2008-07-01 02:40:00.000</td><td>2008-07-01 02:39:00.000</td></tr><tr><td>2008-07-01 02:40:00.000</td><td>2008-07-01 02:41:00.000</td><td>2008-07-01 02:40:00.000</td></tr><tr><td>2008-07-01 02:41:00.000</td><td>2008-07-01 02:42:00.000</td><td>2008-07-01 02:41:00.000</td></tr><tr><td>2008-07-01 02:42:00.000</td><td>2008-07-01 02:43:00.000</td><td>2008-07-01 02:42:00.000</td></tr><tr><td>2008-07-01 02:43:00.000</td><td>2008-07-01 02:44:00.000</td><td>2008-07-01 02:43:00.000</td></tr><tr><td>2008-07-01 02:44:00.000</td><td>2008-07-01 02:45:00.000</td><td>2008-07-01 02:44:00.000</td></tr><tr><td>2008-07-01 02:45:00.000</td><td>2008-07-01 02:46:00.000</td><td>2008-07-01 02:45:00.000</td></tr><tr><td>2008-07-01 02:46:00.000</td><td>2008-07-01 02:47:00.000</td><td>2008-07-01 02:46:00.000</td></tr><tr><td>2008-07-01 02:47:00.000</td><td>2008-07-01 02:48:00.000</td><td>2008-07-01 02:47:00.000</td></tr><tr><td>2008-07-01 02:48:00.000</td><td>2008-07-01 02:49:00.000</td><td>2008-07-01 02:48:00.000</td></tr><tr><td>2008-07-01 02:49:00.000</td><td>2008-07-01 02:50:00.000</td><td>2008-07-01 02:49:00.000</td></tr><tr><td>2008-07-01 02:50:00.000</td><td>2008-07-01 02:51:00.000</td><td>2008-07-01 02:50:00.000</td></tr><tr><td>2008-07-01 02:51:00.000</td><td>2008-07-01 02:52:00.000</td><td>2008-07-01 02:51:00.000</td></tr><tr><td>2008-07-01 02:52:00.000</td><td>2008-07-01 02:53:00.000</td><td>2008-07-01 02:52:00.000</td></tr><tr><td>2008-07-01 02:53:00.000</td><td>2008-07-01 02:54:00.000</td><td>2008-07-01 02:53:00.000</td></tr><tr><td>2008-07-01 02:54:00.000</td><td>2008-07-01 02:55:00.000</td><td>2008-07-01 02:54:00.000</td></tr><tr><td>2008-07-01 02:55:00.000</td><td>2008-07-01 02:56:00.000</td><td>2008-07-01 02:55:00.000</td></tr><tr><td>2008-07-01 02:56:00.000</td><td>2008-07-01 02:57:00.000</td><td>2008-07-01 02:56:00.000</td></tr><tr><td>2008-07-01 02:57:00.000</td><td>2008-07-01 02:58:00.000</td><td>2008-07-01 02:57:00.000</td></tr><tr><td>2008-07-01 02:58:00.000</td><td>2008-07-01 02:59:00.000</td><td>2008-07-01 02:58:00.000</td></tr><tr><td>2008-07-01 02:59:00.000</td><td>2008-07-01 03:00:00.000</td><td>2008-07-01 02:59:00.000</td></tr><tr><td>2008-07-01 03:00:00.000</td><td>2008-07-01 03:01:00.000</td><td>2008-07-01 03:00:00.000</td></tr></table>"
                    }
                }
            ],
            "execution_count": 28
        },
        {
            "cell_type": "markdown",
            "source": "## Using another range condition to tell the optimizer that commercials are short. \r\n\r\n Because commercials are short, there is no need to scan the commercials that start more than maximum commercial's length before the call. Again, translating this information into plain SQL is quite easy too, and again the query runs much faster, even faster than the previous one:\r\n\r\n\r\nSQL Server Execution Times: CPU time = 0 ms, elapsed time = 0 ms.\r\n\r\n**(181 rows affected)**\r\nTable 'Commercials'. Scan count 181, logical reads 603, physical reads 0, read-ahead reads 0, lob logical reads 0, lob physical reads 0, lob read-ahead reads 0.\r\n\r\n**Table 'Calls'. Scan count 1, logical reads 11, physical reads 0, read-ahead reads 0, lob logical reads 0, lob physical reads 0, lob read-ahead reads 0.**\r\n\r\nSQL Server Execution Times: CPU time = 0 ms, elapsed time = 0 ms.\r\n\r\nTotal execution time: 00:00:00.0112655",
            "metadata": {}
        },
        {
            "cell_type": "code",
            "source": "    SELECT s.StartedAt, s.EndedAt, c.AirTime\r\n    FROM dbo.Commercials s INNER JOIN dbo.Calls c\r\n        ON c.AirTime >= s.StartedAt AND c.AirTime < s.EndedAt\r\n    WHERE c.AirTime BETWEEN '20080701' AND '20080701 03:00'\r\nEXCEPT\r\n    SELECT s.StartedAt, s.EndedAt, c.AirTime\r\n    FROM dbo.Calls c CROSS APPLY( \r\n  SELECT TOP 1\r\n            s.StartedAt, s.EndedAt\r\n        FROM dbo.Commercials s\r\n        WHERE c.AirTime >= s.StartedAt AND c.AirTime < s.EndedAt\r\n        ORDER BY s.StartedAt DESC) AS s\r\n    WHERE c.AirTime BETWEEN '20080701' AND '20080701 03:00'",
            "metadata": {},
            "outputs": [
                {
                    "output_type": "display_data",
                    "data": {
                        "text/html": "(0 rows affected)"
                    },
                    "metadata": {}
                },
                {
                    "output_type": "display_data",
                    "data": {
                        "text/html": "Total execution time: 00:00:00.3660962"
                    },
                    "metadata": {}
                },
                {
                    "output_type": "execute_result",
                    "metadata": {},
                    "execution_count": 29,
                    "data": {
                        "application/vnd.dataresource+json": {
                            "schema": {
                                "fields": [
                                    {
                                        "name": "StartedAt"
                                    },
                                    {
                                        "name": "EndedAt"
                                    },
                                    {
                                        "name": "AirTime"
                                    }
                                ]
                            },
                            "data": []
                        },
                        "text/html": "<table><tr><th>StartedAt</th><th>EndedAt</th><th>AirTime</th></tr></table>"
                    }
                }
            ],
            "execution_count": 29
        }
    ]
}