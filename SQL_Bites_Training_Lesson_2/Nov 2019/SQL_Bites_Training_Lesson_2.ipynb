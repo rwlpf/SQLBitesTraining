{
    "metadata": {
        "kernelspec": {
            "name": "SQL",
            "display_name": "SQL",
            "language": "sql"
        },
        "language_info": {
            "name": "sql",
            "version": ""
        }
    },
    "nbformat_minor": 2,
    "nbformat": 4,
    "cells": [
        {
            "cell_type": "markdown",
            "source": [
                "<H3> First lets run a query to return some data from the table [Sales].[SalesOrderDetail] </H3> \r\n",
                "side note the table has the name [schema].[tablename] the [schema] is used to group together\r\n",
                "objects of the same time in this case all the 'Sales' objects.  There are other objects such as  \r\n",
                "HumanResources\t\r\n",
                "Person\t\r\n",
                "Production\t\r\n",
                "Purchasing\t\r\n",
                "Sales\r\n",
                "The default schema used is [dbo] "
            ],
            "metadata": {
                "azdata_cell_guid": "e74600bf-a6a7-4bb0-b958-aa7bf5119104",
                "tags": [
                    "hide_input"
                ]
            }
        },
        {
            "cell_type": "code",
            "source": [
                "USE [AdventureWorks2012];\r\n",
                "\r\n",
                "SELECT\r\n",
                "    [SalesOrderDetail].[SalesOrderID]\r\n",
                "  , [SalesOrderDetail].[UnitPrice]\r\n",
                "FROM\r\n",
                "    [Sales].[SalesOrderDetail]\r\n",
                "    /*order by clause added to list the results set\r\n",
                "    by the SalesOrderId so have certain order\r\n",
                "    otherwise the results set would be in a random\r\n",
                "    order */\r\n",
                "ORDER BY [SalesOrderDetail].[SalesOrderID]\r\n",
                ";"
            ],
            "metadata": {
                "azdata_cell_guid": "a729a706-2da5-4974-ac59-b1b9e5f8b373",
                "tags": [
                    "hide_input"
                ]
            },
            "outputs": [],
            "execution_count": 8
        },
        {
            "cell_type": "markdown",
            "source": [
                "Lets have a bit of run, yes ok its SQL fun :-> </br>\r\n",
                "\r\n",
                "Run two queries and see the number of rows returned. With the first query we are going to use a `[Group By]` on the field '[SalesOrderDetail].[SalesOrderID]' </br>\r\n",
                "So what does `[Group By]` actually do?</br>\r\n",
                "From books online - \r\n",
                "[\"A SELECT statement clause that divides the query result into groups of rows, usually for the purpose of performing one or more aggregations on each group. The SELECT statement returns one row per group.\"](https://docs.microsoft.com/en-us/sql/t-sql/queries/select-group-by-transact-sql?view=sql-server-ver15)\r\n",
                "\r\n",
                "What does that mean?  In the case of the select statment shown below, there are 31,465 records returned by the first query which uses the `[Group By]`.  In the first query there was **121,317** records returned, when we use the `[Group By]` there are **31,465** records returned."
            ],
            "metadata": {
                "azdata_cell_guid": "7bf0803d-3dbf-42bf-a2be-dd86fe25e914",
                "tags": [
                    "hide_input"
                ]
            }
        },
        {
            "cell_type": "code",
            "source": [
                "USE [AdventureWorks2012];\r\n",
                "\r\n",
                "SELECT\r\n",
                "   [SalesOrderDetail].[SalesOrderID]\r\n",
                "FROM\r\n",
                "    [Sales].[SalesOrderDetail]\r\n",
                "GROUP BY\r\n",
                "    [SalesOrderDetail].[SalesOrderID]\r\n",
                "    --31465\r\n",
                ";"
            ],
            "metadata": {
                "azdata_cell_guid": "69913200-b81a-4dd0-8679-652d0398ce5c",
                "tags": [
                    "hide_input"
                ]
            },
            "outputs": [],
            "execution_count": 6
        },
        {
            "cell_type": "markdown",
            "source": [
                "Now lets do an experiment, what we now use is the `[DISTINCT]` keyword. The `[DISTINCT]` when used in a `SELECT` query will return the unique or (`[DISTINCT]`) values for the fields selected.  The query we are going to run is this -: </br>\r\n",
                "`USE [AdventureWorks2012];` </br>\r\n",
                "`SELECT DISTINCT` </br>\r\n",
                "`   [SalesOrderDetail].[SalesOrderID]` </br>\r\n",
                "`FROM` </br>\r\n",
                "`    [Sales].[SalesOrderDetail]` </br>\r\n",
                "This query will return a `[DISTINCT]` list of all the values in the field `[SalesOrderDetail].[SalesOrderID]`. </br>\r\n",
                "How many records will it return?"
            ],
            "metadata": {
                "azdata_cell_guid": "0e545057-e62d-4e2e-ba07-ef42ea11b326",
                "tags": [
                    "hide_input"
                ]
            }
        },
        {
            "cell_type": "code",
            "source": [
                "USE [AdventureWorks2012];\r\n",
                "SELECT DISTINCT\r\n",
                "   [SalesOrderDetail].[SalesOrderID]\r\n",
                "FROM\r\n",
                "    [Sales].[SalesOrderDetail]"
            ],
            "metadata": {
                "azdata_cell_guid": "4c3433ed-b2b8-40f3-ac3b-4a22413cfa47",
                "tags": [
                    "hide_input"
                ]
            },
            "outputs": [],
            "execution_count": 9
        },
        {
            "cell_type": "markdown",
            "source": [
                "So we get the same number of records.</br>\r\n",
                "</br>\r\n",
                "![Not Impressed](https://external-content.duckduckgo.com/iu/?u=https%3A%2F%2Fi.imgflip.com%2F14cqw2.jpg&f=1&nofb=1 \"Logo Title Text 1\")\r\n",
                ""
            ],
            "metadata": {
                "azdata_cell_guid": "c096317c-e861-4c33-9cf4-21a39f54ad11"
            }
        }
    ]
}