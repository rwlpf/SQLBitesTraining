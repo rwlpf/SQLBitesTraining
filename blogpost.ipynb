{
    "metadata": {
        "kernelspec": {
            "name": "SQL",
            "display_name": "SQL",
            "language": "sql"
        },
        "language_info": {
            "name": "sql",
            "version": ""
        }
    },
    "nbformat_minor": 2,
    "nbformat": 4,
    "cells": [
        {
            "cell_type": "code",
            "source": "Use TempDB;\r\n\r\nIF OBJECT_ID('dbo.ExampleTable') IS NOT NULL\r\n    DROP TABLE dbo.ExampleTable;\r\n\r\nCREATE TABLE dbo.ExampleTable\r\n([ID] INTEGER, [ClientName] NVARCHAR(20), [Colour] NVARCHAR(15), [Qty] INTEGER);\r\n\r\nINSERT INTO [dbo].[ExampleTable]\r\n([ID], [ClientName], [Colour], [Qty])\r\nVALUES\r\n  (1, N'Terry', N'Red' , 5)\r\n, (2, N'June' , NULL   , 0)\r\n, (3, N'Kevin', N'Pink', 6);\r\n\r\nSELECT [ID]\r\n     , [ClientName]\r\n     , [Colour]\r\n     , [Qty]\r\nFROM [dbo].[ExampleTable];",
            "metadata": {},
            "outputs": [
                {
                    "output_type": "display_data",
                    "data": {
                        "text/html": "(3 rows affected)"
                    },
                    "metadata": {}
                },
                {
                    "output_type": "display_data",
                    "data": {
                        "text/html": "(3 rows affected)"
                    },
                    "metadata": {}
                },
                {
                    "output_type": "display_data",
                    "data": {
                        "text/html": "Total execution time: 00:00:00.1847077"
                    },
                    "metadata": {}
                },
                {
                    "output_type": "execute_result",
                    "metadata": {},
                    "execution_count": 1,
                    "data": {
                        "application/vnd.dataresource+json": {
                            "schema": {
                                "fields": [
                                    {
                                        "name": "ID"
                                    },
                                    {
                                        "name": "ClientName"
                                    },
                                    {
                                        "name": "Colour"
                                    },
                                    {
                                        "name": "Qty"
                                    }
                                ]
                            },
                            "data": [
                                {
                                    "0": "1",
                                    "1": "Terry",
                                    "2": "Red",
                                    "3": "5"
                                },
                                {
                                    "0": "2",
                                    "1": "June",
                                    "2": "NULL",
                                    "3": "0"
                                },
                                {
                                    "0": "3",
                                    "1": "Kevin",
                                    "2": "Pink",
                                    "3": "6"
                                }
                            ]
                        },
                        "text/html": "<table><tr><th>ID</th><th>ClientName</th><th>Colour</th><th>Qty</th></tr><tr><td>1</td><td>Terry</td><td>Red</td><td>5</td></tr><tr><td>2</td><td>June</td><td>NULL</td><td>0</td></tr><tr><td>3</td><td>Kevin</td><td>Pink</td><td>6</td></tr></table>"
                    }
                }
            ],
            "execution_count": 1
        }
    ]
}