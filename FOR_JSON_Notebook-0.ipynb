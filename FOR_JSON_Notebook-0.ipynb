{
    "metadata": {
        "kernelspec": {
            "name": "SQL",
            "display_name": "SQL",
            "language": "sql"
        },
        "language_info": {
            "name": "sql",
            "version": ""
        }
    },
    "nbformat_minor": 2,
    "nbformat": 4,
    "cells": [
        {
            "cell_type": "markdown",
            "source": "<h1>FOR JSON</h1>\r\n<H3>You like Json</H3>\r\n<H3>We like Json</H3>\r\n<H3>Everyone loves Json?</H3>\r\n",
            "metadata": {}
        },
        {
            "cell_type": "markdown",
            "source": "<H2>\"The OPENJSON function is available only under compatibility level 130 or higher. If your database compatibility level is lower than 130, SQL Server can't find and run the OPENJSON function. Other JSON functions are available at all compatibility levels.\"</H2>\r\n\r\nsee this page-> (https://docs.microsoft.com/en-us/sql/t-sql/functions/openjson-transact-sql?view=sql-server-2017)\r\n\r\n<h1>These features are available for SQL server 2016\r\n\r\nCCT Production - SQL Server 2016\r\n\r\nCCT UAT - SQL Server 2016\r\n\r\nWIN-GLA01-SQL16 - SQL Server 2016\r\n\r\nHHMI - SQL Server 2016 </H1>\r\n\r\n![sad panda](https://ih0.redbubble.net/image.93258900.0502/st%2Csmall%2C215x235-pad%2C210x230%2Cf8f8f8.lite-1.jpg \"Logo Title Text 1\")\r\n\r\n<H3>\r\nCCT - WIN-GLA01-SQL05 / DevSQL - SQL Server 2012\r\n\r\nWT  - SQL Server 2012\r\n\r\nCDB - SQL Server 2014\r\n\r\nSHR  - SQL Server 2012?</H3>\r\n\r\n",
            "metadata": {}
        },
        {
            "cell_type": "markdown",
            "source": "<h3\r\n>First step lets create a table with some test data</H3>",
            "metadata": {}
        },
        {
            "cell_type": "code",
            "source": "Use CCGTMongooseIDA_ML;\r\n\r\nIF OBJECT_ID('dbo.ExampleTable') IS NOT NULL\r\n    DROP TABLE dbo.ExampleTable;\r\n\r\nCREATE TABLE dbo.ExampleTable\r\n([ID] INTEGER, [ClientName] NVARCHAR(20), [Colour] NVARCHAR(15), [Qty] INTEGER);\r\n\r\n\r\n\r\nINSERT INTO [dbo].[ExampleTable]\r\n([ID], [ClientName], [Colour], [Qty])\r\nVALUES\r\n  (1, N'Terry', N'Red' , 5)\r\n, (2, N'June' , NULL   , 0)\r\n, (3, N'Kevin', N'Pink', 6);",
            "metadata": {},
            "outputs": [
                {
                    "output_type": "error",
                    "evalue": "Msg 911, Level 16, State 1, Line 1\r\nDatabase 'CCGTMongooseIDA_ML' does not exist. Make sure that the name is entered correctly.",
                    "ename": "",
                    "traceback": []
                },
                {
                    "output_type": "display_data",
                    "data": {
                        "text/html": "Total execution time: 00:00:00.0034657"
                    },
                    "metadata": {}
                }
            ],
            "execution_count": 1
        },
        {
            "cell_type": "markdown",
            "source": "<H3>Now we have some data in a table lets run a SELECT on the newly created table and lets see what the results set looks like.  Good idea :-)</H3>",
            "metadata": {}
        },
        {
            "cell_type": "code",
            "source": "Use CCGTMongooseIDA_ML;\r\n\r\nSELECT [ID]\r\n     , [ClientName]\r\n     , [Colour]\r\n     , [Qty]\r\nFROM [dbo].[ExampleTable];",
            "metadata": {},
            "outputs": [
                {
                    "output_type": "display_data",
                    "data": {
                        "text/html": "(3 rows affected)"
                    },
                    "metadata": {}
                },
                {
                    "output_type": "display_data",
                    "data": {
                        "text/html": "Total execution time: 00:00:00.0233234"
                    },
                    "metadata": {}
                },
                {
                    "output_type": "execute_result",
                    "execution_count": 13,
                    "data": {
                        "application/vnd.dataresource+json": {
                            "schema": {
                                "fields": [
                                    {
                                        "name": "ID"
                                    },
                                    {
                                        "name": "ClientName"
                                    },
                                    {
                                        "name": "Colour"
                                    },
                                    {
                                        "name": "Qty"
                                    }
                                ]
                            },
                            "data": [
                                {
                                    "0": "1",
                                    "1": "Terry",
                                    "2": "Red",
                                    "3": "5"
                                },
                                {
                                    "0": "2",
                                    "1": "June",
                                    "2": "NULL",
                                    "3": "0"
                                },
                                {
                                    "0": "3",
                                    "1": "Kevin",
                                    "2": "Pink",
                                    "3": "6"
                                }
                            ]
                        },
                        "text/html": "<table><tr><th>ID</th><th>ClientName</th><th>Colour</th><th>Qty</th></tr><tr><td>1</td><td>Terry</td><td>Red</td><td>5</td></tr><tr><td>2</td><td>June</td><td>NULL</td><td>0</td></tr><tr><td>3</td><td>Kevin</td><td>Pink</td><td>6</td></tr></table>"
                    },
                    "metadata": {}
                }
            ],
            "execution_count": 13
        },
        {
            "cell_type": "markdown",
            "source": "<h3>From the data set nothing rather exciting?  **Note** that the second record the colour value is **NULL**<h3>",
            "metadata": {}
        },
        {
            "cell_type": "code",
            "source": "Use CCGTMongooseIDA_ML;\r\n\r\nSELECT [ID]\r\n     , [ClientName]\r\n     , [Colour]\r\n     , [Qty]\r\nFROM [dbo].[ExampleTable]\r\nFOR JSON PATH",
            "metadata": {},
            "outputs": [
                {
                    "output_type": "display_data",
                    "data": {
                        "text/html": "(3 rows affected)"
                    },
                    "metadata": {}
                },
                {
                    "output_type": "display_data",
                    "data": {
                        "text/html": "Total execution time: 00:00:00.0215125"
                    },
                    "metadata": {}
                },
                {
                    "output_type": "execute_result",
                    "execution_count": 14,
                    "data": {
                        "application/vnd.dataresource+json": {
                            "schema": {
                                "fields": [
                                    {
                                        "name": "JSON_F52E2B61-18A1-11d1-B105-00805F49916B"
                                    }
                                ]
                            },
                            "data": [
                                {
                                    "0": "[{\"ID\":1,\"ClientName\":\"Terry\",\"Colour\":\"Red\",\"Qty\":5},{\"ID\":2,\"ClientName\":\"June\",\"Qty\":0},{\"ID\":3,\"ClientName\":\"Kevin\",\"Colour\":\"Pink\",\"Qty\":6}]"
                                }
                            ]
                        },
                        "text/html": "<table><tr><th>JSON_F52E2B61-18A1-11d1-B105-00805F49916B</th></tr><tr><td>[{&quot;ID&quot;:1,&quot;ClientName&quot;:&quot;Terry&quot;,&quot;Colour&quot;:&quot;Red&quot;,&quot;Qty&quot;:5},{&quot;ID&quot;:2,&quot;ClientName&quot;:&quot;June&quot;,&quot;Qty&quot;:0},{&quot;ID&quot;:3,&quot;ClientName&quot;:&quot;Kevin&quot;,&quot;Colour&quot;:&quot;Pink&quot;,&quot;Qty&quot;:6}]</td></tr></table>"
                    },
                    "metadata": {}
                }
            ],
            "execution_count": 14
        },
        {
            "cell_type": "markdown",
            "source": "<h1>No really thats proper JSON I promise!</h1>\r\n\r\n```Json\r\n[\r\n    {\r\n        \"ID\": 1,\r\n        \"ClientName\": \"Terry\",\r\n        \"Colour\": \"Red\",\r\n        \"Qty\": 5\r\n    },\r\n    {\r\n        \"ID\": 2,\r\n        \"ClientName\": \"June\",\r\n        \"Qty\": 0\r\n    },\r\n    {\r\n        \"ID\": 3,\r\n        \"ClientName\": \"Kevin\",\r\n        \"Colour\": \"Pink\",\r\n        \"Qty\": 6\r\n    }\r\n]\r\n```\r\n\r\n<h2>Notice that the second row of data which contained a **NULL** value is not outputted. <p> So we have a........</h2> \r\n\r\n![sad panda](https://ih0.redbubble.net/image.93258900.0502/st%2Csmall%2C215x235-pad%2C210x230%2Cf8f8f8.lite-1.jpg \"Logo Title Text 1\")\r\n\r\n<h1>What can we do?\r\n<p>\r\nWell...... Microsoft SQL Server to the rescue\r\n\r\nWITH 'INCLUDE_NULL_VALUES'\r\n<h1>\r\n",
            "metadata": {}
        },
        {
            "cell_type": "code",
            "source": "SELECT [ID]\r\n     , [ClientName]\r\n     , [Colour]\r\n     , [Qty]\r\nFROM [dbo].[ExampleTable]\r\nFOR JSON PATH, INCLUDE_NULL_VALUES",
            "metadata": {},
            "outputs": [
                {
                    "output_type": "display_data",
                    "data": {
                        "text/html": "(3 rows affected)"
                    },
                    "metadata": {}
                },
                {
                    "output_type": "display_data",
                    "data": {
                        "text/html": "Total execution time: 00:00:00.0198582"
                    },
                    "metadata": {}
                },
                {
                    "output_type": "execute_result",
                    "execution_count": 15,
                    "data": {
                        "application/vnd.dataresource+json": {
                            "schema": {
                                "fields": [
                                    {
                                        "name": "JSON_F52E2B61-18A1-11d1-B105-00805F49916B"
                                    }
                                ]
                            },
                            "data": [
                                {
                                    "0": "[{\"ID\":1,\"ClientName\":\"Terry\",\"Colour\":\"Red\",\"Qty\":5},{\"ID\":2,\"ClientName\":\"June\",\"Colour\":null,\"Qty\":0},{\"ID\":3,\"ClientName\":\"Kevin\",\"Colour\":\"Pink\",\"Qty\":6}]"
                                }
                            ]
                        },
                        "text/html": "<table><tr><th>JSON_F52E2B61-18A1-11d1-B105-00805F49916B</th></tr><tr><td>[{&quot;ID&quot;:1,&quot;ClientName&quot;:&quot;Terry&quot;,&quot;Colour&quot;:&quot;Red&quot;,&quot;Qty&quot;:5},{&quot;ID&quot;:2,&quot;ClientName&quot;:&quot;June&quot;,&quot;Colour&quot;:null,&quot;Qty&quot;:0},{&quot;ID&quot;:3,&quot;ClientName&quot;:&quot;Kevin&quot;,&quot;Colour&quot;:&quot;Pink&quot;,&quot;Qty&quot;:6}]</td></tr></table>"
                    },
                    "metadata": {}
                }
            ],
            "execution_count": 15
        },
        {
            "cell_type": "markdown",
            "source": "<h2>Some more proper JSON!</h2>\r\n<h3>Only this time round the NULL value for colour in the second record has been included</h3>\r\n\r\n```Json\r\n[\r\n    {\r\n        \"ID\": 1,\r\n        \"ClientName\": \"Terry\",\r\n        \"Colour\": \"Red\",\r\n        \"Qty\": 5\r\n    },\r\n    {\r\n        \"ID\": 2,\r\n        \"ClientName\": \"June\",\r\n        \"Colour\": null,\r\n        \"Qty\": 0\r\n    },\r\n    {\r\n        \"ID\": 3,\r\n        \"ClientName\": \"Kevin\",\r\n        \"Colour\": \"Pink\",\r\n        \"Qty\": 6\r\n    }\r\n]\r\n```",
            "metadata": {}
        },
        {
            "cell_type": "markdown",
            "source": "<h2>Now lets change the query a bit.  Give the last two columns names an Alias, in this case a dot alias</h2>",
            "metadata": {}
        },
        {
            "cell_type": "code",
            "source": "SELECT [ID]\r\n     , [ClientName]\r\n     , [Colour] AS [Client.Colour]\r\n     , [Qty]    AS [Client.Qty]\r\nFROM [dbo].[ExampleTable]",
            "metadata": {},
            "outputs": [
                {
                    "output_type": "display_data",
                    "data": {
                        "text/html": "(3 rows affected)"
                    },
                    "metadata": {}
                },
                {
                    "output_type": "display_data",
                    "data": {
                        "text/html": "Total execution time: 00:00:00.0195821"
                    },
                    "metadata": {}
                },
                {
                    "output_type": "execute_result",
                    "execution_count": 16,
                    "data": {
                        "application/vnd.dataresource+json": {
                            "schema": {
                                "fields": [
                                    {
                                        "name": "ID"
                                    },
                                    {
                                        "name": "ClientName"
                                    },
                                    {
                                        "name": "Client.Colour"
                                    },
                                    {
                                        "name": "Client.Qty"
                                    }
                                ]
                            },
                            "data": [
                                {
                                    "0": "1",
                                    "1": "Terry",
                                    "2": "Red",
                                    "3": "5"
                                },
                                {
                                    "0": "2",
                                    "1": "June",
                                    "2": "NULL",
                                    "3": "0"
                                },
                                {
                                    "0": "3",
                                    "1": "Kevin",
                                    "2": "Pink",
                                    "3": "6"
                                }
                            ]
                        },
                        "text/html": "<table><tr><th>ID</th><th>ClientName</th><th>Client.Colour</th><th>Client.Qty</th></tr><tr><td>1</td><td>Terry</td><td>Red</td><td>5</td></tr><tr><td>2</td><td>June</td><td>NULL</td><td>0</td></tr><tr><td>3</td><td>Kevin</td><td>Pink</td><td>6</td></tr></table>"
                    },
                    "metadata": {}
                }
            ],
            "execution_count": 16
        },
        {
            "cell_type": "markdown",
            "source": "<h2> Not that exciting we can all agree.  Just note the names of the last two columns</h3>\r\n<h3>\r\n<p>Client.Colour</p>\r\n<p>Client.Qty</p>\r\n<p>In previous queries we added FOR JSON PATH, this time we are going to add, FOR JSON PATH, ROOT('Client')",
            "metadata": {}
        },
        {
            "cell_type": "code",
            "source": "SELECT [ID]\r\n     , [ClientName]\r\n     , [Colour] AS [Client.Colour]\r\n     , [Qty]    AS [Client.Qty]\r\nFROM [dbo].[ExampleTable]\r\nFOR JSON PATH, ROOT('Client');",
            "metadata": {},
            "outputs": [
                {
                    "output_type": "display_data",
                    "data": {
                        "text/html": "(3 rows affected)"
                    },
                    "metadata": {}
                },
                {
                    "output_type": "display_data",
                    "data": {
                        "text/html": "Total execution time: 00:00:00.0243855"
                    },
                    "metadata": {}
                },
                {
                    "output_type": "execute_result",
                    "execution_count": 17,
                    "data": {
                        "application/vnd.dataresource+json": {
                            "schema": {
                                "fields": [
                                    {
                                        "name": "JSON_F52E2B61-18A1-11d1-B105-00805F49916B"
                                    }
                                ]
                            },
                            "data": [
                                {
                                    "0": "{\"Client\":[{\"ID\":1,\"ClientName\":\"Terry\",\"Client\":{\"Colour\":\"Red\",\"Qty\":5}},{\"ID\":2,\"ClientName\":\"June\",\"Client\":{\"Qty\":0}},{\"ID\":3,\"ClientName\":\"Kevin\",\"Client\":{\"Colour\":\"Pink\",\"Qty\":6}}]}"
                                }
                            ]
                        },
                        "text/html": "<table><tr><th>JSON_F52E2B61-18A1-11d1-B105-00805F49916B</th></tr><tr><td>{&quot;Client&quot;:[{&quot;ID&quot;:1,&quot;ClientName&quot;:&quot;Terry&quot;,&quot;Client&quot;:{&quot;Colour&quot;:&quot;Red&quot;,&quot;Qty&quot;:5}},{&quot;ID&quot;:2,&quot;ClientName&quot;:&quot;June&quot;,&quot;Client&quot;:{&quot;Qty&quot;:0}},{&quot;ID&quot;:3,&quot;ClientName&quot;:&quot;Kevin&quot;,&quot;Client&quot;:{&quot;Colour&quot;:&quot;Pink&quot;,&quot;Qty&quot;:6}}]}</td></tr></table>"
                    },
                    "metadata": {}
                }
            ],
            "execution_count": 17
        },
        {
            "cell_type": "markdown",
            "source": "<h2>We get some JSON outputed </h2>\r\n<h3>Note the node \"Client\" that has been added.  Again like previously the since the second record, since Client.Colour is a null value it is excluded from the record set.\r\n\r\n```Json\r\n[\r\n{\r\n    \"Client\": [\r\n        {\r\n            \"ID\": 1,\r\n            \"ClientName\": \"Terry\",\r\n            \"Client\": {\r\n                \"Colour\": \"Red\",\r\n                \"Qty\": 5\r\n            }\r\n        },\r\n        {\r\n            \"ID\": 2,\r\n            \"ClientName\": \"June\",\r\n            \"Client\": {\r\n                \"Qty\": 0\r\n            }\r\n        },\r\n        {\r\n            \"ID\": 3,\r\n            \"ClientName\": \"Kevin\",\r\n            \"Client\": {\r\n                \"Colour\": \"Pink\",\r\n                \"Qty\": 6\r\n            }\r\n        }\r\n    ]\r\n}\r\n```\r\n<h2>Notice that the second row of data which contained a **NULL** value is not outputted. <p> So what has happened, well sad panda is back....</h2> \r\n\r\n![sad panda](https://ih0.redbubble.net/image.93258900.0502/st%2Csmall%2C215x235-pad%2C210x230%2Cf8f8f8.lite-1.jpg \"Logo Title Text 1\")\r\n\r\n<h1>What can we do?</h1>\r\n<p>\r\n<h1>Is it possible to add INCLUDE_NULL_VALUES ?\r\n</h1>\r\n<BR>\r\n<BR>\r\n<BR>\r\n<BR>\r\n<BR>\r\n<BR>\r\n<BR>\r\n<BR>\r\n<BR>\r\n<BR>\r\n<BR>\r\n<BR>\r\n<BR>\r\n\r\n\r\n![Yes we can](https://images-na.ssl-images-amazon.com/images/I/51DJ3iyXvNL._SX425_.jpg \"Logo Title Text 1\")\r\n\r\n",
            "metadata": {}
        },
        {
            "cell_type": "code",
            "source": "SELECT [ID]\r\n     , [ClientName]\r\n     , [Colour] AS [Client.Colour]\r\n     , [Qty]    AS [Client.Qty]\r\nFROM [dbo].[ExampleTable]\r\nFOR JSON PATH, \r\nROOT('Client'), \r\nINCLUDE_NULL_VALUES;",
            "metadata": {},
            "outputs": [
                {
                    "output_type": "display_data",
                    "data": {
                        "text/html": "(3 rows affected)"
                    },
                    "metadata": {}
                },
                {
                    "output_type": "display_data",
                    "data": {
                        "text/html": "Total execution time: 00:00:00.0235442"
                    },
                    "metadata": {}
                },
                {
                    "output_type": "execute_result",
                    "execution_count": 18,
                    "data": {
                        "application/vnd.dataresource+json": {
                            "schema": {
                                "fields": [
                                    {
                                        "name": "JSON_F52E2B61-18A1-11d1-B105-00805F49916B"
                                    }
                                ]
                            },
                            "data": [
                                {
                                    "0": "{\"Client\":[{\"ID\":1,\"ClientName\":\"Terry\",\"Client\":{\"Colour\":\"Red\",\"Qty\":5}},{\"ID\":2,\"ClientName\":\"June\",\"Client\":{\"Colour\":null,\"Qty\":0}},{\"ID\":3,\"ClientName\":\"Kevin\",\"Client\":{\"Colour\":\"Pink\",\"Qty\":6}}]}"
                                }
                            ]
                        },
                        "text/html": "<table><tr><th>JSON_F52E2B61-18A1-11d1-B105-00805F49916B</th></tr><tr><td>{&quot;Client&quot;:[{&quot;ID&quot;:1,&quot;ClientName&quot;:&quot;Terry&quot;,&quot;Client&quot;:{&quot;Colour&quot;:&quot;Red&quot;,&quot;Qty&quot;:5}},{&quot;ID&quot;:2,&quot;ClientName&quot;:&quot;June&quot;,&quot;Client&quot;:{&quot;Colour&quot;:null,&quot;Qty&quot;:0}},{&quot;ID&quot;:3,&quot;ClientName&quot;:&quot;Kevin&quot;,&quot;Client&quot;:{&quot;Colour&quot;:&quot;Pink&quot;,&quot;Qty&quot;:6}}]}</td></tr></table>"
                    },
                    "metadata": {}
                }
            ],
            "execution_count": 18
        },
        {
            "cell_type": "markdown",
            "source": "<h1> Let's see that lovely formatted JSON </H1>\r\n\r\n```Json\r\n[\r\n{\r\n    \"Client\": [\r\n        {\r\n            \"ID\": 1,\r\n            \"ClientName\": \"Terry\",\r\n            \"Client\": {\r\n                \"Colour\": \"Red\",\r\n                \"Qty\": 5\r\n            }\r\n        },\r\n        {\r\n            \"ID\": 2,\r\n            \"ClientName\": \"June\",\r\n            \"Client\": {\r\n                \"Colour\": null, \r\n                \"Qty\": 0\r\n            }\r\n        },\r\n        {\r\n            \"ID\": 3,\r\n            \"ClientName\": \"Kevin\",\r\n            \"Client\": {\r\n                \"Colour\": \"Pink\",\r\n                \"Qty\": 6\r\n            }\r\n        }\r\n    ]\r\n}\r\n```",
            "metadata": {}
        }
    ]
}