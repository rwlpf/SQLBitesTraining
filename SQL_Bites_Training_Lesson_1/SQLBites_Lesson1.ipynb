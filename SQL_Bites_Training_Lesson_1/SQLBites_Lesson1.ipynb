{
    "metadata": {
        "kernelspec": {
            "name": "SQL",
            "display_name": "SQL",
            "language": "sql"
        },
        "language_info": {
            "name": "sql",
            "version": ""
        }
    },
    "nbformat_minor": 2,
    "nbformat": 4,
    "cells": [
        {
            "cell_type": "markdown",
            "source": [
                "   Below is a simple SQL \\*\\*SELECT\\*\\* statement\n",
                "\n",
                "```\n",
                "    SELECT\n",
                "        column1, \n",
                "        column2, \n",
                "        columnN \n",
                "        FROM \n",
                "        Table_name\n",
                "```\n",
                "```\n",
                "These are the connect details\n",
                "```\n",
                "```\n",
                "Server: sqlservercentralpublic.database.windows.net\n",
                "```\n",
                "```\n",
                "Database: AdventureWorks\n",
                "User: sqlfamily\n",
                "Password: sqlf@m1ly\n",
                "```"
            ],
            "metadata": {
                "azdata_cell_guid": "f896bc93-3bdd-4b5d-b57f-7d3e3002aab0"
            }
        },
        {
            "cell_type": "code",
            "source": [
                "SELECT\r\n",
                "column1, \r\n",
                "column2, \r\n",
                "columnN \r\n",
                "FROM \r\n",
                "Table_name\r\n",
                "WHERE condition;"
            ],
            "metadata": {
                "azdata_cell_guid": "fc394f34-d87f-48dd-a6c8-94ef0a8b628f"
            },
            "outputs": [],
            "execution_count": null
        },
        {
            "cell_type": "code",
            "source": [
                "USE SQL_AdventureWork_SB;\r\n",
                "GO\r\n",
                "\r\n",
                "/****** Object:  Table [dbo].[Orders]    Script Date: 20/04/2018 14:33:47 ******/\r\n",
                "SET ANSI_NULLS ON\r\n",
                "GO\r\n",
                "SET QUOTED_IDENTIFIER ON\r\n",
                "GO\r\n",
                "\r\n",
                "CREATE TABLE [#Orders](\r\n",
                "\t[ID] [int] NULL,\r\n",
                "\t[Item] [nvarchar](50) NULL,\r\n",
                "\t[UserID] [int] NULL\r\n",
                ") \r\n",
                "GO\r\n",
                "/****** Object:  Table [dbo].[Users]    Script Date: 20/04/2018 14:33:47 ******/\r\n",
                "SET ANSI_NULLS ON\r\n",
                "GO\r\n",
                "SET QUOTED_IDENTIFIER ON\r\n",
                "GO\r\n",
                "\r\n",
                "IF OBJECT_ID('dbo.Users', 'U') IS NOT NULL \r\n",
                "  DROP TABLE dbo.Users; \r\n",
                "\r\n",
                "CREATE TABLE [dbo].[Users](\r\n",
                "\t[ID] [int] NULL,\r\n",
                "\t[Name] [nvarchar](50) NULL\r\n",
                ") ON [PRIMARY]\r\n",
                "GO\r\n",
                "\r\n",
                "INSERT [dbo].[Orders] ([ID], [Item], [UserID]) VALUES (1, N'Pizza', 1)\r\n",
                "INSERT [dbo].[Orders] ([ID], [Item], [UserID]) VALUES (2, N'soda', 1)\r\n",
                "INSERT [dbo].[Orders] ([ID], [Item], [UserID]) VALUES (3, N'french fries', 1)\r\n",
                "INSERT [dbo].[Orders] ([ID], [Item], [UserID]) VALUES (4, N'french fries', 2)\r\n",
                "INSERT [dbo].[Orders] ([ID], [Item], [UserID]) VALUES (5, N'burger', 4)\r\n",
                "INSERT [dbo].[Orders] ([ID], [Item], [UserID]) VALUES (6, N'soda', 4)\r\n",
                "INSERT [dbo].[Orders] ([ID], [Item], [UserID]) VALUES (7, N'Pizza', 5)\r\n",
                "INSERT [dbo].[Orders] ([ID], [Item], [UserID]) VALUES (8, N'burger', 99)\r\n",
                "INSERT [dbo].[Users] ([ID], [Name]) VALUES (1, N'Dave')\r\n",
                "INSERT [dbo].[Users] ([ID], [Name]) VALUES (2, N'Jennifer')\r\n",
                "INSERT [dbo].[Users] ([ID], [Name]) VALUES (3, N'Ben')\r\n",
                "INSERT [dbo].[Users] ([ID], [Name]) VALUES (4, N'Tara')\r\n",
                "INSERT [dbo].[Users] ([ID], [Name]) VALUES (5, N'Justin')\r\n",
                "INSERT [dbo].[Users] ([ID], [Name]) VALUES (6, N'Praveen')"
            ],
            "metadata": {
                "azdata_cell_guid": "3186226d-a5de-4a26-ade5-2229ca682ede"
            },
            "outputs": [
                {
                    "output_type": "error",
                    "evalue": "Msg 40508, Level 16, State 1, Line 1\r\nUSE statement is not supported to switch between databases. Use a new connection to connect to a different database.",
                    "ename": "",
                    "traceback": []
                },
                {
                    "output_type": "display_data",
                    "data": {
                        "text/html": "Commands completed successfully."
                    },
                    "metadata": {}
                },
                {
                    "output_type": "display_data",
                    "data": {
                        "text/html": "Commands completed successfully."
                    },
                    "metadata": {}
                },
                {
                    "output_type": "error",
                    "evalue": "Msg 262, Level 14, State 1, Line 13\r\nCREATE TABLE permission denied in database 'AdventureWorks'.",
                    "ename": "",
                    "traceback": []
                },
                {
                    "output_type": "display_data",
                    "data": {
                        "text/html": "Commands completed successfully."
                    },
                    "metadata": {}
                },
                {
                    "output_type": "display_data",
                    "data": {
                        "text/html": "Commands completed successfully."
                    },
                    "metadata": {}
                },
                {
                    "output_type": "error",
                    "evalue": "Msg 262, Level 14, State 1, Line 28\r\nCREATE TABLE permission denied in database 'AdventureWorks'.",
                    "ename": "",
                    "traceback": []
                },
                {
                    "output_type": "error",
                    "evalue": "Msg 208, Level 16, State 1, Line 34\r\nInvalid object name 'dbo.Orders'.",
                    "ename": "",
                    "traceback": []
                },
                {
                    "output_type": "display_data",
                    "data": {
                        "text/html": "Total execution time: 00:00:00.780"
                    },
                    "metadata": {}
                }
            ],
            "execution_count": 1
        }
    ]
}